{
 "cells": [
  {
   "cell_type": "code",
   "execution_count": 2,
   "metadata": {
    "vscode": {
     "languageId": "r"
    }
   },
   "outputs": [
    {
     "name": "stderr",
     "output_type": "stream",
     "text": [
      "Loading required package: viridisLite\n",
      "\n",
      "\n",
      "Attaching package: 'dplyr'\n",
      "\n",
      "\n",
      "The following objects are masked from 'package:stats':\n",
      "\n",
      "    filter, lag\n",
      "\n",
      "\n",
      "The following objects are masked from 'package:base':\n",
      "\n",
      "    intersect, setdiff, setequal, union\n",
      "\n",
      "\n",
      "\n",
      "Attaching package: 'glmGamPoi'\n",
      "\n",
      "\n",
      "The following object is masked from 'package:dplyr':\n",
      "\n",
      "    vars\n",
      "\n",
      "\n",
      "\n",
      "Attaching package: 'purrr'\n",
      "\n",
      "\n",
      "The following object is masked from 'package:magrittr':\n",
      "\n",
      "    set_names\n",
      "\n",
      "\n",
      "Loading required package: SummarizedExperiment\n",
      "\n",
      "Loading required package: MatrixGenerics\n",
      "\n",
      "Loading required package: matrixStats\n",
      "\n",
      "\n",
      "Attaching package: 'matrixStats'\n",
      "\n",
      "\n",
      "The following object is masked from 'package:dplyr':\n",
      "\n",
      "    count\n",
      "\n",
      "\n",
      "\n",
      "Attaching package: 'MatrixGenerics'\n",
      "\n",
      "\n",
      "The following objects are masked from 'package:matrixStats':\n",
      "\n",
      "    colAlls, colAnyNAs, colAnys, colAvgsPerRowSet, colCollapse,\n",
      "    colCounts, colCummaxs, colCummins, colCumprods, colCumsums,\n",
      "    colDiffs, colIQRDiffs, colIQRs, colLogSumExps, colMadDiffs,\n",
      "    colMads, colMaxs, colMeans2, colMedians, colMins, colOrderStats,\n",
      "    colProds, colQuantiles, colRanges, colRanks, colSdDiffs, colSds,\n",
      "    colSums2, colTabulates, colVarDiffs, colVars, colWeightedMads,\n",
      "    colWeightedMeans, colWeightedMedians, colWeightedSds,\n",
      "    colWeightedVars, rowAlls, rowAnyNAs, rowAnys, rowAvgsPerColSet,\n",
      "    rowCollapse, rowCounts, rowCummaxs, rowCummins, rowCumprods,\n",
      "    rowCumsums, rowDiffs, rowIQRDiffs, rowIQRs, rowLogSumExps,\n",
      "    rowMadDiffs, rowMads, rowMaxs, rowMeans2, rowMedians, rowMins,\n",
      "    rowOrderStats, rowProds, rowQuantiles, rowRanges, rowRanks,\n",
      "    rowSdDiffs, rowSds, rowSums2, rowTabulates, rowVarDiffs, rowVars,\n",
      "    rowWeightedMads, rowWeightedMeans, rowWeightedMedians,\n",
      "    rowWeightedSds, rowWeightedVars\n",
      "\n",
      "\n",
      "Loading required package: GenomicRanges\n",
      "\n",
      "Loading required package: stats4\n",
      "\n",
      "Loading required package: BiocGenerics\n",
      "\n",
      "\n",
      "Attaching package: 'BiocGenerics'\n",
      "\n",
      "\n",
      "The following objects are masked from 'package:dplyr':\n",
      "\n",
      "    combine, intersect, setdiff, union\n",
      "\n",
      "\n",
      "The following objects are masked from 'package:stats':\n",
      "\n",
      "    IQR, mad, sd, var, xtabs\n",
      "\n",
      "\n",
      "The following objects are masked from 'package:base':\n",
      "\n",
      "    Filter, Find, Map, Position, Reduce, anyDuplicated, aperm, append,\n",
      "    as.data.frame, basename, cbind, colnames, dirname, do.call,\n",
      "    duplicated, eval, evalq, get, grep, grepl, intersect, is.unsorted,\n",
      "    lapply, mapply, match, mget, order, paste, pmax, pmax.int, pmin,\n",
      "    pmin.int, rank, rbind, rownames, sapply, setdiff, sort, table,\n",
      "    tapply, union, unique, unsplit, which.max, which.min\n",
      "\n",
      "\n",
      "Loading required package: S4Vectors\n",
      "\n",
      "\n",
      "Attaching package: 'S4Vectors'\n",
      "\n",
      "\n",
      "The following objects are masked from 'package:Matrix':\n",
      "\n",
      "    expand, unname\n",
      "\n",
      "\n",
      "The following objects are masked from 'package:dplyr':\n",
      "\n",
      "    first, rename\n",
      "\n",
      "\n",
      "The following object is masked from 'package:utils':\n",
      "\n",
      "    findMatches\n",
      "\n",
      "\n",
      "The following objects are masked from 'package:base':\n",
      "\n",
      "    I, expand.grid, unname\n",
      "\n",
      "\n",
      "Loading required package: IRanges\n",
      "\n",
      "\n",
      "Attaching package: 'IRanges'\n",
      "\n",
      "\n",
      "The following object is masked from 'package:purrr':\n",
      "\n",
      "    reduce\n",
      "\n",
      "\n",
      "The following objects are masked from 'package:dplyr':\n",
      "\n",
      "    collapse, desc, slice\n",
      "\n",
      "\n",
      "Loading required package: GenomeInfoDb\n",
      "\n",
      "\n",
      "Attaching package: 'GenomicRanges'\n",
      "\n",
      "\n",
      "The following object is masked from 'package:magrittr':\n",
      "\n",
      "    subtract\n",
      "\n",
      "\n",
      "Loading required package: Biobase\n",
      "\n",
      "Welcome to Bioconductor\n",
      "\n",
      "    Vignettes contain introductory material; view with\n",
      "    'browseVignettes()'. To cite Bioconductor, see\n",
      "    'citation(\"Biobase\")', and for packages 'citation(\"pkgname\")'.\n",
      "\n",
      "\n",
      "\n",
      "Attaching package: 'Biobase'\n",
      "\n",
      "\n",
      "The following object is masked from 'package:MatrixGenerics':\n",
      "\n",
      "    rowMedians\n",
      "\n",
      "\n",
      "The following objects are masked from 'package:matrixStats':\n",
      "\n",
      "    anyMissing, rowMedians\n",
      "\n",
      "\n",
      "\n",
      "Attaching package: 'zoo'\n",
      "\n",
      "\n",
      "The following objects are masked from 'package:base':\n",
      "\n",
      "    as.Date, as.Date.numeric\n",
      "\n",
      "\n"
     ]
    }
   ],
   "source": [
    "setwd(\"~/Documents/Upd-Germline\")\n",
    "source(\"_targets.R\")"
   ]
  },
  {
   "cell_type": "markdown",
   "metadata": {},
   "source": [
    "## Histone mark profile plot - local maxima and their significance to the \"off\" genes t-test"
   ]
  },
  {
   "cell_type": "code",
   "execution_count": 3,
   "metadata": {
    "vscode": {
     "languageId": "r"
    }
   },
   "outputs": [],
   "source": [
    "tar_load(matches(\"^chic.heatmap.tss_H3K(4|27|9)_(Germline|Somatic)_CN_chr\"))\n",
    "tar_load(c(quartile.factor_Germline, quartile.factor_Somatic))"
   ]
  },
  {
   "cell_type": "code",
   "execution_count": 6,
   "metadata": {
    "vscode": {
     "languageId": "r"
    }
   },
   "outputs": [
    {
     "data": {
      "text/html": [
       "TRUE"
      ],
      "text/latex": [
       "TRUE"
      ],
      "text/markdown": [
       "TRUE"
      ],
      "text/plain": [
       "[1] TRUE"
      ]
     },
     "metadata": {},
     "output_type": "display_data"
    }
   ],
   "source": [
    "all.equal(\n",
    "  sort(match(rownames(chic.heatmap.tss_H3K27_Somatic_CN_chr), names(quartile.factor_Somatic))),\n",
    "  seq_along(quartile.factor_Somatic)\n",
    ")"
   ]
  },
  {
   "cell_type": "code",
   "execution_count": 64,
   "metadata": {
    "vscode": {
     "languageId": "r"
    }
   },
   "outputs": [
    {
     "name": "stdout",
     "output_type": "stream",
     "text": [
      "\u001b[90m# A tibble: 18 x 8\u001b[39m\n",
      "   celltype panel    rowname level x           t  p.adjust signif\n",
      "   \u001b[3m\u001b[90m<chr>\u001b[39m\u001b[23m    \u001b[3m\u001b[90m<chr>\u001b[39m\u001b[23m    \u001b[3m\u001b[90m<chr>\u001b[39m\u001b[23m   \u001b[3m\u001b[90m<chr>\u001b[39m\u001b[23m \u001b[3m\u001b[90m<chr>\u001b[39m\u001b[23m   \u001b[3m\u001b[90m<dbl>\u001b[39m\u001b[23m     \u001b[3m\u001b[90m<dbl>\u001b[39m\u001b[23m \u001b[3m\u001b[90m<fct>\u001b[39m\u001b[23m \n",
      "\u001b[90m 1\u001b[39m Germline H3K4me3  low     Q2    131    24.1   1.51\u001b[90me\u001b[39m\u001b[31m-114\u001b[39m \u001b[90m\"\u001b[39m****\u001b[90m\"\u001b[39m\n",
      "\u001b[90m 2\u001b[39m Germline H3K4me3  medium  Q3    132    37.4   9.17\u001b[90me\u001b[39m\u001b[31m-242\u001b[39m \u001b[90m\"\u001b[39m****\u001b[90m\"\u001b[39m\n",
      "\u001b[90m 3\u001b[39m Germline H3K4me3  high    Q4    132    40.1   4.40\u001b[90me\u001b[39m\u001b[31m-271\u001b[39m \u001b[90m\"\u001b[39m****\u001b[90m\"\u001b[39m\n",
      "\u001b[90m 4\u001b[39m Germline H3K27me3 low     Q2    133    -\u001b[31m2\u001b[39m\u001b[31m.\u001b[39m\u001b[31m82\u001b[39m  1.92\u001b[90me\u001b[39m\u001b[31m-  2\u001b[39m \u001b[90m\"\u001b[39m*\u001b[90m\"\u001b[39m   \n",
      "\u001b[90m 5\u001b[39m Germline H3K27me3 medium  Q3    133    -\u001b[31m1\u001b[39m\u001b[31m.\u001b[39m\u001b[31m93\u001b[39m  1.59\u001b[90me\u001b[39m\u001b[31m-  1\u001b[39m \u001b[90m\"\u001b[39m\u001b[90m\"\u001b[39m    \n",
      "\u001b[90m 6\u001b[39m Germline H3K27me3 high    Q4    -30    -\u001b[31m1\u001b[39m\u001b[31m.\u001b[39m\u001b[31m49\u001b[39m  2.71\u001b[90me\u001b[39m\u001b[31m-  1\u001b[39m \u001b[90m\"\u001b[39m\u001b[90m\"\u001b[39m    \n",
      "\u001b[90m 7\u001b[39m Germline H3K9me3  low     Q2    -14     4.37  6.35\u001b[90me\u001b[39m\u001b[31m-  5\u001b[39m \u001b[90m\"\u001b[39m****\u001b[90m\"\u001b[39m\n",
      "\u001b[90m 8\u001b[39m Germline H3K9me3  medium  Q3    -10     6.52  6.64\u001b[90me\u001b[39m\u001b[31m- 10\u001b[39m \u001b[90m\"\u001b[39m****\u001b[90m\"\u001b[39m\n",
      "\u001b[90m 9\u001b[39m Germline H3K9me3  high    Q4    -10     5.29  9.92\u001b[90me\u001b[39m\u001b[31m-  7\u001b[39m \u001b[90m\"\u001b[39m****\u001b[90m\"\u001b[39m\n",
      "\u001b[90m10\u001b[39m Somatic  H3K4me3  low     Q2    308     9.31  1.70\u001b[90me\u001b[39m\u001b[31m- 19\u001b[39m \u001b[90m\"\u001b[39m****\u001b[90m\"\u001b[39m\n",
      "\u001b[90m11\u001b[39m Somatic  H3K4me3  medium  Q3    134    10.7   2.91\u001b[90me\u001b[39m\u001b[31m- 25\u001b[39m \u001b[90m\"\u001b[39m****\u001b[90m\"\u001b[39m\n",
      "\u001b[90m12\u001b[39m Somatic  H3K4me3  high    Q4    135     8.96  3.91\u001b[90me\u001b[39m\u001b[31m- 18\u001b[39m \u001b[90m\"\u001b[39m****\u001b[90m\"\u001b[39m\n",
      "\u001b[90m13\u001b[39m Somatic  H3K27me3 low     Q2    483     5.24  1.16\u001b[90me\u001b[39m\u001b[31m-  6\u001b[39m \u001b[90m\"\u001b[39m****\u001b[90m\"\u001b[39m\n",
      "\u001b[90m14\u001b[39m Somatic  H3K27me3 medium  Q3    487     4.55  3.31\u001b[90me\u001b[39m\u001b[31m-  5\u001b[39m \u001b[90m\"\u001b[39m****\u001b[90m\"\u001b[39m\n",
      "\u001b[90m15\u001b[39m Somatic  H3K27me3 high    Q4    490    -\u001b[31m0\u001b[39m\u001b[31m.\u001b[39m\u001b[31m934\u001b[39m 3.51\u001b[90me\u001b[39m\u001b[31m-  1\u001b[39m \u001b[90m\"\u001b[39m\u001b[90m\"\u001b[39m    \n",
      "\u001b[90m16\u001b[39m Somatic  H3K9me3  low     Q2    -13    -\u001b[31m8\u001b[39m\u001b[31m.\u001b[39m\u001b[31m74\u001b[39m  3.56\u001b[90me\u001b[39m\u001b[31m- 17\u001b[39m \u001b[90m\"\u001b[39m****\u001b[90m\"\u001b[39m\n",
      "\u001b[90m17\u001b[39m Somatic  H3K9me3  medium  Q3    -14    -\u001b[31m9\u001b[39m\u001b[31m.\u001b[39m\u001b[31m56\u001b[39m  2.98\u001b[90me\u001b[39m\u001b[31m- 20\u001b[39m \u001b[90m\"\u001b[39m****\u001b[90m\"\u001b[39m\n",
      "\u001b[90m18\u001b[39m Somatic  H3K9me3  high    Q4    -16   -\u001b[31m11\u001b[39m\u001b[31m.\u001b[39m\u001b[31m7\u001b[39m   8.18\u001b[90me\u001b[39m\u001b[31m- 30\u001b[39m \u001b[90m\"\u001b[39m****\u001b[90m\"\u001b[39m\n"
     ]
    }
   ],
   "source": [
    "data <- tibble(\n",
    "  cross_join(\n",
    "    tibble(\n",
    "      celltype = c(\"Germline\", \"Germline\", \"Germline\", \"Somatic\", \"Somatic\", \"Somatic\"),\n",
    "      panel = c(\"H3K4me3\", \"H3K27me3\", \"H3K9me3\", \"H3K4me3\", \"H3K27me3\", \"H3K9me3\"),\n",
    "      heatmap = list(\n",
    "        chic.heatmap.tss_H3K4_Germline_CN_chr,\n",
    "        chic.heatmap.tss_H3K27_Germline_CN_chr,\n",
    "        chic.heatmap.tss_H3K9_Germline_CN_chr,\n",
    "        chic.heatmap.tss_H3K4_Somatic_CN_chr,\n",
    "        chic.heatmap.tss_H3K27_Somatic_CN_chr,\n",
    "        chic.heatmap.tss_H3K9_Somatic_CN_chr\n",
    "      )\n",
    "    ),\n",
    "    tibble(\n",
    "      rowname = c(\"low\", \"medium\", \"high\"),\n",
    "      level = c(\"Q2\", \"Q3\", \"Q4\"),\n",
    "    ),\n",
    "  ),\n",
    "  quant = mapply(\n",
    "    \\(celltype, heatmap) get(str_glue(\"quartile.factor_\", celltype))[rownames(heatmap)],\n",
    "    celltype,\n",
    "    heatmap,\n",
    "    SIMPLIFY=FALSE\n",
    "  ),\n",
    "  x = mapply(\n",
    "    \\(level, heatmap, quant) colnames(heatmap)[\n",
    "      which.max(\n",
    "        colMeans(heatmap[quant == level, 1:1000], na.rm=T) %>%\n",
    "          replace(\n",
    "            c(\n",
    "              1,\n",
    "              1 + which(\n",
    "                diff(diff(colMeans(heatmap[quant == level, 1:1000], na.rm=T))) >= -1e-4\n",
    "              ),\n",
    "              1000\n",
    "            ),\n",
    "            0\n",
    "          )\n",
    "      )\n",
    "    ],\n",
    "    level,\n",
    "    heatmap,\n",
    "    quant\n",
    "  ),\n",
    "  ttest = mapply(\n",
    "    \\(heatmap, quant, level, x) t.test(\n",
    "      heatmap[quant == level, x],\n",
    "      heatmap[quant == \"Q1\", x]\n",
    "    ),\n",
    "    heatmap,\n",
    "    quant,\n",
    "    level,\n",
    "    x,\n",
    "    SIMPLIFY=FALSE\n",
    "  ),\n",
    "  t = sapply(ttest, \\(obj) obj$statistic[\"t\"]),\n",
    "  p.adjust = p.adjust(\n",
    "    sapply(\n",
    "      ttest,\n",
    "      \\(obj) obj$p.value\n",
    "    )\n",
    "  ),\n",
    "  signif = structure(\n",
    "    cut(p.adjust, c(-Inf, 1e-4, 1e-3, 1e-2, 5e-2, Inf)),\n",
    "    levels = c(\"****\", \"***\", \"**\", \"*\", \"\"),\n",
    "    class = \"factor\"\n",
    "  )\n",
    ") %>%\n",
    "  subset(select=-c(heatmap,quant,ttest)) %>%\n",
    "  print()"
   ]
  },
  {
   "cell_type": "code",
   "execution_count": 66,
   "metadata": {
    "vscode": {
     "languageId": "r"
    }
   },
   "outputs": [],
   "source": [
    "tar_load(\n",
    "  c(\n",
    "    chic.heatmap.tss.nucleosome_H3K27_Germline_CN_chr,\n",
    "    chic.heatmap.tss.nucleosome_H3K27_Somatic_CN_chr\n",
    "  )\n",
    ")"
   ]
  },
  {
   "cell_type": "code",
   "execution_count": 68,
   "metadata": {
    "vscode": {
     "languageId": "r"
    }
   },
   "outputs": [
    {
     "name": "stdout",
     "output_type": "stream",
     "text": [
      "\u001b[90m# A tibble: 6 x 7\u001b[39m\n",
      "  celltype rowname level x         t  p.adjust signif\n",
      "  \u001b[3m\u001b[90m<chr>\u001b[39m\u001b[23m    \u001b[3m\u001b[90m<chr>\u001b[39m\u001b[23m   \u001b[3m\u001b[90m<chr>\u001b[39m\u001b[23m \u001b[3m\u001b[90m<chr>\u001b[39m\u001b[23m \u001b[3m\u001b[90m<dbl>\u001b[39m\u001b[23m     \u001b[3m\u001b[90m<dbl>\u001b[39m\u001b[23m \u001b[3m\u001b[90m<fct>\u001b[39m\u001b[23m \n",
      "\u001b[90m1\u001b[39m Germline low     Q2    131    29.9 7.84\u001b[90me\u001b[39m\u001b[31m-168\u001b[39m ****  \n",
      "\u001b[90m2\u001b[39m Germline medium  Q3    133    47.1 0   \u001b[90m \u001b[39m     ****  \n",
      "\u001b[90m3\u001b[39m Germline high    Q4    134    46.5 0   \u001b[90m \u001b[39m     ****  \n",
      "\u001b[90m4\u001b[39m Somatic  low     Q2    129    34.1 4.06\u001b[90me\u001b[39m\u001b[31m-208\u001b[39m ****  \n",
      "\u001b[90m5\u001b[39m Somatic  medium  Q3    131    42.2 2.22\u001b[90me\u001b[39m\u001b[31m-290\u001b[39m ****  \n",
      "\u001b[90m6\u001b[39m Somatic  high    Q4    133    38.2 1.02\u001b[90me\u001b[39m\u001b[31m-248\u001b[39m ****  \n"
     ]
    }
   ],
   "source": [
    "data <- tibble(\n",
    "  cross_join(\n",
    "    tibble(\n",
    "      celltype = c(\"Germline\", \"Somatic\"),\n",
    "      heatmap = list(\n",
    "        chic.heatmap.tss.nucleosome_H3K27_Germline_CN_chr,\n",
    "        chic.heatmap.tss.nucleosome_H3K27_Somatic_CN_chr\n",
    "      )\n",
    "    ),\n",
    "    tibble(\n",
    "      rowname = c(\"low\", \"medium\", \"high\"),\n",
    "      level = c(\"Q2\", \"Q3\", \"Q4\"),\n",
    "    ),\n",
    "  ),\n",
    "  quant = mapply(\n",
    "    \\(celltype, heatmap) get(str_glue(\"quartile.factor_\", celltype))[rownames(heatmap)],\n",
    "    celltype,\n",
    "    heatmap,\n",
    "    SIMPLIFY=FALSE\n",
    "  ),\n",
    "  x = mapply(\n",
    "    \\(level, heatmap, quant) colnames(heatmap)[\n",
    "      which.max(\n",
    "        colMeans(heatmap[quant == level, 1:1000], na.rm=T) %>%\n",
    "          replace(\n",
    "            c(\n",
    "              1,\n",
    "              1 + which(\n",
    "                diff(diff(colMeans(heatmap[quant == level, 1:1000], na.rm=T))) >= -1e-4\n",
    "              ),\n",
    "              1000\n",
    "            ),\n",
    "            0\n",
    "          )\n",
    "      )\n",
    "    ],\n",
    "    level,\n",
    "    heatmap,\n",
    "    quant\n",
    "  ),\n",
    "  ttest = mapply(\n",
    "    \\(heatmap, quant, level, x) t.test(\n",
    "      heatmap[quant == level, x],\n",
    "      heatmap[quant == \"Q1\", x]\n",
    "    ),\n",
    "    heatmap,\n",
    "    quant,\n",
    "    level,\n",
    "    x,\n",
    "    SIMPLIFY=FALSE\n",
    "  ),\n",
    "  t = sapply(ttest, \\(obj) obj$statistic[\"t\"]),\n",
    "  p.adjust = p.adjust(\n",
    "    sapply(\n",
    "      ttest,\n",
    "      \\(obj) obj$p.value\n",
    "    )\n",
    "  ),\n",
    "  signif = structure(\n",
    "    cut(p.adjust, c(-Inf, 1e-4, 1e-3, 1e-2, 5e-2, Inf)),\n",
    "    levels = c(\"****\", \"***\", \"**\", \"*\", \"\"),\n",
    "    class = \"factor\"\n",
    "  )\n",
    ") %>%\n",
    "  subset(select=-c(heatmap,quant,ttest)) %>%\n",
    "  print()"
   ]
  },
  {
   "cell_type": "markdown",
   "metadata": {},
   "source": [
    "## Histone mark at the gene midpoint - t-test"
   ]
  },
  {
   "cell_type": "code",
   "execution_count": 73,
   "metadata": {
    "vscode": {
     "languageId": "r"
    }
   },
   "outputs": [],
   "source": [
    "tar_load(matches(\"^chic.heatmap.paneled_H3K(4|27)_(Germline|Somatic)_CN_chr\"))"
   ]
  },
  {
   "cell_type": "code",
   "execution_count": 79,
   "metadata": {
    "vscode": {
     "languageId": "r"
    }
   },
   "outputs": [
    {
     "name": "stdout",
     "output_type": "stream",
     "text": [
      "\u001b[90m# A tibble: 2 x 5\u001b[39m\n",
      "  mark     x           t p.adjust signif\n",
      "  \u001b[3m\u001b[90m<chr>\u001b[39m\u001b[23m    \u001b[3m\u001b[90m<chr>\u001b[39m\u001b[23m   \u001b[3m\u001b[90m<dbl>\u001b[39m\u001b[23m    \u001b[3m\u001b[90m<dbl>\u001b[39m\u001b[23m \u001b[3m\u001b[90m<fct>\u001b[39m\u001b[23m \n",
      "\u001b[90m1\u001b[39m H3K4me3  50%     0.105 9.17\u001b[90me\u001b[39m\u001b[31m- 1\u001b[39m \u001b[90m\"\u001b[39m\u001b[90m\"\u001b[39m    \n",
      "\u001b[90m2\u001b[39m H3K27me3 50%   -\u001b[31m20\u001b[39m\u001b[31m.\u001b[39m\u001b[31m0\u001b[39m   2.39\u001b[90me\u001b[39m\u001b[31m-87\u001b[39m \u001b[90m\"\u001b[39m****\u001b[90m\"\u001b[39m\n"
     ]
    }
   ],
   "source": [
    "data <- tribble(\n",
    "  ~mark, ~germline, ~somatic,\n",
    "  \"H3K4me3\", chic.heatmap.paneled_H3K4_Germline_CN_chr, chic.heatmap.paneled_H3K4_Somatic_CN_chr,\n",
    "  \"H3K27me3\", chic.heatmap.paneled_H3K27_Germline_CN_chr, chic.heatmap.paneled_H3K27_Somatic_CN_chr,\n",
    ") %>%\n",
    "  rowwise() %>%\n",
    "  reframe(\n",
    "    mark,\n",
    "    ttest = t.test(\n",
    "      germline[\n",
    "        names(quartile.factor_Germline)[quartile.factor_Germline != \"Q1\"],\n",
    "        \"50%\"\n",
    "      ],\n",
    "      somatic[\n",
    "        names(quartile.factor_Somatic)[quartile.factor_Somatic != \"Q1\"],\n",
    "        \"50%\"\n",
    "      ]\n",
    "    ) %>%\n",
    "      list(),\n",
    "    x = \"50%\",\n",
    "    t = ttest$statistic[\"t\"],\n",
    "    p.adjust = ttest$p.value,\n",
    "  ) %>%\n",
    "  mutate(\n",
    "    p.adjust = p.adjust(p.adjust),\n",
    "    signif = structure(\n",
    "      cut(p.adjust, c(-Inf, 1e-4, 1e-3, 1e-2, 5e-2, Inf)),\n",
    "      levels = c(\"****\", \"***\", \"**\", \"*\", \"\"),\n",
    "      class = \"factor\"\n",
    "    )\n",
    "  ) %>%\n",
    "  subset(select = -ttest) %>%\n",
    "  print()"
   ]
  },
  {
   "cell_type": "markdown",
   "metadata": {},
   "source": [
    "## Transposable elements selected for the violin plot and their L2FC t-test"
   ]
  },
  {
   "cell_type": "code",
   "execution_count": 82,
   "metadata": {
    "vscode": {
     "languageId": "r"
    }
   },
   "outputs": [],
   "source": [
    "tar_load(\n",
    "  enriched.transposable.elements.peakcalling.broad.masked\n",
    ")\n",
    "H3K4_Germline <- tar_read(chic.experiment.quantify_H3K4_Germline_peakcalling.broad_masked)[enriched.transposable.elements.peakcalling.broad.masked]\n",
    "H3K4_Somatic <- tar_read(chic.experiment.quantify_H3K4_Somatic_peakcalling.broad_masked)[enriched.transposable.elements.peakcalling.broad.masked]\n",
    "H3K27_Germline <- tar_read(chic.experiment.quantify_H3K27_Germline_peakcalling.broad_masked)[enriched.transposable.elements.peakcalling.broad.masked]\n",
    "H3K27_Somatic <- tar_read(chic.experiment.quantify_H3K27_Somatic_peakcalling.broad_masked)[enriched.transposable.elements.peakcalling.broad.masked]\n",
    "H3K9_Germline <- tar_read(chic.experiment.quantify_H3K9_Germline_peakcalling.broad_masked)[enriched.transposable.elements.peakcalling.broad.masked]\n",
    "H3K9_Somatic <- tar_read(chic.experiment.quantify_H3K9_Somatic_peakcalling.broad_masked)[enriched.transposable.elements.peakcalling.broad.masked]"
   ]
  },
  {
   "cell_type": "code",
   "execution_count": null,
   "metadata": {
    "vscode": {
     "languageId": "r"
    }
   },
   "outputs": [
    {
     "name": "stdout",
     "output_type": "stream",
     "text": [
      "\u001b[90m# A tibble: 3 x 5\u001b[39m\n",
      "  mark     ttest       t p.adjust signif\n",
      "  \u001b[3m\u001b[90m<chr>\u001b[39m\u001b[23m    \u001b[3m\u001b[90m<list>\u001b[39m\u001b[23m  \u001b[3m\u001b[90m<dbl>\u001b[39m\u001b[23m    \u001b[3m\u001b[90m<dbl>\u001b[39m\u001b[23m \u001b[3m\u001b[90m<fct>\u001b[39m\u001b[23m \n",
      "\u001b[90m1\u001b[39m H3K4me3  \u001b[90m<htest>\u001b[39m  3.50 1.30\u001b[90me\u001b[39m\u001b[31m- 3\u001b[39m **    \n",
      "\u001b[90m2\u001b[39m H3K27me3 \u001b[90m<htest>\u001b[39m -\u001b[31m2\u001b[39m\u001b[31m.\u001b[39m\u001b[31m40\u001b[39m 1.79\u001b[90me\u001b[39m\u001b[31m- 2\u001b[39m *     \n",
      "\u001b[90m3\u001b[39m H3K9me3  \u001b[90m<htest>\u001b[39m  8.55 1.52\u001b[90me\u001b[39m\u001b[31m-13\u001b[39m ****  \n"
     ]
    }
   ],
   "source": [
    "plot_features <- which(\n",
    "    H3K4_Germline$score.molH3 >= 0.5 &\n",
    "      H3K27_Germline$score.molH3 >= 0.5 &\n",
    "      H3K9_Germline$score.molH3 >= 0.5 &\n",
    "      H3K4_Somatic$score.molH3 >= 0.5 &\n",
    "      H3K27_Somatic$score.molH3 >= 0.5 &\n",
    "      H3K9_Somatic$score.molH3 >= 0.5\n",
    "  )\n",
    "data <- tribble(\n",
    "  ~mark, ~germline, ~somatic,\n",
    "  \"H3K4me3\", H3K4_Germline$L2FC[plot_features], H3K4_Somatic$L2FC[plot_features],\n",
    "  \"H3K27me3\", H3K27_Germline$L2FC[plot_features], H3K27_Somatic$L2FC[plot_features],\n",
    "  \"H3K9me3\", H3K9_Germline$L2FC[plot_features], H3K9_Somatic$L2FC[plot_features],\n",
    ") %>%\n",
    "  rowwise() %>%\n",
    "  reframe(\n",
    "    mark,\n",
    "    ttest = t.test(germline, somatic, paired=T) %>% list(),\n",
    "    t = ttest$statistic[\"t\"],\n",
    "    p.adjust = ttest$p.value,\n",
    "  ) %>%\n",
    "  mutate(\n",
    "    p.adjust = p.adjust(p.adjust),\n",
    "    signif = structure(\n",
    "      cut(p.adjust, c(-Inf, 1e-4, 1e-3, 1e-2, 5e-2, Inf)),\n",
    "      levels = c(\"****\", \"***\", \"**\", \"*\", \"\"),\n",
    "      class = \"factor\"\n",
    "    )\n",
    "  ) %>%\n",
    "  print()"
   ]
  },
  {
   "cell_type": "markdown",
   "metadata": {},
   "source": [
    "## Supplemental LOESS Model (Gene TSS)"
   ]
  },
  {
   "cell_type": "code",
   "execution_count": 1,
   "metadata": {
    "vscode": {
     "languageId": "r"
    }
   },
   "outputs": [
    {
     "ename": "ERROR",
     "evalue": "Error in tar_load(c(chic.experiment.quantify.smooth_bw40_H3K4_Germline_CN_chr, : could not find function \"tar_load\"\n",
     "output_type": "error",
     "traceback": [
      "Error in tar_load(c(chic.experiment.quantify.smooth_bw40_H3K4_Germline_CN_chr, : could not find function \"tar_load\"\nTraceback:\n"
     ]
    }
   ],
   "source": [
    "tar_load(\n",
    "  c(\n",
    "    chic.experiment.quantify.smooth_bw40_H3K4_Germline_CN_chr,\n",
    "    chic.experiment.quantify.smooth_bw40_H3K27_Germline_CN_chr,\n",
    "    chic.experiment.quantify.smooth_bw40_H3K9_Germline_CN_chr,\n",
    "    chic.experiment.quantify.smooth_bw40_H3K4_Somatic_CN_chr,\n",
    "    chic.experiment.quantify.smooth_bw40_H3K27_Somatic_CN_chr,\n",
    "    chic.experiment.quantify.smooth_bw40_H3K9_Somatic_CN_chr,\n",
    "    chic.gene.tss.diameter_40_chr\n",
    "  )\n",
    ")"
   ]
  },
  {
   "cell_type": "code",
   "execution_count": 5,
   "metadata": {
    "vscode": {
     "languageId": "r"
    }
   },
   "outputs": [
    {
     "name": "stderr",
     "output_type": "stream",
     "text": [
      "No id variables; using all as measure variables\n",
      "\n"
     ]
    },
    {
     "name": "stdout",
     "output_type": "stream",
     "text": [
      "\u001b[90m# A tibble: 105,348 x 6\u001b[39m\n",
      "   celltype mark    group            L2FC   logCPM color \n",
      "   \u001b[3m\u001b[90m<fct>\u001b[39m\u001b[23m    \u001b[3m\u001b[90m<fct>\u001b[39m\u001b[23m   \u001b[3m\u001b[90m<fct>\u001b[39m\u001b[23m           \u001b[3m\u001b[90m<dbl>\u001b[39m\u001b[23m    \u001b[3m\u001b[90m<dbl>\u001b[39m\u001b[23m \u001b[3m\u001b[90m<fct>\u001b[39m\u001b[23m \n",
      "\u001b[90m 1\u001b[39m Germline H3K4me3 H3K4_Germline \u001b[31mNA\u001b[39m       2.36    high  \n",
      "\u001b[90m 2\u001b[39m Germline H3K4me3 H3K4_Germline -\u001b[31m0\u001b[39m\u001b[31m.\u001b[39m\u001b[31m450\u001b[39m   0.374   off   \n",
      "\u001b[90m 3\u001b[39m Germline H3K4me3 H3K4_Germline  0.298   0.005\u001b[4m9\u001b[24m\u001b[4m8\u001b[24m off   \n",
      "\u001b[90m 4\u001b[39m Germline H3K4me3 H3K4_Germline  0.768   1.40    medium\n",
      "\u001b[90m 5\u001b[39m Germline H3K4me3 H3K4_Germline  0.210  \u001b[31mNA\u001b[39m       off   \n",
      "\u001b[90m 6\u001b[39m Germline H3K4me3 H3K4_Germline -\u001b[31m1\u001b[39m\u001b[31m.\u001b[39m\u001b[31m0\u001b[39m\u001b[31m3\u001b[39m    0.806   low   \n",
      "\u001b[90m 7\u001b[39m Germline H3K4me3 H3K4_Germline  0.091\u001b[4m2\u001b[24m  0.328   off   \n",
      "\u001b[90m 8\u001b[39m Germline H3K4me3 H3K4_Germline  0.443  -\u001b[31m0\u001b[39m\u001b[31m.\u001b[39m\u001b[31m294\u001b[39m   off   \n",
      "\u001b[90m 9\u001b[39m Germline H3K4me3 H3K4_Germline -\u001b[31m0\u001b[39m\u001b[31m.\u001b[39m\u001b[31m0\u001b[39m\u001b[31m86\u001b[4m0\u001b[24m\u001b[39m  0.012\u001b[4m8\u001b[24m  off   \n",
      "\u001b[90m10\u001b[39m Germline H3K4me3 H3K4_Germline  0.078\u001b[4m4\u001b[24m  0.794   low   \n",
      "\u001b[90m# i 105,338 more rows\u001b[39m\n"
     ]
    }
   ],
   "source": [
    "tar_load(\n",
    "  c(\n",
    "    chic.gene.enrichment.l2fc,\n",
    "    Upd_cpm\n",
    "  )\n",
    ")\n",
    "marks <- data.frame(\n",
    "  celltype = c(\"Germline\", \"Somatic\") %>% factor(., .) %>% rep(each = 3 * nrow(Upd_cpm)),\n",
    "  mark = c(\"H3K4me3\", \"H3K27me3\", \"H3K9me3\") %>% factor(., .) %>% rep(each = nrow(Upd_cpm)),\n",
    "  melt(chic.gene.enrichment.l2fc[7:12], variable.name = \"group\", value.name = \"L2FC\"),\n",
    "  logCPM = c(\n",
    "    rep(log(Upd_cpm[, \"germline\"]) / log(10), 3) %>%\n",
    "      replace(!is.finite(.), NA),\n",
    "    rep(log(Upd_cpm[, \"somatic\"]) / log(10), 3) %>%\n",
    "      replace(!is.finite(.), NA)\n",
    "  ),\n",
    "  color = c(\n",
    "    rep(quartile.factor_Germline, 3),\n",
    "    rep(quartile.factor_Somatic, 3)\n",
    "  ) %>%\n",
    "    structure(levels = c(\"off\", \"low\", \"medium\", \"high\"), class = \"factor\")\n",
    ") %>%\n",
    "  tibble() %>%\n",
    "  print()"
   ]
  },
  {
   "cell_type": "code",
   "execution_count": 20,
   "metadata": {
    "vscode": {
     "languageId": "r"
    }
   },
   "outputs": [],
   "source": [
    "library(ggplot2)\n",
    "xlim <- c(-3, 3)\n",
    "ylim <- c(-3, 5)\n",
    "markloess <- marks %>%\n",
    "  group_by(group) %>%\n",
    "  reframe(\n",
    "    y = seq(min(ylim), max(ylim), by=0.01) %>%\n",
    "      round(2) %>%\n",
    "      subset(between(., logCPM %>% subset(. > -6) %>% quantile(0.025), logCPM %>% subset(. > -6) %>% quantile(0.975))),\n",
    "    predict(\n",
    "      loess(L2FC ~ logCPM),\n",
    "      newdata=y,\n",
    "      se = TRUE\n",
    "    ) %>%\n",
    "      as_tibble() %>%\n",
    "      reframe(L2FC = fit, L2FC.se = se.fit),\n",
    "    logCPM = y\n",
    "  ) %>%\n",
    "  print(n = 3)\n",
    "ggplot(markloess, aes(y, L2FC, color=group)) + geom_line()"
   ]
  },
  {
   "cell_type": "code",
   "execution_count": 21,
   "metadata": {
    "vscode": {
     "languageId": "r"
    }
   },
   "outputs": [
    {
     "name": "stdout",
     "output_type": "stream",
     "text": [
      "\u001b[90m# A tibble: 18 x 5\u001b[39m\n",
      "   group          name  teststat p.adjust signif\n",
      "   \u001b[3m\u001b[90m<fct>\u001b[39m\u001b[23m          \u001b[3m\u001b[90m<chr>\u001b[39m\u001b[23m    \u001b[3m\u001b[90m<dbl>\u001b[39m\u001b[23m    \u001b[3m\u001b[90m<dbl>\u001b[39m\u001b[23m \u001b[3m\u001b[90m<fct>\u001b[39m\u001b[23m \n",
      "\u001b[90m 1\u001b[39m H3K4_Germline  Q2       4.26  2.07\u001b[90me\u001b[39m\u001b[31m- 4\u001b[39m \u001b[90m\"\u001b[39m***\u001b[90m\"\u001b[39m \n",
      "\u001b[90m 2\u001b[39m H3K4_Germline  Q3       6.11  1.43\u001b[90me\u001b[39m\u001b[31m- 8\u001b[39m \u001b[90m\"\u001b[39m****\u001b[90m\"\u001b[39m\n",
      "\u001b[90m 3\u001b[39m H3K4_Germline  Q4       7.02  3.31\u001b[90me\u001b[39m\u001b[31m-11\u001b[39m \u001b[90m\"\u001b[39m****\u001b[90m\"\u001b[39m\n",
      "\u001b[90m 4\u001b[39m H3K27_Germline Q2       0.470 1   \u001b[90me\u001b[39m+ 0 \u001b[90m\"\u001b[39m\u001b[90m\"\u001b[39m    \n",
      "\u001b[90m 5\u001b[39m H3K27_Germline Q3       0.599 1   \u001b[90me\u001b[39m+ 0 \u001b[90m\"\u001b[39m\u001b[90m\"\u001b[39m    \n",
      "\u001b[90m 6\u001b[39m H3K27_Germline Q4       0.336 1   \u001b[90me\u001b[39m+ 0 \u001b[90m\"\u001b[39m\u001b[90m\"\u001b[39m    \n",
      "\u001b[90m 7\u001b[39m H3K9_Germline  Q2      -\u001b[31m1\u001b[39m\u001b[31m.\u001b[39m\u001b[31m94\u001b[39m  2.59\u001b[90me\u001b[39m\u001b[31m- 1\u001b[39m \u001b[90m\"\u001b[39m\u001b[90m\"\u001b[39m    \n",
      "\u001b[90m 8\u001b[39m H3K9_Germline  Q3      -\u001b[31m2\u001b[39m\u001b[31m.\u001b[39m\u001b[31m85\u001b[39m  2.65\u001b[90me\u001b[39m\u001b[31m- 2\u001b[39m \u001b[90m\"\u001b[39m*\u001b[90m\"\u001b[39m   \n",
      "\u001b[90m 9\u001b[39m H3K9_Germline  Q4      -\u001b[31m3\u001b[39m\u001b[31m.\u001b[39m\u001b[31m64\u001b[39m  2.49\u001b[90me\u001b[39m\u001b[31m- 3\u001b[39m \u001b[90m\"\u001b[39m**\u001b[90m\"\u001b[39m  \n",
      "\u001b[90m10\u001b[39m H3K4_Somatic   Q2       5.82  6.97\u001b[90me\u001b[39m\u001b[31m- 8\u001b[39m \u001b[90m\"\u001b[39m****\u001b[90m\"\u001b[39m\n",
      "\u001b[90m11\u001b[39m H3K4_Somatic   Q3       7.46  1.52\u001b[90me\u001b[39m\u001b[31m-12\u001b[39m \u001b[90m\"\u001b[39m****\u001b[90m\"\u001b[39m\n",
      "\u001b[90m12\u001b[39m H3K4_Somatic   Q4       7.85  7.29\u001b[90me\u001b[39m\u001b[31m-14\u001b[39m \u001b[90m\"\u001b[39m****\u001b[90m\"\u001b[39m\n",
      "\u001b[90m13\u001b[39m H3K27_Somatic  Q2      -\u001b[31m1\u001b[39m\u001b[31m.\u001b[39m\u001b[31m84\u001b[39m  2.65\u001b[90me\u001b[39m\u001b[31m- 1\u001b[39m \u001b[90m\"\u001b[39m\u001b[90m\"\u001b[39m    \n",
      "\u001b[90m14\u001b[39m H3K27_Somatic  Q3      -\u001b[31m3\u001b[39m\u001b[31m.\u001b[39m\u001b[31m63\u001b[39m  2.49\u001b[90me\u001b[39m\u001b[31m- 3\u001b[39m \u001b[90m\"\u001b[39m**\u001b[90m\"\u001b[39m  \n",
      "\u001b[90m15\u001b[39m H3K27_Somatic  Q4      -\u001b[31m5\u001b[39m\u001b[31m.\u001b[39m\u001b[31m94\u001b[39m  3.62\u001b[90me\u001b[39m\u001b[31m- 8\u001b[39m \u001b[90m\"\u001b[39m****\u001b[90m\"\u001b[39m\n",
      "\u001b[90m16\u001b[39m H3K9_Somatic   Q2      -\u001b[31m3\u001b[39m\u001b[31m.\u001b[39m\u001b[31m60\u001b[39m  2.49\u001b[90me\u001b[39m\u001b[31m- 3\u001b[39m \u001b[90m\"\u001b[39m**\u001b[90m\"\u001b[39m  \n",
      "\u001b[90m17\u001b[39m H3K9_Somatic   Q3      -\u001b[31m5\u001b[39m\u001b[31m.\u001b[39m\u001b[31m44\u001b[39m  5.79\u001b[90me\u001b[39m\u001b[31m- 7\u001b[39m \u001b[90m\"\u001b[39m****\u001b[90m\"\u001b[39m\n",
      "\u001b[90m18\u001b[39m H3K9_Somatic   Q4      -\u001b[31m7\u001b[39m\u001b[31m.\u001b[39m\u001b[31m0\u001b[39m\u001b[31m8\u001b[39m  2.30\u001b[90me\u001b[39m\u001b[31m-11\u001b[39m \u001b[90m\"\u001b[39m****\u001b[90m\"\u001b[39m\n"
     ]
    }
   ],
   "source": [
    "log10 <- \\(v) log(v) / log(10)\n",
    "x <- mapply(\n",
    "  \\(cpm, level) cpm %>%\n",
    "    split(level) %>%\n",
    "    sapply(\\(v) v %>% subset(v != 0) %>% median %>% log10 %>% round(digits=2)),\n",
    "  as.data.frame(Upd_cpm[, 1:2]),\n",
    "  list(quartile.factor_Germline, quartile.factor_Somatic)\n",
    ")\n",
    "data <- markloess %>%\n",
    "  group_by(group) %>%\n",
    "  reframe(\n",
    "    celltype = tolower(str_extract(group[1], \"Germline|Somatic\")),\n",
    "    tibble(name = c(\"Q2\", \"Q3\", \"Q4\")) %>%\n",
    "      rowwise() %>%\n",
    "      mutate(\n",
    "        teststat = (\n",
    "          L2FC[match(x[name, celltype], y)] -\n",
    "            L2FC[match(x[\"Q1\", celltype], y)]\n",
    "        ) /\n",
    "          sqrt(\n",
    "            L2FC.se[match(x[name, celltype], y)]^2 +\n",
    "              L2FC.se[match(x[\"Q1\", celltype], y)]\n",
    "          ),\n",
    "        p.adjust = teststat %>%\n",
    "          abs() %>%\n",
    "          pnorm(lower.tail = F) %>%\n",
    "          `*`(2) %>%\n",
    "          pmin(1)\n",
    "      )\n",
    "  ) %>%\n",
    "  subset(select = c(1, 3, 4, 5)) %>%\n",
    "  mutate(\n",
    "    p.adjust = p.adjust(p.adjust),\n",
    "    signif = structure(\n",
    "      cut(p.adjust, c(-Inf, 1e-4, 1e-3, 1e-2, 5e-2, Inf)),\n",
    "      levels = c(\"****\", \"***\", \"**\", \"*\", \"\"),\n",
    "      class = \"factor\"\n",
    "    )\n",
    "  ) %>%\n",
    "  print()"
   ]
  }
 ],
 "metadata": {
  "kernelspec": {
   "display_name": "R",
   "language": "R",
   "name": "ir"
  },
  "language_info": {
   "codemirror_mode": "r",
   "file_extension": ".r",
   "mimetype": "text/x-r-source",
   "name": "R",
   "pygments_lexer": "r",
   "version": "4.3.3"
  }
 },
 "nbformat": 4,
 "nbformat_minor": 2
}
