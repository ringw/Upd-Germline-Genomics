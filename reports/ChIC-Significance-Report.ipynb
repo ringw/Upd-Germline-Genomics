{
 "cells": [
  {
   "cell_type": "code",
   "execution_count": 4,
   "metadata": {
    "vscode": {
     "languageId": "r"
    }
   },
   "outputs": [
    {
     "name": "stderr",
     "output_type": "stream",
     "text": [
      "Loading required package: viridisLite\n",
      "\n",
      "\n",
      "Attaching package: ‘dplyr’\n",
      "\n",
      "\n",
      "The following objects are masked from ‘package:stats’:\n",
      "\n",
      "    filter, lag\n",
      "\n",
      "\n",
      "The following objects are masked from ‘package:base’:\n",
      "\n",
      "    intersect, setdiff, setequal, union\n",
      "\n",
      "\n"
     ]
    }
   ],
   "source": [
    "setwd(\"~/Upd-Germline-Genomics\")\n",
    "source(\"_targets.R\")"
   ]
  },
  {
   "cell_type": "markdown",
   "metadata": {},
   "source": [
    "## S5 L2FE_Effect_TSS\n",
    "\n",
    "Histone mark profile plot - local maxima and their significance to the \"off\" genes t-test.\n",
    "\n",
    "Testing the main figure ChIC-ChIP average profile plots: This involves finding a good local maximum of smooth profile L2FE to test for enrichment (or we also may see depletion compared to a more uniform, closer to zero, \"Q1\" off gene profile). Extrema are detected using the second order finite difference (diff(diff())), and then we take the maximum value of the track. It is tested against the \"Q1\" off gene quantification average profile at this x point (in bp) of the TSS heatmap."
   ]
  },
  {
   "cell_type": "code",
   "execution_count": 2,
   "metadata": {
    "vscode": {
     "languageId": "r"
    }
   },
   "outputs": [],
   "source": [
    "tar_load(matches(\"^chic.heatmap.tss_H3K(4|27|9)_(Germline|Somatic)_CN_chr\"))\n",
    "tar_load(c(quartile.factor_Germline, quartile.factor_Somatic))"
   ]
  },
  {
   "cell_type": "code",
   "execution_count": 3,
   "metadata": {
    "vscode": {
     "languageId": "r"
    }
   },
   "outputs": [
    {
     "data": {
      "text/html": [
       "TRUE"
      ],
      "text/latex": [
       "TRUE"
      ],
      "text/markdown": [
       "TRUE"
      ],
      "text/plain": [
       "[1] TRUE"
      ]
     },
     "metadata": {},
     "output_type": "display_data"
    }
   ],
   "source": [
    "all.equal(\n",
    "  sort(match(rownames(chic.heatmap.tss_H3K27_Somatic_CN_chr), names(quartile.factor_Somatic))),\n",
    "  seq_along(quartile.factor_Somatic)\n",
    ")"
   ]
  },
  {
   "cell_type": "code",
   "execution_count": 4,
   "metadata": {
    "vscode": {
     "languageId": "r"
    }
   },
   "outputs": [
    {
     "name": "stdout",
     "output_type": "stream",
     "text": [
      "\u001b[90m# A tibble: 18 × 8\u001b[39m\n",
      "   celltype panel    rowname level x           t  p.adjust signif\n",
      "   \u001b[3m\u001b[90m<chr>\u001b[39m\u001b[23m    \u001b[3m\u001b[90m<chr>\u001b[39m\u001b[23m    \u001b[3m\u001b[90m<chr>\u001b[39m\u001b[23m   \u001b[3m\u001b[90m<chr>\u001b[39m\u001b[23m \u001b[3m\u001b[90m<chr>\u001b[39m\u001b[23m   \u001b[3m\u001b[90m<dbl>\u001b[39m\u001b[23m     \u001b[3m\u001b[90m<dbl>\u001b[39m\u001b[23m \u001b[3m\u001b[90m<fct>\u001b[39m\u001b[23m \n",
      "\u001b[90m 1\u001b[39m Germline H3K4me3  low     Q2    131    24.1   1.51\u001b[90me\u001b[39m\u001b[31m-114\u001b[39m \u001b[90m\"\u001b[39m****\u001b[90m\"\u001b[39m\n",
      "\u001b[90m 2\u001b[39m Germline H3K4me3  medium  Q3    132    37.4   9.17\u001b[90me\u001b[39m\u001b[31m-242\u001b[39m \u001b[90m\"\u001b[39m****\u001b[90m\"\u001b[39m\n",
      "\u001b[90m 3\u001b[39m Germline H3K4me3  high    Q4    132    40.1   4.40\u001b[90me\u001b[39m\u001b[31m-271\u001b[39m \u001b[90m\"\u001b[39m****\u001b[90m\"\u001b[39m\n",
      "\u001b[90m 4\u001b[39m Germline H3K27me3 low     Q2    133    -\u001b[31m2\u001b[39m\u001b[31m.\u001b[39m\u001b[31m82\u001b[39m  1.92\u001b[90me\u001b[39m\u001b[31m-  2\u001b[39m \u001b[90m\"\u001b[39m*\u001b[90m\"\u001b[39m   \n",
      "\u001b[90m 5\u001b[39m Germline H3K27me3 medium  Q3    133    -\u001b[31m1\u001b[39m\u001b[31m.\u001b[39m\u001b[31m93\u001b[39m  1.59\u001b[90me\u001b[39m\u001b[31m-  1\u001b[39m \u001b[90m\"\u001b[39m\u001b[90m\"\u001b[39m    \n",
      "\u001b[90m 6\u001b[39m Germline H3K27me3 high    Q4    -30    -\u001b[31m1\u001b[39m\u001b[31m.\u001b[39m\u001b[31m49\u001b[39m  2.71\u001b[90me\u001b[39m\u001b[31m-  1\u001b[39m \u001b[90m\"\u001b[39m\u001b[90m\"\u001b[39m    \n",
      "\u001b[90m 7\u001b[39m Germline H3K9me3  low     Q2    -14     4.37  6.35\u001b[90me\u001b[39m\u001b[31m-  5\u001b[39m \u001b[90m\"\u001b[39m****\u001b[90m\"\u001b[39m\n",
      "\u001b[90m 8\u001b[39m Germline H3K9me3  medium  Q3    -10     6.52  6.64\u001b[90me\u001b[39m\u001b[31m- 10\u001b[39m \u001b[90m\"\u001b[39m****\u001b[90m\"\u001b[39m\n",
      "\u001b[90m 9\u001b[39m Germline H3K9me3  high    Q4    -10     5.29  9.92\u001b[90me\u001b[39m\u001b[31m-  7\u001b[39m \u001b[90m\"\u001b[39m****\u001b[90m\"\u001b[39m\n",
      "\u001b[90m10\u001b[39m Somatic  H3K4me3  low     Q2    308     9.31  1.70\u001b[90me\u001b[39m\u001b[31m- 19\u001b[39m \u001b[90m\"\u001b[39m****\u001b[90m\"\u001b[39m\n",
      "\u001b[90m11\u001b[39m Somatic  H3K4me3  medium  Q3    134    10.7   2.91\u001b[90me\u001b[39m\u001b[31m- 25\u001b[39m \u001b[90m\"\u001b[39m****\u001b[90m\"\u001b[39m\n",
      "\u001b[90m12\u001b[39m Somatic  H3K4me3  high    Q4    135     8.96  3.91\u001b[90me\u001b[39m\u001b[31m- 18\u001b[39m \u001b[90m\"\u001b[39m****\u001b[90m\"\u001b[39m\n",
      "\u001b[90m13\u001b[39m Somatic  H3K27me3 low     Q2    483     5.24  1.16\u001b[90me\u001b[39m\u001b[31m-  6\u001b[39m \u001b[90m\"\u001b[39m****\u001b[90m\"\u001b[39m\n",
      "\u001b[90m14\u001b[39m Somatic  H3K27me3 medium  Q3    487     4.55  3.31\u001b[90me\u001b[39m\u001b[31m-  5\u001b[39m \u001b[90m\"\u001b[39m****\u001b[90m\"\u001b[39m\n",
      "\u001b[90m15\u001b[39m Somatic  H3K27me3 high    Q4    490    -\u001b[31m0\u001b[39m\u001b[31m.\u001b[39m\u001b[31m934\u001b[39m 3.51\u001b[90me\u001b[39m\u001b[31m-  1\u001b[39m \u001b[90m\"\u001b[39m\u001b[90m\"\u001b[39m    \n",
      "\u001b[90m16\u001b[39m Somatic  H3K9me3  low     Q2    -13    -\u001b[31m8\u001b[39m\u001b[31m.\u001b[39m\u001b[31m74\u001b[39m  3.56\u001b[90me\u001b[39m\u001b[31m- 17\u001b[39m \u001b[90m\"\u001b[39m****\u001b[90m\"\u001b[39m\n",
      "\u001b[90m17\u001b[39m Somatic  H3K9me3  medium  Q3    -14    -\u001b[31m9\u001b[39m\u001b[31m.\u001b[39m\u001b[31m56\u001b[39m  2.98\u001b[90me\u001b[39m\u001b[31m- 20\u001b[39m \u001b[90m\"\u001b[39m****\u001b[90m\"\u001b[39m\n",
      "\u001b[90m18\u001b[39m Somatic  H3K9me3  high    Q4    -16   -\u001b[31m11\u001b[39m\u001b[31m.\u001b[39m\u001b[31m7\u001b[39m   8.18\u001b[90me\u001b[39m\u001b[31m- 30\u001b[39m \u001b[90m\"\u001b[39m****\u001b[90m\"\u001b[39m\n"
     ]
    }
   ],
   "source": [
    "data <- tibble(\n",
    "  cross_join(\n",
    "    tibble(\n",
    "      celltype = c(\"Germline\", \"Germline\", \"Germline\", \"Somatic\", \"Somatic\", \"Somatic\"),\n",
    "      panel = c(\"H3K4me3\", \"H3K27me3\", \"H3K9me3\", \"H3K4me3\", \"H3K27me3\", \"H3K9me3\"),\n",
    "      heatmap = list(\n",
    "        chic.heatmap.tss_H3K4_Germline_CN_chr,\n",
    "        chic.heatmap.tss_H3K27_Germline_CN_chr,\n",
    "        chic.heatmap.tss_H3K9_Germline_CN_chr,\n",
    "        chic.heatmap.tss_H3K4_Somatic_CN_chr,\n",
    "        chic.heatmap.tss_H3K27_Somatic_CN_chr,\n",
    "        chic.heatmap.tss_H3K9_Somatic_CN_chr\n",
    "      )\n",
    "    ),\n",
    "    tibble(\n",
    "      rowname = c(\"low\", \"medium\", \"high\"),\n",
    "      level = c(\"Q2\", \"Q3\", \"Q4\"),\n",
    "    ),\n",
    "  ),\n",
    "  quant = mapply(\n",
    "    \\(celltype, heatmap) get(str_glue(\"quartile.factor_\", celltype))[rownames(heatmap)],\n",
    "    celltype,\n",
    "    heatmap,\n",
    "    SIMPLIFY=FALSE\n",
    "  ),\n",
    "  x = mapply(\n",
    "    \\(level, heatmap, quant) colnames(heatmap)[\n",
    "      which.max(\n",
    "        colMeans(heatmap[quant == level, 1:1000], na.rm=T) %>%\n",
    "          replace(\n",
    "            c(\n",
    "              1,\n",
    "              1 + which(\n",
    "                diff(diff(colMeans(heatmap[quant == level, 1:1000], na.rm=T))) >= -1e-4\n",
    "              ),\n",
    "              1000\n",
    "            ),\n",
    "            0\n",
    "          )\n",
    "      )\n",
    "    ],\n",
    "    level,\n",
    "    heatmap,\n",
    "    quant\n",
    "  ),\n",
    "  ttest = mapply(\n",
    "    \\(heatmap, quant, level, x) t.test(\n",
    "      heatmap[quant == level, x],\n",
    "      heatmap[quant == \"Q1\", x]\n",
    "    ),\n",
    "    heatmap,\n",
    "    quant,\n",
    "    level,\n",
    "    x,\n",
    "    SIMPLIFY=FALSE\n",
    "  ),\n",
    "  t = sapply(ttest, \\(obj) obj$statistic[\"t\"]),\n",
    "  p.adjust = p.adjust(\n",
    "    sapply(\n",
    "      ttest,\n",
    "      \\(obj) obj$p.value\n",
    "    )\n",
    "  ),\n",
    "  signif = structure(\n",
    "    cut(p.adjust, c(-Inf, 1e-4, 1e-3, 1e-2, 5e-2, Inf)),\n",
    "    levels = c(\"****\", \"***\", \"**\", \"*\", \"\"),\n",
    "    class = \"factor\"\n",
    "  )\n",
    ") %>%\n",
    "  subset(select=-c(heatmap,quant,ttest)) %>%\n",
    "  print()"
   ]
  },
  {
   "cell_type": "markdown",
   "metadata": {},
   "source": [
    "## S6 Occupancy_Effect_TSS\n",
    "\n",
    "Recapitulate the above Welch's T-Test but for the H3 ChIC-seq pileup (nucleosome occupancy)."
   ]
  },
  {
   "cell_type": "code",
   "execution_count": 6,
   "metadata": {
    "vscode": {
     "languageId": "r"
    }
   },
   "outputs": [],
   "source": [
    "tar_load(\n",
    "  c(\n",
    "    chic.heatmap.tss.nucleosome_H3K27_Germline_CN_chr,\n",
    "    chic.heatmap.tss.nucleosome_H3K27_Somatic_CN_chr\n",
    "  )\n",
    ")"
   ]
  },
  {
   "cell_type": "code",
   "execution_count": 7,
   "metadata": {
    "vscode": {
     "languageId": "r"
    }
   },
   "outputs": [
    {
     "name": "stdout",
     "output_type": "stream",
     "text": [
      "\u001b[90m# A tibble: 6 × 7\u001b[39m\n",
      "  celltype rowname level x         t  p.adjust signif\n",
      "  \u001b[3m\u001b[90m<chr>\u001b[39m\u001b[23m    \u001b[3m\u001b[90m<chr>\u001b[39m\u001b[23m   \u001b[3m\u001b[90m<chr>\u001b[39m\u001b[23m \u001b[3m\u001b[90m<chr>\u001b[39m\u001b[23m \u001b[3m\u001b[90m<dbl>\u001b[39m\u001b[23m     \u001b[3m\u001b[90m<dbl>\u001b[39m\u001b[23m \u001b[3m\u001b[90m<fct>\u001b[39m\u001b[23m \n",
      "\u001b[90m1\u001b[39m Germline low     Q2    131    29.9 7.84\u001b[90me\u001b[39m\u001b[31m-168\u001b[39m ****  \n",
      "\u001b[90m2\u001b[39m Germline medium  Q3    133    47.1 0   \u001b[90m \u001b[39m     ****  \n",
      "\u001b[90m3\u001b[39m Germline high    Q4    134    46.5 0   \u001b[90m \u001b[39m     ****  \n",
      "\u001b[90m4\u001b[39m Somatic  low     Q2    129    34.1 4.06\u001b[90me\u001b[39m\u001b[31m-208\u001b[39m ****  \n",
      "\u001b[90m5\u001b[39m Somatic  medium  Q3    131    42.2 2.22\u001b[90me\u001b[39m\u001b[31m-290\u001b[39m ****  \n",
      "\u001b[90m6\u001b[39m Somatic  high    Q4    133    38.2 1.02\u001b[90me\u001b[39m\u001b[31m-248\u001b[39m ****  \n"
     ]
    }
   ],
   "source": [
    "data <- tibble(\n",
    "  cross_join(\n",
    "    tibble(\n",
    "      celltype = c(\"Germline\", \"Somatic\"),\n",
    "      heatmap = list(\n",
    "        chic.heatmap.tss.nucleosome_H3K27_Germline_CN_chr,\n",
    "        chic.heatmap.tss.nucleosome_H3K27_Somatic_CN_chr\n",
    "      )\n",
    "    ),\n",
    "    tibble(\n",
    "      rowname = c(\"low\", \"medium\", \"high\"),\n",
    "      level = c(\"Q2\", \"Q3\", \"Q4\"),\n",
    "    ),\n",
    "  ),\n",
    "  quant = mapply(\n",
    "    \\(celltype, heatmap) get(str_glue(\"quartile.factor_\", celltype))[rownames(heatmap)],\n",
    "    celltype,\n",
    "    heatmap,\n",
    "    SIMPLIFY=FALSE\n",
    "  ),\n",
    "  x = mapply(\n",
    "    \\(level, heatmap, quant) colnames(heatmap)[\n",
    "      which.max(\n",
    "        colMeans(heatmap[quant == level, 1:1000], na.rm=T) %>%\n",
    "          replace(\n",
    "            c(\n",
    "              1,\n",
    "              1 + which(\n",
    "                diff(diff(colMeans(heatmap[quant == level, 1:1000], na.rm=T))) >= -1e-4\n",
    "              ),\n",
    "              1000\n",
    "            ),\n",
    "            0\n",
    "          )\n",
    "      )\n",
    "    ],\n",
    "    level,\n",
    "    heatmap,\n",
    "    quant\n",
    "  ),\n",
    "  ttest = mapply(\n",
    "    \\(heatmap, quant, level, x) t.test(\n",
    "      heatmap[quant == level, x],\n",
    "      heatmap[quant == \"Q1\", x]\n",
    "    ),\n",
    "    heatmap,\n",
    "    quant,\n",
    "    level,\n",
    "    x,\n",
    "    SIMPLIFY=FALSE\n",
    "  ),\n",
    "  t = sapply(ttest, \\(obj) obj$statistic[\"t\"]),\n",
    "  p.adjust = p.adjust(\n",
    "    sapply(\n",
    "      ttest,\n",
    "      \\(obj) obj$p.value\n",
    "    )\n",
    "  ),\n",
    "  signif = structure(\n",
    "    cut(p.adjust, c(-Inf, 1e-4, 1e-3, 1e-2, 5e-2, Inf)),\n",
    "    levels = c(\"****\", \"***\", \"**\", \"*\", \"\"),\n",
    "    class = \"factor\"\n",
    "  )\n",
    ") %>%\n",
    "  subset(select=-c(heatmap,quant,ttest)) %>%\n",
    "  print()"
   ]
  },
  {
   "cell_type": "markdown",
   "metadata": {},
   "source": [
    "## Repli Quartile - Average Gene Profile Histone Mark T-Test\n",
    "\n",
    "Histone mark code & replication regime profile plot - local maxima and their significance to the \"off\" genes t-test\n",
    "\n",
    "Although these versions of the Low / Medium / High (ML - EM - E timing) gene profiles and their analysis are not shown in a table, these analyses support Figure 6S - E-F."
   ]
  },
  {
   "cell_type": "code",
   "execution_count": 8,
   "metadata": {
    "vscode": {
     "languageId": "r"
    }
   },
   "outputs": [
    {
     "data": {
      "text/plain": [
       "repli.gene_Germline\n",
       "   L   ML   EM    E \n",
       " 672 3378 5503 7999 "
      ]
     },
     "metadata": {},
     "output_type": "display_data"
    }
   ],
   "source": [
    "tar_load(c(repli.gene_Germline, repli.gene_Somatic))\n",
    "table(repli.gene_Germline)"
   ]
  },
  {
   "cell_type": "code",
   "execution_count": 9,
   "metadata": {
    "vscode": {
     "languageId": "r"
    }
   },
   "outputs": [
    {
     "data": {
      "text/html": [
       "TRUE"
      ],
      "text/latex": [
       "TRUE"
      ],
      "text/markdown": [
       "TRUE"
      ],
      "text/plain": [
       "[1] TRUE"
      ]
     },
     "metadata": {},
     "output_type": "display_data"
    }
   ],
   "source": [
    "all.equal(\n",
    "  sort(match(rownames(chic.heatmap.tss_H3K27_Somatic_CN_chr), names(repli.gene_Somatic))),\n",
    "  seq_along(repli.gene_Somatic)\n",
    ")"
   ]
  },
  {
   "cell_type": "code",
   "execution_count": 10,
   "metadata": {
    "vscode": {
     "languageId": "r"
    }
   },
   "outputs": [
    {
     "name": "stdout",
     "output_type": "stream",
     "text": [
      "\u001b[90m# A tibble: 18 × 7\u001b[39m\n",
      "   celltype panel    level x          t p.adjust signif\n",
      "   \u001b[3m\u001b[90m<chr>\u001b[39m\u001b[23m    \u001b[3m\u001b[90m<fct>\u001b[39m\u001b[23m    \u001b[3m\u001b[90m<fct>\u001b[39m\u001b[23m \u001b[3m\u001b[90m<chr>\u001b[39m\u001b[23m  \u001b[3m\u001b[90m<dbl>\u001b[39m\u001b[23m    \u001b[3m\u001b[90m<dbl>\u001b[39m\u001b[23m \u001b[3m\u001b[90m<fct>\u001b[39m\u001b[23m \n",
      "\u001b[90m 1\u001b[39m Germline H3K4me3  ML    136    3.42  6.42\u001b[90me\u001b[39m\u001b[31m- 3\u001b[39m \u001b[90m\"\u001b[39m**\u001b[90m\"\u001b[39m  \n",
      "\u001b[90m 2\u001b[39m Germline H3K4me3  EM    131   14.9   2.30\u001b[90me\u001b[39m\u001b[31m-45\u001b[39m \u001b[90m\"\u001b[39m****\u001b[90m\"\u001b[39m\n",
      "\u001b[90m 3\u001b[39m Germline H3K4me3  E     134   19.8   1.24\u001b[90me\u001b[39m\u001b[31m-72\u001b[39m \u001b[90m\"\u001b[39m****\u001b[90m\"\u001b[39m\n",
      "\u001b[90m 4\u001b[39m Germline H3K27me3 ML    146    1.78  3.76\u001b[90me\u001b[39m\u001b[31m- 1\u001b[39m \u001b[90m\"\u001b[39m\u001b[90m\"\u001b[39m    \n",
      "\u001b[90m 5\u001b[39m Germline H3K27me3 EM    133    3.27  9.62\u001b[90me\u001b[39m\u001b[31m- 3\u001b[39m \u001b[90m\"\u001b[39m**\u001b[90m\"\u001b[39m  \n",
      "\u001b[90m 6\u001b[39m Germline H3K27me3 E     136    3.48  5.62\u001b[90me\u001b[39m\u001b[31m- 3\u001b[39m \u001b[90m\"\u001b[39m**\u001b[90m\"\u001b[39m  \n",
      "\u001b[90m 7\u001b[39m Germline H3K9me3  ML    -9     2.22  2.11\u001b[90me\u001b[39m\u001b[31m- 1\u001b[39m \u001b[90m\"\u001b[39m\u001b[90m\"\u001b[39m    \n",
      "\u001b[90m 8\u001b[39m Germline H3K9me3  EM    -8     1.91  3.35\u001b[90me\u001b[39m\u001b[31m- 1\u001b[39m \u001b[90m\"\u001b[39m\u001b[90m\"\u001b[39m    \n",
      "\u001b[90m 9\u001b[39m Germline H3K9me3  E     -10    4.15  4.40\u001b[90me\u001b[39m\u001b[31m- 4\u001b[39m \u001b[90m\"\u001b[39m***\u001b[90m\"\u001b[39m \n",
      "\u001b[90m10\u001b[39m Somatic  H3K4me3  ML    133    2.05  2.86\u001b[90me\u001b[39m\u001b[31m- 1\u001b[39m \u001b[90m\"\u001b[39m\u001b[90m\"\u001b[39m    \n",
      "\u001b[90m11\u001b[39m Somatic  H3K4me3  EM    135    8.54  2.45\u001b[90me\u001b[39m\u001b[31m-16\u001b[39m \u001b[90m\"\u001b[39m****\u001b[90m\"\u001b[39m\n",
      "\u001b[90m12\u001b[39m Somatic  H3K4me3  E     130    6.38  2.69\u001b[90me\u001b[39m\u001b[31m- 9\u001b[39m \u001b[90m\"\u001b[39m****\u001b[90m\"\u001b[39m\n",
      "\u001b[90m13\u001b[39m Somatic  H3K27me3 ML    493    0.632 1   \u001b[90me\u001b[39m+ 0 \u001b[90m\"\u001b[39m\u001b[90m\"\u001b[39m    \n",
      "\u001b[90m14\u001b[39m Somatic  H3K27me3 EM    491    0.776 1   \u001b[90me\u001b[39m+ 0 \u001b[90m\"\u001b[39m\u001b[90m\"\u001b[39m    \n",
      "\u001b[90m15\u001b[39m Somatic  H3K27me3 E     480    0.894 1   \u001b[90me\u001b[39m+ 0 \u001b[90m\"\u001b[39m\u001b[90m\"\u001b[39m    \n",
      "\u001b[90m16\u001b[39m Somatic  H3K9me3  ML    412   -\u001b[31m1\u001b[39m\u001b[31m.\u001b[39m\u001b[31m28\u001b[39m  8.01\u001b[90me\u001b[39m\u001b[31m- 1\u001b[39m \u001b[90m\"\u001b[39m\u001b[90m\"\u001b[39m    \n",
      "\u001b[90m17\u001b[39m Somatic  H3K9me3  EM    -14   -\u001b[31m5\u001b[39m\u001b[31m.\u001b[39m\u001b[31m53\u001b[39m  4.50\u001b[90me\u001b[39m\u001b[31m- 7\u001b[39m \u001b[90m\"\u001b[39m****\u001b[90m\"\u001b[39m\n",
      "\u001b[90m18\u001b[39m Somatic  H3K9me3  E     -14   -\u001b[31m7\u001b[39m\u001b[31m.\u001b[39m\u001b[31m60\u001b[39m  5.31\u001b[90me\u001b[39m\u001b[31m-13\u001b[39m \u001b[90m\"\u001b[39m****\u001b[90m\"\u001b[39m\n"
     ]
    }
   ],
   "source": [
    "data <- tibble(\n",
    "  cross_join(\n",
    "    tibble(\n",
    "      celltype = c(\"Germline\", \"Germline\", \"Germline\", \"Somatic\", \"Somatic\", \"Somatic\"),\n",
    "      panel = c(\"H3K4me3\", \"H3K27me3\", \"H3K9me3\", \"H3K4me3\", \"H3K27me3\", \"H3K9me3\"),\n",
    "      heatmap = list(\n",
    "        chic.heatmap.tss_H3K4_Germline_CN_chr,\n",
    "        chic.heatmap.tss_H3K27_Germline_CN_chr,\n",
    "        chic.heatmap.tss_H3K9_Germline_CN_chr,\n",
    "        chic.heatmap.tss_H3K4_Somatic_CN_chr,\n",
    "        chic.heatmap.tss_H3K27_Somatic_CN_chr,\n",
    "        chic.heatmap.tss_H3K9_Somatic_CN_chr\n",
    "      )\n",
    "    ),\n",
    "    tibble(\n",
    "      level = c(\"ML\", \"EM\", \"E\")\n",
    "    ),\n",
    "  ),\n",
    "  quant = mapply(\n",
    "    \\(celltype, heatmap) get(str_glue(\"repli.gene_\", celltype))[rownames(heatmap)],\n",
    "    celltype,\n",
    "    heatmap,\n",
    "    SIMPLIFY=FALSE\n",
    "  ),\n",
    "  x = mapply(\n",
    "    \\(level, heatmap, quant) colnames(heatmap)[\n",
    "      which.max(\n",
    "        colMeans(heatmap[quant == level, 1:1000], na.rm=T) %>%\n",
    "          replace(\n",
    "            c(\n",
    "              1,\n",
    "              1 + which(\n",
    "                diff(diff(colMeans(heatmap[quant == level, 1:1000], na.rm=T))) >= -1e-4\n",
    "              ),\n",
    "              1000\n",
    "            ),\n",
    "            0\n",
    "          )\n",
    "      )\n",
    "    ],\n",
    "    level,\n",
    "    heatmap,\n",
    "    quant\n",
    "  ) %>%\n",
    "    replace(\n",
    "      celltype == \"Somatic\" & panel == \"H3K9me3\" & level == \"EM\", -14\n",
    "    ),\n",
    "  ttest = mapply(\n",
    "    \\(heatmap, quant, level, x) t.test(\n",
    "      heatmap[quant == level, x],\n",
    "      heatmap[quant == \"L\", x]\n",
    "    ),\n",
    "    heatmap,\n",
    "    quant,\n",
    "    level,\n",
    "    x,\n",
    "    SIMPLIFY=FALSE\n",
    "  ),\n",
    "  t = sapply(ttest, \\(obj) obj$statistic[\"t\"]),\n",
    "  p.adjust = p.adjust(\n",
    "    sapply(\n",
    "      ttest,\n",
    "      \\(obj) obj$p.value\n",
    "    )\n",
    "  ),\n",
    "  signif = structure(\n",
    "    cut(p.adjust, c(-Inf, 1e-4, 1e-3, 1e-2, 5e-2, Inf)),\n",
    "    levels = c(\"****\", \"***\", \"**\", \"*\", \"\"),\n",
    "    class = \"factor\"\n",
    "  )\n",
    ") %>%\n",
    "  mutate(panel = factor(panel, str_glue(\"H3K{c(4,27,9)}me3\")), level = factor(level, c(\"ML\", \"EM\", \"E\"))) %>%\n",
    "  arrange(celltype, panel, level) %>%\n",
    "  subset(select=-c(heatmap,quant,ttest)) %>%\n",
    "  print()"
   ]
  },
  {
   "cell_type": "markdown",
   "metadata": {},
   "source": [
    "## S5 - Celltype_Effect at 50% of gene CDS\n",
    "\n",
    "Histone mark at the gene midpoint - Welch's t-test"
   ]
  },
  {
   "cell_type": "code",
   "execution_count": 73,
   "metadata": {
    "vscode": {
     "languageId": "r"
    }
   },
   "outputs": [],
   "source": [
    "tar_load(matches(\"^chic.heatmap.paneled_H3K(4|27)_(Germline|Somatic)_CN_chr\"))"
   ]
  },
  {
   "cell_type": "code",
   "execution_count": 79,
   "metadata": {
    "vscode": {
     "languageId": "r"
    }
   },
   "outputs": [
    {
     "name": "stdout",
     "output_type": "stream",
     "text": [
      "\u001b[90m# A tibble: 2 x 5\u001b[39m\n",
      "  mark     x           t p.adjust signif\n",
      "  \u001b[3m\u001b[90m<chr>\u001b[39m\u001b[23m    \u001b[3m\u001b[90m<chr>\u001b[39m\u001b[23m   \u001b[3m\u001b[90m<dbl>\u001b[39m\u001b[23m    \u001b[3m\u001b[90m<dbl>\u001b[39m\u001b[23m \u001b[3m\u001b[90m<fct>\u001b[39m\u001b[23m \n",
      "\u001b[90m1\u001b[39m H3K4me3  50%     0.105 9.17\u001b[90me\u001b[39m\u001b[31m- 1\u001b[39m \u001b[90m\"\u001b[39m\u001b[90m\"\u001b[39m    \n",
      "\u001b[90m2\u001b[39m H3K27me3 50%   -\u001b[31m20\u001b[39m\u001b[31m.\u001b[39m\u001b[31m0\u001b[39m   2.39\u001b[90me\u001b[39m\u001b[31m-87\u001b[39m \u001b[90m\"\u001b[39m****\u001b[90m\"\u001b[39m\n"
     ]
    }
   ],
   "source": [
    "data <- tribble(\n",
    "  ~mark, ~germline, ~somatic,\n",
    "  \"H3K4me3\", chic.heatmap.paneled_H3K4_Germline_CN_chr, chic.heatmap.paneled_H3K4_Somatic_CN_chr,\n",
    "  \"H3K27me3\", chic.heatmap.paneled_H3K27_Germline_CN_chr, chic.heatmap.paneled_H3K27_Somatic_CN_chr,\n",
    ") %>%\n",
    "  rowwise() %>%\n",
    "  reframe(\n",
    "    mark,\n",
    "    ttest = t.test(\n",
    "      germline[\n",
    "        names(quartile.factor_Germline)[quartile.factor_Germline != \"Q1\"],\n",
    "        \"50%\"\n",
    "      ],\n",
    "      somatic[\n",
    "        names(quartile.factor_Somatic)[quartile.factor_Somatic != \"Q1\"],\n",
    "        \"50%\"\n",
    "      ]\n",
    "    ) %>%\n",
    "      list(),\n",
    "    x = \"50%\",\n",
    "    t = ttest$statistic[\"t\"],\n",
    "    p.adjust = ttest$p.value,\n",
    "  ) %>%\n",
    "  mutate(\n",
    "    p.adjust = p.adjust(p.adjust),\n",
    "    signif = structure(\n",
    "      cut(p.adjust, c(-Inf, 1e-4, 1e-3, 1e-2, 5e-2, Inf)),\n",
    "      levels = c(\"****\", \"***\", \"**\", \"*\", \"\"),\n",
    "      class = \"factor\"\n",
    "    )\n",
    "  ) %>%\n",
    "  subset(select = -ttest) %>%\n",
    "  print()"
   ]
  },
  {
   "cell_type": "markdown",
   "metadata": {},
   "source": [
    "## S5 L2FE_All_TE Summary of quantified transposable elements\n",
    "\n",
    "Transposable elements selected for the violin plot and their L2FC paired t-test"
   ]
  },
  {
   "cell_type": "code",
   "execution_count": 82,
   "metadata": {
    "vscode": {
     "languageId": "r"
    }
   },
   "outputs": [],
   "source": [
    "tar_load(\n",
    "  enriched.transposable.elements.peakcalling.broad.masked\n",
    ")\n",
    "H3K4_Germline <- tar_read(chic.experiment.quantify_H3K4_Germline_peakcalling.broad_masked)[enriched.transposable.elements.peakcalling.broad.masked]\n",
    "H3K4_Somatic <- tar_read(chic.experiment.quantify_H3K4_Somatic_peakcalling.broad_masked)[enriched.transposable.elements.peakcalling.broad.masked]\n",
    "H3K27_Germline <- tar_read(chic.experiment.quantify_H3K27_Germline_peakcalling.broad_masked)[enriched.transposable.elements.peakcalling.broad.masked]\n",
    "H3K27_Somatic <- tar_read(chic.experiment.quantify_H3K27_Somatic_peakcalling.broad_masked)[enriched.transposable.elements.peakcalling.broad.masked]\n",
    "H3K9_Germline <- tar_read(chic.experiment.quantify_H3K9_Germline_peakcalling.broad_masked)[enriched.transposable.elements.peakcalling.broad.masked]\n",
    "H3K9_Somatic <- tar_read(chic.experiment.quantify_H3K9_Somatic_peakcalling.broad_masked)[enriched.transposable.elements.peakcalling.broad.masked]"
   ]
  },
  {
   "cell_type": "markdown",
   "metadata": {},
   "source": [
    "The criteria are also found in the _targets build targets (H3 quantification >= 0.5 in all tracks so that the TE is present in all chromatin analyses)"
   ]
  },
  {
   "cell_type": "code",
   "execution_count": null,
   "metadata": {
    "vscode": {
     "languageId": "r"
    }
   },
   "outputs": [
    {
     "name": "stdout",
     "output_type": "stream",
     "text": [
      "\u001b[90m# A tibble: 3 x 5\u001b[39m\n",
      "  mark     ttest       t p.adjust signif\n",
      "  \u001b[3m\u001b[90m<chr>\u001b[39m\u001b[23m    \u001b[3m\u001b[90m<list>\u001b[39m\u001b[23m  \u001b[3m\u001b[90m<dbl>\u001b[39m\u001b[23m    \u001b[3m\u001b[90m<dbl>\u001b[39m\u001b[23m \u001b[3m\u001b[90m<fct>\u001b[39m\u001b[23m \n",
      "\u001b[90m1\u001b[39m H3K4me3  \u001b[90m<htest>\u001b[39m  3.50 1.30\u001b[90me\u001b[39m\u001b[31m- 3\u001b[39m **    \n",
      "\u001b[90m2\u001b[39m H3K27me3 \u001b[90m<htest>\u001b[39m -\u001b[31m2\u001b[39m\u001b[31m.\u001b[39m\u001b[31m40\u001b[39m 1.79\u001b[90me\u001b[39m\u001b[31m- 2\u001b[39m *     \n",
      "\u001b[90m3\u001b[39m H3K9me3  \u001b[90m<htest>\u001b[39m  8.55 1.52\u001b[90me\u001b[39m\u001b[31m-13\u001b[39m ****  \n"
     ]
    }
   ],
   "source": [
    "plot_features <- which(\n",
    "    H3K4_Germline$score.molH3 >= 0.5 &\n",
    "      H3K27_Germline$score.molH3 >= 0.5 &\n",
    "      H3K9_Germline$score.molH3 >= 0.5 &\n",
    "      H3K4_Somatic$score.molH3 >= 0.5 &\n",
    "      H3K27_Somatic$score.molH3 >= 0.5 &\n",
    "      H3K9_Somatic$score.molH3 >= 0.5\n",
    "  )\n",
    "data <- tribble(\n",
    "  ~mark, ~germline, ~somatic,\n",
    "  \"H3K4me3\", H3K4_Germline$L2FC[plot_features], H3K4_Somatic$L2FC[plot_features],\n",
    "  \"H3K27me3\", H3K27_Germline$L2FC[plot_features], H3K27_Somatic$L2FC[plot_features],\n",
    "  \"H3K9me3\", H3K9_Germline$L2FC[plot_features], H3K9_Somatic$L2FC[plot_features],\n",
    ") %>%\n",
    "  rowwise() %>%\n",
    "  reframe(\n",
    "    mark,\n",
    "    ttest = t.test(germline, somatic, paired=T) %>% list(),\n",
    "    t = ttest$statistic[\"t\"],\n",
    "    p.adjust = ttest$p.value,\n",
    "  ) %>%\n",
    "  mutate(\n",
    "    p.adjust = p.adjust(p.adjust),\n",
    "    signif = structure(\n",
    "      cut(p.adjust, c(-Inf, 1e-4, 1e-3, 1e-2, 5e-2, Inf)),\n",
    "      levels = c(\"****\", \"***\", \"**\", \"*\", \"\"),\n",
    "      class = \"factor\"\n",
    "    )\n",
    "  ) %>%\n",
    "  print()"
   ]
  },
  {
   "cell_type": "markdown",
   "metadata": {},
   "source": [
    "## Supplemental LOESS Model (Gene TSS)\n",
    "\n",
    "These LOESS predictions support Figure 3S - C & E. We predict L2FE conditioned on the logCPM of the gene."
   ]
  },
  {
   "cell_type": "code",
   "execution_count": 1,
   "metadata": {
    "vscode": {
     "languageId": "r"
    }
   },
   "outputs": [
    {
     "ename": "ERROR",
     "evalue": "Error in tar_load(c(chic.experiment.quantify.smooth_bw40_H3K4_Germline_CN_chr, : could not find function \"tar_load\"\n",
     "output_type": "error",
     "traceback": [
      "Error in tar_load(c(chic.experiment.quantify.smooth_bw40_H3K4_Germline_CN_chr, : could not find function \"tar_load\"\nTraceback:\n"
     ]
    }
   ],
   "source": [
    "tar_load(\n",
    "  c(\n",
    "    chic.experiment.quantify.smooth_bw40_H3K4_Germline_CN_chr,\n",
    "    chic.experiment.quantify.smooth_bw40_H3K27_Germline_CN_chr,\n",
    "    chic.experiment.quantify.smooth_bw40_H3K9_Germline_CN_chr,\n",
    "    chic.experiment.quantify.smooth_bw40_H3K4_Somatic_CN_chr,\n",
    "    chic.experiment.quantify.smooth_bw40_H3K27_Somatic_CN_chr,\n",
    "    chic.experiment.quantify.smooth_bw40_H3K9_Somatic_CN_chr,\n",
    "    chic.gene.tss.diameter_40_chr\n",
    "  )\n",
    ")"
   ]
  },
  {
   "cell_type": "code",
   "execution_count": 5,
   "metadata": {
    "vscode": {
     "languageId": "r"
    }
   },
   "outputs": [
    {
     "name": "stderr",
     "output_type": "stream",
     "text": [
      "No id variables; using all as measure variables\n",
      "\n"
     ]
    },
    {
     "name": "stdout",
     "output_type": "stream",
     "text": [
      "\u001b[90m# A tibble: 105,348 x 6\u001b[39m\n",
      "   celltype mark    group            L2FC   logCPM color \n",
      "   \u001b[3m\u001b[90m<fct>\u001b[39m\u001b[23m    \u001b[3m\u001b[90m<fct>\u001b[39m\u001b[23m   \u001b[3m\u001b[90m<fct>\u001b[39m\u001b[23m           \u001b[3m\u001b[90m<dbl>\u001b[39m\u001b[23m    \u001b[3m\u001b[90m<dbl>\u001b[39m\u001b[23m \u001b[3m\u001b[90m<fct>\u001b[39m\u001b[23m \n",
      "\u001b[90m 1\u001b[39m Germline H3K4me3 H3K4_Germline \u001b[31mNA\u001b[39m       2.36    high  \n",
      "\u001b[90m 2\u001b[39m Germline H3K4me3 H3K4_Germline -\u001b[31m0\u001b[39m\u001b[31m.\u001b[39m\u001b[31m450\u001b[39m   0.374   off   \n",
      "\u001b[90m 3\u001b[39m Germline H3K4me3 H3K4_Germline  0.298   0.005\u001b[4m9\u001b[24m\u001b[4m8\u001b[24m off   \n",
      "\u001b[90m 4\u001b[39m Germline H3K4me3 H3K4_Germline  0.768   1.40    medium\n",
      "\u001b[90m 5\u001b[39m Germline H3K4me3 H3K4_Germline  0.210  \u001b[31mNA\u001b[39m       off   \n",
      "\u001b[90m 6\u001b[39m Germline H3K4me3 H3K4_Germline -\u001b[31m1\u001b[39m\u001b[31m.\u001b[39m\u001b[31m0\u001b[39m\u001b[31m3\u001b[39m    0.806   low   \n",
      "\u001b[90m 7\u001b[39m Germline H3K4me3 H3K4_Germline  0.091\u001b[4m2\u001b[24m  0.328   off   \n",
      "\u001b[90m 8\u001b[39m Germline H3K4me3 H3K4_Germline  0.443  -\u001b[31m0\u001b[39m\u001b[31m.\u001b[39m\u001b[31m294\u001b[39m   off   \n",
      "\u001b[90m 9\u001b[39m Germline H3K4me3 H3K4_Germline -\u001b[31m0\u001b[39m\u001b[31m.\u001b[39m\u001b[31m0\u001b[39m\u001b[31m86\u001b[4m0\u001b[24m\u001b[39m  0.012\u001b[4m8\u001b[24m  off   \n",
      "\u001b[90m10\u001b[39m Germline H3K4me3 H3K4_Germline  0.078\u001b[4m4\u001b[24m  0.794   low   \n",
      "\u001b[90m# i 105,338 more rows\u001b[39m\n"
     ]
    }
   ],
   "source": [
    "tar_load(\n",
    "  c(\n",
    "    chic.gene.enrichment.l2fc,\n",
    "    Upd_cpm\n",
    "  )\n",
    ")\n",
    "marks <- data.frame(\n",
    "  celltype = c(\"Germline\", \"Somatic\") %>% factor(., .) %>% rep(each = 3 * nrow(Upd_cpm)),\n",
    "  mark = c(\"H3K4me3\", \"H3K27me3\", \"H3K9me3\") %>% factor(., .) %>% rep(each = nrow(Upd_cpm)),\n",
    "  melt(chic.gene.enrichment.l2fc[7:12], variable.name = \"group\", value.name = \"L2FC\"),\n",
    "  logCPM = c(\n",
    "    rep(log(Upd_cpm[, \"germline\"]) / log(10), 3) %>%\n",
    "      replace(!is.finite(.), NA),\n",
    "    rep(log(Upd_cpm[, \"somatic\"]) / log(10), 3) %>%\n",
    "      replace(!is.finite(.), NA)\n",
    "  ),\n",
    "  color = c(\n",
    "    rep(quartile.factor_Germline, 3),\n",
    "    rep(quartile.factor_Somatic, 3)\n",
    "  ) %>%\n",
    "    structure(levels = c(\"off\", \"low\", \"medium\", \"high\"), class = \"factor\")\n",
    ") %>%\n",
    "  tibble() %>%\n",
    "  print()"
   ]
  },
  {
   "cell_type": "code",
   "execution_count": 20,
   "metadata": {
    "vscode": {
     "languageId": "r"
    }
   },
   "outputs": [],
   "source": [
    "library(ggplot2)\n",
    "xlim <- c(-3, 3)\n",
    "ylim <- c(-3, 5)\n",
    "markloess <- marks %>%\n",
    "  group_by(group) %>%\n",
    "  reframe(\n",
    "    y = seq(min(ylim), max(ylim), by=0.01) %>%\n",
    "      round(2) %>%\n",
    "      subset(between(., logCPM %>% subset(. > -6) %>% quantile(0.025), logCPM %>% subset(. > -6) %>% quantile(0.975))),\n",
    "    predict(\n",
    "      loess(L2FC ~ logCPM),\n",
    "      newdata=y,\n",
    "      se = TRUE\n",
    "    ) %>%\n",
    "      as_tibble() %>%\n",
    "      reframe(L2FC = fit, L2FC.se = se.fit),\n",
    "    logCPM = y\n",
    "  ) %>%\n",
    "  print(n = 3)\n",
    "ggplot(markloess, aes(y, L2FC, color=group)) + geom_line()"
   ]
  },
  {
   "cell_type": "code",
   "execution_count": 21,
   "metadata": {
    "vscode": {
     "languageId": "r"
    }
   },
   "outputs": [
    {
     "name": "stdout",
     "output_type": "stream",
     "text": [
      "\u001b[90m# A tibble: 18 x 5\u001b[39m\n",
      "   group          name  teststat p.adjust signif\n",
      "   \u001b[3m\u001b[90m<fct>\u001b[39m\u001b[23m          \u001b[3m\u001b[90m<chr>\u001b[39m\u001b[23m    \u001b[3m\u001b[90m<dbl>\u001b[39m\u001b[23m    \u001b[3m\u001b[90m<dbl>\u001b[39m\u001b[23m \u001b[3m\u001b[90m<fct>\u001b[39m\u001b[23m \n",
      "\u001b[90m 1\u001b[39m H3K4_Germline  Q2       4.26  2.07\u001b[90me\u001b[39m\u001b[31m- 4\u001b[39m \u001b[90m\"\u001b[39m***\u001b[90m\"\u001b[39m \n",
      "\u001b[90m 2\u001b[39m H3K4_Germline  Q3       6.11  1.43\u001b[90me\u001b[39m\u001b[31m- 8\u001b[39m \u001b[90m\"\u001b[39m****\u001b[90m\"\u001b[39m\n",
      "\u001b[90m 3\u001b[39m H3K4_Germline  Q4       7.02  3.31\u001b[90me\u001b[39m\u001b[31m-11\u001b[39m \u001b[90m\"\u001b[39m****\u001b[90m\"\u001b[39m\n",
      "\u001b[90m 4\u001b[39m H3K27_Germline Q2       0.470 1   \u001b[90me\u001b[39m+ 0 \u001b[90m\"\u001b[39m\u001b[90m\"\u001b[39m    \n",
      "\u001b[90m 5\u001b[39m H3K27_Germline Q3       0.599 1   \u001b[90me\u001b[39m+ 0 \u001b[90m\"\u001b[39m\u001b[90m\"\u001b[39m    \n",
      "\u001b[90m 6\u001b[39m H3K27_Germline Q4       0.336 1   \u001b[90me\u001b[39m+ 0 \u001b[90m\"\u001b[39m\u001b[90m\"\u001b[39m    \n",
      "\u001b[90m 7\u001b[39m H3K9_Germline  Q2      -\u001b[31m1\u001b[39m\u001b[31m.\u001b[39m\u001b[31m94\u001b[39m  2.59\u001b[90me\u001b[39m\u001b[31m- 1\u001b[39m \u001b[90m\"\u001b[39m\u001b[90m\"\u001b[39m    \n",
      "\u001b[90m 8\u001b[39m H3K9_Germline  Q3      -\u001b[31m2\u001b[39m\u001b[31m.\u001b[39m\u001b[31m85\u001b[39m  2.65\u001b[90me\u001b[39m\u001b[31m- 2\u001b[39m \u001b[90m\"\u001b[39m*\u001b[90m\"\u001b[39m   \n",
      "\u001b[90m 9\u001b[39m H3K9_Germline  Q4      -\u001b[31m3\u001b[39m\u001b[31m.\u001b[39m\u001b[31m64\u001b[39m  2.49\u001b[90me\u001b[39m\u001b[31m- 3\u001b[39m \u001b[90m\"\u001b[39m**\u001b[90m\"\u001b[39m  \n",
      "\u001b[90m10\u001b[39m H3K4_Somatic   Q2       5.82  6.97\u001b[90me\u001b[39m\u001b[31m- 8\u001b[39m \u001b[90m\"\u001b[39m****\u001b[90m\"\u001b[39m\n",
      "\u001b[90m11\u001b[39m H3K4_Somatic   Q3       7.46  1.52\u001b[90me\u001b[39m\u001b[31m-12\u001b[39m \u001b[90m\"\u001b[39m****\u001b[90m\"\u001b[39m\n",
      "\u001b[90m12\u001b[39m H3K4_Somatic   Q4       7.85  7.29\u001b[90me\u001b[39m\u001b[31m-14\u001b[39m \u001b[90m\"\u001b[39m****\u001b[90m\"\u001b[39m\n",
      "\u001b[90m13\u001b[39m H3K27_Somatic  Q2      -\u001b[31m1\u001b[39m\u001b[31m.\u001b[39m\u001b[31m84\u001b[39m  2.65\u001b[90me\u001b[39m\u001b[31m- 1\u001b[39m \u001b[90m\"\u001b[39m\u001b[90m\"\u001b[39m    \n",
      "\u001b[90m14\u001b[39m H3K27_Somatic  Q3      -\u001b[31m3\u001b[39m\u001b[31m.\u001b[39m\u001b[31m63\u001b[39m  2.49\u001b[90me\u001b[39m\u001b[31m- 3\u001b[39m \u001b[90m\"\u001b[39m**\u001b[90m\"\u001b[39m  \n",
      "\u001b[90m15\u001b[39m H3K27_Somatic  Q4      -\u001b[31m5\u001b[39m\u001b[31m.\u001b[39m\u001b[31m94\u001b[39m  3.62\u001b[90me\u001b[39m\u001b[31m- 8\u001b[39m \u001b[90m\"\u001b[39m****\u001b[90m\"\u001b[39m\n",
      "\u001b[90m16\u001b[39m H3K9_Somatic   Q2      -\u001b[31m3\u001b[39m\u001b[31m.\u001b[39m\u001b[31m60\u001b[39m  2.49\u001b[90me\u001b[39m\u001b[31m- 3\u001b[39m \u001b[90m\"\u001b[39m**\u001b[90m\"\u001b[39m  \n",
      "\u001b[90m17\u001b[39m H3K9_Somatic   Q3      -\u001b[31m5\u001b[39m\u001b[31m.\u001b[39m\u001b[31m44\u001b[39m  5.79\u001b[90me\u001b[39m\u001b[31m- 7\u001b[39m \u001b[90m\"\u001b[39m****\u001b[90m\"\u001b[39m\n",
      "\u001b[90m18\u001b[39m H3K9_Somatic   Q4      -\u001b[31m7\u001b[39m\u001b[31m.\u001b[39m\u001b[31m0\u001b[39m\u001b[31m8\u001b[39m  2.30\u001b[90me\u001b[39m\u001b[31m-11\u001b[39m \u001b[90m\"\u001b[39m****\u001b[90m\"\u001b[39m\n"
     ]
    }
   ],
   "source": [
    "log10 <- \\(v) log(v) / log(10)\n",
    "x <- mapply(\n",
    "  \\(cpm, level) cpm %>%\n",
    "    split(level) %>%\n",
    "    sapply(\\(v) v %>% subset(v != 0) %>% median %>% log10 %>% round(digits=2)),\n",
    "  as.data.frame(Upd_cpm[, 1:2]),\n",
    "  list(quartile.factor_Germline, quartile.factor_Somatic)\n",
    ")\n",
    "data <- markloess %>%\n",
    "  group_by(group) %>%\n",
    "  reframe(\n",
    "    celltype = tolower(str_extract(group[1], \"Germline|Somatic\")),\n",
    "    tibble(name = c(\"Q2\", \"Q3\", \"Q4\")) %>%\n",
    "      rowwise() %>%\n",
    "      mutate(\n",
    "        teststat = (\n",
    "          L2FC[match(x[name, celltype], y)] -\n",
    "            L2FC[match(x[\"Q1\", celltype], y)]\n",
    "        ) /\n",
    "          sqrt(\n",
    "            L2FC.se[match(x[name, celltype], y)]^2 +\n",
    "              L2FC.se[match(x[\"Q1\", celltype], y)]\n",
    "          ),\n",
    "        p.adjust = teststat %>%\n",
    "          abs() %>%\n",
    "          pnorm(lower.tail = F) %>%\n",
    "          `*`(2) %>%\n",
    "          pmin(1)\n",
    "      )\n",
    "  ) %>%\n",
    "  subset(select = c(1, 3, 4, 5)) %>%\n",
    "  mutate(\n",
    "    p.adjust = p.adjust(p.adjust),\n",
    "    signif = structure(\n",
    "      cut(p.adjust, c(-Inf, 1e-4, 1e-3, 1e-2, 5e-2, Inf)),\n",
    "      levels = c(\"****\", \"***\", \"**\", \"*\", \"\"),\n",
    "      class = \"factor\"\n",
    "    )\n",
    "  ) %>%\n",
    "  print()"
   ]
  },
  {
   "cell_type": "markdown",
   "metadata": {},
   "source": [
    "## S4 Cell_Type_Specific_Chromatin\n",
    "\n",
    "Relative Enrichment (Quadrant II and IV) contingency table analysis.\n",
    "\n",
    "The significance comes from a \"simulation\" of permuting Bernoulli (50/50) GSC-specific vs CySC-specific labels to the specific chromatin. It is actually an exact test where p-values come from the Binomial distribution which is the sum of these Bernoulli random variables for all of the sliding windows of chromatin."
   ]
  },
  {
   "cell_type": "code",
   "execution_count": 6,
   "metadata": {
    "vscode": {
     "languageId": "r"
    }
   },
   "outputs": [
    {
     "name": "stderr",
     "output_type": "stream",
     "text": [
      "Loading required package: stats4\n",
      "\n",
      "Loading required package: BiocGenerics\n",
      "\n",
      "\n",
      "Attaching package: ‘BiocGenerics’\n",
      "\n",
      "\n",
      "The following objects are masked from ‘package:dplyr’:\n",
      "\n",
      "    combine, intersect, setdiff, union\n",
      "\n",
      "\n",
      "The following objects are masked from ‘package:stats’:\n",
      "\n",
      "    IQR, mad, sd, var, xtabs\n",
      "\n",
      "\n",
      "The following objects are masked from ‘package:base’:\n",
      "\n",
      "    anyDuplicated, aperm, append, as.data.frame, basename, cbind,\n",
      "    colnames, dirname, do.call, duplicated, eval, evalq, Filter, Find,\n",
      "    get, grep, grepl, intersect, is.unsorted, lapply, Map, mapply,\n",
      "    match, mget, order, paste, pmax, pmax.int, pmin, pmin.int,\n",
      "    Position, rank, rbind, Reduce, rownames, sapply, setdiff, sort,\n",
      "    table, tapply, union, unique, unsplit, which.max, which.min\n",
      "\n",
      "\n",
      "Loading required package: S4Vectors\n",
      "\n",
      "\n",
      "Attaching package: ‘S4Vectors’\n",
      "\n",
      "\n",
      "The following objects are masked from ‘package:dplyr’:\n",
      "\n",
      "    first, rename\n",
      "\n",
      "\n",
      "The following object is masked from ‘package:utils’:\n",
      "\n",
      "    findMatches\n",
      "\n",
      "\n",
      "The following objects are masked from ‘package:base’:\n",
      "\n",
      "    expand.grid, I, unname\n",
      "\n",
      "\n",
      "Loading required package: IRanges\n",
      "\n",
      "\n",
      "Attaching package: ‘IRanges’\n",
      "\n",
      "\n",
      "The following objects are masked from ‘package:dplyr’:\n",
      "\n",
      "    collapse, desc, slice\n",
      "\n",
      "\n",
      "Loading required package: GenomeInfoDb\n",
      "\n",
      "\n",
      "Attaching package: ‘GenomicRanges’\n",
      "\n",
      "\n",
      "The following object is masked from ‘package:magrittr’:\n",
      "\n",
      "    subtract\n",
      "\n",
      "\n"
     ]
    },
    {
     "data": {
      "text/plain": [
       "IRanges object with 1 range and 0 metadata columns:\n",
       "          start       end     width\n",
       "      <integer> <integer> <integer>\n",
       "  [1]     36901     76900     40000"
      ]
     },
     "metadata": {},
     "output_type": "display_data"
    },
    {
     "data": {
      "text/plain": [
       "factor-Rle of length 1375880 with 8 runs\n",
       "  Lengths: 235138 252870 281103 320794  13482 235423  36674    396\n",
       "  Values :   2L     2R     3L     3R     4      X      Y      rDNA\n",
       "Levels(8): 2L 2R 3L 3R 4 X Y rDNA"
      ]
     },
     "metadata": {},
     "output_type": "display_data"
    },
    {
     "data": {
      "text/plain": [
       "\n",
       "    2L    2LC     2R    2RC     3L    3LC     3R    3RC      4   rDNA      X \n",
       "221922  13216 196354  56516 231539  49564 278500  42294  13482    396 235423 \n",
       "     Y \n",
       " 36674 "
      ]
     },
     "metadata": {},
     "output_type": "display_data"
    }
   ],
   "source": [
    "library(dplyr)\n",
    "library(GenomicRanges)\n",
    "\n",
    "tar_load(chic.tile.diameter_500_chr)\n",
    "tar_load(chromosome_pericetromere_label)\n",
    "\n",
    "subset(chic.tile.diameter_500_chr, seqnames == \"rDNA\")[372:767] %>%\n",
    "  reduce() %>%\n",
    "  ranges()\n",
    "\n",
    "analyze_loci <- c(\n",
    "  seqnames(chic.tile.diameter_500_chr) %in% names(chr.lengths)\n",
    ") %>%\n",
    "  replace(\n",
    "    which(seqnames(chic.tile.diameter_500_chr) == \"rDNA\")[372:767],\n",
    "    TRUE\n",
    "  )\n",
    "seqnames <- seqnames(chic.tile.diameter_500_chr)[analyze_loci] %>%\n",
    "  droplevels()\n",
    "seqnames\n",
    "gr <- chic.tile.diameter_500_chr[analyze_loci]\n",
    "gr$region <- seqnames %>%\n",
    "  as.character() %>%\n",
    "  paste0(\n",
    "    rep(\"\", length(.)) %>%\n",
    "      replace(\n",
    "        to(findOverlaps(chromosome_pericetromere_label, gr)),\n",
    "        \"C\"\n",
    "      )\n",
    "  )\n",
    "table(gr$region)\n",
    "gr$region <- gr$region %>%\n",
    "  factor(c(\"2L\", \"2LC\", \"2RC\", \"2R\", \"3L\", \"3LC\", \"3RC\", \"3R\", \"4\", \"X\", \"Y\", \"rDNA\"))"
   ]
  },
  {
   "cell_type": "code",
   "execution_count": 7,
   "metadata": {
    "vscode": {
     "languageId": "r"
    }
   },
   "outputs": [],
   "source": [
    "tar_load(chic.experiment.quantify_H3K4_Germline_peakcalling.broad_chr)\n",
    "tar_load(chic.experiment.quantify_H3K4_Somatic_peakcalling.broad_chr)\n",
    "chic.experiment.quantify_H3K4_Germline_peakcalling.broad_chr <-\n",
    "  chic.experiment.quantify_H3K4_Germline_peakcalling.broad_chr[analyze_loci]\n",
    "seqlevels(chic.experiment.quantify_H3K4_Germline_peakcalling.broad_chr) <-\n",
    "  levels(seqnames)\n",
    "seqnames(chic.experiment.quantify_H3K4_Germline_peakcalling.broad_chr) <-\n",
    "  seqnames\n",
    "chic.experiment.quantify_H3K4_Somatic_peakcalling.broad_chr <-\n",
    "  chic.experiment.quantify_H3K4_Somatic_peakcalling.broad_chr[analyze_loci]\n",
    "seqlevels(chic.experiment.quantify_H3K4_Somatic_peakcalling.broad_chr) <-\n",
    "  levels(seqnames)\n",
    "seqnames(chic.experiment.quantify_H3K4_Somatic_peakcalling.broad_chr) <-\n",
    "  seqnames\n",
    "\n",
    "tar_load(chic.experiment.quantify_H3K27_Germline_peakcalling.broad_chr)\n",
    "tar_load(chic.experiment.quantify_H3K27_Somatic_peakcalling.broad_chr)\n",
    "chic.experiment.quantify_H3K27_Germline_peakcalling.broad_chr <-\n",
    "  chic.experiment.quantify_H3K27_Germline_peakcalling.broad_chr[analyze_loci]\n",
    "seqlevels(chic.experiment.quantify_H3K27_Germline_peakcalling.broad_chr) <-\n",
    "  levels(seqnames)\n",
    "seqnames(chic.experiment.quantify_H3K27_Germline_peakcalling.broad_chr) <-\n",
    "  seqnames\n",
    "chic.experiment.quantify_H3K27_Somatic_peakcalling.broad_chr <-\n",
    "  chic.experiment.quantify_H3K27_Somatic_peakcalling.broad_chr[analyze_loci]\n",
    "seqlevels(chic.experiment.quantify_H3K27_Somatic_peakcalling.broad_chr) <-\n",
    "  levels(seqnames)\n",
    "seqnames(chic.experiment.quantify_H3K27_Somatic_peakcalling.broad_chr) <-\n",
    "  seqnames\n",
    "\n",
    "tar_load(chic.experiment.quantify_H3K9_Germline_peakcalling.broad_chr)\n",
    "tar_load(chic.experiment.quantify_H3K9_Somatic_peakcalling.broad_chr)\n",
    "chic.experiment.quantify_H3K9_Germline_peakcalling.broad_chr <-\n",
    "  chic.experiment.quantify_H3K9_Germline_peakcalling.broad_chr[analyze_loci]\n",
    "seqlevels(chic.experiment.quantify_H3K9_Germline_peakcalling.broad_chr) <-\n",
    "  levels(seqnames)\n",
    "seqnames(chic.experiment.quantify_H3K9_Germline_peakcalling.broad_chr) <-\n",
    "  seqnames\n",
    "chic.experiment.quantify_H3K9_Somatic_peakcalling.broad_chr <-\n",
    "  chic.experiment.quantify_H3K9_Somatic_peakcalling.broad_chr[analyze_loci]\n",
    "seqlevels(chic.experiment.quantify_H3K9_Somatic_peakcalling.broad_chr) <-\n",
    "  levels(seqnames)\n",
    "seqnames(chic.experiment.quantify_H3K9_Somatic_peakcalling.broad_chr) <-\n",
    "  seqnames"
   ]
  },
  {
   "cell_type": "code",
   "execution_count": 8,
   "metadata": {
    "vscode": {
     "languageId": "r"
    }
   },
   "outputs": [],
   "source": [
    "chic.experiment.quantify_H3K4_Germline_peakcalling.broad_chr <-\n",
    "  chic.experiment.quantify_H3K4_Germline_peakcalling.broad_chr %>%\n",
    "    subset(seqnames(.) != \"rDNA\")\n",
    "chic.experiment.quantify_H3K4_Somatic_peakcalling.broad_chr <-\n",
    "  chic.experiment.quantify_H3K4_Somatic_peakcalling.broad_chr %>%\n",
    "    subset(seqnames(.) != \"rDNA\")\n",
    "\n",
    "chic.experiment.quantify_H3K27_Germline_peakcalling.broad_chr <-\n",
    "  chic.experiment.quantify_H3K27_Germline_peakcalling.broad_chr %>%\n",
    "    subset(seqnames(.) != \"rDNA\")\n",
    "chic.experiment.quantify_H3K27_Somatic_peakcalling.broad_chr <-\n",
    "  chic.experiment.quantify_H3K27_Somatic_peakcalling.broad_chr %>%\n",
    "    subset(seqnames(.) != \"rDNA\")\n",
    "\n",
    "chic.experiment.quantify_H3K9_Germline_peakcalling.broad_chr <-\n",
    "  chic.experiment.quantify_H3K9_Germline_peakcalling.broad_chr %>%\n",
    "    subset(seqnames(.) != \"rDNA\")\n",
    "chic.experiment.quantify_H3K9_Somatic_peakcalling.broad_chr <-\n",
    "  chic.experiment.quantify_H3K9_Somatic_peakcalling.broad_chr %>%\n",
    "    subset(seqnames(.) != \"rDNA\")\n",
    "\n",
    "gr <- gr %>% subset(seqnames(.) != \"rDNA\")"
   ]
  },
  {
   "cell_type": "code",
   "execution_count": 10,
   "metadata": {
    "vscode": {
     "languageId": "r"
    }
   },
   "outputs": [
    {
     "name": "stdout",
     "output_type": "stream",
     "text": [
      "\u001b[90m# A tibble: 66 × 3\u001b[39m\n",
      "   mark     region table[,1]  [,2]\n",
      "   \u001b[3m\u001b[90m<chr>\u001b[39m\u001b[23m    \u001b[3m\u001b[90m<fct>\u001b[39m\u001b[23m      \u001b[3m\u001b[90m<int>\u001b[39m\u001b[23m \u001b[3m\u001b[90m<int>\u001b[39m\u001b[23m\n",
      "\u001b[90m 1\u001b[39m H3K27me3 2L          \u001b[4m5\u001b[24m879 \u001b[4m4\u001b[24m\u001b[4m6\u001b[24m836\n",
      "\u001b[90m 2\u001b[39m H3K27me3 2L         \u001b[4m4\u001b[24m\u001b[4m3\u001b[24m264  \u001b[4m8\u001b[24m036\n",
      "\u001b[90m 3\u001b[39m H3K27me3 2LC          167   827\n",
      "\u001b[90m 4\u001b[39m H3K27me3 2LC         \u001b[4m3\u001b[24m838   543\n",
      "\u001b[90m 5\u001b[39m H3K27me3 2RC         \u001b[4m1\u001b[24m119  \u001b[4m4\u001b[24m090\n",
      "\u001b[90m 6\u001b[39m H3K27me3 2RC        \u001b[4m1\u001b[24m\u001b[4m6\u001b[24m205  \u001b[4m2\u001b[24m946\n",
      "\u001b[90m 7\u001b[39m H3K27me3 2R          \u001b[4m3\u001b[24m932 \u001b[4m5\u001b[24m\u001b[4m5\u001b[24m482\n",
      "\u001b[90m 8\u001b[39m H3K27me3 2R         \u001b[4m2\u001b[24m\u001b[4m9\u001b[24m721  \u001b[4m9\u001b[24m261\n",
      "\u001b[90m 9\u001b[39m H3K27me3 3L          \u001b[4m6\u001b[24m498 \u001b[4m5\u001b[24m\u001b[4m1\u001b[24m614\n",
      "\u001b[90m10\u001b[39m H3K27me3 3L         \u001b[4m4\u001b[24m\u001b[4m5\u001b[24m468  \u001b[4m8\u001b[24m563\n",
      "\u001b[90m# ℹ 56 more rows\u001b[39m\n"
     ]
    }
   ],
   "source": [
    "# Exact counts of Cell Type Specific Chromatin (in sliding windows of 100 bp)\n",
    "contingency_data <- (\n",
    "  tribble(\n",
    "    ~mark, ~Germline, ~Somatic,\n",
    "    \"H3K4me3\", chic.experiment.quantify_H3K4_Germline_peakcalling.broad_chr, chic.experiment.quantify_H3K4_Somatic_peakcalling.broad_chr,\n",
    "    \"H3K27me3\", chic.experiment.quantify_H3K27_Germline_peakcalling.broad_chr, chic.experiment.quantify_H3K27_Somatic_peakcalling.broad_chr,\n",
    "    \"H3K9me3\", chic.experiment.quantify_H3K9_Germline_peakcalling.broad_chr, chic.experiment.quantify_H3K9_Somatic_peakcalling.broad_chr,\n",
    "  ) %>%\n",
    "    group_by(mark) %>%\n",
    "    reframe(\n",
    "      region = gr$region,\n",
    "      across(\n",
    "        c(Germline, Somatic),\n",
    "        \\(gr) gr[[1]]$L2FC\n",
    "      )\n",
    "    ) %>%\n",
    "    group_by(mark, region) %>%\n",
    "    reframe(\n",
    "      table = rbind(\n",
    "        c(\n",
    "          sum(between(Germline, -7.5, -0.2) & between(Somatic, 0.2, 7.5)),\n",
    "          sum(between(Germline, 0.2, 7.5) & between(Somatic, 0.2, 7.5))\n",
    "        ),\n",
    "        c(\n",
    "          sum(between(Germline, -7.5, -0.2) & between(Somatic, -7.5, -0.2)),\n",
    "          sum(between(Germline, 0.2, 7.5) & between(Somatic, -7.5, -0.2))\n",
    "        )\n",
    "      )\n",
    "    )\n",
    ") %>%\n",
    "  print()"
   ]
  },
  {
   "cell_type": "markdown",
   "metadata": {},
   "source": [
    "Exact Test\n",
    "\n",
    "To find individuals of statistically independent quantification (no sliding overlap), we take the ratio of the window width (500 bp) to sliding window step (which we have set to 100 bp for this analysis). Thus, in the row entries of GSC-Specific chromatin window count and CySC-Specific chromatin window count, by dividing by this factor, we will be counting statistically independent individuals (non-overlapping chromatin, which also passes a MAPQ filter of 20 or more, further enhancing the accuracy of this test)."
   ]
  },
  {
   "cell_type": "code",
   "execution_count": 12,
   "metadata": {
    "vscode": {
     "languageId": "r"
    }
   },
   "outputs": [
    {
     "data": {
      "text/html": [
       "<table class=\"dataframe\">\n",
       "<caption>A tibble: 33 × 4</caption>\n",
       "<thead>\n",
       "\t<tr><th scope=col>mark</th><th scope=col>region</th><th scope=col>p.adjust</th><th scope=col>signif</th></tr>\n",
       "\t<tr><th scope=col>&lt;fct&gt;</th><th scope=col>&lt;fct&gt;</th><th scope=col>&lt;dbl&gt;</th><th scope=col>&lt;fct&gt;</th></tr>\n",
       "</thead>\n",
       "<tbody>\n",
       "\t<tr><td>H3K4me3 </td><td>2L </td><td> 5.962244e-06</td><td>****</td></tr>\n",
       "\t<tr><td>H3K4me3 </td><td>2LC</td><td> 1.048502e-11</td><td>****</td></tr>\n",
       "\t<tr><td>H3K4me3 </td><td>2RC</td><td> 3.074202e-19</td><td>****</td></tr>\n",
       "\t<tr><td>H3K4me3 </td><td>2R </td><td> 3.342499e-01</td><td>    </td></tr>\n",
       "\t<tr><td>H3K4me3 </td><td>3L </td><td> 1.583402e-20</td><td>****</td></tr>\n",
       "\t<tr><td>H3K4me3 </td><td>3LC</td><td> 1.158653e-18</td><td>****</td></tr>\n",
       "\t<tr><td>H3K4me3 </td><td>3RC</td><td> 1.041905e-05</td><td>****</td></tr>\n",
       "\t<tr><td>H3K4me3 </td><td>3R </td><td> 4.709798e-05</td><td>****</td></tr>\n",
       "\t<tr><td>H3K4me3 </td><td>4  </td><td> 8.665765e-25</td><td>****</td></tr>\n",
       "\t<tr><td>H3K4me3 </td><td>X  </td><td>3.513562e-175</td><td>****</td></tr>\n",
       "\t<tr><td>H3K4me3 </td><td>Y  </td><td> 4.536636e-09</td><td>****</td></tr>\n",
       "\t<tr><td>H3K27me3</td><td>2L </td><td> 5.185946e-15</td><td>****</td></tr>\n",
       "\t<tr><td>H3K27me3</td><td>2LC</td><td> 3.728809e-09</td><td>****</td></tr>\n",
       "\t<tr><td>H3K27me3</td><td>2RC</td><td> 2.608974e-37</td><td>****</td></tr>\n",
       "\t<tr><td>H3K27me3</td><td>2R </td><td> 1.179123e-96</td><td>****</td></tr>\n",
       "\t<tr><td>H3K27me3</td><td>3L </td><td> 1.005947e-12</td><td>****</td></tr>\n",
       "\t<tr><td>H3K27me3</td><td>3LC</td><td> 1.379708e-21</td><td>****</td></tr>\n",
       "\t<tr><td>H3K27me3</td><td>3RC</td><td> 5.085860e-05</td><td>****</td></tr>\n",
       "\t<tr><td>H3K27me3</td><td>3R </td><td>6.320752e-130</td><td>****</td></tr>\n",
       "\t<tr><td>H3K27me3</td><td>4  </td><td> 5.741592e-21</td><td>****</td></tr>\n",
       "\t<tr><td>H3K27me3</td><td>X  </td><td> 2.123859e-74</td><td>****</td></tr>\n",
       "\t<tr><td>H3K27me3</td><td>Y  </td><td> 6.086079e-03</td><td>**  </td></tr>\n",
       "\t<tr><td>H3K9me3 </td><td>2L </td><td> 1.000000e+00</td><td>    </td></tr>\n",
       "\t<tr><td>H3K9me3 </td><td>2LC</td><td> 5.962244e-06</td><td>****</td></tr>\n",
       "\t<tr><td>H3K9me3 </td><td>2RC</td><td> 6.140241e-27</td><td>****</td></tr>\n",
       "\t<tr><td>H3K9me3 </td><td>2R </td><td> 3.338013e-05</td><td>****</td></tr>\n",
       "\t<tr><td>H3K9me3 </td><td>3L </td><td> 1.000000e+00</td><td>    </td></tr>\n",
       "\t<tr><td>H3K9me3 </td><td>3LC</td><td> 5.100106e-06</td><td>****</td></tr>\n",
       "\t<tr><td>H3K9me3 </td><td>3RC</td><td> 5.107919e-04</td><td>*** </td></tr>\n",
       "\t<tr><td>H3K9me3 </td><td>3R </td><td> 6.960571e-16</td><td>****</td></tr>\n",
       "\t<tr><td>H3K9me3 </td><td>4  </td><td> 7.245099e-01</td><td>    </td></tr>\n",
       "\t<tr><td>H3K9me3 </td><td>X  </td><td> 1.083539e-30</td><td>****</td></tr>\n",
       "\t<tr><td>H3K9me3 </td><td>Y  </td><td> 1.014902e-03</td><td>**  </td></tr>\n",
       "</tbody>\n",
       "</table>\n"
      ],
      "text/latex": [
       "A tibble: 33 × 4\n",
       "\\begin{tabular}{llll}\n",
       " mark & region & p.adjust & signif\\\\\n",
       " <fct> & <fct> & <dbl> & <fct>\\\\\n",
       "\\hline\n",
       "\t H3K4me3  & 2L  &  5.962244e-06 & ****\\\\\n",
       "\t H3K4me3  & 2LC &  1.048502e-11 & ****\\\\\n",
       "\t H3K4me3  & 2RC &  3.074202e-19 & ****\\\\\n",
       "\t H3K4me3  & 2R  &  3.342499e-01 &     \\\\\n",
       "\t H3K4me3  & 3L  &  1.583402e-20 & ****\\\\\n",
       "\t H3K4me3  & 3LC &  1.158653e-18 & ****\\\\\n",
       "\t H3K4me3  & 3RC &  1.041905e-05 & ****\\\\\n",
       "\t H3K4me3  & 3R  &  4.709798e-05 & ****\\\\\n",
       "\t H3K4me3  & 4   &  8.665765e-25 & ****\\\\\n",
       "\t H3K4me3  & X   & 3.513562e-175 & ****\\\\\n",
       "\t H3K4me3  & Y   &  4.536636e-09 & ****\\\\\n",
       "\t H3K27me3 & 2L  &  5.185946e-15 & ****\\\\\n",
       "\t H3K27me3 & 2LC &  3.728809e-09 & ****\\\\\n",
       "\t H3K27me3 & 2RC &  2.608974e-37 & ****\\\\\n",
       "\t H3K27me3 & 2R  &  1.179123e-96 & ****\\\\\n",
       "\t H3K27me3 & 3L  &  1.005947e-12 & ****\\\\\n",
       "\t H3K27me3 & 3LC &  1.379708e-21 & ****\\\\\n",
       "\t H3K27me3 & 3RC &  5.085860e-05 & ****\\\\\n",
       "\t H3K27me3 & 3R  & 6.320752e-130 & ****\\\\\n",
       "\t H3K27me3 & 4   &  5.741592e-21 & ****\\\\\n",
       "\t H3K27me3 & X   &  2.123859e-74 & ****\\\\\n",
       "\t H3K27me3 & Y   &  6.086079e-03 & **  \\\\\n",
       "\t H3K9me3  & 2L  &  1.000000e+00 &     \\\\\n",
       "\t H3K9me3  & 2LC &  5.962244e-06 & ****\\\\\n",
       "\t H3K9me3  & 2RC &  6.140241e-27 & ****\\\\\n",
       "\t H3K9me3  & 2R  &  3.338013e-05 & ****\\\\\n",
       "\t H3K9me3  & 3L  &  1.000000e+00 &     \\\\\n",
       "\t H3K9me3  & 3LC &  5.100106e-06 & ****\\\\\n",
       "\t H3K9me3  & 3RC &  5.107919e-04 & *** \\\\\n",
       "\t H3K9me3  & 3R  &  6.960571e-16 & ****\\\\\n",
       "\t H3K9me3  & 4   &  7.245099e-01 &     \\\\\n",
       "\t H3K9me3  & X   &  1.083539e-30 & ****\\\\\n",
       "\t H3K9me3  & Y   &  1.014902e-03 & **  \\\\\n",
       "\\end{tabular}\n"
      ],
      "text/markdown": [
       "\n",
       "A tibble: 33 × 4\n",
       "\n",
       "| mark &lt;fct&gt; | region &lt;fct&gt; | p.adjust &lt;dbl&gt; | signif &lt;fct&gt; |\n",
       "|---|---|---|---|\n",
       "| H3K4me3  | 2L  |  5.962244e-06 | **** |\n",
       "| H3K4me3  | 2LC |  1.048502e-11 | **** |\n",
       "| H3K4me3  | 2RC |  3.074202e-19 | **** |\n",
       "| H3K4me3  | 2R  |  3.342499e-01 | <!----> |\n",
       "| H3K4me3  | 3L  |  1.583402e-20 | **** |\n",
       "| H3K4me3  | 3LC |  1.158653e-18 | **** |\n",
       "| H3K4me3  | 3RC |  1.041905e-05 | **** |\n",
       "| H3K4me3  | 3R  |  4.709798e-05 | **** |\n",
       "| H3K4me3  | 4   |  8.665765e-25 | **** |\n",
       "| H3K4me3  | X   | 3.513562e-175 | **** |\n",
       "| H3K4me3  | Y   |  4.536636e-09 | **** |\n",
       "| H3K27me3 | 2L  |  5.185946e-15 | **** |\n",
       "| H3K27me3 | 2LC |  3.728809e-09 | **** |\n",
       "| H3K27me3 | 2RC |  2.608974e-37 | **** |\n",
       "| H3K27me3 | 2R  |  1.179123e-96 | **** |\n",
       "| H3K27me3 | 3L  |  1.005947e-12 | **** |\n",
       "| H3K27me3 | 3LC |  1.379708e-21 | **** |\n",
       "| H3K27me3 | 3RC |  5.085860e-05 | **** |\n",
       "| H3K27me3 | 3R  | 6.320752e-130 | **** |\n",
       "| H3K27me3 | 4   |  5.741592e-21 | **** |\n",
       "| H3K27me3 | X   |  2.123859e-74 | **** |\n",
       "| H3K27me3 | Y   |  6.086079e-03 | **   |\n",
       "| H3K9me3  | 2L  |  1.000000e+00 | <!----> |\n",
       "| H3K9me3  | 2LC |  5.962244e-06 | **** |\n",
       "| H3K9me3  | 2RC |  6.140241e-27 | **** |\n",
       "| H3K9me3  | 2R  |  3.338013e-05 | **** |\n",
       "| H3K9me3  | 3L  |  1.000000e+00 | <!----> |\n",
       "| H3K9me3  | 3LC |  5.100106e-06 | **** |\n",
       "| H3K9me3  | 3RC |  5.107919e-04 | ***  |\n",
       "| H3K9me3  | 3R  |  6.960571e-16 | **** |\n",
       "| H3K9me3  | 4   |  7.245099e-01 | <!----> |\n",
       "| H3K9me3  | X   |  1.083539e-30 | **** |\n",
       "| H3K9me3  | Y   |  1.014902e-03 | **   |\n",
       "\n"
      ],
      "text/plain": [
       "   mark     region p.adjust      signif\n",
       "1  H3K4me3  2L      5.962244e-06 ****  \n",
       "2  H3K4me3  2LC     1.048502e-11 ****  \n",
       "3  H3K4me3  2RC     3.074202e-19 ****  \n",
       "4  H3K4me3  2R      3.342499e-01       \n",
       "5  H3K4me3  3L      1.583402e-20 ****  \n",
       "6  H3K4me3  3LC     1.158653e-18 ****  \n",
       "7  H3K4me3  3RC     1.041905e-05 ****  \n",
       "8  H3K4me3  3R      4.709798e-05 ****  \n",
       "9  H3K4me3  4       8.665765e-25 ****  \n",
       "10 H3K4me3  X      3.513562e-175 ****  \n",
       "11 H3K4me3  Y       4.536636e-09 ****  \n",
       "12 H3K27me3 2L      5.185946e-15 ****  \n",
       "13 H3K27me3 2LC     3.728809e-09 ****  \n",
       "14 H3K27me3 2RC     2.608974e-37 ****  \n",
       "15 H3K27me3 2R      1.179123e-96 ****  \n",
       "16 H3K27me3 3L      1.005947e-12 ****  \n",
       "17 H3K27me3 3LC     1.379708e-21 ****  \n",
       "18 H3K27me3 3RC     5.085860e-05 ****  \n",
       "19 H3K27me3 3R     6.320752e-130 ****  \n",
       "20 H3K27me3 4       5.741592e-21 ****  \n",
       "21 H3K27me3 X       2.123859e-74 ****  \n",
       "22 H3K27me3 Y       6.086079e-03 **    \n",
       "23 H3K9me3  2L      1.000000e+00       \n",
       "24 H3K9me3  2LC     5.962244e-06 ****  \n",
       "25 H3K9me3  2RC     6.140241e-27 ****  \n",
       "26 H3K9me3  2R      3.338013e-05 ****  \n",
       "27 H3K9me3  3L      1.000000e+00       \n",
       "28 H3K9me3  3LC     5.100106e-06 ****  \n",
       "29 H3K9me3  3RC     5.107919e-04 ***   \n",
       "30 H3K9me3  3R      6.960571e-16 ****  \n",
       "31 H3K9me3  4       7.245099e-01       \n",
       "32 H3K9me3  X       1.083539e-30 ****  \n",
       "33 H3K9me3  Y       1.014902e-03 **    "
      ]
     },
     "metadata": {},
     "output_type": "display_data"
    }
   ],
   "source": [
    "library(withr)\n",
    "overlap_factor <- 5\n",
    "contingency_data$mark <- contingency_data$mark %>%\n",
    "  factor(str_glue(\"H3K{c(4,27,9)}me3\"))\n",
    "contingency_test <- contingency_data %>%\n",
    "  group_by(mark, region) %>%\n",
    "  reframe(\n",
    "    p.adjust = mean(\n",
    "      {\n",
    "        p <- table[1, 1] / (table[1, 1] + table[2, 2])\n",
    "        q <- table[2, 2] / (table[1, 1] + table[2, 2])\n",
    "        n <- round((table[1, 1] + table[2, 2]) / overlap_factor)\n",
    "        if (table[1, 1] < table[2, 2]) {\n",
    "          lower <- table[1, 1] / overlap_factor\n",
    "          upper <- table[2, 2] / overlap_factor\n",
    "        } else {\n",
    "          lower <- table[2, 2] / overlap_factor\n",
    "          upper <- table[1, 1] / overlap_factor\n",
    "        }\n",
    "        pbinom(upper - 1, n, prob = 0.5, lower.tail = F) +\n",
    "          pbinom(lower, n, prob = 0.5)\n",
    "      }\n",
    "    )\n",
    "  ) %>%\n",
    "  mutate(\n",
    "    p.adjust = p.adjust %>% p.adjust(),\n",
    "    signif = structure(\n",
    "      cut(p.adjust, c(-Inf, 1e-4, 1e-3, 1e-2, 5e-2, Inf)),\n",
    "      levels = c(\"****\", \"***\", \"**\", \"*\", \"\"),\n",
    "      class = \"factor\"\n",
    "    )\n",
    "  )\n",
    "contingency_test"
   ]
  }
 ],
 "metadata": {
  "kernelspec": {
   "display_name": "R",
   "language": "R",
   "name": "ir"
  },
  "language_info": {
   "codemirror_mode": "r",
   "file_extension": ".r",
   "mimetype": "text/x-r-source",
   "name": "R",
   "pygments_lexer": "r",
   "version": "4.3.3"
  }
 },
 "nbformat": 4,
 "nbformat_minor": 2
}
