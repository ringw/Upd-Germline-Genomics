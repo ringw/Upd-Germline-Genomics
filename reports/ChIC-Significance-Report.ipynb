{
 "cells": [
  {
   "cell_type": "code",
   "execution_count": null,
   "metadata": {
    "vscode": {
     "languageId": "r"
    }
   },
   "outputs": [],
   "source": [
    "setwd(\"~/Upd-Germline-Genomics\")\n",
    "source(\"_targets.R\")"
   ]
  },
  {
   "cell_type": "markdown",
   "metadata": {},
   "source": [
    "## Histone mark profile plot - local maxima and their significance to the \"off\" genes t-test"
   ]
  },
  {
   "cell_type": "code",
   "execution_count": 63,
   "metadata": {
    "vscode": {
     "languageId": "r"
    }
   },
   "outputs": [],
   "source": [
    "tar_load(matches(\"^chic.heatmap.tss_H3K(4|27|9)_(Germline|Somatic)_CN_chr\"))\n",
    "tar_load(c(quartile.factor_Germline, quartile.factor_Somatic))"
   ]
  },
  {
   "cell_type": "code",
   "execution_count": 6,
   "metadata": {
    "vscode": {
     "languageId": "r"
    }
   },
   "outputs": [
    {
     "data": {
      "text/html": [
       "TRUE"
      ],
      "text/latex": [
       "TRUE"
      ],
      "text/markdown": [
       "TRUE"
      ],
      "text/plain": [
       "[1] TRUE"
      ]
     },
     "metadata": {},
     "output_type": "display_data"
    }
   ],
   "source": [
    "all.equal(\n",
    "  sort(match(rownames(chic.heatmap.tss_H3K27_Somatic_CN_chr), names(quartile.factor_Somatic))),\n",
    "  seq_along(quartile.factor_Somatic)\n",
    ")"
   ]
  },
  {
   "cell_type": "code",
   "execution_count": 64,
   "metadata": {
    "vscode": {
     "languageId": "r"
    }
   },
   "outputs": [
    {
     "name": "stdout",
     "output_type": "stream",
     "text": [
      "\u001b[90m# A tibble: 18 x 8\u001b[39m\n",
      "   celltype panel    rowname level x           t  p.adjust signif\n",
      "   \u001b[3m\u001b[90m<chr>\u001b[39m\u001b[23m    \u001b[3m\u001b[90m<chr>\u001b[39m\u001b[23m    \u001b[3m\u001b[90m<chr>\u001b[39m\u001b[23m   \u001b[3m\u001b[90m<chr>\u001b[39m\u001b[23m \u001b[3m\u001b[90m<chr>\u001b[39m\u001b[23m   \u001b[3m\u001b[90m<dbl>\u001b[39m\u001b[23m     \u001b[3m\u001b[90m<dbl>\u001b[39m\u001b[23m \u001b[3m\u001b[90m<fct>\u001b[39m\u001b[23m \n",
      "\u001b[90m 1\u001b[39m Germline H3K4me3  low     Q2    131    24.1   1.51\u001b[90me\u001b[39m\u001b[31m-114\u001b[39m \u001b[90m\"\u001b[39m****\u001b[90m\"\u001b[39m\n",
      "\u001b[90m 2\u001b[39m Germline H3K4me3  medium  Q3    132    37.4   9.17\u001b[90me\u001b[39m\u001b[31m-242\u001b[39m \u001b[90m\"\u001b[39m****\u001b[90m\"\u001b[39m\n",
      "\u001b[90m 3\u001b[39m Germline H3K4me3  high    Q4    132    40.1   4.40\u001b[90me\u001b[39m\u001b[31m-271\u001b[39m \u001b[90m\"\u001b[39m****\u001b[90m\"\u001b[39m\n",
      "\u001b[90m 4\u001b[39m Germline H3K27me3 low     Q2    133    -\u001b[31m2\u001b[39m\u001b[31m.\u001b[39m\u001b[31m82\u001b[39m  1.92\u001b[90me\u001b[39m\u001b[31m-  2\u001b[39m \u001b[90m\"\u001b[39m*\u001b[90m\"\u001b[39m   \n",
      "\u001b[90m 5\u001b[39m Germline H3K27me3 medium  Q3    133    -\u001b[31m1\u001b[39m\u001b[31m.\u001b[39m\u001b[31m93\u001b[39m  1.59\u001b[90me\u001b[39m\u001b[31m-  1\u001b[39m \u001b[90m\"\u001b[39m\u001b[90m\"\u001b[39m    \n",
      "\u001b[90m 6\u001b[39m Germline H3K27me3 high    Q4    -30    -\u001b[31m1\u001b[39m\u001b[31m.\u001b[39m\u001b[31m49\u001b[39m  2.71\u001b[90me\u001b[39m\u001b[31m-  1\u001b[39m \u001b[90m\"\u001b[39m\u001b[90m\"\u001b[39m    \n",
      "\u001b[90m 7\u001b[39m Germline H3K9me3  low     Q2    -14     4.37  6.35\u001b[90me\u001b[39m\u001b[31m-  5\u001b[39m \u001b[90m\"\u001b[39m****\u001b[90m\"\u001b[39m\n",
      "\u001b[90m 8\u001b[39m Germline H3K9me3  medium  Q3    -10     6.52  6.64\u001b[90me\u001b[39m\u001b[31m- 10\u001b[39m \u001b[90m\"\u001b[39m****\u001b[90m\"\u001b[39m\n",
      "\u001b[90m 9\u001b[39m Germline H3K9me3  high    Q4    -10     5.29  9.92\u001b[90me\u001b[39m\u001b[31m-  7\u001b[39m \u001b[90m\"\u001b[39m****\u001b[90m\"\u001b[39m\n",
      "\u001b[90m10\u001b[39m Somatic  H3K4me3  low     Q2    308     9.31  1.70\u001b[90me\u001b[39m\u001b[31m- 19\u001b[39m \u001b[90m\"\u001b[39m****\u001b[90m\"\u001b[39m\n",
      "\u001b[90m11\u001b[39m Somatic  H3K4me3  medium  Q3    134    10.7   2.91\u001b[90me\u001b[39m\u001b[31m- 25\u001b[39m \u001b[90m\"\u001b[39m****\u001b[90m\"\u001b[39m\n",
      "\u001b[90m12\u001b[39m Somatic  H3K4me3  high    Q4    135     8.96  3.91\u001b[90me\u001b[39m\u001b[31m- 18\u001b[39m \u001b[90m\"\u001b[39m****\u001b[90m\"\u001b[39m\n",
      "\u001b[90m13\u001b[39m Somatic  H3K27me3 low     Q2    483     5.24  1.16\u001b[90me\u001b[39m\u001b[31m-  6\u001b[39m \u001b[90m\"\u001b[39m****\u001b[90m\"\u001b[39m\n",
      "\u001b[90m14\u001b[39m Somatic  H3K27me3 medium  Q3    487     4.55  3.31\u001b[90me\u001b[39m\u001b[31m-  5\u001b[39m \u001b[90m\"\u001b[39m****\u001b[90m\"\u001b[39m\n",
      "\u001b[90m15\u001b[39m Somatic  H3K27me3 high    Q4    490    -\u001b[31m0\u001b[39m\u001b[31m.\u001b[39m\u001b[31m934\u001b[39m 3.51\u001b[90me\u001b[39m\u001b[31m-  1\u001b[39m \u001b[90m\"\u001b[39m\u001b[90m\"\u001b[39m    \n",
      "\u001b[90m16\u001b[39m Somatic  H3K9me3  low     Q2    -13    -\u001b[31m8\u001b[39m\u001b[31m.\u001b[39m\u001b[31m74\u001b[39m  3.56\u001b[90me\u001b[39m\u001b[31m- 17\u001b[39m \u001b[90m\"\u001b[39m****\u001b[90m\"\u001b[39m\n",
      "\u001b[90m17\u001b[39m Somatic  H3K9me3  medium  Q3    -14    -\u001b[31m9\u001b[39m\u001b[31m.\u001b[39m\u001b[31m56\u001b[39m  2.98\u001b[90me\u001b[39m\u001b[31m- 20\u001b[39m \u001b[90m\"\u001b[39m****\u001b[90m\"\u001b[39m\n",
      "\u001b[90m18\u001b[39m Somatic  H3K9me3  high    Q4    -16   -\u001b[31m11\u001b[39m\u001b[31m.\u001b[39m\u001b[31m7\u001b[39m   8.18\u001b[90me\u001b[39m\u001b[31m- 30\u001b[39m \u001b[90m\"\u001b[39m****\u001b[90m\"\u001b[39m\n"
     ]
    }
   ],
   "source": [
    "data <- tibble(\n",
    "  cross_join(\n",
    "    tibble(\n",
    "      celltype = c(\"Germline\", \"Germline\", \"Germline\", \"Somatic\", \"Somatic\", \"Somatic\"),\n",
    "      panel = c(\"H3K4me3\", \"H3K27me3\", \"H3K9me3\", \"H3K4me3\", \"H3K27me3\", \"H3K9me3\"),\n",
    "      heatmap = list(\n",
    "        chic.heatmap.tss_H3K4_Germline_CN_chr,\n",
    "        chic.heatmap.tss_H3K27_Germline_CN_chr,\n",
    "        chic.heatmap.tss_H3K9_Germline_CN_chr,\n",
    "        chic.heatmap.tss_H3K4_Somatic_CN_chr,\n",
    "        chic.heatmap.tss_H3K27_Somatic_CN_chr,\n",
    "        chic.heatmap.tss_H3K9_Somatic_CN_chr\n",
    "      )\n",
    "    ),\n",
    "    tibble(\n",
    "      rowname = c(\"low\", \"medium\", \"high\"),\n",
    "      level = c(\"Q2\", \"Q3\", \"Q4\"),\n",
    "    ),\n",
    "  ),\n",
    "  quant = mapply(\n",
    "    \\(celltype, heatmap) get(str_glue(\"quartile.factor_\", celltype))[rownames(heatmap)],\n",
    "    celltype,\n",
    "    heatmap,\n",
    "    SIMPLIFY=FALSE\n",
    "  ),\n",
    "  x = mapply(\n",
    "    \\(level, heatmap, quant) colnames(heatmap)[\n",
    "      which.max(\n",
    "        colMeans(heatmap[quant == level, 1:1000], na.rm=T) %>%\n",
    "          replace(\n",
    "            c(\n",
    "              1,\n",
    "              1 + which(\n",
    "                diff(diff(colMeans(heatmap[quant == level, 1:1000], na.rm=T))) >= -1e-4\n",
    "              ),\n",
    "              1000\n",
    "            ),\n",
    "            0\n",
    "          )\n",
    "      )\n",
    "    ],\n",
    "    level,\n",
    "    heatmap,\n",
    "    quant\n",
    "  ),\n",
    "  ttest = mapply(\n",
    "    \\(heatmap, quant, level, x) t.test(\n",
    "      heatmap[quant == level, x],\n",
    "      heatmap[quant == \"Q1\", x]\n",
    "    ),\n",
    "    heatmap,\n",
    "    quant,\n",
    "    level,\n",
    "    x,\n",
    "    SIMPLIFY=FALSE\n",
    "  ),\n",
    "  t = sapply(ttest, \\(obj) obj$statistic[\"t\"]),\n",
    "  p.adjust = p.adjust(\n",
    "    sapply(\n",
    "      ttest,\n",
    "      \\(obj) obj$p.value\n",
    "    )\n",
    "  ),\n",
    "  signif = structure(\n",
    "    cut(p.adjust, c(-Inf, 1e-4, 1e-3, 1e-2, 5e-2, Inf)),\n",
    "    levels = c(\"****\", \"***\", \"**\", \"*\", \"\"),\n",
    "    class = \"factor\"\n",
    "  )\n",
    ") %>%\n",
    "  subset(select=-c(heatmap,quant,ttest)) %>%\n",
    "  print()"
   ]
  },
  {
   "cell_type": "code",
   "execution_count": 66,
   "metadata": {
    "vscode": {
     "languageId": "r"
    }
   },
   "outputs": [],
   "source": [
    "tar_load(\n",
    "  c(\n",
    "    chic.heatmap.tss.nucleosome_H3K27_Germline_CN_chr,\n",
    "    chic.heatmap.tss.nucleosome_H3K27_Somatic_CN_chr\n",
    "  )\n",
    ")"
   ]
  },
  {
   "cell_type": "code",
   "execution_count": 68,
   "metadata": {
    "vscode": {
     "languageId": "r"
    }
   },
   "outputs": [
    {
     "name": "stdout",
     "output_type": "stream",
     "text": [
      "\u001b[90m# A tibble: 6 x 7\u001b[39m\n",
      "  celltype rowname level x         t  p.adjust signif\n",
      "  \u001b[3m\u001b[90m<chr>\u001b[39m\u001b[23m    \u001b[3m\u001b[90m<chr>\u001b[39m\u001b[23m   \u001b[3m\u001b[90m<chr>\u001b[39m\u001b[23m \u001b[3m\u001b[90m<chr>\u001b[39m\u001b[23m \u001b[3m\u001b[90m<dbl>\u001b[39m\u001b[23m     \u001b[3m\u001b[90m<dbl>\u001b[39m\u001b[23m \u001b[3m\u001b[90m<fct>\u001b[39m\u001b[23m \n",
      "\u001b[90m1\u001b[39m Germline low     Q2    131    29.9 7.84\u001b[90me\u001b[39m\u001b[31m-168\u001b[39m ****  \n",
      "\u001b[90m2\u001b[39m Germline medium  Q3    133    47.1 0   \u001b[90m \u001b[39m     ****  \n",
      "\u001b[90m3\u001b[39m Germline high    Q4    134    46.5 0   \u001b[90m \u001b[39m     ****  \n",
      "\u001b[90m4\u001b[39m Somatic  low     Q2    129    34.1 4.06\u001b[90me\u001b[39m\u001b[31m-208\u001b[39m ****  \n",
      "\u001b[90m5\u001b[39m Somatic  medium  Q3    131    42.2 2.22\u001b[90me\u001b[39m\u001b[31m-290\u001b[39m ****  \n",
      "\u001b[90m6\u001b[39m Somatic  high    Q4    133    38.2 1.02\u001b[90me\u001b[39m\u001b[31m-248\u001b[39m ****  \n"
     ]
    }
   ],
   "source": [
    "data <- tibble(\n",
    "  cross_join(\n",
    "    tibble(\n",
    "      celltype = c(\"Germline\", \"Somatic\"),\n",
    "      heatmap = list(\n",
    "        chic.heatmap.tss.nucleosome_H3K27_Germline_CN_chr,\n",
    "        chic.heatmap.tss.nucleosome_H3K27_Somatic_CN_chr\n",
    "      )\n",
    "    ),\n",
    "    tibble(\n",
    "      rowname = c(\"low\", \"medium\", \"high\"),\n",
    "      level = c(\"Q2\", \"Q3\", \"Q4\"),\n",
    "    ),\n",
    "  ),\n",
    "  quant = mapply(\n",
    "    \\(celltype, heatmap) get(str_glue(\"quartile.factor_\", celltype))[rownames(heatmap)],\n",
    "    celltype,\n",
    "    heatmap,\n",
    "    SIMPLIFY=FALSE\n",
    "  ),\n",
    "  x = mapply(\n",
    "    \\(level, heatmap, quant) colnames(heatmap)[\n",
    "      which.max(\n",
    "        colMeans(heatmap[quant == level, 1:1000], na.rm=T) %>%\n",
    "          replace(\n",
    "            c(\n",
    "              1,\n",
    "              1 + which(\n",
    "                diff(diff(colMeans(heatmap[quant == level, 1:1000], na.rm=T))) >= -1e-4\n",
    "              ),\n",
    "              1000\n",
    "            ),\n",
    "            0\n",
    "          )\n",
    "      )\n",
    "    ],\n",
    "    level,\n",
    "    heatmap,\n",
    "    quant\n",
    "  ),\n",
    "  ttest = mapply(\n",
    "    \\(heatmap, quant, level, x) t.test(\n",
    "      heatmap[quant == level, x],\n",
    "      heatmap[quant == \"Q1\", x]\n",
    "    ),\n",
    "    heatmap,\n",
    "    quant,\n",
    "    level,\n",
    "    x,\n",
    "    SIMPLIFY=FALSE\n",
    "  ),\n",
    "  t = sapply(ttest, \\(obj) obj$statistic[\"t\"]),\n",
    "  p.adjust = p.adjust(\n",
    "    sapply(\n",
    "      ttest,\n",
    "      \\(obj) obj$p.value\n",
    "    )\n",
    "  ),\n",
    "  signif = structure(\n",
    "    cut(p.adjust, c(-Inf, 1e-4, 1e-3, 1e-2, 5e-2, Inf)),\n",
    "    levels = c(\"****\", \"***\", \"**\", \"*\", \"\"),\n",
    "    class = \"factor\"\n",
    "  )\n",
    ") %>%\n",
    "  subset(select=-c(heatmap,quant,ttest)) %>%\n",
    "  print()"
   ]
  },
  {
   "cell_type": "markdown",
   "metadata": {},
   "source": [
    "## Histone mark code & replication regime profile plot - local maxima and their significance to the \"off\" genes t-test"
   ]
  },
  {
   "cell_type": "code",
   "execution_count": 64,
   "metadata": {
    "vscode": {
     "languageId": "r"
    }
   },
   "outputs": [
    {
     "data": {
      "text/plain": [
       "repli.gene_Germline\n",
       "   L   ML   EM    E \n",
       " 672 3378 5503 7999 "
      ]
     },
     "metadata": {},
     "output_type": "display_data"
    }
   ],
   "source": [
    "tar_load(c(repli.gene_Germline, repli.gene_Somatic))\n",
    "table(repli.gene_Germline)"
   ]
  },
  {
   "cell_type": "code",
   "execution_count": 65,
   "metadata": {
    "vscode": {
     "languageId": "r"
    }
   },
   "outputs": [
    {
     "data": {
      "text/html": [
       "TRUE"
      ],
      "text/latex": [
       "TRUE"
      ],
      "text/markdown": [
       "TRUE"
      ],
      "text/plain": [
       "[1] TRUE"
      ]
     },
     "metadata": {},
     "output_type": "display_data"
    }
   ],
   "source": [
    "all.equal(\n",
    "  sort(match(rownames(chic.heatmap.tss_H3K27_Somatic_CN_chr), names(repli.gene_Somatic))),\n",
    "  seq_along(repli.gene_Somatic)\n",
    ")"
   ]
  },
  {
   "cell_type": "code",
   "execution_count": 70,
   "metadata": {
    "vscode": {
     "languageId": "r"
    }
   },
   "outputs": [
    {
     "name": "stdout",
     "output_type": "stream",
     "text": [
      "\u001b[90m# A tibble: 18 x 7\u001b[39m\n",
      "   celltype panel    level x          t p.adjust signif\n",
      "   \u001b[3m\u001b[90m<chr>\u001b[39m\u001b[23m    \u001b[3m\u001b[90m<fct>\u001b[39m\u001b[23m    \u001b[3m\u001b[90m<fct>\u001b[39m\u001b[23m \u001b[3m\u001b[90m<chr>\u001b[39m\u001b[23m  \u001b[3m\u001b[90m<dbl>\u001b[39m\u001b[23m    \u001b[3m\u001b[90m<dbl>\u001b[39m\u001b[23m \u001b[3m\u001b[90m<fct>\u001b[39m\u001b[23m \n",
      "\u001b[90m 1\u001b[39m Germline H3K4me3  ML    136    3.42  6.42\u001b[90me\u001b[39m\u001b[31m- 3\u001b[39m \u001b[90m\"\u001b[39m**\u001b[90m\"\u001b[39m  \n",
      "\u001b[90m 2\u001b[39m Germline H3K4me3  EM    131   14.9   2.30\u001b[90me\u001b[39m\u001b[31m-45\u001b[39m \u001b[90m\"\u001b[39m****\u001b[90m\"\u001b[39m\n",
      "\u001b[90m 3\u001b[39m Germline H3K4me3  E     134   19.8   1.24\u001b[90me\u001b[39m\u001b[31m-72\u001b[39m \u001b[90m\"\u001b[39m****\u001b[90m\"\u001b[39m\n",
      "\u001b[90m 4\u001b[39m Germline H3K27me3 ML    146    1.78  3.76\u001b[90me\u001b[39m\u001b[31m- 1\u001b[39m \u001b[90m\"\u001b[39m\u001b[90m\"\u001b[39m    \n",
      "\u001b[90m 5\u001b[39m Germline H3K27me3 EM    133    3.27  9.62\u001b[90me\u001b[39m\u001b[31m- 3\u001b[39m \u001b[90m\"\u001b[39m**\u001b[90m\"\u001b[39m  \n",
      "\u001b[90m 6\u001b[39m Germline H3K27me3 E     136    3.48  5.62\u001b[90me\u001b[39m\u001b[31m- 3\u001b[39m \u001b[90m\"\u001b[39m**\u001b[90m\"\u001b[39m  \n",
      "\u001b[90m 7\u001b[39m Germline H3K9me3  ML    -9     2.22  2.11\u001b[90me\u001b[39m\u001b[31m- 1\u001b[39m \u001b[90m\"\u001b[39m\u001b[90m\"\u001b[39m    \n",
      "\u001b[90m 8\u001b[39m Germline H3K9me3  EM    -8     1.91  3.35\u001b[90me\u001b[39m\u001b[31m- 1\u001b[39m \u001b[90m\"\u001b[39m\u001b[90m\"\u001b[39m    \n",
      "\u001b[90m 9\u001b[39m Germline H3K9me3  E     -10    4.15  4.40\u001b[90me\u001b[39m\u001b[31m- 4\u001b[39m \u001b[90m\"\u001b[39m***\u001b[90m\"\u001b[39m \n",
      "\u001b[90m10\u001b[39m Somatic  H3K4me3  ML    133    2.05  2.86\u001b[90me\u001b[39m\u001b[31m- 1\u001b[39m \u001b[90m\"\u001b[39m\u001b[90m\"\u001b[39m    \n",
      "\u001b[90m11\u001b[39m Somatic  H3K4me3  EM    135    8.54  2.45\u001b[90me\u001b[39m\u001b[31m-16\u001b[39m \u001b[90m\"\u001b[39m****\u001b[90m\"\u001b[39m\n",
      "\u001b[90m12\u001b[39m Somatic  H3K4me3  E     130    6.38  2.69\u001b[90me\u001b[39m\u001b[31m- 9\u001b[39m \u001b[90m\"\u001b[39m****\u001b[90m\"\u001b[39m\n",
      "\u001b[90m13\u001b[39m Somatic  H3K27me3 ML    493    0.632 1   \u001b[90me\u001b[39m+ 0 \u001b[90m\"\u001b[39m\u001b[90m\"\u001b[39m    \n",
      "\u001b[90m14\u001b[39m Somatic  H3K27me3 EM    491    0.776 1   \u001b[90me\u001b[39m+ 0 \u001b[90m\"\u001b[39m\u001b[90m\"\u001b[39m    \n",
      "\u001b[90m15\u001b[39m Somatic  H3K27me3 E     480    0.894 1   \u001b[90me\u001b[39m+ 0 \u001b[90m\"\u001b[39m\u001b[90m\"\u001b[39m    \n",
      "\u001b[90m16\u001b[39m Somatic  H3K9me3  ML    412   -\u001b[31m1\u001b[39m\u001b[31m.\u001b[39m\u001b[31m28\u001b[39m  8.01\u001b[90me\u001b[39m\u001b[31m- 1\u001b[39m \u001b[90m\"\u001b[39m\u001b[90m\"\u001b[39m    \n",
      "\u001b[90m17\u001b[39m Somatic  H3K9me3  EM    -14   -\u001b[31m5\u001b[39m\u001b[31m.\u001b[39m\u001b[31m53\u001b[39m  4.50\u001b[90me\u001b[39m\u001b[31m- 7\u001b[39m \u001b[90m\"\u001b[39m****\u001b[90m\"\u001b[39m\n",
      "\u001b[90m18\u001b[39m Somatic  H3K9me3  E     -14   -\u001b[31m7\u001b[39m\u001b[31m.\u001b[39m\u001b[31m60\u001b[39m  5.31\u001b[90me\u001b[39m\u001b[31m-13\u001b[39m \u001b[90m\"\u001b[39m****\u001b[90m\"\u001b[39m\n"
     ]
    }
   ],
   "source": [
    "data <- tibble(\n",
    "  cross_join(\n",
    "    tibble(\n",
    "      celltype = c(\"Germline\", \"Germline\", \"Germline\", \"Somatic\", \"Somatic\", \"Somatic\"),\n",
    "      panel = c(\"H3K4me3\", \"H3K27me3\", \"H3K9me3\", \"H3K4me3\", \"H3K27me3\", \"H3K9me3\"),\n",
    "      heatmap = list(\n",
    "        chic.heatmap.tss_H3K4_Germline_CN_chr,\n",
    "        chic.heatmap.tss_H3K27_Germline_CN_chr,\n",
    "        chic.heatmap.tss_H3K9_Germline_CN_chr,\n",
    "        chic.heatmap.tss_H3K4_Somatic_CN_chr,\n",
    "        chic.heatmap.tss_H3K27_Somatic_CN_chr,\n",
    "        chic.heatmap.tss_H3K9_Somatic_CN_chr\n",
    "      )\n",
    "    ),\n",
    "    tibble(\n",
    "      level = c(\"ML\", \"EM\", \"E\")\n",
    "    ),\n",
    "  ),\n",
    "  quant = mapply(\n",
    "    \\(celltype, heatmap) get(str_glue(\"repli.gene_\", celltype))[rownames(heatmap)],\n",
    "    celltype,\n",
    "    heatmap,\n",
    "    SIMPLIFY=FALSE\n",
    "  ),\n",
    "  x = mapply(\n",
    "    \\(level, heatmap, quant) colnames(heatmap)[\n",
    "      which.max(\n",
    "        colMeans(heatmap[quant == level, 1:1000], na.rm=T) %>%\n",
    "          replace(\n",
    "            c(\n",
    "              1,\n",
    "              1 + which(\n",
    "                diff(diff(colMeans(heatmap[quant == level, 1:1000], na.rm=T))) >= -1e-4\n",
    "              ),\n",
    "              1000\n",
    "            ),\n",
    "            0\n",
    "          )\n",
    "      )\n",
    "    ],\n",
    "    level,\n",
    "    heatmap,\n",
    "    quant\n",
    "  ) %>%\n",
    "    replace(\n",
    "      celltype == \"Somatic\" & panel == \"H3K9me3\" & level == \"EM\", -14\n",
    "    ),\n",
    "  ttest = mapply(\n",
    "    \\(heatmap, quant, level, x) t.test(\n",
    "      heatmap[quant == level, x],\n",
    "      heatmap[quant == \"L\", x]\n",
    "    ),\n",
    "    heatmap,\n",
    "    quant,\n",
    "    level,\n",
    "    x,\n",
    "    SIMPLIFY=FALSE\n",
    "  ),\n",
    "  t = sapply(ttest, \\(obj) obj$statistic[\"t\"]),\n",
    "  p.adjust = p.adjust(\n",
    "    sapply(\n",
    "      ttest,\n",
    "      \\(obj) obj$p.value\n",
    "    )\n",
    "  ),\n",
    "  signif = structure(\n",
    "    cut(p.adjust, c(-Inf, 1e-4, 1e-3, 1e-2, 5e-2, Inf)),\n",
    "    levels = c(\"****\", \"***\", \"**\", \"*\", \"\"),\n",
    "    class = \"factor\"\n",
    "  )\n",
    ") %>%\n",
    "  mutate(panel = factor(panel, str_glue(\"H3K{c(4,27,9)}me3\")), level = factor(level, c(\"ML\", \"EM\", \"E\"))) %>%\n",
    "  arrange(celltype, panel, level) %>%\n",
    "  subset(select=-c(heatmap,quant,ttest)) %>%\n",
    "  print()"
   ]
  },
  {
   "cell_type": "code",
   "execution_count": null,
   "metadata": {
    "vscode": {
     "languageId": "r"
    }
   },
   "outputs": [],
   "source": [
    "tar_load(\n",
    "  c(\n",
    "    chic.heatmap.tss.nucleosome_H3K27_Germline_CN_chr,\n",
    "    chic.heatmap.tss.nucleosome_H3K27_Somatic_CN_chr\n",
    "  )\n",
    ")"
   ]
  },
  {
   "cell_type": "code",
   "execution_count": null,
   "metadata": {
    "vscode": {
     "languageId": "r"
    }
   },
   "outputs": [
    {
     "name": "stdout",
     "output_type": "stream",
     "text": [
      "\u001b[90m# A tibble: 6 x 7\u001b[39m\n",
      "  celltype rowname level x         t  p.adjust signif\n",
      "  \u001b[3m\u001b[90m<chr>\u001b[39m\u001b[23m    \u001b[3m\u001b[90m<chr>\u001b[39m\u001b[23m   \u001b[3m\u001b[90m<chr>\u001b[39m\u001b[23m \u001b[3m\u001b[90m<chr>\u001b[39m\u001b[23m \u001b[3m\u001b[90m<dbl>\u001b[39m\u001b[23m     \u001b[3m\u001b[90m<dbl>\u001b[39m\u001b[23m \u001b[3m\u001b[90m<fct>\u001b[39m\u001b[23m \n",
      "\u001b[90m1\u001b[39m Germline low     Q2    131    29.9 7.84\u001b[90me\u001b[39m\u001b[31m-168\u001b[39m ****  \n",
      "\u001b[90m2\u001b[39m Germline medium  Q3    133    47.1 0   \u001b[90m \u001b[39m     ****  \n",
      "\u001b[90m3\u001b[39m Germline high    Q4    134    46.5 0   \u001b[90m \u001b[39m     ****  \n",
      "\u001b[90m4\u001b[39m Somatic  low     Q2    129    34.1 4.06\u001b[90me\u001b[39m\u001b[31m-208\u001b[39m ****  \n",
      "\u001b[90m5\u001b[39m Somatic  medium  Q3    131    42.2 2.22\u001b[90me\u001b[39m\u001b[31m-290\u001b[39m ****  \n",
      "\u001b[90m6\u001b[39m Somatic  high    Q4    133    38.2 1.02\u001b[90me\u001b[39m\u001b[31m-248\u001b[39m ****  \n"
     ]
    }
   ],
   "source": [
    "data <- tibble(\n",
    "  cross_join(\n",
    "    tibble(\n",
    "      celltype = c(\"Germline\", \"Somatic\"),\n",
    "      heatmap = list(\n",
    "        chic.heatmap.tss.nucleosome_H3K27_Germline_CN_chr,\n",
    "        chic.heatmap.tss.nucleosome_H3K27_Somatic_CN_chr\n",
    "      )\n",
    "    ),\n",
    "    tibble(\n",
    "      rowname = c(\"low\", \"medium\", \"high\"),\n",
    "      level = c(\"Q2\", \"Q3\", \"Q4\"),\n",
    "    ),\n",
    "  ),\n",
    "  quant = mapply(\n",
    "    \\(celltype, heatmap) get(str_glue(\"quartile.factor_\", celltype))[rownames(heatmap)],\n",
    "    celltype,\n",
    "    heatmap,\n",
    "    SIMPLIFY=FALSE\n",
    "  ),\n",
    "  x = mapply(\n",
    "    \\(level, heatmap, quant) colnames(heatmap)[\n",
    "      which.max(\n",
    "        colMeans(heatmap[quant == level, 1:1000], na.rm=T) %>%\n",
    "          replace(\n",
    "            c(\n",
    "              1,\n",
    "              1 + which(\n",
    "                diff(diff(colMeans(heatmap[quant == level, 1:1000], na.rm=T))) >= -1e-4\n",
    "              ),\n",
    "              1000\n",
    "            ),\n",
    "            0\n",
    "          )\n",
    "      )\n",
    "    ],\n",
    "    level,\n",
    "    heatmap,\n",
    "    quant\n",
    "  ),\n",
    "  ttest = mapply(\n",
    "    \\(heatmap, quant, level, x) t.test(\n",
    "      heatmap[quant == level, x],\n",
    "      heatmap[quant == \"Q1\", x]\n",
    "    ),\n",
    "    heatmap,\n",
    "    quant,\n",
    "    level,\n",
    "    x,\n",
    "    SIMPLIFY=FALSE\n",
    "  ),\n",
    "  t = sapply(ttest, \\(obj) obj$statistic[\"t\"]),\n",
    "  p.adjust = p.adjust(\n",
    "    sapply(\n",
    "      ttest,\n",
    "      \\(obj) obj$p.value\n",
    "    )\n",
    "  ),\n",
    "  signif = structure(\n",
    "    cut(p.adjust, c(-Inf, 1e-4, 1e-3, 1e-2, 5e-2, Inf)),\n",
    "    levels = c(\"****\", \"***\", \"**\", \"*\", \"\"),\n",
    "    class = \"factor\"\n",
    "  )\n",
    ") %>%\n",
    "  subset(select=-c(heatmap,quant,ttest)) %>%\n",
    "  print()"
   ]
  },
  {
   "cell_type": "markdown",
   "metadata": {},
   "source": [
    "## Histone mark at the gene midpoint - t-test"
   ]
  },
  {
   "cell_type": "code",
   "execution_count": 73,
   "metadata": {
    "vscode": {
     "languageId": "r"
    }
   },
   "outputs": [],
   "source": [
    "tar_load(matches(\"^chic.heatmap.paneled_H3K(4|27)_(Germline|Somatic)_CN_chr\"))"
   ]
  },
  {
   "cell_type": "code",
   "execution_count": 79,
   "metadata": {
    "vscode": {
     "languageId": "r"
    }
   },
   "outputs": [
    {
     "name": "stdout",
     "output_type": "stream",
     "text": [
      "\u001b[90m# A tibble: 2 x 5\u001b[39m\n",
      "  mark     x           t p.adjust signif\n",
      "  \u001b[3m\u001b[90m<chr>\u001b[39m\u001b[23m    \u001b[3m\u001b[90m<chr>\u001b[39m\u001b[23m   \u001b[3m\u001b[90m<dbl>\u001b[39m\u001b[23m    \u001b[3m\u001b[90m<dbl>\u001b[39m\u001b[23m \u001b[3m\u001b[90m<fct>\u001b[39m\u001b[23m \n",
      "\u001b[90m1\u001b[39m H3K4me3  50%     0.105 9.17\u001b[90me\u001b[39m\u001b[31m- 1\u001b[39m \u001b[90m\"\u001b[39m\u001b[90m\"\u001b[39m    \n",
      "\u001b[90m2\u001b[39m H3K27me3 50%   -\u001b[31m20\u001b[39m\u001b[31m.\u001b[39m\u001b[31m0\u001b[39m   2.39\u001b[90me\u001b[39m\u001b[31m-87\u001b[39m \u001b[90m\"\u001b[39m****\u001b[90m\"\u001b[39m\n"
     ]
    }
   ],
   "source": [
    "data <- tribble(\n",
    "  ~mark, ~germline, ~somatic,\n",
    "  \"H3K4me3\", chic.heatmap.paneled_H3K4_Germline_CN_chr, chic.heatmap.paneled_H3K4_Somatic_CN_chr,\n",
    "  \"H3K27me3\", chic.heatmap.paneled_H3K27_Germline_CN_chr, chic.heatmap.paneled_H3K27_Somatic_CN_chr,\n",
    ") %>%\n",
    "  rowwise() %>%\n",
    "  reframe(\n",
    "    mark,\n",
    "    ttest = t.test(\n",
    "      germline[\n",
    "        names(quartile.factor_Germline)[quartile.factor_Germline != \"Q1\"],\n",
    "        \"50%\"\n",
    "      ],\n",
    "      somatic[\n",
    "        names(quartile.factor_Somatic)[quartile.factor_Somatic != \"Q1\"],\n",
    "        \"50%\"\n",
    "      ]\n",
    "    ) %>%\n",
    "      list(),\n",
    "    x = \"50%\",\n",
    "    t = ttest$statistic[\"t\"],\n",
    "    p.adjust = ttest$p.value,\n",
    "  ) %>%\n",
    "  mutate(\n",
    "    p.adjust = p.adjust(p.adjust),\n",
    "    signif = structure(\n",
    "      cut(p.adjust, c(-Inf, 1e-4, 1e-3, 1e-2, 5e-2, Inf)),\n",
    "      levels = c(\"****\", \"***\", \"**\", \"*\", \"\"),\n",
    "      class = \"factor\"\n",
    "    )\n",
    "  ) %>%\n",
    "  subset(select = -ttest) %>%\n",
    "  print()"
   ]
  },
  {
   "cell_type": "markdown",
   "metadata": {},
   "source": [
    "## Transposable elements selected for the violin plot and their L2FC t-test"
   ]
  },
  {
   "cell_type": "code",
   "execution_count": 82,
   "metadata": {
    "vscode": {
     "languageId": "r"
    }
   },
   "outputs": [],
   "source": [
    "tar_load(\n",
    "  enriched.transposable.elements.peakcalling.broad.masked\n",
    ")\n",
    "H3K4_Germline <- tar_read(chic.experiment.quantify_H3K4_Germline_peakcalling.broad_masked)[enriched.transposable.elements.peakcalling.broad.masked]\n",
    "H3K4_Somatic <- tar_read(chic.experiment.quantify_H3K4_Somatic_peakcalling.broad_masked)[enriched.transposable.elements.peakcalling.broad.masked]\n",
    "H3K27_Germline <- tar_read(chic.experiment.quantify_H3K27_Germline_peakcalling.broad_masked)[enriched.transposable.elements.peakcalling.broad.masked]\n",
    "H3K27_Somatic <- tar_read(chic.experiment.quantify_H3K27_Somatic_peakcalling.broad_masked)[enriched.transposable.elements.peakcalling.broad.masked]\n",
    "H3K9_Germline <- tar_read(chic.experiment.quantify_H3K9_Germline_peakcalling.broad_masked)[enriched.transposable.elements.peakcalling.broad.masked]\n",
    "H3K9_Somatic <- tar_read(chic.experiment.quantify_H3K9_Somatic_peakcalling.broad_masked)[enriched.transposable.elements.peakcalling.broad.masked]"
   ]
  },
  {
   "cell_type": "code",
   "execution_count": null,
   "metadata": {
    "vscode": {
     "languageId": "r"
    }
   },
   "outputs": [
    {
     "name": "stdout",
     "output_type": "stream",
     "text": [
      "\u001b[90m# A tibble: 3 x 5\u001b[39m\n",
      "  mark     ttest       t p.adjust signif\n",
      "  \u001b[3m\u001b[90m<chr>\u001b[39m\u001b[23m    \u001b[3m\u001b[90m<list>\u001b[39m\u001b[23m  \u001b[3m\u001b[90m<dbl>\u001b[39m\u001b[23m    \u001b[3m\u001b[90m<dbl>\u001b[39m\u001b[23m \u001b[3m\u001b[90m<fct>\u001b[39m\u001b[23m \n",
      "\u001b[90m1\u001b[39m H3K4me3  \u001b[90m<htest>\u001b[39m  3.50 1.30\u001b[90me\u001b[39m\u001b[31m- 3\u001b[39m **    \n",
      "\u001b[90m2\u001b[39m H3K27me3 \u001b[90m<htest>\u001b[39m -\u001b[31m2\u001b[39m\u001b[31m.\u001b[39m\u001b[31m40\u001b[39m 1.79\u001b[90me\u001b[39m\u001b[31m- 2\u001b[39m *     \n",
      "\u001b[90m3\u001b[39m H3K9me3  \u001b[90m<htest>\u001b[39m  8.55 1.52\u001b[90me\u001b[39m\u001b[31m-13\u001b[39m ****  \n"
     ]
    }
   ],
   "source": [
    "plot_features <- which(\n",
    "    H3K4_Germline$score.molH3 >= 0.5 &\n",
    "      H3K27_Germline$score.molH3 >= 0.5 &\n",
    "      H3K9_Germline$score.molH3 >= 0.5 &\n",
    "      H3K4_Somatic$score.molH3 >= 0.5 &\n",
    "      H3K27_Somatic$score.molH3 >= 0.5 &\n",
    "      H3K9_Somatic$score.molH3 >= 0.5\n",
    "  )\n",
    "data <- tribble(\n",
    "  ~mark, ~germline, ~somatic,\n",
    "  \"H3K4me3\", H3K4_Germline$L2FC[plot_features], H3K4_Somatic$L2FC[plot_features],\n",
    "  \"H3K27me3\", H3K27_Germline$L2FC[plot_features], H3K27_Somatic$L2FC[plot_features],\n",
    "  \"H3K9me3\", H3K9_Germline$L2FC[plot_features], H3K9_Somatic$L2FC[plot_features],\n",
    ") %>%\n",
    "  rowwise() %>%\n",
    "  reframe(\n",
    "    mark,\n",
    "    ttest = t.test(germline, somatic, paired=T) %>% list(),\n",
    "    t = ttest$statistic[\"t\"],\n",
    "    p.adjust = ttest$p.value,\n",
    "  ) %>%\n",
    "  mutate(\n",
    "    p.adjust = p.adjust(p.adjust),\n",
    "    signif = structure(\n",
    "      cut(p.adjust, c(-Inf, 1e-4, 1e-3, 1e-2, 5e-2, Inf)),\n",
    "      levels = c(\"****\", \"***\", \"**\", \"*\", \"\"),\n",
    "      class = \"factor\"\n",
    "    )\n",
    "  ) %>%\n",
    "  print()"
   ]
  },
  {
   "cell_type": "markdown",
   "metadata": {},
   "source": [
    "## Supplemental LOESS Model (Gene TSS)"
   ]
  },
  {
   "cell_type": "code",
   "execution_count": 1,
   "metadata": {
    "vscode": {
     "languageId": "r"
    }
   },
   "outputs": [
    {
     "ename": "ERROR",
     "evalue": "Error in tar_load(c(chic.experiment.quantify.smooth_bw40_H3K4_Germline_CN_chr, : could not find function \"tar_load\"\n",
     "output_type": "error",
     "traceback": [
      "Error in tar_load(c(chic.experiment.quantify.smooth_bw40_H3K4_Germline_CN_chr, : could not find function \"tar_load\"\nTraceback:\n"
     ]
    }
   ],
   "source": [
    "tar_load(\n",
    "  c(\n",
    "    chic.experiment.quantify.smooth_bw40_H3K4_Germline_CN_chr,\n",
    "    chic.experiment.quantify.smooth_bw40_H3K27_Germline_CN_chr,\n",
    "    chic.experiment.quantify.smooth_bw40_H3K9_Germline_CN_chr,\n",
    "    chic.experiment.quantify.smooth_bw40_H3K4_Somatic_CN_chr,\n",
    "    chic.experiment.quantify.smooth_bw40_H3K27_Somatic_CN_chr,\n",
    "    chic.experiment.quantify.smooth_bw40_H3K9_Somatic_CN_chr,\n",
    "    chic.gene.tss.diameter_40_chr\n",
    "  )\n",
    ")"
   ]
  },
  {
   "cell_type": "code",
   "execution_count": 5,
   "metadata": {
    "vscode": {
     "languageId": "r"
    }
   },
   "outputs": [
    {
     "name": "stderr",
     "output_type": "stream",
     "text": [
      "No id variables; using all as measure variables\n",
      "\n"
     ]
    },
    {
     "name": "stdout",
     "output_type": "stream",
     "text": [
      "\u001b[90m# A tibble: 105,348 x 6\u001b[39m\n",
      "   celltype mark    group            L2FC   logCPM color \n",
      "   \u001b[3m\u001b[90m<fct>\u001b[39m\u001b[23m    \u001b[3m\u001b[90m<fct>\u001b[39m\u001b[23m   \u001b[3m\u001b[90m<fct>\u001b[39m\u001b[23m           \u001b[3m\u001b[90m<dbl>\u001b[39m\u001b[23m    \u001b[3m\u001b[90m<dbl>\u001b[39m\u001b[23m \u001b[3m\u001b[90m<fct>\u001b[39m\u001b[23m \n",
      "\u001b[90m 1\u001b[39m Germline H3K4me3 H3K4_Germline \u001b[31mNA\u001b[39m       2.36    high  \n",
      "\u001b[90m 2\u001b[39m Germline H3K4me3 H3K4_Germline -\u001b[31m0\u001b[39m\u001b[31m.\u001b[39m\u001b[31m450\u001b[39m   0.374   off   \n",
      "\u001b[90m 3\u001b[39m Germline H3K4me3 H3K4_Germline  0.298   0.005\u001b[4m9\u001b[24m\u001b[4m8\u001b[24m off   \n",
      "\u001b[90m 4\u001b[39m Germline H3K4me3 H3K4_Germline  0.768   1.40    medium\n",
      "\u001b[90m 5\u001b[39m Germline H3K4me3 H3K4_Germline  0.210  \u001b[31mNA\u001b[39m       off   \n",
      "\u001b[90m 6\u001b[39m Germline H3K4me3 H3K4_Germline -\u001b[31m1\u001b[39m\u001b[31m.\u001b[39m\u001b[31m0\u001b[39m\u001b[31m3\u001b[39m    0.806   low   \n",
      "\u001b[90m 7\u001b[39m Germline H3K4me3 H3K4_Germline  0.091\u001b[4m2\u001b[24m  0.328   off   \n",
      "\u001b[90m 8\u001b[39m Germline H3K4me3 H3K4_Germline  0.443  -\u001b[31m0\u001b[39m\u001b[31m.\u001b[39m\u001b[31m294\u001b[39m   off   \n",
      "\u001b[90m 9\u001b[39m Germline H3K4me3 H3K4_Germline -\u001b[31m0\u001b[39m\u001b[31m.\u001b[39m\u001b[31m0\u001b[39m\u001b[31m86\u001b[4m0\u001b[24m\u001b[39m  0.012\u001b[4m8\u001b[24m  off   \n",
      "\u001b[90m10\u001b[39m Germline H3K4me3 H3K4_Germline  0.078\u001b[4m4\u001b[24m  0.794   low   \n",
      "\u001b[90m# i 105,338 more rows\u001b[39m\n"
     ]
    }
   ],
   "source": [
    "tar_load(\n",
    "  c(\n",
    "    chic.gene.enrichment.l2fc,\n",
    "    Upd_cpm\n",
    "  )\n",
    ")\n",
    "marks <- data.frame(\n",
    "  celltype = c(\"Germline\", \"Somatic\") %>% factor(., .) %>% rep(each = 3 * nrow(Upd_cpm)),\n",
    "  mark = c(\"H3K4me3\", \"H3K27me3\", \"H3K9me3\") %>% factor(., .) %>% rep(each = nrow(Upd_cpm)),\n",
    "  melt(chic.gene.enrichment.l2fc[7:12], variable.name = \"group\", value.name = \"L2FC\"),\n",
    "  logCPM = c(\n",
    "    rep(log(Upd_cpm[, \"germline\"]) / log(10), 3) %>%\n",
    "      replace(!is.finite(.), NA),\n",
    "    rep(log(Upd_cpm[, \"somatic\"]) / log(10), 3) %>%\n",
    "      replace(!is.finite(.), NA)\n",
    "  ),\n",
    "  color = c(\n",
    "    rep(quartile.factor_Germline, 3),\n",
    "    rep(quartile.factor_Somatic, 3)\n",
    "  ) %>%\n",
    "    structure(levels = c(\"off\", \"low\", \"medium\", \"high\"), class = \"factor\")\n",
    ") %>%\n",
    "  tibble() %>%\n",
    "  print()"
   ]
  },
  {
   "cell_type": "code",
   "execution_count": 20,
   "metadata": {
    "vscode": {
     "languageId": "r"
    }
   },
   "outputs": [],
   "source": [
    "library(ggplot2)\n",
    "xlim <- c(-3, 3)\n",
    "ylim <- c(-3, 5)\n",
    "markloess <- marks %>%\n",
    "  group_by(group) %>%\n",
    "  reframe(\n",
    "    y = seq(min(ylim), max(ylim), by=0.01) %>%\n",
    "      round(2) %>%\n",
    "      subset(between(., logCPM %>% subset(. > -6) %>% quantile(0.025), logCPM %>% subset(. > -6) %>% quantile(0.975))),\n",
    "    predict(\n",
    "      loess(L2FC ~ logCPM),\n",
    "      newdata=y,\n",
    "      se = TRUE\n",
    "    ) %>%\n",
    "      as_tibble() %>%\n",
    "      reframe(L2FC = fit, L2FC.se = se.fit),\n",
    "    logCPM = y\n",
    "  ) %>%\n",
    "  print(n = 3)\n",
    "ggplot(markloess, aes(y, L2FC, color=group)) + geom_line()"
   ]
  },
  {
   "cell_type": "code",
   "execution_count": 21,
   "metadata": {
    "vscode": {
     "languageId": "r"
    }
   },
   "outputs": [
    {
     "name": "stdout",
     "output_type": "stream",
     "text": [
      "\u001b[90m# A tibble: 18 x 5\u001b[39m\n",
      "   group          name  teststat p.adjust signif\n",
      "   \u001b[3m\u001b[90m<fct>\u001b[39m\u001b[23m          \u001b[3m\u001b[90m<chr>\u001b[39m\u001b[23m    \u001b[3m\u001b[90m<dbl>\u001b[39m\u001b[23m    \u001b[3m\u001b[90m<dbl>\u001b[39m\u001b[23m \u001b[3m\u001b[90m<fct>\u001b[39m\u001b[23m \n",
      "\u001b[90m 1\u001b[39m H3K4_Germline  Q2       4.26  2.07\u001b[90me\u001b[39m\u001b[31m- 4\u001b[39m \u001b[90m\"\u001b[39m***\u001b[90m\"\u001b[39m \n",
      "\u001b[90m 2\u001b[39m H3K4_Germline  Q3       6.11  1.43\u001b[90me\u001b[39m\u001b[31m- 8\u001b[39m \u001b[90m\"\u001b[39m****\u001b[90m\"\u001b[39m\n",
      "\u001b[90m 3\u001b[39m H3K4_Germline  Q4       7.02  3.31\u001b[90me\u001b[39m\u001b[31m-11\u001b[39m \u001b[90m\"\u001b[39m****\u001b[90m\"\u001b[39m\n",
      "\u001b[90m 4\u001b[39m H3K27_Germline Q2       0.470 1   \u001b[90me\u001b[39m+ 0 \u001b[90m\"\u001b[39m\u001b[90m\"\u001b[39m    \n",
      "\u001b[90m 5\u001b[39m H3K27_Germline Q3       0.599 1   \u001b[90me\u001b[39m+ 0 \u001b[90m\"\u001b[39m\u001b[90m\"\u001b[39m    \n",
      "\u001b[90m 6\u001b[39m H3K27_Germline Q4       0.336 1   \u001b[90me\u001b[39m+ 0 \u001b[90m\"\u001b[39m\u001b[90m\"\u001b[39m    \n",
      "\u001b[90m 7\u001b[39m H3K9_Germline  Q2      -\u001b[31m1\u001b[39m\u001b[31m.\u001b[39m\u001b[31m94\u001b[39m  2.59\u001b[90me\u001b[39m\u001b[31m- 1\u001b[39m \u001b[90m\"\u001b[39m\u001b[90m\"\u001b[39m    \n",
      "\u001b[90m 8\u001b[39m H3K9_Germline  Q3      -\u001b[31m2\u001b[39m\u001b[31m.\u001b[39m\u001b[31m85\u001b[39m  2.65\u001b[90me\u001b[39m\u001b[31m- 2\u001b[39m \u001b[90m\"\u001b[39m*\u001b[90m\"\u001b[39m   \n",
      "\u001b[90m 9\u001b[39m H3K9_Germline  Q4      -\u001b[31m3\u001b[39m\u001b[31m.\u001b[39m\u001b[31m64\u001b[39m  2.49\u001b[90me\u001b[39m\u001b[31m- 3\u001b[39m \u001b[90m\"\u001b[39m**\u001b[90m\"\u001b[39m  \n",
      "\u001b[90m10\u001b[39m H3K4_Somatic   Q2       5.82  6.97\u001b[90me\u001b[39m\u001b[31m- 8\u001b[39m \u001b[90m\"\u001b[39m****\u001b[90m\"\u001b[39m\n",
      "\u001b[90m11\u001b[39m H3K4_Somatic   Q3       7.46  1.52\u001b[90me\u001b[39m\u001b[31m-12\u001b[39m \u001b[90m\"\u001b[39m****\u001b[90m\"\u001b[39m\n",
      "\u001b[90m12\u001b[39m H3K4_Somatic   Q4       7.85  7.29\u001b[90me\u001b[39m\u001b[31m-14\u001b[39m \u001b[90m\"\u001b[39m****\u001b[90m\"\u001b[39m\n",
      "\u001b[90m13\u001b[39m H3K27_Somatic  Q2      -\u001b[31m1\u001b[39m\u001b[31m.\u001b[39m\u001b[31m84\u001b[39m  2.65\u001b[90me\u001b[39m\u001b[31m- 1\u001b[39m \u001b[90m\"\u001b[39m\u001b[90m\"\u001b[39m    \n",
      "\u001b[90m14\u001b[39m H3K27_Somatic  Q3      -\u001b[31m3\u001b[39m\u001b[31m.\u001b[39m\u001b[31m63\u001b[39m  2.49\u001b[90me\u001b[39m\u001b[31m- 3\u001b[39m \u001b[90m\"\u001b[39m**\u001b[90m\"\u001b[39m  \n",
      "\u001b[90m15\u001b[39m H3K27_Somatic  Q4      -\u001b[31m5\u001b[39m\u001b[31m.\u001b[39m\u001b[31m94\u001b[39m  3.62\u001b[90me\u001b[39m\u001b[31m- 8\u001b[39m \u001b[90m\"\u001b[39m****\u001b[90m\"\u001b[39m\n",
      "\u001b[90m16\u001b[39m H3K9_Somatic   Q2      -\u001b[31m3\u001b[39m\u001b[31m.\u001b[39m\u001b[31m60\u001b[39m  2.49\u001b[90me\u001b[39m\u001b[31m- 3\u001b[39m \u001b[90m\"\u001b[39m**\u001b[90m\"\u001b[39m  \n",
      "\u001b[90m17\u001b[39m H3K9_Somatic   Q3      -\u001b[31m5\u001b[39m\u001b[31m.\u001b[39m\u001b[31m44\u001b[39m  5.79\u001b[90me\u001b[39m\u001b[31m- 7\u001b[39m \u001b[90m\"\u001b[39m****\u001b[90m\"\u001b[39m\n",
      "\u001b[90m18\u001b[39m H3K9_Somatic   Q4      -\u001b[31m7\u001b[39m\u001b[31m.\u001b[39m\u001b[31m0\u001b[39m\u001b[31m8\u001b[39m  2.30\u001b[90me\u001b[39m\u001b[31m-11\u001b[39m \u001b[90m\"\u001b[39m****\u001b[90m\"\u001b[39m\n"
     ]
    }
   ],
   "source": [
    "log10 <- \\(v) log(v) / log(10)\n",
    "x <- mapply(\n",
    "  \\(cpm, level) cpm %>%\n",
    "    split(level) %>%\n",
    "    sapply(\\(v) v %>% subset(v != 0) %>% median %>% log10 %>% round(digits=2)),\n",
    "  as.data.frame(Upd_cpm[, 1:2]),\n",
    "  list(quartile.factor_Germline, quartile.factor_Somatic)\n",
    ")\n",
    "data <- markloess %>%\n",
    "  group_by(group) %>%\n",
    "  reframe(\n",
    "    celltype = tolower(str_extract(group[1], \"Germline|Somatic\")),\n",
    "    tibble(name = c(\"Q2\", \"Q3\", \"Q4\")) %>%\n",
    "      rowwise() %>%\n",
    "      mutate(\n",
    "        teststat = (\n",
    "          L2FC[match(x[name, celltype], y)] -\n",
    "            L2FC[match(x[\"Q1\", celltype], y)]\n",
    "        ) /\n",
    "          sqrt(\n",
    "            L2FC.se[match(x[name, celltype], y)]^2 +\n",
    "              L2FC.se[match(x[\"Q1\", celltype], y)]\n",
    "          ),\n",
    "        p.adjust = teststat %>%\n",
    "          abs() %>%\n",
    "          pnorm(lower.tail = F) %>%\n",
    "          `*`(2) %>%\n",
    "          pmin(1)\n",
    "      )\n",
    "  ) %>%\n",
    "  subset(select = c(1, 3, 4, 5)) %>%\n",
    "  mutate(\n",
    "    p.adjust = p.adjust(p.adjust),\n",
    "    signif = structure(\n",
    "      cut(p.adjust, c(-Inf, 1e-4, 1e-3, 1e-2, 5e-2, Inf)),\n",
    "      levels = c(\"****\", \"***\", \"**\", \"*\", \"\"),\n",
    "      class = \"factor\"\n",
    "    )\n",
    "  ) %>%\n",
    "  print()"
   ]
  },
  {
   "cell_type": "markdown",
   "metadata": {},
   "source": [
    "## Relative Enrichment (Quadrant II and IV) contingency table analysis"
   ]
  },
  {
   "cell_type": "code",
   "execution_count": 4,
   "metadata": {
    "vscode": {
     "languageId": "r"
    }
   },
   "outputs": [
    {
     "data": {
      "text/plain": [
       "IRanges object with 1 range and 0 metadata columns:\n",
       "          start       end     width\n",
       "      <integer> <integer> <integer>\n",
       "  [1]     36901     76900     40000"
      ]
     },
     "metadata": {},
     "output_type": "display_data"
    },
    {
     "data": {
      "text/plain": [
       "factor-Rle of length 1375880 with 8 runs\n",
       "  Lengths: 235138 252870 281103 320794  13482 235423  36674    396\n",
       "  Values :   2L     2R     3L     3R     4      X      Y      rDNA\n",
       "Levels(8): 2L 2R 3L 3R 4 X Y rDNA"
      ]
     },
     "metadata": {},
     "output_type": "display_data"
    },
    {
     "data": {
      "text/plain": [
       "\n",
       "    2L    2LC     2R    2RC     3L    3LC     3R    3RC      4      X      Y \n",
       "221922  13216 196354  56516 231539  49564 278500  42294  13482 235423  36674 \n",
       "  rDNA \n",
       "   396 "
      ]
     },
     "metadata": {},
     "output_type": "display_data"
    }
   ],
   "source": [
    "tar_load(chic.tile.diameter_500_chr)\n",
    "tar_load(chromosome_pericetromere_label)\n",
    "\n",
    "subset(chic.tile.diameter_500_chr, seqnames == \"rDNA\")[372:767] %>%\n",
    "  reduce() %>%\n",
    "  ranges()\n",
    "\n",
    "analyze_loci <- c(\n",
    "  seqnames(chic.tile.diameter_500_chr) %in% names(chr.lengths)\n",
    ") %>%\n",
    "  replace(\n",
    "    which(seqnames(chic.tile.diameter_500_chr) == \"rDNA\")[372:767],\n",
    "    TRUE\n",
    "  )\n",
    "seqnames <- seqnames(chic.tile.diameter_500_chr)[analyze_loci] %>%\n",
    "  droplevels()\n",
    "seqnames\n",
    "gr <- chic.tile.diameter_500_chr[analyze_loci]\n",
    "gr$region <- seqnames %>%\n",
    "  as.character() %>%\n",
    "  paste0(\n",
    "    rep(\"\", length(.)) %>%\n",
    "      replace(\n",
    "        to(findOverlaps(chromosome_pericetromere_label, gr)),\n",
    "        \"C\"\n",
    "      )\n",
    "  )\n",
    "table(gr$region)\n",
    "gr$region <- gr$region %>%\n",
    "  factor(c(\"2L\", \"2LC\", \"2RC\", \"2R\", \"3L\", \"3LC\", \"3RC\", \"3R\", \"4\", \"X\", \"Y\", \"rDNA\"))"
   ]
  },
  {
   "cell_type": "code",
   "execution_count": 5,
   "metadata": {
    "vscode": {
     "languageId": "r"
    }
   },
   "outputs": [],
   "source": [
    "tar_load(chic.experiment.quantify_H3K4_Germline_peakcalling.broad_chr)\n",
    "tar_load(chic.experiment.quantify_H3K4_Somatic_peakcalling.broad_chr)\n",
    "chic.experiment.quantify_H3K4_Germline_peakcalling.broad_chr <-\n",
    "  chic.experiment.quantify_H3K4_Germline_peakcalling.broad_chr[analyze_loci]\n",
    "seqlevels(chic.experiment.quantify_H3K4_Germline_peakcalling.broad_chr) <-\n",
    "  levels(seqnames)\n",
    "seqnames(chic.experiment.quantify_H3K4_Germline_peakcalling.broad_chr) <-\n",
    "  seqnames\n",
    "chic.experiment.quantify_H3K4_Somatic_peakcalling.broad_chr <-\n",
    "  chic.experiment.quantify_H3K4_Somatic_peakcalling.broad_chr[analyze_loci]\n",
    "seqlevels(chic.experiment.quantify_H3K4_Somatic_peakcalling.broad_chr) <-\n",
    "  levels(seqnames)\n",
    "seqnames(chic.experiment.quantify_H3K4_Somatic_peakcalling.broad_chr) <-\n",
    "  seqnames\n",
    "\n",
    "tar_load(chic.experiment.quantify_H3K27_Germline_peakcalling.broad_chr)\n",
    "tar_load(chic.experiment.quantify_H3K27_Somatic_peakcalling.broad_chr)\n",
    "chic.experiment.quantify_H3K27_Germline_peakcalling.broad_chr <-\n",
    "  chic.experiment.quantify_H3K27_Germline_peakcalling.broad_chr[analyze_loci]\n",
    "seqlevels(chic.experiment.quantify_H3K27_Germline_peakcalling.broad_chr) <-\n",
    "  levels(seqnames)\n",
    "seqnames(chic.experiment.quantify_H3K27_Germline_peakcalling.broad_chr) <-\n",
    "  seqnames\n",
    "chic.experiment.quantify_H3K27_Somatic_peakcalling.broad_chr <-\n",
    "  chic.experiment.quantify_H3K27_Somatic_peakcalling.broad_chr[analyze_loci]\n",
    "seqlevels(chic.experiment.quantify_H3K27_Somatic_peakcalling.broad_chr) <-\n",
    "  levels(seqnames)\n",
    "seqnames(chic.experiment.quantify_H3K27_Somatic_peakcalling.broad_chr) <-\n",
    "  seqnames\n",
    "\n",
    "tar_load(chic.experiment.quantify_H3K9_Germline_peakcalling.broad_chr)\n",
    "tar_load(chic.experiment.quantify_H3K9_Somatic_peakcalling.broad_chr)\n",
    "chic.experiment.quantify_H3K9_Germline_peakcalling.broad_chr <-\n",
    "  chic.experiment.quantify_H3K9_Germline_peakcalling.broad_chr[analyze_loci]\n",
    "seqlevels(chic.experiment.quantify_H3K9_Germline_peakcalling.broad_chr) <-\n",
    "  levels(seqnames)\n",
    "seqnames(chic.experiment.quantify_H3K9_Germline_peakcalling.broad_chr) <-\n",
    "  seqnames\n",
    "chic.experiment.quantify_H3K9_Somatic_peakcalling.broad_chr <-\n",
    "  chic.experiment.quantify_H3K9_Somatic_peakcalling.broad_chr[analyze_loci]\n",
    "seqlevels(chic.experiment.quantify_H3K9_Somatic_peakcalling.broad_chr) <-\n",
    "  levels(seqnames)\n",
    "seqnames(chic.experiment.quantify_H3K9_Somatic_peakcalling.broad_chr) <-\n",
    "  seqnames"
   ]
  },
  {
   "cell_type": "code",
   "execution_count": 6,
   "metadata": {
    "vscode": {
     "languageId": "r"
    }
   },
   "outputs": [],
   "source": [
    "chic.experiment.quantify_H3K4_Germline_peakcalling.broad_chr <-\n",
    "  chic.experiment.quantify_H3K4_Germline_peakcalling.broad_chr %>%\n",
    "    subset(seqnames(.) != \"rDNA\")\n",
    "chic.experiment.quantify_H3K4_Somatic_peakcalling.broad_chr <-\n",
    "  chic.experiment.quantify_H3K4_Somatic_peakcalling.broad_chr %>%\n",
    "    subset(seqnames(.) != \"rDNA\")\n",
    "\n",
    "chic.experiment.quantify_H3K27_Germline_peakcalling.broad_chr <-\n",
    "  chic.experiment.quantify_H3K27_Germline_peakcalling.broad_chr %>%\n",
    "    subset(seqnames(.) != \"rDNA\")\n",
    "chic.experiment.quantify_H3K27_Somatic_peakcalling.broad_chr <-\n",
    "  chic.experiment.quantify_H3K27_Somatic_peakcalling.broad_chr %>%\n",
    "    subset(seqnames(.) != \"rDNA\")\n",
    "\n",
    "chic.experiment.quantify_H3K9_Germline_peakcalling.broad_chr <-\n",
    "  chic.experiment.quantify_H3K9_Germline_peakcalling.broad_chr %>%\n",
    "    subset(seqnames(.) != \"rDNA\")\n",
    "chic.experiment.quantify_H3K9_Somatic_peakcalling.broad_chr <-\n",
    "  chic.experiment.quantify_H3K9_Somatic_peakcalling.broad_chr %>%\n",
    "    subset(seqnames(.) != \"rDNA\")\n",
    "\n",
    "gr <- gr %>% subset(seqnames(.) != \"rDNA\")"
   ]
  },
  {
   "cell_type": "code",
   "execution_count": 43,
   "metadata": {
    "vscode": {
     "languageId": "r"
    }
   },
   "outputs": [
    {
     "name": "stdout",
     "output_type": "stream",
     "text": [
      "\u001b[90m# A tibble: 66 x 3\u001b[39m\n",
      "   mark     region table[,1]  [,2]\n",
      "   \u001b[3m\u001b[90m<chr>\u001b[39m\u001b[23m    \u001b[3m\u001b[90m<fct>\u001b[39m\u001b[23m      \u001b[3m\u001b[90m<int>\u001b[39m\u001b[23m \u001b[3m\u001b[90m<int>\u001b[39m\u001b[23m\n",
      "\u001b[90m 1\u001b[39m H3K27me3 2L          \u001b[4m5\u001b[24m879 \u001b[4m4\u001b[24m\u001b[4m6\u001b[24m836\n",
      "\u001b[90m 2\u001b[39m H3K27me3 2L         \u001b[4m4\u001b[24m\u001b[4m3\u001b[24m264  \u001b[4m8\u001b[24m036\n",
      "\u001b[90m 3\u001b[39m H3K27me3 2LC          167   827\n",
      "\u001b[90m 4\u001b[39m H3K27me3 2LC         \u001b[4m3\u001b[24m838   543\n",
      "\u001b[90m 5\u001b[39m H3K27me3 2RC         \u001b[4m1\u001b[24m119  \u001b[4m4\u001b[24m090\n",
      "\u001b[90m 6\u001b[39m H3K27me3 2RC        \u001b[4m1\u001b[24m\u001b[4m6\u001b[24m205  \u001b[4m2\u001b[24m946\n",
      "\u001b[90m 7\u001b[39m H3K27me3 2R          \u001b[4m3\u001b[24m932 \u001b[4m5\u001b[24m\u001b[4m5\u001b[24m482\n",
      "\u001b[90m 8\u001b[39m H3K27me3 2R         \u001b[4m2\u001b[24m\u001b[4m9\u001b[24m721  \u001b[4m9\u001b[24m261\n",
      "\u001b[90m 9\u001b[39m H3K27me3 3L          \u001b[4m6\u001b[24m498 \u001b[4m5\u001b[24m\u001b[4m1\u001b[24m614\n",
      "\u001b[90m10\u001b[39m H3K27me3 3L         \u001b[4m4\u001b[24m\u001b[4m5\u001b[24m468  \u001b[4m8\u001b[24m563\n",
      "\u001b[90m# i 56 more rows\u001b[39m\n"
     ]
    }
   ],
   "source": [
    "contingency_data <- (\n",
    "  tribble(\n",
    "    ~mark, ~Germline, ~Somatic,\n",
    "    \"H3K4me3\", chic.experiment.quantify_H3K4_Germline_peakcalling.broad_chr, chic.experiment.quantify_H3K4_Somatic_peakcalling.broad_chr,\n",
    "    \"H3K27me3\", chic.experiment.quantify_H3K27_Germline_peakcalling.broad_chr, chic.experiment.quantify_H3K27_Somatic_peakcalling.broad_chr,\n",
    "    \"H3K9me3\", chic.experiment.quantify_H3K9_Germline_peakcalling.broad_chr, chic.experiment.quantify_H3K9_Somatic_peakcalling.broad_chr,\n",
    "  ) %>%\n",
    "    group_by(mark) %>%\n",
    "    reframe(\n",
    "      region = gr$region,\n",
    "      across(\n",
    "        c(Germline, Somatic),\n",
    "        \\(gr) gr[[1]]$L2FC\n",
    "      )\n",
    "    ) %>%\n",
    "    group_by(mark, region) %>%\n",
    "    reframe(\n",
    "      table = rbind(\n",
    "        c(\n",
    "          sum(between(Germline, -7.5, -0.2) & between(Somatic, 0.2, 7.5)),\n",
    "          sum(between(Germline, 0.2, 7.5) & between(Somatic, 0.2, 7.5))\n",
    "        ),\n",
    "        c(\n",
    "          sum(between(Germline, -7.5, -0.2) & between(Somatic, -7.5, -0.2)),\n",
    "          sum(between(Germline, 0.2, 7.5) & between(Somatic, -7.5, -0.2))\n",
    "        )\n",
    "      )\n",
    "    )\n",
    ") %>%\n",
    "  print()"
   ]
  },
  {
   "cell_type": "code",
   "execution_count": 44,
   "metadata": {
    "vscode": {
     "languageId": "r"
    }
   },
   "outputs": [
    {
     "data": {
      "text/html": [
       "0"
      ],
      "text/latex": [
       "0"
      ],
      "text/markdown": [
       "0"
      ],
      "text/plain": [
       "[1] 0"
      ]
     },
     "metadata": {},
     "output_type": "display_data"
    }
   ],
   "source": [
    "chisq.test(contingency_data$table[1:2, ])$p.value"
   ]
  },
  {
   "cell_type": "code",
   "execution_count": 45,
   "metadata": {
    "vscode": {
     "languageId": "r"
    }
   },
   "outputs": [
    {
     "name": "stdout",
     "output_type": "stream",
     "text": [
      "\u001b[90m# A tibble: 66 x 4\u001b[39m\n",
      "   mark     region table[,1]  [,2] expected_table[,1]   [,2]\n",
      "   \u001b[3m\u001b[90m<chr>\u001b[39m\u001b[23m    \u001b[3m\u001b[90m<fct>\u001b[39m\u001b[23m      \u001b[3m\u001b[90m<int>\u001b[39m\u001b[23m \u001b[3m\u001b[90m<int>\u001b[39m\u001b[23m              \u001b[3m\u001b[90m<dbl>\u001b[39m\u001b[23m  \u001b[3m\u001b[90m<dbl>\u001b[39m\u001b[23m\n",
      "\u001b[90m 1\u001b[39m H3K27me3 2L          \u001b[4m5\u001b[24m879 \u001b[4m4\u001b[24m\u001b[4m6\u001b[24m836              \u001b[4m7\u001b[24m025. \u001b[4m4\u001b[24m\u001b[4m4\u001b[24m982.\n",
      "\u001b[90m 2\u001b[39m H3K27me3 2L         \u001b[4m4\u001b[24m\u001b[4m3\u001b[24m264  \u001b[4m8\u001b[24m036             \u001b[4m4\u001b[24m\u001b[4m4\u001b[24m982.  \u001b[4m7\u001b[24m025.\n",
      "\u001b[90m 3\u001b[39m H3K27me3 2LC          167   827               340.  \u001b[4m2\u001b[24m348.\n",
      "\u001b[90m 4\u001b[39m H3K27me3 2LC         \u001b[4m3\u001b[24m838   543              \u001b[4m2\u001b[24m348.   340.\n",
      "\u001b[90m 5\u001b[39m H3K27me3 2RC         \u001b[4m1\u001b[24m119  \u001b[4m4\u001b[24m090              \u001b[4m1\u001b[24m932. \u001b[4m1\u001b[24m\u001b[4m0\u001b[24m248.\n",
      "\u001b[90m 6\u001b[39m H3K27me3 2RC        \u001b[4m1\u001b[24m\u001b[4m6\u001b[24m205  \u001b[4m2\u001b[24m946             \u001b[4m1\u001b[24m\u001b[4m0\u001b[24m248.  \u001b[4m1\u001b[24m932.\n",
      "\u001b[90m 7\u001b[39m H3K27me3 2R          \u001b[4m3\u001b[24m932 \u001b[4m5\u001b[24m\u001b[4m5\u001b[24m482              \u001b[4m6\u001b[24m781. \u001b[4m4\u001b[24m\u001b[4m2\u001b[24m417.\n",
      "\u001b[90m 8\u001b[39m H3K27me3 2R         \u001b[4m2\u001b[24m\u001b[4m9\u001b[24m721  \u001b[4m9\u001b[24m261             \u001b[4m4\u001b[24m\u001b[4m2\u001b[24m417.  \u001b[4m6\u001b[24m781.\n",
      "\u001b[90m 9\u001b[39m H3K27me3 3L          \u001b[4m6\u001b[24m498 \u001b[4m5\u001b[24m\u001b[4m1\u001b[24m614              \u001b[4m7\u001b[24m578. \u001b[4m4\u001b[24m\u001b[4m8\u001b[24m494.\n",
      "\u001b[90m10\u001b[39m H3K27me3 3L         \u001b[4m4\u001b[24m\u001b[4m5\u001b[24m468  \u001b[4m8\u001b[24m563             \u001b[4m4\u001b[24m\u001b[4m8\u001b[24m494.  \u001b[4m7\u001b[24m578.\n",
      "\u001b[90m# i 56 more rows\u001b[39m\n"
     ]
    }
   ],
   "source": [
    "library(mvtnorm)\n",
    "contingency_data <- contingency_data %>%\n",
    "  group_by(mark, region) %>%\n",
    "  reframe(\n",
    "    table,\n",
    "    setNames(\n",
    "      optim(\n",
    "        c(1, 0.1, 1),\n",
    "        \\(v) {\n",
    "          S <- tcrossprod(\n",
    "            rbind(c(v[1], v[2]), c(0, v[3]))\n",
    "          )\n",
    "          Expected <- rbind(\n",
    "            c(\n",
    "              pmvnorm(\n",
    "                lower = c(-7.5, +0.2),\n",
    "                upper = c(-0.2, +7.5),\n",
    "                sigma = S\n",
    "              ),\n",
    "              pmvnorm(\n",
    "                lower = c(+0.2, +0.2),\n",
    "                upper = c(+7.5, +7.5),\n",
    "                sigma = S\n",
    "              )\n",
    "            ),\n",
    "            c(\n",
    "              pmvnorm(\n",
    "                lower = c(-7.5, -7.5),\n",
    "                upper = c(-0.2, -0.2),\n",
    "                sigma = S\n",
    "              ),\n",
    "              pmvnorm(\n",
    "                lower = c(+0.2, -7.5),\n",
    "                upper = c(+7.5, -0.2),\n",
    "                sigma = S\n",
    "              )\n",
    "            )\n",
    "          )\n",
    "          Expected <- Expected / sum(Expected) * sum(table)\n",
    "          sum((table - Expected)^2 / Expected)\n",
    "        }\n",
    "      )$par,\n",
    "      c(\"cholA\", \"cholB\", \"cholC\")\n",
    "    ) %>%\n",
    "      as.list() %>%\n",
    "      as_tibble(),\n",
    "    expected_table = rbind(\n",
    "      c(\n",
    "        pmvnorm(\n",
    "          lower = c(-7.5, +0.2),\n",
    "          upper = c(-0.2, +7.5),\n",
    "          sigma = tcrossprod(rbind(c(cholA, cholB), c(0, cholC)))\n",
    "        ),\n",
    "        pmvnorm(\n",
    "          lower = c(+0.2, +0.2),\n",
    "          upper = c(+7.5, +7.5),\n",
    "          sigma = tcrossprod(rbind(c(cholA, cholB), c(0, cholC)))\n",
    "        )\n",
    "      ),\n",
    "      c(\n",
    "        pmvnorm(\n",
    "          lower = c(-7.5, -7.5),\n",
    "          upper = c(-0.2, -0.2),\n",
    "          sigma = tcrossprod(rbind(c(cholA, cholB), c(0, cholC)))\n",
    "        ),\n",
    "        pmvnorm(\n",
    "          lower = c(+0.2, -7.5),\n",
    "          upper = c(+7.5, -0.2),\n",
    "          sigma = tcrossprod(rbind(c(cholA, cholB), c(0, cholC)))\n",
    "        )\n",
    "      )\n",
    "    ) %>%\n",
    "      `/`(sum(.)) %>%\n",
    "      `*`(sum(table))\n",
    "  ) %>%\n",
    "  subset(select = -c(cholA, cholB, cholC)) %>%\n",
    "  print()"
   ]
  },
  {
   "cell_type": "code",
   "execution_count": 47,
   "metadata": {
    "vscode": {
     "languageId": "r"
    }
   },
   "outputs": [
    {
     "data": {
      "text/html": [
       "<table class=\"dataframe\">\n",
       "<caption>A tibble: 33 x 4</caption>\n",
       "<thead>\n",
       "\t<tr><th scope=col>mark</th><th scope=col>region</th><th scope=col>X2</th><th scope=col>p.adjust</th></tr>\n",
       "\t<tr><th scope=col>&lt;chr&gt;</th><th scope=col>&lt;fct&gt;</th><th scope=col>&lt;dbl&gt;</th><th scope=col>&lt;dbl&gt;</th></tr>\n",
       "</thead>\n",
       "<tbody>\n",
       "\t<tr><td>H3K27me3</td><td>2L </td><td>  474.4730</td><td> 1.003979e-21</td></tr>\n",
       "\t<tr><td>H3K27me3</td><td>2LC</td><td> 2140.4366</td><td> 5.933531e-94</td></tr>\n",
       "\t<tr><td>H3K27me3</td><td>2RC</td><td> 8037.3469</td><td> 0.000000e+00</td></tr>\n",
       "\t<tr><td>H3K27me3</td><td>2R </td><td> 9928.2804</td><td> 0.000000e+00</td></tr>\n",
       "\t<tr><td>H3K27me3</td><td>3L </td><td>  671.5121</td><td> 3.284138e-30</td></tr>\n",
       "\t<tr><td>H3K27me3</td><td>3LC</td><td> 8074.4159</td><td> 0.000000e+00</td></tr>\n",
       "\t<tr><td>H3K27me3</td><td>3RC</td><td> 3563.2139</td><td>9.055888e-156</td></tr>\n",
       "\t<tr><td>H3K27me3</td><td>3R </td><td> 6624.7115</td><td>9.448729e-289</td></tr>\n",
       "\t<tr><td>H3K27me3</td><td>4  </td><td> 7124.3905</td><td>1.897264e-310</td></tr>\n",
       "\t<tr><td>H3K27me3</td><td>X  </td><td> 2277.2084</td><td>7.078811e-100</td></tr>\n",
       "\t<tr><td>H3K27me3</td><td>Y  </td><td> 1524.3273</td><td> 3.730105e-67</td></tr>\n",
       "\t<tr><td>H3K4me3 </td><td>2L </td><td>  128.9676</td><td> 7.599268e-07</td></tr>\n",
       "\t<tr><td>H3K4me3 </td><td>2LC</td><td> 2521.8809</td><td>1.697964e-110</td></tr>\n",
       "\t<tr><td>H3K4me3 </td><td>2RC</td><td>10434.7071</td><td> 0.000000e+00</td></tr>\n",
       "\t<tr><td>H3K4me3 </td><td>2R </td><td> 7518.1227</td><td> 0.000000e+00</td></tr>\n",
       "\t<tr><td>H3K4me3 </td><td>3L </td><td>  865.5918</td><td> 1.387918e-38</td></tr>\n",
       "\t<tr><td>H3K4me3 </td><td>3LC</td><td>10441.3097</td><td> 0.000000e+00</td></tr>\n",
       "\t<tr><td>H3K4me3 </td><td>3RC</td><td> 3857.0345</td><td>1.600029e-168</td></tr>\n",
       "\t<tr><td>H3K4me3 </td><td>3R </td><td> 1379.6053</td><td> 6.977043e-61</td></tr>\n",
       "\t<tr><td>H3K4me3 </td><td>4  </td><td> 4913.6118</td><td>2.045813e-214</td></tr>\n",
       "\t<tr><td>H3K4me3 </td><td>X  </td><td> 7457.6492</td><td> 0.000000e+00</td></tr>\n",
       "\t<tr><td>H3K4me3 </td><td>Y  </td><td> 1107.6592</td><td> 4.609449e-49</td></tr>\n",
       "\t<tr><td>H3K9me3 </td><td>2L </td><td>  312.0494</td><td> 8.367610e-15</td></tr>\n",
       "\t<tr><td>H3K9me3 </td><td>2LC</td><td>  871.4184</td><td> 8.582935e-39</td></tr>\n",
       "\t<tr><td>H3K9me3 </td><td>2RC</td><td> 9216.5236</td><td> 0.000000e+00</td></tr>\n",
       "\t<tr><td>H3K9me3 </td><td>2R </td><td>  111.7159</td><td> 2.280222e-06</td></tr>\n",
       "\t<tr><td>H3K9me3 </td><td>3L </td><td>  654.6370</td><td> 1.540972e-29</td></tr>\n",
       "\t<tr><td>H3K9me3 </td><td>3LC</td><td> 6542.7125</td><td>3.304013e-285</td></tr>\n",
       "\t<tr><td>H3K9me3 </td><td>3RC</td><td> 9109.4079</td><td> 0.000000e+00</td></tr>\n",
       "\t<tr><td>H3K9me3 </td><td>3R </td><td>  379.4954</td><td> 1.194157e-17</td></tr>\n",
       "\t<tr><td>H3K9me3 </td><td>4  </td><td>  858.7793</td><td> 2.447769e-38</td></tr>\n",
       "\t<tr><td>H3K9me3 </td><td>X  </td><td>11300.3522</td><td> 0.000000e+00</td></tr>\n",
       "\t<tr><td>H3K9me3 </td><td>Y  </td><td> 4879.6862</td><td>5.800417e-213</td></tr>\n",
       "</tbody>\n",
       "</table>\n"
      ],
      "text/latex": [
       "A tibble: 33 x 4\n",
       "\\begin{tabular}{llll}\n",
       " mark & region & X2 & p.adjust\\\\\n",
       " <chr> & <fct> & <dbl> & <dbl>\\\\\n",
       "\\hline\n",
       "\t H3K27me3 & 2L  &   474.4730 &  1.003979e-21\\\\\n",
       "\t H3K27me3 & 2LC &  2140.4366 &  5.933531e-94\\\\\n",
       "\t H3K27me3 & 2RC &  8037.3469 &  0.000000e+00\\\\\n",
       "\t H3K27me3 & 2R  &  9928.2804 &  0.000000e+00\\\\\n",
       "\t H3K27me3 & 3L  &   671.5121 &  3.284138e-30\\\\\n",
       "\t H3K27me3 & 3LC &  8074.4159 &  0.000000e+00\\\\\n",
       "\t H3K27me3 & 3RC &  3563.2139 & 9.055888e-156\\\\\n",
       "\t H3K27me3 & 3R  &  6624.7115 & 9.448729e-289\\\\\n",
       "\t H3K27me3 & 4   &  7124.3905 & 1.897264e-310\\\\\n",
       "\t H3K27me3 & X   &  2277.2084 & 7.078811e-100\\\\\n",
       "\t H3K27me3 & Y   &  1524.3273 &  3.730105e-67\\\\\n",
       "\t H3K4me3  & 2L  &   128.9676 &  7.599268e-07\\\\\n",
       "\t H3K4me3  & 2LC &  2521.8809 & 1.697964e-110\\\\\n",
       "\t H3K4me3  & 2RC & 10434.7071 &  0.000000e+00\\\\\n",
       "\t H3K4me3  & 2R  &  7518.1227 &  0.000000e+00\\\\\n",
       "\t H3K4me3  & 3L  &   865.5918 &  1.387918e-38\\\\\n",
       "\t H3K4me3  & 3LC & 10441.3097 &  0.000000e+00\\\\\n",
       "\t H3K4me3  & 3RC &  3857.0345 & 1.600029e-168\\\\\n",
       "\t H3K4me3  & 3R  &  1379.6053 &  6.977043e-61\\\\\n",
       "\t H3K4me3  & 4   &  4913.6118 & 2.045813e-214\\\\\n",
       "\t H3K4me3  & X   &  7457.6492 &  0.000000e+00\\\\\n",
       "\t H3K4me3  & Y   &  1107.6592 &  4.609449e-49\\\\\n",
       "\t H3K9me3  & 2L  &   312.0494 &  8.367610e-15\\\\\n",
       "\t H3K9me3  & 2LC &   871.4184 &  8.582935e-39\\\\\n",
       "\t H3K9me3  & 2RC &  9216.5236 &  0.000000e+00\\\\\n",
       "\t H3K9me3  & 2R  &   111.7159 &  2.280222e-06\\\\\n",
       "\t H3K9me3  & 3L  &   654.6370 &  1.540972e-29\\\\\n",
       "\t H3K9me3  & 3LC &  6542.7125 & 3.304013e-285\\\\\n",
       "\t H3K9me3  & 3RC &  9109.4079 &  0.000000e+00\\\\\n",
       "\t H3K9me3  & 3R  &   379.4954 &  1.194157e-17\\\\\n",
       "\t H3K9me3  & 4   &   858.7793 &  2.447769e-38\\\\\n",
       "\t H3K9me3  & X   & 11300.3522 &  0.000000e+00\\\\\n",
       "\t H3K9me3  & Y   &  4879.6862 & 5.800417e-213\\\\\n",
       "\\end{tabular}\n"
      ],
      "text/markdown": [
       "\n",
       "A tibble: 33 x 4\n",
       "\n",
       "| mark &lt;chr&gt; | region &lt;fct&gt; | X2 &lt;dbl&gt; | p.adjust &lt;dbl&gt; |\n",
       "|---|---|---|---|\n",
       "| H3K27me3 | 2L  |   474.4730 |  1.003979e-21 |\n",
       "| H3K27me3 | 2LC |  2140.4366 |  5.933531e-94 |\n",
       "| H3K27me3 | 2RC |  8037.3469 |  0.000000e+00 |\n",
       "| H3K27me3 | 2R  |  9928.2804 |  0.000000e+00 |\n",
       "| H3K27me3 | 3L  |   671.5121 |  3.284138e-30 |\n",
       "| H3K27me3 | 3LC |  8074.4159 |  0.000000e+00 |\n",
       "| H3K27me3 | 3RC |  3563.2139 | 9.055888e-156 |\n",
       "| H3K27me3 | 3R  |  6624.7115 | 9.448729e-289 |\n",
       "| H3K27me3 | 4   |  7124.3905 | 1.897264e-310 |\n",
       "| H3K27me3 | X   |  2277.2084 | 7.078811e-100 |\n",
       "| H3K27me3 | Y   |  1524.3273 |  3.730105e-67 |\n",
       "| H3K4me3  | 2L  |   128.9676 |  7.599268e-07 |\n",
       "| H3K4me3  | 2LC |  2521.8809 | 1.697964e-110 |\n",
       "| H3K4me3  | 2RC | 10434.7071 |  0.000000e+00 |\n",
       "| H3K4me3  | 2R  |  7518.1227 |  0.000000e+00 |\n",
       "| H3K4me3  | 3L  |   865.5918 |  1.387918e-38 |\n",
       "| H3K4me3  | 3LC | 10441.3097 |  0.000000e+00 |\n",
       "| H3K4me3  | 3RC |  3857.0345 | 1.600029e-168 |\n",
       "| H3K4me3  | 3R  |  1379.6053 |  6.977043e-61 |\n",
       "| H3K4me3  | 4   |  4913.6118 | 2.045813e-214 |\n",
       "| H3K4me3  | X   |  7457.6492 |  0.000000e+00 |\n",
       "| H3K4me3  | Y   |  1107.6592 |  4.609449e-49 |\n",
       "| H3K9me3  | 2L  |   312.0494 |  8.367610e-15 |\n",
       "| H3K9me3  | 2LC |   871.4184 |  8.582935e-39 |\n",
       "| H3K9me3  | 2RC |  9216.5236 |  0.000000e+00 |\n",
       "| H3K9me3  | 2R  |   111.7159 |  2.280222e-06 |\n",
       "| H3K9me3  | 3L  |   654.6370 |  1.540972e-29 |\n",
       "| H3K9me3  | 3LC |  6542.7125 | 3.304013e-285 |\n",
       "| H3K9me3  | 3RC |  9109.4079 |  0.000000e+00 |\n",
       "| H3K9me3  | 3R  |   379.4954 |  1.194157e-17 |\n",
       "| H3K9me3  | 4   |   858.7793 |  2.447769e-38 |\n",
       "| H3K9me3  | X   | 11300.3522 |  0.000000e+00 |\n",
       "| H3K9me3  | Y   |  4879.6862 | 5.800417e-213 |\n",
       "\n"
      ],
      "text/plain": [
       "   mark     region X2         p.adjust     \n",
       "1  H3K27me3 2L       474.4730  1.003979e-21\n",
       "2  H3K27me3 2LC     2140.4366  5.933531e-94\n",
       "3  H3K27me3 2RC     8037.3469  0.000000e+00\n",
       "4  H3K27me3 2R      9928.2804  0.000000e+00\n",
       "5  H3K27me3 3L       671.5121  3.284138e-30\n",
       "6  H3K27me3 3LC     8074.4159  0.000000e+00\n",
       "7  H3K27me3 3RC     3563.2139 9.055888e-156\n",
       "8  H3K27me3 3R      6624.7115 9.448729e-289\n",
       "9  H3K27me3 4       7124.3905 1.897264e-310\n",
       "10 H3K27me3 X       2277.2084 7.078811e-100\n",
       "11 H3K27me3 Y       1524.3273  3.730105e-67\n",
       "12 H3K4me3  2L       128.9676  7.599268e-07\n",
       "13 H3K4me3  2LC     2521.8809 1.697964e-110\n",
       "14 H3K4me3  2RC    10434.7071  0.000000e+00\n",
       "15 H3K4me3  2R      7518.1227  0.000000e+00\n",
       "16 H3K4me3  3L       865.5918  1.387918e-38\n",
       "17 H3K4me3  3LC    10441.3097  0.000000e+00\n",
       "18 H3K4me3  3RC     3857.0345 1.600029e-168\n",
       "19 H3K4me3  3R      1379.6053  6.977043e-61\n",
       "20 H3K4me3  4       4913.6118 2.045813e-214\n",
       "21 H3K4me3  X       7457.6492  0.000000e+00\n",
       "22 H3K4me3  Y       1107.6592  4.609449e-49\n",
       "23 H3K9me3  2L       312.0494  8.367610e-15\n",
       "24 H3K9me3  2LC      871.4184  8.582935e-39\n",
       "25 H3K9me3  2RC     9216.5236  0.000000e+00\n",
       "26 H3K9me3  2R       111.7159  2.280222e-06\n",
       "27 H3K9me3  3L       654.6370  1.540972e-29\n",
       "28 H3K9me3  3LC     6542.7125 3.304013e-285\n",
       "29 H3K9me3  3RC     9109.4079  0.000000e+00\n",
       "30 H3K9me3  3R       379.4954  1.194157e-17\n",
       "31 H3K9me3  4        858.7793  2.447769e-38\n",
       "32 H3K9me3  X      11300.3522  0.000000e+00\n",
       "33 H3K9me3  Y       4879.6862 5.800417e-213"
      ]
     },
     "metadata": {},
     "output_type": "display_data"
    }
   ],
   "source": [
    "contingency_data %>%\n",
    "  group_by(mark, region) %>%\n",
    "  reframe(\n",
    "    X2 = sum((table - expected_table)^2 / expected_table),\n",
    "    p.adjust = pchisq(X2 / 5, 1, lower.tail = F)\n",
    "  ) %>%\n",
    "  mutate(\n",
    "    p.adjust = p.adjust(p.adjust)\n",
    "  )"
   ]
  },
  {
   "cell_type": "code",
   "execution_count": 102,
   "metadata": {
    "vscode": {
     "languageId": "r"
    }
   },
   "outputs": [
    {
     "data": {
      "text/html": [
       "<table class=\"dataframe\">\n",
       "<caption>A tibble: 33 x 3</caption>\n",
       "<thead>\n",
       "\t<tr><th scope=col>mark</th><th scope=col>region</th><th scope=col>p.adjust</th></tr>\n",
       "\t<tr><th scope=col>&lt;fct&gt;</th><th scope=col>&lt;fct&gt;</th><th scope=col>&lt;dbl&gt;</th></tr>\n",
       "</thead>\n",
       "<tbody>\n",
       "\t<tr><td>H3K4me3 </td><td>2L </td><td>0.00000</td></tr>\n",
       "\t<tr><td>H3K4me3 </td><td>2LC</td><td>0.00000</td></tr>\n",
       "\t<tr><td>H3K4me3 </td><td>2RC</td><td>0.00000</td></tr>\n",
       "\t<tr><td>H3K4me3 </td><td>2R </td><td>0.32944</td></tr>\n",
       "\t<tr><td>H3K4me3 </td><td>3L </td><td>0.00000</td></tr>\n",
       "\t<tr><td>H3K4me3 </td><td>3LC</td><td>0.00000</td></tr>\n",
       "\t<tr><td>H3K4me3 </td><td>3RC</td><td>0.00000</td></tr>\n",
       "\t<tr><td>H3K4me3 </td><td>3R </td><td>0.00009</td></tr>\n",
       "\t<tr><td>H3K4me3 </td><td>4  </td><td>0.00000</td></tr>\n",
       "\t<tr><td>H3K4me3 </td><td>X  </td><td>0.00000</td></tr>\n",
       "\t<tr><td>H3K4me3 </td><td>Y  </td><td>0.00000</td></tr>\n",
       "\t<tr><td>H3K27me3</td><td>2L </td><td>0.00000</td></tr>\n",
       "\t<tr><td>H3K27me3</td><td>2LC</td><td>0.00000</td></tr>\n",
       "\t<tr><td>H3K27me3</td><td>2RC</td><td>0.00000</td></tr>\n",
       "\t<tr><td>H3K27me3</td><td>2R </td><td>0.00000</td></tr>\n",
       "\t<tr><td>H3K27me3</td><td>3L </td><td>0.00000</td></tr>\n",
       "\t<tr><td>H3K27me3</td><td>3LC</td><td>0.00000</td></tr>\n",
       "\t<tr><td>H3K27me3</td><td>3RC</td><td>0.00009</td></tr>\n",
       "\t<tr><td>H3K27me3</td><td>3R </td><td>0.00000</td></tr>\n",
       "\t<tr><td>H3K27me3</td><td>4  </td><td>0.00000</td></tr>\n",
       "\t<tr><td>H3K27me3</td><td>X  </td><td>0.00000</td></tr>\n",
       "\t<tr><td>H3K27me3</td><td>Y  </td><td>0.00565</td></tr>\n",
       "\t<tr><td>H3K9me3 </td><td>2L </td><td>1.00000</td></tr>\n",
       "\t<tr><td>H3K9me3 </td><td>2LC</td><td>0.00000</td></tr>\n",
       "\t<tr><td>H3K9me3 </td><td>2RC</td><td>0.00000</td></tr>\n",
       "\t<tr><td>H3K9me3 </td><td>2R </td><td>0.00000</td></tr>\n",
       "\t<tr><td>H3K9me3 </td><td>3L </td><td>1.00000</td></tr>\n",
       "\t<tr><td>H3K9me3 </td><td>3LC</td><td>0.00000</td></tr>\n",
       "\t<tr><td>H3K9me3 </td><td>3RC</td><td>0.00042</td></tr>\n",
       "\t<tr><td>H3K9me3 </td><td>3R </td><td>0.00000</td></tr>\n",
       "\t<tr><td>H3K9me3 </td><td>4  </td><td>0.48945</td></tr>\n",
       "\t<tr><td>H3K9me3 </td><td>X  </td><td>0.00000</td></tr>\n",
       "\t<tr><td>H3K9me3 </td><td>Y  </td><td>0.00048</td></tr>\n",
       "</tbody>\n",
       "</table>\n"
      ],
      "text/latex": [
       "A tibble: 33 x 3\n",
       "\\begin{tabular}{lll}\n",
       " mark & region & p.adjust\\\\\n",
       " <fct> & <fct> & <dbl>\\\\\n",
       "\\hline\n",
       "\t H3K4me3  & 2L  & 0.00000\\\\\n",
       "\t H3K4me3  & 2LC & 0.00000\\\\\n",
       "\t H3K4me3  & 2RC & 0.00000\\\\\n",
       "\t H3K4me3  & 2R  & 0.32944\\\\\n",
       "\t H3K4me3  & 3L  & 0.00000\\\\\n",
       "\t H3K4me3  & 3LC & 0.00000\\\\\n",
       "\t H3K4me3  & 3RC & 0.00000\\\\\n",
       "\t H3K4me3  & 3R  & 0.00009\\\\\n",
       "\t H3K4me3  & 4   & 0.00000\\\\\n",
       "\t H3K4me3  & X   & 0.00000\\\\\n",
       "\t H3K4me3  & Y   & 0.00000\\\\\n",
       "\t H3K27me3 & 2L  & 0.00000\\\\\n",
       "\t H3K27me3 & 2LC & 0.00000\\\\\n",
       "\t H3K27me3 & 2RC & 0.00000\\\\\n",
       "\t H3K27me3 & 2R  & 0.00000\\\\\n",
       "\t H3K27me3 & 3L  & 0.00000\\\\\n",
       "\t H3K27me3 & 3LC & 0.00000\\\\\n",
       "\t H3K27me3 & 3RC & 0.00009\\\\\n",
       "\t H3K27me3 & 3R  & 0.00000\\\\\n",
       "\t H3K27me3 & 4   & 0.00000\\\\\n",
       "\t H3K27me3 & X   & 0.00000\\\\\n",
       "\t H3K27me3 & Y   & 0.00565\\\\\n",
       "\t H3K9me3  & 2L  & 1.00000\\\\\n",
       "\t H3K9me3  & 2LC & 0.00000\\\\\n",
       "\t H3K9me3  & 2RC & 0.00000\\\\\n",
       "\t H3K9me3  & 2R  & 0.00000\\\\\n",
       "\t H3K9me3  & 3L  & 1.00000\\\\\n",
       "\t H3K9me3  & 3LC & 0.00000\\\\\n",
       "\t H3K9me3  & 3RC & 0.00042\\\\\n",
       "\t H3K9me3  & 3R  & 0.00000\\\\\n",
       "\t H3K9me3  & 4   & 0.48945\\\\\n",
       "\t H3K9me3  & X   & 0.00000\\\\\n",
       "\t H3K9me3  & Y   & 0.00048\\\\\n",
       "\\end{tabular}\n"
      ],
      "text/markdown": [
       "\n",
       "A tibble: 33 x 3\n",
       "\n",
       "| mark &lt;fct&gt; | region &lt;fct&gt; | p.adjust &lt;dbl&gt; |\n",
       "|---|---|---|\n",
       "| H3K4me3  | 2L  | 0.00000 |\n",
       "| H3K4me3  | 2LC | 0.00000 |\n",
       "| H3K4me3  | 2RC | 0.00000 |\n",
       "| H3K4me3  | 2R  | 0.32944 |\n",
       "| H3K4me3  | 3L  | 0.00000 |\n",
       "| H3K4me3  | 3LC | 0.00000 |\n",
       "| H3K4me3  | 3RC | 0.00000 |\n",
       "| H3K4me3  | 3R  | 0.00009 |\n",
       "| H3K4me3  | 4   | 0.00000 |\n",
       "| H3K4me3  | X   | 0.00000 |\n",
       "| H3K4me3  | Y   | 0.00000 |\n",
       "| H3K27me3 | 2L  | 0.00000 |\n",
       "| H3K27me3 | 2LC | 0.00000 |\n",
       "| H3K27me3 | 2RC | 0.00000 |\n",
       "| H3K27me3 | 2R  | 0.00000 |\n",
       "| H3K27me3 | 3L  | 0.00000 |\n",
       "| H3K27me3 | 3LC | 0.00000 |\n",
       "| H3K27me3 | 3RC | 0.00009 |\n",
       "| H3K27me3 | 3R  | 0.00000 |\n",
       "| H3K27me3 | 4   | 0.00000 |\n",
       "| H3K27me3 | X   | 0.00000 |\n",
       "| H3K27me3 | Y   | 0.00565 |\n",
       "| H3K9me3  | 2L  | 1.00000 |\n",
       "| H3K9me3  | 2LC | 0.00000 |\n",
       "| H3K9me3  | 2RC | 0.00000 |\n",
       "| H3K9me3  | 2R  | 0.00000 |\n",
       "| H3K9me3  | 3L  | 1.00000 |\n",
       "| H3K9me3  | 3LC | 0.00000 |\n",
       "| H3K9me3  | 3RC | 0.00042 |\n",
       "| H3K9me3  | 3R  | 0.00000 |\n",
       "| H3K9me3  | 4   | 0.48945 |\n",
       "| H3K9me3  | X   | 0.00000 |\n",
       "| H3K9me3  | Y   | 0.00048 |\n",
       "\n"
      ],
      "text/plain": [
       "   mark     region p.adjust\n",
       "1  H3K4me3  2L     0.00000 \n",
       "2  H3K4me3  2LC    0.00000 \n",
       "3  H3K4me3  2RC    0.00000 \n",
       "4  H3K4me3  2R     0.32944 \n",
       "5  H3K4me3  3L     0.00000 \n",
       "6  H3K4me3  3LC    0.00000 \n",
       "7  H3K4me3  3RC    0.00000 \n",
       "8  H3K4me3  3R     0.00009 \n",
       "9  H3K4me3  4      0.00000 \n",
       "10 H3K4me3  X      0.00000 \n",
       "11 H3K4me3  Y      0.00000 \n",
       "12 H3K27me3 2L     0.00000 \n",
       "13 H3K27me3 2LC    0.00000 \n",
       "14 H3K27me3 2RC    0.00000 \n",
       "15 H3K27me3 2R     0.00000 \n",
       "16 H3K27me3 3L     0.00000 \n",
       "17 H3K27me3 3LC    0.00000 \n",
       "18 H3K27me3 3RC    0.00009 \n",
       "19 H3K27me3 3R     0.00000 \n",
       "20 H3K27me3 4      0.00000 \n",
       "21 H3K27me3 X      0.00000 \n",
       "22 H3K27me3 Y      0.00565 \n",
       "23 H3K9me3  2L     1.00000 \n",
       "24 H3K9me3  2LC    0.00000 \n",
       "25 H3K9me3  2RC    0.00000 \n",
       "26 H3K9me3  2R     0.00000 \n",
       "27 H3K9me3  3L     1.00000 \n",
       "28 H3K9me3  3LC    0.00000 \n",
       "29 H3K9me3  3RC    0.00042 \n",
       "30 H3K9me3  3R     0.00000 \n",
       "31 H3K9me3  4      0.48945 \n",
       "32 H3K9me3  X      0.00000 \n",
       "33 H3K9me3  Y      0.00048 "
      ]
     },
     "metadata": {},
     "output_type": "display_data"
    }
   ],
   "source": [
    "library(withr)\n",
    "overlap_factor <- 5\n",
    "contingency_data$mark <- contingency_data$mark %>%\n",
    "  factor(str_glue(\"H3K{c(4,27,9)}me3\"))\n",
    "contingency_test <- contingency_data %>%\n",
    "  group_by(mark, region) %>%\n",
    "  reframe(\n",
    "    p.adjust = mean(\n",
    "      {\n",
    "        p <- table[1, 1] / (table[1, 1] + table[2, 2])\n",
    "        q <- table[2, 2] / (table[1, 1] + table[2, 2])\n",
    "        n <- round((table[1, 1] + table[2, 2]) / overlap_factor)\n",
    "        p2 <- with_seed(0, rbinom(10^5, n, prob = 0.5) / n)\n",
    "        q2 <- 1 - p2\n",
    "        abs(log(p2) - log(q2)) >= abs(log(p) - log(q))\n",
    "      }\n",
    "    )\n",
    "  ) %>%\n",
    "  mutate(p.adjust = p.adjust %>% p.adjust())\n",
    "contingency_test"
   ]
  },
  {
   "cell_type": "code",
   "execution_count": 58,
   "metadata": {
    "vscode": {
     "languageId": "r"
    }
   },
   "outputs": [
    {
     "data": {
      "text/html": [
       "<table class=\"dataframe\">\n",
       "<caption>A tibble: 33 x 4</caption>\n",
       "<thead>\n",
       "\t<tr><th scope=col>mark</th><th scope=col>region</th><th scope=col>p.adjust</th><th scope=col>signif</th></tr>\n",
       "\t<tr><th scope=col>&lt;fct&gt;</th><th scope=col>&lt;fct&gt;</th><th scope=col>&lt;dbl&gt;</th><th scope=col>&lt;fct&gt;</th></tr>\n",
       "</thead>\n",
       "<tbody>\n",
       "\t<tr><td>H3K4me3 </td><td>2L </td><td> 5.962244e-06</td><td>****</td></tr>\n",
       "\t<tr><td>H3K4me3 </td><td>2LC</td><td> 1.048502e-11</td><td>****</td></tr>\n",
       "\t<tr><td>H3K4me3 </td><td>2RC</td><td> 3.074202e-19</td><td>****</td></tr>\n",
       "\t<tr><td>H3K4me3 </td><td>2R </td><td> 3.342499e-01</td><td>    </td></tr>\n",
       "\t<tr><td>H3K4me3 </td><td>3L </td><td> 1.583402e-20</td><td>****</td></tr>\n",
       "\t<tr><td>H3K4me3 </td><td>3LC</td><td> 1.158653e-18</td><td>****</td></tr>\n",
       "\t<tr><td>H3K4me3 </td><td>3RC</td><td> 1.041905e-05</td><td>****</td></tr>\n",
       "\t<tr><td>H3K4me3 </td><td>3R </td><td> 4.709798e-05</td><td>****</td></tr>\n",
       "\t<tr><td>H3K4me3 </td><td>4  </td><td> 8.665765e-25</td><td>****</td></tr>\n",
       "\t<tr><td>H3K4me3 </td><td>X  </td><td>3.513562e-175</td><td>****</td></tr>\n",
       "\t<tr><td>H3K4me3 </td><td>Y  </td><td> 4.536636e-09</td><td>****</td></tr>\n",
       "\t<tr><td>H3K27me3</td><td>2L </td><td> 5.185946e-15</td><td>****</td></tr>\n",
       "\t<tr><td>H3K27me3</td><td>2LC</td><td> 3.728809e-09</td><td>****</td></tr>\n",
       "\t<tr><td>H3K27me3</td><td>2RC</td><td> 2.608974e-37</td><td>****</td></tr>\n",
       "\t<tr><td>H3K27me3</td><td>2R </td><td> 1.179123e-96</td><td>****</td></tr>\n",
       "\t<tr><td>H3K27me3</td><td>3L </td><td> 1.005947e-12</td><td>****</td></tr>\n",
       "\t<tr><td>H3K27me3</td><td>3LC</td><td> 1.379708e-21</td><td>****</td></tr>\n",
       "\t<tr><td>H3K27me3</td><td>3RC</td><td> 5.085860e-05</td><td>****</td></tr>\n",
       "\t<tr><td>H3K27me3</td><td>3R </td><td>6.320752e-130</td><td>****</td></tr>\n",
       "\t<tr><td>H3K27me3</td><td>4  </td><td> 5.741592e-21</td><td>****</td></tr>\n",
       "\t<tr><td>H3K27me3</td><td>X  </td><td> 2.123859e-74</td><td>****</td></tr>\n",
       "\t<tr><td>H3K27me3</td><td>Y  </td><td> 6.086079e-03</td><td>**  </td></tr>\n",
       "\t<tr><td>H3K9me3 </td><td>2L </td><td> 1.000000e+00</td><td>    </td></tr>\n",
       "\t<tr><td>H3K9me3 </td><td>2LC</td><td> 5.962244e-06</td><td>****</td></tr>\n",
       "\t<tr><td>H3K9me3 </td><td>2RC</td><td> 6.140241e-27</td><td>****</td></tr>\n",
       "\t<tr><td>H3K9me3 </td><td>2R </td><td> 3.338013e-05</td><td>****</td></tr>\n",
       "\t<tr><td>H3K9me3 </td><td>3L </td><td> 1.000000e+00</td><td>    </td></tr>\n",
       "\t<tr><td>H3K9me3 </td><td>3LC</td><td> 5.100106e-06</td><td>****</td></tr>\n",
       "\t<tr><td>H3K9me3 </td><td>3RC</td><td> 5.107919e-04</td><td>*** </td></tr>\n",
       "\t<tr><td>H3K9me3 </td><td>3R </td><td> 6.960571e-16</td><td>****</td></tr>\n",
       "\t<tr><td>H3K9me3 </td><td>4  </td><td> 7.245099e-01</td><td>    </td></tr>\n",
       "\t<tr><td>H3K9me3 </td><td>X  </td><td> 1.083539e-30</td><td>****</td></tr>\n",
       "\t<tr><td>H3K9me3 </td><td>Y  </td><td> 1.014902e-03</td><td>**  </td></tr>\n",
       "</tbody>\n",
       "</table>\n"
      ],
      "text/latex": [
       "A tibble: 33 x 4\n",
       "\\begin{tabular}{llll}\n",
       " mark & region & p.adjust & signif\\\\\n",
       " <fct> & <fct> & <dbl> & <fct>\\\\\n",
       "\\hline\n",
       "\t H3K4me3  & 2L  &  5.962244e-06 & ****\\\\\n",
       "\t H3K4me3  & 2LC &  1.048502e-11 & ****\\\\\n",
       "\t H3K4me3  & 2RC &  3.074202e-19 & ****\\\\\n",
       "\t H3K4me3  & 2R  &  3.342499e-01 &     \\\\\n",
       "\t H3K4me3  & 3L  &  1.583402e-20 & ****\\\\\n",
       "\t H3K4me3  & 3LC &  1.158653e-18 & ****\\\\\n",
       "\t H3K4me3  & 3RC &  1.041905e-05 & ****\\\\\n",
       "\t H3K4me3  & 3R  &  4.709798e-05 & ****\\\\\n",
       "\t H3K4me3  & 4   &  8.665765e-25 & ****\\\\\n",
       "\t H3K4me3  & X   & 3.513562e-175 & ****\\\\\n",
       "\t H3K4me3  & Y   &  4.536636e-09 & ****\\\\\n",
       "\t H3K27me3 & 2L  &  5.185946e-15 & ****\\\\\n",
       "\t H3K27me3 & 2LC &  3.728809e-09 & ****\\\\\n",
       "\t H3K27me3 & 2RC &  2.608974e-37 & ****\\\\\n",
       "\t H3K27me3 & 2R  &  1.179123e-96 & ****\\\\\n",
       "\t H3K27me3 & 3L  &  1.005947e-12 & ****\\\\\n",
       "\t H3K27me3 & 3LC &  1.379708e-21 & ****\\\\\n",
       "\t H3K27me3 & 3RC &  5.085860e-05 & ****\\\\\n",
       "\t H3K27me3 & 3R  & 6.320752e-130 & ****\\\\\n",
       "\t H3K27me3 & 4   &  5.741592e-21 & ****\\\\\n",
       "\t H3K27me3 & X   &  2.123859e-74 & ****\\\\\n",
       "\t H3K27me3 & Y   &  6.086079e-03 & **  \\\\\n",
       "\t H3K9me3  & 2L  &  1.000000e+00 &     \\\\\n",
       "\t H3K9me3  & 2LC &  5.962244e-06 & ****\\\\\n",
       "\t H3K9me3  & 2RC &  6.140241e-27 & ****\\\\\n",
       "\t H3K9me3  & 2R  &  3.338013e-05 & ****\\\\\n",
       "\t H3K9me3  & 3L  &  1.000000e+00 &     \\\\\n",
       "\t H3K9me3  & 3LC &  5.100106e-06 & ****\\\\\n",
       "\t H3K9me3  & 3RC &  5.107919e-04 & *** \\\\\n",
       "\t H3K9me3  & 3R  &  6.960571e-16 & ****\\\\\n",
       "\t H3K9me3  & 4   &  7.245099e-01 &     \\\\\n",
       "\t H3K9me3  & X   &  1.083539e-30 & ****\\\\\n",
       "\t H3K9me3  & Y   &  1.014902e-03 & **  \\\\\n",
       "\\end{tabular}\n"
      ],
      "text/markdown": [
       "\n",
       "A tibble: 33 x 4\n",
       "\n",
       "| mark &lt;fct&gt; | region &lt;fct&gt; | p.adjust &lt;dbl&gt; | signif &lt;fct&gt; |\n",
       "|---|---|---|---|\n",
       "| H3K4me3  | 2L  |  5.962244e-06 | **** |\n",
       "| H3K4me3  | 2LC |  1.048502e-11 | **** |\n",
       "| H3K4me3  | 2RC |  3.074202e-19 | **** |\n",
       "| H3K4me3  | 2R  |  3.342499e-01 | <!----> |\n",
       "| H3K4me3  | 3L  |  1.583402e-20 | **** |\n",
       "| H3K4me3  | 3LC |  1.158653e-18 | **** |\n",
       "| H3K4me3  | 3RC |  1.041905e-05 | **** |\n",
       "| H3K4me3  | 3R  |  4.709798e-05 | **** |\n",
       "| H3K4me3  | 4   |  8.665765e-25 | **** |\n",
       "| H3K4me3  | X   | 3.513562e-175 | **** |\n",
       "| H3K4me3  | Y   |  4.536636e-09 | **** |\n",
       "| H3K27me3 | 2L  |  5.185946e-15 | **** |\n",
       "| H3K27me3 | 2LC |  3.728809e-09 | **** |\n",
       "| H3K27me3 | 2RC |  2.608974e-37 | **** |\n",
       "| H3K27me3 | 2R  |  1.179123e-96 | **** |\n",
       "| H3K27me3 | 3L  |  1.005947e-12 | **** |\n",
       "| H3K27me3 | 3LC |  1.379708e-21 | **** |\n",
       "| H3K27me3 | 3RC |  5.085860e-05 | **** |\n",
       "| H3K27me3 | 3R  | 6.320752e-130 | **** |\n",
       "| H3K27me3 | 4   |  5.741592e-21 | **** |\n",
       "| H3K27me3 | X   |  2.123859e-74 | **** |\n",
       "| H3K27me3 | Y   |  6.086079e-03 | **   |\n",
       "| H3K9me3  | 2L  |  1.000000e+00 | <!----> |\n",
       "| H3K9me3  | 2LC |  5.962244e-06 | **** |\n",
       "| H3K9me3  | 2RC |  6.140241e-27 | **** |\n",
       "| H3K9me3  | 2R  |  3.338013e-05 | **** |\n",
       "| H3K9me3  | 3L  |  1.000000e+00 | <!----> |\n",
       "| H3K9me3  | 3LC |  5.100106e-06 | **** |\n",
       "| H3K9me3  | 3RC |  5.107919e-04 | ***  |\n",
       "| H3K9me3  | 3R  |  6.960571e-16 | **** |\n",
       "| H3K9me3  | 4   |  7.245099e-01 | <!----> |\n",
       "| H3K9me3  | X   |  1.083539e-30 | **** |\n",
       "| H3K9me3  | Y   |  1.014902e-03 | **   |\n",
       "\n"
      ],
      "text/plain": [
       "   mark     region p.adjust      signif\n",
       "1  H3K4me3  2L      5.962244e-06 ****  \n",
       "2  H3K4me3  2LC     1.048502e-11 ****  \n",
       "3  H3K4me3  2RC     3.074202e-19 ****  \n",
       "4  H3K4me3  2R      3.342499e-01       \n",
       "5  H3K4me3  3L      1.583402e-20 ****  \n",
       "6  H3K4me3  3LC     1.158653e-18 ****  \n",
       "7  H3K4me3  3RC     1.041905e-05 ****  \n",
       "8  H3K4me3  3R      4.709798e-05 ****  \n",
       "9  H3K4me3  4       8.665765e-25 ****  \n",
       "10 H3K4me3  X      3.513562e-175 ****  \n",
       "11 H3K4me3  Y       4.536636e-09 ****  \n",
       "12 H3K27me3 2L      5.185946e-15 ****  \n",
       "13 H3K27me3 2LC     3.728809e-09 ****  \n",
       "14 H3K27me3 2RC     2.608974e-37 ****  \n",
       "15 H3K27me3 2R      1.179123e-96 ****  \n",
       "16 H3K27me3 3L      1.005947e-12 ****  \n",
       "17 H3K27me3 3LC     1.379708e-21 ****  \n",
       "18 H3K27me3 3RC     5.085860e-05 ****  \n",
       "19 H3K27me3 3R     6.320752e-130 ****  \n",
       "20 H3K27me3 4       5.741592e-21 ****  \n",
       "21 H3K27me3 X       2.123859e-74 ****  \n",
       "22 H3K27me3 Y       6.086079e-03 **    \n",
       "23 H3K9me3  2L      1.000000e+00       \n",
       "24 H3K9me3  2LC     5.962244e-06 ****  \n",
       "25 H3K9me3  2RC     6.140241e-27 ****  \n",
       "26 H3K9me3  2R      3.338013e-05 ****  \n",
       "27 H3K9me3  3L      1.000000e+00       \n",
       "28 H3K9me3  3LC     5.100106e-06 ****  \n",
       "29 H3K9me3  3RC     5.107919e-04 ***   \n",
       "30 H3K9me3  3R      6.960571e-16 ****  \n",
       "31 H3K9me3  4       7.245099e-01       \n",
       "32 H3K9me3  X       1.083539e-30 ****  \n",
       "33 H3K9me3  Y       1.014902e-03 **    "
      ]
     },
     "metadata": {},
     "output_type": "display_data"
    }
   ],
   "source": [
    "library(withr)\n",
    "overlap_factor <- 5\n",
    "contingency_data$mark <- contingency_data$mark %>%\n",
    "  factor(str_glue(\"H3K{c(4,27,9)}me3\"))\n",
    "contingency_test <- contingency_data %>%\n",
    "  group_by(mark, region) %>%\n",
    "  reframe(\n",
    "    p.adjust = mean(\n",
    "      {\n",
    "        p <- table[1, 1] / (table[1, 1] + table[2, 2])\n",
    "        q <- table[2, 2] / (table[1, 1] + table[2, 2])\n",
    "        n <- round((table[1, 1] + table[2, 2]) / overlap_factor)\n",
    "        if (table[1, 1] < table[2, 2]) {\n",
    "          lower <- table[1, 1] / overlap_factor\n",
    "          upper <- table[2, 2] / overlap_factor\n",
    "        } else {\n",
    "          lower <- table[2, 2] / overlap_factor\n",
    "          upper <- table[1, 1] / overlap_factor\n",
    "        }\n",
    "        pbinom(upper - 1, n, prob = 0.5, lower.tail = F) +\n",
    "          pbinom(lower, n, prob = 0.5)\n",
    "      }\n",
    "    )\n",
    "  ) %>%\n",
    "  mutate(\n",
    "    p.adjust = p.adjust %>% p.adjust(),\n",
    "    signif = structure(\n",
    "      cut(p.adjust, c(-Inf, 1e-4, 1e-3, 1e-2, 5e-2, Inf)),\n",
    "      levels = c(\"****\", \"***\", \"**\", \"*\", \"\"),\n",
    "      class = \"factor\"\n",
    "    )\n",
    "  )\n",
    "contingency_test"
   ]
  },
  {
   "cell_type": "markdown",
   "metadata": {},
   "source": [
    "## Repliseq Distribution Cell-Type Difference"
   ]
  },
  {
   "cell_type": "code",
   "execution_count": 73,
   "metadata": {
    "vscode": {
     "languageId": "r"
    }
   },
   "outputs": [],
   "source": [
    "tar_load(\n",
    "  c(\n",
    "    chic.tile.diameter_1000_chr,\n",
    "    repli.posterior_Germline_chr,\n",
    "    repli.posterior_Somatic_chr,\n",
    "    repli.prior.distribution\n",
    "  )\n",
    ")"
   ]
  },
  {
   "cell_type": "code",
   "execution_count": 80,
   "metadata": {
    "vscode": {
     "languageId": "r"
    }
   },
   "outputs": [
    {
     "data": {
      "text/plain": [
       "repli_region\n",
       "   2L   2LC   2RC    2R    3L   3LC   3RC    3R     4     X     Y  rDNA \n",
       "22192  1322  5652 19635 23154  4957  4230 27850  1349 23543  3668    40 "
      ]
     },
     "metadata": {},
     "output_type": "display_data"
    }
   ],
   "source": [
    "repli_region <- seqnames(chic.tile.diameter_1000_chr) %>%\n",
    "  factor(levels = levels(.) %>% head(7) %>% c(\"rDNA\")) %>%\n",
    "  as.character() %>%\n",
    "  paste0(\n",
    "    rep(\"\", length(.)) %>%\n",
    "      replace(\n",
    "        to(findOverlaps(chromosome_pericetromere_label, chic.tile.diameter_1000_chr)),\n",
    "        \"C\"\n",
    "      )\n",
    "  ) %>%\n",
    "  factor(c(\"2L\", \"2LC\", \"2RC\", \"2R\", \"3L\", \"3LC\", \"3RC\", \"3R\", \"4\", \"X\", \"Y\", \"rDNA\")) %>%\n",
    "  replace(\n",
    "    which(. == \"rDNA\") %>%\n",
    "      head(length(.) - 40),\n",
    "    NA\n",
    "  )\n",
    "table(repli_region)"
   ]
  },
  {
   "cell_type": "code",
   "execution_count": 85,
   "metadata": {
    "vscode": {
     "languageId": "r"
    }
   },
   "outputs": [],
   "source": [
    "Angle <- seq(0, pi/2, length.out=75)\n",
    "D_Timing_D_Angle <- 1/(1 + sin(2*Angle))\n",
    "Timing <- 1 - 2 * sin(Angle) / (sin(Angle) + cos(Angle))"
   ]
  },
  {
   "cell_type": "code",
   "execution_count": null,
   "metadata": {
    "vscode": {
     "languageId": "r"
    }
   },
   "outputs": [],
   "source": []
  },
  {
   "cell_type": "code",
   "execution_count": 100,
   "metadata": {
    "vscode": {
     "languageId": "r"
    }
   },
   "outputs": [],
   "source": [
    "v <- seq(-5, 5, by=0.1)\n",
    "Y <- repli.posterior_Germline_chr %>%\n",
    "  subset(rep(repli_region == \"2RC\", each = length(Timing)) & rowname %% 3 == 2) %>%\n",
    "  group_by(rowname) %>%\n",
    "  group_map(\n",
    "    \\(df, gr) approx(\n",
    "      rev(qlogistanh(Timing) * D_Timing_D_Angle),\n",
    "      rev(df$prob) %>% `/`(sum(.)),\n",
    "      xout = v\n",
    "    )$y *\n",
    "      dlogis(v)\n",
    "  )"
   ]
  },
  {
   "cell_type": "code",
   "execution_count": 101,
   "metadata": {
    "vscode": {
     "languageId": "r"
    }
   },
   "outputs": [
    {
     "data": {
      "text/html": [
       "<style>\n",
       ".list-inline {list-style: none; margin:0; padding: 0}\n",
       ".list-inline>li {display: inline-block}\n",
       ".list-inline>li:not(:last-child)::after {content: \"\\00b7\"; padding: 0 .5ex}\n",
       "</style>\n",
       "<ol class=list-inline><li>1</li><li>2</li><li>3</li><li>4</li><li>5</li><li>6</li><li>7</li><li>8</li><li>9</li><li>10</li><li>11</li><li>12</li><li>13</li><li>14</li></ol>\n"
      ],
      "text/latex": [
       "\\begin{enumerate*}\n",
       "\\item 1\n",
       "\\item 2\n",
       "\\item 3\n",
       "\\item 4\n",
       "\\item 5\n",
       "\\item 6\n",
       "\\item 7\n",
       "\\item 8\n",
       "\\item 9\n",
       "\\item 10\n",
       "\\item 11\n",
       "\\item 12\n",
       "\\item 13\n",
       "\\item 14\n",
       "\\end{enumerate*}\n"
      ],
      "text/markdown": [
       "1. 1\n",
       "2. 2\n",
       "3. 3\n",
       "4. 4\n",
       "5. 5\n",
       "6. 6\n",
       "7. 7\n",
       "8. 8\n",
       "9. 9\n",
       "10. 10\n",
       "11. 11\n",
       "12. 12\n",
       "13. 13\n",
       "14. 14\n",
       "\n",
       "\n"
      ],
      "text/plain": [
       " [1]  1  2  3  4  5  6  7  8  9 10 11 12 13 14"
      ]
     },
     "metadata": {},
     "output_type": "display_data"
    }
   ],
   "source": [
    "which(is.na(Y[[100]]))"
   ]
  }
 ],
 "metadata": {
  "kernelspec": {
   "display_name": "R",
   "language": "R",
   "name": "ir"
  },
  "language_info": {
   "codemirror_mode": "r",
   "file_extension": ".r",
   "mimetype": "text/x-r-source",
   "name": "R",
   "pygments_lexer": "r",
   "version": "4.3.3"
  }
 },
 "nbformat": 4,
 "nbformat_minor": 2
}
