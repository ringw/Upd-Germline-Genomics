{
 "cells": [
  {
   "cell_type": "code",
   "execution_count": 3,
   "metadata": {
    "vscode": {
     "languageId": "r"
    }
   },
   "outputs": [
    {
     "name": "stderr",
     "output_type": "stream",
     "text": [
      "Loading required package: viridisLite\n",
      "\n",
      "\n",
      "Attaching package: ‘dplyr’\n",
      "\n",
      "\n",
      "The following objects are masked from ‘package:stats’:\n",
      "\n",
      "    filter, lag\n",
      "\n",
      "\n",
      "The following objects are masked from ‘package:base’:\n",
      "\n",
      "    intersect, setdiff, setequal, union\n",
      "\n",
      "\n"
     ]
    }
   ],
   "source": [
    "setwd(\"~/Upd-Germline-Genomics\")\n",
    "source(\"_targets.R\")\n",
    "\n",
    "tar_load(repli.peaks_chr)\n",
    "tar_load(repli.static.timing.peaks)"
   ]
  },
  {
   "cell_type": "code",
   "execution_count": 7,
   "metadata": {
    "vscode": {
     "languageId": "r"
    }
   },
   "outputs": [
    {
     "data": {
      "text/html": [
       "<style>\n",
       ".list-inline {list-style: none; margin:0; padding: 0}\n",
       ".list-inline>li {display: inline-block}\n",
       ".list-inline>li:not(:last-child)::after {content: \"\\00b7\"; padding: 0 .5ex}\n",
       "</style>\n",
       "<ol class=list-inline><li>'Germline_Somatic'</li><li>'Germline_Kc167'</li><li>'Germline_S2'</li><li>'Somatic_Kc167'</li><li>'Somatic_S2'</li><li>'Kc167_S2'</li><li>'Dynamic_Static_Model'</li></ol>\n"
      ],
      "text/latex": [
       "\\begin{enumerate*}\n",
       "\\item 'Germline\\_Somatic'\n",
       "\\item 'Germline\\_Kc167'\n",
       "\\item 'Germline\\_S2'\n",
       "\\item 'Somatic\\_Kc167'\n",
       "\\item 'Somatic\\_S2'\n",
       "\\item 'Kc167\\_S2'\n",
       "\\item 'Dynamic\\_Static\\_Model'\n",
       "\\end{enumerate*}\n"
      ],
      "text/markdown": [
       "1. 'Germline_Somatic'\n",
       "2. 'Germline_Kc167'\n",
       "3. 'Germline_S2'\n",
       "4. 'Somatic_Kc167'\n",
       "5. 'Somatic_S2'\n",
       "6. 'Kc167_S2'\n",
       "7. 'Dynamic_Static_Model'\n",
       "\n",
       "\n"
      ],
      "text/plain": [
       "[1] \"Germline_Somatic\"     \"Germline_Kc167\"       \"Germline_S2\"         \n",
       "[4] \"Somatic_Kc167\"        \"Somatic_S2\"           \"Kc167_S2\"            \n",
       "[7] \"Dynamic_Static_Model\""
      ]
     },
     "metadata": {},
     "output_type": "display_data"
    }
   ],
   "source": [
    "names(repli.peaks_chr)"
   ]
  },
  {
   "cell_type": "code",
   "execution_count": 4,
   "metadata": {
    "vscode": {
     "languageId": "r"
    }
   },
   "outputs": [
    {
     "name": "stderr",
     "output_type": "stream",
     "text": [
      "Loading required package: GenomicRanges\n",
      "\n",
      "Loading required package: stats4\n",
      "\n",
      "Loading required package: BiocGenerics\n",
      "\n"
     ]
    },
    {
     "name": "stderr",
     "output_type": "stream",
     "text": [
      "\n",
      "Attaching package: ‘BiocGenerics’\n",
      "\n",
      "\n",
      "The following objects are masked from ‘package:dplyr’:\n",
      "\n",
      "    combine, intersect, setdiff, union\n",
      "\n",
      "\n",
      "The following objects are masked from ‘package:stats’:\n",
      "\n",
      "    IQR, mad, sd, var, xtabs\n",
      "\n",
      "\n",
      "The following objects are masked from ‘package:base’:\n",
      "\n",
      "    anyDuplicated, aperm, append, as.data.frame, basename, cbind,\n",
      "    colnames, dirname, do.call, duplicated, eval, evalq, Filter, Find,\n",
      "    get, grep, grepl, intersect, is.unsorted, lapply, Map, mapply,\n",
      "    match, mget, order, paste, pmax, pmax.int, pmin, pmin.int,\n",
      "    Position, rank, rbind, Reduce, rownames, sapply, setdiff, sort,\n",
      "    table, tapply, union, unique, unsplit, which.max, which.min\n",
      "\n",
      "\n",
      "Loading required package: S4Vectors\n",
      "\n",
      "\n",
      "Attaching package: ‘S4Vectors’\n",
      "\n",
      "\n",
      "The following objects are masked from ‘package:dplyr’:\n",
      "\n",
      "    first, rename\n",
      "\n",
      "\n",
      "The following object is masked from ‘package:utils’:\n",
      "\n",
      "    findMatches\n",
      "\n",
      "\n",
      "The following objects are masked from ‘package:base’:\n",
      "\n",
      "    expand.grid, I, unname\n",
      "\n",
      "\n",
      "Loading required package: IRanges\n",
      "\n",
      "\n",
      "Attaching package: ‘IRanges’\n",
      "\n",
      "\n",
      "The following objects are masked from ‘package:dplyr’:\n",
      "\n",
      "    collapse, desc, slice\n",
      "\n",
      "\n",
      "Loading required package: GenomeInfoDb\n",
      "\n",
      "\n",
      "Attaching package: ‘GenomicRanges’\n",
      "\n",
      "\n",
      "The following object is masked from ‘package:magrittr’:\n",
      "\n",
      "    subtract\n",
      "\n",
      "\n"
     ]
    },
    {
     "data": {
      "text/plain": [
       "GRanges object with 4 ranges and 0 metadata columns:\n",
       "      seqnames            ranges strand\n",
       "         <Rle>         <IRanges>  <Rle>\n",
       "  [1]       2L 22192401-23513712      *\n",
       "  [2]       2R         1-5651400      *\n",
       "  [3]       3L 23154101-28110227      *\n",
       "  [4]       3R         1-4229200      *\n",
       "  -------\n",
       "  seqinfo: 4 sequences from an unspecified genome; no seqlengths"
      ]
     },
     "metadata": {},
     "output_type": "display_data"
    }
   ],
   "source": [
    "tar_read(chromosome_pericetromere_label)"
   ]
  },
  {
   "cell_type": "code",
   "execution_count": 5,
   "metadata": {
    "vscode": {
     "languageId": "r"
    }
   },
   "outputs": [
    {
     "name": "stdout",
     "output_type": "stream",
     "text": [
      "GRanges object with 11 ranges and 0 metadata columns:\n",
      "      seqnames            ranges strand\n",
      "         <Rle>         <IRanges>  <Rle>\n",
      "   2L       2L        1-22192400      *\n",
      "  2LC       2L 22192401-23513712      *\n",
      "  2RC       2R         1-5651400      *\n",
      "   2R       2R  5651401-25286936      *\n",
      "   3L       3L        1-23154100      *\n",
      "  3LC       3L 23154101-28110227      *\n",
      "  3RC       3R         1-4229200      *\n",
      "   3R       3R  4229201-32079331      *\n",
      "    4        4         1-1348131      *\n",
      "    X        X        1-23542271      *\n",
      "    Y        Y         1-3667352      *\n",
      "  -------\n",
      "  seqinfo: 7 sequences from an unspecified genome; no seqlengths\n"
     ]
    }
   ],
   "source": [
    "regions <- setNames(\n",
    "  GRanges(\n",
    "    c(\n",
    "      \"2L:1-22192400\",\n",
    "      \"2L:22192401-23513712\",\n",
    "      \"2R:1-5651400\",\n",
    "      \"2R:5651401-25286936\",\n",
    "      \"3L:1-23154100\",\n",
    "      \"3L:23154101-28110227\",\n",
    "      \"3R:1-4229200\",\n",
    "      \"3R:4229201-32079331\",\n",
    "      \"4:1-1348131\",\n",
    "      \"X:1-23542271\",\n",
    "      \"Y:1-3667352\"\n",
    "    )\n",
    "  ),\n",
    "  c(\n",
    "    \"2L\",\n",
    "    \"2LC\",\n",
    "    \"2RC\",\n",
    "    \"2R\",\n",
    "    \"3L\",\n",
    "    \"3LC\",\n",
    "    \"3RC\",\n",
    "    \"3R\",\n",
    "    \"4\",\n",
    "    \"X\",\n",
    "    \"Y\"\n",
    "  )\n",
    ") %>%\n",
    "  print()"
   ]
  },
  {
   "cell_type": "code",
   "execution_count": 26,
   "metadata": {
    "vscode": {
     "languageId": "r"
    }
   },
   "outputs": [
    {
     "name": "stdout",
     "output_type": "stream",
     "text": [
      "\u001b[90m# A tibble: 429 × 4\u001b[39m\n",
      "   name               region feature        value\n",
      "   \u001b[3m\u001b[90m<fct>\u001b[39m\u001b[23m              \u001b[3m\u001b[90m<fct>\u001b[39m\u001b[23m  \u001b[3m\u001b[90m<chr>\u001b[39m\u001b[23m          \u001b[3m\u001b[90m<dbl>\u001b[39m\u001b[23m\n",
      "\u001b[90m 1\u001b[39m Germline > Somatic 2L     count         60    \n",
      "\u001b[90m 2\u001b[39m Germline > Somatic 2L     length_kb   \u001b[4m5\u001b[24m060    \n",
      "\u001b[90m 3\u001b[39m Germline > Somatic 2L     pct_covered    0.228\n",
      "\u001b[90m 4\u001b[39m Germline > Somatic 2LC    count          8    \n",
      "\u001b[90m 5\u001b[39m Germline > Somatic 2LC    length_kb    772    \n",
      "\u001b[90m 6\u001b[39m Germline > Somatic 2LC    pct_covered    0.584\n",
      "\u001b[90m 7\u001b[39m Germline > Somatic 2RC    count         20    \n",
      "\u001b[90m 8\u001b[39m Germline > Somatic 2RC    length_kb   \u001b[4m1\u001b[24m447    \n",
      "\u001b[90m 9\u001b[39m Germline > Somatic 2RC    pct_covered    0.256\n",
      "\u001b[90m10\u001b[39m Germline > Somatic 2R     count         42    \n",
      "\u001b[90m# ℹ 419 more rows\u001b[39m\n"
     ]
    }
   ],
   "source": [
    "report <- cross_join(\n",
    "  tibble(\n",
    "    name = c(\n",
    "      \"Germline > Somatic\",\n",
    "      \"Somatic > Germline\",\n",
    "      \"Germline > Kc167\",\n",
    "      \"Kc167 > Germline\",\n",
    "      \"Germline > S2\",\n",
    "      \"S2 > Germline\",\n",
    "      \"Somatic > Kc167\",\n",
    "      \"Kc167 > Somatic\",\n",
    "      \"Somatic > S2\",\n",
    "      \"S2 > Somatic\",\n",
    "      \"Kc167 > S2\",\n",
    "      \"S2 > Kc167\",\n",
    "      \"4 Cell Types Static\"\n",
    "    ) %>%\n",
    "      factor(., .),\n",
    "    ranges = list(\n",
    "      repli.peaks_chr[[1]] %>% subset(grepl(\"Earlier\", names(.))),\n",
    "      repli.peaks_chr[[1]] %>% subset(grepl(\"Later\", names(.))),\n",
    "      repli.peaks_chr[[2]] %>% subset(grepl(\"Earlier\", names(.))),\n",
    "      repli.peaks_chr[[2]] %>% subset(grepl(\"Later\", names(.))),\n",
    "      repli.peaks_chr[[3]] %>% subset(grepl(\"Earlier\", names(.))),\n",
    "      repli.peaks_chr[[3]] %>% subset(grepl(\"Later\", names(.))),\n",
    "      repli.peaks_chr[[4]] %>% subset(grepl(\"Earlier\", names(.))),\n",
    "      repli.peaks_chr[[4]] %>% subset(grepl(\"Later\", names(.))),\n",
    "      repli.peaks_chr[[5]] %>% subset(grepl(\"Earlier\", names(.))),\n",
    "      repli.peaks_chr[[5]] %>% subset(grepl(\"Later\", names(.))),\n",
    "      repli.peaks_chr[[6]] %>% subset(grepl(\"Earlier\", names(.))),\n",
    "      repli.peaks_chr[[6]] %>% subset(grepl(\"Later\", names(.))),\n",
    "      repli.static.timing.peaks\n",
    "    )\n",
    "  ),\n",
    "  tibble(region = names(regions) %>% factor(., .))\n",
    ") %>%\n",
    "  group_by(name, region) %>%\n",
    "  reframe(\n",
    "    tribble(\n",
    "      ~feature, ~value,\n",
    "      \"count\",\n",
    "      length(to(findOverlaps(regions[region[[1]]], ranges[[1]]))),\n",
    "      \"length_kb\",\n",
    "      ranges[[1]][\n",
    "        to(findOverlaps(regions[region[[1]]], ranges[[1]]))\n",
    "      ] %>%\n",
    "        restrict(start(regions[region[[1]]]), end(regions[region[[1]]])) %>%\n",
    "        width() %>%\n",
    "        sum() %>%\n",
    "        `/`(1000) %>%\n",
    "        round(),\n",
    "      \"pct_covered\",\n",
    "      ranges[[1]][\n",
    "        to(findOverlaps(regions[region[[1]]], ranges[[1]]))\n",
    "      ] %>%\n",
    "        restrict(start(regions[region[[1]]]), end(regions[region[[1]]])) %>%\n",
    "        width() %>%\n",
    "        sum() %>%\n",
    "        `/`(width(regions[region[[1]]])) %>%\n",
    "        round(digits = 3),\n",
    "    )\n",
    "  ) %>%\n",
    "  print()"
   ]
  },
  {
   "cell_type": "code",
   "execution_count": 27,
   "metadata": {
    "vscode": {
     "languageId": "r"
    }
   },
   "outputs": [
    {
     "name": "stdout",
     "output_type": "stream",
     "text": [
      "    count.Germline > Somatic length_kb.Germline > Somatic\n",
      "2L                        60                         5060\n",
      "2LC                        8                          772\n",
      "2RC                       20                         1447\n",
      "2R                        42                         3124\n",
      "3L                        54                         4260\n",
      "3LC                       12                         1313\n",
      "3RC                        5                          206\n",
      "3R                        86                         6407\n",
      "4                          4                          258\n",
      "X                         40                         2222\n",
      "Y                          1                           51\n",
      "    pct_covered.Germline > Somatic count.Somatic > Germline\n",
      "2L                           0.228                       42\n",
      "2LC                          0.584                        0\n",
      "2RC                          0.256                        1\n",
      "2R                           0.159                       31\n",
      "3L                           0.184                       43\n",
      "3LC                          0.265                        0\n",
      "3RC                          0.049                        2\n",
      "3R                           0.230                       34\n",
      "4                            0.191                        0\n",
      "X                            0.094                       35\n",
      "Y                            0.014                        6\n",
      "    length_kb.Somatic > Germline pct_covered.Somatic > Germline\n",
      "2L                          3267                          0.147\n",
      "2LC                            0                          0.000\n",
      "2RC                           39                          0.007\n",
      "2R                          2518                          0.128\n",
      "3L                          3806                          0.164\n",
      "3LC                            0                          0.000\n",
      "3RC                           49                          0.012\n",
      "3R                          2692                          0.097\n",
      "4                              0                          0.000\n",
      "X                           2008                          0.085\n",
      "Y                            209                          0.057\n",
      "    count.Germline > Kc167 length_kb.Germline > Kc167\n",
      "2L                      65                       6384\n",
      "2LC                      7                        384\n",
      "2RC                     28                       1581\n",
      "2R                      50                       4195\n",
      "3L                      70                       7058\n",
      "3LC                     27                       1768\n",
      "3RC                     22                       1443\n",
      "3R                      93                       9069\n",
      "4                        5                        240\n",
      "X                       75                       8244\n",
      "Y                       18                       1148\n",
      "    pct_covered.Germline > Kc167 count.Kc167 > Germline\n",
      "2L                         0.288                     41\n",
      "2LC                        0.291                      4\n",
      "2RC                        0.280                     14\n",
      "2R                         0.214                     50\n",
      "3L                         0.305                     50\n",
      "3LC                        0.357                      7\n",
      "3RC                        0.341                      9\n",
      "3R                         0.326                     45\n",
      "4                          0.178                      0\n",
      "X                          0.350                     31\n",
      "Y                          0.313                     23\n",
      "    length_kb.Kc167 > Germline pct_covered.Kc167 > Germline count.Germline > S2\n",
      "2L                        4551                        0.205                  68\n",
      "2LC                        148                        0.112                   6\n",
      "2RC                        756                        0.134                  16\n",
      "2R                        3991                        0.203                  58\n",
      "3L                        4615                        0.199                  72\n",
      "3LC                        829                        0.167                  13\n",
      "3RC                        566                        0.134                  16\n",
      "3R                        4197                        0.151                 102\n",
      "4                            0                        0.000                   8\n",
      "X                         2313                        0.098                  36\n",
      "Y                          974                        0.266                   7\n",
      "    length_kb.Germline > S2 pct_covered.Germline > S2 count.S2 > Germline\n",
      "2L                     4264                     0.192                  56\n",
      "2LC                     358                     0.271                   3\n",
      "2RC                     891                     0.158                  14\n",
      "2R                     4264                     0.217                  37\n",
      "3L                     4477                     0.193                  53\n",
      "3LC                     686                     0.138                  12\n",
      "3RC                     777                     0.184                   9\n",
      "3R                     6892                     0.247                  63\n",
      "4                       596                     0.442                   1\n",
      "X                      1455                     0.062                  44\n",
      "Y                       376                     0.103                  14\n",
      "    length_kb.S2 > Germline pct_covered.S2 > Germline count.Somatic > Kc167\n",
      "2L                     4679                     0.211                    45\n",
      "2LC                     376                     0.284                     0\n",
      "2RC                     723                     0.128                     0\n",
      "2R                     3502                     0.178                    33\n",
      "3L                     4012                     0.173                    51\n",
      "3LC                     669                     0.135                     0\n",
      "3RC                     381                     0.090                    12\n",
      "3R                     4889                     0.176                    51\n",
      "4                       105                     0.078                     2\n",
      "X                      2855                     0.121                    82\n",
      "Y                       520                     0.142                    10\n",
      "    length_kb.Somatic > Kc167 pct_covered.Somatic > Kc167 count.Kc167 > Somatic\n",
      "2L                       4188                       0.189                    49\n",
      "2LC                         0                       0.000                     6\n",
      "2RC                         0                       0.000                     9\n",
      "2R                       2426                       0.124                    60\n",
      "3L                       4193                       0.181                    46\n",
      "3LC                         0                       0.000                    12\n",
      "3RC                       551                       0.130                     5\n",
      "3R                       3333                       0.120                    64\n",
      "4                         116                       0.086                     7\n",
      "X                        6224                       0.264                    40\n",
      "Y                         395                       0.108                     5\n",
      "    length_kb.Kc167 > Somatic pct_covered.Kc167 > Somatic count.Somatic > S2\n",
      "2L                       3282                       0.148                 45\n",
      "2LC                       560                       0.424                  1\n",
      "2RC                      1739                       0.308                  2\n",
      "2R                       3786                       0.193                 46\n",
      "3L                       3365                       0.145                 56\n",
      "3LC                       871                       0.176                  0\n",
      "3RC                       276                       0.065                  6\n",
      "3R                       4065                       0.146                 54\n",
      "4                         242                       0.180                  6\n",
      "X                        1780                       0.076                 43\n",
      "Y                         230                       0.063                  4\n",
      "    length_kb.Somatic > S2 pct_covered.Somatic > S2 count.S2 > Somatic\n",
      "2L                    3323                    0.150                 50\n",
      "2LC                     41                    0.031                  2\n",
      "2RC                     83                    0.015                 16\n",
      "2R                    2268                    0.116                 41\n",
      "3L                    4263                    0.184                 56\n",
      "3LC                      0                    0.000                 13\n",
      "3RC                    203                    0.048                  3\n",
      "3R                    3550                    0.127                 84\n",
      "4                      239                    0.177                  0\n",
      "X                     2243                    0.095                 38\n",
      "Y                      117                    0.032                  5\n",
      "    length_kb.S2 > Somatic pct_covered.S2 > Somatic count.Kc167 > S2\n",
      "2L                    4560                    0.205               54\n",
      "2LC                     59                    0.044                5\n",
      "2RC                   1112                    0.197               14\n",
      "2R                    2879                    0.147               81\n",
      "3L                    4082                    0.176               69\n",
      "3LC                    719                    0.145                4\n",
      "3RC                     97                    0.023                3\n",
      "3R                    6267                    0.225               87\n",
      "4                        0                    0.000                9\n",
      "X                     2382                    0.101               38\n",
      "Y                      144                    0.039                5\n",
      "    length_kb.Kc167 > S2 pct_covered.Kc167 > S2 count.S2 > Kc167\n",
      "2L                  4743                  0.214               64\n",
      "2LC                  486                  0.368                1\n",
      "2RC                 1553                  0.275               10\n",
      "2R                  5434                  0.277               51\n",
      "3L                  6221                  0.269               69\n",
      "3LC                  213                  0.043               19\n",
      "3RC                  114                  0.027                4\n",
      "3R                  5933                  0.213               73\n",
      "4                    898                  0.666                2\n",
      "X                   1964                  0.083               78\n",
      "Y                    144                  0.039               19\n",
      "    length_kb.S2 > Kc167 pct_covered.S2 > Kc167 count.4 Cell Types Static\n",
      "2L                  6665                  0.300                        66\n",
      "2LC                   82                  0.062                         1\n",
      "2RC                 1146                  0.203                         1\n",
      "2R                  3745                  0.191                        70\n",
      "3L                  5698                  0.246                        76\n",
      "3LC                 1605                  0.324                         4\n",
      "3RC                  189                  0.045                         4\n",
      "3R                  6558                  0.235                       103\n",
      "4                    110                  0.082                         0\n",
      "X                   9248                  0.393                        68\n",
      "Y                    822                  0.224                         0\n",
      "    length_kb.4 Cell Types Static pct_covered.4 Cell Types Static\n",
      "2L                           6101                           0.275\n",
      "2LC                            87                           0.066\n",
      "2RC                            47                           0.008\n",
      "2R                           7335                           0.374\n",
      "3L                           7073                           0.305\n",
      "3LC                           170                           0.034\n",
      "3RC                           121                           0.029\n",
      "3R                           8496                           0.305\n",
      "4                               0                           0.000\n",
      "X                            5575                           0.237\n",
      "Y                               0                           0.000\n"
     ]
    }
   ],
   "source": [
    "data <- report %>%\n",
    "  tibble(column = interaction(feature, name)) %>%\n",
    "  acast(region ~ column, value.var = \"value\") %>%\n",
    "  print()"
   ]
  },
  {
   "cell_type": "code",
   "execution_count": 28,
   "metadata": {
    "vscode": {
     "languageId": "r"
    }
   },
   "outputs": [
    {
     "name": "stdout",
     "output_type": "stream",
     "text": [
      "2L\t60\t5060\t0.228\t42\t3267\t0.147\t65\t6384\t0.288\t41\t4551\t0.205\t68\t4264\t0.192\t56\t4679\t0.211\t45\t4188\t0.189\t49\t3282\t0.148\t45\t3323\t0.15\t50\t4560\t0.205\t54\t4743\t0.214\t64\t6665\t0.3\t66\t6101\t0.275\n",
      "2LC\t8\t772\t0.584\t0\t0\t0\t7\t384\t0.291\t4\t148\t0.112\t6\t358\t0.271\t3\t376\t0.284\t0\t0\t0\t6\t560\t0.424\t1\t41\t0.031\t2\t59\t0.044\t5\t486\t0.368\t1\t82\t0.062\t1\t87\t0.066\n",
      "2RC\t20\t1447\t0.256\t1\t39\t0.007\t28\t1581\t0.28\t14\t756\t0.134\t16\t891\t0.158\t14\t723\t0.128\t0\t0\t0\t9\t1739\t0.308\t2\t83\t0.015\t16\t1112\t0.197\t14\t1553\t0.275\t10\t1146\t0.203\t1\t47\t0.008\n",
      "2R\t42\t3124\t0.159\t31\t2518\t0.128\t50\t4195\t0.214\t50\t3991\t0.203\t58\t4264\t0.217\t37\t3502\t0.178\t33\t2426\t0.124\t60\t3786\t0.193\t46\t2268\t0.116\t41\t2879\t0.147\t81\t5434\t0.277\t51\t3745\t0.191\t70\t7335\t0.374\n",
      "3L\t54\t4260\t0.184\t43\t3806\t0.164\t70\t7058\t0.305\t50\t4615\t0.199\t72\t4477\t0.193\t53\t4012\t0.173\t51\t4193\t0.181\t46\t3365\t0.145\t56\t4263\t0.184\t56\t4082\t0.176\t69\t6221\t0.269\t69\t5698\t0.246\t76\t7073\t0.305\n",
      "3LC\t12\t1313\t0.265\t0\t0\t0\t27\t1768\t0.357\t7\t829\t0.167\t13\t686\t0.138\t12\t669\t0.135\t0\t0\t0\t12\t871\t0.176\t0\t0\t0\t13\t719\t0.145\t4\t213\t0.043\t19\t1605\t0.324\t4\t170\t0.034\n",
      "3RC\t5\t206\t0.049\t2\t49\t0.012\t22\t1443\t0.341\t9\t566\t0.134\t16\t777\t0.184\t9\t381\t0.09\t12\t551\t0.13\t5\t276\t0.065\t6\t203\t0.048\t3\t97\t0.023\t3\t114\t0.027\t4\t189\t0.045\t4\t121\t0.029\n",
      "3R\t86\t6407\t0.23\t34\t2692\t0.097\t93\t9069\t0.326\t45\t4197\t0.151\t102\t6892\t0.247\t63\t4889\t0.176\t51\t3333\t0.12\t64\t4065\t0.146\t54\t3550\t0.127\t84\t6267\t0.225\t87\t5933\t0.213\t73\t6558\t0.235\t103\t8496\t0.305\n",
      "4\t4\t258\t0.191\t0\t0\t0\t5\t240\t0.178\t0\t0\t0\t8\t596\t0.442\t1\t105\t0.078\t2\t116\t0.086\t7\t242\t0.18\t6\t239\t0.177\t0\t0\t0\t9\t898\t0.666\t2\t110\t0.082\t0\t0\t0\n",
      "X\t40\t2222\t0.094\t35\t2008\t0.085\t75\t8244\t0.35\t31\t2313\t0.098\t36\t1455\t0.062\t44\t2855\t0.121\t82\t6224\t0.264\t40\t1780\t0.076\t43\t2243\t0.095\t38\t2382\t0.101\t38\t1964\t0.083\t78\t9248\t0.393\t68\t5575\t0.237\n",
      "Y\t1\t51\t0.014\t6\t209\t0.057\t18\t1148\t0.313\t23\t974\t0.266\t7\t376\t0.103\t14\t520\t0.142\t10\t395\t0.108\t5\t230\t0.063\t4\t117\t0.032\t5\t144\t0.039\t5\t144\t0.039\t19\t822\t0.224\t0\t0\t0\n"
     ]
    }
   ],
   "source": [
    "write.table(data, row.names = T, col.names = F, quote = F, sep = \"\\t\")"
   ]
  }
 ],
 "metadata": {
  "kernelspec": {
   "display_name": "R",
   "language": "R",
   "name": "ir"
  },
  "language_info": {
   "codemirror_mode": "r",
   "file_extension": ".r",
   "mimetype": "text/x-r-source",
   "name": "R",
   "pygments_lexer": "r",
   "version": "4.3.3"
  }
 },
 "nbformat": 4,
 "nbformat_minor": 2
}
