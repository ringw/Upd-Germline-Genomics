{
 "cells": [
  {
   "cell_type": "markdown",
   "metadata": {},
   "source": [
    "## Tests of Repliseq Track"
   ]
  },
  {
   "cell_type": "code",
   "execution_count": 2,
   "metadata": {
    "vscode": {
     "languageId": "r"
    }
   },
   "outputs": [],
   "source": [
    "setwd(\"~/Upd-Germline-Genomics\")"
   ]
  },
  {
   "cell_type": "markdown",
   "metadata": {},
   "source": [
    "## S7 Average_Repliseq Logistic Coefficient\n",
    "\n",
    "T-Test of Germline vs Somatic Timing (12 Regions)\n",
    "\n",
    "The logistic coefficient Bayesian estimator, for the windows and for each cell type, was generally normal. Using our tanh-like function to create the timing tracks affected the tails of the distribution. Instead, we converted the timings back to the Logistic prior - Logistic link function estimator."
   ]
  },
  {
   "cell_type": "code",
   "execution_count": 2,
   "metadata": {
    "vscode": {
     "languageId": "r"
    }
   },
   "outputs": [
    {
     "name": "stderr",
     "output_type": "stream",
     "text": [
      "Loading required package: viridisLite\n",
      "\n",
      "\n",
      "Attaching package: ‘dplyr’\n",
      "\n",
      "\n",
      "The following objects are masked from ‘package:stats’:\n",
      "\n",
      "    filter, lag\n",
      "\n",
      "\n",
      "The following objects are masked from ‘package:base’:\n",
      "\n",
      "    intersect, setdiff, setequal, union\n",
      "\n",
      "\n"
     ]
    }
   ],
   "source": [
    "source(\"_targets.R\")"
   ]
  },
  {
   "cell_type": "code",
   "execution_count": 4,
   "metadata": {
    "vscode": {
     "languageId": "r"
    }
   },
   "outputs": [
    {
     "name": "stderr",
     "output_type": "stream",
     "text": [
      "Loading required package: stats4\n",
      "\n",
      "Loading required package: BiocGenerics\n",
      "\n",
      "\n",
      "Attaching package: ‘BiocGenerics’\n",
      "\n",
      "\n",
      "The following objects are masked from ‘package:dplyr’:\n",
      "\n",
      "    combine, intersect, setdiff, union\n",
      "\n",
      "\n",
      "The following objects are masked from ‘package:stats’:\n",
      "\n",
      "    IQR, mad, sd, var, xtabs\n",
      "\n",
      "\n",
      "The following objects are masked from ‘package:base’:\n",
      "\n",
      "    anyDuplicated, aperm, append, as.data.frame, basename, cbind,\n",
      "    colnames, dirname, do.call, duplicated, eval, evalq, Filter, Find,\n",
      "    get, grep, grepl, intersect, is.unsorted, lapply, Map, mapply,\n",
      "    match, mget, order, paste, pmax, pmax.int, pmin, pmin.int,\n",
      "    Position, rank, rbind, Reduce, rownames, sapply, setdiff, sort,\n",
      "    table, tapply, union, unique, unsplit, which.max, which.min\n",
      "\n",
      "\n",
      "Loading required package: S4Vectors\n",
      "\n",
      "\n",
      "Attaching package: ‘S4Vectors’\n",
      "\n",
      "\n",
      "The following objects are masked from ‘package:dplyr’:\n",
      "\n",
      "    first, rename\n",
      "\n",
      "\n",
      "The following object is masked from ‘package:utils’:\n",
      "\n",
      "    findMatches\n",
      "\n",
      "\n",
      "The following objects are masked from ‘package:base’:\n",
      "\n",
      "    expand.grid, I, unname\n",
      "\n",
      "\n",
      "Loading required package: IRanges\n",
      "\n",
      "\n",
      "Attaching package: ‘IRanges’\n",
      "\n",
      "\n",
      "The following objects are masked from ‘package:dplyr’:\n",
      "\n",
      "    collapse, desc, slice\n",
      "\n",
      "\n",
      "Loading required package: GenomeInfoDb\n",
      "\n",
      "\n",
      "Attaching package: ‘GenomicRanges’\n",
      "\n",
      "\n",
      "The following object is masked from ‘package:magrittr’:\n",
      "\n",
      "    subtract\n",
      "\n",
      "\n"
     ]
    }
   ],
   "source": [
    "library(forcats)\n",
    "library(GenomicRanges)\n",
    "\n",
    "tar_load(chic.tile.diameter_1000_chr)\n",
    "tar_load(matches(\"repli.timing_.*chr$\"))\n",
    "tar_load(chromosome_pericetromere_label)"
   ]
  },
  {
   "cell_type": "code",
   "execution_count": 5,
   "metadata": {
    "vscode": {
     "languageId": "r"
    }
   },
   "outputs": [
    {
     "name": "stdout",
     "output_type": "stream",
     "text": [
      "\u001b[90m# A tibble: 13,759 × 6\u001b[39m\n",
      "   region     x   GSC  CySC   Kc167    S2\n",
      "   \u001b[3m\u001b[90m<fct>\u001b[39m\u001b[23m  \u001b[3m\u001b[90m<int>\u001b[39m\u001b[23m \u001b[3m\u001b[90m<dbl>\u001b[39m\u001b[23m \u001b[3m\u001b[90m<dbl>\u001b[39m\u001b[23m   \u001b[3m\u001b[90m<dbl>\u001b[39m\u001b[23m \u001b[3m\u001b[90m<dbl>\u001b[39m\u001b[23m\n",
      "\u001b[90m 1\u001b[39m 2L      \u001b[4m5\u001b[24m500  1.84 0.862  1.30   0.639\n",
      "\u001b[90m 2\u001b[39m 2L     \u001b[4m1\u001b[24m\u001b[4m5\u001b[24m500  1.75 1.18   1.95   0.311\n",
      "\u001b[90m 3\u001b[39m 2L     \u001b[4m2\u001b[24m\u001b[4m5\u001b[24m500  2.16 1.28   0.057\u001b[4m3\u001b[24m 0.573\n",
      "\u001b[90m 4\u001b[39m 2L     \u001b[4m3\u001b[24m\u001b[4m5\u001b[24m500  2.19 1.46   1.84   0.318\n",
      "\u001b[90m 5\u001b[39m 2L     \u001b[4m4\u001b[24m\u001b[4m5\u001b[24m500  2.05 0.981  0.301  0.618\n",
      "\u001b[90m 6\u001b[39m 2L     \u001b[4m5\u001b[24m\u001b[4m5\u001b[24m500  1.55 1.32  -\u001b[31m1\u001b[39m\u001b[31m.\u001b[39m\u001b[31m13\u001b[39m   1.05 \n",
      "\u001b[90m 7\u001b[39m 2L     \u001b[4m6\u001b[24m\u001b[4m5\u001b[24m500  1.58 1.39   3.29   0.462\n",
      "\u001b[90m 8\u001b[39m 2L     \u001b[4m7\u001b[24m\u001b[4m5\u001b[24m500  1.94 1.37   3.34   1.25 \n",
      "\u001b[90m 9\u001b[39m 2L     \u001b[4m8\u001b[24m\u001b[4m5\u001b[24m500  1.03 1.33   3.03   1.27 \n",
      "\u001b[90m10\u001b[39m 2L     \u001b[4m9\u001b[24m\u001b[4m5\u001b[24m500  2.10 2.34   3.10   0.640\n",
      "\u001b[90m# ℹ 13,749 more rows\u001b[39m\n"
     ]
    }
   ],
   "source": [
    "obs <- tibble(\n",
    "  region = as.character(seqnames(repli.timing_Germline_chr)) %>%\n",
    "    paste0(\n",
    "      rep(\"\", length(repli.timing_Germline_chr)) %>%\n",
    "        replace(\n",
    "          to(findOverlaps(chromosome_pericetromere_label, repli.timing_Germline_chr)),\n",
    "          \"C\"\n",
    "        )\n",
    "    ) %>%\n",
    "      factor(\n",
    "        c(\"2L\", \"2LC\", \"2RC\", \"2R\", \"3L\", \"3LC\", \"3RC\", \"3R\", \"4\", \"X\", \"Y\", \"rDNA\")\n",
    "      ),\n",
    "  x = mid(repli.timing_Germline_chr),\n",
    "  GSC = qlogistanh(repli.timing_Germline_chr$score),\n",
    "  CySC = qlogistanh(repli.timing_Somatic_chr$score),\n",
    "  Kc167 = qlogistanh(repli.timing_Kc167_chr$score),\n",
    "  S2 = qlogistanh(repli.timing_S2_chr$score),\n",
    ") %>%\n",
    "  subset(\n",
    "    x %% 10000 == 5500 &\n",
    "      !is.na(region) &\n",
    "      (region != \"rDNA\" | x >= 37500)\n",
    "  )\n",
    "print(obs)"
   ]
  },
  {
   "cell_type": "code",
   "execution_count": 23,
   "metadata": {
    "vscode": {
     "languageId": "r"
    }
   },
   "outputs": [
    {
     "name": "stdout",
     "output_type": "stream",
     "text": [
      "\u001b[90m# A tibble: 8 × 6\u001b[39m\n",
      "  region           x   GSC   CySC Kc167     S2\n",
      "  \u001b[3m\u001b[90m<fct>\u001b[39m\u001b[23m        \u001b[3m\u001b[90m<int>\u001b[39m\u001b[23m \u001b[3m\u001b[90m<dbl>\u001b[39m\u001b[23m  \u001b[3m\u001b[90m<dbl>\u001b[39m\u001b[23m \u001b[3m\u001b[90m<dbl>\u001b[39m\u001b[23m  \u001b[3m\u001b[90m<dbl>\u001b[39m\u001b[23m\n",
      "\u001b[90m1\u001b[39m 2CenScaffold  \u001b[4m9\u001b[24m978 -\u001b[31m2\u001b[39m\u001b[31m.\u001b[39m\u001b[31m16\u001b[39m -\u001b[31m0\u001b[39m\u001b[31m.\u001b[39m\u001b[31m497\u001b[39m -\u001b[31m2\u001b[39m\u001b[31m.\u001b[39m\u001b[31m73\u001b[39m -\u001b[31m1\u001b[39m\u001b[31m.\u001b[39m\u001b[31m72\u001b[39m \n",
      "\u001b[90m2\u001b[39m 2CenScaffold \u001b[4m2\u001b[24m\u001b[4m2\u001b[24m206 -\u001b[31m1\u001b[39m\u001b[31m.\u001b[39m\u001b[31m72\u001b[39m -\u001b[31m0\u001b[39m\u001b[31m.\u001b[39m\u001b[31m482\u001b[39m -\u001b[31m2\u001b[39m\u001b[31m.\u001b[39m\u001b[31m64\u001b[39m -\u001b[31m1\u001b[39m\u001b[31m.\u001b[39m\u001b[31m10\u001b[39m \n",
      "\u001b[90m3\u001b[39m 3CenScaffold \u001b[4m3\u001b[24m\u001b[4m8\u001b[24m112 -\u001b[31m1\u001b[39m\u001b[31m.\u001b[39m\u001b[31m30\u001b[39m -\u001b[31m0\u001b[39m\u001b[31m.\u001b[39m\u001b[31m438\u001b[39m -\u001b[31m2\u001b[39m\u001b[31m.\u001b[39m\u001b[31m36\u001b[39m -\u001b[31m0\u001b[39m\u001b[31m.\u001b[39m\u001b[31m584\u001b[39m\n",
      "\u001b[90m4\u001b[39m 3CenScaffold  \u001b[4m5\u001b[24m992 -\u001b[31m2\u001b[39m\u001b[31m.\u001b[39m\u001b[31m26\u001b[39m -\u001b[31m0\u001b[39m\u001b[31m.\u001b[39m\u001b[31m416\u001b[39m -\u001b[31m3\u001b[39m\u001b[31m.\u001b[39m\u001b[31m19\u001b[39m -\u001b[31m2\u001b[39m\u001b[31m.\u001b[39m\u001b[31m57\u001b[39m \n",
      "\u001b[90m5\u001b[39m 3CenScaffold \u001b[4m4\u001b[24m\u001b[4m3\u001b[24m683 -\u001b[31m2\u001b[39m\u001b[31m.\u001b[39m\u001b[31m15\u001b[39m -\u001b[31m0\u001b[39m\u001b[31m.\u001b[39m\u001b[31m520\u001b[39m -\u001b[31m2\u001b[39m\u001b[31m.\u001b[39m\u001b[31m66\u001b[39m -\u001b[31m0\u001b[39m\u001b[31m.\u001b[39m\u001b[31m711\u001b[39m\n",
      "\u001b[90m6\u001b[39m 3CenScaffold \u001b[4m1\u001b[24m\u001b[4m8\u001b[24m457 -\u001b[31m2\u001b[39m\u001b[31m.\u001b[39m\u001b[31m26\u001b[39m -\u001b[31m0\u001b[39m\u001b[31m.\u001b[39m\u001b[31m489\u001b[39m -\u001b[31m3\u001b[39m\u001b[31m.\u001b[39m\u001b[31m0\u001b[39m\u001b[31m7\u001b[39m -\u001b[31m2\u001b[39m\u001b[31m.\u001b[39m\u001b[31m16\u001b[39m \n",
      "\u001b[90m7\u001b[39m 3CenScaffold \u001b[4m1\u001b[24m\u001b[4m1\u001b[24m302 -\u001b[31m1\u001b[39m\u001b[31m.\u001b[39m\u001b[31m92\u001b[39m -\u001b[31m0\u001b[39m\u001b[31m.\u001b[39m\u001b[31m693\u001b[39m -\u001b[31m2\u001b[39m\u001b[31m.\u001b[39m\u001b[31m00\u001b[39m -\u001b[31m0\u001b[39m\u001b[31m.\u001b[39m\u001b[31m384\u001b[39m\n",
      "\u001b[90m8\u001b[39m 3CenScaffold \u001b[4m1\u001b[24m\u001b[4m1\u001b[24m619 -\u001b[31m1\u001b[39m\u001b[31m.\u001b[39m\u001b[31m91\u001b[39m -\u001b[31m0\u001b[39m\u001b[31m.\u001b[39m\u001b[31m458\u001b[39m -\u001b[31m3\u001b[39m\u001b[31m.\u001b[39m\u001b[31m30\u001b[39m -\u001b[31m2\u001b[39m\u001b[31m.\u001b[39m\u001b[31m77\u001b[39m \n"
     ]
    }
   ],
   "source": [
    "obscen <- tibble(\n",
    "  region = as.character(seqnames(repli.timing_Germline_chr)) %>%\n",
    "    str_extract(\"[23]Cen\") %>%\n",
    "    paste0(\"Scaffold\") %>%\n",
    "    factor(c(\"2L\", \"2LC\", \"2CenScaffold\", \"2RC\", \"2R\", \"3L\", \"3LC\", \"3CenScaffold\", \"3RC\", \"3R\")),\n",
    "  x = mid(repli.timing_Germline_chr),\n",
    "  GSC = qlogistanh(repli.timing_Germline_chr$score),\n",
    "  CySC = qlogistanh(repli.timing_Somatic_chr$score),\n",
    "  Kc167 = qlogistanh(repli.timing_Kc167_chr$score),\n",
    "  S2 = qlogistanh(repli.timing_S2_chr$score),\n",
    ") %>%\n",
    "  subset(!is.na(region)) %>%\n",
    "  print()"
   ]
  },
  {
   "cell_type": "code",
   "execution_count": 28,
   "metadata": {
    "vscode": {
     "languageId": "r"
    }
   },
   "outputs": [],
   "source": [
    "obs <- rbind(\n",
    "  obs,\n",
    "  obscen\n",
    ") %>%\n",
    "  mutate(\n",
    "    region = factor(\n",
    "      region,\n",
    "      c(\"2L\", \"2LC\", \"2CenScaffold\", \"2RC\", \"2R\", \"3L\", \"3LC\", \"3CenScaffold\", \"3RC\", \"3R\", \"4\", \"X\", \"Y\", \"rDNA\")\n",
    "    )\n",
    "  ) %>%\n",
    "  arrange(region)"
   ]
  },
  {
   "cell_type": "code",
   "execution_count": 36,
   "metadata": {
    "vscode": {
     "languageId": "r"
    }
   },
   "outputs": [
    {
     "data": {
      "text/plain": [
       "\n",
       "          2L          2LC 2CenScaffold          2RC           2R           3L \n",
       "        2219          132            2          565         1964         2315 \n",
       "         3LC 3CenScaffold          3RC           3R            4            X \n",
       "         496            6          423         2785          135         2354 \n",
       "           Y         rDNA \n",
       "         367            4 "
      ]
     },
     "metadata": {},
     "output_type": "display_data"
    }
   ],
   "source": [
    "table(obs$region)"
   ]
  },
  {
   "cell_type": "code",
   "execution_count": 37,
   "metadata": {
    "vscode": {
     "languageId": "r"
    }
   },
   "outputs": [
    {
     "name": "stdout",
     "output_type": "stream",
     "text": [
      "region\tGSC\tCySC\tKc167\tS2\n",
      "2L\t0.240003773239944\t-0.0251170605752422\t0.134633855131178\t0.111172790822162\n",
      "2LC\t-0.221179916212045\t-1.29080187514596\t-0.594244175968877\t-0.906171349116361\n",
      "2CenScaffold\t-1.94432605402701\t-0.489286174648313\t-2.68607702669223\t-1.40808291067734\n",
      "2RC\t-0.76377731470638\t-1.06683856471266\t-1.55509168659663\t-1.09112602861674\n",
      "2R\t0.586178372723304\t0.339229485942996\t0.760754160234016\t0.336881454202316\n",
      "3L\t0.344350158955915\t0.207399879335181\t0.512648229167886\t0.181511685473339\n",
      "3LC\t-0.855531855471866\t-1.32625693079921\t-1.75411116883992\t-0.980452144647513\n",
      "3CenScaffold\t-1.96664190651438\t-0.502457082646003\t-2.76394556945123\t-1.530892189743\n",
      "3RC\t-1.42884791796216\t-0.911969043051168\t-3.56734129909786\t-1.85824786846488\n",
      "3R\t0.425790707608911\t1.67108614711728e-05\t0.306255732245841\t0.176124932005275\n",
      "4\t1.44057365612037\t0.660502809392847\t1.62789769169342\t0.38098770408921\n",
      "X\t0.479817743442729\t0.485223513007481\t0.351674157858727\t0.48122475800506\n",
      "Y\t-0.914869981409082\t-0.563613795181887\t-1.58932307327295\t-0.76565788928393\n",
      "rDNA\t1.72584995908694\t-1.36111570243741\t-3.38543893473584\t-3.03629311280111\n"
     ]
    }
   ],
   "source": [
    "obs %>%\n",
    "  group_by(region) %>%\n",
    "  summarise(across(!x, mean)) %>%\n",
    "  write.table(row.names = FALSE, quote = FALSE, sep = \"\\t\")"
   ]
  },
  {
   "cell_type": "code",
   "execution_count": 38,
   "metadata": {
    "vscode": {
     "languageId": "r"
    }
   },
   "outputs": [
    {
     "name": "stdout",
     "output_type": "stream",
     "text": [
      "region\tt.statistic\tp.adjust\n",
      "2L\t7.67\t1.86279369316132e-13\n",
      "2LC\t9.95\t1.95418070993955e-18\n",
      "2CenScaffold\t-6.6\t0.190596585240699\n",
      "2RC\t4.92\t5.09064017670156e-06\n",
      "2R\t7.45\t8.88835497055045e-13\n",
      "3L\t4.1\t0.00016578364337318\n",
      "3LC\t8.84\t8.02520421554476e-17\n",
      "3CenScaffold\t-9.59\t0.000278654387825226\n",
      "3RC\t-9.43\t9.22423957696634e-19\n",
      "3R\t13.51\t8.73537956468027e-40\n",
      "4\t10.21\t1.02412571014942e-19\n",
      "X\t-0.18\t0.85515051232606\n",
      "Y\t-5.85\t5.93178702191535e-08\n",
      "rDNA\t38.15\t3.12988638019876e-06\n"
     ]
    }
   ],
   "source": [
    "write.table(\n",
    "  obs %>%\n",
    "    group_by(region) %>%\n",
    "    summarise(\n",
    "      t.statistic = round(t.test(GSC, CySC)$statistic, 2),\n",
    "      p.adjust = t.test(GSC, CySC)$p.value\n",
    "    ) %>%\n",
    "    mutate(p.adjust = p.adjust %>% p.adjust()),\n",
    "  row.names = F,\n",
    "  quote = F,\n",
    "  sep = \"\\t\"\n",
    ")"
   ]
  },
  {
   "cell_type": "code",
   "execution_count": 18,
   "metadata": {
    "vscode": {
     "languageId": "r"
    }
   },
   "outputs": [
    {
     "data": {
      "text/html": [
       "<table class=\"dataframe\">\n",
       "<caption>A tibble: 6 × 6</caption>\n",
       "<thead>\n",
       "\t<tr><th scope=col>region</th><th scope=col>x</th><th scope=col>GSC</th><th scope=col>CySC</th><th scope=col>Kc167</th><th scope=col>S2</th></tr>\n",
       "\t<tr><th scope=col>&lt;fct&gt;</th><th scope=col>&lt;int&gt;</th><th scope=col>&lt;dbl&gt;</th><th scope=col>&lt;dbl&gt;</th><th scope=col>&lt;dbl&gt;</th><th scope=col>&lt;dbl&gt;</th></tr>\n",
       "</thead>\n",
       "<tbody>\n",
       "\t<tr><td>3Cen</td><td>38112</td><td>-1.303070</td><td>-0.4383701</td><td>-2.355063</td><td>-0.5836734</td></tr>\n",
       "\t<tr><td>3Cen</td><td> 5992</td><td>-2.258204</td><td>-0.4159700</td><td>-3.192323</td><td>-2.5677326</td></tr>\n",
       "\t<tr><td>3Cen</td><td>43683</td><td>-2.153540</td><td>-0.5204246</td><td>-2.664558</td><td>-0.7114268</td></tr>\n",
       "\t<tr><td>3Cen</td><td>18457</td><td>-2.256011</td><td>-0.4889389</td><td>-3.071968</td><td>-2.1638090</td></tr>\n",
       "\t<tr><td>3Cen</td><td>11302</td><td>-1.922689</td><td>-0.6929085</td><td>-2.000995</td><td>-0.3843600</td></tr>\n",
       "\t<tr><td>3Cen</td><td>11619</td><td>-1.906337</td><td>-0.4581305</td><td>-3.298768</td><td>-2.7743513</td></tr>\n",
       "</tbody>\n",
       "</table>\n"
      ],
      "text/latex": [
       "A tibble: 6 × 6\n",
       "\\begin{tabular}{llllll}\n",
       " region & x & GSC & CySC & Kc167 & S2\\\\\n",
       " <fct> & <int> & <dbl> & <dbl> & <dbl> & <dbl>\\\\\n",
       "\\hline\n",
       "\t 3Cen & 38112 & -1.303070 & -0.4383701 & -2.355063 & -0.5836734\\\\\n",
       "\t 3Cen &  5992 & -2.258204 & -0.4159700 & -3.192323 & -2.5677326\\\\\n",
       "\t 3Cen & 43683 & -2.153540 & -0.5204246 & -2.664558 & -0.7114268\\\\\n",
       "\t 3Cen & 18457 & -2.256011 & -0.4889389 & -3.071968 & -2.1638090\\\\\n",
       "\t 3Cen & 11302 & -1.922689 & -0.6929085 & -2.000995 & -0.3843600\\\\\n",
       "\t 3Cen & 11619 & -1.906337 & -0.4581305 & -3.298768 & -2.7743513\\\\\n",
       "\\end{tabular}\n"
      ],
      "text/markdown": [
       "\n",
       "A tibble: 6 × 6\n",
       "\n",
       "| region &lt;fct&gt; | x &lt;int&gt; | GSC &lt;dbl&gt; | CySC &lt;dbl&gt; | Kc167 &lt;dbl&gt; | S2 &lt;dbl&gt; |\n",
       "|---|---|---|---|---|---|\n",
       "| 3Cen | 38112 | -1.303070 | -0.4383701 | -2.355063 | -0.5836734 |\n",
       "| 3Cen |  5992 | -2.258204 | -0.4159700 | -3.192323 | -2.5677326 |\n",
       "| 3Cen | 43683 | -2.153540 | -0.5204246 | -2.664558 | -0.7114268 |\n",
       "| 3Cen | 18457 | -2.256011 | -0.4889389 | -3.071968 | -2.1638090 |\n",
       "| 3Cen | 11302 | -1.922689 | -0.6929085 | -2.000995 | -0.3843600 |\n",
       "| 3Cen | 11619 | -1.906337 | -0.4581305 | -3.298768 | -2.7743513 |\n",
       "\n"
      ],
      "text/plain": [
       "  region x     GSC       CySC       Kc167     S2        \n",
       "1 3Cen   38112 -1.303070 -0.4383701 -2.355063 -0.5836734\n",
       "2 3Cen    5992 -2.258204 -0.4159700 -3.192323 -2.5677326\n",
       "3 3Cen   43683 -2.153540 -0.5204246 -2.664558 -0.7114268\n",
       "4 3Cen   18457 -2.256011 -0.4889389 -3.071968 -2.1638090\n",
       "5 3Cen   11302 -1.922689 -0.6929085 -2.000995 -0.3843600\n",
       "6 3Cen   11619 -1.906337 -0.4581305 -3.298768 -2.7743513"
      ]
     },
     "metadata": {},
     "output_type": "display_data"
    }
   ],
   "source": [
    "tail(rbind(obs, obscen))"
   ]
  },
  {
   "cell_type": "code",
   "execution_count": 48,
   "metadata": {
    "vscode": {
     "languageId": "r"
    }
   },
   "outputs": [
    {
     "data": {
      "image/png": "[encoded data removed]",
      "text/plain": [
       "Plot with title “density(x = Germline, adjust = 1/4)”"
      ]
     },
     "metadata": {
      "image/png": {
       "height": 420,
       "width": 420
      }
     },
     "output_type": "display_data"
    }
   ],
   "source": [
    "with(subset(obs, region == \"3R\"), plot(density(Germline, adjust=1/4)))"
   ]
  },
  {
   "cell_type": "code",
   "execution_count": 54,
   "metadata": {
    "vscode": {
     "languageId": "r"
    }
   },
   "outputs": [
    {
     "data": {
      "text/plain": [
       "\n",
       "\tAsymptotic one-sample Kolmogorov-Smirnov test\n",
       "\n",
       "data:  with(subset(obs, region == \"3R\"), scale(Germline))\n",
       "D = 0.078059, p-value = 3.664e-15\n",
       "alternative hypothesis: two-sided\n"
      ]
     },
     "metadata": {},
     "output_type": "display_data"
    }
   ],
   "source": [
    "ks.test(\n",
    "  with(subset(obs, region == \"3R\"), scale(Germline)),\n",
    "  \"pnorm\"\n",
    ")"
   ]
  },
  {
   "cell_type": "code",
   "execution_count": 53,
   "metadata": {
    "vscode": {
     "languageId": "r"
    }
   },
   "outputs": [
    {
     "data": {
      "text/plain": [
       "\n",
       "\tAsymptotic one-sample Kolmogorov-Smirnov test\n",
       "\n",
       "data:  with(subset(obs, region == \"3R\"), scale(plogistanh(Germline)))\n",
       "D = 0.11628, p-value < 2.2e-16\n",
       "alternative hypothesis: two-sided\n"
      ]
     },
     "metadata": {},
     "output_type": "display_data"
    }
   ],
   "source": [
    "ks.test(\n",
    "  with(subset(obs, region == \"3R\"), scale(plogistanh(Germline))),\n",
    "  \"pnorm\"\n",
    ")"
   ]
  },
  {
   "cell_type": "code",
   "execution_count": 40,
   "metadata": {
    "vscode": {
     "languageId": "r"
    }
   },
   "outputs": [],
   "source": [
    "write.csv(\n",
    "  obs %>%\n",
    "    group_by(region) %>%\n",
    "    summarise(\n",
    "      t.statistic = t.test(Germline, Somatic)$statistic,\n",
    "      p.adjust = t.test(Germline, Somatic)$p.value,\n",
    "    ) %>%\n",
    "    mutate(p.adjust = p.adjust %>% p.adjust()),\n",
    "  row.names = F,\n",
    "  \"reports/Repli-T-Test.csv\"\n",
    ")"
   ]
  },
  {
   "cell_type": "markdown",
   "metadata": {},
   "source": [
    "## S7 Timed_Average_Chromatin\n",
    "\n",
    "T-Test of Different L2FE in GSC vs CySC of each histone mark in the aggregated chromatin which possesses significantly differential RT."
   ]
  },
  {
   "cell_type": "code",
   "execution_count": 4,
   "metadata": {
    "vscode": {
     "languageId": "r"
    }
   },
   "outputs": [
    {
     "name": "stdout",
     "output_type": "stream",
     "text": [
      "\u001b[90m# A tibble: 15 × 10\u001b[39m\n",
      "\u001b[90m# Rowwise: \u001b[39m\n",
      "   experiment name           GSC.1    CySC.1 t.statistic p.adjust     GSC.2   CySC.2 t.statistic.2 p.adjust.2\n",
      "   \u001b[3m\u001b[90m<chr>\u001b[39m\u001b[23m      \u001b[3m\u001b[90m<chr>\u001b[39m\u001b[23m          \u001b[3m\u001b[90m<dbl>\u001b[39m\u001b[23m     \u001b[3m\u001b[90m<dbl>\u001b[39m\u001b[23m       \u001b[3m\u001b[90m<dbl>\u001b[39m\u001b[23m    \u001b[3m\u001b[90m<dbl>\u001b[39m\u001b[23m     \u001b[3m\u001b[90m<dbl>\u001b[39m\u001b[23m    \u001b[3m\u001b[90m<dbl>\u001b[39m\u001b[23m         \u001b[3m\u001b[90m<dbl>\u001b[39m\u001b[23m      \u001b[3m\u001b[90m<dbl>\u001b[39m\u001b[23m\n",
      "\u001b[90m 1\u001b[39m H3K4me3    Whole Genome -\u001b[31m0\u001b[39m\u001b[31m.\u001b[39m\u001b[31m0\u001b[39m\u001b[31m79\u001b[4m5\u001b[24m\u001b[39m -\u001b[31m0\u001b[39m\u001b[31m.\u001b[39m\u001b[31m166\u001b[39m         14.8   2.13\u001b[90me\u001b[39m\u001b[31m-49\u001b[39m  -\u001b[31m0\u001b[39m\u001b[31m.\u001b[39m\u001b[31m0\u001b[39m\u001b[31m33\u001b[4m0\u001b[24m\u001b[39m    0.182        -\u001b[31m38\u001b[39m\u001b[31m.\u001b[39m\u001b[31m4\u001b[39m    2.01\u001b[90me\u001b[39m\u001b[31m-314\u001b[39m\n",
      "\u001b[90m 2\u001b[39m H3K4me3    2L - PC      -\u001b[31m0\u001b[39m\u001b[31m.\u001b[39m\u001b[31m330\u001b[39m  -\u001b[31m0\u001b[39m\u001b[31m.\u001b[39m\u001b[31m373\u001b[39m          0.537 5.91\u001b[90me\u001b[39m\u001b[31m- 1\u001b[39m \u001b[31mNaN\u001b[39m       \u001b[31mNaN\u001b[39m             \u001b[31mNA\u001b[39m     \u001b[31mNA\u001b[39m   \u001b[90m \u001b[39m    \n",
      "\u001b[90m 3\u001b[39m H3K4me3    4            -\u001b[31m0\u001b[39m\u001b[31m.\u001b[39m\u001b[31m498\u001b[39m  -\u001b[31m0\u001b[39m\u001b[31m.\u001b[39m\u001b[31m250\u001b[39m         -\u001b[31m3\u001b[39m\u001b[31m.\u001b[39m\u001b[31m34\u001b[39m  8.92\u001b[90me\u001b[39m\u001b[31m- 4\u001b[39m \u001b[31mNaN\u001b[39m       \u001b[31mNaN\u001b[39m             \u001b[31mNA\u001b[39m     \u001b[31mNA\u001b[39m   \u001b[90m \u001b[39m    \n",
      "\u001b[90m 4\u001b[39m H3K4me3    X            -\u001b[31m0\u001b[39m\u001b[31m.\u001b[39m\u001b[31m118\u001b[39m  -\u001b[31m0\u001b[39m\u001b[31m.\u001b[39m\u001b[31m131\u001b[39m          0.692 4.89\u001b[90me\u001b[39m\u001b[31m- 1\u001b[39m  -\u001b[31m0\u001b[39m\u001b[31m.\u001b[39m\u001b[31m120\u001b[39m     0.176        -\u001b[31m13\u001b[39m\u001b[31m.\u001b[39m\u001b[31m1\u001b[39m    1.14\u001b[90me\u001b[39m\u001b[31m- 38\u001b[39m\n",
      "\u001b[90m 5\u001b[39m H3K4me3    Y            -\u001b[31m1\u001b[39m\u001b[31m.\u001b[39m\u001b[31m0\u001b[39m\u001b[31m1\u001b[39m    0.297         -\u001b[31m2\u001b[39m\u001b[31m.\u001b[39m\u001b[31m67\u001b[39m  8.90\u001b[90me\u001b[39m\u001b[31m- 3\u001b[39m  -\u001b[31m0\u001b[39m\u001b[31m.\u001b[39m\u001b[31m822\u001b[39m    -\u001b[31m0\u001b[39m\u001b[31m.\u001b[39m\u001b[31m449\u001b[39m         -\u001b[31m2\u001b[39m\u001b[31m.\u001b[39m\u001b[31m25\u001b[39m   2.50\u001b[90me\u001b[39m\u001b[31m-  2\u001b[39m\n",
      "\u001b[90m 6\u001b[39m H3K27me3   Whole Genome -\u001b[31m0\u001b[39m\u001b[31m.\u001b[39m\u001b[31m0\u001b[39m\u001b[31m56\u001b[4m9\u001b[24m\u001b[39m -\u001b[31m0\u001b[39m\u001b[31m.\u001b[39m\u001b[31m129\u001b[39m         13.5   1.45\u001b[90me\u001b[39m\u001b[31m-41\u001b[39m   0.001\u001b[4m2\u001b[24m\u001b[4m3\u001b[24m   0.158        -\u001b[31m29\u001b[39m\u001b[31m.\u001b[39m\u001b[31m8\u001b[39m    1.11\u001b[90me\u001b[39m\u001b[31m-192\u001b[39m\n",
      "\u001b[90m 7\u001b[39m H3K27me3   2L - PC      -\u001b[31m0\u001b[39m\u001b[31m.\u001b[39m\u001b[31m292\u001b[39m  -\u001b[31m0\u001b[39m\u001b[31m.\u001b[39m\u001b[31m355\u001b[39m          0.898 3.70\u001b[90me\u001b[39m\u001b[31m- 1\u001b[39m \u001b[31mNaN\u001b[39m       \u001b[31mNaN\u001b[39m             \u001b[31mNA\u001b[39m     \u001b[31mNA\u001b[39m   \u001b[90m \u001b[39m    \n",
      "\u001b[90m 8\u001b[39m H3K27me3   4            -\u001b[31m0\u001b[39m\u001b[31m.\u001b[39m\u001b[31m894\u001b[39m  -\u001b[31m0\u001b[39m\u001b[31m.\u001b[39m\u001b[31m383\u001b[39m        -\u001b[31m10\u001b[39m\u001b[31m.\u001b[39m\u001b[31m6\u001b[39m   6.11\u001b[90me\u001b[39m\u001b[31m-24\u001b[39m \u001b[31mNaN\u001b[39m       \u001b[31mNaN\u001b[39m             \u001b[31mNA\u001b[39m     \u001b[31mNA\u001b[39m   \u001b[90m \u001b[39m    \n",
      "\u001b[90m 9\u001b[39m H3K27me3   X            -\u001b[31m0\u001b[39m\u001b[31m.\u001b[39m\u001b[31m0\u001b[39m\u001b[31m88\u001b[4m4\u001b[24m\u001b[39m -\u001b[31m0\u001b[39m\u001b[31m.\u001b[39m\u001b[31m0\u001b[39m\u001b[31m77\u001b[4m4\u001b[24m\u001b[39m        -\u001b[31m0\u001b[39m\u001b[31m.\u001b[39m\u001b[31m648\u001b[39m 5.17\u001b[90me\u001b[39m\u001b[31m- 1\u001b[39m  -\u001b[31m0\u001b[39m\u001b[31m.\u001b[39m\u001b[31m108\u001b[39m     0.164        -\u001b[31m13\u001b[39m\u001b[31m.\u001b[39m\u001b[31m5\u001b[39m    1.71\u001b[90me\u001b[39m\u001b[31m- 40\u001b[39m\n",
      "\u001b[90m10\u001b[39m H3K27me3   Y             0.306  -\u001b[31m0\u001b[39m\u001b[31m.\u001b[39m\u001b[31m517\u001b[39m          1.87  6.45\u001b[90me\u001b[39m\u001b[31m- 2\u001b[39m  -\u001b[31m0\u001b[39m\u001b[31m.\u001b[39m\u001b[31m766\u001b[39m    -\u001b[31m0\u001b[39m\u001b[31m.\u001b[39m\u001b[31m406\u001b[39m         -\u001b[31m2\u001b[39m\u001b[31m.\u001b[39m\u001b[31m53\u001b[39m   1.18\u001b[90me\u001b[39m\u001b[31m-  2\u001b[39m\n",
      "\u001b[90m11\u001b[39m H3K9me3    Whole Genome  0.042\u001b[4m8\u001b[24m  0.000\u001b[4m4\u001b[24m\u001b[4m2\u001b[24m\u001b[4m6\u001b[24m       9.47  2.99\u001b[90me\u001b[39m\u001b[31m-21\u001b[39m   0.094\u001b[4m4\u001b[24m    0.105         -\u001b[31m2\u001b[39m\u001b[31m.\u001b[39m\u001b[31m18\u001b[39m   2.92\u001b[90me\u001b[39m\u001b[31m-  2\u001b[39m\n",
      "\u001b[90m12\u001b[39m H3K9me3    2L - PC       0.081\u001b[4m9\u001b[24m -\u001b[31m0\u001b[39m\u001b[31m.\u001b[39m\u001b[31m0\u001b[39m\u001b[31m82\u001b[4m2\u001b[24m\u001b[39m         2.64  8.38\u001b[90me\u001b[39m\u001b[31m- 3\u001b[39m \u001b[31mNaN\u001b[39m       \u001b[31mNaN\u001b[39m             \u001b[31mNA\u001b[39m     \u001b[31mNA\u001b[39m   \u001b[90m \u001b[39m    \n",
      "\u001b[90m13\u001b[39m H3K9me3    4            -\u001b[31m0\u001b[39m\u001b[31m.\u001b[39m\u001b[31m108\u001b[39m  -\u001b[31m0\u001b[39m\u001b[31m.\u001b[39m\u001b[31m238\u001b[39m          9.50  7.86\u001b[90me\u001b[39m\u001b[31m-20\u001b[39m \u001b[31mNaN\u001b[39m       \u001b[31mNaN\u001b[39m             \u001b[31mNA\u001b[39m     \u001b[31mNA\u001b[39m   \u001b[90m \u001b[39m    \n",
      "\u001b[90m14\u001b[39m H3K9me3    X             0.137   0.033\u001b[4m3\u001b[24m         6.94  4.57\u001b[90me\u001b[39m\u001b[31m-12\u001b[39m   0.243     0.196          2.52   1.17\u001b[90me\u001b[39m\u001b[31m-  2\u001b[39m\n",
      "\u001b[90m15\u001b[39m H3K9me3    Y            -\u001b[31m0\u001b[39m\u001b[31m.\u001b[39m\u001b[31m124\u001b[39m  -\u001b[31m0\u001b[39m\u001b[31m.\u001b[39m\u001b[31m706\u001b[39m          1.45  1.50\u001b[90me\u001b[39m\u001b[31m- 1\u001b[39m   0.014\u001b[4m4\u001b[24m   -\u001b[31m0\u001b[39m\u001b[31m.\u001b[39m\u001b[31m0\u001b[39m\u001b[31m36\u001b[4m9\u001b[24m\u001b[39m         0.457  6.48\u001b[90me\u001b[39m\u001b[31m-  1\u001b[39m\n"
     ]
    }
   ],
   "source": [
    "library(dplyr)\n",
    "library(targets)\n",
    "library(tibble)\n",
    "\n",
    "tar_load(\n",
    "  c(\n",
    "    chic.tile.diameter_500_score_chr,\n",
    "    chic.experiment.quantify_H3K4_Germline_peakcalling.broad_chr,\n",
    "    chic.experiment.quantify_H3K4_Somatic_peakcalling.broad_chr,\n",
    "    chic.experiment.quantify_H3K27_Germline_peakcalling.broad_chr,\n",
    "    chic.experiment.quantify_H3K27_Somatic_peakcalling.broad_chr,\n",
    "    chic.experiment.quantify_H3K9_Germline_peakcalling.broad_chr,\n",
    "    chic.experiment.quantify_H3K9_Somatic_peakcalling.broad_chr,\n",
    "    chromosome_pericetromere_label,\n",
    "    repli.peaks_chr,\n",
    "  )\n",
    ")\n",
    "\n",
    "invisible(\n",
    "  chromatin <- tribble(\n",
    "    ~name, ~ranges,\n",
    "    \"Whole Genome\", repli.peaks_chr[[1]],\n",
    "    \"2L - PC\", subset(repli.peaks_chr[[1]], seqnames == \"2L\" & start >= start(chromosome_pericetromere_label)[1]),\n",
    "    \"4\", subset(repli.peaks_chr[[1]], seqnames == \"4\"),\n",
    "    \"X\", subset(repli.peaks_chr[[1]], seqnames == \"X\"),\n",
    "    \"Y\", subset(repli.peaks_chr[[1]], seqnames == \"Y\"),\n",
    "  ) %>%\n",
    "    rowwise() %>%\n",
    "    mutate(\n",
    "      test1 = list(\n",
    "        seq_along(chic.tile.diameter_500_score_chr) %in%\n",
    "          to(findOverlaps(subset(ranges, grepl(\"GermlineEarlier\", names(ranges))), chic.tile.diameter_500_score_chr)) &\n",
    "          seq_along(chic.tile.diameter_500_score_chr) %% 5 == 3\n",
    "      ),\n",
    "      test2 = list(\n",
    "        seq_along(chic.tile.diameter_500_score_chr) %in%\n",
    "          to(findOverlaps(subset(ranges, grepl(\"GermlineLater\", names(ranges))), chic.tile.diameter_500_score_chr)) &\n",
    "          seq_along(chic.tile.diameter_500_score_chr) %% 5 == 3\n",
    "      ),\n",
    "      .keep = \"unused\"\n",
    "    )\n",
    ")\n",
    "options(width=180)\n",
    "print(\n",
    "  analysis <- cross_join(\n",
    "    tribble(\n",
    "      ~experiment, ~germline, ~somatic,\n",
    "      \"H3K4me3\", chic.experiment.quantify_H3K4_Germline_peakcalling.broad_chr, chic.experiment.quantify_H3K4_Somatic_peakcalling.broad_chr,\n",
    "      \"H3K27me3\", chic.experiment.quantify_H3K27_Germline_peakcalling.broad_chr, chic.experiment.quantify_H3K27_Somatic_peakcalling.broad_chr,\n",
    "      \"H3K9me3\", chic.experiment.quantify_H3K9_Germline_peakcalling.broad_chr, chic.experiment.quantify_H3K9_Somatic_peakcalling.broad_chr,\n",
    "    ),\n",
    "    chromatin\n",
    "  ) %>%\n",
    "    rowwise() %>%\n",
    "    mutate(\n",
    "      GSC.1 = mean(germline$L2FC[test1]),\n",
    "      CySC.1 = mean(somatic$L2FC[test1]),\n",
    "      t.statistic = t.test(germline$L2FC[test1], somatic$L2FC[test1], paired=T)$statistic,\n",
    "      p.adjust = t.test(germline$L2FC[test1], somatic$L2FC[test1], paired=T)$p.value,\n",
    "      GSC.2 = mean(germline$L2FC[test2]),\n",
    "      CySC.2 = mean(somatic$L2FC[test2]),\n",
    "      t.statistic.2 = if (any(test2)) {\n",
    "        t.test(germline$L2FC[test2], somatic$L2FC[test2], paired=T)$statistic\n",
    "      } else {\n",
    "        NA\n",
    "      },\n",
    "      p.adjust.2 = if (any(test2)) {\n",
    "        t.test(germline$L2FC[test2], somatic$L2FC[test2], paired=T)$p.value\n",
    "      } else {\n",
    "        NA\n",
    "      },\n",
    "      .keep = \"unused\"\n",
    "    ),\n",
    "  n = 100\n",
    ")"
   ]
  },
  {
   "cell_type": "markdown",
   "metadata": {},
   "source": [
    "## S6 Bar_Chart_Data\n",
    "\n",
    "Fisher's Exact Test of Individual Chromatin Regions In Terms of Replication Regime"
   ]
  },
  {
   "cell_type": "code",
   "execution_count": 1,
   "metadata": {
    "vscode": {
     "languageId": "r"
    }
   },
   "outputs": [
    {
     "name": "stderr",
     "output_type": "stream",
     "text": [
      "\n",
      "Attaching package: ‘dplyr’\n",
      "\n",
      "\n",
      "The following objects are masked from ‘package:stats’:\n",
      "\n",
      "    filter, lag\n",
      "\n",
      "\n",
      "The following objects are masked from ‘package:base’:\n",
      "\n",
      "    intersect, setdiff, setequal, union\n",
      "\n",
      "\n"
     ]
    }
   ],
   "source": [
    "library(dplyr)\n",
    "library(targets)\n",
    "library(withr)"
   ]
  },
  {
   "cell_type": "code",
   "execution_count": 12,
   "metadata": {
    "vscode": {
     "languageId": "r"
    }
   },
   "outputs": [],
   "source": [
    "tar_load(\n",
    "  c(\n",
    "    chromosome_pericetromere_label,\n",
    "    repli.peaks_chr,\n",
    "    chic.tile.diameter_1000_chr\n",
    "  )\n",
    ")"
   ]
  },
  {
   "cell_type": "code",
   "execution_count": 5,
   "metadata": {
    "vscode": {
     "languageId": "r"
    }
   },
   "outputs": [
    {
     "name": "stderr",
     "output_type": "stream",
     "text": [
      "Loading required package: stats4\n",
      "\n",
      "Loading required package: BiocGenerics\n",
      "\n",
      "\n",
      "Attaching package: ‘BiocGenerics’\n",
      "\n",
      "\n",
      "The following objects are masked from ‘package:dplyr’:\n",
      "\n",
      "    combine, intersect, setdiff, union\n",
      "\n",
      "\n",
      "The following objects are masked from ‘package:stats’:\n",
      "\n",
      "    IQR, mad, sd, var, xtabs\n",
      "\n",
      "\n",
      "The following objects are masked from ‘package:base’:\n",
      "\n",
      "    anyDuplicated, aperm, append, as.data.frame, basename, cbind,\n",
      "    colnames, dirname, do.call, duplicated, eval, evalq, Filter, Find,\n",
      "    get, grep, grepl, intersect, is.unsorted, lapply, Map, mapply,\n",
      "    match, mget, order, paste, pmax, pmax.int, pmin, pmin.int,\n",
      "    Position, rank, rbind, Reduce, rownames, sapply, setdiff, sort,\n",
      "    table, tapply, union, unique, unsplit, which.max, which.min\n",
      "\n",
      "\n",
      "Loading required package: S4Vectors\n",
      "\n",
      "\n",
      "Attaching package: ‘S4Vectors’\n",
      "\n",
      "\n",
      "The following objects are masked from ‘package:dplyr’:\n",
      "\n",
      "    first, rename\n",
      "\n",
      "\n",
      "The following object is masked from ‘package:utils’:\n",
      "\n",
      "    findMatches\n",
      "\n",
      "\n",
      "The following objects are masked from ‘package:base’:\n",
      "\n",
      "    expand.grid, I, unname\n",
      "\n",
      "\n",
      "Loading required package: IRanges\n",
      "\n",
      "\n",
      "Attaching package: ‘IRanges’\n",
      "\n",
      "\n",
      "The following objects are masked from ‘package:dplyr’:\n",
      "\n",
      "    collapse, desc, slice\n",
      "\n",
      "\n",
      "Loading required package: GenomeInfoDb\n",
      "\n"
     ]
    },
    {
     "data": {
      "text/html": [
       "<table class=\"dataframe\">\n",
       "<caption>A matrix: 2 × 7 of type int</caption>\n",
       "<thead>\n",
       "\t<tr><th scope=col>Germline_Somatic</th><th scope=col>Germline_Kc167</th><th scope=col>Germline_S2</th><th scope=col>Somatic_Kc167</th><th scope=col>Somatic_S2</th><th scope=col>Kc167_S2</th><th scope=col>Dynamic_Static_Model</th></tr>\n",
       "</thead>\n",
       "<tbody>\n",
       "\t<tr><td> 20000</td><td> 20000</td><td> 20000</td><td> 20000</td><td> 20000</td><td>  20000</td><td>  20000</td></tr>\n",
       "\t<tr><td>394000</td><td>676000</td><td>586000</td><td>444000</td><td>440000</td><td>1065000</td><td>2958000</td></tr>\n",
       "</tbody>\n",
       "</table>\n"
      ],
      "text/latex": [
       "A matrix: 2 × 7 of type int\n",
       "\\begin{tabular}{lllllll}\n",
       " Germline\\_Somatic & Germline\\_Kc167 & Germline\\_S2 & Somatic\\_Kc167 & Somatic\\_S2 & Kc167\\_S2 & Dynamic\\_Static\\_Model\\\\\n",
       "\\hline\n",
       "\t  20000 &  20000 &  20000 &  20000 &  20000 &   20000 &   20000\\\\\n",
       "\t 394000 & 676000 & 586000 & 444000 & 440000 & 1065000 & 2958000\\\\\n",
       "\\end{tabular}\n"
      ],
      "text/markdown": [
       "\n",
       "A matrix: 2 × 7 of type int\n",
       "\n",
       "| Germline_Somatic | Germline_Kc167 | Germline_S2 | Somatic_Kc167 | Somatic_S2 | Kc167_S2 | Dynamic_Static_Model |\n",
       "|---|---|---|---|---|---|---|\n",
       "|  20000 |  20000 |  20000 |  20000 |  20000 |   20000 |   20000 |\n",
       "| 394000 | 676000 | 586000 | 444000 | 440000 | 1065000 | 2958000 |\n",
       "\n"
      ],
      "text/plain": [
       "     Germline_Somatic Germline_Kc167 Germline_S2 Somatic_Kc167 Somatic_S2\n",
       "[1,]  20000            20000          20000       20000         20000    \n",
       "[2,] 394000           676000         586000      444000        440000    \n",
       "     Kc167_S2 Dynamic_Static_Model\n",
       "[1,]   20000    20000             \n",
       "[2,] 1065000  2958000             "
      ]
     },
     "metadata": {},
     "output_type": "display_data"
    }
   ],
   "source": [
    "library(GenomicRanges)\n",
    "sapply(repli.peaks_chr, \\(gr) range(width(gr)))"
   ]
  },
  {
   "cell_type": "markdown",
   "metadata": {},
   "source": [
    "For the 6 pairwise tests:\n",
    "\n",
    "Extract peaks that are \"Earlier\" for one cell type, as well as \"Later\" for one cell type. Sum the width of the peaks (split by 12 regions).\n",
    "\n",
    "We want the units to represent large pieces of chromatin that may contain an origin of replication; we should be testing individuals that have an independent replication timing regime. First, we built the table using units of 1 kb (the step size), but this is too fine. Thus, we can't use the table with units 1 kb to test the independence of earlier vs later timed windows in each region. After testing out autocorrelation of Repliseq track during development, we decided that a step size of 50 kb is effective at moving to a piece of chromatin that has a more statistically independent RT regime. Thus, the data intake of the table of differentially RT chromatin is handled by converting to units of 50 kb, and taking the ceiling."
   ]
  },
  {
   "cell_type": "code",
   "execution_count": 6,
   "metadata": {
    "vscode": {
     "languageId": "r"
    }
   },
   "outputs": [
    {
     "name": "stdout",
     "output_type": "stream",
     "text": [
      "$Germline_Somatic\n",
      "    [,1] [,2]\n",
      "2L  5036 3267\n",
      "2LC  796    0\n",
      "2RC 1447   39\n",
      "2R  3124 2518\n",
      "3L  4260 3806\n",
      "3LC 1313    0\n",
      "3RC  206   49\n",
      "3R  6407 2692\n",
      "4    258    0\n",
      "X   2222 2008\n",
      "Y     51  209\n",
      "\n",
      "$Germline_Kc167\n",
      "    [,1] [,2]\n",
      "2L  6384 4540\n",
      "2LC  384  159\n",
      "2RC 1581  756\n",
      "2R  4195 3991\n",
      "3L  7058 4615\n",
      "3LC 1768  829\n",
      "3RC 1443  566\n",
      "3R  9069 4197\n",
      "4    240    0\n",
      "X   8244 2313\n",
      "Y   1148  974\n",
      "\n",
      "$Germline_S2\n",
      "    [,1] [,2]\n",
      "2L  4264 4655\n",
      "2LC  358  400\n",
      "2RC  935  723\n",
      "2R  4220 3502\n",
      "3L  4477 4012\n",
      "3LC  686  669\n",
      "3RC  777  381\n",
      "3R  6892 4889\n",
      "4    596  105\n",
      "X   1455 2855\n",
      "Y    376  520\n",
      "\n",
      "$Somatic_Kc167\n",
      "    [,1] [,2]\n",
      "2L  4188 3265\n",
      "2LC    0  577\n",
      "2RC    0 1739\n",
      "2R  2426 3786\n",
      "3L  4193 3365\n",
      "3LC    0  871\n",
      "3RC  551  276\n",
      "3R  3333 4065\n",
      "4    116  242\n",
      "X   6224 1780\n",
      "Y    395  230\n",
      "\n",
      "$Somatic_S2\n",
      "    [,1] [,2]\n",
      "2L  3323 4555\n",
      "2LC   41   64\n",
      "2RC   83 1112\n",
      "2R  2268 2879\n",
      "3L  4263 4082\n",
      "3LC    0  719\n",
      "3RC  203   97\n",
      "3R  3550 6267\n",
      "4    239    0\n",
      "X   2243 2382\n",
      "Y    117  144\n",
      "\n",
      "$Kc167_S2\n",
      "    [,1] [,2]\n",
      "2L  4743 6665\n",
      "2LC  486   82\n",
      "2RC 1567 1146\n",
      "2R  5420 3745\n",
      "3L  6221 5698\n",
      "3LC  213 1605\n",
      "3RC  114  189\n",
      "3R  5933 6558\n",
      "4    898  110\n",
      "X   1964 9248\n",
      "Y    144  822\n",
      "\n"
     ]
    }
   ],
   "source": [
    "table_levels <- c(\"2L\", \"2LC\", \"2RC\", \"2R\", \"3L\", \"3LC\", \"3RC\", \"3R\", \"4\", \"X\", \"Y\")\n",
    "tables_kb <- repli.peaks_chr %>%\n",
    "  head(6) %>%\n",
    "  sapply(\n",
    "    \\(gr) cbind(\n",
    "      gr %>%\n",
    "        subset(grepl(\"Earlier\", names(.))) %>%\n",
    "        split(\n",
    "          factor(\n",
    "            paste0(\n",
    "              as.factor(seqnames(.)),\n",
    "              replace(\n",
    "                rep(\"\", length(.)),\n",
    "                to(findOverlaps(chromosome_pericetromere_label, .)),\n",
    "                \"C\"\n",
    "              )\n",
    "              ),\n",
    "              table_levels\n",
    "          )\n",
    "        ) %>%\n",
    "        sapply(\\(gr) sum(width(gr))),\n",
    "      gr %>%\n",
    "        subset(grepl(\"Later\", names(.))) %>%\n",
    "        split(\n",
    "          factor(\n",
    "            paste0(\n",
    "              as.factor(seqnames(.)),\n",
    "              replace(\n",
    "                rep(\"\", length(.)),\n",
    "                to(findOverlaps(chromosome_pericetromere_label, .)),\n",
    "                \"C\"\n",
    "              )\n",
    "              ),\n",
    "              table_levels\n",
    "          )\n",
    "        ) %>%\n",
    "        sapply(\\(gr) sum(width(gr)))\n",
    "    ) %>%\n",
    "      `/`(1000) %>%\n",
    "      round(),\n",
    "    simplify=FALSE\n",
    "  ) %>%\n",
    "  print()"
   ]
  },
  {
   "cell_type": "code",
   "execution_count": 7,
   "metadata": {
    "vscode": {
     "languageId": "r"
    }
   },
   "outputs": [
    {
     "name": "stdout",
     "output_type": "stream",
     "text": [
      "$Germline_Somatic\n",
      "    [,1] [,2]\n",
      "2L   101   66\n",
      "2LC   16    0\n",
      "2RC   29    1\n",
      "2R    63   51\n",
      "3L    86   77\n",
      "3LC   27    0\n",
      "3RC    5    1\n",
      "3R   129   54\n",
      "4      6    0\n",
      "X     45   41\n",
      "Y      2    5\n",
      "\n",
      "$Germline_Kc167\n",
      "    [,1] [,2]\n",
      "2L   128   91\n",
      "2LC    8    4\n",
      "2RC   32   16\n",
      "2R    84   80\n",
      "3L   142   93\n",
      "3LC   36   17\n",
      "3RC   29   12\n",
      "3R   182   84\n",
      "4      5    0\n",
      "X    165   47\n",
      "Y     23   20\n",
      "\n",
      "$Germline_S2\n",
      "    [,1] [,2]\n",
      "2L    86   94\n",
      "2LC    8    8\n",
      "2RC   19   15\n",
      "2R    85   71\n",
      "3L    90   81\n",
      "3LC   14   14\n",
      "3RC   16    8\n",
      "3R   138   98\n",
      "4     12    3\n",
      "X     30   58\n",
      "Y      8   11\n",
      "\n",
      "$Somatic_Kc167\n",
      "    [,1] [,2]\n",
      "2L    84   66\n",
      "2LC    0   12\n",
      "2RC    0   35\n",
      "2R    49   76\n",
      "3L    84   68\n",
      "3LC    0   18\n",
      "3RC   12    6\n",
      "3R    67   82\n",
      "4      3    5\n",
      "X    125   36\n",
      "Y      8    5\n",
      "\n",
      "$Somatic_S2\n",
      "    [,1] [,2]\n",
      "2L    67   92\n",
      "2LC    1    2\n",
      "2RC    2   23\n",
      "2R    46   58\n",
      "3L    86   82\n",
      "3LC    0   15\n",
      "3RC    5    2\n",
      "3R    71  126\n",
      "4      5    0\n",
      "X     45   48\n",
      "Y      3    3\n",
      "\n",
      "$Kc167_S2\n",
      "    [,1] [,2]\n",
      "2L    95  134\n",
      "2LC   10    2\n",
      "2RC   32   23\n",
      "2R   109   75\n",
      "3L   125  114\n",
      "3LC    5   33\n",
      "3RC    3    4\n",
      "3R   119  132\n",
      "4     18    3\n",
      "X     40  185\n",
      "Y      3   17\n",
      "\n"
     ]
    }
   ],
   "source": [
    "table_levels <- c(\"2L\", \"2LC\", \"2RC\", \"2R\", \"3L\", \"3LC\", \"3RC\", \"3R\", \"4\", \"X\", \"Y\")\n",
    "individual_unit_bp <- 50000\n",
    "tables <- repli.peaks_chr %>%\n",
    "  head(6) %>%\n",
    "  sapply(\n",
    "    \\(gr) cbind(\n",
    "      gr %>%\n",
    "        subset(grepl(\"Earlier\", names(.))) %>%\n",
    "        split(\n",
    "          factor(\n",
    "            paste0(\n",
    "              as.factor(seqnames(.)),\n",
    "              replace(\n",
    "                rep(\"\", length(.)),\n",
    "                to(findOverlaps(chromosome_pericetromere_label, .)),\n",
    "                \"C\"\n",
    "              )\n",
    "              ),\n",
    "              table_levels\n",
    "          )\n",
    "        ) %>%\n",
    "        sapply(\\(gr) sum(width(gr))),\n",
    "      gr %>%\n",
    "        subset(grepl(\"Later\", names(.))) %>%\n",
    "        split(\n",
    "          factor(\n",
    "            paste0(\n",
    "              as.factor(seqnames(.)),\n",
    "              replace(\n",
    "                rep(\"\", length(.)),\n",
    "                to(findOverlaps(chromosome_pericetromere_label, .)),\n",
    "                \"C\"\n",
    "              )\n",
    "              ),\n",
    "              table_levels\n",
    "          )\n",
    "        ) %>%\n",
    "        sapply(\\(gr) sum(width(gr)))\n",
    "    ) %>%\n",
    "      `/`(individual_unit_bp) %>%\n",
    "      ceiling(),\n",
    "    simplify=FALSE\n",
    "  ) %>%\n",
    "  print()"
   ]
  },
  {
   "cell_type": "markdown",
   "metadata": {},
   "source": [
    "Compute length of the 12 regions here in kb. This is used for % differentially timed chromatin in the region."
   ]
  },
  {
   "cell_type": "code",
   "execution_count": 16,
   "metadata": {
    "vscode": {
     "languageId": "r"
    }
   },
   "outputs": [
    {
     "data": {
      "text/plain": [
       "GRanges object with 4 ranges and 0 metadata columns:\n",
       "      seqnames            ranges strand\n",
       "         <Rle>         <IRanges>  <Rle>\n",
       "  [1]       2L 22192401-23513712      *\n",
       "  [2]       2R         1-5651400      *\n",
       "  [3]       3L 23154101-28110227      *\n",
       "  [4]       3R         1-4229200      *\n",
       "  -------\n",
       "  seqinfo: 4 sequences from an unspecified genome; no seqlengths"
      ]
     },
     "metadata": {},
     "output_type": "display_data"
    }
   ],
   "source": [
    "chromosome_pericetromere_label"
   ]
  },
  {
   "cell_type": "code",
   "execution_count": 25,
   "metadata": {
    "vscode": {
     "languageId": "r"
    }
   },
   "outputs": [
    {
     "data": {
      "text/html": [
       "<style>\n",
       ".dl-inline {width: auto; margin:0; padding: 0}\n",
       ".dl-inline>dt, .dl-inline>dd {float: none; width: auto; display: inline-block}\n",
       ".dl-inline>dt::after {content: \":\\0020\"; padding-right: .5ex}\n",
       ".dl-inline>dt:not(:first-of-type) {padding-left: .5ex}\n",
       "</style><dl class=dl-inline><dt>2L</dt><dd>22192</dd><dt>2LC</dt><dd>1321</dd><dt>2RC</dt><dd>5651</dd><dt>2R</dt><dd>19636</dd><dt>3L</dt><dd>23154</dd><dt>3LC</dt><dd>4956</dd><dt>3RC</dt><dd>4229</dd><dt>3R</dt><dd>27850</dd><dt>4</dt><dd>1348</dd><dt>X</dt><dd>23542</dd><dt>Y</dt><dd>3667</dd></dl>\n"
      ],
      "text/latex": [
       "\\begin{description*}\n",
       "\\item[2L] 22192\n",
       "\\item[2LC] 1321\n",
       "\\item[2RC] 5651\n",
       "\\item[2R] 19636\n",
       "\\item[3L] 23154\n",
       "\\item[3LC] 4956\n",
       "\\item[3RC] 4229\n",
       "\\item[3R] 27850\n",
       "\\item[4] 1348\n",
       "\\item[X] 23542\n",
       "\\item[Y] 3667\n",
       "\\end{description*}\n"
      ],
      "text/markdown": [
       "2L\n",
       ":   221922LC\n",
       ":   13212RC\n",
       ":   56512R\n",
       ":   196363L\n",
       ":   231543LC\n",
       ":   49563RC\n",
       ":   42293R\n",
       ":   278504\n",
       ":   1348X\n",
       ":   23542Y\n",
       ":   3667\n",
       "\n"
      ],
      "text/plain": [
       "   2L   2LC   2RC    2R    3L   3LC   3RC    3R     4     X     Y \n",
       "22192  1321  5651 19636 23154  4956  4229 27850  1348 23542  3667 "
      ]
     },
     "metadata": {},
     "output_type": "display_data"
    }
   ],
   "source": [
    "(\n",
    "  table_level_seqlength_kb <- round(\n",
    "    c(\n",
    "      seqlengths(chic.tile.diameter_1000_chr)[\"2L\"] - width(chromosome_pericetromere_label)[1],\n",
    "      width(chromosome_pericetromere_label)[1],\n",
    "      width(chromosome_pericetromere_label)[2],\n",
    "      seqlengths(chic.tile.diameter_1000_chr)[\"2R\"] - width(chromosome_pericetromere_label)[2],\n",
    "      seqlengths(chic.tile.diameter_1000_chr)[\"3L\"] - width(chromosome_pericetromere_label)[3],\n",
    "      width(chromosome_pericetromere_label)[3],\n",
    "      width(chromosome_pericetromere_label)[4],\n",
    "      seqlengths(chic.tile.diameter_1000_chr)[\"3R\"] - width(chromosome_pericetromere_label)[4],\n",
    "      seqlengths(chic.tile.diameter_1000_chr)[\"4\"],\n",
    "      seqlengths(chic.tile.diameter_1000_chr)[\"X\"],\n",
    "      seqlengths(chic.tile.diameter_1000_chr)[\"Y\"]\n",
    "    ) /\n",
    "      1000\n",
    "  ) %>%\n",
    "    setNames(table_levels)\n",
    ")"
   ]
  },
  {
   "cell_type": "markdown",
   "metadata": {},
   "source": [
    "Fisher test (12 x 2 contingency table). Again, the power of the Fisher test in rejecting the null hypothesis depends on the unit individual_unit_bp for dividing and taking the ceiling, which we decided empirically to be units of 50 kb."
   ]
  },
  {
   "cell_type": "code",
   "execution_count": 8,
   "metadata": {
    "vscode": {
     "languageId": "r"
    }
   },
   "outputs": [
    {
     "data": {
      "text/html": [
       "<style>\n",
       ".dl-inline {width: auto; margin:0; padding: 0}\n",
       ".dl-inline>dt, .dl-inline>dd {float: none; width: auto; display: inline-block}\n",
       ".dl-inline>dt::after {content: \":\\0020\"; padding-right: .5ex}\n",
       ".dl-inline>dt:not(:first-of-type) {padding-left: .5ex}\n",
       "</style><dl class=dl-inline><dt>Germline_Somatic</dt><dd>1.1999976000048e-05</dd><dt>Germline_Kc167</dt><dd>1.999996000008e-05</dd><dt>Germline_S2</dt><dd>0.00529198941602117</dd><dt>Somatic_Kc167</dt><dd>1.1999976000048e-05</dd><dt>Somatic_S2</dt><dd>1.1999976000048e-05</dd><dt>Kc167_S2</dt><dd>1.1999976000048e-05</dd></dl>\n"
      ],
      "text/latex": [
       "\\begin{description*}\n",
       "\\item[Germline\\textbackslash{}\\_Somatic] 1.1999976000048e-05\n",
       "\\item[Germline\\textbackslash{}\\_Kc167] 1.999996000008e-05\n",
       "\\item[Germline\\textbackslash{}\\_S2] 0.00529198941602117\n",
       "\\item[Somatic\\textbackslash{}\\_Kc167] 1.1999976000048e-05\n",
       "\\item[Somatic\\textbackslash{}\\_S2] 1.1999976000048e-05\n",
       "\\item[Kc167\\textbackslash{}\\_S2] 1.1999976000048e-05\n",
       "\\end{description*}\n"
      ],
      "text/markdown": [
       "Germline_Somatic\n",
       ":   1.1999976000048e-05Germline_Kc167\n",
       ":   1.999996000008e-05Germline_S2\n",
       ":   0.00529198941602117Somatic_Kc167\n",
       ":   1.1999976000048e-05Somatic_S2\n",
       ":   1.1999976000048e-05Kc167_S2\n",
       ":   1.1999976000048e-05\n",
       "\n"
      ],
      "text/plain": [
       "Germline_Somatic   Germline_Kc167      Germline_S2    Somatic_Kc167 \n",
       "    1.199998e-05     1.999996e-05     5.291989e-03     1.199998e-05 \n",
       "      Somatic_S2         Kc167_S2 \n",
       "    1.199998e-05     1.199998e-05 "
      ]
     },
     "metadata": {},
     "output_type": "display_data"
    }
   ],
   "source": [
    "pval <- with_seed(\n",
    "  0,\n",
    "  sapply(\n",
    "    tables,\n",
    "    \\(tb) fisher.test(tb, simulate=T, B=5e5)$p.value\n",
    "  ) %>%\n",
    "    p.adjust()\n",
    ")\n",
    "pval"
   ]
  },
  {
   "cell_type": "code",
   "execution_count": 9,
   "metadata": {
    "vscode": {
     "languageId": "r"
    }
   },
   "outputs": [
    {
     "name": "stderr",
     "output_type": "stream",
     "text": [
      "Warning message in chisq.test(tb):\n",
      "“Chi-squared approximation may be incorrect”\n",
      "Warning message in chisq.test(tb):\n",
      "“Chi-squared approximation may be incorrect”\n"
     ]
    },
    {
     "name": "stderr",
     "output_type": "stream",
     "text": [
      "Warning message in chisq.test(tb):\n",
      "“Chi-squared approximation may be incorrect”\n",
      "Warning message in chisq.test(tb):\n",
      "“Chi-squared approximation may be incorrect”\n",
      "Warning message in chisq.test(tb):\n",
      "“Chi-squared approximation may be incorrect”\n"
     ]
    },
    {
     "name": "stdout",
     "output_type": "stream",
     "text": [
      "\u001b[90m# A tibble: 66 × 3\u001b[39m\n",
      "   rowname          counts[,1]  [,2] residuals[,1]   [,2]\n",
      "   \u001b[3m\u001b[90m<chr>\u001b[39m\u001b[23m                 \u001b[3m\u001b[90m<dbl>\u001b[39m\u001b[23m \u001b[3m\u001b[90m<dbl>\u001b[39m\u001b[23m         \u001b[3m\u001b[90m<dbl>\u001b[39m\u001b[23m  \u001b[3m\u001b[90m<dbl>\u001b[39m\u001b[23m\n",
      "\u001b[90m 1\u001b[39m Germline_Somatic        101    66        -\u001b[31m0\u001b[39m\u001b[31m.\u001b[39m\u001b[31m447\u001b[39m  0.586\n",
      "\u001b[90m 2\u001b[39m Germline_Somatic         16     0         1.85  -\u001b[31m2\u001b[39m\u001b[31m.\u001b[39m\u001b[31m43\u001b[39m \n",
      "\u001b[90m 3\u001b[39m Germline_Somatic         29     1         2.30  -\u001b[31m3\u001b[39m\u001b[31m.\u001b[39m\u001b[31m0\u001b[39m\u001b[31m2\u001b[39m \n",
      "\u001b[90m 4\u001b[39m Germline_Somatic         63    51        -\u001b[31m1\u001b[39m\u001b[31m.\u001b[39m\u001b[31m0\u001b[39m\u001b[31m7\u001b[39m   1.40 \n",
      "\u001b[90m 5\u001b[39m Germline_Somatic         86    77        -\u001b[31m1\u001b[39m\u001b[31m.\u001b[39m\u001b[31m68\u001b[39m   2.20 \n",
      "\u001b[90m 6\u001b[39m Germline_Somatic         27     0         2.40  -\u001b[31m3\u001b[39m\u001b[31m.\u001b[39m\u001b[31m15\u001b[39m \n",
      "\u001b[90m 7\u001b[39m Germline_Somatic          5     1         0.619 -\u001b[31m0\u001b[39m\u001b[31m.\u001b[39m\u001b[31m812\u001b[39m\n",
      "\u001b[90m 8\u001b[39m Germline_Somatic        129    54         1.24  -\u001b[31m1\u001b[39m\u001b[31m.\u001b[39m\u001b[31m62\u001b[39m \n",
      "\u001b[90m 9\u001b[39m Germline_Somatic          6     0         1.13  -\u001b[31m1\u001b[39m\u001b[31m.\u001b[39m\u001b[31m49\u001b[39m \n",
      "\u001b[90m10\u001b[39m Germline_Somatic         45    41        -\u001b[31m1\u001b[39m\u001b[31m.\u001b[39m\u001b[31m27\u001b[39m   1.67 \n",
      "\u001b[90m# ℹ 56 more rows\u001b[39m\n"
     ]
    }
   ],
   "source": [
    "naive_analysis <- tibble(\n",
    "  rowname = names(tables) %>% rep(each = nrow(tables[[1]])),\n",
    "  counts = tables %>%\n",
    "    do.call(rbind, .),\n",
    "  residuals = sapply(tables, \\(tb) chisq.test(tb)$residuals, simplify=FALSE) %>%\n",
    "    do.call(rbind, .)\n",
    ") %>%\n",
    "  print()"
   ]
  },
  {
   "cell_type": "markdown",
   "metadata": {},
   "source": [
    "Exact post hoc analysis or category-aggregating Fisher's exact test analysis\n",
    "\n",
    "We want to aggregate all but one row of the contingency table using a sum. Thus, we are testing whether each row (chromosome region) has a ratio of earlier vs later chromatin that is independent (significantly different) of all held-out chromatin in the other chromosome regions."
   ]
  },
  {
   "cell_type": "code",
   "execution_count": 10,
   "metadata": {
    "vscode": {
     "languageId": "r"
    }
   },
   "outputs": [
    {
     "name": "stdout",
     "output_type": "stream",
     "text": [
      "\u001b[90m# A tibble: 66 × 4\u001b[39m\n",
      "   rowname          region p.adjust signif[,1] [,2] \n",
      "   \u001b[3m\u001b[90m<fct>\u001b[39m\u001b[23m            \u001b[3m\u001b[90m<chr>\u001b[39m\u001b[23m     \u001b[3m\u001b[90m<dbl>\u001b[39m\u001b[23m \u001b[3m\u001b[90m<chr>\u001b[39m\u001b[23m      \u001b[3m\u001b[90m<chr>\u001b[39m\u001b[23m\n",
      "\u001b[90m 1\u001b[39m Germline_Somatic 2L     1        \u001b[90m\"\u001b[39m\u001b[90m\"\u001b[39m         \u001b[90m\"\u001b[39m\u001b[90m\"\u001b[39m   \n",
      "\u001b[90m 2\u001b[39m Germline_Somatic 2LC    0.046\u001b[4m7\u001b[24m   \u001b[90m\"\u001b[39m*\u001b[90m\"\u001b[39m        \u001b[90m\"\u001b[39m\u001b[90m\"\u001b[39m   \n",
      "\u001b[90m 3\u001b[39m Germline_Somatic 2RC    0.001\u001b[4m2\u001b[24m\u001b[4m9\u001b[24m  \u001b[90m\"\u001b[39m**\u001b[90m\"\u001b[39m       \u001b[90m\"\u001b[39m\u001b[90m\"\u001b[39m   \n",
      "\u001b[90m 4\u001b[39m Germline_Somatic 2R     1        \u001b[90m\"\u001b[39m\u001b[90m\"\u001b[39m         \u001b[90m\"\u001b[39m\u001b[90m\"\u001b[39m   \n",
      "\u001b[90m 5\u001b[39m Germline_Somatic 3L     0.131    \u001b[90m\"\u001b[39m\u001b[90m\"\u001b[39m         \u001b[90m\"\u001b[39m\u001b[90m\"\u001b[39m   \n",
      "\u001b[90m 6\u001b[39m Germline_Somatic 3LC    0.000\u001b[4m3\u001b[24m\u001b[4m0\u001b[24m\u001b[4m4\u001b[24m \u001b[90m\"\u001b[39m***\u001b[90m\"\u001b[39m      \u001b[90m\"\u001b[39m\u001b[90m\"\u001b[39m   \n",
      "\u001b[90m 7\u001b[39m Germline_Somatic 3RC    1        \u001b[90m\"\u001b[39m\u001b[90m\"\u001b[39m         \u001b[90m\"\u001b[39m\u001b[90m\"\u001b[39m   \n",
      "\u001b[90m 8\u001b[39m Germline_Somatic 3R     0.999    \u001b[90m\"\u001b[39m\u001b[90m\"\u001b[39m         \u001b[90m\"\u001b[39m\u001b[90m\"\u001b[39m   \n",
      "\u001b[90m 9\u001b[39m Germline_Somatic 4      1        \u001b[90m\"\u001b[39m\u001b[90m\"\u001b[39m         \u001b[90m\"\u001b[39m\u001b[90m\"\u001b[39m   \n",
      "\u001b[90m10\u001b[39m Germline_Somatic X      1        \u001b[90m\"\u001b[39m\u001b[90m\"\u001b[39m         \u001b[90m\"\u001b[39m\u001b[90m\"\u001b[39m   \n",
      "\u001b[90m# ℹ 56 more rows\u001b[39m\n"
     ]
    }
   ],
   "source": [
    "exact_post_hoc_analysis <- naive_analysis %>%\n",
    "  group_by(rowname = factor(rowname, unique(rowname))) %>%\n",
    "  reframe(\n",
    "    region = table_levels,\n",
    "    residuals,\n",
    "    p.adjust = sapply(\n",
    "      seq_along(table_levels),\n",
    "      \\(i) fisher.test(\n",
    "        rbind(\n",
    "          counts[i,, drop=F],\n",
    "          colSums(counts[-i,, drop=F])\n",
    "        )\n",
    "      )$p.value\n",
    "    )\n",
    "  ) %>%\n",
    "  mutate(\n",
    "    p.adjust = p.adjust %>% p.adjust(),\n",
    "    signif = cbind(\n",
    "      p.adjust %>%\n",
    "        replace(residuals[, 2] >= residuals[, 1], 1),\n",
    "      p.adjust %>%\n",
    "        replace(residuals[, 2] <= residuals[, 1], 1)\n",
    "    ) %>%\n",
    "      cut(c(-Inf, 1e-4, 1e-3, 1e-2, 5e-2, Inf)) %>%\n",
    "      structure(\n",
    "        levels = c(\"****\", \"***\", \"**\", \"*\", \"\"),\n",
    "        class = \"factor\"\n",
    "      ) %>%\n",
    "      as.character() %>%\n",
    "      matrix(ncol = 2),\n",
    "    .keep = \"unused\"\n",
    "  ) %>%\n",
    "  print()"
   ]
  },
  {
   "cell_type": "code",
   "execution_count": 31,
   "metadata": {
    "vscode": {
     "languageId": "r"
    }
   },
   "outputs": [
    {
     "name": "stdout",
     "output_type": "stream",
     "text": [
      "2L\t5036\t3267\t0.2269\t0.1472\t\t\t6384\t4540\t0.2877\t0.2046\t\t\t4264\t4655\t0.1921\t0.2098\t\t\t4188\t3265\t0.1887\t0.1471\t\t\t3323\t4555\t0.1497\t0.2053\t\t\t4743\t6665\t0.2137\t0.3003\t\t\n",
      "2LC\t796\t0\t0.6026\t0\t*\t\t384\t159\t0.2907\t0.1204\t\t\t358\t400\t0.271\t0.3028\t\t\t0\t577\t0\t0.4368\t\t**\t41\t64\t0.031\t0.0484\t\t\t486\t82\t0.3679\t0.0621\t\t\n",
      "2RC\t1447\t39\t0.2561\t0.0069\t**\t\t1581\t756\t0.2798\t0.1338\t\t\t935\t723\t0.1655\t0.1279\t\t\t0\t1739\t0\t0.3077\t\t****\t83\t1112\t0.0147\t0.1968\t\t*\t1567\t1146\t0.2773\t0.2028\t\t\n",
      "2R\t3124\t2518\t0.1591\t0.1282\t\t\t4195\t3991\t0.2136\t0.2032\t\t*\t4220\t3502\t0.2149\t0.1783\t\t\t2426\t3786\t0.1235\t0.1928\t\t\t2268\t2879\t0.1155\t0.1466\t\t\t5420\t3745\t0.276\t0.1907\t***\t\n",
      "3L\t4260\t3806\t0.184\t0.1644\t\t\t7058\t4615\t0.3048\t0.1993\t\t\t4477\t4012\t0.1934\t0.1733\t\t\t4193\t3365\t0.1811\t0.1453\t\t\t4263\t4082\t0.1841\t0.1763\t\t\t6221\t5698\t0.2687\t0.2461\t\t\n",
      "3LC\t1313\t0\t0.2649\t0\t***\t\t1768\t829\t0.3567\t0.1673\t\t\t686\t669\t0.1384\t0.135\t\t\t0\t871\t0\t0.1757\t\t***\t0\t719\t0\t0.1451\t\t*\t213\t1605\t0.043\t0.3238\t\t**\n",
      "3RC\t206\t49\t0.0487\t0.0116\t\t\t1443\t566\t0.3412\t0.1338\t\t\t777\t381\t0.1837\t0.0901\t\t\t551\t276\t0.1303\t0.0653\t\t\t203\t97\t0.048\t0.0229\t\t\t114\t189\t0.027\t0.0447\t\t\n",
      "3R\t6407\t2692\t0.2301\t0.0967\t\t\t9069\t4197\t0.3256\t0.1507\t\t\t6892\t4889\t0.2475\t0.1755\t\t\t3333\t4065\t0.1197\t0.146\t\t\t3550\t6267\t0.1275\t0.225\t\t\t5933\t6558\t0.213\t0.2355\t\t\n",
      "4\t258\t0\t0.1914\t0\t\t\t240\t0\t0.178\t0\t\t\t596\t105\t0.4421\t0.0779\t\t\t116\t242\t0.0861\t0.1795\t\t\t239\t0\t0.1773\t0\t\t\t898\t110\t0.6662\t0.0816\t**\t\n",
      "X\t2222\t2008\t0.0944\t0.0853\t\t\t8244\t2313\t0.3502\t0.0982\t***\t\t1455\t2855\t0.0618\t0.1213\t\t*\t6224\t1780\t0.2644\t0.0756\t****\t\t2243\t2382\t0.0953\t0.1012\t\t\t1964\t9248\t0.0834\t0.3928\t\t****\n",
      "Y\t51\t209\t0.0139\t0.057\t\t\t1148\t974\t0.3131\t0.2656\t\t\t376\t520\t0.1025\t0.1418\t\t\t395\t230\t0.1077\t0.0627\t\t\t117\t144\t0.0319\t0.0393\t\t\t144\t822\t0.0393\t0.2242\t\t\n"
     ]
    }
   ],
   "source": [
    "signif_p <- function(p) {\n",
    "  structure(\n",
    "    cut(\n",
    "      p,\n",
    "      c(-Inf, 1e-4, 1e-3, 1e-2, 5e-2, 1)\n",
    "    ),\n",
    "    levels = c(\"****\", \"***\", \"**\", \"*\", \"\"),\n",
    "    class = \"factor\"\n",
    "  )\n",
    "}\n",
    "write.table(\n",
    "  cbind(\n",
    "    region = exact_post_hoc_analysis$region[1:11],\n",
    "    GE = tables_kb[[1]][, 1],\n",
    "    SE = tables_kb[[1]][, 2],\n",
    "    PGE = round(tables_kb[[1]][, 1] / table_level_seqlength_kb, 4),\n",
    "    PSE = round(tables_kb[[1]][, 2] / table_level_seqlength_kb, 4),\n",
    "    S1 = subset(exact_post_hoc_analysis, rowname == \"Germline_Somatic\")$signif[, 1],\n",
    "    S2 = subset(exact_post_hoc_analysis, rowname == \"Germline_Somatic\")$signif[, 2],\n",
    "    GE.1 = tables_kb[[2]][, 1],\n",
    "    KE = tables_kb[[2]][, 2],\n",
    "    PGE.1 = round(tables_kb[[2]][, 1] / table_level_seqlength_kb, 4),\n",
    "    PKE = round(tables_kb[[2]][, 2] / table_level_seqlength_kb, 4),\n",
    "    S3 = subset(exact_post_hoc_analysis, rowname == \"Germline_Kc167\")$signif[, 1],\n",
    "    S4 = subset(exact_post_hoc_analysis, rowname == \"Germline_Kc167\")$signif[, 2],\n",
    "    GE.2 = tables_kb[[3]][, 1],\n",
    "    NE = tables_kb[[3]][, 2],\n",
    "    PGE.2 = round(tables_kb[[3]][, 1] / table_level_seqlength_kb, 4),\n",
    "    PNE = round(tables_kb[[3]][, 2] / table_level_seqlength_kb, 4),\n",
    "    S5 = subset(exact_post_hoc_analysis, rowname == \"Germline_S2\")$signif[, 1],\n",
    "    S6 = subset(exact_post_hoc_analysis, rowname == \"Germline_S2\")$signif[, 2],\n",
    "    SE.1 = tables_kb[[4]][, 1],\n",
    "    KE.1 = tables_kb[[4]][, 2],\n",
    "    PSE.1 = round(tables_kb[[4]][, 1] / table_level_seqlength_kb, 4),\n",
    "    PKE.1 = round(tables_kb[[4]][, 2] / table_level_seqlength_kb, 4),\n",
    "    S7 = subset(exact_post_hoc_analysis, rowname == \"Somatic_Kc167\")$signif[, 1],\n",
    "    S8 = subset(exact_post_hoc_analysis, rowname == \"Somatic_Kc167\")$signif[, 2],\n",
    "    SE.2 = tables_kb[[5]][, 1],\n",
    "    NE.1 = tables_kb[[5]][, 2],\n",
    "    PSE.2 = round(tables_kb[[5]][, 1] / table_level_seqlength_kb, 4),\n",
    "    PNE.1 = round(tables_kb[[5]][, 2] / table_level_seqlength_kb, 4),\n",
    "    S9 = subset(exact_post_hoc_analysis, rowname == \"Somatic_S2\")$signif[, 1],\n",
    "    S10 = subset(exact_post_hoc_analysis, rowname == \"Somatic_S2\")$signif[, 2],\n",
    "    KE.2 = tables_kb[[6]][, 1],\n",
    "    NE.2 = tables_kb[[6]][, 2],\n",
    "    PKE.2 = round(tables_kb[[6]][, 1] / table_level_seqlength_kb, 4),\n",
    "    PNE.2 = round(tables_kb[[6]][, 2] / table_level_seqlength_kb, 4),\n",
    "    S11 = subset(exact_post_hoc_analysis, rowname == \"Kc167_S2\")$signif[, 1],\n",
    "    S12 = subset(exact_post_hoc_analysis, rowname == \"Kc167_S2\")$signif[, 2]\n",
    "  ),\n",
    "  row.names = F,\n",
    "  col.names = F,\n",
    "  quote = F,\n",
    "  sep = \"\\t\"\n",
    ")"
   ]
  }
 ],
 "metadata": {
  "kernelspec": {
   "display_name": "R",
   "language": "R",
   "name": "ir"
  },
  "language_info": {
   "codemirror_mode": "r",
   "file_extension": ".r",
   "mimetype": "text/x-r-source",
   "name": "R",
   "pygments_lexer": "r",
   "version": "4.3.3"
  }
 },
 "nbformat": 4,
 "nbformat_minor": 2
}
