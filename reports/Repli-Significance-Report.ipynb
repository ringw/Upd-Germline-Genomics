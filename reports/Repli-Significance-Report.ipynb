{
 "cells": [
  {
   "cell_type": "markdown",
   "metadata": {},
   "source": [
    "## Tests of Repliseq Track"
   ]
  },
  {
   "cell_type": "code",
   "execution_count": 3,
   "metadata": {
    "vscode": {
     "languageId": "r"
    }
   },
   "outputs": [],
   "source": [
    "setwd(\"~/Upd-Germline-Genomics\")"
   ]
  },
  {
   "cell_type": "markdown",
   "metadata": {},
   "source": [
    "T-Test of Germline vs Somatic Timing (12 Regions)"
   ]
  },
  {
   "cell_type": "code",
   "execution_count": 2,
   "metadata": {
    "vscode": {
     "languageId": "r"
    }
   },
   "outputs": [
    {
     "name": "stderr",
     "output_type": "stream",
     "text": [
      "Loading required package: viridisLite\n",
      "\n",
      "\n",
      "Attaching package: ‘dplyr’\n",
      "\n",
      "\n",
      "The following objects are masked from ‘package:stats’:\n",
      "\n",
      "    filter, lag\n",
      "\n",
      "\n",
      "The following objects are masked from ‘package:base’:\n",
      "\n",
      "    intersect, setdiff, setequal, union\n",
      "\n",
      "\n"
     ]
    }
   ],
   "source": [
    "source(\"_targets.R\")"
   ]
  },
  {
   "cell_type": "code",
   "execution_count": 4,
   "metadata": {
    "vscode": {
     "languageId": "r"
    }
   },
   "outputs": [
    {
     "name": "stderr",
     "output_type": "stream",
     "text": [
      "Loading required package: stats4\n",
      "\n",
      "Loading required package: BiocGenerics\n",
      "\n",
      "\n",
      "Attaching package: ‘BiocGenerics’\n",
      "\n",
      "\n",
      "The following objects are masked from ‘package:dplyr’:\n",
      "\n",
      "    combine, intersect, setdiff, union\n",
      "\n",
      "\n",
      "The following objects are masked from ‘package:stats’:\n",
      "\n",
      "    IQR, mad, sd, var, xtabs\n",
      "\n",
      "\n",
      "The following objects are masked from ‘package:base’:\n",
      "\n",
      "    anyDuplicated, aperm, append, as.data.frame, basename, cbind,\n",
      "    colnames, dirname, do.call, duplicated, eval, evalq, Filter, Find,\n",
      "    get, grep, grepl, intersect, is.unsorted, lapply, Map, mapply,\n",
      "    match, mget, order, paste, pmax, pmax.int, pmin, pmin.int,\n",
      "    Position, rank, rbind, Reduce, rownames, sapply, setdiff, sort,\n",
      "    table, tapply, union, unique, unsplit, which.max, which.min\n",
      "\n",
      "\n",
      "Loading required package: S4Vectors\n",
      "\n",
      "\n",
      "Attaching package: ‘S4Vectors’\n",
      "\n",
      "\n",
      "The following objects are masked from ‘package:dplyr’:\n",
      "\n",
      "    first, rename\n",
      "\n",
      "\n",
      "The following object is masked from ‘package:utils’:\n",
      "\n",
      "    findMatches\n",
      "\n",
      "\n",
      "The following objects are masked from ‘package:base’:\n",
      "\n",
      "    expand.grid, I, unname\n",
      "\n",
      "\n",
      "Loading required package: IRanges\n",
      "\n",
      "\n",
      "Attaching package: ‘IRanges’\n",
      "\n",
      "\n",
      "The following objects are masked from ‘package:dplyr’:\n",
      "\n",
      "    collapse, desc, slice\n",
      "\n",
      "\n",
      "Loading required package: GenomeInfoDb\n",
      "\n",
      "\n",
      "Attaching package: ‘GenomicRanges’\n",
      "\n",
      "\n",
      "The following object is masked from ‘package:magrittr’:\n",
      "\n",
      "    subtract\n",
      "\n",
      "\n"
     ]
    }
   ],
   "source": [
    "library(forcats)\n",
    "library(GenomicRanges)\n",
    "\n",
    "tar_load(chic.tile.diameter_1000_chr)\n",
    "tar_load(matches(\"repli.timing_.*chr$\"))\n",
    "tar_load(chromosome_pericetromere_label)"
   ]
  },
  {
   "cell_type": "code",
   "execution_count": 5,
   "metadata": {
    "vscode": {
     "languageId": "r"
    }
   },
   "outputs": [
    {
     "name": "stdout",
     "output_type": "stream",
     "text": [
      "\u001b[90m# A tibble: 13,759 × 6\u001b[39m\n",
      "   region     x   GSC  CySC   Kc167    S2\n",
      "   \u001b[3m\u001b[90m<fct>\u001b[39m\u001b[23m  \u001b[3m\u001b[90m<int>\u001b[39m\u001b[23m \u001b[3m\u001b[90m<dbl>\u001b[39m\u001b[23m \u001b[3m\u001b[90m<dbl>\u001b[39m\u001b[23m   \u001b[3m\u001b[90m<dbl>\u001b[39m\u001b[23m \u001b[3m\u001b[90m<dbl>\u001b[39m\u001b[23m\n",
      "\u001b[90m 1\u001b[39m 2L      \u001b[4m5\u001b[24m500  1.84 0.862  1.30   0.639\n",
      "\u001b[90m 2\u001b[39m 2L     \u001b[4m1\u001b[24m\u001b[4m5\u001b[24m500  1.75 1.18   1.95   0.311\n",
      "\u001b[90m 3\u001b[39m 2L     \u001b[4m2\u001b[24m\u001b[4m5\u001b[24m500  2.16 1.28   0.057\u001b[4m3\u001b[24m 0.573\n",
      "\u001b[90m 4\u001b[39m 2L     \u001b[4m3\u001b[24m\u001b[4m5\u001b[24m500  2.19 1.46   1.84   0.318\n",
      "\u001b[90m 5\u001b[39m 2L     \u001b[4m4\u001b[24m\u001b[4m5\u001b[24m500  2.05 0.981  0.301  0.618\n",
      "\u001b[90m 6\u001b[39m 2L     \u001b[4m5\u001b[24m\u001b[4m5\u001b[24m500  1.55 1.32  -\u001b[31m1\u001b[39m\u001b[31m.\u001b[39m\u001b[31m13\u001b[39m   1.05 \n",
      "\u001b[90m 7\u001b[39m 2L     \u001b[4m6\u001b[24m\u001b[4m5\u001b[24m500  1.58 1.39   3.29   0.462\n",
      "\u001b[90m 8\u001b[39m 2L     \u001b[4m7\u001b[24m\u001b[4m5\u001b[24m500  1.94 1.37   3.34   1.25 \n",
      "\u001b[90m 9\u001b[39m 2L     \u001b[4m8\u001b[24m\u001b[4m5\u001b[24m500  1.03 1.33   3.03   1.27 \n",
      "\u001b[90m10\u001b[39m 2L     \u001b[4m9\u001b[24m\u001b[4m5\u001b[24m500  2.10 2.34   3.10   0.640\n",
      "\u001b[90m# ℹ 13,749 more rows\u001b[39m\n"
     ]
    }
   ],
   "source": [
    "obs <- tibble(\n",
    "  region = as.character(seqnames(repli.timing_Germline_chr)) %>%\n",
    "    paste0(\n",
    "      rep(\"\", length(repli.timing_Germline_chr)) %>%\n",
    "        replace(\n",
    "          to(findOverlaps(chromosome_pericetromere_label, repli.timing_Germline_chr)),\n",
    "          \"C\"\n",
    "        )\n",
    "    ) %>%\n",
    "      factor(\n",
    "        c(\"2L\", \"2LC\", \"2RC\", \"2R\", \"3L\", \"3LC\", \"3RC\", \"3R\", \"4\", \"X\", \"Y\", \"rDNA\")\n",
    "      ),\n",
    "  x = mid(repli.timing_Germline_chr),\n",
    "  GSC = qlogistanh(repli.timing_Germline_chr$score),\n",
    "  CySC = qlogistanh(repli.timing_Somatic_chr$score),\n",
    "  Kc167 = qlogistanh(repli.timing_Kc167_chr$score),\n",
    "  S2 = qlogistanh(repli.timing_S2_chr$score),\n",
    ") %>%\n",
    "  subset(\n",
    "    x %% 10000 == 5500 &\n",
    "      !is.na(region) &\n",
    "      (region != \"rDNA\" | x >= 37500)\n",
    "  )\n",
    "print(obs)"
   ]
  },
  {
   "cell_type": "code",
   "execution_count": 23,
   "metadata": {
    "vscode": {
     "languageId": "r"
    }
   },
   "outputs": [
    {
     "name": "stdout",
     "output_type": "stream",
     "text": [
      "\u001b[90m# A tibble: 8 × 6\u001b[39m\n",
      "  region           x   GSC   CySC Kc167     S2\n",
      "  \u001b[3m\u001b[90m<fct>\u001b[39m\u001b[23m        \u001b[3m\u001b[90m<int>\u001b[39m\u001b[23m \u001b[3m\u001b[90m<dbl>\u001b[39m\u001b[23m  \u001b[3m\u001b[90m<dbl>\u001b[39m\u001b[23m \u001b[3m\u001b[90m<dbl>\u001b[39m\u001b[23m  \u001b[3m\u001b[90m<dbl>\u001b[39m\u001b[23m\n",
      "\u001b[90m1\u001b[39m 2CenScaffold  \u001b[4m9\u001b[24m978 -\u001b[31m2\u001b[39m\u001b[31m.\u001b[39m\u001b[31m16\u001b[39m -\u001b[31m0\u001b[39m\u001b[31m.\u001b[39m\u001b[31m497\u001b[39m -\u001b[31m2\u001b[39m\u001b[31m.\u001b[39m\u001b[31m73\u001b[39m -\u001b[31m1\u001b[39m\u001b[31m.\u001b[39m\u001b[31m72\u001b[39m \n",
      "\u001b[90m2\u001b[39m 2CenScaffold \u001b[4m2\u001b[24m\u001b[4m2\u001b[24m206 -\u001b[31m1\u001b[39m\u001b[31m.\u001b[39m\u001b[31m72\u001b[39m -\u001b[31m0\u001b[39m\u001b[31m.\u001b[39m\u001b[31m482\u001b[39m -\u001b[31m2\u001b[39m\u001b[31m.\u001b[39m\u001b[31m64\u001b[39m -\u001b[31m1\u001b[39m\u001b[31m.\u001b[39m\u001b[31m10\u001b[39m \n",
      "\u001b[90m3\u001b[39m 3CenScaffold \u001b[4m3\u001b[24m\u001b[4m8\u001b[24m112 -\u001b[31m1\u001b[39m\u001b[31m.\u001b[39m\u001b[31m30\u001b[39m -\u001b[31m0\u001b[39m\u001b[31m.\u001b[39m\u001b[31m438\u001b[39m -\u001b[31m2\u001b[39m\u001b[31m.\u001b[39m\u001b[31m36\u001b[39m -\u001b[31m0\u001b[39m\u001b[31m.\u001b[39m\u001b[31m584\u001b[39m\n",
      "\u001b[90m4\u001b[39m 3CenScaffold  \u001b[4m5\u001b[24m992 -\u001b[31m2\u001b[39m\u001b[31m.\u001b[39m\u001b[31m26\u001b[39m -\u001b[31m0\u001b[39m\u001b[31m.\u001b[39m\u001b[31m416\u001b[39m -\u001b[31m3\u001b[39m\u001b[31m.\u001b[39m\u001b[31m19\u001b[39m -\u001b[31m2\u001b[39m\u001b[31m.\u001b[39m\u001b[31m57\u001b[39m \n",
      "\u001b[90m5\u001b[39m 3CenScaffold \u001b[4m4\u001b[24m\u001b[4m3\u001b[24m683 -\u001b[31m2\u001b[39m\u001b[31m.\u001b[39m\u001b[31m15\u001b[39m -\u001b[31m0\u001b[39m\u001b[31m.\u001b[39m\u001b[31m520\u001b[39m -\u001b[31m2\u001b[39m\u001b[31m.\u001b[39m\u001b[31m66\u001b[39m -\u001b[31m0\u001b[39m\u001b[31m.\u001b[39m\u001b[31m711\u001b[39m\n",
      "\u001b[90m6\u001b[39m 3CenScaffold \u001b[4m1\u001b[24m\u001b[4m8\u001b[24m457 -\u001b[31m2\u001b[39m\u001b[31m.\u001b[39m\u001b[31m26\u001b[39m -\u001b[31m0\u001b[39m\u001b[31m.\u001b[39m\u001b[31m489\u001b[39m -\u001b[31m3\u001b[39m\u001b[31m.\u001b[39m\u001b[31m0\u001b[39m\u001b[31m7\u001b[39m -\u001b[31m2\u001b[39m\u001b[31m.\u001b[39m\u001b[31m16\u001b[39m \n",
      "\u001b[90m7\u001b[39m 3CenScaffold \u001b[4m1\u001b[24m\u001b[4m1\u001b[24m302 -\u001b[31m1\u001b[39m\u001b[31m.\u001b[39m\u001b[31m92\u001b[39m -\u001b[31m0\u001b[39m\u001b[31m.\u001b[39m\u001b[31m693\u001b[39m -\u001b[31m2\u001b[39m\u001b[31m.\u001b[39m\u001b[31m00\u001b[39m -\u001b[31m0\u001b[39m\u001b[31m.\u001b[39m\u001b[31m384\u001b[39m\n",
      "\u001b[90m8\u001b[39m 3CenScaffold \u001b[4m1\u001b[24m\u001b[4m1\u001b[24m619 -\u001b[31m1\u001b[39m\u001b[31m.\u001b[39m\u001b[31m91\u001b[39m -\u001b[31m0\u001b[39m\u001b[31m.\u001b[39m\u001b[31m458\u001b[39m -\u001b[31m3\u001b[39m\u001b[31m.\u001b[39m\u001b[31m30\u001b[39m -\u001b[31m2\u001b[39m\u001b[31m.\u001b[39m\u001b[31m77\u001b[39m \n"
     ]
    }
   ],
   "source": [
    "obscen <- tibble(\n",
    "  region = as.character(seqnames(repli.timing_Germline_chr)) %>%\n",
    "    str_extract(\"[23]Cen\") %>%\n",
    "    paste0(\"Scaffold\") %>%\n",
    "    factor(c(\"2L\", \"2LC\", \"2CenScaffold\", \"2RC\", \"2R\", \"3L\", \"3LC\", \"3CenScaffold\", \"3RC\", \"3R\")),\n",
    "  x = mid(repli.timing_Germline_chr),\n",
    "  GSC = qlogistanh(repli.timing_Germline_chr$score),\n",
    "  CySC = qlogistanh(repli.timing_Somatic_chr$score),\n",
    "  Kc167 = qlogistanh(repli.timing_Kc167_chr$score),\n",
    "  S2 = qlogistanh(repli.timing_S2_chr$score),\n",
    ") %>%\n",
    "  subset(!is.na(region)) %>%\n",
    "  print()"
   ]
  },
  {
   "cell_type": "code",
   "execution_count": 28,
   "metadata": {
    "vscode": {
     "languageId": "r"
    }
   },
   "outputs": [],
   "source": [
    "obs <- rbind(\n",
    "  obs,\n",
    "  obscen\n",
    ") %>%\n",
    "  mutate(\n",
    "    region = factor(\n",
    "      region,\n",
    "      c(\"2L\", \"2LC\", \"2CenScaffold\", \"2RC\", \"2R\", \"3L\", \"3LC\", \"3CenScaffold\", \"3RC\", \"3R\", \"4\", \"X\", \"Y\", \"rDNA\")\n",
    "    )\n",
    "  ) %>%\n",
    "  arrange(region)"
   ]
  },
  {
   "cell_type": "code",
   "execution_count": 36,
   "metadata": {
    "vscode": {
     "languageId": "r"
    }
   },
   "outputs": [
    {
     "data": {
      "text/plain": [
       "\n",
       "          2L          2LC 2CenScaffold          2RC           2R           3L \n",
       "        2219          132            2          565         1964         2315 \n",
       "         3LC 3CenScaffold          3RC           3R            4            X \n",
       "         496            6          423         2785          135         2354 \n",
       "           Y         rDNA \n",
       "         367            4 "
      ]
     },
     "metadata": {},
     "output_type": "display_data"
    }
   ],
   "source": [
    "table(obs$region)"
   ]
  },
  {
   "cell_type": "code",
   "execution_count": 37,
   "metadata": {
    "vscode": {
     "languageId": "r"
    }
   },
   "outputs": [
    {
     "name": "stdout",
     "output_type": "stream",
     "text": [
      "region\tGSC\tCySC\tKc167\tS2\n",
      "2L\t0.240003773239944\t-0.0251170605752422\t0.134633855131178\t0.111172790822162\n",
      "2LC\t-0.221179916212045\t-1.29080187514596\t-0.594244175968877\t-0.906171349116361\n",
      "2CenScaffold\t-1.94432605402701\t-0.489286174648313\t-2.68607702669223\t-1.40808291067734\n",
      "2RC\t-0.76377731470638\t-1.06683856471266\t-1.55509168659663\t-1.09112602861674\n",
      "2R\t0.586178372723304\t0.339229485942996\t0.760754160234016\t0.336881454202316\n",
      "3L\t0.344350158955915\t0.207399879335181\t0.512648229167886\t0.181511685473339\n",
      "3LC\t-0.855531855471866\t-1.32625693079921\t-1.75411116883992\t-0.980452144647513\n",
      "3CenScaffold\t-1.96664190651438\t-0.502457082646003\t-2.76394556945123\t-1.530892189743\n",
      "3RC\t-1.42884791796216\t-0.911969043051168\t-3.56734129909786\t-1.85824786846488\n",
      "3R\t0.425790707608911\t1.67108614711728e-05\t0.306255732245841\t0.176124932005275\n",
      "4\t1.44057365612037\t0.660502809392847\t1.62789769169342\t0.38098770408921\n",
      "X\t0.479817743442729\t0.485223513007481\t0.351674157858727\t0.48122475800506\n",
      "Y\t-0.914869981409082\t-0.563613795181887\t-1.58932307327295\t-0.76565788928393\n",
      "rDNA\t1.72584995908694\t-1.36111570243741\t-3.38543893473584\t-3.03629311280111\n"
     ]
    }
   ],
   "source": [
    "obs %>%\n",
    "  group_by(region) %>%\n",
    "  summarise(across(!x, mean)) %>%\n",
    "  write.table(row.names = FALSE, quote = FALSE, sep = \"\\t\")"
   ]
  },
  {
   "cell_type": "code",
   "execution_count": 38,
   "metadata": {
    "vscode": {
     "languageId": "r"
    }
   },
   "outputs": [
    {
     "name": "stdout",
     "output_type": "stream",
     "text": [
      "region\tt.statistic\tp.adjust\n",
      "2L\t7.67\t1.86279369316132e-13\n",
      "2LC\t9.95\t1.95418070993955e-18\n",
      "2CenScaffold\t-6.6\t0.190596585240699\n",
      "2RC\t4.92\t5.09064017670156e-06\n",
      "2R\t7.45\t8.88835497055045e-13\n",
      "3L\t4.1\t0.00016578364337318\n",
      "3LC\t8.84\t8.02520421554476e-17\n",
      "3CenScaffold\t-9.59\t0.000278654387825226\n",
      "3RC\t-9.43\t9.22423957696634e-19\n",
      "3R\t13.51\t8.73537956468027e-40\n",
      "4\t10.21\t1.02412571014942e-19\n",
      "X\t-0.18\t0.85515051232606\n",
      "Y\t-5.85\t5.93178702191535e-08\n",
      "rDNA\t38.15\t3.12988638019876e-06\n"
     ]
    }
   ],
   "source": [
    "write.table(\n",
    "  obs %>%\n",
    "    group_by(region) %>%\n",
    "    summarise(\n",
    "      t.statistic = round(t.test(GSC, CySC)$statistic, 2),\n",
    "      p.adjust = t.test(GSC, CySC)$p.value\n",
    "    ) %>%\n",
    "    mutate(p.adjust = p.adjust %>% p.adjust()),\n",
    "  row.names = F,\n",
    "  quote = F,\n",
    "  sep = \"\\t\"\n",
    ")"
   ]
  },
  {
   "cell_type": "code",
   "execution_count": 18,
   "metadata": {
    "vscode": {
     "languageId": "r"
    }
   },
   "outputs": [
    {
     "data": {
      "text/html": [
       "<table class=\"dataframe\">\n",
       "<caption>A tibble: 6 × 6</caption>\n",
       "<thead>\n",
       "\t<tr><th scope=col>region</th><th scope=col>x</th><th scope=col>GSC</th><th scope=col>CySC</th><th scope=col>Kc167</th><th scope=col>S2</th></tr>\n",
       "\t<tr><th scope=col>&lt;fct&gt;</th><th scope=col>&lt;int&gt;</th><th scope=col>&lt;dbl&gt;</th><th scope=col>&lt;dbl&gt;</th><th scope=col>&lt;dbl&gt;</th><th scope=col>&lt;dbl&gt;</th></tr>\n",
       "</thead>\n",
       "<tbody>\n",
       "\t<tr><td>3Cen</td><td>38112</td><td>-1.303070</td><td>-0.4383701</td><td>-2.355063</td><td>-0.5836734</td></tr>\n",
       "\t<tr><td>3Cen</td><td> 5992</td><td>-2.258204</td><td>-0.4159700</td><td>-3.192323</td><td>-2.5677326</td></tr>\n",
       "\t<tr><td>3Cen</td><td>43683</td><td>-2.153540</td><td>-0.5204246</td><td>-2.664558</td><td>-0.7114268</td></tr>\n",
       "\t<tr><td>3Cen</td><td>18457</td><td>-2.256011</td><td>-0.4889389</td><td>-3.071968</td><td>-2.1638090</td></tr>\n",
       "\t<tr><td>3Cen</td><td>11302</td><td>-1.922689</td><td>-0.6929085</td><td>-2.000995</td><td>-0.3843600</td></tr>\n",
       "\t<tr><td>3Cen</td><td>11619</td><td>-1.906337</td><td>-0.4581305</td><td>-3.298768</td><td>-2.7743513</td></tr>\n",
       "</tbody>\n",
       "</table>\n"
      ],
      "text/latex": [
       "A tibble: 6 × 6\n",
       "\\begin{tabular}{llllll}\n",
       " region & x & GSC & CySC & Kc167 & S2\\\\\n",
       " <fct> & <int> & <dbl> & <dbl> & <dbl> & <dbl>\\\\\n",
       "\\hline\n",
       "\t 3Cen & 38112 & -1.303070 & -0.4383701 & -2.355063 & -0.5836734\\\\\n",
       "\t 3Cen &  5992 & -2.258204 & -0.4159700 & -3.192323 & -2.5677326\\\\\n",
       "\t 3Cen & 43683 & -2.153540 & -0.5204246 & -2.664558 & -0.7114268\\\\\n",
       "\t 3Cen & 18457 & -2.256011 & -0.4889389 & -3.071968 & -2.1638090\\\\\n",
       "\t 3Cen & 11302 & -1.922689 & -0.6929085 & -2.000995 & -0.3843600\\\\\n",
       "\t 3Cen & 11619 & -1.906337 & -0.4581305 & -3.298768 & -2.7743513\\\\\n",
       "\\end{tabular}\n"
      ],
      "text/markdown": [
       "\n",
       "A tibble: 6 × 6\n",
       "\n",
       "| region &lt;fct&gt; | x &lt;int&gt; | GSC &lt;dbl&gt; | CySC &lt;dbl&gt; | Kc167 &lt;dbl&gt; | S2 &lt;dbl&gt; |\n",
       "|---|---|---|---|---|---|\n",
       "| 3Cen | 38112 | -1.303070 | -0.4383701 | -2.355063 | -0.5836734 |\n",
       "| 3Cen |  5992 | -2.258204 | -0.4159700 | -3.192323 | -2.5677326 |\n",
       "| 3Cen | 43683 | -2.153540 | -0.5204246 | -2.664558 | -0.7114268 |\n",
       "| 3Cen | 18457 | -2.256011 | -0.4889389 | -3.071968 | -2.1638090 |\n",
       "| 3Cen | 11302 | -1.922689 | -0.6929085 | -2.000995 | -0.3843600 |\n",
       "| 3Cen | 11619 | -1.906337 | -0.4581305 | -3.298768 | -2.7743513 |\n",
       "\n"
      ],
      "text/plain": [
       "  region x     GSC       CySC       Kc167     S2        \n",
       "1 3Cen   38112 -1.303070 -0.4383701 -2.355063 -0.5836734\n",
       "2 3Cen    5992 -2.258204 -0.4159700 -3.192323 -2.5677326\n",
       "3 3Cen   43683 -2.153540 -0.5204246 -2.664558 -0.7114268\n",
       "4 3Cen   18457 -2.256011 -0.4889389 -3.071968 -2.1638090\n",
       "5 3Cen   11302 -1.922689 -0.6929085 -2.000995 -0.3843600\n",
       "6 3Cen   11619 -1.906337 -0.4581305 -3.298768 -2.7743513"
      ]
     },
     "metadata": {},
     "output_type": "display_data"
    }
   ],
   "source": [
    "tail(rbind(obs, obscen))"
   ]
  },
  {
   "cell_type": "code",
   "execution_count": 48,
   "metadata": {
    "vscode": {
     "languageId": "r"
    }
   },
   "outputs": [
    {
     "data": {
      "image/png": "[encoded data removed]",
      "text/plain": [
       "Plot with title “density(x = Germline, adjust = 1/4)”"
      ]
     },
     "metadata": {
      "image/png": {
       "height": 420,
       "width": 420
      }
     },
     "output_type": "display_data"
    }
   ],
   "source": [
    "with(subset(obs, region == \"3R\"), plot(density(Germline, adjust=1/4)))"
   ]
  },
  {
   "cell_type": "code",
   "execution_count": 54,
   "metadata": {
    "vscode": {
     "languageId": "r"
    }
   },
   "outputs": [
    {
     "data": {
      "text/plain": [
       "\n",
       "\tAsymptotic one-sample Kolmogorov-Smirnov test\n",
       "\n",
       "data:  with(subset(obs, region == \"3R\"), scale(Germline))\n",
       "D = 0.078059, p-value = 3.664e-15\n",
       "alternative hypothesis: two-sided\n"
      ]
     },
     "metadata": {},
     "output_type": "display_data"
    }
   ],
   "source": [
    "ks.test(\n",
    "  with(subset(obs, region == \"3R\"), scale(Germline)),\n",
    "  \"pnorm\"\n",
    ")"
   ]
  },
  {
   "cell_type": "code",
   "execution_count": 53,
   "metadata": {
    "vscode": {
     "languageId": "r"
    }
   },
   "outputs": [
    {
     "data": {
      "text/plain": [
       "\n",
       "\tAsymptotic one-sample Kolmogorov-Smirnov test\n",
       "\n",
       "data:  with(subset(obs, region == \"3R\"), scale(plogistanh(Germline)))\n",
       "D = 0.11628, p-value < 2.2e-16\n",
       "alternative hypothesis: two-sided\n"
      ]
     },
     "metadata": {},
     "output_type": "display_data"
    }
   ],
   "source": [
    "ks.test(\n",
    "  with(subset(obs, region == \"3R\"), scale(plogistanh(Germline))),\n",
    "  \"pnorm\"\n",
    ")"
   ]
  },
  {
   "cell_type": "code",
   "execution_count": 40,
   "metadata": {
    "vscode": {
     "languageId": "r"
    }
   },
   "outputs": [],
   "source": [
    "write.csv(\n",
    "  obs %>%\n",
    "    group_by(region) %>%\n",
    "    summarise(\n",
    "      t.statistic = t.test(Germline, Somatic)$statistic,\n",
    "      p.adjust = t.test(Germline, Somatic)$p.value,\n",
    "    ) %>%\n",
    "    mutate(p.adjust = p.adjust %>% p.adjust()),\n",
    "  row.names = F,\n",
    "  \"reports/Repli-T-Test.csv\"\n",
    ")"
   ]
  },
  {
   "cell_type": "markdown",
   "metadata": {},
   "source": [
    "ANOVA of Y Scaled & Testing the Posterior Distribution of the rDNA"
   ]
  },
  {
   "cell_type": "markdown",
   "metadata": {},
   "source": [
    "1: Recapitulate Y-Scaled Z Score"
   ]
  },
  {
   "cell_type": "code",
   "execution_count": 2,
   "metadata": {
    "vscode": {
     "languageId": "r"
    }
   },
   "outputs": [
    {
     "name": "stderr",
     "output_type": "stream",
     "text": [
      "Loading required package: viridisLite\n",
      "\n",
      "\n",
      "Attaching package: ‘dplyr’\n",
      "\n",
      "\n",
      "The following objects are masked from ‘package:stats’:\n",
      "\n",
      "    filter, lag\n",
      "\n",
      "\n",
      "The following objects are masked from ‘package:base’:\n",
      "\n",
      "    intersect, setdiff, setequal, union\n",
      "\n",
      "\n"
     ]
    }
   ],
   "source": [
    "source(\"_targets.R\")"
   ]
  },
  {
   "cell_type": "code",
   "execution_count": 3,
   "metadata": {
    "vscode": {
     "languageId": "r"
    }
   },
   "outputs": [],
   "source": [
    "line_cmap <- c(chic_line_track_colors$germline, chic_line_track_colors$somatic, hcl(50, 102, 57), hcl(255, 102, 57))\n",
    "\n",
    "library(forcats)\n",
    "\n",
    "tar_load(chic.tile.diameter_1000_chr)\n",
    "tar_load(matches(\"repli.timing_.*chr$\"))\n",
    "tar_load(chromosome_pericetromere_label)"
   ]
  },
  {
   "cell_type": "code",
   "execution_count": 4,
   "metadata": {
    "vscode": {
     "languageId": "r"
    }
   },
   "outputs": [
    {
     "name": "stderr",
     "output_type": "stream",
     "text": [
      "Loading required package: GenomicRanges\n",
      "\n",
      "Loading required package: stats4\n",
      "\n",
      "Loading required package: BiocGenerics\n",
      "\n",
      "\n",
      "Attaching package: ‘BiocGenerics’\n",
      "\n",
      "\n",
      "The following objects are masked from ‘package:dplyr’:\n",
      "\n",
      "    combine, intersect, setdiff, union\n",
      "\n",
      "\n",
      "The following objects are masked from ‘package:stats’:\n",
      "\n",
      "    IQR, mad, sd, var, xtabs\n",
      "\n",
      "\n",
      "The following objects are masked from ‘package:base’:\n",
      "\n",
      "    anyDuplicated, aperm, append, as.data.frame, basename, cbind,\n",
      "    colnames, dirname, do.call, duplicated, eval, evalq, Filter, Find,\n",
      "    get, grep, grepl, intersect, is.unsorted, lapply, Map, mapply,\n",
      "    match, mget, order, paste, pmax, pmax.int, pmin, pmin.int,\n",
      "    Position, rank, rbind, Reduce, rownames, sapply, setdiff, sort,\n",
      "    table, tapply, union, unique, unsplit, which.max, which.min\n",
      "\n",
      "\n",
      "Loading required package: S4Vectors\n",
      "\n",
      "\n",
      "Attaching package: ‘S4Vectors’\n",
      "\n",
      "\n",
      "The following objects are masked from ‘package:dplyr’:\n",
      "\n",
      "    first, rename\n",
      "\n",
      "\n",
      "The following object is masked from ‘package:utils’:\n",
      "\n",
      "    findMatches\n",
      "\n",
      "\n",
      "The following objects are masked from ‘package:base’:\n",
      "\n",
      "    expand.grid, I, unname\n",
      "\n",
      "\n",
      "Loading required package: IRanges\n",
      "\n",
      "\n",
      "Attaching package: ‘IRanges’\n",
      "\n",
      "\n",
      "The following objects are masked from ‘package:dplyr’:\n",
      "\n",
      "    collapse, desc, slice\n",
      "\n",
      "\n",
      "Loading required package: GenomeInfoDb\n",
      "\n",
      "\n",
      "Attaching package: ‘GenomicRanges’\n",
      "\n",
      "\n",
      "The following object is masked from ‘package:magrittr’:\n",
      "\n",
      "    subtract\n",
      "\n",
      "\n"
     ]
    },
    {
     "data": {
      "text/plain": [
       "GRanges object with 4 ranges and 0 metadata columns:\n",
       "      seqnames            ranges strand\n",
       "         <Rle>         <IRanges>  <Rle>\n",
       "  [1]       2L 22192401-23513712      *\n",
       "  [2]       2R         1-5651400      *\n",
       "  [3]       3L 23154101-28110227      *\n",
       "  [4]       3R         1-4229200      *\n",
       "  -------\n",
       "  seqinfo: 4 sequences from an unspecified genome; no seqlengths"
      ]
     },
     "metadata": {},
     "output_type": "display_data"
    }
   ],
   "source": [
    "chromosome_pericetromere_label"
   ]
  },
  {
   "cell_type": "code",
   "execution_count": 5,
   "metadata": {
    "vscode": {
     "languageId": "r"
    }
   },
   "outputs": [
    {
     "data": {
      "text/html": [
       "<table class=\"dataframe\">\n",
       "<caption>A tibble: 7 × 2</caption>\n",
       "<thead>\n",
       "\t<tr><th scope=col>name</th><th scope=col>value</th></tr>\n",
       "\t<tr><th scope=col>&lt;chr&gt;</th><th scope=col>&lt;dbl&gt;</th></tr>\n",
       "</thead>\n",
       "<tbody>\n",
       "\t<tr><td>2L</td><td>23.513712</td></tr>\n",
       "\t<tr><td>2R</td><td>25.286936</td></tr>\n",
       "\t<tr><td>3L</td><td>28.110227</td></tr>\n",
       "\t<tr><td>3R</td><td>32.079331</td></tr>\n",
       "\t<tr><td>4 </td><td> 1.348131</td></tr>\n",
       "\t<tr><td>X </td><td>23.542271</td></tr>\n",
       "\t<tr><td>Y </td><td> 3.667352</td></tr>\n",
       "</tbody>\n",
       "</table>\n"
      ],
      "text/latex": [
       "A tibble: 7 × 2\n",
       "\\begin{tabular}{ll}\n",
       " name & value\\\\\n",
       " <chr> & <dbl>\\\\\n",
       "\\hline\n",
       "\t 2L & 23.513712\\\\\n",
       "\t 2R & 25.286936\\\\\n",
       "\t 3L & 28.110227\\\\\n",
       "\t 3R & 32.079331\\\\\n",
       "\t 4  &  1.348131\\\\\n",
       "\t X  & 23.542271\\\\\n",
       "\t Y  &  3.667352\\\\\n",
       "\\end{tabular}\n"
      ],
      "text/markdown": [
       "\n",
       "A tibble: 7 × 2\n",
       "\n",
       "| name &lt;chr&gt; | value &lt;dbl&gt; |\n",
       "|---|---|\n",
       "| 2L | 23.513712 |\n",
       "| 2R | 25.286936 |\n",
       "| 3L | 28.110227 |\n",
       "| 3R | 32.079331 |\n",
       "| 4  |  1.348131 |\n",
       "| X  | 23.542271 |\n",
       "| Y  |  3.667352 |\n",
       "\n"
      ],
      "text/plain": [
       "  name value    \n",
       "1 2L   23.513712\n",
       "2 2R   25.286936\n",
       "3 3L   28.110227\n",
       "4 3R   32.079331\n",
       "5 4     1.348131\n",
       "6 X    23.542271\n",
       "7 Y     3.667352"
      ]
     },
     "metadata": {},
     "output_type": "display_data"
    }
   ],
   "source": [
    "enframe(chr.lengths/1000/1000)"
   ]
  },
  {
   "cell_type": "code",
   "execution_count": 6,
   "metadata": {
    "vscode": {
     "languageId": "r"
    }
   },
   "outputs": [],
   "source": [
    "Y <- tibble(\n",
    "  chr = names(chr.lengths),\n",
    "  xmin = 2500,\n",
    "  xmax = floor((chr.lengths - 2500) / 5000) * 5000,\n",
    "  Germline = list(repli.timing_Germline_chr),\n",
    "  Somatic = list(repli.timing_Somatic_chr),\n",
    "  Kc167 = list(repli.timing_Kc167_chr),\n",
    "  S2 = list(repli.timing_S2_chr),\n",
    ") %>%\n",
    "  group_by(chr, xmin, xmax) %>%\n",
    "  reframe(\n",
    "    x = seq(xmin, xmax, by = 5000),\n",
    "    region = (\n",
    "      as.character(chr) %>%\n",
    "        paste0(\n",
    "          replace(\n",
    "            rep(\"\", length(x)),\n",
    "            chromosome_pericetromere_label %>%\n",
    "              findOverlaps(\n",
    "                GRanges(\n",
    "                  chr,\n",
    "                  IRanges(x, width=1),\n",
    "                  seqlengths = seqlengths(repli.timing_Germline_chr)\n",
    "                )\n",
    "              ) %>%\n",
    "              to(),\n",
    "            \"C\"\n",
    "          )\n",
    "        ) %>%\n",
    "      factor(\n",
    "        c(\"2L\", \"2LC\", \"2RC\", \"2R\", \"3L\", \"3LC\", \"3RC\", \"3R\", \"4\", \"X\", \"Y\", \"rDNA\")\n",
    "      )\n",
    "    ),\n",
    "    across(\n",
    "      !matches(\"^(x|region)$\"),\n",
    "      list(\n",
    "        LOESS = ~ (\n",
    "          loess(\n",
    "            y.track ~ x.track,\n",
    "            tibble(\n",
    "              x.track = .x[[1]][seqnames(.x[[1]]) == chr] %>% mid(),\n",
    "              y.track = .x[[1]][seqnames(.x[[1]]) == chr]$score,\n",
    "            ),\n",
    "            span = 0.025\n",
    "          ) %>%\n",
    "          predict(tibble(x.track = x))\n",
    "        )\n",
    "      )\n",
    "    )\n",
    "  ) %>%\n",
    "  subset(select = -c(xmin, xmax))"
   ]
  },
  {
   "cell_type": "code",
   "execution_count": 7,
   "metadata": {
    "vscode": {
     "languageId": "r"
    }
   },
   "outputs": [
    {
     "data": {
      "text/html": [
       "0"
      ],
      "text/latex": [
       "0"
      ],
      "text/markdown": [
       "0"
      ],
      "text/plain": [
       "[1] 0"
      ]
     },
     "metadata": {},
     "output_type": "display_data"
    }
   ],
   "source": [
    "sum(is.na(Y$region))"
   ]
  },
  {
   "cell_type": "code",
   "execution_count": 8,
   "metadata": {
    "vscode": {
     "languageId": "r"
    }
   },
   "outputs": [
    {
     "data": {
      "text/html": [
       "<table class=\"dataframe\">\n",
       "<caption>A tibble: 6 × 7</caption>\n",
       "<thead>\n",
       "\t<tr><th scope=col>chr</th><th scope=col>x</th><th scope=col>region</th><th scope=col>Germline_LOESS</th><th scope=col>Somatic_LOESS</th><th scope=col>Kc167_LOESS</th><th scope=col>S2_LOESS</th></tr>\n",
       "\t<tr><th scope=col>&lt;chr&gt;</th><th scope=col>&lt;dbl&gt;</th><th scope=col>&lt;fct&gt;</th><th scope=col>&lt;dbl&gt;</th><th scope=col>&lt;dbl&gt;</th><th scope=col>&lt;dbl&gt;</th><th scope=col>&lt;dbl&gt;</th></tr>\n",
       "</thead>\n",
       "<tbody>\n",
       "\t<tr><td>Y   </td><td>3637500</td><td>Y   </td><td>-0.2551883</td><td>-0.2256387</td><td>-0.7050496</td><td>-0.4268229</td></tr>\n",
       "\t<tr><td>Y   </td><td>3642500</td><td>Y   </td><td>-0.2519863</td><td>-0.2102737</td><td>-0.6260181</td><td>-0.3906424</td></tr>\n",
       "\t<tr><td>Y   </td><td>3647500</td><td>Y   </td><td>-0.2497008</td><td>-0.1900902</td><td>-0.5144327</td><td>-0.3388503</td></tr>\n",
       "\t<tr><td>Y   </td><td>3652500</td><td>Y   </td><td>-0.2511598</td><td>-0.1643056</td><td>-0.3685433</td><td>-0.2707145</td></tr>\n",
       "\t<tr><td>Y   </td><td>3657500</td><td>Y   </td><td>-0.2629694</td><td>-0.1327978</td><td>-0.1852171</td><td>-0.1852090</td></tr>\n",
       "\t<tr><td>rDNA</td><td>  57000</td><td>rDNA</td><td> 1.2700077</td><td>-1.5555987</td><td>-1.9353602</td><td>-2.7976166</td></tr>\n",
       "</tbody>\n",
       "</table>\n"
      ],
      "text/latex": [
       "A tibble: 6 × 7\n",
       "\\begin{tabular}{lllllll}\n",
       " chr & x & region & Germline\\_LOESS & Somatic\\_LOESS & Kc167\\_LOESS & S2\\_LOESS\\\\\n",
       " <chr> & <dbl> & <fct> & <dbl> & <dbl> & <dbl> & <dbl>\\\\\n",
       "\\hline\n",
       "\t Y    & 3637500 & Y    & -0.2551883 & -0.2256387 & -0.7050496 & -0.4268229\\\\\n",
       "\t Y    & 3642500 & Y    & -0.2519863 & -0.2102737 & -0.6260181 & -0.3906424\\\\\n",
       "\t Y    & 3647500 & Y    & -0.2497008 & -0.1900902 & -0.5144327 & -0.3388503\\\\\n",
       "\t Y    & 3652500 & Y    & -0.2511598 & -0.1643056 & -0.3685433 & -0.2707145\\\\\n",
       "\t Y    & 3657500 & Y    & -0.2629694 & -0.1327978 & -0.1852171 & -0.1852090\\\\\n",
       "\t rDNA &   57000 & rDNA &  1.2700077 & -1.5555987 & -1.9353602 & -2.7976166\\\\\n",
       "\\end{tabular}\n"
      ],
      "text/markdown": [
       "\n",
       "A tibble: 6 × 7\n",
       "\n",
       "| chr &lt;chr&gt; | x &lt;dbl&gt; | region &lt;fct&gt; | Germline_LOESS &lt;dbl&gt; | Somatic_LOESS &lt;dbl&gt; | Kc167_LOESS &lt;dbl&gt; | S2_LOESS &lt;dbl&gt; |\n",
       "|---|---|---|---|---|---|---|\n",
       "| Y    | 3637500 | Y    | -0.2551883 | -0.2256387 | -0.7050496 | -0.4268229 |\n",
       "| Y    | 3642500 | Y    | -0.2519863 | -0.2102737 | -0.6260181 | -0.3906424 |\n",
       "| Y    | 3647500 | Y    | -0.2497008 | -0.1900902 | -0.5144327 | -0.3388503 |\n",
       "| Y    | 3652500 | Y    | -0.2511598 | -0.1643056 | -0.3685433 | -0.2707145 |\n",
       "| Y    | 3657500 | Y    | -0.2629694 | -0.1327978 | -0.1852171 | -0.1852090 |\n",
       "| rDNA |   57000 | rDNA |  1.2700077 | -1.5555987 | -1.9353602 | -2.7976166 |\n",
       "\n"
      ],
      "text/plain": [
       "    chr  x       region Germline_LOESS Somatic_LOESS Kc167_LOESS S2_LOESS  \n",
       "728 Y    3637500 Y      -0.2551883     -0.2256387    -0.7050496  -0.4268229\n",
       "729 Y    3642500 Y      -0.2519863     -0.2102737    -0.6260181  -0.3906424\n",
       "730 Y    3647500 Y      -0.2497008     -0.1900902    -0.5144327  -0.3388503\n",
       "731 Y    3652500 Y      -0.2511598     -0.1643056    -0.3685433  -0.2707145\n",
       "732 Y    3657500 Y      -0.2629694     -0.1327978    -0.1852171  -0.1852090\n",
       "    rDNA   57000 rDNA    1.2700077     -1.5555987    -1.9353602  -2.7976166"
      ]
     },
     "metadata": {},
     "output_type": "display_data"
    }
   ],
   "source": [
    "rDNA <- mapply(\n",
    "  \\(gr, v_orig) (\n",
    "    (\n",
    "      gr[\n",
    "        seqnames(gr) == \"rDNA\" &\n",
    "          between(mid(gr), 37000, 77000)\n",
    "      ]$score %>%\n",
    "        mean()\n",
    "    ) -\n",
    "      mean(v_orig)\n",
    "  ) /\n",
    "    sd(v_orig),\n",
    "  list(\n",
    "    repli.timing_Germline_chr,\n",
    "    repli.timing_Somatic_chr,\n",
    "    repli.timing_Kc167_chr,\n",
    "    repli.timing_S2_chr\n",
    "  ),\n",
    "  Y[\n",
    "    c(\"Germline_LOESS\", \"Somatic_LOESS\", \"Kc167_LOESS\", \"S2_LOESS\")\n",
    "  ]\n",
    ")\n",
    "Y <- rbind(\n",
    "  Y,\n",
    "  tibble(\n",
    "    chr = \"rDNA\",\n",
    "    x = 57000,\n",
    "    region = \"rDNA\",\n",
    "    as_tibble(\n",
    "      setNames(\n",
    "        as.list(rDNA),\n",
    "        colnames(Y)[4:7]\n",
    "      )\n",
    "    )\n",
    "  )\n",
    ")\n",
    "tail(Y)"
   ]
  },
  {
   "cell_type": "code",
   "execution_count": 9,
   "metadata": {
    "vscode": {
     "languageId": "r"
    }
   },
   "outputs": [
    {
     "data": {
      "text/html": [
       "<table class=\"dataframe\">\n",
       "<caption>A tibble: 6 × 7</caption>\n",
       "<thead>\n",
       "\t<tr><th scope=col>chr</th><th scope=col>x</th><th scope=col>region</th><th scope=col>Germline_LOESS</th><th scope=col>Somatic_LOESS</th><th scope=col>Kc167_LOESS</th><th scope=col>S2_LOESS</th></tr>\n",
       "\t<tr><th scope=col>&lt;chr&gt;</th><th scope=col>&lt;dbl&gt;</th><th scope=col>&lt;fct&gt;</th><th scope=col>&lt;dbl&gt;</th><th scope=col>&lt;dbl&gt;</th><th scope=col>&lt;dbl&gt;</th><th scope=col>&lt;dbl&gt;</th></tr>\n",
       "</thead>\n",
       "<tbody>\n",
       "\t<tr><td>Y   </td><td>3637500</td><td>Y   </td><td>-0.2551883</td><td>-0.2256387</td><td>      NA</td><td>-0.4268229</td></tr>\n",
       "\t<tr><td>Y   </td><td>3642500</td><td>Y   </td><td>-0.2519863</td><td>-0.2102737</td><td>      NA</td><td>-0.3906424</td></tr>\n",
       "\t<tr><td>Y   </td><td>3647500</td><td>Y   </td><td>-0.2497008</td><td>-0.1900902</td><td>      NA</td><td>-0.3388503</td></tr>\n",
       "\t<tr><td>Y   </td><td>3652500</td><td>Y   </td><td>-0.2511598</td><td>-0.1643056</td><td>      NA</td><td>-0.2707145</td></tr>\n",
       "\t<tr><td>Y   </td><td>3657500</td><td>Y   </td><td>-0.2629694</td><td>-0.1327978</td><td>      NA</td><td>-0.1852090</td></tr>\n",
       "\t<tr><td>rDNA</td><td>  57000</td><td>rDNA</td><td> 1.2700077</td><td>-1.5555987</td><td>-1.93536</td><td>-2.7976166</td></tr>\n",
       "</tbody>\n",
       "</table>\n"
      ],
      "text/latex": [
       "A tibble: 6 × 7\n",
       "\\begin{tabular}{lllllll}\n",
       " chr & x & region & Germline\\_LOESS & Somatic\\_LOESS & Kc167\\_LOESS & S2\\_LOESS\\\\\n",
       " <chr> & <dbl> & <fct> & <dbl> & <dbl> & <dbl> & <dbl>\\\\\n",
       "\\hline\n",
       "\t Y    & 3637500 & Y    & -0.2551883 & -0.2256387 &       NA & -0.4268229\\\\\n",
       "\t Y    & 3642500 & Y    & -0.2519863 & -0.2102737 &       NA & -0.3906424\\\\\n",
       "\t Y    & 3647500 & Y    & -0.2497008 & -0.1900902 &       NA & -0.3388503\\\\\n",
       "\t Y    & 3652500 & Y    & -0.2511598 & -0.1643056 &       NA & -0.2707145\\\\\n",
       "\t Y    & 3657500 & Y    & -0.2629694 & -0.1327978 &       NA & -0.1852090\\\\\n",
       "\t rDNA &   57000 & rDNA &  1.2700077 & -1.5555987 & -1.93536 & -2.7976166\\\\\n",
       "\\end{tabular}\n"
      ],
      "text/markdown": [
       "\n",
       "A tibble: 6 × 7\n",
       "\n",
       "| chr &lt;chr&gt; | x &lt;dbl&gt; | region &lt;fct&gt; | Germline_LOESS &lt;dbl&gt; | Somatic_LOESS &lt;dbl&gt; | Kc167_LOESS &lt;dbl&gt; | S2_LOESS &lt;dbl&gt; |\n",
       "|---|---|---|---|---|---|---|\n",
       "| Y    | 3637500 | Y    | -0.2551883 | -0.2256387 |       NA | -0.4268229 |\n",
       "| Y    | 3642500 | Y    | -0.2519863 | -0.2102737 |       NA | -0.3906424 |\n",
       "| Y    | 3647500 | Y    | -0.2497008 | -0.1900902 |       NA | -0.3388503 |\n",
       "| Y    | 3652500 | Y    | -0.2511598 | -0.1643056 |       NA | -0.2707145 |\n",
       "| Y    | 3657500 | Y    | -0.2629694 | -0.1327978 |       NA | -0.1852090 |\n",
       "| rDNA |   57000 | rDNA |  1.2700077 | -1.5555987 | -1.93536 | -2.7976166 |\n",
       "\n"
      ],
      "text/plain": [
       "    chr  x       region Germline_LOESS Somatic_LOESS Kc167_LOESS S2_LOESS  \n",
       "728 Y    3637500 Y      -0.2551883     -0.2256387          NA    -0.4268229\n",
       "729 Y    3642500 Y      -0.2519863     -0.2102737          NA    -0.3906424\n",
       "730 Y    3647500 Y      -0.2497008     -0.1900902          NA    -0.3388503\n",
       "731 Y    3652500 Y      -0.2511598     -0.1643056          NA    -0.2707145\n",
       "732 Y    3657500 Y      -0.2629694     -0.1327978          NA    -0.1852090\n",
       "    rDNA   57000 rDNA    1.2700077     -1.5555987    -1.93536    -2.7976166"
      ]
     },
     "metadata": {},
     "output_type": "display_data"
    }
   ],
   "source": [
    "Y[Y$chr == \"Y\", 4:7] <- (\n",
    "  Y[Y$chr == \"Y\", c(4, 5, 7)] %>%\n",
    "    as.matrix() %>%\n",
    "    `%*%`(\n",
    "      matrix(\n",
    "        c(\n",
    "          1, 0, 0,\n",
    "          0, 1, 0,\n",
    "          NA, NA, NA,\n",
    "          0, 0, 1\n",
    "        ),\n",
    "        nrow = 3,\n",
    "        dimnames = list(\n",
    "          NULL,\n",
    "          colnames(Y)[4:7]\n",
    "        )\n",
    "      )\n",
    "    )\n",
    ")\n",
    "tail(Y)"
   ]
  },
  {
   "cell_type": "code",
   "execution_count": 10,
   "metadata": {
    "vscode": {
     "languageId": "r"
    }
   },
   "outputs": [
    {
     "data": {
      "image/png": "[encoded data removed]",
      "text/plain": [
       "plot without title"
      ]
     },
     "metadata": {
      "image/png": {
       "height": 420,
       "width": 420
      }
     },
     "output_type": "display_data"
    }
   ],
   "source": [
    "with(subset(Y, region == \"2L\" & between(x, 9*1000*1000, 13*1000*1000)), plot(x/1000, S2_LOESS, type='l'))\n"
   ]
  },
  {
   "cell_type": "code",
   "execution_count": 11,
   "metadata": {
    "vscode": {
     "languageId": "r"
    }
   },
   "outputs": [
    {
     "data": {
      "text/html": [
       "<table class=\"dataframe\">\n",
       "<caption>A matrix: 6 × 4 of type dbl</caption>\n",
       "<thead>\n",
       "\t<tr><th></th><th scope=col>Germline_LOESS</th><th scope=col>Somatic_LOESS</th><th scope=col>Kc167_LOESS</th><th scope=col>S2_LOESS</th></tr>\n",
       "</thead>\n",
       "<tbody>\n",
       "\t<tr><th scope=row>[27498,]</th><td> 0.07483779</td><td> 0.9604786</td><td> 0.000000</td><td>-1.03531642</td></tr>\n",
       "\t<tr><th scope=row>[27499,]</th><td>-0.04177535</td><td> 1.0202330</td><td> 0.000000</td><td>-0.97845767</td></tr>\n",
       "\t<tr><th scope=row>[27500,]</th><td>-0.26002646</td><td> 1.1043282</td><td> 0.000000</td><td>-0.84430175</td></tr>\n",
       "\t<tr><th scope=row>[27501,]</th><td>-0.63157211</td><td> 1.1529464</td><td> 0.000000</td><td>-0.52137433</td></tr>\n",
       "\t<tr><th scope=row>[27502,]</th><td>-1.02107990</td><td> 0.9774948</td><td> 0.000000</td><td> 0.04358505</td></tr>\n",
       "\t<tr><th scope=row>[27503,]</th><td> 1.34525780</td><td>-0.1381486</td><td>-0.133108</td><td>-1.07400125</td></tr>\n",
       "</tbody>\n",
       "</table>\n"
      ],
      "text/latex": [
       "A matrix: 6 × 4 of type dbl\n",
       "\\begin{tabular}{r|llll}\n",
       "  & Germline\\_LOESS & Somatic\\_LOESS & Kc167\\_LOESS & S2\\_LOESS\\\\\n",
       "\\hline\n",
       "\t{[}27498,{]} &  0.07483779 &  0.9604786 &  0.000000 & -1.03531642\\\\\n",
       "\t{[}27499,{]} & -0.04177535 &  1.0202330 &  0.000000 & -0.97845767\\\\\n",
       "\t{[}27500,{]} & -0.26002646 &  1.1043282 &  0.000000 & -0.84430175\\\\\n",
       "\t{[}27501,{]} & -0.63157211 &  1.1529464 &  0.000000 & -0.52137433\\\\\n",
       "\t{[}27502,{]} & -1.02107990 &  0.9774948 &  0.000000 &  0.04358505\\\\\n",
       "\t{[}27503,{]} &  1.34525780 & -0.1381486 & -0.133108 & -1.07400125\\\\\n",
       "\\end{tabular}\n"
      ],
      "text/markdown": [
       "\n",
       "A matrix: 6 × 4 of type dbl\n",
       "\n",
       "| <!--/--> | Germline_LOESS | Somatic_LOESS | Kc167_LOESS | S2_LOESS |\n",
       "|---|---|---|---|---|\n",
       "| [27498,] |  0.07483779 |  0.9604786 |  0.000000 | -1.03531642 |\n",
       "| [27499,] | -0.04177535 |  1.0202330 |  0.000000 | -0.97845767 |\n",
       "| [27500,] | -0.26002646 |  1.1043282 |  0.000000 | -0.84430175 |\n",
       "| [27501,] | -0.63157211 |  1.1529464 |  0.000000 | -0.52137433 |\n",
       "| [27502,] | -1.02107990 |  0.9774948 |  0.000000 |  0.04358505 |\n",
       "| [27503,] |  1.34525780 | -0.1381486 | -0.133108 | -1.07400125 |\n",
       "\n"
      ],
      "text/plain": [
       "         Germline_LOESS Somatic_LOESS Kc167_LOESS S2_LOESS   \n",
       "[27498,]  0.07483779     0.9604786     0.000000   -1.03531642\n",
       "[27499,] -0.04177535     1.0202330     0.000000   -0.97845767\n",
       "[27500,] -0.26002646     1.1043282     0.000000   -0.84430175\n",
       "[27501,] -0.63157211     1.1529464     0.000000   -0.52137433\n",
       "[27502,] -1.02107990     0.9774948     0.000000    0.04358505\n",
       "[27503,]  1.34525780    -0.1381486    -0.133108   -1.07400125"
      ]
     },
     "metadata": {},
     "output_type": "display_data"
    },
    {
     "name": "stdout",
     "output_type": "stream",
     "text": [
      "\u001b[90m# A tibble: 4 × 5\u001b[39m\n",
      "  individual         PC1    PC2   PC3       PC4\n",
      "  \u001b[3m\u001b[90m<chr>\u001b[39m\u001b[23m            \u001b[3m\u001b[90m<dbl>\u001b[39m\u001b[23m  \u001b[3m\u001b[90m<dbl>\u001b[39m\u001b[23m \u001b[3m\u001b[90m<dbl>\u001b[39m\u001b[23m     \u001b[3m\u001b[90m<dbl>\u001b[39m\u001b[23m\n",
      "\u001b[90m1\u001b[39m Germline_LOESS -\u001b[31m146\u001b[39m\u001b[31m.\u001b[39m     39.2 -\u001b[31m25\u001b[39m\u001b[31m.\u001b[39m\u001b[31m7\u001b[39m  4.76\u001b[90me\u001b[39m\u001b[31m-13\u001b[39m\n",
      "\u001b[90m2\u001b[39m Somatic_LOESS    92.9   119.  -\u001b[31m12\u001b[39m\u001b[31m.\u001b[39m\u001b[31m5\u001b[39m -\u001b[31m1\u001b[39m\u001b[31m.\u001b[39m\u001b[31m38\u001b[39m\u001b[90me\u001b[39m\u001b[31m-12\u001b[39m\n",
      "\u001b[90m3\u001b[39m Kc167_LOESS       7.59  -\u001b[31m50\u001b[39m\u001b[31m.\u001b[39m\u001b[31m0\u001b[39m 114.   8.70\u001b[90me\u001b[39m\u001b[31m-13\u001b[39m\n",
      "\u001b[90m4\u001b[39m S2_LOESS         45.8  -\u001b[31m108\u001b[39m\u001b[31m.\u001b[39m  -\u001b[31m75\u001b[39m\u001b[31m.\u001b[39m\u001b[31m7\u001b[39m  5.07\u001b[90me\u001b[39m\u001b[31m-14\u001b[39m\n"
     ]
    }
   ],
   "source": [
    "YS <- Y[\n",
    "  c(\"Germline_LOESS\", \"Somatic_LOESS\", \"Kc167_LOESS\", \"S2_LOESS\")\n",
    "] %>%\n",
    "  as.matrix() %>%\n",
    "  scale() %>%\n",
    "  t() %>%\n",
    "  scale() %>%\n",
    "  t()\n",
    "YS[Y$chr == \"Y\", ] <- (\n",
    "  YS[Y$chr == \"Y\", c(1, 2, 4)] %>%\n",
    "    t() %>%\n",
    "    scale() %>%\n",
    "    t() %>%\n",
    "    `%*%`(\n",
    "      matrix(\n",
    "        c(\n",
    "          1, 0, 0,\n",
    "          0, 1, 0,\n",
    "          0, 0, 0,\n",
    "          0, 0, 1\n",
    "        ),\n",
    "        nrow = 3,\n",
    "        dimnames = list(\n",
    "          NULL,\n",
    "          colnames(Y)[4:7]\n",
    "        )\n",
    "      )\n",
    "    )\n",
    ")\n",
    "tail(YS)\n",
    "\n",
    "PCA <- prcomp(t(YS))\n",
    "PCA$x %>%\n",
    "  as.data.frame() %>%\n",
    "  rownames_to_column(\"individual\") %>%\n",
    "  as_tibble() %>%\n",
    "  print()\n"
   ]
  },
  {
   "cell_type": "code",
   "execution_count": 12,
   "metadata": {
    "vscode": {
     "languageId": "r"
    }
   },
   "outputs": [
    {
     "data": {
      "image/png": "[encoded data removed]",
      "text/plain": [
       "Plot with title “density(x = YS[Y$region == \"2L\", 1], bw = 0.5)”"
      ]
     },
     "metadata": {
      "image/png": {
       "height": 420,
       "width": 420
      }
     },
     "output_type": "display_data"
    }
   ],
   "source": [
    "plot(density(YS[Y$region == \"2L\", 1], bw=0.5))"
   ]
  },
  {
   "cell_type": "code",
   "execution_count": 13,
   "metadata": {
    "vscode": {
     "languageId": "r"
    }
   },
   "outputs": [
    {
     "name": "stdout",
     "output_type": "stream",
     "text": [
      "Germline_LOESS  Somatic_LOESS    Kc167_LOESS       S2_LOESS \n",
      "     0.9606863      0.9164612      0.7095344      0.8497575 \n"
     ]
    }
   ],
   "source": [
    "print(apply(YS[Y$region == \"2L\", ], 2, sd))"
   ]
  },
  {
   "cell_type": "code",
   "execution_count": 14,
   "metadata": {
    "vscode": {
     "languageId": "r"
    }
   },
   "outputs": [
    {
     "name": "stdout",
     "output_type": "stream",
     "text": [
      "\u001b[90m# A tibble: 18,524 × 3\u001b[39m\n",
      "    Var1 Var2           value\n",
      "   \u001b[3m\u001b[90m<int>\u001b[39m\u001b[23m \u001b[3m\u001b[90m<fct>\u001b[39m\u001b[23m          \u001b[3m\u001b[90m<dbl>\u001b[39m\u001b[23m\n",
      "\u001b[90m 1\u001b[39m     1 Germline_LOESS 0.935\n",
      "\u001b[90m 2\u001b[39m     2 Germline_LOESS 0.945\n",
      "\u001b[90m 3\u001b[39m     3 Germline_LOESS 0.955\n",
      "\u001b[90m 4\u001b[39m     4 Germline_LOESS 0.966\n",
      "\u001b[90m 5\u001b[39m     5 Germline_LOESS 0.976\n",
      "\u001b[90m 6\u001b[39m     6 Germline_LOESS 0.987\n",
      "\u001b[90m 7\u001b[39m     7 Germline_LOESS 0.998\n",
      "\u001b[90m 8\u001b[39m     8 Germline_LOESS 1.01 \n",
      "\u001b[90m 9\u001b[39m     9 Germline_LOESS 1.02 \n",
      "\u001b[90m10\u001b[39m    10 Germline_LOESS 1.03 \n",
      "\u001b[90m# ℹ 18,514 more rows\u001b[39m\n"
     ]
    }
   ],
   "source": [
    "print(as_tibble(melt(YS[Y$region == \"3L\", ])))"
   ]
  },
  {
   "cell_type": "code",
   "execution_count": 15,
   "metadata": {
    "vscode": {
     "languageId": "r"
    }
   },
   "outputs": [
    {
     "data": {
      "text/html": [
       "<table class=\"dataframe\">\n",
       "<caption>A anova: 2 × 5</caption>\n",
       "<thead>\n",
       "\t<tr><th></th><th scope=col>Df</th><th scope=col>Sum Sq</th><th scope=col>Mean Sq</th><th scope=col>F value</th><th scope=col>Pr(&gt;F)</th></tr>\n",
       "\t<tr><th></th><th scope=col>&lt;int&gt;</th><th scope=col>&lt;dbl&gt;</th><th scope=col>&lt;dbl&gt;</th><th scope=col>&lt;dbl&gt;</th><th scope=col>&lt;dbl&gt;</th></tr>\n",
       "</thead>\n",
       "<tbody>\n",
       "\t<tr><th scope=row>Var2</th><td>   3</td><td>  36.53697</td><td>12.1789891</td><td>16.35716</td><td>1.382548e-10</td></tr>\n",
       "\t<tr><th scope=row>Residuals</th><td>6172</td><td>4595.46303</td><td> 0.7445663</td><td>      NA</td><td>          NA</td></tr>\n",
       "</tbody>\n",
       "</table>\n"
      ],
      "text/latex": [
       "A anova: 2 × 5\n",
       "\\begin{tabular}{r|lllll}\n",
       "  & Df & Sum Sq & Mean Sq & F value & Pr(>F)\\\\\n",
       "  & <int> & <dbl> & <dbl> & <dbl> & <dbl>\\\\\n",
       "\\hline\n",
       "\tVar2 &    3 &   36.53697 & 12.1789891 & 16.35716 & 1.382548e-10\\\\\n",
       "\tResiduals & 6172 & 4595.46303 &  0.7445663 &       NA &           NA\\\\\n",
       "\\end{tabular}\n"
      ],
      "text/markdown": [
       "\n",
       "A anova: 2 × 5\n",
       "\n",
       "| <!--/--> | Df &lt;int&gt; | Sum Sq &lt;dbl&gt; | Mean Sq &lt;dbl&gt; | F value &lt;dbl&gt; | Pr(&gt;F) &lt;dbl&gt; |\n",
       "|---|---|---|---|---|---|\n",
       "| Var2 |    3 |   36.53697 | 12.1789891 | 16.35716 | 1.382548e-10 |\n",
       "| Residuals | 6172 | 4595.46303 |  0.7445663 |       NA |           NA |\n",
       "\n"
      ],
      "text/plain": [
       "          Df   Sum Sq     Mean Sq    F value  Pr(>F)      \n",
       "Var2         3   36.53697 12.1789891 16.35716 1.382548e-10\n",
       "Residuals 6172 4595.46303  0.7445663       NA           NA"
      ]
     },
     "metadata": {},
     "output_type": "display_data"
    }
   ],
   "source": [
    "lm(\n",
    "  value ~ Var2,\n",
    "  melt(YS[Y$region == \"3L\", ]),\n",
    "  subset = Var1 %% 3 == 1\n",
    ") %>%\n",
    "  anova()"
   ]
  },
  {
   "cell_type": "code",
   "execution_count": 16,
   "metadata": {
    "vscode": {
     "languageId": "r"
    }
   },
   "outputs": [
    {
     "data": {
      "text/html": [
       "<table class=\"dataframe\">\n",
       "<caption>A anova: 2 × 5</caption>\n",
       "<thead>\n",
       "\t<tr><th></th><th scope=col>Df</th><th scope=col>Sum Sq</th><th scope=col>Mean Sq</th><th scope=col>F value</th><th scope=col>Pr(&gt;F)</th></tr>\n",
       "\t<tr><th></th><th scope=col>&lt;int&gt;</th><th scope=col>&lt;dbl&gt;</th><th scope=col>&lt;dbl&gt;</th><th scope=col>&lt;dbl&gt;</th><th scope=col>&lt;dbl&gt;</th></tr>\n",
       "</thead>\n",
       "<tbody>\n",
       "\t<tr><th scope=row>Var2</th><td>  3</td><td>  4.722028</td><td>1.5740094</td><td>2.103907</td><td>0.09816497</td></tr>\n",
       "\t<tr><th scope=row>Residuals</th><td>924</td><td>691.277972</td><td>0.7481363</td><td>      NA</td><td>        NA</td></tr>\n",
       "</tbody>\n",
       "</table>\n"
      ],
      "text/latex": [
       "A anova: 2 × 5\n",
       "\\begin{tabular}{r|lllll}\n",
       "  & Df & Sum Sq & Mean Sq & F value & Pr(>F)\\\\\n",
       "  & <int> & <dbl> & <dbl> & <dbl> & <dbl>\\\\\n",
       "\\hline\n",
       "\tVar2 &   3 &   4.722028 & 1.5740094 & 2.103907 & 0.09816497\\\\\n",
       "\tResiduals & 924 & 691.277972 & 0.7481363 &       NA &         NA\\\\\n",
       "\\end{tabular}\n"
      ],
      "text/markdown": [
       "\n",
       "A anova: 2 × 5\n",
       "\n",
       "| <!--/--> | Df &lt;int&gt; | Sum Sq &lt;dbl&gt; | Mean Sq &lt;dbl&gt; | F value &lt;dbl&gt; | Pr(&gt;F) &lt;dbl&gt; |\n",
       "|---|---|---|---|---|---|\n",
       "| Var2 |   3 |   4.722028 | 1.5740094 | 2.103907 | 0.09816497 |\n",
       "| Residuals | 924 | 691.277972 | 0.7481363 |       NA |         NA |\n",
       "\n"
      ],
      "text/plain": [
       "          Df  Sum Sq     Mean Sq   F value  Pr(>F)    \n",
       "Var2        3   4.722028 1.5740094 2.103907 0.09816497\n",
       "Residuals 924 691.277972 0.7481363       NA         NA"
      ]
     },
     "metadata": {},
     "output_type": "display_data"
    }
   ],
   "source": [
    "lm(\n",
    "  value ~ Var2,\n",
    "  melt(YS[Y$region == \"3L\", ]),\n",
    "  subset = Var1 %% 20 == 10\n",
    ") %>%\n",
    "  anova()"
   ]
  },
  {
   "cell_type": "code",
   "execution_count": 17,
   "metadata": {
    "vscode": {
     "languageId": "r"
    }
   },
   "outputs": [
    {
     "data": {
      "text/plain": [
       "GRanges object with 1 range and 2 metadata columns:\n",
       "                       seqnames     ranges strand |   NegDiff   PosDiff\n",
       "                          <Rle>  <IRanges>  <Rle> | <numeric> <numeric>\n",
       "  rDNA.GermlineEarlier     rDNA 1001-76973      * | -0.440438   1.35072\n",
       "  -------\n",
       "  seqinfo: 1870 sequences from an unspecified genome; no seqlengths"
      ]
     },
     "metadata": {},
     "output_type": "display_data"
    }
   ],
   "source": [
    "tar_load(repli.peaks_chr)\n",
    "\n",
    "repli.peaks_chr$Dynamic_Static_Model %>% subset(seqnames == \"rDNA\")"
   ]
  },
  {
   "cell_type": "code",
   "execution_count": 18,
   "metadata": {
    "vscode": {
     "languageId": "r"
    }
   },
   "outputs": [
    {
     "data": {
      "text/plain": [
       "     Min.   1st Qu.    Median      Mean   3rd Qu.      Max. \n",
       "7.560e+02 1.150e+09 8.137e+10 8.107e+11 6.205e+11 1.349e+13 "
      ]
     },
     "metadata": {},
     "output_type": "display_data"
    }
   ],
   "source": [
    "tar_load(repli.bayes.factor_chr)\n",
    "\n",
    "subset(repli.bayes.factor_chr, seqnames == \"rDNA\" & between(start, 37001, 77000)) %>%\n",
    "  `$`(\"Dynamic_Static_Model\") %>%\n",
    "  summary()"
   ]
  },
  {
   "cell_type": "code",
   "execution_count": 19,
   "metadata": {
    "vscode": {
     "languageId": "r"
    }
   },
   "outputs": [
    {
     "name": "stdout",
     "output_type": "stream",
     "text": [
      "region\tp.adjust\tsignif\n",
      "2L\t0.296626070989817\t\n",
      "2LC\t7.64025099231965e-11\t****\n",
      "2RC\t0.000985524185941884\t***\n",
      "2R\t0.294494897069863\t\n",
      "3L\t0.294494897069863\t\n",
      "3LC\t0.260724336194536\t\n",
      "3RC\t5.35786053113541e-28\t****\n",
      "3R\t7.64025099231965e-11\t****\n",
      "4\t8.86099917222918e-08\t****\n",
      "X\t1.61707555913234e-45\t****\n",
      "Y\t8.90622683773367e-13\t****\n",
      "rDNA\t8.60267290110591e-11\t****\n"
     ]
    }
   ],
   "source": [
    "write.table(\n",
    "  tibble(\n",
    "    region = levels(Y$region),\n",
    "    p.adjust = p.adjust(\n",
    "      c(\n",
    "        sapply(\n",
    "          region[1:11],\n",
    "          \\(region) lm(\n",
    "            value ~ Var2,\n",
    "            melt(YS[Y$region == region, ]),\n",
    "            subset = Var1 %% 20 == 10\n",
    "          ) %>%\n",
    "            anova() %>%\n",
    "            `[`(\n",
    "              \"Var2\",\n",
    "              \"Pr(>F)\"\n",
    "            )\n",
    "        ),\n",
    "        1 / median(\n",
    "          subset(repli.bayes.factor_chr, seqnames == \"rDNA\" & between(start, 37001, 77000)) %>%\n",
    "            `$`(\"Dynamic_Static_Model\")\n",
    "        )\n",
    "      )\n",
    "    ),\n",
    "    signif = structure(\n",
    "      cut(\n",
    "        p.adjust,\n",
    "        c(-Inf, 1e-4, 1e-3, 1e-2, 5e-2, 1)\n",
    "      ),\n",
    "      levels = c(\"****\", \"***\", \"**\", \"*\", \"\"),\n",
    "      class = \"factor\"\n",
    "    )\n",
    "  ),\n",
    "  quote=F,\n",
    "  sep=\"\\t\",\n",
    "  row.names=F\n",
    ")"
   ]
  },
  {
   "cell_type": "markdown",
   "metadata": {},
   "source": [
    "Fisher's Exact Test of Individual Chromatin Regions In Terms of Replication Regime"
   ]
  },
  {
   "cell_type": "code",
   "execution_count": 1,
   "metadata": {
    "vscode": {
     "languageId": "r"
    }
   },
   "outputs": [
    {
     "name": "stderr",
     "output_type": "stream",
     "text": [
      "\n",
      "Attaching package: ‘dplyr’\n",
      "\n",
      "\n",
      "The following objects are masked from ‘package:stats’:\n",
      "\n",
      "    filter, lag\n",
      "\n",
      "\n",
      "The following objects are masked from ‘package:base’:\n",
      "\n",
      "    intersect, setdiff, setequal, union\n",
      "\n",
      "\n"
     ]
    }
   ],
   "source": [
    "library(dplyr)\n",
    "library(targets)\n",
    "library(withr)"
   ]
  },
  {
   "cell_type": "code",
   "execution_count": 12,
   "metadata": {
    "vscode": {
     "languageId": "r"
    }
   },
   "outputs": [],
   "source": [
    "tar_load(\n",
    "  c(\n",
    "    chromosome_pericetromere_label,\n",
    "    repli.peaks_chr,\n",
    "    chic.tile.diameter_1000_chr\n",
    "  )\n",
    ")"
   ]
  },
  {
   "cell_type": "code",
   "execution_count": 5,
   "metadata": {
    "vscode": {
     "languageId": "r"
    }
   },
   "outputs": [
    {
     "name": "stderr",
     "output_type": "stream",
     "text": [
      "Loading required package: stats4\n",
      "\n",
      "Loading required package: BiocGenerics\n",
      "\n",
      "\n",
      "Attaching package: ‘BiocGenerics’\n",
      "\n",
      "\n",
      "The following objects are masked from ‘package:dplyr’:\n",
      "\n",
      "    combine, intersect, setdiff, union\n",
      "\n",
      "\n",
      "The following objects are masked from ‘package:stats’:\n",
      "\n",
      "    IQR, mad, sd, var, xtabs\n",
      "\n",
      "\n",
      "The following objects are masked from ‘package:base’:\n",
      "\n",
      "    anyDuplicated, aperm, append, as.data.frame, basename, cbind,\n",
      "    colnames, dirname, do.call, duplicated, eval, evalq, Filter, Find,\n",
      "    get, grep, grepl, intersect, is.unsorted, lapply, Map, mapply,\n",
      "    match, mget, order, paste, pmax, pmax.int, pmin, pmin.int,\n",
      "    Position, rank, rbind, Reduce, rownames, sapply, setdiff, sort,\n",
      "    table, tapply, union, unique, unsplit, which.max, which.min\n",
      "\n",
      "\n",
      "Loading required package: S4Vectors\n",
      "\n",
      "\n",
      "Attaching package: ‘S4Vectors’\n",
      "\n",
      "\n",
      "The following objects are masked from ‘package:dplyr’:\n",
      "\n",
      "    first, rename\n",
      "\n",
      "\n",
      "The following object is masked from ‘package:utils’:\n",
      "\n",
      "    findMatches\n",
      "\n",
      "\n",
      "The following objects are masked from ‘package:base’:\n",
      "\n",
      "    expand.grid, I, unname\n",
      "\n",
      "\n",
      "Loading required package: IRanges\n",
      "\n",
      "\n",
      "Attaching package: ‘IRanges’\n",
      "\n",
      "\n",
      "The following objects are masked from ‘package:dplyr’:\n",
      "\n",
      "    collapse, desc, slice\n",
      "\n",
      "\n",
      "Loading required package: GenomeInfoDb\n",
      "\n"
     ]
    },
    {
     "data": {
      "text/html": [
       "<table class=\"dataframe\">\n",
       "<caption>A matrix: 2 × 7 of type int</caption>\n",
       "<thead>\n",
       "\t<tr><th scope=col>Germline_Somatic</th><th scope=col>Germline_Kc167</th><th scope=col>Germline_S2</th><th scope=col>Somatic_Kc167</th><th scope=col>Somatic_S2</th><th scope=col>Kc167_S2</th><th scope=col>Dynamic_Static_Model</th></tr>\n",
       "</thead>\n",
       "<tbody>\n",
       "\t<tr><td> 20000</td><td> 20000</td><td> 20000</td><td> 20000</td><td> 20000</td><td>  20000</td><td>  20000</td></tr>\n",
       "\t<tr><td>394000</td><td>676000</td><td>586000</td><td>444000</td><td>440000</td><td>1065000</td><td>2958000</td></tr>\n",
       "</tbody>\n",
       "</table>\n"
      ],
      "text/latex": [
       "A matrix: 2 × 7 of type int\n",
       "\\begin{tabular}{lllllll}\n",
       " Germline\\_Somatic & Germline\\_Kc167 & Germline\\_S2 & Somatic\\_Kc167 & Somatic\\_S2 & Kc167\\_S2 & Dynamic\\_Static\\_Model\\\\\n",
       "\\hline\n",
       "\t  20000 &  20000 &  20000 &  20000 &  20000 &   20000 &   20000\\\\\n",
       "\t 394000 & 676000 & 586000 & 444000 & 440000 & 1065000 & 2958000\\\\\n",
       "\\end{tabular}\n"
      ],
      "text/markdown": [
       "\n",
       "A matrix: 2 × 7 of type int\n",
       "\n",
       "| Germline_Somatic | Germline_Kc167 | Germline_S2 | Somatic_Kc167 | Somatic_S2 | Kc167_S2 | Dynamic_Static_Model |\n",
       "|---|---|---|---|---|---|---|\n",
       "|  20000 |  20000 |  20000 |  20000 |  20000 |   20000 |   20000 |\n",
       "| 394000 | 676000 | 586000 | 444000 | 440000 | 1065000 | 2958000 |\n",
       "\n"
      ],
      "text/plain": [
       "     Germline_Somatic Germline_Kc167 Germline_S2 Somatic_Kc167 Somatic_S2\n",
       "[1,]  20000            20000          20000       20000         20000    \n",
       "[2,] 394000           676000         586000      444000        440000    \n",
       "     Kc167_S2 Dynamic_Static_Model\n",
       "[1,]   20000    20000             \n",
       "[2,] 1065000  2958000             "
      ]
     },
     "metadata": {},
     "output_type": "display_data"
    }
   ],
   "source": [
    "library(GenomicRanges)\n",
    "sapply(repli.peaks_chr, \\(gr) range(width(gr)))"
   ]
  },
  {
   "cell_type": "code",
   "execution_count": 6,
   "metadata": {
    "vscode": {
     "languageId": "r"
    }
   },
   "outputs": [
    {
     "name": "stdout",
     "output_type": "stream",
     "text": [
      "$Germline_Somatic\n",
      "    [,1] [,2]\n",
      "2L  5036 3267\n",
      "2LC  796    0\n",
      "2RC 1447   39\n",
      "2R  3124 2518\n",
      "3L  4260 3806\n",
      "3LC 1313    0\n",
      "3RC  206   49\n",
      "3R  6407 2692\n",
      "4    258    0\n",
      "X   2222 2008\n",
      "Y     51  209\n",
      "\n",
      "$Germline_Kc167\n",
      "    [,1] [,2]\n",
      "2L  6384 4540\n",
      "2LC  384  159\n",
      "2RC 1581  756\n",
      "2R  4195 3991\n",
      "3L  7058 4615\n",
      "3LC 1768  829\n",
      "3RC 1443  566\n",
      "3R  9069 4197\n",
      "4    240    0\n",
      "X   8244 2313\n",
      "Y   1148  974\n",
      "\n",
      "$Germline_S2\n",
      "    [,1] [,2]\n",
      "2L  4264 4655\n",
      "2LC  358  400\n",
      "2RC  935  723\n",
      "2R  4220 3502\n",
      "3L  4477 4012\n",
      "3LC  686  669\n",
      "3RC  777  381\n",
      "3R  6892 4889\n",
      "4    596  105\n",
      "X   1455 2855\n",
      "Y    376  520\n",
      "\n",
      "$Somatic_Kc167\n",
      "    [,1] [,2]\n",
      "2L  4188 3265\n",
      "2LC    0  577\n",
      "2RC    0 1739\n",
      "2R  2426 3786\n",
      "3L  4193 3365\n",
      "3LC    0  871\n",
      "3RC  551  276\n",
      "3R  3333 4065\n",
      "4    116  242\n",
      "X   6224 1780\n",
      "Y    395  230\n",
      "\n",
      "$Somatic_S2\n",
      "    [,1] [,2]\n",
      "2L  3323 4555\n",
      "2LC   41   64\n",
      "2RC   83 1112\n",
      "2R  2268 2879\n",
      "3L  4263 4082\n",
      "3LC    0  719\n",
      "3RC  203   97\n",
      "3R  3550 6267\n",
      "4    239    0\n",
      "X   2243 2382\n",
      "Y    117  144\n",
      "\n",
      "$Kc167_S2\n",
      "    [,1] [,2]\n",
      "2L  4743 6665\n",
      "2LC  486   82\n",
      "2RC 1567 1146\n",
      "2R  5420 3745\n",
      "3L  6221 5698\n",
      "3LC  213 1605\n",
      "3RC  114  189\n",
      "3R  5933 6558\n",
      "4    898  110\n",
      "X   1964 9248\n",
      "Y    144  822\n",
      "\n"
     ]
    }
   ],
   "source": [
    "table_levels <- c(\"2L\", \"2LC\", \"2RC\", \"2R\", \"3L\", \"3LC\", \"3RC\", \"3R\", \"4\", \"X\", \"Y\")\n",
    "tables_kb <- repli.peaks_chr %>%\n",
    "  head(6) %>%\n",
    "  sapply(\n",
    "    \\(gr) cbind(\n",
    "      gr %>%\n",
    "        subset(grepl(\"Earlier\", names(.))) %>%\n",
    "        split(\n",
    "          factor(\n",
    "            paste0(\n",
    "              as.factor(seqnames(.)),\n",
    "              replace(\n",
    "                rep(\"\", length(.)),\n",
    "                to(findOverlaps(chromosome_pericetromere_label, .)),\n",
    "                \"C\"\n",
    "              )\n",
    "              ),\n",
    "              table_levels\n",
    "          )\n",
    "        ) %>%\n",
    "        sapply(\\(gr) sum(width(gr))),\n",
    "      gr %>%\n",
    "        subset(grepl(\"Later\", names(.))) %>%\n",
    "        split(\n",
    "          factor(\n",
    "            paste0(\n",
    "              as.factor(seqnames(.)),\n",
    "              replace(\n",
    "                rep(\"\", length(.)),\n",
    "                to(findOverlaps(chromosome_pericetromere_label, .)),\n",
    "                \"C\"\n",
    "              )\n",
    "              ),\n",
    "              table_levels\n",
    "          )\n",
    "        ) %>%\n",
    "        sapply(\\(gr) sum(width(gr)))\n",
    "    ) %>%\n",
    "      `/`(1000) %>%\n",
    "      round(),\n",
    "    simplify=FALSE\n",
    "  ) %>%\n",
    "  print()"
   ]
  },
  {
   "cell_type": "code",
   "execution_count": 7,
   "metadata": {
    "vscode": {
     "languageId": "r"
    }
   },
   "outputs": [
    {
     "name": "stdout",
     "output_type": "stream",
     "text": [
      "$Germline_Somatic\n",
      "    [,1] [,2]\n",
      "2L   101   66\n",
      "2LC   16    0\n",
      "2RC   29    1\n",
      "2R    63   51\n",
      "3L    86   77\n",
      "3LC   27    0\n",
      "3RC    5    1\n",
      "3R   129   54\n",
      "4      6    0\n",
      "X     45   41\n",
      "Y      2    5\n",
      "\n",
      "$Germline_Kc167\n",
      "    [,1] [,2]\n",
      "2L   128   91\n",
      "2LC    8    4\n",
      "2RC   32   16\n",
      "2R    84   80\n",
      "3L   142   93\n",
      "3LC   36   17\n",
      "3RC   29   12\n",
      "3R   182   84\n",
      "4      5    0\n",
      "X    165   47\n",
      "Y     23   20\n",
      "\n",
      "$Germline_S2\n",
      "    [,1] [,2]\n",
      "2L    86   94\n",
      "2LC    8    8\n",
      "2RC   19   15\n",
      "2R    85   71\n",
      "3L    90   81\n",
      "3LC   14   14\n",
      "3RC   16    8\n",
      "3R   138   98\n",
      "4     12    3\n",
      "X     30   58\n",
      "Y      8   11\n",
      "\n",
      "$Somatic_Kc167\n",
      "    [,1] [,2]\n",
      "2L    84   66\n",
      "2LC    0   12\n",
      "2RC    0   35\n",
      "2R    49   76\n",
      "3L    84   68\n",
      "3LC    0   18\n",
      "3RC   12    6\n",
      "3R    67   82\n",
      "4      3    5\n",
      "X    125   36\n",
      "Y      8    5\n",
      "\n",
      "$Somatic_S2\n",
      "    [,1] [,2]\n",
      "2L    67   92\n",
      "2LC    1    2\n",
      "2RC    2   23\n",
      "2R    46   58\n",
      "3L    86   82\n",
      "3LC    0   15\n",
      "3RC    5    2\n",
      "3R    71  126\n",
      "4      5    0\n",
      "X     45   48\n",
      "Y      3    3\n",
      "\n",
      "$Kc167_S2\n",
      "    [,1] [,2]\n",
      "2L    95  134\n",
      "2LC   10    2\n",
      "2RC   32   23\n",
      "2R   109   75\n",
      "3L   125  114\n",
      "3LC    5   33\n",
      "3RC    3    4\n",
      "3R   119  132\n",
      "4     18    3\n",
      "X     40  185\n",
      "Y      3   17\n",
      "\n"
     ]
    }
   ],
   "source": [
    "table_levels <- c(\"2L\", \"2LC\", \"2RC\", \"2R\", \"3L\", \"3LC\", \"3RC\", \"3R\", \"4\", \"X\", \"Y\")\n",
    "individual_unit_bp <- 50000\n",
    "tables <- repli.peaks_chr %>%\n",
    "  head(6) %>%\n",
    "  sapply(\n",
    "    \\(gr) cbind(\n",
    "      gr %>%\n",
    "        subset(grepl(\"Earlier\", names(.))) %>%\n",
    "        split(\n",
    "          factor(\n",
    "            paste0(\n",
    "              as.factor(seqnames(.)),\n",
    "              replace(\n",
    "                rep(\"\", length(.)),\n",
    "                to(findOverlaps(chromosome_pericetromere_label, .)),\n",
    "                \"C\"\n",
    "              )\n",
    "              ),\n",
    "              table_levels\n",
    "          )\n",
    "        ) %>%\n",
    "        sapply(\\(gr) sum(width(gr))),\n",
    "      gr %>%\n",
    "        subset(grepl(\"Later\", names(.))) %>%\n",
    "        split(\n",
    "          factor(\n",
    "            paste0(\n",
    "              as.factor(seqnames(.)),\n",
    "              replace(\n",
    "                rep(\"\", length(.)),\n",
    "                to(findOverlaps(chromosome_pericetromere_label, .)),\n",
    "                \"C\"\n",
    "              )\n",
    "              ),\n",
    "              table_levels\n",
    "          )\n",
    "        ) %>%\n",
    "        sapply(\\(gr) sum(width(gr)))\n",
    "    ) %>%\n",
    "      `/`(individual_unit_bp) %>%\n",
    "      ceiling(),\n",
    "    simplify=FALSE\n",
    "  ) %>%\n",
    "  print()"
   ]
  },
  {
   "cell_type": "code",
   "execution_count": 16,
   "metadata": {
    "vscode": {
     "languageId": "r"
    }
   },
   "outputs": [
    {
     "data": {
      "text/plain": [
       "GRanges object with 4 ranges and 0 metadata columns:\n",
       "      seqnames            ranges strand\n",
       "         <Rle>         <IRanges>  <Rle>\n",
       "  [1]       2L 22192401-23513712      *\n",
       "  [2]       2R         1-5651400      *\n",
       "  [3]       3L 23154101-28110227      *\n",
       "  [4]       3R         1-4229200      *\n",
       "  -------\n",
       "  seqinfo: 4 sequences from an unspecified genome; no seqlengths"
      ]
     },
     "metadata": {},
     "output_type": "display_data"
    }
   ],
   "source": [
    "chromosome_pericetromere_label"
   ]
  },
  {
   "cell_type": "code",
   "execution_count": 25,
   "metadata": {
    "vscode": {
     "languageId": "r"
    }
   },
   "outputs": [
    {
     "data": {
      "text/html": [
       "<style>\n",
       ".dl-inline {width: auto; margin:0; padding: 0}\n",
       ".dl-inline>dt, .dl-inline>dd {float: none; width: auto; display: inline-block}\n",
       ".dl-inline>dt::after {content: \":\\0020\"; padding-right: .5ex}\n",
       ".dl-inline>dt:not(:first-of-type) {padding-left: .5ex}\n",
       "</style><dl class=dl-inline><dt>2L</dt><dd>22192</dd><dt>2LC</dt><dd>1321</dd><dt>2RC</dt><dd>5651</dd><dt>2R</dt><dd>19636</dd><dt>3L</dt><dd>23154</dd><dt>3LC</dt><dd>4956</dd><dt>3RC</dt><dd>4229</dd><dt>3R</dt><dd>27850</dd><dt>4</dt><dd>1348</dd><dt>X</dt><dd>23542</dd><dt>Y</dt><dd>3667</dd></dl>\n"
      ],
      "text/latex": [
       "\\begin{description*}\n",
       "\\item[2L] 22192\n",
       "\\item[2LC] 1321\n",
       "\\item[2RC] 5651\n",
       "\\item[2R] 19636\n",
       "\\item[3L] 23154\n",
       "\\item[3LC] 4956\n",
       "\\item[3RC] 4229\n",
       "\\item[3R] 27850\n",
       "\\item[4] 1348\n",
       "\\item[X] 23542\n",
       "\\item[Y] 3667\n",
       "\\end{description*}\n"
      ],
      "text/markdown": [
       "2L\n",
       ":   221922LC\n",
       ":   13212RC\n",
       ":   56512R\n",
       ":   196363L\n",
       ":   231543LC\n",
       ":   49563RC\n",
       ":   42293R\n",
       ":   278504\n",
       ":   1348X\n",
       ":   23542Y\n",
       ":   3667\n",
       "\n"
      ],
      "text/plain": [
       "   2L   2LC   2RC    2R    3L   3LC   3RC    3R     4     X     Y \n",
       "22192  1321  5651 19636 23154  4956  4229 27850  1348 23542  3667 "
      ]
     },
     "metadata": {},
     "output_type": "display_data"
    }
   ],
   "source": [
    "(\n",
    "  table_level_seqlength_kb <- round(\n",
    "    c(\n",
    "      seqlengths(chic.tile.diameter_1000_chr)[\"2L\"] - width(chromosome_pericetromere_label)[1],\n",
    "      width(chromosome_pericetromere_label)[1],\n",
    "      width(chromosome_pericetromere_label)[2],\n",
    "      seqlengths(chic.tile.diameter_1000_chr)[\"2R\"] - width(chromosome_pericetromere_label)[2],\n",
    "      seqlengths(chic.tile.diameter_1000_chr)[\"3L\"] - width(chromosome_pericetromere_label)[3],\n",
    "      width(chromosome_pericetromere_label)[3],\n",
    "      width(chromosome_pericetromere_label)[4],\n",
    "      seqlengths(chic.tile.diameter_1000_chr)[\"3R\"] - width(chromosome_pericetromere_label)[4],\n",
    "      seqlengths(chic.tile.diameter_1000_chr)[\"4\"],\n",
    "      seqlengths(chic.tile.diameter_1000_chr)[\"X\"],\n",
    "      seqlengths(chic.tile.diameter_1000_chr)[\"Y\"]\n",
    "    ) /\n",
    "      1000\n",
    "  ) %>%\n",
    "    setNames(table_levels)\n",
    ")"
   ]
  },
  {
   "cell_type": "code",
   "execution_count": 8,
   "metadata": {
    "vscode": {
     "languageId": "r"
    }
   },
   "outputs": [
    {
     "data": {
      "text/html": [
       "<style>\n",
       ".dl-inline {width: auto; margin:0; padding: 0}\n",
       ".dl-inline>dt, .dl-inline>dd {float: none; width: auto; display: inline-block}\n",
       ".dl-inline>dt::after {content: \":\\0020\"; padding-right: .5ex}\n",
       ".dl-inline>dt:not(:first-of-type) {padding-left: .5ex}\n",
       "</style><dl class=dl-inline><dt>Germline_Somatic</dt><dd>1.1999976000048e-05</dd><dt>Germline_Kc167</dt><dd>1.999996000008e-05</dd><dt>Germline_S2</dt><dd>0.00529198941602117</dd><dt>Somatic_Kc167</dt><dd>1.1999976000048e-05</dd><dt>Somatic_S2</dt><dd>1.1999976000048e-05</dd><dt>Kc167_S2</dt><dd>1.1999976000048e-05</dd></dl>\n"
      ],
      "text/latex": [
       "\\begin{description*}\n",
       "\\item[Germline\\textbackslash{}\\_Somatic] 1.1999976000048e-05\n",
       "\\item[Germline\\textbackslash{}\\_Kc167] 1.999996000008e-05\n",
       "\\item[Germline\\textbackslash{}\\_S2] 0.00529198941602117\n",
       "\\item[Somatic\\textbackslash{}\\_Kc167] 1.1999976000048e-05\n",
       "\\item[Somatic\\textbackslash{}\\_S2] 1.1999976000048e-05\n",
       "\\item[Kc167\\textbackslash{}\\_S2] 1.1999976000048e-05\n",
       "\\end{description*}\n"
      ],
      "text/markdown": [
       "Germline_Somatic\n",
       ":   1.1999976000048e-05Germline_Kc167\n",
       ":   1.999996000008e-05Germline_S2\n",
       ":   0.00529198941602117Somatic_Kc167\n",
       ":   1.1999976000048e-05Somatic_S2\n",
       ":   1.1999976000048e-05Kc167_S2\n",
       ":   1.1999976000048e-05\n",
       "\n"
      ],
      "text/plain": [
       "Germline_Somatic   Germline_Kc167      Germline_S2    Somatic_Kc167 \n",
       "    1.199998e-05     1.999996e-05     5.291989e-03     1.199998e-05 \n",
       "      Somatic_S2         Kc167_S2 \n",
       "    1.199998e-05     1.199998e-05 "
      ]
     },
     "metadata": {},
     "output_type": "display_data"
    }
   ],
   "source": [
    "pval <- with_seed(\n",
    "  0,\n",
    "  sapply(\n",
    "    tables,\n",
    "    \\(tb) fisher.test(tb, simulate=T, B=5e5)$p.value\n",
    "  ) %>%\n",
    "    p.adjust()\n",
    ")\n",
    "pval"
   ]
  },
  {
   "cell_type": "code",
   "execution_count": 9,
   "metadata": {
    "vscode": {
     "languageId": "r"
    }
   },
   "outputs": [
    {
     "name": "stderr",
     "output_type": "stream",
     "text": [
      "Warning message in chisq.test(tb):\n",
      "“Chi-squared approximation may be incorrect”\n",
      "Warning message in chisq.test(tb):\n",
      "“Chi-squared approximation may be incorrect”\n"
     ]
    },
    {
     "name": "stderr",
     "output_type": "stream",
     "text": [
      "Warning message in chisq.test(tb):\n",
      "“Chi-squared approximation may be incorrect”\n",
      "Warning message in chisq.test(tb):\n",
      "“Chi-squared approximation may be incorrect”\n",
      "Warning message in chisq.test(tb):\n",
      "“Chi-squared approximation may be incorrect”\n"
     ]
    },
    {
     "name": "stdout",
     "output_type": "stream",
     "text": [
      "\u001b[90m# A tibble: 66 × 3\u001b[39m\n",
      "   rowname          counts[,1]  [,2] residuals[,1]   [,2]\n",
      "   \u001b[3m\u001b[90m<chr>\u001b[39m\u001b[23m                 \u001b[3m\u001b[90m<dbl>\u001b[39m\u001b[23m \u001b[3m\u001b[90m<dbl>\u001b[39m\u001b[23m         \u001b[3m\u001b[90m<dbl>\u001b[39m\u001b[23m  \u001b[3m\u001b[90m<dbl>\u001b[39m\u001b[23m\n",
      "\u001b[90m 1\u001b[39m Germline_Somatic        101    66        -\u001b[31m0\u001b[39m\u001b[31m.\u001b[39m\u001b[31m447\u001b[39m  0.586\n",
      "\u001b[90m 2\u001b[39m Germline_Somatic         16     0         1.85  -\u001b[31m2\u001b[39m\u001b[31m.\u001b[39m\u001b[31m43\u001b[39m \n",
      "\u001b[90m 3\u001b[39m Germline_Somatic         29     1         2.30  -\u001b[31m3\u001b[39m\u001b[31m.\u001b[39m\u001b[31m0\u001b[39m\u001b[31m2\u001b[39m \n",
      "\u001b[90m 4\u001b[39m Germline_Somatic         63    51        -\u001b[31m1\u001b[39m\u001b[31m.\u001b[39m\u001b[31m0\u001b[39m\u001b[31m7\u001b[39m   1.40 \n",
      "\u001b[90m 5\u001b[39m Germline_Somatic         86    77        -\u001b[31m1\u001b[39m\u001b[31m.\u001b[39m\u001b[31m68\u001b[39m   2.20 \n",
      "\u001b[90m 6\u001b[39m Germline_Somatic         27     0         2.40  -\u001b[31m3\u001b[39m\u001b[31m.\u001b[39m\u001b[31m15\u001b[39m \n",
      "\u001b[90m 7\u001b[39m Germline_Somatic          5     1         0.619 -\u001b[31m0\u001b[39m\u001b[31m.\u001b[39m\u001b[31m812\u001b[39m\n",
      "\u001b[90m 8\u001b[39m Germline_Somatic        129    54         1.24  -\u001b[31m1\u001b[39m\u001b[31m.\u001b[39m\u001b[31m62\u001b[39m \n",
      "\u001b[90m 9\u001b[39m Germline_Somatic          6     0         1.13  -\u001b[31m1\u001b[39m\u001b[31m.\u001b[39m\u001b[31m49\u001b[39m \n",
      "\u001b[90m10\u001b[39m Germline_Somatic         45    41        -\u001b[31m1\u001b[39m\u001b[31m.\u001b[39m\u001b[31m27\u001b[39m   1.67 \n",
      "\u001b[90m# ℹ 56 more rows\u001b[39m\n"
     ]
    }
   ],
   "source": [
    "naive_analysis <- tibble(\n",
    "  rowname = names(tables) %>% rep(each = nrow(tables[[1]])),\n",
    "  counts = tables %>%\n",
    "    do.call(rbind, .),\n",
    "  residuals = sapply(tables, \\(tb) chisq.test(tb)$residuals, simplify=FALSE) %>%\n",
    "    do.call(rbind, .)\n",
    ") %>%\n",
    "  print()"
   ]
  },
  {
   "cell_type": "code",
   "execution_count": 10,
   "metadata": {
    "vscode": {
     "languageId": "r"
    }
   },
   "outputs": [
    {
     "name": "stdout",
     "output_type": "stream",
     "text": [
      "\u001b[90m# A tibble: 66 × 4\u001b[39m\n",
      "   rowname          region p.adjust signif[,1] [,2] \n",
      "   \u001b[3m\u001b[90m<fct>\u001b[39m\u001b[23m            \u001b[3m\u001b[90m<chr>\u001b[39m\u001b[23m     \u001b[3m\u001b[90m<dbl>\u001b[39m\u001b[23m \u001b[3m\u001b[90m<chr>\u001b[39m\u001b[23m      \u001b[3m\u001b[90m<chr>\u001b[39m\u001b[23m\n",
      "\u001b[90m 1\u001b[39m Germline_Somatic 2L     1        \u001b[90m\"\u001b[39m\u001b[90m\"\u001b[39m         \u001b[90m\"\u001b[39m\u001b[90m\"\u001b[39m   \n",
      "\u001b[90m 2\u001b[39m Germline_Somatic 2LC    0.046\u001b[4m7\u001b[24m   \u001b[90m\"\u001b[39m*\u001b[90m\"\u001b[39m        \u001b[90m\"\u001b[39m\u001b[90m\"\u001b[39m   \n",
      "\u001b[90m 3\u001b[39m Germline_Somatic 2RC    0.001\u001b[4m2\u001b[24m\u001b[4m9\u001b[24m  \u001b[90m\"\u001b[39m**\u001b[90m\"\u001b[39m       \u001b[90m\"\u001b[39m\u001b[90m\"\u001b[39m   \n",
      "\u001b[90m 4\u001b[39m Germline_Somatic 2R     1        \u001b[90m\"\u001b[39m\u001b[90m\"\u001b[39m         \u001b[90m\"\u001b[39m\u001b[90m\"\u001b[39m   \n",
      "\u001b[90m 5\u001b[39m Germline_Somatic 3L     0.131    \u001b[90m\"\u001b[39m\u001b[90m\"\u001b[39m         \u001b[90m\"\u001b[39m\u001b[90m\"\u001b[39m   \n",
      "\u001b[90m 6\u001b[39m Germline_Somatic 3LC    0.000\u001b[4m3\u001b[24m\u001b[4m0\u001b[24m\u001b[4m4\u001b[24m \u001b[90m\"\u001b[39m***\u001b[90m\"\u001b[39m      \u001b[90m\"\u001b[39m\u001b[90m\"\u001b[39m   \n",
      "\u001b[90m 7\u001b[39m Germline_Somatic 3RC    1        \u001b[90m\"\u001b[39m\u001b[90m\"\u001b[39m         \u001b[90m\"\u001b[39m\u001b[90m\"\u001b[39m   \n",
      "\u001b[90m 8\u001b[39m Germline_Somatic 3R     0.999    \u001b[90m\"\u001b[39m\u001b[90m\"\u001b[39m         \u001b[90m\"\u001b[39m\u001b[90m\"\u001b[39m   \n",
      "\u001b[90m 9\u001b[39m Germline_Somatic 4      1        \u001b[90m\"\u001b[39m\u001b[90m\"\u001b[39m         \u001b[90m\"\u001b[39m\u001b[90m\"\u001b[39m   \n",
      "\u001b[90m10\u001b[39m Germline_Somatic X      1        \u001b[90m\"\u001b[39m\u001b[90m\"\u001b[39m         \u001b[90m\"\u001b[39m\u001b[90m\"\u001b[39m   \n",
      "\u001b[90m# ℹ 56 more rows\u001b[39m\n"
     ]
    }
   ],
   "source": [
    "exact_post_hoc_analysis <- naive_analysis %>%\n",
    "  group_by(rowname = factor(rowname, unique(rowname))) %>%\n",
    "  reframe(\n",
    "    region = table_levels,\n",
    "    residuals,\n",
    "    p.adjust = sapply(\n",
    "      seq_along(table_levels),\n",
    "      \\(i) fisher.test(\n",
    "        rbind(\n",
    "          counts[i,, drop=F],\n",
    "          colSums(counts[-i,, drop=F])\n",
    "        )\n",
    "      )$p.value\n",
    "    )\n",
    "  ) %>%\n",
    "  mutate(\n",
    "    p.adjust = p.adjust %>% p.adjust(),\n",
    "    signif = cbind(\n",
    "      p.adjust %>%\n",
    "        replace(residuals[, 2] >= residuals[, 1], 1),\n",
    "      p.adjust %>%\n",
    "        replace(residuals[, 2] <= residuals[, 1], 1)\n",
    "    ) %>%\n",
    "      cut(c(-Inf, 1e-4, 1e-3, 1e-2, 5e-2, Inf)) %>%\n",
    "      structure(\n",
    "        levels = c(\"****\", \"***\", \"**\", \"*\", \"\"),\n",
    "        class = \"factor\"\n",
    "      ) %>%\n",
    "      as.character() %>%\n",
    "      matrix(ncol = 2),\n",
    "    .keep = \"unused\"\n",
    "  ) %>%\n",
    "  print()"
   ]
  },
  {
   "cell_type": "code",
   "execution_count": 28,
   "metadata": {
    "vscode": {
     "languageId": "r"
    }
   },
   "outputs": [
    {
     "name": "stdout",
     "output_type": "stream",
     "text": [
      "2L\t5036\t3267\t22.69\t14.72\t\t\t6384\t4540\t28.77\t20.46\t\t\t4264\t4655\t19.21\t20.98\t\t\t4188\t3265\t18.87\t14.71\t\t\t3323\t4555\t14.97\t20.53\t\t\t4743\t6665\t21.37\t30.03\t\t\n",
      "2LC\t796\t0\t60.26\t0\t*\t\t384\t159\t29.07\t12.04\t\t\t358\t400\t27.1\t30.28\t\t\t0\t577\t0\t43.68\t\t**\t41\t64\t3.1\t4.84\t\t\t486\t82\t36.79\t6.21\t\t\n",
      "2RC\t1447\t39\t25.61\t0.69\t**\t\t1581\t756\t27.98\t13.38\t\t\t935\t723\t16.55\t12.79\t\t\t0\t1739\t0\t30.77\t\t****\t83\t1112\t1.47\t19.68\t\t*\t1567\t1146\t27.73\t20.28\t\t\n",
      "2R\t3124\t2518\t15.91\t12.82\t\t\t4195\t3991\t21.36\t20.32\t\t*\t4220\t3502\t21.49\t17.83\t\t\t2426\t3786\t12.35\t19.28\t\t\t2268\t2879\t11.55\t14.66\t\t\t5420\t3745\t27.6\t19.07\t***\t\n",
      "3L\t4260\t3806\t18.4\t16.44\t\t\t7058\t4615\t30.48\t19.93\t\t\t4477\t4012\t19.34\t17.33\t\t\t4193\t3365\t18.11\t14.53\t\t\t4263\t4082\t18.41\t17.63\t\t\t6221\t5698\t26.87\t24.61\t\t\n",
      "3LC\t1313\t0\t26.49\t0\t***\t\t1768\t829\t35.67\t16.73\t\t\t686\t669\t13.84\t13.5\t\t\t0\t871\t0\t17.57\t\t***\t0\t719\t0\t14.51\t\t*\t213\t1605\t4.3\t32.38\t\t**\n",
      "3RC\t206\t49\t4.87\t1.16\t\t\t1443\t566\t34.12\t13.38\t\t\t777\t381\t18.37\t9.01\t\t\t551\t276\t13.03\t6.53\t\t\t203\t97\t4.8\t2.29\t\t\t114\t189\t2.7\t4.47\t\t\n",
      "3R\t6407\t2692\t23.01\t9.67\t\t\t9069\t4197\t32.56\t15.07\t\t\t6892\t4889\t24.75\t17.55\t\t\t3333\t4065\t11.97\t14.6\t\t\t3550\t6267\t12.75\t22.5\t\t\t5933\t6558\t21.3\t23.55\t\t\n",
      "4\t258\t0\t19.14\t0\t\t\t240\t0\t17.8\t0\t\t\t596\t105\t44.21\t7.79\t\t\t116\t242\t8.61\t17.95\t\t\t239\t0\t17.73\t0\t\t\t898\t110\t66.62\t8.16\t**\t\n",
      "X\t2222\t2008\t9.44\t8.53\t\t\t8244\t2313\t35.02\t9.82\t***\t\t1455\t2855\t6.18\t12.13\t\t*\t6224\t1780\t26.44\t7.56\t****\t\t2243\t2382\t9.53\t10.12\t\t\t1964\t9248\t8.34\t39.28\t\t****\n",
      "Y\t51\t209\t1.39\t5.7\t\t\t1148\t974\t31.31\t26.56\t\t\t376\t520\t10.25\t14.18\t\t\t395\t230\t10.77\t6.27\t\t\t117\t144\t3.19\t3.93\t\t\t144\t822\t3.93\t22.42\t\t\n"
     ]
    }
   ],
   "source": [
    "signif_p <- function(p) {\n",
    "  structure(\n",
    "    cut(\n",
    "      p,\n",
    "      c(-Inf, 1e-4, 1e-3, 1e-2, 5e-2, 1)\n",
    "    ),\n",
    "    levels = c(\"****\", \"***\", \"**\", \"*\", \"\"),\n",
    "    class = \"factor\"\n",
    "  )\n",
    "}\n",
    "write.table(\n",
    "  cbind(\n",
    "    region = exact_post_hoc_analysis$region[1:11],\n",
    "    GE = tables_kb[[1]][, 1],\n",
    "    SE = tables_kb[[1]][, 2],\n",
    "    PGE = round(100 * tables_kb[[1]][, 1] / table_level_seqlength_kb, 2),\n",
    "    PSE = round(100 * tables_kb[[1]][, 2] / table_level_seqlength_kb, 2),\n",
    "    S1 = subset(exact_post_hoc_analysis, rowname == \"Germline_Somatic\")$signif[, 1],\n",
    "    S2 = subset(exact_post_hoc_analysis, rowname == \"Germline_Somatic\")$signif[, 2],\n",
    "    GE.1 = tables_kb[[2]][, 1],\n",
    "    KE = tables_kb[[2]][, 2],\n",
    "    PGE.1 = round(100 * tables_kb[[2]][, 1] / table_level_seqlength_kb, 2),\n",
    "    PKE = round(100 * tables_kb[[2]][, 2] / table_level_seqlength_kb, 2),\n",
    "    S3 = subset(exact_post_hoc_analysis, rowname == \"Germline_Kc167\")$signif[, 1],\n",
    "    S4 = subset(exact_post_hoc_analysis, rowname == \"Germline_Kc167\")$signif[, 2],\n",
    "    GE.2 = tables_kb[[3]][, 1],\n",
    "    NE = tables_kb[[3]][, 2],\n",
    "    PGE.2 = round(100 * tables_kb[[3]][, 1] / table_level_seqlength_kb, 2),\n",
    "    PNE = round(100 * tables_kb[[3]][, 2] / table_level_seqlength_kb, 2),\n",
    "    S5 = subset(exact_post_hoc_analysis, rowname == \"Germline_S2\")$signif[, 1],\n",
    "    S6 = subset(exact_post_hoc_analysis, rowname == \"Germline_S2\")$signif[, 2],\n",
    "    SE.1 = tables_kb[[4]][, 1],\n",
    "    KE.1 = tables_kb[[4]][, 2],\n",
    "    PSE.1 = round(100 * tables_kb[[4]][, 1] / table_level_seqlength_kb, 2),\n",
    "    PKE.1 = round(100 * tables_kb[[4]][, 2] / table_level_seqlength_kb, 2),\n",
    "    S7 = subset(exact_post_hoc_analysis, rowname == \"Somatic_Kc167\")$signif[, 1],\n",
    "    S8 = subset(exact_post_hoc_analysis, rowname == \"Somatic_Kc167\")$signif[, 2],\n",
    "    SE.2 = tables_kb[[5]][, 1],\n",
    "    NE.1 = tables_kb[[5]][, 2],\n",
    "    PSE.2 = round(100 * tables_kb[[5]][, 1] / table_level_seqlength_kb, 2),\n",
    "    PNE.1 = round(100 * tables_kb[[5]][, 2] / table_level_seqlength_kb, 2),\n",
    "    S9 = subset(exact_post_hoc_analysis, rowname == \"Somatic_S2\")$signif[, 1],\n",
    "    S10 = subset(exact_post_hoc_analysis, rowname == \"Somatic_S2\")$signif[, 2],\n",
    "    KE.2 = tables_kb[[6]][, 1],\n",
    "    NE.2 = tables_kb[[6]][, 2],\n",
    "    PKE.2 = round(100 * tables_kb[[6]][, 1] / table_level_seqlength_kb, 2),\n",
    "    PNE.2 = round(100 * tables_kb[[6]][, 2] / table_level_seqlength_kb, 2),\n",
    "    S11 = subset(exact_post_hoc_analysis, rowname == \"Kc167_S2\")$signif[, 1],\n",
    "    S12 = subset(exact_post_hoc_analysis, rowname == \"Kc167_S2\")$signif[, 2]\n",
    "  ),\n",
    "  row.names = F,\n",
    "  col.names = F,\n",
    "  quote = F,\n",
    "  sep = \"\\t\"\n",
    ")"
   ]
  }
 ],
 "metadata": {
  "kernelspec": {
   "display_name": "R",
   "language": "R",
   "name": "ir"
  },
  "language_info": {
   "codemirror_mode": "r",
   "file_extension": ".r",
   "mimetype": "text/x-r-source",
   "name": "R",
   "pygments_lexer": "r",
   "version": "4.3.3"
  }
 },
 "nbformat": 4,
 "nbformat_minor": 2
}
