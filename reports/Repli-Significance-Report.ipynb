{
 "cells": [
  {
   "cell_type": "markdown",
   "metadata": {},
   "source": [
    "## Tests of Repliseq Track"
   ]
  },
  {
   "cell_type": "markdown",
   "metadata": {},
   "source": [
    "Recapitulate Y Scaled (Z-Score) and treat as one-way ANOVA table"
   ]
  },
  {
   "cell_type": "code",
   "execution_count": 4,
   "metadata": {
    "vscode": {
     "languageId": "r"
    }
   },
   "outputs": [
    {
     "name": "stderr",
     "output_type": "stream",
     "text": [
      "Loading required package: stats4\n",
      "\n",
      "Loading required package: BiocGenerics\n",
      "\n",
      "\n",
      "Attaching package: ‘BiocGenerics’\n",
      "\n",
      "\n",
      "The following objects are masked from ‘package:dplyr’:\n",
      "\n",
      "    combine, intersect, setdiff, union\n",
      "\n",
      "\n",
      "The following objects are masked from ‘package:stats’:\n",
      "\n",
      "    IQR, mad, sd, var, xtabs\n",
      "\n",
      "\n",
      "The following objects are masked from ‘package:base’:\n",
      "\n",
      "    anyDuplicated, aperm, append, as.data.frame, basename, cbind,\n",
      "    colnames, dirname, do.call, duplicated, eval, evalq, Filter, Find,\n",
      "    get, grep, grepl, intersect, is.unsorted, lapply, Map, mapply,\n",
      "    match, mget, order, paste, pmax, pmax.int, pmin, pmin.int,\n",
      "    Position, rank, rbind, Reduce, rownames, sapply, setdiff, sort,\n",
      "    table, tapply, union, unique, unsplit, which.max, which.min\n",
      "\n",
      "\n",
      "Loading required package: S4Vectors\n",
      "\n",
      "\n",
      "Attaching package: ‘S4Vectors’\n",
      "\n",
      "\n",
      "The following objects are masked from ‘package:dplyr’:\n",
      "\n",
      "    first, rename\n",
      "\n",
      "\n",
      "The following object is masked from ‘package:utils’:\n",
      "\n",
      "    findMatches\n",
      "\n",
      "\n",
      "The following objects are masked from ‘package:base’:\n",
      "\n",
      "    expand.grid, I, unname\n",
      "\n",
      "\n",
      "Loading required package: IRanges\n",
      "\n",
      "\n",
      "Attaching package: ‘IRanges’\n",
      "\n",
      "\n",
      "The following objects are masked from ‘package:dplyr’:\n",
      "\n",
      "    collapse, desc, slice\n",
      "\n",
      "\n",
      "Loading required package: GenomeInfoDb\n",
      "\n",
      "\n",
      "Attaching package: ‘GenomicRanges’\n",
      "\n",
      "\n",
      "The following object is masked from ‘package:magrittr’:\n",
      "\n",
      "    subtract\n",
      "\n",
      "\n"
     ]
    }
   ],
   "source": [
    "source(\"_targets.R\")\n",
    "library(dplyr)\n",
    "library(GenomicRanges)\n",
    "library(tibble)"
   ]
  },
  {
   "cell_type": "code",
   "execution_count": 6,
   "metadata": {
    "vscode": {
     "languageId": "r"
    }
   },
   "outputs": [],
   "source": [
    "tar_load(\n",
    "  c(\n",
    "    chromosome_pericetromere_label,\n",
    "    repli.timing_Germline_chr,\n",
    "    repli.timing_Somatic_chr,\n",
    "    repli.timing_Kc167_chr,\n",
    "    repli.timing_S2_chr\n",
    "  )\n",
    ")"
   ]
  },
  {
   "cell_type": "code",
   "execution_count": 24,
   "metadata": {
    "vscode": {
     "languageId": "r"
    }
   },
   "outputs": [
    {
     "data": {
      "text/html": [
       "<table class=\"dataframe\">\n",
       "<caption>A tibble: 7 × 7</caption>\n",
       "<thead>\n",
       "\t<tr><th scope=col>chr</th><th scope=col>x</th><th scope=col>region</th><th scope=col>Germline_LOESS</th><th scope=col>Somatic_LOESS</th><th scope=col>Kc167_LOESS</th><th scope=col>S2_LOESS</th></tr>\n",
       "\t<tr><th scope=col>&lt;chr&gt;</th><th scope=col>&lt;dbl&gt;</th><th scope=col>&lt;fct&gt;</th><th scope=col>&lt;dbl&gt;</th><th scope=col>&lt;dbl&gt;</th><th scope=col>&lt;dbl&gt;</th><th scope=col>&lt;dbl&gt;</th></tr>\n",
       "</thead>\n",
       "<tbody>\n",
       "\t<tr><td>rDNA</td><td>37500</td><td>rDNA</td><td> 0.6482017</td><td>-0.6204086</td><td>-0.9240146</td><td>-0.8223618</td></tr>\n",
       "\t<tr><td>rDNA</td><td>42500</td><td>rDNA</td><td> 0.7099135</td><td>-0.5879558</td><td>-0.9338242</td><td>-0.9026897</td></tr>\n",
       "\t<tr><td>rDNA</td><td>47500</td><td>rDNA</td><td> 0.7568527</td><td>-0.6177137</td><td>-0.9291707</td><td>-0.8665072</td></tr>\n",
       "\t<tr><td>rDNA</td><td>52500</td><td>rDNA</td><td>-0.4198505</td><td>-0.6580948</td><td>-0.9769341</td><td>-0.9492365</td></tr>\n",
       "\t<tr><td>rDNA</td><td>57500</td><td>rDNA</td><td> 0.6880967</td><td>-0.6337990</td><td>-0.8950174</td><td>-0.8244144</td></tr>\n",
       "\t<tr><td>rDNA</td><td>62500</td><td>rDNA</td><td> 0.6249556</td><td>-0.3777080</td><td>-0.8714755</td><td>-0.8432189</td></tr>\n",
       "\t<tr><td>rDNA</td><td>67500</td><td>rDNA</td><td> 0.7103718</td><td>-0.5854864</td><td>-0.9253684</td><td>-0.8596512</td></tr>\n",
       "</tbody>\n",
       "</table>\n"
      ],
      "text/latex": [
       "A tibble: 7 × 7\n",
       "\\begin{tabular}{lllllll}\n",
       " chr & x & region & Germline\\_LOESS & Somatic\\_LOESS & Kc167\\_LOESS & S2\\_LOESS\\\\\n",
       " <chr> & <dbl> & <fct> & <dbl> & <dbl> & <dbl> & <dbl>\\\\\n",
       "\\hline\n",
       "\t rDNA & 37500 & rDNA &  0.6482017 & -0.6204086 & -0.9240146 & -0.8223618\\\\\n",
       "\t rDNA & 42500 & rDNA &  0.7099135 & -0.5879558 & -0.9338242 & -0.9026897\\\\\n",
       "\t rDNA & 47500 & rDNA &  0.7568527 & -0.6177137 & -0.9291707 & -0.8665072\\\\\n",
       "\t rDNA & 52500 & rDNA & -0.4198505 & -0.6580948 & -0.9769341 & -0.9492365\\\\\n",
       "\t rDNA & 57500 & rDNA &  0.6880967 & -0.6337990 & -0.8950174 & -0.8244144\\\\\n",
       "\t rDNA & 62500 & rDNA &  0.6249556 & -0.3777080 & -0.8714755 & -0.8432189\\\\\n",
       "\t rDNA & 67500 & rDNA &  0.7103718 & -0.5854864 & -0.9253684 & -0.8596512\\\\\n",
       "\\end{tabular}\n"
      ],
      "text/markdown": [
       "\n",
       "A tibble: 7 × 7\n",
       "\n",
       "| chr &lt;chr&gt; | x &lt;dbl&gt; | region &lt;fct&gt; | Germline_LOESS &lt;dbl&gt; | Somatic_LOESS &lt;dbl&gt; | Kc167_LOESS &lt;dbl&gt; | S2_LOESS &lt;dbl&gt; |\n",
       "|---|---|---|---|---|---|---|\n",
       "| rDNA | 37500 | rDNA |  0.6482017 | -0.6204086 | -0.9240146 | -0.8223618 |\n",
       "| rDNA | 42500 | rDNA |  0.7099135 | -0.5879558 | -0.9338242 | -0.9026897 |\n",
       "| rDNA | 47500 | rDNA |  0.7568527 | -0.6177137 | -0.9291707 | -0.8665072 |\n",
       "| rDNA | 52500 | rDNA | -0.4198505 | -0.6580948 | -0.9769341 | -0.9492365 |\n",
       "| rDNA | 57500 | rDNA |  0.6880967 | -0.6337990 | -0.8950174 | -0.8244144 |\n",
       "| rDNA | 62500 | rDNA |  0.6249556 | -0.3777080 | -0.8714755 | -0.8432189 |\n",
       "| rDNA | 67500 | rDNA |  0.7103718 | -0.5854864 | -0.9253684 | -0.8596512 |\n",
       "\n"
      ],
      "text/plain": [
       "  chr  x     region Germline_LOESS Somatic_LOESS Kc167_LOESS S2_LOESS  \n",
       "1 rDNA 37500 rDNA    0.6482017     -0.6204086    -0.9240146  -0.8223618\n",
       "2 rDNA 42500 rDNA    0.7099135     -0.5879558    -0.9338242  -0.9026897\n",
       "3 rDNA 47500 rDNA    0.7568527     -0.6177137    -0.9291707  -0.8665072\n",
       "4 rDNA 52500 rDNA   -0.4198505     -0.6580948    -0.9769341  -0.9492365\n",
       "5 rDNA 57500 rDNA    0.6880967     -0.6337990    -0.8950174  -0.8244144\n",
       "6 rDNA 62500 rDNA    0.6249556     -0.3777080    -0.8714755  -0.8432189\n",
       "7 rDNA 67500 rDNA    0.7103718     -0.5854864    -0.9253684  -0.8596512"
      ]
     },
     "metadata": {},
     "output_type": "display_data"
    }
   ],
   "source": [
    "Y <- tibble(\n",
    "  chr = c(names(chr.lengths), \"rDNA\"),\n",
    "  xmin = rep(2500, length(chr)) %>% replace(match(\"rDNA\", chr), 37500),\n",
    "  xmax = floor((c(chr.lengths, seqlengths(repli.timing_Germline_chr)[\"rDNA\"]) - 2500) / 5000) * 5000,\n",
    "  Germline = list(repli.timing_Germline_chr),\n",
    "  Somatic = list(repli.timing_Somatic_chr),\n",
    "  Kc167 = list(repli.timing_Kc167_chr),\n",
    "  S2 = list(repli.timing_S2_chr),\n",
    ") %>%\n",
    "  group_by(chr, xmin, xmax) %>%\n",
    "  reframe(\n",
    "    x = seq(xmin, xmax, by = 5000),\n",
    "    region = (\n",
    "      as.character(chr) %>%\n",
    "        paste0(\n",
    "          replace(\n",
    "            rep(\"\", length(x)),\n",
    "            chromosome_pericetromere_label %>%\n",
    "              findOverlaps(\n",
    "                GRanges(\n",
    "                  chr,\n",
    "                  IRanges(x, width=1),\n",
    "                  seqlengths = seqlengths(repli.timing_Germline_chr)\n",
    "                )\n",
    "              ) %>%\n",
    "              to(),\n",
    "            \"C\"\n",
    "          )\n",
    "        ) %>%\n",
    "      factor(\n",
    "        c(\"2L\", \"2LC\", \"2RC\", \"2R\", \"3L\", \"3LC\", \"3RC\", \"3R\", \"4\", \"X\", \"Y\", \"rDNA\")\n",
    "      )\n",
    "    ),\n",
    "    across(\n",
    "      !matches(\"^(x|region)$\"),\n",
    "      list(\n",
    "        LOESS = ~ (\n",
    "          loess(\n",
    "            y.track ~ x.track,\n",
    "            tibble(\n",
    "              x.track = .x[[1]][seqnames(.x[[1]]) == chr] %>% mid(),\n",
    "              y.track = .x[[1]][seqnames(.x[[1]]) == chr]$score,\n",
    "            ),\n",
    "            span = if (chr == \"rDNA\") {\n",
    "              0.1\n",
    "            } else {\n",
    "              0.025\n",
    "            }\n",
    "          ) %>%\n",
    "          predict(tibble(x.track = x))\n",
    "        )\n",
    "      )\n",
    "    )\n",
    "  ) %>%\n",
    "  subset(select = -c(xmin, xmax))\n",
    "subset(Y, region == \"rDNA\")"
   ]
  },
  {
   "cell_type": "code",
   "execution_count": 32,
   "metadata": {
    "vscode": {
     "languageId": "r"
    }
   },
   "outputs": [
    {
     "data": {
      "text/plain": [
       "$`2L`\n",
       "\n",
       "\tWelch Two Sample t-test\n",
       "\n",
       "data:  qlogistanh(Germline_LOESS) and qlogistanh(Somatic_LOESS)\n",
       "t = 6.5089, df = 2213.6, p-value = 9.333e-11\n",
       "alternative hypothesis: true difference in means is not equal to 0\n",
       "95 percent confidence interval:\n",
       " 0.1578006 0.2938865\n",
       "sample estimates:\n",
       "   mean of x    mean of y \n",
       " 0.224035555 -0.001807994 \n",
       "\n",
       "\n",
       "$`2LC`\n",
       "\n",
       "\tWelch Two Sample t-test\n",
       "\n",
       "data:  qlogistanh(Germline_LOESS) and qlogistanh(Somatic_LOESS)\n",
       "t = 11.229, df = 94.68, p-value < 2.2e-16\n",
       "alternative hypothesis: true difference in means is not equal to 0\n",
       "95 percent confidence interval:\n",
       " 0.8454739 1.2086450\n",
       "sample estimates:\n",
       " mean of x  mean of y \n",
       "-0.1369713 -1.1640307 \n",
       "\n",
       "\n",
       "$`2RC`\n",
       "\n",
       "\tWelch Two Sample t-test\n",
       "\n",
       "data:  qlogistanh(Germline_LOESS) and qlogistanh(Somatic_LOESS)\n",
       "t = 5.5222, df = 421.81, p-value = 5.864e-08\n",
       "alternative hypothesis: true difference in means is not equal to 0\n",
       "95 percent confidence interval:\n",
       " 0.2139929 0.4505283\n",
       "sample estimates:\n",
       " mean of x  mean of y \n",
       "-0.6962408 -1.0285014 \n",
       "\n",
       "\n",
       "$`2R`\n",
       "\n",
       "\tWelch Two Sample t-test\n",
       "\n",
       "data:  qlogistanh(Germline_LOESS) and qlogistanh(Somatic_LOESS)\n",
       "t = 6.6061, df = 1959.1, p-value = 5.067e-11\n",
       "alternative hypothesis: true difference in means is not equal to 0\n",
       "95 percent confidence interval:\n",
       " 0.1405695 0.2592710\n",
       "sample estimates:\n",
       "mean of x mean of y \n",
       "0.5289975 0.3290773 \n",
       "\n",
       "\n",
       "$`3L`\n",
       "\n",
       "\tWelch Two Sample t-test\n",
       "\n",
       "data:  qlogistanh(Germline_LOESS) and qlogistanh(Somatic_LOESS)\n",
       "t = 3.6089, df = 2206.1, p-value = 0.0003143\n",
       "alternative hypothesis: true difference in means is not equal to 0\n",
       "95 percent confidence interval:\n",
       " 0.05096635 0.17227187\n",
       "sample estimates:\n",
       "mean of x mean of y \n",
       "0.3145897 0.2029706 \n",
       "\n",
       "\n",
       "$`3LC`\n",
       "\n",
       "\tWelch Two Sample t-test\n",
       "\n",
       "data:  qlogistanh(Germline_LOESS) and qlogistanh(Somatic_LOESS)\n",
       "t = 11.592, df = 304.5, p-value < 2.2e-16\n",
       "alternative hypothesis: true difference in means is not equal to 0\n",
       "95 percent confidence interval:\n",
       " 0.4216930 0.5941379\n",
       "sample estimates:\n",
       " mean of x  mean of y \n",
       "-0.7803131 -1.2882285 \n",
       "\n",
       "\n",
       "$`3RC`\n",
       "\n",
       "\tWelch Two Sample t-test\n",
       "\n",
       "data:  qlogistanh(Germline_LOESS) and qlogistanh(Somatic_LOESS)\n",
       "t = -10.041, df = 320.63, p-value < 2.2e-16\n",
       "alternative hypothesis: true difference in means is not equal to 0\n",
       "95 percent confidence interval:\n",
       " -0.4734733 -0.3183245\n",
       "sample estimates:\n",
       " mean of x  mean of y \n",
       "-1.2703232 -0.8744244 \n",
       "\n",
       "\n",
       "$`3R`\n",
       "\n",
       "\tWelch Two Sample t-test\n",
       "\n",
       "data:  qlogistanh(Germline_LOESS) and qlogistanh(Somatic_LOESS)\n",
       "t = 13.171, df = 2674.5, p-value < 2.2e-16\n",
       "alternative hypothesis: true difference in means is not equal to 0\n",
       "95 percent confidence interval:\n",
       " 0.3031592 0.4092150\n",
       "sample estimates:\n",
       " mean of x  mean of y \n",
       "0.37052966 0.01434257 \n",
       "\n",
       "\n",
       "$`4`\n",
       "\n",
       "\tWelch Two Sample t-test\n",
       "\n",
       "data:  qlogistanh(Germline_LOESS) and qlogistanh(Somatic_LOESS)\n",
       "t = 8.6616, df = 124.37, p-value = 2.056e-14\n",
       "alternative hypothesis: true difference in means is not equal to 0\n",
       "95 percent confidence interval:\n",
       " 0.5687234 0.9056193\n",
       "sample estimates:\n",
       "mean of x mean of y \n",
       "1.4011300 0.6639587 \n",
       "\n",
       "\n",
       "$X\n",
       "\n",
       "\tWelch Two Sample t-test\n",
       "\n",
       "data:  qlogistanh(Germline_LOESS) and qlogistanh(Somatic_LOESS)\n",
       "t = 0.077074, df = 2294.5, p-value = 0.9386\n",
       "alternative hypothesis: true difference in means is not equal to 0\n",
       "95 percent confidence interval:\n",
       " -0.05429319  0.05873562\n",
       "sample estimates:\n",
       "mean of x mean of y \n",
       "0.4507929 0.4485717 \n",
       "\n",
       "\n",
       "$Y\n",
       "\n",
       "\tWelch Two Sample t-test\n",
       "\n",
       "data:  qlogistanh(Germline_LOESS) and qlogistanh(Somatic_LOESS)\n",
       "t = -5.1956, df = 250.72, p-value = 4.228e-07\n",
       "alternative hypothesis: true difference in means is not equal to 0\n",
       "95 percent confidence interval:\n",
       " -0.3677887 -0.1656005\n",
       "sample estimates:\n",
       " mean of x  mean of y \n",
       "-0.8110343 -0.5443397 \n",
       "\n",
       "\n",
       "$rDNA\n",
       "\n",
       "\tWelch Two Sample t-test\n",
       "\n",
       "data:  qlogistanh(Germline_LOESS) and qlogistanh(Somatic_LOESS)\n",
       "t = 8.4916, df = 1.5632, p-value = 0.02711\n",
       "alternative hypothesis: true difference in means is not equal to 0\n",
       "95 percent confidence interval:\n",
       " 0.8890046 4.4950452\n",
       "sample estimates:\n",
       "mean of x mean of y \n",
       " 1.620105 -1.071920 \n",
       "\n"
      ]
     },
     "metadata": {},
     "output_type": "display_data"
    }
   ],
   "source": [
    "sapply(\n",
    "  levels(Y$region),\n",
    "  \\(n) with(\n",
    "    subset(Y, region == n & x %% 20000 == 2500),\n",
    "    t.test(qlogistanh(Germline_LOESS), qlogistanh(Somatic_LOESS))\n",
    "  ),\n",
    "  simplify=FALSE\n",
    ")"
   ]
  },
  {
   "cell_type": "code",
   "execution_count": 25,
   "metadata": {
    "vscode": {
     "languageId": "r"
    }
   },
   "outputs": [
    {
     "data": {
      "text/html": [
       "<table class=\"dataframe\">\n",
       "<caption>A matrix: 6 × 4 of type dbl</caption>\n",
       "<thead>\n",
       "\t<tr><th></th><th scope=col>Germline_LOESS</th><th scope=col>Somatic_LOESS</th><th scope=col>Kc167_LOESS</th><th scope=col>S2_LOESS</th></tr>\n",
       "</thead>\n",
       "<tbody>\n",
       "\t<tr><th scope=row>[27504,]</th><td>1.4416166</td><td>-0.196228455</td><td>-0.39059482</td><td>-0.8547933</td></tr>\n",
       "\t<tr><th scope=row>[27505,]</th><td>1.4583548</td><td>-0.252279529</td><td>-0.40024781</td><td>-0.8058275</td></tr>\n",
       "\t<tr><th scope=row>[27506,]</th><td>0.9181662</td><td> 0.451990640</td><td> 0.02696463</td><td>-1.3971214</td></tr>\n",
       "\t<tr><th scope=row>[27507,]</th><td>1.4642864</td><td>-0.287717381</td><td>-0.38712951</td><td>-0.7894395</td></tr>\n",
       "\t<tr><th scope=row>[27508,]</th><td>1.3859842</td><td> 0.000566436</td><td>-0.45059642</td><td>-0.9359542</td></tr>\n",
       "\t<tr><th scope=row>[27509,]</th><td>1.4510692</td><td>-0.217053878</td><td>-0.40977718</td><td>-0.8242381</td></tr>\n",
       "</tbody>\n",
       "</table>\n"
      ],
      "text/latex": [
       "A matrix: 6 × 4 of type dbl\n",
       "\\begin{tabular}{r|llll}\n",
       "  & Germline\\_LOESS & Somatic\\_LOESS & Kc167\\_LOESS & S2\\_LOESS\\\\\n",
       "\\hline\n",
       "\t{[}27504,{]} & 1.4416166 & -0.196228455 & -0.39059482 & -0.8547933\\\\\n",
       "\t{[}27505,{]} & 1.4583548 & -0.252279529 & -0.40024781 & -0.8058275\\\\\n",
       "\t{[}27506,{]} & 0.9181662 &  0.451990640 &  0.02696463 & -1.3971214\\\\\n",
       "\t{[}27507,{]} & 1.4642864 & -0.287717381 & -0.38712951 & -0.7894395\\\\\n",
       "\t{[}27508,{]} & 1.3859842 &  0.000566436 & -0.45059642 & -0.9359542\\\\\n",
       "\t{[}27509,{]} & 1.4510692 & -0.217053878 & -0.40977718 & -0.8242381\\\\\n",
       "\\end{tabular}\n"
      ],
      "text/markdown": [
       "\n",
       "A matrix: 6 × 4 of type dbl\n",
       "\n",
       "| <!--/--> | Germline_LOESS | Somatic_LOESS | Kc167_LOESS | S2_LOESS |\n",
       "|---|---|---|---|---|\n",
       "| [27504,] | 1.4416166 | -0.196228455 | -0.39059482 | -0.8547933 |\n",
       "| [27505,] | 1.4583548 | -0.252279529 | -0.40024781 | -0.8058275 |\n",
       "| [27506,] | 0.9181662 |  0.451990640 |  0.02696463 | -1.3971214 |\n",
       "| [27507,] | 1.4642864 | -0.287717381 | -0.38712951 | -0.7894395 |\n",
       "| [27508,] | 1.3859842 |  0.000566436 | -0.45059642 | -0.9359542 |\n",
       "| [27509,] | 1.4510692 | -0.217053878 | -0.40977718 | -0.8242381 |\n",
       "\n"
      ],
      "text/plain": [
       "         Germline_LOESS Somatic_LOESS Kc167_LOESS S2_LOESS  \n",
       "[27504,] 1.4416166      -0.196228455  -0.39059482 -0.8547933\n",
       "[27505,] 1.4583548      -0.252279529  -0.40024781 -0.8058275\n",
       "[27506,] 0.9181662       0.451990640   0.02696463 -1.3971214\n",
       "[27507,] 1.4642864      -0.287717381  -0.38712951 -0.7894395\n",
       "[27508,] 1.3859842       0.000566436  -0.45059642 -0.9359542\n",
       "[27509,] 1.4510692      -0.217053878  -0.40977718 -0.8242381"
      ]
     },
     "metadata": {},
     "output_type": "display_data"
    }
   ],
   "source": [
    "YS <- Y[\n",
    "  c(\"Germline_LOESS\", \"Somatic_LOESS\", \"Kc167_LOESS\", \"S2_LOESS\")\n",
    "] %>%\n",
    "  as.matrix() %>%\n",
    "  scale() %>%\n",
    "  t() %>%\n",
    "  scale() %>%\n",
    "  t()\n",
    "YS[Y$chr == \"Y\", ] <- (\n",
    "  YS[Y$chr == \"Y\", c(1, 2, 4)] %>%\n",
    "    t() %>%\n",
    "    scale() %>%\n",
    "    t() %>%\n",
    "    `%*%`(\n",
    "      matrix(\n",
    "        c(\n",
    "          1, 0, 0,\n",
    "          0, 1, 0,\n",
    "          0, 0, 0,\n",
    "          0, 0, 1\n",
    "        ),\n",
    "        nrow = 3,\n",
    "        dimnames = list(\n",
    "          NULL,\n",
    "          colnames(Y)[4:7]\n",
    "        )\n",
    "      )\n",
    "    )\n",
    ")\n",
    "tail(YS)"
   ]
  },
  {
   "cell_type": "code",
   "execution_count": 21,
   "metadata": {
    "vscode": {
     "languageId": "r"
    }
   },
   "outputs": [
    {
     "data": {
      "text/plain": [
       "\n",
       "  2L  2LC  2RC   2R   3L  3LC  3RC   3R    4    X    Y rDNA \n",
       "4438  264 1130 3926 4631  990  846 5569  269 4707  732    7 "
      ]
     },
     "metadata": {},
     "output_type": "display_data"
    }
   ],
   "source": [
    "table(Y$region)"
   ]
  },
  {
   "cell_type": "code",
   "execution_count": null,
   "metadata": {
    "vscode": {
     "languageId": "r"
    }
   },
   "outputs": [
    {
     "data": {
      "text/html": [
       "<dl>\n",
       "\t<dt>$`2L`</dt>\n",
       "\t\t<dd><table class=\"dataframe\">\n",
       "<caption>A anova: 2 × 5</caption>\n",
       "<thead>\n",
       "\t<tr><th></th><th scope=col>Df</th><th scope=col>Sum Sq</th><th scope=col>Mean Sq</th><th scope=col>F value</th><th scope=col>Pr(&gt;F)</th></tr>\n",
       "\t<tr><th></th><th scope=col>&lt;int&gt;</th><th scope=col>&lt;dbl&gt;</th><th scope=col>&lt;dbl&gt;</th><th scope=col>&lt;dbl&gt;</th><th scope=col>&lt;dbl&gt;</th></tr>\n",
       "</thead>\n",
       "<tbody>\n",
       "\t<tr><th scope=row>Var2</th><td>   3</td><td>   7.519516</td><td>2.5065052</td><td>3.346553</td><td>0.01831749</td></tr>\n",
       "\t<tr><th scope=row>Residuals</th><td>4436</td><td>3322.480484</td><td>0.7489812</td><td>      NA</td><td>        NA</td></tr>\n",
       "</tbody>\n",
       "</table>\n",
       "</dd>\n",
       "\t<dt>$`2LC`</dt>\n",
       "\t\t<dd><table class=\"dataframe\">\n",
       "<caption>A anova: 2 × 5</caption>\n",
       "<thead>\n",
       "\t<tr><th></th><th scope=col>Df</th><th scope=col>Sum Sq</th><th scope=col>Mean Sq</th><th scope=col>F value</th><th scope=col>Pr(&gt;F)</th></tr>\n",
       "\t<tr><th></th><th scope=col>&lt;int&gt;</th><th scope=col>&lt;dbl&gt;</th><th scope=col>&lt;dbl&gt;</th><th scope=col>&lt;dbl&gt;</th><th scope=col>&lt;dbl&gt;</th></tr>\n",
       "</thead>\n",
       "<tbody>\n",
       "\t<tr><th scope=row>Var2</th><td>  3</td><td>128.3176</td><td>42.7725318</td><td>159.5935</td><td>1.14003e-58</td></tr>\n",
       "\t<tr><th scope=row>Residuals</th><td>260</td><td> 69.6824</td><td> 0.2680092</td><td>      NA</td><td>         NA</td></tr>\n",
       "</tbody>\n",
       "</table>\n",
       "</dd>\n",
       "\t<dt>$`2RC`</dt>\n",
       "\t\t<dd><table class=\"dataframe\">\n",
       "<caption>A anova: 2 × 5</caption>\n",
       "<thead>\n",
       "\t<tr><th></th><th scope=col>Df</th><th scope=col>Sum Sq</th><th scope=col>Mean Sq</th><th scope=col>F value</th><th scope=col>Pr(&gt;F)</th></tr>\n",
       "\t<tr><th></th><th scope=col>&lt;int&gt;</th><th scope=col>&lt;dbl&gt;</th><th scope=col>&lt;dbl&gt;</th><th scope=col>&lt;dbl&gt;</th><th scope=col>&lt;dbl&gt;</th></tr>\n",
       "</thead>\n",
       "<tbody>\n",
       "\t<tr><th scope=row>Var2</th><td>   3</td><td> 80.93249</td><td>26.9774969</td><td>39.61972</td><td>2.414984e-24</td></tr>\n",
       "\t<tr><th scope=row>Residuals</th><td>1128</td><td>768.06751</td><td> 0.6809109</td><td>      NA</td><td>          NA</td></tr>\n",
       "</tbody>\n",
       "</table>\n",
       "</dd>\n",
       "\t<dt>$`2R`</dt>\n",
       "\t\t<dd><table class=\"dataframe\">\n",
       "<caption>A anova: 2 × 5</caption>\n",
       "<thead>\n",
       "\t<tr><th></th><th scope=col>Df</th><th scope=col>Sum Sq</th><th scope=col>Mean Sq</th><th scope=col>F value</th><th scope=col>Pr(&gt;F)</th></tr>\n",
       "\t<tr><th></th><th scope=col>&lt;int&gt;</th><th scope=col>&lt;dbl&gt;</th><th scope=col>&lt;dbl&gt;</th><th scope=col>&lt;dbl&gt;</th><th scope=col>&lt;dbl&gt;</th></tr>\n",
       "</thead>\n",
       "<tbody>\n",
       "\t<tr><th scope=row>Var2</th><td>   3</td><td>  37.38612</td><td>12.462041</td><td>16.81269</td><td>7.522505e-11</td></tr>\n",
       "\t<tr><th scope=row>Residuals</th><td>3920</td><td>2905.61388</td><td> 0.741228</td><td>      NA</td><td>          NA</td></tr>\n",
       "</tbody>\n",
       "</table>\n",
       "</dd>\n",
       "\t<dt>$`3L`</dt>\n",
       "\t\t<dd><table class=\"dataframe\">\n",
       "<caption>A anova: 2 × 5</caption>\n",
       "<thead>\n",
       "\t<tr><th></th><th scope=col>Df</th><th scope=col>Sum Sq</th><th scope=col>Mean Sq</th><th scope=col>F value</th><th scope=col>Pr(&gt;F)</th></tr>\n",
       "\t<tr><th></th><th scope=col>&lt;int&gt;</th><th scope=col>&lt;dbl&gt;</th><th scope=col>&lt;dbl&gt;</th><th scope=col>&lt;dbl&gt;</th><th scope=col>&lt;dbl&gt;</th></tr>\n",
       "</thead>\n",
       "<tbody>\n",
       "\t<tr><th scope=row>Var2</th><td>   3</td><td>  42.79565</td><td>14.2652165</td><td>19.24089</td><td>2.14058e-12</td></tr>\n",
       "\t<tr><th scope=row>Residuals</th><td>4628</td><td>3431.20435</td><td> 0.7414011</td><td>      NA</td><td>         NA</td></tr>\n",
       "</tbody>\n",
       "</table>\n",
       "</dd>\n",
       "\t<dt>$`3LC`</dt>\n",
       "\t\t<dd><table class=\"dataframe\">\n",
       "<caption>A anova: 2 × 5</caption>\n",
       "<thead>\n",
       "\t<tr><th></th><th scope=col>Df</th><th scope=col>Sum Sq</th><th scope=col>Mean Sq</th><th scope=col>F value</th><th scope=col>Pr(&gt;F)</th></tr>\n",
       "\t<tr><th></th><th scope=col>&lt;int&gt;</th><th scope=col>&lt;dbl&gt;</th><th scope=col>&lt;dbl&gt;</th><th scope=col>&lt;dbl&gt;</th><th scope=col>&lt;dbl&gt;</th></tr>\n",
       "</thead>\n",
       "<tbody>\n",
       "\t<tr><th scope=row>Var2</th><td>  3</td><td> 36.23148</td><td>12.0771597</td><td>16.85895</td><td>1.09895e-10</td></tr>\n",
       "\t<tr><th scope=row>Residuals</th><td>988</td><td>707.76852</td><td> 0.7163649</td><td>      NA</td><td>         NA</td></tr>\n",
       "</tbody>\n",
       "</table>\n",
       "</dd>\n",
       "\t<dt>$`3RC`</dt>\n",
       "\t\t<dd><table class=\"dataframe\">\n",
       "<caption>A anova: 2 × 5</caption>\n",
       "<thead>\n",
       "\t<tr><th></th><th scope=col>Df</th><th scope=col>Sum Sq</th><th scope=col>Mean Sq</th><th scope=col>F value</th><th scope=col>Pr(&gt;F)</th></tr>\n",
       "\t<tr><th></th><th scope=col>&lt;int&gt;</th><th scope=col>&lt;dbl&gt;</th><th scope=col>&lt;dbl&gt;</th><th scope=col>&lt;dbl&gt;</th><th scope=col>&lt;dbl&gt;</th></tr>\n",
       "</thead>\n",
       "<tbody>\n",
       "\t<tr><th scope=row>Var2</th><td>  3</td><td>340.3893</td><td>113.4631000</td><td>323.9492</td><td>6.534341e-140</td></tr>\n",
       "\t<tr><th scope=row>Residuals</th><td>844</td><td>295.6107</td><td>  0.3502496</td><td>      NA</td><td>           NA</td></tr>\n",
       "</tbody>\n",
       "</table>\n",
       "</dd>\n",
       "\t<dt>$`3R`</dt>\n",
       "\t\t<dd><table class=\"dataframe\">\n",
       "<caption>A anova: 2 × 5</caption>\n",
       "<thead>\n",
       "\t<tr><th></th><th scope=col>Df</th><th scope=col>Sum Sq</th><th scope=col>Mean Sq</th><th scope=col>F value</th><th scope=col>Pr(&gt;F)</th></tr>\n",
       "\t<tr><th></th><th scope=col>&lt;int&gt;</th><th scope=col>&lt;dbl&gt;</th><th scope=col>&lt;dbl&gt;</th><th scope=col>&lt;dbl&gt;</th><th scope=col>&lt;dbl&gt;</th></tr>\n",
       "</thead>\n",
       "<tbody>\n",
       "\t<tr><th scope=row>Var2</th><td>   3</td><td> 200.3721</td><td>66.7906937</td><td>93.4754</td><td>5.103089e-59</td></tr>\n",
       "\t<tr><th scope=row>Residuals</th><td>5564</td><td>3975.6279</td><td> 0.7145269</td><td>     NA</td><td>          NA</td></tr>\n",
       "</tbody>\n",
       "</table>\n",
       "</dd>\n",
       "\t<dt>$`4`</dt>\n",
       "\t\t<dd><table class=\"dataframe\">\n",
       "<caption>A anova: 2 × 5</caption>\n",
       "<thead>\n",
       "\t<tr><th></th><th scope=col>Df</th><th scope=col>Sum Sq</th><th scope=col>Mean Sq</th><th scope=col>F value</th><th scope=col>Pr(&gt;F)</th></tr>\n",
       "\t<tr><th></th><th scope=col>&lt;int&gt;</th><th scope=col>&lt;dbl&gt;</th><th scope=col>&lt;dbl&gt;</th><th scope=col>&lt;dbl&gt;</th><th scope=col>&lt;dbl&gt;</th></tr>\n",
       "</thead>\n",
       "<tbody>\n",
       "\t<tr><th scope=row>Var2</th><td>  3</td><td> 77.35879</td><td>25.7862634</td><td>54.56927</td><td>1.458424e-27</td></tr>\n",
       "\t<tr><th scope=row>Residuals</th><td>268</td><td>126.64121</td><td> 0.4725418</td><td>      NA</td><td>          NA</td></tr>\n",
       "</tbody>\n",
       "</table>\n",
       "</dd>\n",
       "\t<dt>$X</dt>\n",
       "\t\t<dd><table class=\"dataframe\">\n",
       "<caption>A anova: 2 × 5</caption>\n",
       "<thead>\n",
       "\t<tr><th></th><th scope=col>Df</th><th scope=col>Sum Sq</th><th scope=col>Mean Sq</th><th scope=col>F value</th><th scope=col>Pr(&gt;F)</th></tr>\n",
       "\t<tr><th></th><th scope=col>&lt;int&gt;</th><th scope=col>&lt;dbl&gt;</th><th scope=col>&lt;dbl&gt;</th><th scope=col>&lt;dbl&gt;</th><th scope=col>&lt;dbl&gt;</th></tr>\n",
       "</thead>\n",
       "<tbody>\n",
       "\t<tr><th scope=row>Var2</th><td>   3</td><td> 644.4233</td><td>214.807764</td><td>350.0533</td><td>3.427037e-205</td></tr>\n",
       "\t<tr><th scope=row>Residuals</th><td>4704</td><td>2886.5767</td><td>  0.613643</td><td>      NA</td><td>           NA</td></tr>\n",
       "</tbody>\n",
       "</table>\n",
       "</dd>\n",
       "\t<dt>$Y</dt>\n",
       "\t\t<dd><table class=\"dataframe\">\n",
       "<caption>A anova: 2 × 5</caption>\n",
       "<thead>\n",
       "\t<tr><th></th><th scope=col>Df</th><th scope=col>Sum Sq</th><th scope=col>Mean Sq</th><th scope=col>F value</th><th scope=col>Pr(&gt;F)</th></tr>\n",
       "\t<tr><th></th><th scope=col>&lt;int&gt;</th><th scope=col>&lt;dbl&gt;</th><th scope=col>&lt;dbl&gt;</th><th scope=col>&lt;dbl&gt;</th><th scope=col>&lt;dbl&gt;</th></tr>\n",
       "</thead>\n",
       "<tbody>\n",
       "\t<tr><th scope=row>Var2</th><td>  3</td><td>120.6955</td><td>40.2318436</td><td>119.3977</td><td>6.909309e-63</td></tr>\n",
       "\t<tr><th scope=row>Residuals</th><td>728</td><td>245.3045</td><td> 0.3369567</td><td>      NA</td><td>          NA</td></tr>\n",
       "</tbody>\n",
       "</table>\n",
       "</dd>\n",
       "\t<dt>$rDNA</dt>\n",
       "\t\t<dd><table class=\"dataframe\">\n",
       "<caption>A anova: 2 × 5</caption>\n",
       "<thead>\n",
       "\t<tr><th></th><th scope=col>Df</th><th scope=col>Sum Sq</th><th scope=col>Mean Sq</th><th scope=col>F value</th><th scope=col>Pr(&gt;F)</th></tr>\n",
       "\t<tr><th></th><th scope=col>&lt;int&gt;</th><th scope=col>&lt;dbl&gt;</th><th scope=col>&lt;dbl&gt;</th><th scope=col>&lt;dbl&gt;</th><th scope=col>&lt;dbl&gt;</th></tr>\n",
       "</thead>\n",
       "<tbody>\n",
       "\t<tr><th scope=row>Var2</th><td>3</td><td>5.97399476</td><td>1.991331587</td><td>306.297</td><td>3.517159e-05</td></tr>\n",
       "\t<tr><th scope=row>Residuals</th><td>4</td><td>0.02600524</td><td>0.006501309</td><td>     NA</td><td>          NA</td></tr>\n",
       "</tbody>\n",
       "</table>\n",
       "</dd>\n",
       "</dl>\n"
      ],
      "text/latex": [
       "\\begin{description}\n",
       "\\item[\\$`2L`] A anova: 2 × 5\n",
       "\\begin{tabular}{r|lllll}\n",
       "  & Df & Sum Sq & Mean Sq & F value & Pr(>F)\\\\\n",
       "  & <int> & <dbl> & <dbl> & <dbl> & <dbl>\\\\\n",
       "\\hline\n",
       "\tVar2 &    3 &    7.519516 & 2.5065052 & 3.346553 & 0.01831749\\\\\n",
       "\tResiduals & 4436 & 3322.480484 & 0.7489812 &       NA &         NA\\\\\n",
       "\\end{tabular}\n",
       "\n",
       "\\item[\\$`2LC`] A anova: 2 × 5\n",
       "\\begin{tabular}{r|lllll}\n",
       "  & Df & Sum Sq & Mean Sq & F value & Pr(>F)\\\\\n",
       "  & <int> & <dbl> & <dbl> & <dbl> & <dbl>\\\\\n",
       "\\hline\n",
       "\tVar2 &   3 & 128.3176 & 42.7725318 & 159.5935 & 1.14003e-58\\\\\n",
       "\tResiduals & 260 &  69.6824 &  0.2680092 &       NA &          NA\\\\\n",
       "\\end{tabular}\n",
       "\n",
       "\\item[\\$`2RC`] A anova: 2 × 5\n",
       "\\begin{tabular}{r|lllll}\n",
       "  & Df & Sum Sq & Mean Sq & F value & Pr(>F)\\\\\n",
       "  & <int> & <dbl> & <dbl> & <dbl> & <dbl>\\\\\n",
       "\\hline\n",
       "\tVar2 &    3 &  80.93249 & 26.9774969 & 39.61972 & 2.414984e-24\\\\\n",
       "\tResiduals & 1128 & 768.06751 &  0.6809109 &       NA &           NA\\\\\n",
       "\\end{tabular}\n",
       "\n",
       "\\item[\\$`2R`] A anova: 2 × 5\n",
       "\\begin{tabular}{r|lllll}\n",
       "  & Df & Sum Sq & Mean Sq & F value & Pr(>F)\\\\\n",
       "  & <int> & <dbl> & <dbl> & <dbl> & <dbl>\\\\\n",
       "\\hline\n",
       "\tVar2 &    3 &   37.38612 & 12.462041 & 16.81269 & 7.522505e-11\\\\\n",
       "\tResiduals & 3920 & 2905.61388 &  0.741228 &       NA &           NA\\\\\n",
       "\\end{tabular}\n",
       "\n",
       "\\item[\\$`3L`] A anova: 2 × 5\n",
       "\\begin{tabular}{r|lllll}\n",
       "  & Df & Sum Sq & Mean Sq & F value & Pr(>F)\\\\\n",
       "  & <int> & <dbl> & <dbl> & <dbl> & <dbl>\\\\\n",
       "\\hline\n",
       "\tVar2 &    3 &   42.79565 & 14.2652165 & 19.24089 & 2.14058e-12\\\\\n",
       "\tResiduals & 4628 & 3431.20435 &  0.7414011 &       NA &          NA\\\\\n",
       "\\end{tabular}\n",
       "\n",
       "\\item[\\$`3LC`] A anova: 2 × 5\n",
       "\\begin{tabular}{r|lllll}\n",
       "  & Df & Sum Sq & Mean Sq & F value & Pr(>F)\\\\\n",
       "  & <int> & <dbl> & <dbl> & <dbl> & <dbl>\\\\\n",
       "\\hline\n",
       "\tVar2 &   3 &  36.23148 & 12.0771597 & 16.85895 & 1.09895e-10\\\\\n",
       "\tResiduals & 988 & 707.76852 &  0.7163649 &       NA &          NA\\\\\n",
       "\\end{tabular}\n",
       "\n",
       "\\item[\\$`3RC`] A anova: 2 × 5\n",
       "\\begin{tabular}{r|lllll}\n",
       "  & Df & Sum Sq & Mean Sq & F value & Pr(>F)\\\\\n",
       "  & <int> & <dbl> & <dbl> & <dbl> & <dbl>\\\\\n",
       "\\hline\n",
       "\tVar2 &   3 & 340.3893 & 113.4631000 & 323.9492 & 6.534341e-140\\\\\n",
       "\tResiduals & 844 & 295.6107 &   0.3502496 &       NA &            NA\\\\\n",
       "\\end{tabular}\n",
       "\n",
       "\\item[\\$`3R`] A anova: 2 × 5\n",
       "\\begin{tabular}{r|lllll}\n",
       "  & Df & Sum Sq & Mean Sq & F value & Pr(>F)\\\\\n",
       "  & <int> & <dbl> & <dbl> & <dbl> & <dbl>\\\\\n",
       "\\hline\n",
       "\tVar2 &    3 &  200.3721 & 66.7906937 & 93.4754 & 5.103089e-59\\\\\n",
       "\tResiduals & 5564 & 3975.6279 &  0.7145269 &      NA &           NA\\\\\n",
       "\\end{tabular}\n",
       "\n",
       "\\item[\\$`4`] A anova: 2 × 5\n",
       "\\begin{tabular}{r|lllll}\n",
       "  & Df & Sum Sq & Mean Sq & F value & Pr(>F)\\\\\n",
       "  & <int> & <dbl> & <dbl> & <dbl> & <dbl>\\\\\n",
       "\\hline\n",
       "\tVar2 &   3 &  77.35879 & 25.7862634 & 54.56927 & 1.458424e-27\\\\\n",
       "\tResiduals & 268 & 126.64121 &  0.4725418 &       NA &           NA\\\\\n",
       "\\end{tabular}\n",
       "\n",
       "\\item[\\$X] A anova: 2 × 5\n",
       "\\begin{tabular}{r|lllll}\n",
       "  & Df & Sum Sq & Mean Sq & F value & Pr(>F)\\\\\n",
       "  & <int> & <dbl> & <dbl> & <dbl> & <dbl>\\\\\n",
       "\\hline\n",
       "\tVar2 &    3 &  644.4233 & 214.807764 & 350.0533 & 3.427037e-205\\\\\n",
       "\tResiduals & 4704 & 2886.5767 &   0.613643 &       NA &            NA\\\\\n",
       "\\end{tabular}\n",
       "\n",
       "\\item[\\$Y] A anova: 2 × 5\n",
       "\\begin{tabular}{r|lllll}\n",
       "  & Df & Sum Sq & Mean Sq & F value & Pr(>F)\\\\\n",
       "  & <int> & <dbl> & <dbl> & <dbl> & <dbl>\\\\\n",
       "\\hline\n",
       "\tVar2 &   3 & 120.6955 & 40.2318436 & 119.3977 & 6.909309e-63\\\\\n",
       "\tResiduals & 728 & 245.3045 &  0.3369567 &       NA &           NA\\\\\n",
       "\\end{tabular}\n",
       "\n",
       "\\item[\\$rDNA] A anova: 2 × 5\n",
       "\\begin{tabular}{r|lllll}\n",
       "  & Df & Sum Sq & Mean Sq & F value & Pr(>F)\\\\\n",
       "  & <int> & <dbl> & <dbl> & <dbl> & <dbl>\\\\\n",
       "\\hline\n",
       "\tVar2 & 3 & 5.97399476 & 1.991331587 & 306.297 & 3.517159e-05\\\\\n",
       "\tResiduals & 4 & 0.02600524 & 0.006501309 &      NA &           NA\\\\\n",
       "\\end{tabular}\n",
       "\n",
       "\\end{description}\n"
      ],
      "text/markdown": [
       "$`2L`\n",
       ":   \n",
       "A anova: 2 × 5\n",
       "\n",
       "| <!--/--> | Df &lt;int&gt; | Sum Sq &lt;dbl&gt; | Mean Sq &lt;dbl&gt; | F value &lt;dbl&gt; | Pr(&gt;F) &lt;dbl&gt; |\n",
       "|---|---|---|---|---|---|\n",
       "| Var2 |    3 |    7.519516 | 2.5065052 | 3.346553 | 0.01831749 |\n",
       "| Residuals | 4436 | 3322.480484 | 0.7489812 |       NA |         NA |\n",
       "\n",
       "\n",
       "$`2LC`\n",
       ":   \n",
       "A anova: 2 × 5\n",
       "\n",
       "| <!--/--> | Df &lt;int&gt; | Sum Sq &lt;dbl&gt; | Mean Sq &lt;dbl&gt; | F value &lt;dbl&gt; | Pr(&gt;F) &lt;dbl&gt; |\n",
       "|---|---|---|---|---|---|\n",
       "| Var2 |   3 | 128.3176 | 42.7725318 | 159.5935 | 1.14003e-58 |\n",
       "| Residuals | 260 |  69.6824 |  0.2680092 |       NA |          NA |\n",
       "\n",
       "\n",
       "$`2RC`\n",
       ":   \n",
       "A anova: 2 × 5\n",
       "\n",
       "| <!--/--> | Df &lt;int&gt; | Sum Sq &lt;dbl&gt; | Mean Sq &lt;dbl&gt; | F value &lt;dbl&gt; | Pr(&gt;F) &lt;dbl&gt; |\n",
       "|---|---|---|---|---|---|\n",
       "| Var2 |    3 |  80.93249 | 26.9774969 | 39.61972 | 2.414984e-24 |\n",
       "| Residuals | 1128 | 768.06751 |  0.6809109 |       NA |           NA |\n",
       "\n",
       "\n",
       "$`2R`\n",
       ":   \n",
       "A anova: 2 × 5\n",
       "\n",
       "| <!--/--> | Df &lt;int&gt; | Sum Sq &lt;dbl&gt; | Mean Sq &lt;dbl&gt; | F value &lt;dbl&gt; | Pr(&gt;F) &lt;dbl&gt; |\n",
       "|---|---|---|---|---|---|\n",
       "| Var2 |    3 |   37.38612 | 12.462041 | 16.81269 | 7.522505e-11 |\n",
       "| Residuals | 3920 | 2905.61388 |  0.741228 |       NA |           NA |\n",
       "\n",
       "\n",
       "$`3L`\n",
       ":   \n",
       "A anova: 2 × 5\n",
       "\n",
       "| <!--/--> | Df &lt;int&gt; | Sum Sq &lt;dbl&gt; | Mean Sq &lt;dbl&gt; | F value &lt;dbl&gt; | Pr(&gt;F) &lt;dbl&gt; |\n",
       "|---|---|---|---|---|---|\n",
       "| Var2 |    3 |   42.79565 | 14.2652165 | 19.24089 | 2.14058e-12 |\n",
       "| Residuals | 4628 | 3431.20435 |  0.7414011 |       NA |          NA |\n",
       "\n",
       "\n",
       "$`3LC`\n",
       ":   \n",
       "A anova: 2 × 5\n",
       "\n",
       "| <!--/--> | Df &lt;int&gt; | Sum Sq &lt;dbl&gt; | Mean Sq &lt;dbl&gt; | F value &lt;dbl&gt; | Pr(&gt;F) &lt;dbl&gt; |\n",
       "|---|---|---|---|---|---|\n",
       "| Var2 |   3 |  36.23148 | 12.0771597 | 16.85895 | 1.09895e-10 |\n",
       "| Residuals | 988 | 707.76852 |  0.7163649 |       NA |          NA |\n",
       "\n",
       "\n",
       "$`3RC`\n",
       ":   \n",
       "A anova: 2 × 5\n",
       "\n",
       "| <!--/--> | Df &lt;int&gt; | Sum Sq &lt;dbl&gt; | Mean Sq &lt;dbl&gt; | F value &lt;dbl&gt; | Pr(&gt;F) &lt;dbl&gt; |\n",
       "|---|---|---|---|---|---|\n",
       "| Var2 |   3 | 340.3893 | 113.4631000 | 323.9492 | 6.534341e-140 |\n",
       "| Residuals | 844 | 295.6107 |   0.3502496 |       NA |            NA |\n",
       "\n",
       "\n",
       "$`3R`\n",
       ":   \n",
       "A anova: 2 × 5\n",
       "\n",
       "| <!--/--> | Df &lt;int&gt; | Sum Sq &lt;dbl&gt; | Mean Sq &lt;dbl&gt; | F value &lt;dbl&gt; | Pr(&gt;F) &lt;dbl&gt; |\n",
       "|---|---|---|---|---|---|\n",
       "| Var2 |    3 |  200.3721 | 66.7906937 | 93.4754 | 5.103089e-59 |\n",
       "| Residuals | 5564 | 3975.6279 |  0.7145269 |      NA |           NA |\n",
       "\n",
       "\n",
       "$`4`\n",
       ":   \n",
       "A anova: 2 × 5\n",
       "\n",
       "| <!--/--> | Df &lt;int&gt; | Sum Sq &lt;dbl&gt; | Mean Sq &lt;dbl&gt; | F value &lt;dbl&gt; | Pr(&gt;F) &lt;dbl&gt; |\n",
       "|---|---|---|---|---|---|\n",
       "| Var2 |   3 |  77.35879 | 25.7862634 | 54.56927 | 1.458424e-27 |\n",
       "| Residuals | 268 | 126.64121 |  0.4725418 |       NA |           NA |\n",
       "\n",
       "\n",
       "$X\n",
       ":   \n",
       "A anova: 2 × 5\n",
       "\n",
       "| <!--/--> | Df &lt;int&gt; | Sum Sq &lt;dbl&gt; | Mean Sq &lt;dbl&gt; | F value &lt;dbl&gt; | Pr(&gt;F) &lt;dbl&gt; |\n",
       "|---|---|---|---|---|---|\n",
       "| Var2 |    3 |  644.4233 | 214.807764 | 350.0533 | 3.427037e-205 |\n",
       "| Residuals | 4704 | 2886.5767 |   0.613643 |       NA |            NA |\n",
       "\n",
       "\n",
       "$Y\n",
       ":   \n",
       "A anova: 2 × 5\n",
       "\n",
       "| <!--/--> | Df &lt;int&gt; | Sum Sq &lt;dbl&gt; | Mean Sq &lt;dbl&gt; | F value &lt;dbl&gt; | Pr(&gt;F) &lt;dbl&gt; |\n",
       "|---|---|---|---|---|---|\n",
       "| Var2 |   3 | 120.6955 | 40.2318436 | 119.3977 | 6.909309e-63 |\n",
       "| Residuals | 728 | 245.3045 |  0.3369567 |       NA |           NA |\n",
       "\n",
       "\n",
       "$rDNA\n",
       ":   \n",
       "A anova: 2 × 5\n",
       "\n",
       "| <!--/--> | Df &lt;int&gt; | Sum Sq &lt;dbl&gt; | Mean Sq &lt;dbl&gt; | F value &lt;dbl&gt; | Pr(&gt;F) &lt;dbl&gt; |\n",
       "|---|---|---|---|---|---|\n",
       "| Var2 | 3 | 5.97399476 | 1.991331587 | 306.297 | 3.517159e-05 |\n",
       "| Residuals | 4 | 0.02600524 | 0.006501309 |      NA |           NA |\n",
       "\n",
       "\n",
       "\n",
       "\n"
      ],
      "text/plain": [
       "$`2L`\n",
       "Analysis of Variance Table\n",
       "\n",
       "Response: value\n",
       "            Df Sum Sq Mean Sq F value  Pr(>F)  \n",
       "Var2         3    7.5 2.50651  3.3466 0.01832 *\n",
       "Residuals 4436 3322.5 0.74898                  \n",
       "---\n",
       "Signif. codes:  0 ‘***’ 0.001 ‘**’ 0.01 ‘*’ 0.05 ‘.’ 0.1 ‘ ’ 1\n",
       "\n",
       "$`2LC`\n",
       "Analysis of Variance Table\n",
       "\n",
       "Response: value\n",
       "           Df  Sum Sq Mean Sq F value    Pr(>F)    \n",
       "Var2        3 128.318  42.773  159.59 < 2.2e-16 ***\n",
       "Residuals 260  69.682   0.268                      \n",
       "---\n",
       "Signif. codes:  0 ‘***’ 0.001 ‘**’ 0.01 ‘*’ 0.05 ‘.’ 0.1 ‘ ’ 1\n",
       "\n",
       "$`2RC`\n",
       "Analysis of Variance Table\n",
       "\n",
       "Response: value\n",
       "            Df Sum Sq Mean Sq F value    Pr(>F)    \n",
       "Var2         3  80.93 26.9775   39.62 < 2.2e-16 ***\n",
       "Residuals 1128 768.07  0.6809                      \n",
       "---\n",
       "Signif. codes:  0 ‘***’ 0.001 ‘**’ 0.01 ‘*’ 0.05 ‘.’ 0.1 ‘ ’ 1\n",
       "\n",
       "$`2R`\n",
       "Analysis of Variance Table\n",
       "\n",
       "Response: value\n",
       "            Df  Sum Sq Mean Sq F value    Pr(>F)    \n",
       "Var2         3   37.39 12.4620  16.813 7.523e-11 ***\n",
       "Residuals 3920 2905.61  0.7412                      \n",
       "---\n",
       "Signif. codes:  0 ‘***’ 0.001 ‘**’ 0.01 ‘*’ 0.05 ‘.’ 0.1 ‘ ’ 1\n",
       "\n",
       "$`3L`\n",
       "Analysis of Variance Table\n",
       "\n",
       "Response: value\n",
       "            Df Sum Sq Mean Sq F value    Pr(>F)    \n",
       "Var2         3   42.8 14.2652  19.241 2.141e-12 ***\n",
       "Residuals 4628 3431.2  0.7414                      \n",
       "---\n",
       "Signif. codes:  0 ‘***’ 0.001 ‘**’ 0.01 ‘*’ 0.05 ‘.’ 0.1 ‘ ’ 1\n",
       "\n",
       "$`3LC`\n",
       "Analysis of Variance Table\n",
       "\n",
       "Response: value\n",
       "           Df Sum Sq Mean Sq F value    Pr(>F)    \n",
       "Var2        3  36.23 12.0772  16.859 1.099e-10 ***\n",
       "Residuals 988 707.77  0.7164                      \n",
       "---\n",
       "Signif. codes:  0 ‘***’ 0.001 ‘**’ 0.01 ‘*’ 0.05 ‘.’ 0.1 ‘ ’ 1\n",
       "\n",
       "$`3RC`\n",
       "Analysis of Variance Table\n",
       "\n",
       "Response: value\n",
       "           Df Sum Sq Mean Sq F value    Pr(>F)    \n",
       "Var2        3 340.39  113.46  323.95 < 2.2e-16 ***\n",
       "Residuals 844 295.61    0.35                      \n",
       "---\n",
       "Signif. codes:  0 ‘***’ 0.001 ‘**’ 0.01 ‘*’ 0.05 ‘.’ 0.1 ‘ ’ 1\n",
       "\n",
       "$`3R`\n",
       "Analysis of Variance Table\n",
       "\n",
       "Response: value\n",
       "            Df Sum Sq Mean Sq F value    Pr(>F)    \n",
       "Var2         3  200.4  66.791  93.475 < 2.2e-16 ***\n",
       "Residuals 5564 3975.6   0.715                      \n",
       "---\n",
       "Signif. codes:  0 ‘***’ 0.001 ‘**’ 0.01 ‘*’ 0.05 ‘.’ 0.1 ‘ ’ 1\n",
       "\n",
       "$`4`\n",
       "Analysis of Variance Table\n",
       "\n",
       "Response: value\n",
       "           Df  Sum Sq Mean Sq F value    Pr(>F)    \n",
       "Var2        3  77.359 25.7863  54.569 < 2.2e-16 ***\n",
       "Residuals 268 126.641  0.4725                      \n",
       "---\n",
       "Signif. codes:  0 ‘***’ 0.001 ‘**’ 0.01 ‘*’ 0.05 ‘.’ 0.1 ‘ ’ 1\n",
       "\n",
       "$X\n",
       "Analysis of Variance Table\n",
       "\n",
       "Response: value\n",
       "            Df  Sum Sq Mean Sq F value    Pr(>F)    \n",
       "Var2         3  644.42 214.808  350.05 < 2.2e-16 ***\n",
       "Residuals 4704 2886.58   0.614                      \n",
       "---\n",
       "Signif. codes:  0 ‘***’ 0.001 ‘**’ 0.01 ‘*’ 0.05 ‘.’ 0.1 ‘ ’ 1\n",
       "\n",
       "$Y\n",
       "Analysis of Variance Table\n",
       "\n",
       "Response: value\n",
       "           Df Sum Sq Mean Sq F value    Pr(>F)    \n",
       "Var2        3  120.7  40.232   119.4 < 2.2e-16 ***\n",
       "Residuals 728  245.3   0.337                      \n",
       "---\n",
       "Signif. codes:  0 ‘***’ 0.001 ‘**’ 0.01 ‘*’ 0.05 ‘.’ 0.1 ‘ ’ 1\n",
       "\n",
       "$rDNA\n",
       "Analysis of Variance Table\n",
       "\n",
       "Response: value\n",
       "          Df Sum Sq Mean Sq F value    Pr(>F)    \n",
       "Var2       3  5.974  1.9913   306.3 3.517e-05 ***\n",
       "Residuals  4  0.026  0.0065                      \n",
       "---\n",
       "Signif. codes:  0 ‘***’ 0.001 ‘**’ 0.01 ‘*’ 0.05 ‘.’ 0.1 ‘ ’ 1\n"
      ]
     },
     "metadata": {},
     "output_type": "display_data"
    }
   ],
   "source": [
    "sapply(\n",
    "  levels(Y$region),\n",
    "  \\(n) YS %>%\n",
    "    subset(Y$region == n & Y$x %% 20000 == 2500) %>%\n",
    "    melt() %>%\n",
    "    lm(value ~ Var2, .) %>%\n",
    "    anova(),\n",
    "  simplify=FALSE\n",
    ")"
   ]
  },
  {
   "cell_type": "markdown",
   "metadata": {},
   "source": [
    "ANOVA of Y Scaled & Testing the Posterior Distribution of the rDNA"
   ]
  },
  {
   "cell_type": "code",
   "execution_count": null,
   "metadata": {
    "vscode": {
     "languageId": "r"
    }
   },
   "outputs": [],
   "source": [
    "source(\"_targets.R\")"
   ]
  },
  {
   "cell_type": "code",
   "execution_count": null,
   "metadata": {
    "vscode": {
     "languageId": "r"
    }
   },
   "outputs": [],
   "source": [
    "line_cmap <- c(chic_line_track_colors$germline, chic_line_track_colors$somatic, hcl(50, 102, 57), hcl(255, 102, 57))\n",
    "\n",
    "library(forcats)\n",
    "\n",
    "tar_load(chic.tile.diameter_1000_chr | repli.peaks_chr)\n",
    "tar_load(matches(\"repli.timing_.*chr$\"))\n",
    "tar_load(chromosome_pericetromere_label)"
   ]
  },
  {
   "cell_type": "code",
   "execution_count": null,
   "metadata": {
    "vscode": {
     "languageId": "r"
    }
   },
   "outputs": [
    {
     "data": {
      "text/plain": [
       "GRanges object with 4 ranges and 0 metadata columns:\n",
       "      seqnames            ranges strand\n",
       "         <Rle>         <IRanges>  <Rle>\n",
       "  [1]       2L 22192401-23513712      *\n",
       "  [2]       2R         1-5651400      *\n",
       "  [3]       3L 23154101-28110227      *\n",
       "  [4]       3R         1-4229200      *\n",
       "  -------\n",
       "  seqinfo: 4 sequences from an unspecified genome; no seqlengths"
      ]
     },
     "metadata": {},
     "output_type": "display_data"
    }
   ],
   "source": [
    "chromosome_pericetromere_label"
   ]
  },
  {
   "cell_type": "code",
   "execution_count": null,
   "metadata": {
    "vscode": {
     "languageId": "r"
    }
   },
   "outputs": [
    {
     "data": {
      "text/html": [
       "<table class=\"dataframe\">\n",
       "<caption>A tibble: 7 × 2</caption>\n",
       "<thead>\n",
       "\t<tr><th scope=col>name</th><th scope=col>value</th></tr>\n",
       "\t<tr><th scope=col>&lt;chr&gt;</th><th scope=col>&lt;dbl&gt;</th></tr>\n",
       "</thead>\n",
       "<tbody>\n",
       "\t<tr><td>2L</td><td>23.513712</td></tr>\n",
       "\t<tr><td>2R</td><td>25.286936</td></tr>\n",
       "\t<tr><td>3L</td><td>28.110227</td></tr>\n",
       "\t<tr><td>3R</td><td>32.079331</td></tr>\n",
       "\t<tr><td>4 </td><td> 1.348131</td></tr>\n",
       "\t<tr><td>X </td><td>23.542271</td></tr>\n",
       "\t<tr><td>Y </td><td> 3.667352</td></tr>\n",
       "</tbody>\n",
       "</table>\n"
      ],
      "text/latex": [
       "A tibble: 7 × 2\n",
       "\\begin{tabular}{ll}\n",
       " name & value\\\\\n",
       " <chr> & <dbl>\\\\\n",
       "\\hline\n",
       "\t 2L & 23.513712\\\\\n",
       "\t 2R & 25.286936\\\\\n",
       "\t 3L & 28.110227\\\\\n",
       "\t 3R & 32.079331\\\\\n",
       "\t 4  &  1.348131\\\\\n",
       "\t X  & 23.542271\\\\\n",
       "\t Y  &  3.667352\\\\\n",
       "\\end{tabular}\n"
      ],
      "text/markdown": [
       "\n",
       "A tibble: 7 × 2\n",
       "\n",
       "| name &lt;chr&gt; | value &lt;dbl&gt; |\n",
       "|---|---|\n",
       "| 2L | 23.513712 |\n",
       "| 2R | 25.286936 |\n",
       "| 3L | 28.110227 |\n",
       "| 3R | 32.079331 |\n",
       "| 4  |  1.348131 |\n",
       "| X  | 23.542271 |\n",
       "| Y  |  3.667352 |\n",
       "\n"
      ],
      "text/plain": [
       "  name value    \n",
       "1 2L   23.513712\n",
       "2 2R   25.286936\n",
       "3 3L   28.110227\n",
       "4 3R   32.079331\n",
       "5 4     1.348131\n",
       "6 X    23.542271\n",
       "7 Y     3.667352"
      ]
     },
     "metadata": {},
     "output_type": "display_data"
    }
   ],
   "source": [
    "enframe(chr.lengths/1000/1000)"
   ]
  },
  {
   "cell_type": "code",
   "execution_count": null,
   "metadata": {
    "vscode": {
     "languageId": "r"
    }
   },
   "outputs": [
    {
     "data": {
      "text/plain": [
       "GRanges object with 766 ranges and 2 metadata columns:\n",
       "                                                      seqnames        ranges\n",
       "                                                         <Rle>     <IRanges>\n",
       "                          2L.Kc167Later                     2L   34001-70000\n",
       "                      2L.Kc167Earlier.1                     2L 138001-233000\n",
       "                      2L.Kc167Earlier.2                     2L 527001-590000\n",
       "                        2L.Kc167Later.3                     2L 625001-650000\n",
       "                        2L.Kc167Later.4                     2L 669001-789000\n",
       "                                    ...                    ...           ...\n",
       "  Unmapped_Scaffold_38_D1625.Kc167Later Unmapped_Scaffold_38..       1-28305\n",
       "  Y_mapped_Scaffold_12_D1771.Kc167Later Y_mapped_Scaffold_12..       1-66439\n",
       "  Y_mapped_Scaffold_18_D1698.Kc167Later Y_mapped_Scaffold_18..       1-34521\n",
       "  Y_mapped_Scaffold_23_D1638.Kc167Later Y_mapped_Scaffold_23..       1-31460\n",
       "             211000022278415.Kc167Later        211000022278415       1-25840\n",
       "                                        strand |   NegDiff   PosDiff\n",
       "                                         <Rle> | <numeric> <numeric>\n",
       "                          2L.Kc167Later      * | -1.031165  0.745423\n",
       "                      2L.Kc167Earlier.1      * |  0.165118  0.791032\n",
       "                      2L.Kc167Earlier.2      * |  0.241546  0.735168\n",
       "                        2L.Kc167Later.3      * | -0.650690  0.275209\n",
       "                        2L.Kc167Later.4      * | -0.734139 -0.110985\n",
       "                                    ...    ... .       ...       ...\n",
       "  Unmapped_Scaffold_38_D1625.Kc167Later      * | -0.664524 -0.664524\n",
       "  Y_mapped_Scaffold_12_D1771.Kc167Later      * | -0.955452 -0.955452\n",
       "  Y_mapped_Scaffold_18_D1698.Kc167Later      * | -0.979997 -0.979997\n",
       "  Y_mapped_Scaffold_23_D1638.Kc167Later      * | -0.990474 -0.990474\n",
       "             211000022278415.Kc167Later      * | -0.469938 -0.469938\n",
       "  -------\n",
       "  seqinfo: 1870 sequences from an unspecified genome; no seqlengths"
      ]
     },
     "metadata": {},
     "output_type": "display_data"
    }
   ],
   "source": [
    "repli.peaks_chr[[6]]"
   ]
  },
  {
   "cell_type": "code",
   "execution_count": null,
   "metadata": {
    "vscode": {
     "languageId": "r"
    }
   },
   "outputs": [
    {
     "data": {
      "text/html": [
       "<style>\n",
       ".list-inline {list-style: none; margin:0; padding: 0}\n",
       ".list-inline>li {display: inline-block}\n",
       ".list-inline>li:not(:last-child)::after {content: \"\\00b7\"; padding: 0 .5ex}\n",
       "</style>\n",
       "<ol class=list-inline><li>'Germline_Somatic'</li><li>'Germline_Kc167'</li><li>'Germline_S2'</li><li>'Somatic_Kc167'</li><li>'Somatic_S2'</li><li>'Kc167_S2'</li><li>'Dynamic_Static_Model'</li></ol>\n"
      ],
      "text/latex": [
       "\\begin{enumerate*}\n",
       "\\item 'Germline\\_Somatic'\n",
       "\\item 'Germline\\_Kc167'\n",
       "\\item 'Germline\\_S2'\n",
       "\\item 'Somatic\\_Kc167'\n",
       "\\item 'Somatic\\_S2'\n",
       "\\item 'Kc167\\_S2'\n",
       "\\item 'Dynamic\\_Static\\_Model'\n",
       "\\end{enumerate*}\n"
      ],
      "text/markdown": [
       "1. 'Germline_Somatic'\n",
       "2. 'Germline_Kc167'\n",
       "3. 'Germline_S2'\n",
       "4. 'Somatic_Kc167'\n",
       "5. 'Somatic_S2'\n",
       "6. 'Kc167_S2'\n",
       "7. 'Dynamic_Static_Model'\n",
       "\n",
       "\n"
      ],
      "text/plain": [
       "[1] \"Germline_Somatic\"     \"Germline_Kc167\"       \"Germline_S2\"         \n",
       "[4] \"Somatic_Kc167\"        \"Somatic_S2\"           \"Kc167_S2\"            \n",
       "[7] \"Dynamic_Static_Model\""
      ]
     },
     "metadata": {},
     "output_type": "display_data"
    }
   ],
   "source": [
    "names(repli.peaks_chr)"
   ]
  },
  {
   "cell_type": "code",
   "execution_count": null,
   "metadata": {
    "vscode": {
     "languageId": "r"
    }
   },
   "outputs": [],
   "source": [
    "repli.peaks_chr[c(2, 4, 6)] <- repli.peaks_chr[c(2, 4, 6)] %>%\n",
    "  sapply(\n",
    "    \\(gr) gr[!grepl(\"^Y\", seqnames(gr))],\n",
    "    simplify=F\n",
    "  )"
   ]
  },
  {
   "cell_type": "code",
   "execution_count": null,
   "metadata": {
    "vscode": {
     "languageId": "r"
    }
   },
   "outputs": [
    {
     "data": {
      "text/plain": [
       "GRanges object with 6 ranges and 2 metadata columns:\n",
       "                                                         seqnames\n",
       "                                                            <Rle>\n",
       "                          X.Kc167Later.115                      X\n",
       "  3Cen_mapped_Scaffold_41_D1641.Kc167Later 3Cen_mapped_Scaffold..\n",
       "     Unmapped_Scaffold_13_D1782.Kc167Later Unmapped_Scaffold_13..\n",
       "     Unmapped_Scaffold_35_D1599.Kc167Later Unmapped_Scaffold_35..\n",
       "     Unmapped_Scaffold_38_D1625.Kc167Later Unmapped_Scaffold_38..\n",
       "                211000022278415.Kc167Later        211000022278415\n",
       "                                                      ranges strand |   NegDiff\n",
       "                                                   <IRanges>  <Rle> | <numeric>\n",
       "                          X.Kc167Later.115 22876001-23194000      * | -1.278509\n",
       "  3Cen_mapped_Scaffold_41_D1641.Kc167Later           1-22604      * | -0.571954\n",
       "     Unmapped_Scaffold_13_D1782.Kc167Later           1-25537      * | -0.448105\n",
       "     Unmapped_Scaffold_35_D1599.Kc167Later           1-57785      * | -0.644369\n",
       "     Unmapped_Scaffold_38_D1625.Kc167Later           1-28305      * | -0.664524\n",
       "                211000022278415.Kc167Later           1-25840      * | -0.469938\n",
       "                                             PosDiff\n",
       "                                           <numeric>\n",
       "                          X.Kc167Later.115  0.446213\n",
       "  3Cen_mapped_Scaffold_41_D1641.Kc167Later -0.571954\n",
       "     Unmapped_Scaffold_13_D1782.Kc167Later -0.448105\n",
       "     Unmapped_Scaffold_35_D1599.Kc167Later -0.644369\n",
       "     Unmapped_Scaffold_38_D1625.Kc167Later -0.664524\n",
       "                211000022278415.Kc167Later -0.469938\n",
       "  -------\n",
       "  seqinfo: 1870 sequences from an unspecified genome; no seqlengths"
      ]
     },
     "metadata": {},
     "output_type": "display_data"
    }
   ],
   "source": [
    "tail(repli.peaks_chr[[6]])"
   ]
  },
  {
   "cell_type": "code",
   "execution_count": null,
   "metadata": {
    "vscode": {
     "languageId": "r"
    }
   },
   "outputs": [],
   "source": [
    "Y <- tibble(\n",
    "  chr = names(chr.lengths),\n",
    "  xmin = 2500,\n",
    "  xmax = floor((chr.lengths - 2500) / 5000) * 5000,\n",
    "  Germline = list(repli.timing_Germline_chr),\n",
    "  Somatic = list(repli.timing_Somatic_chr),\n",
    "  Kc167 = list(repli.timing_Kc167_chr),\n",
    "  S2 = list(repli.timing_S2_chr),\n",
    ") %>%\n",
    "  group_by(chr, xmin, xmax) %>%\n",
    "  reframe(\n",
    "    x = seq(xmin, xmax, by = 5000),\n",
    "    region = (\n",
    "      as.character(chr) %>%\n",
    "        paste0(\n",
    "          replace(\n",
    "            rep(\"\", length(x)),\n",
    "            chromosome_pericetromere_label %>%\n",
    "              findOverlaps(\n",
    "                GRanges(\n",
    "                  chr,\n",
    "                  IRanges(x, width=1),\n",
    "                  seqlengths = seqlengths(repli.timing_Germline_chr)\n",
    "                )\n",
    "              ) %>%\n",
    "              to(),\n",
    "            \"C\"\n",
    "          )\n",
    "        ) %>%\n",
    "      factor(\n",
    "        c(\"2L\", \"2LC\", \"2RC\", \"2R\", \"3L\", \"3LC\", \"3RC\", \"3R\", \"4\", \"X\", \"Y\", \"rDNA\")\n",
    "      )\n",
    "    ),\n",
    "    across(\n",
    "      !matches(\"^(x|region)$\"),\n",
    "      list(\n",
    "        LOESS = ~ (\n",
    "          loess(\n",
    "            y.track ~ x.track,\n",
    "            tibble(\n",
    "              x.track = .x[[1]][seqnames(.x[[1]]) == chr] %>% mid(),\n",
    "              y.track = .x[[1]][seqnames(.x[[1]]) == chr]$score,\n",
    "            ),\n",
    "            span = 0.025\n",
    "          ) %>%\n",
    "          predict(tibble(x.track = x))\n",
    "        )\n",
    "      )\n",
    "    )\n",
    "  ) %>%\n",
    "  subset(select = -c(xmin, xmax))"
   ]
  },
  {
   "cell_type": "code",
   "execution_count": null,
   "metadata": {
    "vscode": {
     "languageId": "r"
    }
   },
   "outputs": [
    {
     "data": {
      "text/html": [
       "0"
      ],
      "text/latex": [
       "0"
      ],
      "text/markdown": [
       "0"
      ],
      "text/plain": [
       "[1] 0"
      ]
     },
     "metadata": {},
     "output_type": "display_data"
    }
   ],
   "source": [
    "sum(is.na(Y$region))"
   ]
  },
  {
   "cell_type": "code",
   "execution_count": null,
   "metadata": {
    "vscode": {
     "languageId": "r"
    }
   },
   "outputs": [
    {
     "data": {
      "text/html": [
       "<table class=\"dataframe\">\n",
       "<caption>A tibble: 6 × 7</caption>\n",
       "<thead>\n",
       "\t<tr><th scope=col>chr</th><th scope=col>x</th><th scope=col>region</th><th scope=col>Germline_LOESS</th><th scope=col>Somatic_LOESS</th><th scope=col>Kc167_LOESS</th><th scope=col>S2_LOESS</th></tr>\n",
       "\t<tr><th scope=col>&lt;chr&gt;</th><th scope=col>&lt;dbl&gt;</th><th scope=col>&lt;fct&gt;</th><th scope=col>&lt;dbl&gt;</th><th scope=col>&lt;dbl&gt;</th><th scope=col>&lt;dbl&gt;</th><th scope=col>&lt;dbl&gt;</th></tr>\n",
       "</thead>\n",
       "<tbody>\n",
       "\t<tr><td>Y   </td><td>3637500</td><td>Y   </td><td>-0.2551883</td><td>-0.2256387</td><td>-0.7050496</td><td>-0.4268229</td></tr>\n",
       "\t<tr><td>Y   </td><td>3642500</td><td>Y   </td><td>-0.2519863</td><td>-0.2102737</td><td>-0.6260181</td><td>-0.3906424</td></tr>\n",
       "\t<tr><td>Y   </td><td>3647500</td><td>Y   </td><td>-0.2497008</td><td>-0.1900902</td><td>-0.5144327</td><td>-0.3388503</td></tr>\n",
       "\t<tr><td>Y   </td><td>3652500</td><td>Y   </td><td>-0.2511598</td><td>-0.1643056</td><td>-0.3685433</td><td>-0.2707145</td></tr>\n",
       "\t<tr><td>Y   </td><td>3657500</td><td>Y   </td><td>-0.2629694</td><td>-0.1327978</td><td>-0.1852171</td><td>-0.1852090</td></tr>\n",
       "\t<tr><td>rDNA</td><td>  57000</td><td>rDNA</td><td> 1.2700077</td><td>-1.5555987</td><td>-1.9353602</td><td>-2.7976166</td></tr>\n",
       "</tbody>\n",
       "</table>\n"
      ],
      "text/latex": [
       "A tibble: 6 × 7\n",
       "\\begin{tabular}{lllllll}\n",
       " chr & x & region & Germline\\_LOESS & Somatic\\_LOESS & Kc167\\_LOESS & S2\\_LOESS\\\\\n",
       " <chr> & <dbl> & <fct> & <dbl> & <dbl> & <dbl> & <dbl>\\\\\n",
       "\\hline\n",
       "\t Y    & 3637500 & Y    & -0.2551883 & -0.2256387 & -0.7050496 & -0.4268229\\\\\n",
       "\t Y    & 3642500 & Y    & -0.2519863 & -0.2102737 & -0.6260181 & -0.3906424\\\\\n",
       "\t Y    & 3647500 & Y    & -0.2497008 & -0.1900902 & -0.5144327 & -0.3388503\\\\\n",
       "\t Y    & 3652500 & Y    & -0.2511598 & -0.1643056 & -0.3685433 & -0.2707145\\\\\n",
       "\t Y    & 3657500 & Y    & -0.2629694 & -0.1327978 & -0.1852171 & -0.1852090\\\\\n",
       "\t rDNA &   57000 & rDNA &  1.2700077 & -1.5555987 & -1.9353602 & -2.7976166\\\\\n",
       "\\end{tabular}\n"
      ],
      "text/markdown": [
       "\n",
       "A tibble: 6 × 7\n",
       "\n",
       "| chr &lt;chr&gt; | x &lt;dbl&gt; | region &lt;fct&gt; | Germline_LOESS &lt;dbl&gt; | Somatic_LOESS &lt;dbl&gt; | Kc167_LOESS &lt;dbl&gt; | S2_LOESS &lt;dbl&gt; |\n",
       "|---|---|---|---|---|---|---|\n",
       "| Y    | 3637500 | Y    | -0.2551883 | -0.2256387 | -0.7050496 | -0.4268229 |\n",
       "| Y    | 3642500 | Y    | -0.2519863 | -0.2102737 | -0.6260181 | -0.3906424 |\n",
       "| Y    | 3647500 | Y    | -0.2497008 | -0.1900902 | -0.5144327 | -0.3388503 |\n",
       "| Y    | 3652500 | Y    | -0.2511598 | -0.1643056 | -0.3685433 | -0.2707145 |\n",
       "| Y    | 3657500 | Y    | -0.2629694 | -0.1327978 | -0.1852171 | -0.1852090 |\n",
       "| rDNA |   57000 | rDNA |  1.2700077 | -1.5555987 | -1.9353602 | -2.7976166 |\n",
       "\n"
      ],
      "text/plain": [
       "    chr  x       region Germline_LOESS Somatic_LOESS Kc167_LOESS S2_LOESS  \n",
       "728 Y    3637500 Y      -0.2551883     -0.2256387    -0.7050496  -0.4268229\n",
       "729 Y    3642500 Y      -0.2519863     -0.2102737    -0.6260181  -0.3906424\n",
       "730 Y    3647500 Y      -0.2497008     -0.1900902    -0.5144327  -0.3388503\n",
       "731 Y    3652500 Y      -0.2511598     -0.1643056    -0.3685433  -0.2707145\n",
       "732 Y    3657500 Y      -0.2629694     -0.1327978    -0.1852171  -0.1852090\n",
       "    rDNA   57000 rDNA    1.2700077     -1.5555987    -1.9353602  -2.7976166"
      ]
     },
     "metadata": {},
     "output_type": "display_data"
    }
   ],
   "source": [
    "rDNA <- mapply(\n",
    "  \\(gr, v_orig) (\n",
    "    (\n",
    "      gr[\n",
    "        seqnames(gr) == \"rDNA\" &\n",
    "          between(mid(gr), 37000, 77000)\n",
    "      ]$score %>%\n",
    "        mean()\n",
    "    ) -\n",
    "      mean(v_orig)\n",
    "  ) /\n",
    "    sd(v_orig),\n",
    "  list(\n",
    "    repli.timing_Germline_chr,\n",
    "    repli.timing_Somatic_chr,\n",
    "    repli.timing_Kc167_chr,\n",
    "    repli.timing_S2_chr\n",
    "  ),\n",
    "  Y[\n",
    "    c(\"Germline_LOESS\", \"Somatic_LOESS\", \"Kc167_LOESS\", \"S2_LOESS\")\n",
    "  ]\n",
    ")\n",
    "Y <- rbind(\n",
    "  Y,\n",
    "  tibble(\n",
    "    chr = \"rDNA\",\n",
    "    x = 57000,\n",
    "    region = \"rDNA\",\n",
    "    as_tibble(\n",
    "      setNames(\n",
    "        as.list(rDNA),\n",
    "        colnames(Y)[4:7]\n",
    "      )\n",
    "    )\n",
    "  )\n",
    ")\n",
    "tail(Y)"
   ]
  },
  {
   "cell_type": "code",
   "execution_count": null,
   "metadata": {
    "vscode": {
     "languageId": "r"
    }
   },
   "outputs": [
    {
     "data": {
      "text/html": [
       "<table class=\"dataframe\">\n",
       "<caption>A tibble: 6 × 7</caption>\n",
       "<thead>\n",
       "\t<tr><th scope=col>chr</th><th scope=col>x</th><th scope=col>region</th><th scope=col>Germline_LOESS</th><th scope=col>Somatic_LOESS</th><th scope=col>Kc167_LOESS</th><th scope=col>S2_LOESS</th></tr>\n",
       "\t<tr><th scope=col>&lt;chr&gt;</th><th scope=col>&lt;dbl&gt;</th><th scope=col>&lt;fct&gt;</th><th scope=col>&lt;dbl&gt;</th><th scope=col>&lt;dbl&gt;</th><th scope=col>&lt;dbl&gt;</th><th scope=col>&lt;dbl&gt;</th></tr>\n",
       "</thead>\n",
       "<tbody>\n",
       "\t<tr><td>Y   </td><td>3637500</td><td>Y   </td><td>-0.2551883</td><td>-0.2256387</td><td>      NA</td><td>-0.4268229</td></tr>\n",
       "\t<tr><td>Y   </td><td>3642500</td><td>Y   </td><td>-0.2519863</td><td>-0.2102737</td><td>      NA</td><td>-0.3906424</td></tr>\n",
       "\t<tr><td>Y   </td><td>3647500</td><td>Y   </td><td>-0.2497008</td><td>-0.1900902</td><td>      NA</td><td>-0.3388503</td></tr>\n",
       "\t<tr><td>Y   </td><td>3652500</td><td>Y   </td><td>-0.2511598</td><td>-0.1643056</td><td>      NA</td><td>-0.2707145</td></tr>\n",
       "\t<tr><td>Y   </td><td>3657500</td><td>Y   </td><td>-0.2629694</td><td>-0.1327978</td><td>      NA</td><td>-0.1852090</td></tr>\n",
       "\t<tr><td>rDNA</td><td>  57000</td><td>rDNA</td><td> 1.2700077</td><td>-1.5555987</td><td>-1.93536</td><td>-2.7976166</td></tr>\n",
       "</tbody>\n",
       "</table>\n"
      ],
      "text/latex": [
       "A tibble: 6 × 7\n",
       "\\begin{tabular}{lllllll}\n",
       " chr & x & region & Germline\\_LOESS & Somatic\\_LOESS & Kc167\\_LOESS & S2\\_LOESS\\\\\n",
       " <chr> & <dbl> & <fct> & <dbl> & <dbl> & <dbl> & <dbl>\\\\\n",
       "\\hline\n",
       "\t Y    & 3637500 & Y    & -0.2551883 & -0.2256387 &       NA & -0.4268229\\\\\n",
       "\t Y    & 3642500 & Y    & -0.2519863 & -0.2102737 &       NA & -0.3906424\\\\\n",
       "\t Y    & 3647500 & Y    & -0.2497008 & -0.1900902 &       NA & -0.3388503\\\\\n",
       "\t Y    & 3652500 & Y    & -0.2511598 & -0.1643056 &       NA & -0.2707145\\\\\n",
       "\t Y    & 3657500 & Y    & -0.2629694 & -0.1327978 &       NA & -0.1852090\\\\\n",
       "\t rDNA &   57000 & rDNA &  1.2700077 & -1.5555987 & -1.93536 & -2.7976166\\\\\n",
       "\\end{tabular}\n"
      ],
      "text/markdown": [
       "\n",
       "A tibble: 6 × 7\n",
       "\n",
       "| chr &lt;chr&gt; | x &lt;dbl&gt; | region &lt;fct&gt; | Germline_LOESS &lt;dbl&gt; | Somatic_LOESS &lt;dbl&gt; | Kc167_LOESS &lt;dbl&gt; | S2_LOESS &lt;dbl&gt; |\n",
       "|---|---|---|---|---|---|---|\n",
       "| Y    | 3637500 | Y    | -0.2551883 | -0.2256387 |       NA | -0.4268229 |\n",
       "| Y    | 3642500 | Y    | -0.2519863 | -0.2102737 |       NA | -0.3906424 |\n",
       "| Y    | 3647500 | Y    | -0.2497008 | -0.1900902 |       NA | -0.3388503 |\n",
       "| Y    | 3652500 | Y    | -0.2511598 | -0.1643056 |       NA | -0.2707145 |\n",
       "| Y    | 3657500 | Y    | -0.2629694 | -0.1327978 |       NA | -0.1852090 |\n",
       "| rDNA |   57000 | rDNA |  1.2700077 | -1.5555987 | -1.93536 | -2.7976166 |\n",
       "\n"
      ],
      "text/plain": [
       "    chr  x       region Germline_LOESS Somatic_LOESS Kc167_LOESS S2_LOESS  \n",
       "728 Y    3637500 Y      -0.2551883     -0.2256387          NA    -0.4268229\n",
       "729 Y    3642500 Y      -0.2519863     -0.2102737          NA    -0.3906424\n",
       "730 Y    3647500 Y      -0.2497008     -0.1900902          NA    -0.3388503\n",
       "731 Y    3652500 Y      -0.2511598     -0.1643056          NA    -0.2707145\n",
       "732 Y    3657500 Y      -0.2629694     -0.1327978          NA    -0.1852090\n",
       "    rDNA   57000 rDNA    1.2700077     -1.5555987    -1.93536    -2.7976166"
      ]
     },
     "metadata": {},
     "output_type": "display_data"
    }
   ],
   "source": [
    "Y[Y$chr == \"Y\", 4:7] <- (\n",
    "  Y[Y$chr == \"Y\", c(4, 5, 7)] %>%\n",
    "    as.matrix() %>%\n",
    "    `%*%`(\n",
    "      matrix(\n",
    "        c(\n",
    "          1, 0, 0,\n",
    "          0, 1, 0,\n",
    "          NA, NA, NA,\n",
    "          0, 0, 1\n",
    "        ),\n",
    "        nrow = 3,\n",
    "        dimnames = list(\n",
    "          NULL,\n",
    "          colnames(Y)[4:7]\n",
    "        )\n",
    "      )\n",
    "    )\n",
    ")\n",
    "tail(Y)"
   ]
  },
  {
   "cell_type": "code",
   "execution_count": null,
   "metadata": {
    "vscode": {
     "languageId": "r"
    }
   },
   "outputs": [],
   "source": [
    "write.table(\n",
    "  cbind(\n",
    "    Y[c(\"chr\", \"region\", \"x\")],\n",
    "    round(as.matrix(Y[4:7]), digits=3)\n",
    "  ),\n",
    "  \"illustrations/Replication_Bayes_LOESS.tsv\",\n",
    "  quote = F,\n",
    "  sep = \"\\t\",\n",
    "  row.names = F,\n",
    "  na = \"\"\n",
    ")\n"
   ]
  },
  {
   "cell_type": "code",
   "execution_count": null,
   "metadata": {
    "vscode": {
     "languageId": "r"
    }
   },
   "outputs": [
    {
     "data": {
      "image/png": "[encoded data removed]",
      "text/plain": [
       "plot without title"
      ]
     },
     "metadata": {},
     "output_type": "display_data"
    }
   ],
   "source": [
    "with(subset(Y, region == \"2L\" & between(x, 9*1000*1000, 13*1000*1000)), plot(x/1000, S2_LOESS, type='l'))\n"
   ]
  },
  {
   "cell_type": "code",
   "execution_count": null,
   "metadata": {
    "vscode": {
     "languageId": "r"
    }
   },
   "outputs": [
    {
     "data": {
      "text/html": [
       "<table class=\"dataframe\">\n",
       "<caption>A matrix: 6 × 4 of type dbl</caption>\n",
       "<thead>\n",
       "\t<tr><th></th><th scope=col>Germline_LOESS</th><th scope=col>Somatic_LOESS</th><th scope=col>Kc167_LOESS</th><th scope=col>S2_LOESS</th></tr>\n",
       "</thead>\n",
       "<tbody>\n",
       "\t<tr><th scope=row>[27498,]</th><td> 0.07483779</td><td> 0.9604786</td><td> 0.000000</td><td>-1.03531642</td></tr>\n",
       "\t<tr><th scope=row>[27499,]</th><td>-0.04177535</td><td> 1.0202330</td><td> 0.000000</td><td>-0.97845767</td></tr>\n",
       "\t<tr><th scope=row>[27500,]</th><td>-0.26002646</td><td> 1.1043282</td><td> 0.000000</td><td>-0.84430175</td></tr>\n",
       "\t<tr><th scope=row>[27501,]</th><td>-0.63157211</td><td> 1.1529464</td><td> 0.000000</td><td>-0.52137433</td></tr>\n",
       "\t<tr><th scope=row>[27502,]</th><td>-1.02107990</td><td> 0.9774948</td><td> 0.000000</td><td> 0.04358505</td></tr>\n",
       "\t<tr><th scope=row>[27503,]</th><td> 1.34525780</td><td>-0.1381486</td><td>-0.133108</td><td>-1.07400125</td></tr>\n",
       "</tbody>\n",
       "</table>\n"
      ],
      "text/latex": [
       "A matrix: 6 × 4 of type dbl\n",
       "\\begin{tabular}{r|llll}\n",
       "  & Germline\\_LOESS & Somatic\\_LOESS & Kc167\\_LOESS & S2\\_LOESS\\\\\n",
       "\\hline\n",
       "\t{[}27498,{]} &  0.07483779 &  0.9604786 &  0.000000 & -1.03531642\\\\\n",
       "\t{[}27499,{]} & -0.04177535 &  1.0202330 &  0.000000 & -0.97845767\\\\\n",
       "\t{[}27500,{]} & -0.26002646 &  1.1043282 &  0.000000 & -0.84430175\\\\\n",
       "\t{[}27501,{]} & -0.63157211 &  1.1529464 &  0.000000 & -0.52137433\\\\\n",
       "\t{[}27502,{]} & -1.02107990 &  0.9774948 &  0.000000 &  0.04358505\\\\\n",
       "\t{[}27503,{]} &  1.34525780 & -0.1381486 & -0.133108 & -1.07400125\\\\\n",
       "\\end{tabular}\n"
      ],
      "text/markdown": [
       "\n",
       "A matrix: 6 × 4 of type dbl\n",
       "\n",
       "| <!--/--> | Germline_LOESS | Somatic_LOESS | Kc167_LOESS | S2_LOESS |\n",
       "|---|---|---|---|---|\n",
       "| [27498,] |  0.07483779 |  0.9604786 |  0.000000 | -1.03531642 |\n",
       "| [27499,] | -0.04177535 |  1.0202330 |  0.000000 | -0.97845767 |\n",
       "| [27500,] | -0.26002646 |  1.1043282 |  0.000000 | -0.84430175 |\n",
       "| [27501,] | -0.63157211 |  1.1529464 |  0.000000 | -0.52137433 |\n",
       "| [27502,] | -1.02107990 |  0.9774948 |  0.000000 |  0.04358505 |\n",
       "| [27503,] |  1.34525780 | -0.1381486 | -0.133108 | -1.07400125 |\n",
       "\n"
      ],
      "text/plain": [
       "         Germline_LOESS Somatic_LOESS Kc167_LOESS S2_LOESS   \n",
       "[27498,]  0.07483779     0.9604786     0.000000   -1.03531642\n",
       "[27499,] -0.04177535     1.0202330     0.000000   -0.97845767\n",
       "[27500,] -0.26002646     1.1043282     0.000000   -0.84430175\n",
       "[27501,] -0.63157211     1.1529464     0.000000   -0.52137433\n",
       "[27502,] -1.02107990     0.9774948     0.000000    0.04358505\n",
       "[27503,]  1.34525780    -0.1381486    -0.133108   -1.07400125"
      ]
     },
     "metadata": {},
     "output_type": "display_data"
    },
    {
     "name": "stdout",
     "output_type": "stream",
     "text": [
      "\u001b[90m# A tibble: 4 × 5\u001b[39m\n",
      "  individual         PC1    PC2   PC3       PC4\n",
      "  \u001b[3m\u001b[90m<chr>\u001b[39m\u001b[23m            \u001b[3m\u001b[90m<dbl>\u001b[39m\u001b[23m  \u001b[3m\u001b[90m<dbl>\u001b[39m\u001b[23m \u001b[3m\u001b[90m<dbl>\u001b[39m\u001b[23m     \u001b[3m\u001b[90m<dbl>\u001b[39m\u001b[23m\n",
      "\u001b[90m1\u001b[39m Germline_LOESS -\u001b[31m146\u001b[39m\u001b[31m.\u001b[39m     39.2 -\u001b[31m25\u001b[39m\u001b[31m.\u001b[39m\u001b[31m7\u001b[39m  4.76\u001b[90me\u001b[39m\u001b[31m-13\u001b[39m\n",
      "\u001b[90m2\u001b[39m Somatic_LOESS    92.9   119.  -\u001b[31m12\u001b[39m\u001b[31m.\u001b[39m\u001b[31m5\u001b[39m -\u001b[31m1\u001b[39m\u001b[31m.\u001b[39m\u001b[31m38\u001b[39m\u001b[90me\u001b[39m\u001b[31m-12\u001b[39m\n",
      "\u001b[90m3\u001b[39m Kc167_LOESS       7.59  -\u001b[31m50\u001b[39m\u001b[31m.\u001b[39m\u001b[31m0\u001b[39m 114.   8.70\u001b[90me\u001b[39m\u001b[31m-13\u001b[39m\n",
      "\u001b[90m4\u001b[39m S2_LOESS         45.8  -\u001b[31m108\u001b[39m\u001b[31m.\u001b[39m  -\u001b[31m75\u001b[39m\u001b[31m.\u001b[39m\u001b[31m7\u001b[39m  5.07\u001b[90me\u001b[39m\u001b[31m-14\u001b[39m\n"
     ]
    }
   ],
   "source": [
    "YS <- Y[\n",
    "  c(\"Germline_LOESS\", \"Somatic_LOESS\", \"Kc167_LOESS\", \"S2_LOESS\")\n",
    "] %>%\n",
    "  as.matrix() %>%\n",
    "  scale() %>%\n",
    "  t() %>%\n",
    "  scale() %>%\n",
    "  t()\n",
    "YS[Y$chr == \"Y\", ] <- (\n",
    "  YS[Y$chr == \"Y\", c(1, 2, 4)] %>%\n",
    "    t() %>%\n",
    "    scale() %>%\n",
    "    t() %>%\n",
    "    `%*%`(\n",
    "      matrix(\n",
    "        c(\n",
    "          1, 0, 0,\n",
    "          0, 1, 0,\n",
    "          0, 0, 0,\n",
    "          0, 0, 1\n",
    "        ),\n",
    "        nrow = 3,\n",
    "        dimnames = list(\n",
    "          NULL,\n",
    "          colnames(Y)[4:7]\n",
    "        )\n",
    "      )\n",
    "    )\n",
    ")\n",
    "tail(YS)\n",
    "\n",
    "PCA <- prcomp(t(YS))\n",
    "PCA$x %>%\n",
    "  as.data.frame() %>%\n",
    "  rownames_to_column(\"individual\") %>%\n",
    "  as_tibble() %>%\n",
    "  print()\n"
   ]
  },
  {
   "cell_type": "code",
   "execution_count": null,
   "metadata": {
    "vscode": {
     "languageId": "r"
    }
   },
   "outputs": [
    {
     "data": {
      "image/png": "[encoded data removed]",
      "text/plain": [
       "Plot with title “density(x = YS[Y$region == \"2L\", 1], bw = 0.5)”"
      ]
     },
     "metadata": {},
     "output_type": "display_data"
    }
   ],
   "source": [
    "plot(density(YS[Y$region == \"2L\", 1], bw=0.5))"
   ]
  },
  {
   "cell_type": "code",
   "execution_count": null,
   "metadata": {
    "vscode": {
     "languageId": "r"
    }
   },
   "outputs": [
    {
     "name": "stdout",
     "output_type": "stream",
     "text": [
      "Germline_LOESS  Somatic_LOESS    Kc167_LOESS       S2_LOESS \n",
      "     0.9606863      0.9164612      0.7095344      0.8497575 \n"
     ]
    }
   ],
   "source": [
    "print(apply(YS[Y$region == \"2L\", ], 2, sd))"
   ]
  },
  {
   "cell_type": "code",
   "execution_count": null,
   "metadata": {
    "vscode": {
     "languageId": "r"
    }
   },
   "outputs": [
    {
     "data": {
      "text/html": [
       "<table class=\"dataframe\">\n",
       "<caption>A anova: 2 × 5</caption>\n",
       "<thead>\n",
       "\t<tr><th></th><th scope=col>Df</th><th scope=col>Sum Sq</th><th scope=col>Mean Sq</th><th scope=col>F value</th><th scope=col>Pr(&gt;F)</th></tr>\n",
       "\t<tr><th></th><th scope=col>&lt;int&gt;</th><th scope=col>&lt;dbl&gt;</th><th scope=col>&lt;dbl&gt;</th><th scope=col>&lt;dbl&gt;</th><th scope=col>&lt;dbl&gt;</th></tr>\n",
       "</thead>\n",
       "<tbody>\n",
       "\t<tr><th scope=row>Var2</th><td>   3</td><td>  36.53697</td><td>12.1789891</td><td>16.35716</td><td>1.382548e-10</td></tr>\n",
       "\t<tr><th scope=row>Residuals</th><td>6172</td><td>4595.46303</td><td> 0.7445663</td><td>      NA</td><td>          NA</td></tr>\n",
       "</tbody>\n",
       "</table>\n"
      ],
      "text/latex": [
       "A anova: 2 × 5\n",
       "\\begin{tabular}{r|lllll}\n",
       "  & Df & Sum Sq & Mean Sq & F value & Pr(>F)\\\\\n",
       "  & <int> & <dbl> & <dbl> & <dbl> & <dbl>\\\\\n",
       "\\hline\n",
       "\tVar2 &    3 &   36.53697 & 12.1789891 & 16.35716 & 1.382548e-10\\\\\n",
       "\tResiduals & 6172 & 4595.46303 &  0.7445663 &       NA &           NA\\\\\n",
       "\\end{tabular}\n"
      ],
      "text/markdown": [
       "\n",
       "A anova: 2 × 5\n",
       "\n",
       "| <!--/--> | Df &lt;int&gt; | Sum Sq &lt;dbl&gt; | Mean Sq &lt;dbl&gt; | F value &lt;dbl&gt; | Pr(&gt;F) &lt;dbl&gt; |\n",
       "|---|---|---|---|---|---|\n",
       "| Var2 |    3 |   36.53697 | 12.1789891 | 16.35716 | 1.382548e-10 |\n",
       "| Residuals | 6172 | 4595.46303 |  0.7445663 |       NA |           NA |\n",
       "\n"
      ],
      "text/plain": [
       "          Df   Sum Sq     Mean Sq    F value  Pr(>F)      \n",
       "Var2         3   36.53697 12.1789891 16.35716 1.382548e-10\n",
       "Residuals 6172 4595.46303  0.7445663       NA           NA"
      ]
     },
     "metadata": {},
     "output_type": "display_data"
    }
   ],
   "source": [
    "lm(\n",
    "  value ~ Var2,\n",
    "  melt(YS[Y$region == \"3L\", ]),\n",
    "  subset = Var1 %% 3 == 1\n",
    ") %>%\n",
    "  anova()"
   ]
  },
  {
   "cell_type": "code",
   "execution_count": null,
   "metadata": {
    "vscode": {
     "languageId": "r"
    }
   },
   "outputs": [
    {
     "data": {
      "text/html": [
       "<table class=\"dataframe\">\n",
       "<caption>A anova: 2 × 5</caption>\n",
       "<thead>\n",
       "\t<tr><th></th><th scope=col>Df</th><th scope=col>Sum Sq</th><th scope=col>Mean Sq</th><th scope=col>F value</th><th scope=col>Pr(&gt;F)</th></tr>\n",
       "\t<tr><th></th><th scope=col>&lt;int&gt;</th><th scope=col>&lt;dbl&gt;</th><th scope=col>&lt;dbl&gt;</th><th scope=col>&lt;dbl&gt;</th><th scope=col>&lt;dbl&gt;</th></tr>\n",
       "</thead>\n",
       "<tbody>\n",
       "\t<tr><th scope=row>Var2</th><td>  3</td><td>  4.722028</td><td>1.5740094</td><td>2.103907</td><td>0.09816497</td></tr>\n",
       "\t<tr><th scope=row>Residuals</th><td>924</td><td>691.277972</td><td>0.7481363</td><td>      NA</td><td>        NA</td></tr>\n",
       "</tbody>\n",
       "</table>\n"
      ],
      "text/latex": [
       "A anova: 2 × 5\n",
       "\\begin{tabular}{r|lllll}\n",
       "  & Df & Sum Sq & Mean Sq & F value & Pr(>F)\\\\\n",
       "  & <int> & <dbl> & <dbl> & <dbl> & <dbl>\\\\\n",
       "\\hline\n",
       "\tVar2 &   3 &   4.722028 & 1.5740094 & 2.103907 & 0.09816497\\\\\n",
       "\tResiduals & 924 & 691.277972 & 0.7481363 &       NA &         NA\\\\\n",
       "\\end{tabular}\n"
      ],
      "text/markdown": [
       "\n",
       "A anova: 2 × 5\n",
       "\n",
       "| <!--/--> | Df &lt;int&gt; | Sum Sq &lt;dbl&gt; | Mean Sq &lt;dbl&gt; | F value &lt;dbl&gt; | Pr(&gt;F) &lt;dbl&gt; |\n",
       "|---|---|---|---|---|---|\n",
       "| Var2 |   3 |   4.722028 | 1.5740094 | 2.103907 | 0.09816497 |\n",
       "| Residuals | 924 | 691.277972 | 0.7481363 |       NA |         NA |\n",
       "\n"
      ],
      "text/plain": [
       "          Df  Sum Sq     Mean Sq   F value  Pr(>F)    \n",
       "Var2        3   4.722028 1.5740094 2.103907 0.09816497\n",
       "Residuals 924 691.277972 0.7481363       NA         NA"
      ]
     },
     "metadata": {},
     "output_type": "display_data"
    }
   ],
   "source": [
    "lm(\n",
    "  value ~ Var2,\n",
    "  melt(YS[Y$region == \"3L\", ]),\n",
    "  subset = Var1 %% 20 == 10\n",
    ") %>%\n",
    "  anova()"
   ]
  },
  {
   "cell_type": "code",
   "execution_count": null,
   "metadata": {
    "vscode": {
     "languageId": "r"
    }
   },
   "outputs": [
    {
     "data": {
      "text/plain": [
       "GRanges object with 1 range and 2 metadata columns:\n",
       "                       seqnames     ranges strand |   NegDiff   PosDiff\n",
       "                          <Rle>  <IRanges>  <Rle> | <numeric> <numeric>\n",
       "  rDNA.GermlineEarlier     rDNA 1001-76973      * | -0.440438   1.35072\n",
       "  -------\n",
       "  seqinfo: 1870 sequences from an unspecified genome; no seqlengths"
      ]
     },
     "metadata": {},
     "output_type": "display_data"
    }
   ],
   "source": [
    "tar_load(repli.peaks_chr)\n",
    "\n",
    "repli.peaks_chr$Dynamic_Static_Model %>% subset(seqnames == \"rDNA\")"
   ]
  },
  {
   "cell_type": "code",
   "execution_count": null,
   "metadata": {
    "vscode": {
     "languageId": "r"
    }
   },
   "outputs": [
    {
     "data": {
      "text/plain": [
       "     Min.   1st Qu.    Median      Mean   3rd Qu.      Max. \n",
       "7.560e+02 1.150e+09 8.137e+10 8.107e+11 6.205e+11 1.349e+13 "
      ]
     },
     "metadata": {},
     "output_type": "display_data"
    }
   ],
   "source": [
    "tar_load(repli.bayes.factor_chr)\n",
    "\n",
    "subset(repli.bayes.factor_chr, seqnames == \"rDNA\" & between(start, 37001, 77000)) %>%\n",
    "  `$`(\"Dynamic_Static_Model\") %>%\n",
    "  summary()"
   ]
  },
  {
   "cell_type": "code",
   "execution_count": null,
   "metadata": {
    "vscode": {
     "languageId": "r"
    }
   },
   "outputs": [
    {
     "name": "stdout",
     "output_type": "stream",
     "text": [
      "region\tp.adjust\tsignif\n",
      "2L\t0.296626070989817\t\n",
      "2LC\t7.64025099231965e-11\t****\n",
      "2RC\t0.000985524185941884\t***\n",
      "2R\t0.294494897069863\t\n",
      "3L\t0.294494897069863\t\n",
      "3LC\t0.260724336194536\t\n",
      "3RC\t5.35786053113541e-28\t****\n",
      "3R\t7.64025099231965e-11\t****\n",
      "4\t8.86099917222918e-08\t****\n",
      "X\t1.61707555913234e-45\t****\n",
      "Y\t8.90622683773367e-13\t****\n",
      "rDNA\t8.60267290110591e-11\t****\n"
     ]
    }
   ],
   "source": [
    "write.table(\n",
    "  tibble(\n",
    "    region = levels(Y$region),\n",
    "    p.adjust = p.adjust(\n",
    "      c(\n",
    "        sapply(\n",
    "          region[1:11],\n",
    "          \\(region) lm(\n",
    "            value ~ Var2,\n",
    "            melt(YS[Y$region == region, ]),\n",
    "            subset = Var1 %% 20 == 10\n",
    "          ) %>%\n",
    "            anova() %>%\n",
    "            `[`(\n",
    "              \"Var2\",\n",
    "              \"Pr(>F)\"\n",
    "            )\n",
    "        ),\n",
    "        1 / median(\n",
    "          subset(repli.bayes.factor_chr, seqnames == \"rDNA\" & between(start, 37001, 77000)) %>%\n",
    "            `$`(\"Dynamic_Static_Model\")\n",
    "        )\n",
    "      )\n",
    "    ),\n",
    "    signif = structure(\n",
    "      cut(\n",
    "        p.adjust,\n",
    "        c(-Inf, 1e-4, 1e-3, 1e-2, 5e-2, 1)\n",
    "      ),\n",
    "      levels = c(\"****\", \"***\", \"**\", \"*\", \"\"),\n",
    "      class = \"factor\"\n",
    "    )\n",
    "  ),\n",
    "  quote=F,\n",
    "  sep=\"\\t\",\n",
    "  row.names=F\n",
    ")"
   ]
  },
  {
   "cell_type": "markdown",
   "metadata": {},
   "source": [
    "Fisher's Exact Test of Repli Peaks"
   ]
  },
  {
   "cell_type": "code",
   "execution_count": 4,
   "metadata": {
    "vscode": {
     "languageId": "r"
    }
   },
   "outputs": [
    {
     "name": "stderr",
     "output_type": "stream",
     "text": [
      "Loading required package: viridisLite\n",
      "\n",
      "\n",
      "Attaching package: ‘dplyr’\n",
      "\n",
      "\n",
      "The following objects are masked from ‘package:stats’:\n",
      "\n",
      "    filter, lag\n",
      "\n",
      "\n",
      "The following objects are masked from ‘package:base’:\n",
      "\n",
      "    intersect, setdiff, setequal, union\n",
      "\n",
      "\n",
      "Loading required package: stats4\n",
      "\n",
      "Loading required package: BiocGenerics\n",
      "\n",
      "\n",
      "Attaching package: ‘BiocGenerics’\n",
      "\n",
      "\n",
      "The following objects are masked from ‘package:dplyr’:\n",
      "\n",
      "    combine, intersect, setdiff, union\n",
      "\n",
      "\n",
      "The following objects are masked from ‘package:stats’:\n",
      "\n",
      "    IQR, mad, sd, var, xtabs\n",
      "\n",
      "\n",
      "The following objects are masked from ‘package:base’:\n",
      "\n",
      "    anyDuplicated, aperm, append, as.data.frame, basename, cbind,\n",
      "    colnames, dirname, do.call, duplicated, eval, evalq, Filter, Find,\n",
      "    get, grep, grepl, intersect, is.unsorted, lapply, Map, mapply,\n",
      "    match, mget, order, paste, pmax, pmax.int, pmin, pmin.int,\n",
      "    Position, rank, rbind, Reduce, rownames, sapply, setdiff, sort,\n",
      "    table, tapply, union, unique, unsplit, which.max, which.min\n",
      "\n",
      "\n",
      "Loading required package: S4Vectors\n",
      "\n",
      "\n",
      "Attaching package: ‘S4Vectors’\n",
      "\n",
      "\n",
      "The following objects are masked from ‘package:dplyr’:\n",
      "\n",
      "    first, rename\n",
      "\n",
      "\n",
      "The following object is masked from ‘package:utils’:\n",
      "\n",
      "    findMatches\n",
      "\n",
      "\n",
      "The following objects are masked from ‘package:base’:\n",
      "\n",
      "    expand.grid, I, unname\n",
      "\n",
      "\n",
      "Loading required package: IRanges\n",
      "\n",
      "\n",
      "Attaching package: ‘IRanges’\n",
      "\n",
      "\n",
      "The following objects are masked from ‘package:dplyr’:\n",
      "\n",
      "    collapse, desc, slice\n",
      "\n",
      "\n",
      "Loading required package: GenomeInfoDb\n",
      "\n",
      "\n",
      "Attaching package: ‘GenomicRanges’\n",
      "\n",
      "\n",
      "The following object is masked from ‘package:magrittr’:\n",
      "\n",
      "    subtract\n",
      "\n",
      "\n"
     ]
    }
   ],
   "source": [
    "source(\"_targets.R\")\n",
    "library(dplyr)\n",
    "library(GenomicRanges)\n",
    "library(withr)"
   ]
  },
  {
   "cell_type": "code",
   "execution_count": 6,
   "metadata": {
    "vscode": {
     "languageId": "r"
    }
   },
   "outputs": [],
   "source": [
    "tar_load(\n",
    "  c(\n",
    "    chromosome_pericetromere_label,\n",
    "    repli.peaks_chr\n",
    "  )\n",
    ")"
   ]
  },
  {
   "cell_type": "code",
   "execution_count": 7,
   "metadata": {
    "vscode": {
     "languageId": "r"
    }
   },
   "outputs": [],
   "source": [
    "tabulate_germline_earlier <- substitute(\n",
    "  . %>%\n",
    "      subset(grepl(\"GermlineEarlier\", names(.))) %>%\n",
    "      `seqlevels<-`(value = c(seqlevels(.), \"2LC\", \"2RC\", \"3LC\", \"3RC\")) %>%\n",
    "      `$<-`(\n",
    "        \"region\",\n",
    "        value = paste0(\n",
    "          as.character(seqnames(.)),\n",
    "          replace(\n",
    "            rep(\n",
    "              \"\",\n",
    "              length(.)\n",
    "            ),\n",
    "            findOverlaps(\n",
    "              chromosome_pericetromere_label,\n",
    "              .\n",
    "            ) %>%\n",
    "              to(),\n",
    "            \"C\"\n",
    "          )\n",
    "        ) %>%\n",
    "          factor(levels = region)\n",
    "      ) %>%\n",
    "      elementMetadata() %>%\n",
    "      as.data.frame() %>%\n",
    "      pull(\"region\") %>%\n",
    "      tabulate()\n",
    ")"
   ]
  },
  {
   "cell_type": "code",
   "execution_count": 8,
   "metadata": {
    "vscode": {
     "languageId": "r"
    }
   },
   "outputs": [
    {
     "data": {
      "text/plain": [
       "$Germline_Somatic\n",
       ".\n",
       "GermlineEarlier   GermlineLater \n",
       "            332             203 \n",
       "\n",
       "$Germline_Kc167\n",
       ".\n",
       "GermlineEarlier   GermlineLater \n",
       "            467             273 \n",
       "\n",
       "$Germline_S2\n",
       ".\n",
       "GermlineEarlier   GermlineLater \n",
       "            402             309 \n",
       "\n",
       "$Somatic_Kc167\n",
       ".\n",
       "SomaticEarlier   SomaticLater \n",
       "           299            302 \n",
       "\n",
       "$Somatic_S2\n",
       ".\n",
       "SomaticEarlier   SomaticLater \n",
       "           264            308 \n",
       "\n",
       "$Kc167_S2\n",
       ".\n",
       " Kc \n",
       "766 \n",
       "\n",
       "$Dynamic_Static_Model\n",
       ".\n",
       "GermlineEarlier   GermlineLater \n",
       "            245             263 \n"
      ]
     },
     "metadata": {},
     "output_type": "display_data"
    }
   ],
   "source": [
    "sapply(\n",
    "  repli.peaks_chr,\n",
    "  \\(gr) str_extract(names(gr), \"\\\\.([A-z]+)\", group=1) %>% table()\n",
    ")"
   ]
  },
  {
   "cell_type": "code",
   "execution_count": 9,
   "metadata": {
    "vscode": {
     "languageId": "r"
    }
   },
   "outputs": [
    {
     "name": "stdout",
     "output_type": "stream",
     "text": [
      "\u001b[90m# A tibble: 11 × 7\u001b[39m\n",
      "   region Germline_Somatic[,1]  [,2] Germline_Kc167[,1]  [,2] Germline_S2[,1]\n",
      "   \u001b[3m\u001b[90m<chr>\u001b[39m\u001b[23m                 \u001b[3m\u001b[90m<int>\u001b[39m\u001b[23m \u001b[3m\u001b[90m<int>\u001b[39m\u001b[23m              \u001b[3m\u001b[90m<int>\u001b[39m\u001b[23m \u001b[3m\u001b[90m<int>\u001b[39m\u001b[23m           \u001b[3m\u001b[90m<int>\u001b[39m\u001b[23m\n",
      "\u001b[90m 1\u001b[39m 2L                       59    42                 65    40              68\n",
      "\u001b[90m 2\u001b[39m 2LC                       8     0                  7     4               6\n",
      "\u001b[90m 3\u001b[39m 2RC                      20     1                 28    14              16\n",
      "\u001b[90m 4\u001b[39m 2R                       42    31                 50    50              57\n",
      "\u001b[90m 5\u001b[39m 3L                       54    43                 70    50              72\n",
      "\u001b[90m 6\u001b[39m 3LC                      12     0                 27     7              13\n",
      "\u001b[90m 7\u001b[39m 3RC                       5     2                 22     9              16\n",
      "\u001b[90m 8\u001b[39m 3R                       86    34                 93    45             102\n",
      "\u001b[90m 9\u001b[39m 4                         4     0                  5     0               8\n",
      "\u001b[90m10\u001b[39m X                        40    35                 75    31              36\n",
      "\u001b[90m11\u001b[39m Y                         1     6                 18    23               7\n",
      "    [,2] Somatic_Kc167[,1]  [,2] Somatic_S2[,1]  [,2] Kc167_S2[,1]  [,2]\n",
      "   \u001b[3m\u001b[90m<int>\u001b[39m\u001b[23m             \u001b[3m\u001b[90m<int>\u001b[39m\u001b[23m \u001b[3m\u001b[90m<int>\u001b[39m\u001b[23m          \u001b[3m\u001b[90m<int>\u001b[39m\u001b[23m \u001b[3m\u001b[90m<int>\u001b[39m\u001b[23m        \u001b[3m\u001b[90m<int>\u001b[39m\u001b[23m \u001b[3m\u001b[90m<int>\u001b[39m\u001b[23m\n",
      "\u001b[90m 1\u001b[39m    55                45    48             45    49           54    64\n",
      "\u001b[90m 2\u001b[39m     3                 0     6              1     2            5     1\n",
      "\u001b[90m 3\u001b[39m    14                 0     9              2    16           14    10\n",
      "\u001b[90m 4\u001b[39m    37                33    60             46    41           80    51\n",
      "\u001b[90m 5\u001b[39m    53                51    46             56    56           69    69\n",
      "\u001b[90m 6\u001b[39m    12                 0    12              0    13            4    19\n",
      "\u001b[90m 7\u001b[39m     9                12     5              6     3            3     4\n",
      "\u001b[90m 8\u001b[39m    63                51    64             54    84           87    73\n",
      "\u001b[90m 9\u001b[39m     1                 2     7              6     0            9     2\n",
      "\u001b[90m10\u001b[39m    44                82    40             43    38           38    78\n",
      "\u001b[90m11\u001b[39m    14                10     5              4     5            5    19\n"
     ]
    }
   ],
   "source": [
    "regions <- tibble(\n",
    "  region = c(\n",
    "    \"2L\", \"2LC\", \"2RC\", \"2R\",\n",
    "    \"3L\", \"3LC\", \"3RC\", \"3R\",\n",
    "    \"4\", \"X\", \"Y\"\n",
    "  ),\n",
    "  Germline_Somatic = list(\n",
    "    list(\n",
    "      repli.peaks_chr$Germline_Somatic %>%\n",
    "        subset(grepl(\"GermlineEarlier\", names(.))),\n",
    "      repli.peaks_chr$Germline_Somatic %>%\n",
    "        subset(grepl(\"GermlineLater\", names(.)))\n",
    "    )\n",
    "  ),\n",
    "  Germline_Kc167 = list(\n",
    "    list(\n",
    "      repli.peaks_chr$Germline_Kc167 %>%\n",
    "        subset(grepl(\"GermlineEarlier\", names(.))),\n",
    "      repli.peaks_chr$Germline_Kc167 %>%\n",
    "        subset(grepl(\"GermlineLater\", names(.)))\n",
    "    )\n",
    "  ),\n",
    "  Germline_S2 = list(\n",
    "    list(\n",
    "      repli.peaks_chr$Germline_S2 %>%\n",
    "        subset(grepl(\"GermlineEarlier\", names(.))),\n",
    "      repli.peaks_chr$Germline_S2 %>%\n",
    "        subset(grepl(\"GermlineLater\", names(.)))\n",
    "    )\n",
    "  ),\n",
    "  Somatic_Kc167 = list(\n",
    "    list(\n",
    "      repli.peaks_chr$Somatic_Kc167 %>%\n",
    "        subset(grepl(\"SomaticEarlier\", names(.))),\n",
    "      repli.peaks_chr$Somatic_Kc167 %>%\n",
    "        subset(grepl(\"SomaticLater\", names(.)))\n",
    "    )\n",
    "  ),\n",
    "  Somatic_S2 = list(\n",
    "    list(\n",
    "      repli.peaks_chr$Somatic_S2 %>%\n",
    "        subset(grepl(\"SomaticEarlier\", names(.))),\n",
    "      repli.peaks_chr$Somatic_S2 %>%\n",
    "        subset(grepl(\"SomaticLater\", names(.)))\n",
    "    )\n",
    "  ),\n",
    "  Kc167_S2 = list(\n",
    "    list(\n",
    "      repli.peaks_chr$Kc167_S2 %>%\n",
    "        subset(grepl(\"Kc167Earlier\", names(.))),\n",
    "      repli.peaks_chr$Kc167_S2 %>%\n",
    "        subset(grepl(\"Kc167Later\", names(.)))\n",
    "    )\n",
    "  ),\n",
    ") %>%\n",
    "  reframe(\n",
    "    region,\n",
    "    across(\n",
    "      !region,\n",
    "      \\(gr_copy) sapply(\n",
    "        gr_copy[[1]],\n",
    "        \\(gr) gr %>%\n",
    "          `seqlevels<-`(value = c(seqlevels(.), \"2LC\", \"2RC\", \"3LC\", \"3RC\")) %>%\n",
    "          `$<-`(\n",
    "            \"region\",\n",
    "            value = paste0(\n",
    "              as.character(seqnames(.)),\n",
    "              replace(\n",
    "                rep(\n",
    "                  \"\",\n",
    "                  length(.)\n",
    "                ),\n",
    "                findOverlaps(\n",
    "                  chromosome_pericetromere_label,\n",
    "                  .\n",
    "                ) %>%\n",
    "                  to(),\n",
    "                \"C\"\n",
    "              )\n",
    "            ) %>%\n",
    "              factor(levels = region)\n",
    "          ) %>%\n",
    "          elementMetadata() %>%\n",
    "          as.data.frame() %>%\n",
    "          pull(\"region\") %>%\n",
    "          tabulate()\n",
    "      )\n",
    "    )\n",
    "  ) %>%\n",
    "  print(width=500)"
   ]
  },
  {
   "cell_type": "code",
   "execution_count": 10,
   "metadata": {
    "vscode": {
     "languageId": "r"
    }
   },
   "outputs": [
    {
     "name": "stdout",
     "output_type": "stream",
     "text": [
      "\u001b[90m# A tibble: 11 × 7\u001b[39m\n",
      "   region Germline_Somatic[,1]  [,2] Germline_Kc167[,1]  [,2] Germline_S2[,1]\n",
      "   \u001b[3m\u001b[90m<chr>\u001b[39m\u001b[23m                 \u001b[3m\u001b[90m<int>\u001b[39m\u001b[23m \u001b[3m\u001b[90m<int>\u001b[39m\u001b[23m              \u001b[3m\u001b[90m<dbl>\u001b[39m\u001b[23m \u001b[3m\u001b[90m<dbl>\u001b[39m\u001b[23m           \u001b[3m\u001b[90m<int>\u001b[39m\u001b[23m\n",
      "\u001b[90m 1\u001b[39m 2L                       59    42                 65    40              68\n",
      "\u001b[90m 2\u001b[39m 2LC                       8     0                  7     4               6\n",
      "\u001b[90m 3\u001b[39m 2RC                      20     1                 28    14              16\n",
      "\u001b[90m 4\u001b[39m 2R                       42    31                 50    50              57\n",
      "\u001b[90m 5\u001b[39m 3L                       54    43                 70    50              72\n",
      "\u001b[90m 6\u001b[39m 3LC                      12     0                 27     7              13\n",
      "\u001b[90m 7\u001b[39m 3RC                       5     2                 22     9              16\n",
      "\u001b[90m 8\u001b[39m 3R                       86    34                 93    45             102\n",
      "\u001b[90m 9\u001b[39m 4                         4     0                  5     0               8\n",
      "\u001b[90m10\u001b[39m X                        40    35                 75    31              36\n",
      "\u001b[90m11\u001b[39m Y                         1     6                  0     0               7\n",
      "\u001b[90m# ℹ 4 more variables: Germline_S2[2] <int>, Somatic_Kc167 <dbl[,2]>,\u001b[39m\n",
      "\u001b[90m#   Somatic_S2 <int[,2]>, Kc167_S2 <dbl[,2]>\u001b[39m\n"
     ]
    }
   ],
   "source": [
    "regions$Germline_Kc167[11, ] <- 0\n",
    "regions$Somatic_Kc167[11, ] <- 0\n",
    "regions$Kc167_S2[11, ] <- 0\n",
    "print(regions)"
   ]
  },
  {
   "cell_type": "code",
   "execution_count": 11,
   "metadata": {
    "vscode": {
     "languageId": "r"
    }
   },
   "outputs": [
    {
     "data": {
      "text/plain": [
       "\n",
       "\tFisher's Exact Test for Count Data\n",
       "\n",
       "data:  rbind(c(10, 100), c(0, 0))\n",
       "p-value = 1\n",
       "alternative hypothesis: true odds ratio is not equal to 1\n",
       "95 percent confidence interval:\n",
       "   0 Inf\n",
       "sample estimates:\n",
       "odds ratio \n",
       "         0 \n"
      ]
     },
     "metadata": {},
     "output_type": "display_data"
    }
   ],
   "source": [
    "fisher.test(rbind(c(10, 100), c(0, 0)))"
   ]
  },
  {
   "cell_type": "code",
   "execution_count": 16,
   "metadata": {
    "vscode": {
     "languageId": "r"
    }
   },
   "outputs": [
    {
     "name": "stdout",
     "output_type": "stream",
     "text": [
      "\u001b[90m# A tibble: 6 × 3\u001b[39m\n",
      "  Table            p.adjust signif\n",
      "  \u001b[3m\u001b[90m<chr>\u001b[39m\u001b[23m               \u001b[3m\u001b[90m<dbl>\u001b[39m\u001b[23m \u001b[3m\u001b[90m<fct>\u001b[39m\u001b[23m \n",
      "\u001b[90m1\u001b[39m Germline_Somatic 0.000\u001b[4m0\u001b[24m\u001b[4m0\u001b[24m\u001b[4m6\u001b[24m \u001b[90m\"\u001b[39m****\u001b[90m\"\u001b[39m\n",
      "\u001b[90m2\u001b[39m Germline_Kc167   0.035\u001b[4m6\u001b[24m   \u001b[90m\"\u001b[39m*\u001b[90m\"\u001b[39m   \n",
      "\u001b[90m3\u001b[39m Germline_S2      0.083\u001b[4m2\u001b[24m   \u001b[90m\"\u001b[39m\u001b[90m\"\u001b[39m    \n",
      "\u001b[90m4\u001b[39m Somatic_Kc167    0.000\u001b[4m0\u001b[24m\u001b[4m0\u001b[24m\u001b[4m6\u001b[24m \u001b[90m\"\u001b[39m****\u001b[90m\"\u001b[39m\n",
      "\u001b[90m5\u001b[39m Somatic_S2       0.000\u001b[4m0\u001b[24m\u001b[4m3\u001b[24m\u001b[4m6\u001b[24m \u001b[90m\"\u001b[39m****\u001b[90m\"\u001b[39m\n",
      "\u001b[90m6\u001b[39m Kc167_S2         0.000\u001b[4m0\u001b[24m\u001b[4m2\u001b[24m\u001b[4m8\u001b[24m \u001b[90m\"\u001b[39m****\u001b[90m\"\u001b[39m\n"
     ]
    }
   ],
   "source": [
    "contingency <- tibble(\n",
    "  Table = colnames(regions)[-1],\n",
    "  p = with_seed(\n",
    "    0,\n",
    "    regions %>%\n",
    "      subset(select=-region) %>%\n",
    "      sapply(\n",
    "        \\(table) fisher.test(\n",
    "          table,\n",
    "          simulate.p.value = TRUE,\n",
    "          B = 1e+6\n",
    "        )$p.value %>%\n",
    "          round(digits = 6)\n",
    "      )\n",
    "  )\n",
    ") %>%\n",
    "  mutate(\n",
    "    p.adjust = p.adjust(p),\n",
    "    signif = structure(\n",
    "      cut(p.adjust, c(-Inf, 1e-4, 1e-3, 1e-2, 5e-2, Inf)),\n",
    "      levels = c(\"****\", \"***\", \"**\", \"*\", \"\"),\n",
    "      class = \"factor\"\n",
    "    ),\n",
    "    .keep = \"unused\",\n",
    "  ) %>%\n",
    "  print()"
   ]
  },
  {
   "cell_type": "code",
   "execution_count": 17,
   "metadata": {
    "vscode": {
     "languageId": "r"
    }
   },
   "outputs": [
    {
     "name": "stdout",
     "output_type": "stream",
     "text": [
      "Table\tp.adjust\tsignif\n",
      "Germline_Somatic\t6e-06\t****\n",
      "Germline_Kc167\t0.035594\t*\n",
      "Germline_S2\t0.083223\t\n",
      "Somatic_Kc167\t6e-06\t****\n",
      "Somatic_S2\t3.6e-05\t****\n",
      "Kc167_S2\t2.8e-05\t****\n"
     ]
    }
   ],
   "source": [
    "write.table(\n",
    "  contingency,\n",
    "  sep = \"\\t\",\n",
    "  quote = F,\n",
    "  row.names = F\n",
    ")"
   ]
  },
  {
   "cell_type": "code",
   "execution_count": 28,
   "metadata": {
    "vscode": {
     "languageId": "r"
    }
   },
   "outputs": [
    {
     "name": "stderr",
     "output_type": "stream",
     "text": [
      "Warning message in chisq.test(pull(regions, comparison)):\n",
      "“Chi-squared approximation may be incorrect”\n",
      "Warning message in chisq.test(pull(regions, comparison)):\n",
      "“Chi-squared approximation may be incorrect”\n",
      "Warning message in chisq.test(pull(regions, comparison)):\n",
      "“Chi-squared approximation may be incorrect”\n",
      "Warning message in chisq.test(pull(regions, comparison)):\n",
      "“Chi-squared approximation may be incorrect”\n",
      "Warning message in chisq.test(pull(regions, comparison)):\n",
      "“Chi-squared approximation may be incorrect”\n",
      "Warning message in chisq.test(pull(regions, comparison)):\n",
      "“Chi-squared approximation may be incorrect”\n",
      "Warning message in chisq.test(pull(regions, comparison)):\n",
      "“Chi-squared approximation may be incorrect”\n",
      "Warning message in chisq.test(pull(regions, comparison)):\n",
      "“Chi-squared approximation may be incorrect”\n",
      "Warning message in chisq.test(pull(regions, comparison)):\n",
      "“Chi-squared approximation may be incorrect”\n",
      "Warning message in chisq.test(pull(regions, comparison)):\n",
      "“Chi-squared approximation may be incorrect”\n",
      "Warning message in chisq.test(pull(regions, comparison)):\n",
      "“Chi-squared approximation may be incorrect”\n",
      "Warning message in chisq.test(pull(regions, comparison)):\n",
      "“Chi-squared approximation may be incorrect”\n"
     ]
    },
    {
     "data": {
      "text/html": [
       "<table class=\"dataframe\">\n",
       "<caption>A tibble: 11 × 25</caption>\n",
       "<thead>\n",
       "\t<tr><th scope=col>region</th><th scope=col>Germline_Earlier</th><th scope=col>Somatic_Earlier</th><th scope=col>Signif_Germline_Earlier</th><th scope=col>Signif_Somatic_Earlier</th><th scope=col>Germline_Earlier.1</th><th scope=col>Kc167_Earlier</th><th scope=col>Signif_Germline_Earlier.1</th><th scope=col>Signif_Kc167_Earlier</th><th scope=col>Germline_Earlier.2</th><th scope=col>⋯</th><th scope=col>Signif_Somatic_Earlier.1</th><th scope=col>Signif_Kc167_Earlier.1</th><th scope=col>Somatic_Earlier.2</th><th scope=col>S2_Earlier.1</th><th scope=col>Signif_Somatic_Earlier.2</th><th scope=col>Signif_S2_Earlier.1</th><th scope=col>Kc167_Earlier.2</th><th scope=col>S2_Earlier.2</th><th scope=col>Signif_Kc167_Earlier.2</th><th scope=col>Signif_S2_Earlier.2</th></tr>\n",
       "\t<tr><th scope=col>&lt;chr&gt;</th><th scope=col>&lt;int&gt;</th><th scope=col>&lt;int&gt;</th><th scope=col>&lt;fct&gt;</th><th scope=col>&lt;fct&gt;</th><th scope=col>&lt;dbl&gt;</th><th scope=col>&lt;dbl&gt;</th><th scope=col>&lt;fct&gt;</th><th scope=col>&lt;fct&gt;</th><th scope=col>&lt;int&gt;</th><th scope=col>⋯</th><th scope=col>&lt;fct&gt;</th><th scope=col>&lt;fct&gt;</th><th scope=col>&lt;int&gt;</th><th scope=col>&lt;int&gt;</th><th scope=col>&lt;fct&gt;</th><th scope=col>&lt;fct&gt;</th><th scope=col>&lt;dbl&gt;</th><th scope=col>&lt;dbl&gt;</th><th scope=col>&lt;fct&gt;</th><th scope=col>&lt;fct&gt;</th></tr>\n",
       "</thead>\n",
       "<tbody>\n",
       "\t<tr><td>2L </td><td>59</td><td>42</td><td>   </td><td> </td><td>65</td><td>40</td><td></td><td>  </td><td> 68</td><td>⋯</td><td>    </td><td>   </td><td>45</td><td>49</td><td>  </td><td>   </td><td>54</td><td>64</td><td>  </td><td>   </td></tr>\n",
       "\t<tr><td>2LC</td><td> 8</td><td> 0</td><td>*  </td><td> </td><td> 7</td><td> 4</td><td></td><td>  </td><td>  6</td><td>⋯</td><td>    </td><td>*  </td><td> 1</td><td> 2</td><td>  </td><td>   </td><td> 5</td><td> 1</td><td>  </td><td>   </td></tr>\n",
       "\t<tr><td>2RC</td><td>20</td><td> 1</td><td>***</td><td> </td><td>28</td><td>14</td><td></td><td>  </td><td> 16</td><td>⋯</td><td>    </td><td>** </td><td> 2</td><td>16</td><td>  </td><td>** </td><td>14</td><td>10</td><td>  </td><td>   </td></tr>\n",
       "\t<tr><td>2R </td><td>42</td><td>31</td><td>   </td><td> </td><td>50</td><td>50</td><td></td><td>**</td><td> 57</td><td>⋯</td><td>    </td><td>** </td><td>46</td><td>41</td><td>  </td><td>   </td><td>80</td><td>51</td><td>**</td><td>   </td></tr>\n",
       "\t<tr><td>3L </td><td>54</td><td>43</td><td>   </td><td> </td><td>70</td><td>50</td><td></td><td>  </td><td> 72</td><td>⋯</td><td>    </td><td>   </td><td>56</td><td>56</td><td>  </td><td>   </td><td>69</td><td>69</td><td>  </td><td>   </td></tr>\n",
       "\t<tr><td>3LC</td><td>12</td><td> 0</td><td>** </td><td> </td><td>27</td><td> 7</td><td></td><td>  </td><td> 13</td><td>⋯</td><td>    </td><td>***</td><td> 0</td><td>13</td><td>  </td><td>***</td><td> 4</td><td>19</td><td>  </td><td>** </td></tr>\n",
       "\t<tr><td>3RC</td><td> 5</td><td> 2</td><td>   </td><td> </td><td>22</td><td> 9</td><td></td><td>  </td><td> 16</td><td>⋯</td><td>    </td><td>   </td><td> 6</td><td> 3</td><td>  </td><td>   </td><td> 3</td><td> 4</td><td>  </td><td>   </td></tr>\n",
       "\t<tr><td>3R </td><td>86</td><td>34</td><td>*  </td><td> </td><td>93</td><td>45</td><td></td><td>  </td><td>102</td><td>⋯</td><td>    </td><td>   </td><td>54</td><td>84</td><td>  </td><td>   </td><td>87</td><td>73</td><td>  </td><td>   </td></tr>\n",
       "\t<tr><td>4  </td><td> 4</td><td> 0</td><td>   </td><td> </td><td> 5</td><td> 0</td><td></td><td>  </td><td>  8</td><td>⋯</td><td>    </td><td>   </td><td> 6</td><td> 0</td><td>**</td><td>   </td><td> 9</td><td> 2</td><td>* </td><td>   </td></tr>\n",
       "\t<tr><td>X  </td><td>40</td><td>35</td><td>   </td><td> </td><td>75</td><td>31</td><td></td><td>  </td><td> 36</td><td>⋯</td><td>****</td><td>   </td><td>43</td><td>38</td><td>  </td><td>   </td><td>38</td><td>78</td><td>  </td><td>***</td></tr>\n",
       "\t<tr><td>Y  </td><td> 1</td><td> 6</td><td>   </td><td>*</td><td> 0</td><td> 0</td><td></td><td>  </td><td>  7</td><td>⋯</td><td>    </td><td>   </td><td> 4</td><td> 5</td><td>  </td><td>   </td><td> 0</td><td> 0</td><td>  </td><td>   </td></tr>\n",
       "</tbody>\n",
       "</table>\n"
      ],
      "text/latex": [
       "A tibble: 11 × 25\n",
       "\\begin{tabular}{lllllllllllllllllllll}\n",
       " region & Germline\\_Earlier & Somatic\\_Earlier & Signif\\_Germline\\_Earlier & Signif\\_Somatic\\_Earlier & Germline\\_Earlier.1 & Kc167\\_Earlier & Signif\\_Germline\\_Earlier.1 & Signif\\_Kc167\\_Earlier & Germline\\_Earlier.2 & ⋯ & Signif\\_Somatic\\_Earlier.1 & Signif\\_Kc167\\_Earlier.1 & Somatic\\_Earlier.2 & S2\\_Earlier.1 & Signif\\_Somatic\\_Earlier.2 & Signif\\_S2\\_Earlier.1 & Kc167\\_Earlier.2 & S2\\_Earlier.2 & Signif\\_Kc167\\_Earlier.2 & Signif\\_S2\\_Earlier.2\\\\\n",
       " <chr> & <int> & <int> & <fct> & <fct> & <dbl> & <dbl> & <fct> & <fct> & <int> & ⋯ & <fct> & <fct> & <int> & <int> & <fct> & <fct> & <dbl> & <dbl> & <fct> & <fct>\\\\\n",
       "\\hline\n",
       "\t 2L  & 59 & 42 &     &   & 65 & 40 &  &    &  68 & ⋯ &      &     & 45 & 49 &    &     & 54 & 64 &    &    \\\\\n",
       "\t 2LC &  8 &  0 & *   &   &  7 &  4 &  &    &   6 & ⋯ &      & *   &  1 &  2 &    &     &  5 &  1 &    &    \\\\\n",
       "\t 2RC & 20 &  1 & *** &   & 28 & 14 &  &    &  16 & ⋯ &      & **  &  2 & 16 &    & **  & 14 & 10 &    &    \\\\\n",
       "\t 2R  & 42 & 31 &     &   & 50 & 50 &  & ** &  57 & ⋯ &      & **  & 46 & 41 &    &     & 80 & 51 & ** &    \\\\\n",
       "\t 3L  & 54 & 43 &     &   & 70 & 50 &  &    &  72 & ⋯ &      &     & 56 & 56 &    &     & 69 & 69 &    &    \\\\\n",
       "\t 3LC & 12 &  0 & **  &   & 27 &  7 &  &    &  13 & ⋯ &      & *** &  0 & 13 &    & *** &  4 & 19 &    & ** \\\\\n",
       "\t 3RC &  5 &  2 &     &   & 22 &  9 &  &    &  16 & ⋯ &      &     &  6 &  3 &    &     &  3 &  4 &    &    \\\\\n",
       "\t 3R  & 86 & 34 & *   &   & 93 & 45 &  &    & 102 & ⋯ &      &     & 54 & 84 &    &     & 87 & 73 &    &    \\\\\n",
       "\t 4   &  4 &  0 &     &   &  5 &  0 &  &    &   8 & ⋯ &      &     &  6 &  0 & ** &     &  9 &  2 & *  &    \\\\\n",
       "\t X   & 40 & 35 &     &   & 75 & 31 &  &    &  36 & ⋯ & **** &     & 43 & 38 &    &     & 38 & 78 &    & ***\\\\\n",
       "\t Y   &  1 &  6 &     & * &  0 &  0 &  &    &   7 & ⋯ &      &     &  4 &  5 &    &     &  0 &  0 &    &    \\\\\n",
       "\\end{tabular}\n"
      ],
      "text/markdown": [
       "\n",
       "A tibble: 11 × 25\n",
       "\n",
       "| region &lt;chr&gt; | Germline_Earlier &lt;int&gt; | Somatic_Earlier &lt;int&gt; | Signif_Germline_Earlier &lt;fct&gt; | Signif_Somatic_Earlier &lt;fct&gt; | Germline_Earlier.1 &lt;dbl&gt; | Kc167_Earlier &lt;dbl&gt; | Signif_Germline_Earlier.1 &lt;fct&gt; | Signif_Kc167_Earlier &lt;fct&gt; | Germline_Earlier.2 &lt;int&gt; | ⋯ ⋯ | Signif_Somatic_Earlier.1 &lt;fct&gt; | Signif_Kc167_Earlier.1 &lt;fct&gt; | Somatic_Earlier.2 &lt;int&gt; | S2_Earlier.1 &lt;int&gt; | Signif_Somatic_Earlier.2 &lt;fct&gt; | Signif_S2_Earlier.1 &lt;fct&gt; | Kc167_Earlier.2 &lt;dbl&gt; | S2_Earlier.2 &lt;dbl&gt; | Signif_Kc167_Earlier.2 &lt;fct&gt; | Signif_S2_Earlier.2 &lt;fct&gt; |\n",
       "|---|---|---|---|---|---|---|---|---|---|---|---|---|---|---|---|---|---|---|---|---|\n",
       "| 2L  | 59 | 42 | <!----> | <!----> | 65 | 40 | <!----> | <!----> |  68 | ⋯ | <!----> | <!----> | 45 | 49 | <!----> | <!----> | 54 | 64 | <!----> | <!----> |\n",
       "| 2LC |  8 |  0 | *   | <!----> |  7 |  4 | <!----> | <!----> |   6 | ⋯ | <!----> | *   |  1 |  2 | <!----> | <!----> |  5 |  1 | <!----> | <!----> |\n",
       "| 2RC | 20 |  1 | *** | <!----> | 28 | 14 | <!----> | <!----> |  16 | ⋯ | <!----> | **  |  2 | 16 | <!----> | **  | 14 | 10 | <!----> | <!----> |\n",
       "| 2R  | 42 | 31 | <!----> | <!----> | 50 | 50 | <!----> | ** |  57 | ⋯ | <!----> | **  | 46 | 41 | <!----> | <!----> | 80 | 51 | ** | <!----> |\n",
       "| 3L  | 54 | 43 | <!----> | <!----> | 70 | 50 | <!----> | <!----> |  72 | ⋯ | <!----> | <!----> | 56 | 56 | <!----> | <!----> | 69 | 69 | <!----> | <!----> |\n",
       "| 3LC | 12 |  0 | **  | <!----> | 27 |  7 | <!----> | <!----> |  13 | ⋯ | <!----> | *** |  0 | 13 | <!----> | *** |  4 | 19 | <!----> | **  |\n",
       "| 3RC |  5 |  2 | <!----> | <!----> | 22 |  9 | <!----> | <!----> |  16 | ⋯ | <!----> | <!----> |  6 |  3 | <!----> | <!----> |  3 |  4 | <!----> | <!----> |\n",
       "| 3R  | 86 | 34 | *   | <!----> | 93 | 45 | <!----> | <!----> | 102 | ⋯ | <!----> | <!----> | 54 | 84 | <!----> | <!----> | 87 | 73 | <!----> | <!----> |\n",
       "| 4   |  4 |  0 | <!----> | <!----> |  5 |  0 | <!----> | <!----> |   8 | ⋯ | <!----> | <!----> |  6 |  0 | ** | <!----> |  9 |  2 | *  | <!----> |\n",
       "| X   | 40 | 35 | <!----> | <!----> | 75 | 31 | <!----> | <!----> |  36 | ⋯ | **** | <!----> | 43 | 38 | <!----> | <!----> | 38 | 78 | <!----> | *** |\n",
       "| Y   |  1 |  6 | <!----> | * |  0 |  0 | <!----> | <!----> |   7 | ⋯ | <!----> | <!----> |  4 |  5 | <!----> | <!----> |  0 |  0 | <!----> | <!----> |\n",
       "\n"
      ],
      "text/plain": [
       "   region Germline_Earlier Somatic_Earlier Signif_Germline_Earlier\n",
       "1  2L     59               42                                     \n",
       "2  2LC     8                0              *                      \n",
       "3  2RC    20                1              ***                    \n",
       "4  2R     42               31                                     \n",
       "5  3L     54               43                                     \n",
       "6  3LC    12                0              **                     \n",
       "7  3RC     5                2                                     \n",
       "8  3R     86               34              *                      \n",
       "9  4       4                0                                     \n",
       "10 X      40               35                                     \n",
       "11 Y       1                6                                     \n",
       "   Signif_Somatic_Earlier Germline_Earlier.1 Kc167_Earlier\n",
       "1                         65                 40           \n",
       "2                          7                  4           \n",
       "3                         28                 14           \n",
       "4                         50                 50           \n",
       "5                         70                 50           \n",
       "6                         27                  7           \n",
       "7                         22                  9           \n",
       "8                         93                 45           \n",
       "9                          5                  0           \n",
       "10                        75                 31           \n",
       "11 *                       0                  0           \n",
       "   Signif_Germline_Earlier.1 Signif_Kc167_Earlier Germline_Earlier.2 ⋯\n",
       "1                                                  68                ⋯\n",
       "2                                                   6                ⋯\n",
       "3                                                  16                ⋯\n",
       "4                            **                    57                ⋯\n",
       "5                                                  72                ⋯\n",
       "6                                                  13                ⋯\n",
       "7                                                  16                ⋯\n",
       "8                                                 102                ⋯\n",
       "9                                                   8                ⋯\n",
       "10                                                 36                ⋯\n",
       "11                                                  7                ⋯\n",
       "   Signif_Somatic_Earlier.1 Signif_Kc167_Earlier.1 Somatic_Earlier.2\n",
       "1                                                  45               \n",
       "2                           *                       1               \n",
       "3                           **                      2               \n",
       "4                           **                     46               \n",
       "5                                                  56               \n",
       "6                           ***                     0               \n",
       "7                                                   6               \n",
       "8                                                  54               \n",
       "9                                                   6               \n",
       "10 ****                                            43               \n",
       "11                                                  4               \n",
       "   S2_Earlier.1 Signif_Somatic_Earlier.2 Signif_S2_Earlier.1 Kc167_Earlier.2\n",
       "1  49                                                        54             \n",
       "2   2                                                         5             \n",
       "3  16                                    **                  14             \n",
       "4  41                                                        80             \n",
       "5  56                                                        69             \n",
       "6  13                                    ***                  4             \n",
       "7   3                                                         3             \n",
       "8  84                                                        87             \n",
       "9   0           **                                            9             \n",
       "10 38                                                        38             \n",
       "11  5                                                         0             \n",
       "   S2_Earlier.2 Signif_Kc167_Earlier.2 Signif_S2_Earlier.2\n",
       "1  64                                                     \n",
       "2   1                                                     \n",
       "3  10                                                     \n",
       "4  51           **                                        \n",
       "5  69                                                     \n",
       "6  19                                  **                 \n",
       "7   4                                                     \n",
       "8  73                                                     \n",
       "9   2           *                                         \n",
       "10 78                                  ***                \n",
       "11  0                                                     "
      ]
     },
     "metadata": {},
     "output_type": "display_data"
    }
   ],
   "source": [
    "barpval <- regions %>%\n",
    "  reframe(\n",
    "    region,\n",
    "    across(\n",
    "      !region,\n",
    "      \\(Y) mapply(\n",
    "        \\(Y, i) fisher.test(\n",
    "          rbind(\n",
    "            Y[i,, drop=T],\n",
    "            colSums(Y[-i,, drop=F])\n",
    "          )\n",
    "        )$p.value,\n",
    "        list(Y),\n",
    "        seq(nrow(Y))\n",
    "      )\n",
    "    )\n",
    "  )\n",
    "barcomparison <- regions[\"region\"]\n",
    "for (comparison in colnames(regions)[-1]) {\n",
    "  comparison_names <- strsplit(comparison, \"_\")[[1]]\n",
    "  name1 <- paste0(comparison_names[1], \"_Earlier\") %>%\n",
    "    c(colnames(barcomparison), .) %>%\n",
    "    make.unique() %>%\n",
    "    tail(1)\n",
    "  name2 <- paste0(comparison_names[2], \"_Earlier\") %>%\n",
    "    c(colnames(barcomparison), .) %>%\n",
    "    make.unique() %>%\n",
    "    tail(1)\n",
    "  barcomparison[name1] <- pull(regions, comparison)[, 1]\n",
    "  barcomparison[name2] <- pull(regions, comparison)[, 2]\n",
    "  barcomparison[paste0(\"Signif_\", name1)] <- structure(\n",
    "    cut(pull(barpval, comparison), c(-Inf, 1e-4, 1e-3, 1e-2, 5e-2, Inf)),\n",
    "    levels = c(\"****\", \"***\", \"**\", \"*\", \"\"),\n",
    "    class = \"factor\"\n",
    "  ) %>%\n",
    "    replace(\n",
    "      chisq.test(pull(regions, comparison))$residuals[, 1] < 0,\n",
    "      \"\"\n",
    "    )\n",
    "  barcomparison[paste0(\"Signif_\", name2)] <- structure(\n",
    "    cut(pull(barpval, comparison), c(-Inf, 1e-4, 1e-3, 1e-2, 5e-2, Inf)),\n",
    "    levels = c(\"****\", \"***\", \"**\", \"*\", \"\"),\n",
    "    class = \"factor\"\n",
    "  ) %>%\n",
    "    replace(\n",
    "      chisq.test(pull(regions, comparison))$residuals[, 2] < 0,\n",
    "      \"\"\n",
    "    )\n",
    "}\n",
    "barcomparison"
   ]
  },
  {
   "cell_type": "code",
   "execution_count": 29,
   "metadata": {
    "vscode": {
     "languageId": "r"
    }
   },
   "outputs": [
    {
     "name": "stdout",
     "output_type": "stream",
     "text": [
      "region\tGermline_Earlier\tSomatic_Earlier\tSignif_Germline_Earlier\tSignif_Somatic_Earlier\tGermline_Earlier.1\tKc167_Earlier\tSignif_Germline_Earlier.1\tSignif_Kc167_Earlier\tGermline_Earlier.2\tS2_Earlier\tSignif_Germline_Earlier.2\tSignif_S2_Earlier\tSomatic_Earlier.1\tKc167_Earlier.1\tSignif_Somatic_Earlier.1\tSignif_Kc167_Earlier.1\tSomatic_Earlier.2\tS2_Earlier.1\tSignif_Somatic_Earlier.2\tSignif_S2_Earlier.1\tKc167_Earlier.2\tS2_Earlier.2\tSignif_Kc167_Earlier.2\tSignif_S2_Earlier.2\n",
      "2L\t59\t42\t\t\t65\t40\t\t\t68\t55\t\t\t45\t48\t\t\t45\t49\t\t\t54\t64\t\t\n",
      "2LC\t8\t0\t*\t\t7\t4\t\t\t6\t3\t\t\t0\t6\t\t*\t1\t2\t\t\t5\t1\t\t\n",
      "2RC\t20\t1\t***\t\t28\t14\t\t\t16\t14\t\t\t0\t9\t\t**\t2\t16\t\t**\t14\t10\t\t\n",
      "2R\t42\t31\t\t\t50\t50\t\t**\t57\t37\t\t\t33\t60\t\t**\t46\t41\t\t\t80\t51\t**\t\n",
      "3L\t54\t43\t\t\t70\t50\t\t\t72\t53\t\t\t51\t46\t\t\t56\t56\t\t\t69\t69\t\t\n",
      "3LC\t12\t0\t**\t\t27\t7\t\t\t13\t12\t\t\t0\t12\t\t***\t0\t13\t\t***\t4\t19\t\t**\n",
      "3RC\t5\t2\t\t\t22\t9\t\t\t16\t9\t\t\t12\t5\t\t\t6\t3\t\t\t3\t4\t\t\n",
      "3R\t86\t34\t*\t\t93\t45\t\t\t102\t63\t\t\t51\t64\t\t\t54\t84\t\t\t87\t73\t\t\n",
      "4\t4\t0\t\t\t5\t0\t\t\t8\t1\t\t\t2\t7\t\t\t6\t0\t**\t\t9\t2\t*\t\n",
      "X\t40\t35\t\t\t75\t31\t\t\t36\t44\t\t*\t82\t40\t****\t\t43\t38\t\t\t38\t78\t\t***\n",
      "Y\t1\t6\t\t*\t0\t0\t\t\t7\t14\t\t*\t0\t0\t\t\t4\t5\t\t\t0\t0\t\t\n"
     ]
    }
   ],
   "source": [
    "write.table(\n",
    "  barcomparison,\n",
    "  sep = \"\\t\",\n",
    "  quote = F,\n",
    "  row.names = F\n",
    ")"
   ]
  }
 ],
 "metadata": {
  "kernelspec": {
   "display_name": "R",
   "language": "R",
   "name": "ir"
  },
  "language_info": {
   "codemirror_mode": "r",
   "file_extension": ".r",
   "mimetype": "text/x-r-source",
   "name": "R",
   "pygments_lexer": "r",
   "version": "4.3.3"
  }
 },
 "nbformat": 4,
 "nbformat_minor": 2
}
