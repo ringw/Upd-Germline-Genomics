{
 "cells": [
  {
   "cell_type": "code",
   "execution_count": 1,
   "metadata": {
    "vscode": {
     "languageId": "r"
    }
   },
   "outputs": [
    {
     "name": "stderr",
     "output_type": "stream",
     "text": [
      "Loading required package: viridisLite\n",
      "\n",
      "\n",
      "Attaching package: ‘dplyr’\n",
      "\n",
      "\n",
      "The following objects are masked from ‘package:stats’:\n",
      "\n",
      "    filter, lag\n",
      "\n",
      "\n",
      "The following objects are masked from ‘package:base’:\n",
      "\n",
      "    intersect, setdiff, setequal, union\n",
      "\n",
      "\n"
     ]
    }
   ],
   "source": [
    "setwd(\"~/Upd-Germline-Genomics\")\n",
    "\n",
    "source(\"_targets.R\")"
   ]
  },
  {
   "cell_type": "code",
   "execution_count": 2,
   "metadata": {
    "vscode": {
     "languageId": "r"
    }
   },
   "outputs": [
    {
     "name": "stderr",
     "output_type": "stream",
     "text": [
      "Loading required package: stats4\n",
      "\n",
      "Loading required package: BiocGenerics\n",
      "\n",
      "\n",
      "Attaching package: ‘BiocGenerics’\n",
      "\n",
      "\n",
      "The following objects are masked from ‘package:dplyr’:\n",
      "\n",
      "    combine, intersect, setdiff, union\n",
      "\n",
      "\n",
      "The following objects are masked from ‘package:stats’:\n",
      "\n",
      "    IQR, mad, sd, var, xtabs\n",
      "\n",
      "\n",
      "The following objects are masked from ‘package:base’:\n",
      "\n",
      "    anyDuplicated, aperm, append, as.data.frame, basename, cbind,\n",
      "    colnames, dirname, do.call, duplicated, eval, evalq, Filter, Find,\n",
      "    get, grep, grepl, intersect, is.unsorted, lapply, Map, mapply,\n",
      "    match, mget, order, paste, pmax, pmax.int, pmin, pmin.int,\n",
      "    Position, rank, rbind, Reduce, rownames, sapply, setdiff, sort,\n",
      "    table, tapply, union, unique, unsplit, which.max, which.min\n",
      "\n",
      "\n",
      "Loading required package: S4Vectors\n",
      "\n",
      "\n",
      "Attaching package: ‘S4Vectors’\n",
      "\n",
      "\n",
      "The following objects are masked from ‘package:dplyr’:\n",
      "\n",
      "    first, rename\n",
      "\n",
      "\n",
      "The following object is masked from ‘package:utils’:\n",
      "\n",
      "    findMatches\n",
      "\n",
      "\n",
      "The following objects are masked from ‘package:base’:\n",
      "\n",
      "    expand.grid, I, unname\n",
      "\n",
      "\n",
      "Loading required package: IRanges\n",
      "\n",
      "\n",
      "Attaching package: ‘IRanges’\n",
      "\n",
      "\n",
      "The following objects are masked from ‘package:dplyr’:\n",
      "\n",
      "    collapse, desc, slice\n",
      "\n",
      "\n",
      "Loading required package: GenomeInfoDb\n",
      "\n",
      "\n",
      "Attaching package: ‘GenomicRanges’\n",
      "\n",
      "\n",
      "The following object is masked from ‘package:magrittr’:\n",
      "\n",
      "    subtract\n",
      "\n",
      "\n"
     ]
    }
   ],
   "source": [
    "library(GenomicRanges)"
   ]
  },
  {
   "cell_type": "code",
   "execution_count": 3,
   "metadata": {
    "vscode": {
     "languageId": "r"
    }
   },
   "outputs": [
    {
     "data": {
      "text/plain": [
       "IRanges object with 1 range and 0 metadata columns:\n",
       "          start       end     width\n",
       "      <integer> <integer> <integer>\n",
       "  [1]     36901     76900     40000"
      ]
     },
     "metadata": {},
     "output_type": "display_data"
    },
    {
     "data": {
      "text/plain": [
       "factor-Rle of length 1375880 with 8 runs\n",
       "  Lengths: 235138 252870 281103 320794  13482 235423  36674    396\n",
       "  Values :   2L     2R     3L     3R     4      X      Y      rDNA\n",
       "Levels(8): 2L 2R 3L 3R 4 X Y rDNA"
      ]
     },
     "metadata": {},
     "output_type": "display_data"
    },
    {
     "data": {
      "text/plain": [
       "\n",
       "    2L    2LC     2R    2RC     3L    3LC     3R    3RC      4   rDNA      X \n",
       "221922  13216 196354  56516 231539  49564 278500  42294  13482    396 235423 \n",
       "     Y \n",
       " 36674 "
      ]
     },
     "metadata": {},
     "output_type": "display_data"
    }
   ],
   "source": [
    "tar_load(chic.tile.diameter_500_chr)\n",
    "tar_load(chromosome_pericetromere_label)\n",
    "\n",
    "subset(chic.tile.diameter_500_chr, seqnames == \"rDNA\")[372:767] %>%\n",
    "  reduce() %>%\n",
    "  ranges()\n",
    "\n",
    "analyze_loci <- c(\n",
    "  seqnames(chic.tile.diameter_500_chr) %in% names(chr.lengths)\n",
    ") %>%\n",
    "  replace(\n",
    "    which(seqnames(chic.tile.diameter_500_chr) == \"rDNA\")[372:767],\n",
    "    TRUE\n",
    "  )\n",
    "seqnames <- seqnames(chic.tile.diameter_500_chr)[analyze_loci] %>%\n",
    "  droplevels()\n",
    "seqnames\n",
    "gr <- chic.tile.diameter_500_chr[analyze_loci]\n",
    "gr$region <- seqnames %>%\n",
    "  as.character() %>%\n",
    "  paste0(\n",
    "    rep(\"\", length(.)) %>%\n",
    "      replace(\n",
    "        to(findOverlaps(chromosome_pericetromere_label, gr)),\n",
    "        \"C\"\n",
    "      )\n",
    "  )\n",
    "table(gr$region)\n",
    "gr$region <- gr$region %>%\n",
    "  factor(c(\"2L\", \"2LC\", \"2RC\", \"2R\", \"3L\", \"3LC\", \"3RC\", \"3R\", \"4\", \"X\", \"Y\", \"rDNA\"))"
   ]
  },
  {
   "cell_type": "code",
   "execution_count": 4,
   "metadata": {
    "vscode": {
     "languageId": "r"
    }
   },
   "outputs": [
    {
     "data": {
      "text/html": [
       "<table class=\"dataframe\">\n",
       "<caption>A tibble: 2 × 5</caption>\n",
       "<thead>\n",
       "\t<tr><th scope=col>seqnames</th><th scope=col>start</th><th scope=col>end</th><th scope=col>width</th><th scope=col>strand</th></tr>\n",
       "\t<tr><th scope=col>&lt;fct&gt;</th><th scope=col>&lt;int&gt;</th><th scope=col>&lt;int&gt;</th><th scope=col>&lt;int&gt;</th><th scope=col>&lt;fct&gt;</th></tr>\n",
       "</thead>\n",
       "<tbody>\n",
       "\t<tr><td>rDNA</td><td>36901</td><td>37400</td><td>500</td><td>*</td></tr>\n",
       "\t<tr><td>rDNA</td><td>76401</td><td>76900</td><td>500</td><td>*</td></tr>\n",
       "</tbody>\n",
       "</table>\n"
      ],
      "text/latex": [
       "A tibble: 2 × 5\n",
       "\\begin{tabular}{lllll}\n",
       " seqnames & start & end & width & strand\\\\\n",
       " <fct> & <int> & <int> & <int> & <fct>\\\\\n",
       "\\hline\n",
       "\t rDNA & 36901 & 37400 & 500 & *\\\\\n",
       "\t rDNA & 76401 & 76900 & 500 & *\\\\\n",
       "\\end{tabular}\n"
      ],
      "text/markdown": [
       "\n",
       "A tibble: 2 × 5\n",
       "\n",
       "| seqnames &lt;fct&gt; | start &lt;int&gt; | end &lt;int&gt; | width &lt;int&gt; | strand &lt;fct&gt; |\n",
       "|---|---|---|---|---|\n",
       "| rDNA | 36901 | 37400 | 500 | * |\n",
       "| rDNA | 76401 | 76900 | 500 | * |\n",
       "\n"
      ],
      "text/plain": [
       "  seqnames start end   width strand\n",
       "1 rDNA     36901 37400 500   *     \n",
       "2 rDNA     76401 76900 500   *     "
      ]
     },
     "metadata": {},
     "output_type": "display_data"
    }
   ],
   "source": [
    "subset(chic.tile.diameter_500_chr, seqnames == \"rDNA\")[372:767] %>%\n",
    "  as.data.frame() %>%\n",
    "  as_tibble() %>%\n",
    "  dplyr::slice(c(1, nrow(.)))"
   ]
  },
  {
   "cell_type": "code",
   "execution_count": 5,
   "metadata": {
    "vscode": {
     "languageId": "r"
    }
   },
   "outputs": [
    {
     "data": {
      "text/html": [
       "<table class=\"dataframe\">\n",
       "<caption>A tibble: 2 × 5</caption>\n",
       "<thead>\n",
       "\t<tr><th scope=col>seqnames</th><th scope=col>start</th><th scope=col>end</th><th scope=col>width</th><th scope=col>strand</th></tr>\n",
       "\t<tr><th scope=col>&lt;fct&gt;</th><th scope=col>&lt;int&gt;</th><th scope=col>&lt;int&gt;</th><th scope=col>&lt;int&gt;</th><th scope=col>&lt;fct&gt;</th></tr>\n",
       "</thead>\n",
       "<tbody>\n",
       "\t<tr><td>rDNA</td><td>36901</td><td>37400</td><td>500</td><td>*</td></tr>\n",
       "\t<tr><td>rDNA</td><td>76687</td><td>76973</td><td>287</td><td>*</td></tr>\n",
       "</tbody>\n",
       "</table>\n"
      ],
      "text/latex": [
       "A tibble: 2 × 5\n",
       "\\begin{tabular}{lllll}\n",
       " seqnames & start & end & width & strand\\\\\n",
       " <fct> & <int> & <int> & <int> & <fct>\\\\\n",
       "\\hline\n",
       "\t rDNA & 36901 & 37400 & 500 & *\\\\\n",
       "\t rDNA & 76687 & 76973 & 287 & *\\\\\n",
       "\\end{tabular}\n"
      ],
      "text/markdown": [
       "\n",
       "A tibble: 2 × 5\n",
       "\n",
       "| seqnames &lt;fct&gt; | start &lt;int&gt; | end &lt;int&gt; | width &lt;int&gt; | strand &lt;fct&gt; |\n",
       "|---|---|---|---|---|\n",
       "| rDNA | 36901 | 37400 | 500 | * |\n",
       "| rDNA | 76687 | 76973 | 287 | * |\n",
       "\n"
      ],
      "text/plain": [
       "  seqnames start end   width strand\n",
       "1 rDNA     36901 37400 500   *     \n",
       "2 rDNA     76687 76973 287   *     "
      ]
     },
     "metadata": {},
     "output_type": "display_data"
    }
   ],
   "source": [
    "subset(chic.tile.diameter_500_chr, seqnames == \"rDNA\")[-c(1:371)] %>%\n",
    "  as.data.frame() %>%\n",
    "  as_tibble() %>%\n",
    "  dplyr::slice(c(1, nrow(.)))"
   ]
  },
  {
   "cell_type": "code",
   "execution_count": 6,
   "metadata": {
    "vscode": {
     "languageId": "r"
    }
   },
   "outputs": [
    {
     "name": "stderr",
     "output_type": "stream",
     "text": [
      "Loading required package: gridExtra\n",
      "\n",
      "\n",
      "Attaching package: ‘gridExtra’\n",
      "\n",
      "\n",
      "The following object is masked from ‘package:BiocGenerics’:\n",
      "\n",
      "    combine\n",
      "\n",
      "\n",
      "The following object is masked from ‘package:dplyr’:\n",
      "\n",
      "    combine\n",
      "\n",
      "\n",
      "Loading required package: ggplot2\n",
      "\n",
      "Warning message:\n",
      "“\u001b[1m\u001b[22mRemoved 56 rows containing non-finite values (`stat_ydensity()`).”\n",
      "Warning message:\n",
      "“\u001b[1m\u001b[22mRemoved 56 rows containing non-finite values (`stat_boxplot()`).”\n",
      "Warning message:\n",
      "“\u001b[1m\u001b[22mRemoved 23 rows containing non-finite values (`stat_ydensity()`).”\n",
      "Warning message:\n",
      "“\u001b[1m\u001b[22mRemoved 23 rows containing non-finite values (`stat_boxplot()`).”\n",
      "Warning message:\n",
      "“\u001b[1m\u001b[22mRemoved 4 rows containing non-finite values (`stat_ydensity()`).”\n",
      "Warning message:\n",
      "“\u001b[1m\u001b[22mRemoved 4 rows containing non-finite values (`stat_boxplot()`).”\n",
      "Warning message:\n",
      "“\u001b[1m\u001b[22mRemoved 1 rows containing non-finite values (`stat_ydensity()`).”\n",
      "Warning message:\n",
      "“\u001b[1m\u001b[22mRemoved 1 rows containing non-finite values (`stat_boxplot()`).”\n"
     ]
    },
    {
     "data": {
      "image/png": "[encoded data removed]",
      "text/plain": [
       "plot without title"
      ]
     },
     "metadata": {
      "image/png": {
       "height": 420,
       "width": 420
      }
     },
     "output_type": "display_data"
    }
   ],
   "source": [
    "library(egg)\n",
    "library(grid)\n",
    "library(gtable)\n",
    "\n",
    "tar_load(enriched.chromosomes.data_H3K4_Germline)\n",
    "tar_load(enriched.chromosomes.data_H3K4_Somatic)\n",
    "tar_load(enriched.chromosomes.data_H3K9_Germline)\n",
    "tar_load(enriched.chromosomes.data_H3K9_Somatic)\n",
    "\n",
    "gg <- ggplot(\n",
    "  enriched.chromosomes.data_H3K4_Germline,\n",
    "  aes(label, L2FC, fill=label)\n",
    ") +\n",
    "  geom_violin(data = \\(data) data %>% subset(label %in% c(\"2LC\", \"3RC\", \"X\"))) +\n",
    "  geom_boxplot(data = \\(data) data %>% subset(label %in% c(\"2LC\", \"3RC\", \"X\")), outlier.shape = NA, fill = \"transparent\") +\n",
    "  scale_fill_manual(values = arm.colors) +\n",
    "  coord_cartesian(NULL, c(-1.2, 1.2)) +\n",
    "  labs(x = NULL) +\n",
    "  theme(\n",
    "    aspect.ratio = 2,\n",
    "    legend.position = \"none\",\n",
    "  )\n",
    "\n",
    "grob <- cbind(\n",
    "  rbind(\n",
    "    set_panel_size(\n",
    "      gg + labs(title = \"Germline\", y = \"H3K4me3\"),\n",
    "      w = unit(1, \"in\"),\n",
    "      h = unit(2, \"in\")\n",
    "    ),\n",
    "    set_panel_size(\n",
    "      gg %>%\n",
    "        replace(names(.) == \"data\", list(enriched.chromosomes.data_H3K9_Germline)) %>%\n",
    "        `+`(labs(y = \"H3K9me3\")),\n",
    "      w = unit(1, \"in\"),\n",
    "      h = unit(2, \"in\")\n",
    "    )\n",
    "  ),\n",
    "  rbind(\n",
    "    set_panel_size(\n",
    "      gg %>%\n",
    "        replace(names(.) == \"data\", list(enriched.chromosomes.data_H3K4_Somatic)) %>%\n",
    "        `+`(labs(title = \"Somatic\", y = NULL)),\n",
    "      w = unit(1, \"in\"),\n",
    "      h = unit(2, \"in\")\n",
    "    ),\n",
    "    set_panel_size(\n",
    "      gg %>%\n",
    "        replace(names(.) == \"data\", list(enriched.chromosomes.data_H3K9_Somatic)) %>%\n",
    "        `+`(labs(y = NULL)),\n",
    "      w = unit(1, \"in\"),\n",
    "      h = unit(2, \"in\")\n",
    "    )\n",
    "  )\n",
    ") %>%\n",
    "  gtable_add_grob(\n",
    "    polylineGrob(x = c(0, 0)),\n",
    "    l = 10,\n",
    "    t = 1,\n",
    "    b = 24\n",
    "  )\n",
    "grob$widths[9:10] <- unit(12, \"pt\")\n",
    "plot(grob)"
   ]
  },
  {
   "cell_type": "code",
   "execution_count": 7,
   "metadata": {
    "vscode": {
     "languageId": "r"
    }
   },
   "outputs": [],
   "source": [
    "tar_load(chic.experiment.quantify_H3K4_Germline_peakcalling.broad_chr)\n",
    "tar_load(chic.experiment.quantify_H3K4_Somatic_peakcalling.broad_chr)\n",
    "chic.experiment.quantify_H3K4_Germline_peakcalling.broad_chr <-\n",
    "  chic.experiment.quantify_H3K4_Germline_peakcalling.broad_chr[analyze_loci]\n",
    "seqlevels(chic.experiment.quantify_H3K4_Germline_peakcalling.broad_chr) <-\n",
    "  levels(seqnames)\n",
    "seqnames(chic.experiment.quantify_H3K4_Germline_peakcalling.broad_chr) <-\n",
    "  seqnames\n",
    "chic.experiment.quantify_H3K4_Somatic_peakcalling.broad_chr <-\n",
    "  chic.experiment.quantify_H3K4_Somatic_peakcalling.broad_chr[analyze_loci]\n",
    "seqlevels(chic.experiment.quantify_H3K4_Somatic_peakcalling.broad_chr) <-\n",
    "  levels(seqnames)\n",
    "seqnames(chic.experiment.quantify_H3K4_Somatic_peakcalling.broad_chr) <-\n",
    "  seqnames\n",
    "\n",
    "tar_load(chic.experiment.quantify_H3K27_Germline_peakcalling.broad_chr)\n",
    "tar_load(chic.experiment.quantify_H3K27_Somatic_peakcalling.broad_chr)\n",
    "chic.experiment.quantify_H3K27_Germline_peakcalling.broad_chr <-\n",
    "  chic.experiment.quantify_H3K27_Germline_peakcalling.broad_chr[analyze_loci]\n",
    "seqlevels(chic.experiment.quantify_H3K27_Germline_peakcalling.broad_chr) <-\n",
    "  levels(seqnames)\n",
    "seqnames(chic.experiment.quantify_H3K27_Germline_peakcalling.broad_chr) <-\n",
    "  seqnames\n",
    "chic.experiment.quantify_H3K27_Somatic_peakcalling.broad_chr <-\n",
    "  chic.experiment.quantify_H3K27_Somatic_peakcalling.broad_chr[analyze_loci]\n",
    "seqlevels(chic.experiment.quantify_H3K27_Somatic_peakcalling.broad_chr) <-\n",
    "  levels(seqnames)\n",
    "seqnames(chic.experiment.quantify_H3K27_Somatic_peakcalling.broad_chr) <-\n",
    "  seqnames\n",
    "\n",
    "tar_load(chic.experiment.quantify_H3K9_Germline_peakcalling.broad_chr)\n",
    "tar_load(chic.experiment.quantify_H3K9_Somatic_peakcalling.broad_chr)\n",
    "chic.experiment.quantify_H3K9_Germline_peakcalling.broad_chr <-\n",
    "  chic.experiment.quantify_H3K9_Germline_peakcalling.broad_chr[analyze_loci]\n",
    "seqlevels(chic.experiment.quantify_H3K9_Germline_peakcalling.broad_chr) <-\n",
    "  levels(seqnames)\n",
    "seqnames(chic.experiment.quantify_H3K9_Germline_peakcalling.broad_chr) <-\n",
    "  seqnames\n",
    "chic.experiment.quantify_H3K9_Somatic_peakcalling.broad_chr <-\n",
    "  chic.experiment.quantify_H3K9_Somatic_peakcalling.broad_chr[analyze_loci]\n",
    "seqlevels(chic.experiment.quantify_H3K9_Somatic_peakcalling.broad_chr) <-\n",
    "  levels(seqnames)\n",
    "seqnames(chic.experiment.quantify_H3K9_Somatic_peakcalling.broad_chr) <-\n",
    "  seqnames"
   ]
  },
  {
   "cell_type": "code",
   "execution_count": null,
   "metadata": {
    "vscode": {
     "languageId": "r"
    }
   },
   "outputs": [
    {
     "data": {
      "text/plain": [
       "GRanges object with 396 ranges and 9 metadata columns:\n",
       "        seqnames      ranges strand | score.molH3 score.molH3K4me3  score.R1\n",
       "           <Rle>   <IRanges>  <Rle> |   <numeric>        <numeric> <numeric>\n",
       "    [1]     rDNA 36901-37400      * |    0.762774         0.956435   1.12129\n",
       "    [2]     rDNA 37001-37500      * |    0.879280         1.075774   1.23525\n",
       "    [3]     rDNA 37101-37600      * |    0.589868         0.665586   1.23667\n",
       "    [4]     rDNA 37201-37700      * |    0.546928         0.610731   1.24916\n",
       "    [5]     rDNA 37301-37800      * |    0.546928         0.610731   1.24916\n",
       "    ...      ...         ...    ... .         ...              ...       ...\n",
       "  [392]     rDNA 76001-76500      * |    0.878388         0.764779  0.951615\n",
       "  [393]     rDNA 76101-76600      * |    0.878388         0.764779  0.951615\n",
       "  [394]     rDNA 76201-76700      * |    0.878388         0.764779  0.951615\n",
       "  [395]     rDNA 76301-76800      * |    0.000000         0.000000  1.000000\n",
       "  [396]     rDNA 76401-76900      * |    0.000000         0.000000  1.000000\n",
       "           p_peak         L2FC   logMu_H3 logMu_H3K4me3       se_H3  se_H3K4me3\n",
       "        <numeric>    <numeric>  <numeric>     <numeric>   <numeric>   <numeric>\n",
       "    [1]  0.373162     0.326412  -0.270793    -0.0445419    0.150587    0.203363\n",
       "    [2]  0.408350     0.290980  -0.128651     0.0730406    0.146612    0.195214\n",
       "    [3]  0.669078     0.174233  -0.527857    -0.4070878    0.162086    0.232979\n",
       "    [4]  0.704523     0.159187  -0.603439    -0.4930985    0.165700    0.240994\n",
       "    [5]  0.704523     0.159187  -0.603439    -0.4930985    0.165700    0.240994\n",
       "    ...       ...          ...        ...           ...         ...         ...\n",
       "  [392]  0.598049 -1.99817e-01  -0.129666     -0.268169 1.44719e-01 2.20859e-01\n",
       "  [393]  0.598049 -1.99817e-01  -0.129666     -0.268169 1.44719e-01 2.20859e-01\n",
       "  [394]  0.598049 -1.99817e-01  -0.129666     -0.268169 1.44719e-01 2.20859e-01\n",
       "  [395]  1.000000  4.74025e-09 -29.000000    -29.000000 1.79190e+05 3.34030e+05\n",
       "  [396]  1.000000  4.74025e-09 -29.000000    -29.000000 1.79190e+05 3.34030e+05\n",
       "  -------\n",
       "  seqinfo: 8 sequences from an unspecified genome"
      ]
     },
     "metadata": {},
     "output_type": "display_data"
    }
   ],
   "source": [
    "chic.experiment.quantify_H3K4_Germline_peakcalling.broad_chr %>%\n",
    "  subset(seqnames(.) == \"rDNA\")"
   ]
  },
  {
   "cell_type": "code",
   "execution_count": 9,
   "metadata": {
    "vscode": {
     "languageId": "r"
    }
   },
   "outputs": [],
   "source": [
    "chic.experiment.quantify_H3K4_Germline_peakcalling.broad_chr <-\n",
    "  chic.experiment.quantify_H3K4_Germline_peakcalling.broad_chr %>%\n",
    "    subset(seqnames(.) != \"rDNA\")\n",
    "chic.experiment.quantify_H3K4_Somatic_peakcalling.broad_chr <-\n",
    "  chic.experiment.quantify_H3K4_Somatic_peakcalling.broad_chr %>%\n",
    "    subset(seqnames(.) != \"rDNA\")\n",
    "\n",
    "chic.experiment.quantify_H3K27_Germline_peakcalling.broad_chr <-\n",
    "  chic.experiment.quantify_H3K27_Germline_peakcalling.broad_chr %>%\n",
    "    subset(seqnames(.) != \"rDNA\")\n",
    "chic.experiment.quantify_H3K27_Somatic_peakcalling.broad_chr <-\n",
    "  chic.experiment.quantify_H3K27_Somatic_peakcalling.broad_chr %>%\n",
    "    subset(seqnames(.) != \"rDNA\")\n",
    "\n",
    "chic.experiment.quantify_H3K9_Germline_peakcalling.broad_chr <-\n",
    "  chic.experiment.quantify_H3K9_Germline_peakcalling.broad_chr %>%\n",
    "    subset(seqnames(.) != \"rDNA\")\n",
    "chic.experiment.quantify_H3K9_Somatic_peakcalling.broad_chr <-\n",
    "  chic.experiment.quantify_H3K9_Somatic_peakcalling.broad_chr %>%\n",
    "    subset(seqnames(.) != \"rDNA\")\n",
    "\n",
    "gr <- gr %>% subset(seqnames(.) != \"rDNA\")"
   ]
  },
  {
   "cell_type": "code",
   "execution_count": 10,
   "metadata": {
    "vscode": {
     "languageId": "r"
    }
   },
   "outputs": [
    {
     "name": "stdout",
     "output_type": "stream",
     "text": [
      "c(\"2L\" = \"#22B700\", \"2LC\" = \"#006500\", \"2RC\" = \"#006E50\", \"2R\" = \"#00C19B\", \n",
      "\"3L\" = \"#EC823A\", \"3LC\" = \"#8B3B00\", \"3RC\" = \"#605500\", \"3R\" = \"#B1A100\", \n",
      "\"4\" = \"#DE70F9\", X = \"#FF64B2\", Y = \"#3FA1FF\")\n",
      "c(\"2L\" = \"#22B700\", \"2LC\" = \"#006500\", \"2RC\" = \"#006E50\", \"2R\" = \"#00C19B\", \n",
      "\"3L\" = \"#EC823A\", \"3LC\" = \"#8B3B00\", \"3RC\" = \"#605500\", \"3R\" = \"#B1A100\", \n",
      "\"4\" = \"#DE70F9\", X = \"#FF64B2\", Y = \"#3FA1FF\", rDNA = \"#79d2ff\"\n",
      ")\n"
     ]
    }
   ],
   "source": [
    "write(deparse(arm.colors), stdout())\n",
    "arm.colors <- c(\n",
    "  \"2L\" = \"#22B700\", \"2LC\" = \"#006500\", \"2RC\" = \"#006E50\", \"2R\" = \"#00C19B\",  \"3L\" = \"#EC823A\", \"3LC\" = \"#8B3B00\", \"3RC\" = \"#605500\", \"3R\" = \"#B1A100\",  \"4\" = \"#DE70F9\", X = \"#FF64B2\", Y = \"#3FA1FF\",\n",
    "  rDNA = \"#79d2ff\"\n",
    ")\n",
    "write(deparse(arm.colors), stdout())"
   ]
  },
  {
   "cell_type": "code",
   "execution_count": 11,
   "metadata": {
    "vscode": {
     "languageId": "r"
    }
   },
   "outputs": [],
   "source": [
    "data <- with(\n",
    "  elementMetadata(gr),\n",
    "  list(\n",
    "    H3K4 = tibble(\n",
    "      region,\n",
    "      GSC = chic.experiment.quantify_H3K4_Germline_peakcalling.broad_chr$L2FC,\n",
    "      CySC = chic.experiment.quantify_H3K4_Somatic_peakcalling.broad_chr$L2FC,\n",
    "    ),\n",
    "    H3K27 = tibble(\n",
    "      region,\n",
    "      GSC = chic.experiment.quantify_H3K27_Germline_peakcalling.broad_chr$L2FC,\n",
    "      CySC = chic.experiment.quantify_H3K27_Somatic_peakcalling.broad_chr$L2FC,\n",
    "    ),\n",
    "    H3K9 = tibble(\n",
    "      region,\n",
    "      GSC = chic.experiment.quantify_H3K9_Germline_peakcalling.broad_chr$L2FC,\n",
    "      CySC = chic.experiment.quantify_H3K9_Somatic_peakcalling.broad_chr$L2FC,\n",
    "    )\n",
    "  )\n",
    ")"
   ]
  },
  {
   "cell_type": "code",
   "execution_count": 12,
   "metadata": {
    "vscode": {
     "languageId": "r"
    }
   },
   "outputs": [
    {
     "name": "stderr",
     "output_type": "stream",
     "text": [
      "Warning message:\n",
      "“\u001b[1m\u001b[22mRemoved 81563 rows containing non-finite values (`stat_bin2d()`).”\n",
      "Warning message:\n",
      "“\u001b[1m\u001b[22mRemoved 92 rows containing missing values (`geom_tile()`).”\n"
     ]
    },
    {
     "data": {
      "image/png": "[encoded data removed]",
      "text/plain": [
       "plot without title"
      ]
     },
     "metadata": {
      "image/png": {
       "height": 420,
       "width": 420
      }
     },
     "output_type": "display_data"
    }
   ],
   "source": [
    "library(ggplot2)\n",
    "ggplot(subset(data$H3K27), aes(GSC, CySC, fill=after_stat(density))) +\n",
    "  geom_bin2d(data = \\(data) data %>% subset(between(abs(GSC), 1e-6, 9.9) & between(abs(CySC), 1e-6, 9.9)), binwidth = 0.2) +\n",
    "  facet_wrap(vars(region)) +\n",
    "  scale_fill_viridis_c(\"% of Chromatin\", limits=c(0, 0.05), oob=scales::squish, labels=scales::percent) +\n",
    "  annotate(\n",
    "    \"segment\",\n",
    "    c(-Inf, 0),\n",
    "    c(0, -Inf),\n",
    "    xend = c(Inf, 0),\n",
    "    yend = c(0, Inf),\n",
    "    color = \"#990000\",\n",
    "    linewidth = 0.5 * 25.4 / 72,\n",
    "  ) +\n",
    "  scale_x_continuous(limits = c(-1.401, 1.401), expand=c(0, 0)) +\n",
    "  scale_y_continuous(limits = c(-1.401, 1.401), expand=c(0, 0)) +\n",
    "  coord_cartesian(c(-1.4,1.4), c(-1.4,1.4), clip=\"off\") +\n",
    "  labs(title = \"H3K27me3 L2FC heatmap\") +\n",
    "  theme(\n",
    "    aspect.ratio = 1,\n",
    "    panel.background = element_rect(fill = \"#575757\"),\n",
    "    panel.grid = element_line(color = \"black\", linewidth = 0.5 * 25.4 / 72),\n",
    "    panel.grid.minor = element_line(color = \"black\", linewidth = 0.5 * 25.4 / 72),\n",
    "  )"
   ]
  },
  {
   "cell_type": "code",
   "execution_count": 13,
   "metadata": {
    "vscode": {
     "languageId": "r"
    }
   },
   "outputs": [
    {
     "data": {
      "text/html": [
       "0.0569755809591387"
      ],
      "text/latex": [
       "0.0569755809591387"
      ],
      "text/markdown": [
       "0.0569755809591387"
      ],
      "text/plain": [
       "[1] 0.05697558"
      ]
     },
     "metadata": {},
     "output_type": "display_data"
    }
   ],
   "source": [
    "with(\n",
    "  data$H3K4,\n",
    "  mean(\n",
    "    (between(abs(GSC), 1.4, 9.9) | between(abs(CySC), 1.4, 9.9)) &\n",
    "      between(abs(GSC), 1e-6, 9.9) &\n",
    "      between(abs(CySC), 1e-6, 9.9)\n",
    "  )\n",
    ")"
   ]
  },
  {
   "cell_type": "code",
   "execution_count": 14,
   "metadata": {
    "vscode": {
     "languageId": "r"
    }
   },
   "outputs": [
    {
     "name": "stdout",
     "output_type": "stream",
     "text": [
      "[1] 1.042217\n"
     ]
    },
    {
     "name": "stderr",
     "output_type": "stream",
     "text": [
      "Warning message:\n",
      "“\u001b[1m\u001b[22mRemoved 8951 rows containing non-finite values (`stat_bin2d()`).”\n",
      "Warning message:\n",
      "“\u001b[1m\u001b[22mRemoved 20 rows containing missing values (`geom_tile()`).”\n"
     ]
    },
    {
     "data": {
      "image/png": "[encoded data removed]",
      "text/plain": [
       "plot without title"
      ]
     },
     "metadata": {
      "image/png": {
       "height": 420,
       "width": 420
      }
     },
     "output_type": "display_data"
    }
   ],
   "source": [
    "library(ggplot2)\n",
    "data_H3K4 <- subset(\n",
    "  data$H3K4,\n",
    "  region %in% c(\"2L\", \"2LC\") &\n",
    "    between(abs(GSC), 1e-6, 9.9) &\n",
    "    between(abs(CySC), 1e-6, 9.9)\n",
    ")\n",
    "plot_limits <- 1.401\n",
    "annotate_polygon <- 1.38\n",
    "correction_factor <- with(\n",
    "  data_H3K4,\n",
    "  1 / mean(between(GSC, -plot_limits, plot_limits) & between(CySC, -plot_limits, plot_limits))\n",
    ")\n",
    "print(correction_factor)\n",
    "gg <- ggplot(data_H3K4, aes(GSC, CySC, fill = after_stat(density))) +\n",
    "  geom_bin2d(binwidth = 0.2) +\n",
    "  facet_wrap(vars(region), scales = \"free\") +\n",
    "  scale_fill_viridis_c(\n",
    "    \"% of Chromatin\",\n",
    "    breaks = c(0.01, 0.02, 0.03) / correction_factor,\n",
    "    labels = \\(v) scales::percent(round(v * correction_factor, 2))\n",
    "  ) +\n",
    "  annotate(\n",
    "    \"polygon\",\n",
    "    c(-annotate_polygon, -0.2, -0.2, -annotate_polygon),\n",
    "    c(annotate_polygon, annotate_polygon, 0.2, 0.2),\n",
    "    fill = \"transparent\",\n",
    "    color = \"#c41212\",\n",
    "    linewidth = 2 * 25.4 / 72,\n",
    "  ) +\n",
    "  annotate(\n",
    "    \"polygon\",\n",
    "    c(annotate_polygon, 0.2, 0.2, annotate_polygon),\n",
    "    c(-annotate_polygon, -annotate_polygon, -0.2, -0.2),\n",
    "    fill = \"transparent\",\n",
    "    color = \"#c41212\",\n",
    "    linewidth = 2 * 25.4 / 72,\n",
    "  ) +\n",
    "  scale_x_continuous(\n",
    "    limits = c(-plot_limits, plot_limits), expand=c(0, 0),\n",
    "    minor_breaks = seq(-1.4, 1.4, by=0.2)\n",
    "  ) +\n",
    "  scale_y_continuous(\n",
    "    limits = c(-plot_limits, plot_limits), expand=c(0, 0),\n",
    "    minor_breaks = seq(-1.4, 1.4, by=0.2)\n",
    "  ) +\n",
    "  coord_cartesian(c(-1.4,1.4), c(-1.4,1.4), clip=\"off\") +\n",
    "  labs(x = NULL) +\n",
    "  theme(\n",
    "    aspect.ratio = 1,\n",
    "    panel.background = element_rect(fill = \"#575757\"),\n",
    "    panel.grid = element_line(color = \"black\", linewidth = 0.5 * 25.4 / 72),\n",
    "    panel.grid.minor = element_line(color = \"black\", linewidth = 0.5 * 25.4 / 72),\n",
    "    panel.border = element_blank(),\n",
    "  )\n",
    "gg"
   ]
  },
  {
   "cell_type": "code",
   "execution_count": 15,
   "metadata": {
    "vscode": {
     "languageId": "r"
    }
   },
   "outputs": [
    {
     "name": "stdout",
     "output_type": "stream",
     "text": [
      "[1] 1.046535\n"
     ]
    },
    {
     "name": "stderr",
     "output_type": "stream",
     "text": [
      "Warning message:\n",
      "“\u001b[1m\u001b[22mRemoved 9825 rows containing non-finite values (`stat_bin2d()`).”\n",
      "Warning message:\n",
      "“\u001b[1m\u001b[22mRemoved 13 rows containing missing values (`geom_tile()`).”\n",
      "Warning message:\n",
      "“\u001b[1m\u001b[22mRemoved 9825 rows containing non-finite values (`stat_bin2d()`).”\n",
      "Warning message:\n",
      "“\u001b[1m\u001b[22mRemoved 13 rows containing missing values (`geom_tile()`).”\n"
     ]
    },
    {
     "data": {
      "image/png": "[encoded data removed]",
      "text/plain": [
       "plot without title"
      ]
     },
     "metadata": {
      "image/png": {
       "height": 420,
       "width": 420
      }
     },
     "output_type": "display_data"
    }
   ],
   "source": [
    "library(ggplot2)\n",
    "data_H3K27 <- subset(\n",
    "  data$H3K27,\n",
    "  region %in% c(\"2L\", \"2LC\") &\n",
    "    between(abs(GSC), 1e-6, 9.9) &\n",
    "    between(abs(CySC), 1e-6, 9.9)\n",
    ")\n",
    "plot_limits <- 1.401\n",
    "annotate_polygon <- 1.38\n",
    "correction_factor <- with(\n",
    "  data_H3K27,\n",
    "  1 / mean(between(GSC, -plot_limits, plot_limits) & between(CySC, -plot_limits, plot_limits))\n",
    ")\n",
    "print(correction_factor)\n",
    "gg_H3K27 <- ggplot(data_H3K27, aes(GSC, CySC, fill = after_stat(density))) +\n",
    "  geom_bin2d(binwidth = 0.2) +\n",
    "  facet_wrap(vars(region), scales = \"free\") +\n",
    "  scale_fill_viridis_c(\n",
    "    \"% of Chromatin\",\n",
    "    breaks = c(0.01, 0.02, 0.03) / correction_factor,\n",
    "    labels = \\(v) scales::percent(round(v * correction_factor, 2))\n",
    "  ) +\n",
    "  annotate(\n",
    "    \"polygon\",\n",
    "    c(-annotate_polygon, -0.2, -0.2, -annotate_polygon),\n",
    "    c(annotate_polygon, annotate_polygon, 0.2, 0.2),\n",
    "    fill = \"transparent\",\n",
    "    color = \"#c41212\",\n",
    "    linewidth = 2 * 25.4 / 72,\n",
    "  ) +\n",
    "  annotate(\n",
    "    \"polygon\",\n",
    "    c(annotate_polygon, 0.2, 0.2, annotate_polygon),\n",
    "    c(-annotate_polygon, -annotate_polygon, -0.2, -0.2),\n",
    "    fill = \"transparent\",\n",
    "    color = \"#c41212\",\n",
    "    linewidth = 2 * 25.4 / 72,\n",
    "  ) +\n",
    "  scale_x_continuous(\n",
    "    limits = c(-plot_limits, plot_limits), expand=c(0, 0),\n",
    "    minor_breaks = seq(-1.4, 1.4, by=0.2)\n",
    "  ) +\n",
    "  scale_y_continuous(\n",
    "    limits = c(-plot_limits, plot_limits), expand=c(0, 0),\n",
    "    minor_breaks = seq(-1.4, 1.4, by=0.2)\n",
    "  ) +\n",
    "  coord_cartesian(c(-1.4,1.4), c(-1.4,1.4), clip=\"off\") +\n",
    "  labs(x = NULL) +\n",
    "  theme(\n",
    "    aspect.ratio = 1,\n",
    "    panel.background = element_rect(fill = \"#575757\"),\n",
    "    panel.grid = element_line(color = \"black\", linewidth = 0.5 * 25.4 / 72),\n",
    "    panel.grid.minor = element_line(color = \"black\", linewidth = 0.5 * 25.4 / 72),\n",
    "    panel.border = element_blank(),\n",
    "  )\n",
    "grobK27 <- set_panel_size(gg_H3K27, w = unit(1.5, \"in\"), h = unit(1.5, \"in\"))\n",
    "gg_H3K27"
   ]
  },
  {
   "cell_type": "code",
   "execution_count": 16,
   "metadata": {
    "vscode": {
     "languageId": "r"
    }
   },
   "outputs": [
    {
     "data": {
      "text/html": [
       "<pre class=language-r><code>function (family = NULL, face = NULL, colour = NULL, size = NULL, \n",
       "<span style=white-space:pre-wrap>    hjust = NULL, vjust = NULL, angle = NULL, lineheight = NULL, </span>\n",
       "<span style=white-space:pre-wrap>    color = NULL, margin = NULL, debug = NULL, inherit.blank = FALSE) </span>\n",
       "NULL</code></pre>"
      ],
      "text/latex": [
       "\\begin{minted}{r}\n",
       "function (family = NULL, face = NULL, colour = NULL, size = NULL, \n",
       "    hjust = NULL, vjust = NULL, angle = NULL, lineheight = NULL, \n",
       "    color = NULL, margin = NULL, debug = NULL, inherit.blank = FALSE) \n",
       "NULL\n",
       "\\end{minted}"
      ],
      "text/markdown": [
       "```r\n",
       "function (family = NULL, face = NULL, colour = NULL, size = NULL, \n",
       "    hjust = NULL, vjust = NULL, angle = NULL, lineheight = NULL, \n",
       "    color = NULL, margin = NULL, debug = NULL, inherit.blank = FALSE) \n",
       "NULL\n",
       "```"
      ],
      "text/plain": [
       "function (family = NULL, face = NULL, colour = NULL, size = NULL, \n",
       "    hjust = NULL, vjust = NULL, angle = NULL, lineheight = NULL, \n",
       "    color = NULL, margin = NULL, debug = NULL, inherit.blank = FALSE) \n",
       "NULL"
      ]
     },
     "metadata": {},
     "output_type": "display_data"
    }
   ],
   "source": [
    "args(element_text)"
   ]
  },
  {
   "cell_type": "code",
   "execution_count": 26,
   "metadata": {
    "vscode": {
     "languageId": "r"
    }
   },
   "outputs": [
    {
     "name": "stderr",
     "output_type": "stream",
     "text": [
      "\u001b[1m\u001b[22mScale for \u001b[32mfill\u001b[39m is already present.\n",
      "Adding another scale for \u001b[32mfill\u001b[39m, which will replace the existing scale.\n",
      "Warning message:\n",
      "“\u001b[1m\u001b[22mRemoved 17009 rows containing non-finite values (`stat_bin2d()`).”\n",
      "Warning message:\n",
      "“\u001b[1m\u001b[22mRemoved 31 rows containing missing values (`geom_tile()`).”\n",
      "\u001b[1m\u001b[22mScale for \u001b[32mfill\u001b[39m is already present.\n",
      "Adding another scale for \u001b[32mfill\u001b[39m, which will replace the existing scale.\n",
      "Warning message:\n",
      "“\u001b[1m\u001b[22mRemoved 2663 rows containing non-finite values (`stat_bin2d()`).”\n",
      "Warning message:\n",
      "“\u001b[1m\u001b[22mRemoved 5 rows containing missing values (`geom_tile()`).”\n",
      "\u001b[1m\u001b[22mScale for \u001b[32mfill\u001b[39m is already present.\n",
      "Adding another scale for \u001b[32mfill\u001b[39m, which will replace the existing scale.\n",
      "Warning message:\n",
      "“\u001b[1m\u001b[22mRemoved 11864 rows containing non-finite values (`stat_bin2d()`).”\n",
      "Warning message:\n",
      "“\u001b[1m\u001b[22mRemoved 13 rows containing missing values (`geom_tile()`).”\n"
     ]
    },
    {
     "data": {
      "text/html": [
       "<strong>png:</strong> 2"
      ],
      "text/latex": [
       "\\textbf{png:} 2"
      ],
      "text/markdown": [
       "**png:** 2"
      ],
      "text/plain": [
       "png \n",
       "  2 "
      ]
     },
     "metadata": {},
     "output_type": "display_data"
    }
   ],
   "source": [
    "library(egg)\n",
    "library(grid)\n",
    "pdf(\"illustrations/Histone-L2FC-Heatmap.pdf\", w=8.5, h=11)\n",
    "ggfull <- gg + facet_wrap(vars(mark), scales = \"free\")\n",
    "ggfull$data <- bind_rows(\n",
    "  setNames(data, c(\"H3K4me3\", \"H3K27me3\", \"H3K9me3\")),\n",
    "  .id = \"mark\"\n",
    ") %>%\n",
    "  mutate(mark = mark %>% factor(c(\"H3K4me3\", \"H3K27me3\", \"H3K9me3\"))) %>%\n",
    "  subset(\n",
    "    between(abs(GSC), 1e-6, 9.9) &\n",
    "      between(abs(CySC), 1e-6, 9.9)\n",
    "  )\n",
    "plot_region_gg <- function(n) {\n",
    "  gg <- ggfull\n",
    "  gg$data <- gg$data %>% subset(region == n)\n",
    "  correction_factor <- with(\n",
    "    gg$data,\n",
    "    1 / mean(between(GSC, -plot_limits, plot_limits) & between(CySC, -plot_limits, plot_limits))\n",
    "  )\n",
    "  gg <- gg +\n",
    "    scale_fill_viridis_c(\n",
    "      \"% of Chromatin\",\n",
    "      labels = \\(v) scales::percent(round(v * correction_factor, 2))\n",
    "    ) +\n",
    "    labs(\n",
    "      y = n\n",
    "    ) +\n",
    "    theme(\n",
    "      axis.title.y = element_text(angle = 0, vjust = 0.5, face = \"bold\")\n",
    "    )\n",
    "}\n",
    "grid.draw(\n",
    "  rbind(\n",
    "    plot_region_gg(\"2L\") %>%\n",
    "      set_panel_size(w = unit(1.5, \"in\"), h = unit(1.5, \"in\")),\n",
    "    plot_region_gg(\"2LC\") %>%\n",
    "      set_panel_size(w = unit(1.5, \"in\"), h = unit(1.5, \"in\")),\n",
    "    plot_region_gg(\"2RC\") %>%\n",
    "      set_panel_size(w = unit(1.5, \"in\"), h = unit(1.5, \"in\"))\n",
    "  )\n",
    ")\n",
    "dev.off()"
   ]
  },
  {
   "cell_type": "code",
   "execution_count": 56,
   "metadata": {
    "vscode": {
     "languageId": "r"
    }
   },
   "outputs": [
    {
     "data": {
      "text/plain": [
       "<ggproto object: Class AxisSecondary, gg>\n",
       "    axis: NULL\n",
       "    break_info: function\n",
       "    breaks: waiver\n",
       "    create_scale: function\n",
       "    detail: 1000\n",
       "    empty: function\n",
       "    guide: waiver\n",
       "    init: function\n",
       "    labels: waiver\n",
       "    make_title: function\n",
       "    mono_test: function\n",
       "    name: C\n",
       "    trans: function\n",
       "    transform_range: function\n",
       "    super:  <ggproto object: Class AxisSecondary, gg>"
      ]
     },
     "metadata": {},
     "output_type": "display_data"
    }
   ],
   "source": [
    "\n",
    "strip_plot_scale_y <- scale_y_continuous(\n",
    "    limits = c(-plot_limits, plot_limits), expand=c(0, 0),\n",
    "    minor_breaks = seq(-1.4, 1.4, by=0.2),\n",
    "    labels = format_nozero,\n",
    "    sec.axis = sec_axis(identity, \"C\")\n",
    "  )\n",
    "strip_plot_scale_y$secondary.axis"
   ]
  },
  {
   "cell_type": "code",
   "execution_count": 62,
   "metadata": {
    "vscode": {
     "languageId": "r"
    }
   },
   "outputs": [
    {
     "data": {
      "text/plain": [
       "<ggproto object: Class AxisSecondary, gg>\n",
       "    axis: NULL\n",
       "    break_info: function\n",
       "    breaks: waiver\n",
       "    create_scale: function\n",
       "    detail: 1000\n",
       "    empty: function\n",
       "    guide: waiver\n",
       "    init: function\n",
       "    labels: waiver\n",
       "    make_title: function\n",
       "    mono_test: function\n",
       "    name: C\n",
       "    trans: function\n",
       "    transform_range: function\n",
       "    super:  <ggproto object: Class AxisSecondary, gg>"
      ]
     },
     "metadata": {},
     "output_type": "display_data"
    }
   ],
   "source": [
    "sec_axis(identity, \"C\")"
   ]
  },
  {
   "cell_type": "code",
   "execution_count": 59,
   "metadata": {
    "vscode": {
     "languageId": "r"
    }
   },
   "outputs": [
    {
     "data": {
      "text/plain": [
       "list()\n",
       "attr(,\"class\")\n",
       "[1] \"waiver\""
      ]
     },
     "metadata": {},
     "output_type": "display_data"
    }
   ],
   "source": [
    "scale_y_continuous(\n",
    "    limits = c(-plot_limits, plot_limits), expand=c(0, 0),\n",
    "    minor_breaks = seq(-1.4, 1.4, by=0.2),\n",
    "    labels = format_nozero,\n",
    "  )$secondary.axis"
   ]
  },
  {
   "cell_type": "code",
   "execution_count": 21,
   "metadata": {
    "vscode": {
     "languageId": "r"
    }
   },
   "outputs": [
    {
     "name": "stderr",
     "output_type": "stream",
     "text": [
      "\u001b[1m\u001b[22mScale for \u001b[32mfill\u001b[39m is already present.\n",
      "Adding another scale for \u001b[32mfill\u001b[39m, which will replace the existing scale.\n",
      "\u001b[1m\u001b[22mScale for \u001b[32mx\u001b[39m is already present.\n",
      "Adding another scale for \u001b[32mx\u001b[39m, which will replace the existing scale.\n",
      "\u001b[1m\u001b[22mScale for \u001b[32my\u001b[39m is already present.\n",
      "Adding another scale for \u001b[32my\u001b[39m, which will replace the existing scale.\n",
      "Warning message:\n",
      "“\u001b[1m\u001b[22mRemoved 7785 rows containing non-finite values (`stat_bin2d()`).”\n",
      "Warning message:\n",
      "“\u001b[1m\u001b[22mRemoved 16 rows containing missing values (`geom_tile()`).”\n",
      "\u001b[1m\u001b[22mScale for \u001b[32mfill\u001b[39m is already present.\n",
      "Adding another scale for \u001b[32mfill\u001b[39m, which will replace the existing scale.\n",
      "\u001b[1m\u001b[22mScale for \u001b[32mx\u001b[39m is already present.\n",
      "Adding another scale for \u001b[32mx\u001b[39m, which will replace the existing scale.\n",
      "\u001b[1m\u001b[22mScale for \u001b[32my\u001b[39m is already present.\n",
      "Adding another scale for \u001b[32my\u001b[39m, which will replace the existing scale.\n",
      "Warning message:\n",
      "“\u001b[1m\u001b[22mRemoved 8614 rows containing non-finite values (`stat_bin2d()`).”\n",
      "Warning message:\n",
      "“\u001b[1m\u001b[22mRemoved 12 rows containing missing values (`geom_tile()`).”\n",
      "\u001b[1m\u001b[22mScale for \u001b[32mfill\u001b[39m is already present.\n",
      "Adding another scale for \u001b[32mfill\u001b[39m, which will replace the existing scale.\n",
      "\u001b[1m\u001b[22mScale for \u001b[32mx\u001b[39m is already present.\n",
      "Adding another scale for \u001b[32mx\u001b[39m, which will replace the existing scale.\n",
      "\u001b[1m\u001b[22mScale for \u001b[32my\u001b[39m is already present.\n",
      "Adding another scale for \u001b[32my\u001b[39m, which will replace the existing scale.\n",
      "Warning message:\n",
      "“\u001b[1m\u001b[22mRemoved 610 rows containing non-finite values (`stat_bin2d()`).”\n",
      "Warning message:\n",
      "“\u001b[1m\u001b[22mRemoved 3 rows containing missing values (`geom_tile()`).”\n",
      "\u001b[1m\u001b[22mScale for \u001b[32mfill\u001b[39m is already present.\n",
      "Adding another scale for \u001b[32mfill\u001b[39m, which will replace the existing scale.\n",
      "\u001b[1m\u001b[22mScale for \u001b[32mx\u001b[39m is already present.\n",
      "Adding another scale for \u001b[32mx\u001b[39m, which will replace the existing scale.\n",
      "\u001b[1m\u001b[22mScale for \u001b[32my\u001b[39m is already present.\n",
      "Adding another scale for \u001b[32my\u001b[39m, which will replace the existing scale.\n",
      "Warning message:\n",
      "“\u001b[1m\u001b[22mRemoved 1166 rows containing non-finite values (`stat_bin2d()`).”\n",
      "Warning message:\n",
      "“\u001b[1m\u001b[22mRemoved 4 rows containing missing values (`geom_tile()`).”\n",
      "\u001b[1m\u001b[22mScale for \u001b[32mfill\u001b[39m is already present.\n",
      "Adding another scale for \u001b[32mfill\u001b[39m, which will replace the existing scale.\n",
      "\u001b[1m\u001b[22mScale for \u001b[32mx\u001b[39m is already present.\n",
      "Adding another scale for \u001b[32mx\u001b[39m, which will replace the existing scale.\n",
      "\u001b[1m\u001b[22mScale for \u001b[32my\u001b[39m is already present.\n",
      "Adding another scale for \u001b[32my\u001b[39m, which will replace the existing scale.\n",
      "Warning message:\n",
      "“\u001b[1m\u001b[22mRemoved 1211 rows containing non-finite values (`stat_bin2d()`).”\n",
      "Warning message:\n",
      "“\u001b[1m\u001b[22mRemoved 1 rows containing missing values (`geom_tile()`).”\n",
      "\u001b[1m\u001b[22mScale for \u001b[32mfill\u001b[39m is already present.\n",
      "Adding another scale for \u001b[32mfill\u001b[39m, which will replace the existing scale.\n",
      "\u001b[1m\u001b[22mScale for \u001b[32mx\u001b[39m is already present.\n",
      "Adding another scale for \u001b[32mx\u001b[39m, which will replace the existing scale.\n",
      "\u001b[1m\u001b[22mScale for \u001b[32my\u001b[39m is already present.\n",
      "Adding another scale for \u001b[32my\u001b[39m, which will replace the existing scale.\n",
      "Warning message:\n",
      "“\u001b[1m\u001b[22mRemoved 286 rows containing non-finite values (`stat_bin2d()`).”\n",
      "\u001b[1m\u001b[22mScale for \u001b[32mfill\u001b[39m is already present.\n",
      "Adding another scale for \u001b[32mfill\u001b[39m, which will replace the existing scale.\n",
      "\u001b[1m\u001b[22mScale for \u001b[32mx\u001b[39m is already present.\n",
      "Adding another scale for \u001b[32mx\u001b[39m, which will replace the existing scale.\n",
      "\u001b[1m\u001b[22mScale for \u001b[32my\u001b[39m is already present.\n",
      "Adding another scale for \u001b[32my\u001b[39m, which will replace the existing scale.\n",
      "Warning message:\n",
      "“\u001b[1m\u001b[22mRemoved 4756 rows containing non-finite values (`stat_bin2d()`).”\n",
      "Warning message:\n",
      "“\u001b[1m\u001b[22mRemoved 5 rows containing missing values (`geom_tile()`).”\n",
      "\u001b[1m\u001b[22mScale for \u001b[32mfill\u001b[39m is already present.\n",
      "Adding another scale for \u001b[32mfill\u001b[39m, which will replace the existing scale.\n",
      "\u001b[1m\u001b[22mScale for \u001b[32mx\u001b[39m is already present.\n",
      "Adding another scale for \u001b[32mx\u001b[39m, which will replace the existing scale.\n",
      "\u001b[1m\u001b[22mScale for \u001b[32my\u001b[39m is already present.\n",
      "Adding another scale for \u001b[32my\u001b[39m, which will replace the existing scale.\n",
      "Warning message:\n",
      "“\u001b[1m\u001b[22mRemoved 5449 rows containing non-finite values (`stat_bin2d()`).”\n",
      "Warning message:\n",
      "“\u001b[1m\u001b[22mRemoved 5 rows containing missing values (`geom_tile()`).”\n",
      "\u001b[1m\u001b[22mScale for \u001b[32mfill\u001b[39m is already present.\n",
      "Adding another scale for \u001b[32mfill\u001b[39m, which will replace the existing scale.\n",
      "\u001b[1m\u001b[22mScale for \u001b[32mx\u001b[39m is already present.\n",
      "Adding another scale for \u001b[32mx\u001b[39m, which will replace the existing scale.\n",
      "\u001b[1m\u001b[22mScale for \u001b[32my\u001b[39m is already present.\n",
      "Adding another scale for \u001b[32my\u001b[39m, which will replace the existing scale.\n",
      "Warning message:\n",
      "“\u001b[1m\u001b[22mRemoved 1659 rows containing non-finite values (`stat_bin2d()`).”\n",
      "Warning message:\n",
      "“\u001b[1m\u001b[22mRemoved 3 rows containing missing values (`geom_tile()`).”\n",
      "\u001b[1m\u001b[22mScale for \u001b[32mfill\u001b[39m is already present.\n",
      "Adding another scale for \u001b[32mfill\u001b[39m, which will replace the existing scale.\n",
      "\u001b[1m\u001b[22mScale for \u001b[32mx\u001b[39m is already present.\n",
      "Adding another scale for \u001b[32mx\u001b[39m, which will replace the existing scale.\n",
      "\u001b[1m\u001b[22mScale for \u001b[32my\u001b[39m is already present.\n",
      "Adding another scale for \u001b[32my\u001b[39m, which will replace the existing scale.\n",
      "Warning message:\n",
      "“\u001b[1m\u001b[22mRemoved 8449 rows containing non-finite values (`stat_bin2d()`).”\n",
      "Warning message:\n",
      "“\u001b[1m\u001b[22mRemoved 12 rows containing missing values (`geom_tile()`).”\n",
      "\u001b[1m\u001b[22mScale for \u001b[32mfill\u001b[39m is already present.\n",
      "Adding another scale for \u001b[32mfill\u001b[39m, which will replace the existing scale.\n",
      "\u001b[1m\u001b[22mScale for \u001b[32mx\u001b[39m is already present.\n",
      "Adding another scale for \u001b[32mx\u001b[39m, which will replace the existing scale.\n",
      "\u001b[1m\u001b[22mScale for \u001b[32my\u001b[39m is already present.\n",
      "Adding another scale for \u001b[32my\u001b[39m, which will replace the existing scale.\n",
      "Warning message:\n",
      "“\u001b[1m\u001b[22mRemoved 7267 rows containing non-finite values (`stat_bin2d()`).”\n",
      "Warning message:\n",
      "“\u001b[1m\u001b[22mRemoved 12 rows containing missing values (`geom_tile()`).”\n",
      "\u001b[1m\u001b[22mScale for \u001b[32mfill\u001b[39m is already present.\n",
      "Adding another scale for \u001b[32mfill\u001b[39m, which will replace the existing scale.\n",
      "\u001b[1m\u001b[22mScale for \u001b[32mx\u001b[39m is already present.\n",
      "Adding another scale for \u001b[32mx\u001b[39m, which will replace the existing scale.\n",
      "\u001b[1m\u001b[22mScale for \u001b[32my\u001b[39m is already present.\n",
      "Adding another scale for \u001b[32my\u001b[39m, which will replace the existing scale.\n",
      "Warning message:\n",
      "“\u001b[1m\u001b[22mRemoved 717 rows containing non-finite values (`stat_bin2d()`).”\n",
      "Warning message:\n",
      "“\u001b[1m\u001b[22mRemoved 2 rows containing missing values (`geom_tile()`).”\n",
      "\u001b[1m\u001b[22mScale for \u001b[32mfill\u001b[39m is already present.\n",
      "Adding another scale for \u001b[32mfill\u001b[39m, which will replace the existing scale.\n",
      "\u001b[1m\u001b[22mScale for \u001b[32mx\u001b[39m is already present.\n",
      "Adding another scale for \u001b[32mx\u001b[39m, which will replace the existing scale.\n",
      "\u001b[1m\u001b[22mScale for \u001b[32my\u001b[39m is already present.\n",
      "Adding another scale for \u001b[32my\u001b[39m, which will replace the existing scale.\n",
      "Warning message:\n",
      "“\u001b[1m\u001b[22mRemoved 8855 rows containing non-finite values (`stat_bin2d()`).”\n",
      "Warning message:\n",
      "“\u001b[1m\u001b[22mRemoved 19 rows containing missing values (`geom_tile()`).”\n",
      "\u001b[1m\u001b[22mScale for \u001b[32mfill\u001b[39m is already present.\n",
      "Adding another scale for \u001b[32mfill\u001b[39m, which will replace the existing scale.\n",
      "\u001b[1m\u001b[22mScale for \u001b[32mx\u001b[39m is already present.\n",
      "Adding another scale for \u001b[32mx\u001b[39m, which will replace the existing scale.\n",
      "\u001b[1m\u001b[22mScale for \u001b[32my\u001b[39m is already present.\n",
      "Adding another scale for \u001b[32my\u001b[39m, which will replace the existing scale.\n",
      "Warning message:\n",
      "“\u001b[1m\u001b[22mRemoved 9654 rows containing non-finite values (`stat_bin2d()`).”\n",
      "Warning message:\n",
      "“\u001b[1m\u001b[22mRemoved 13 rows containing missing values (`geom_tile()`).”\n",
      "\u001b[1m\u001b[22mScale for \u001b[32mfill\u001b[39m is already present.\n",
      "Adding another scale for \u001b[32mfill\u001b[39m, which will replace the existing scale.\n",
      "\u001b[1m\u001b[22mScale for \u001b[32mx\u001b[39m is already present.\n",
      "Adding another scale for \u001b[32mx\u001b[39m, which will replace the existing scale.\n",
      "\u001b[1m\u001b[22mScale for \u001b[32my\u001b[39m is already present.\n",
      "Adding another scale for \u001b[32my\u001b[39m, which will replace the existing scale.\n",
      "Warning message:\n",
      "“\u001b[1m\u001b[22mRemoved 743 rows containing non-finite values (`stat_bin2d()`).”\n",
      "Warning message:\n",
      "“\u001b[1m\u001b[22mRemoved 4 rows containing missing values (`geom_tile()`).”\n",
      "\u001b[1m\u001b[22mScale for \u001b[32mfill\u001b[39m is already present.\n",
      "Adding another scale for \u001b[32mfill\u001b[39m, which will replace the existing scale.\n",
      "\u001b[1m\u001b[22mScale for \u001b[32mx\u001b[39m is already present.\n",
      "Adding another scale for \u001b[32mx\u001b[39m, which will replace the existing scale.\n",
      "\u001b[1m\u001b[22mScale for \u001b[32my\u001b[39m is already present.\n",
      "Adding another scale for \u001b[32my\u001b[39m, which will replace the existing scale.\n",
      "Warning message:\n",
      "“\u001b[1m\u001b[22mRemoved 4846 rows containing non-finite values (`stat_bin2d()`).”\n",
      "Warning message:\n",
      "“\u001b[1m\u001b[22mRemoved 5 rows containing missing values (`geom_tile()`).”\n",
      "\u001b[1m\u001b[22mScale for \u001b[32mfill\u001b[39m is already present.\n",
      "Adding another scale for \u001b[32mfill\u001b[39m, which will replace the existing scale.\n",
      "\u001b[1m\u001b[22mScale for \u001b[32mx\u001b[39m is already present.\n",
      "Adding another scale for \u001b[32mx\u001b[39m, which will replace the existing scale.\n",
      "\u001b[1m\u001b[22mScale for \u001b[32my\u001b[39m is already present.\n",
      "Adding another scale for \u001b[32my\u001b[39m, which will replace the existing scale.\n",
      "Warning message:\n",
      "“\u001b[1m\u001b[22mRemoved 5870 rows containing non-finite values (`stat_bin2d()`).”\n",
      "Warning message:\n",
      "“\u001b[1m\u001b[22mRemoved 5 rows containing missing values (`geom_tile()`).”\n",
      "\u001b[1m\u001b[22mScale for \u001b[32mfill\u001b[39m is already present.\n",
      "Adding another scale for \u001b[32mfill\u001b[39m, which will replace the existing scale.\n",
      "\u001b[1m\u001b[22mScale for \u001b[32mx\u001b[39m is already present.\n",
      "Adding another scale for \u001b[32mx\u001b[39m, which will replace the existing scale.\n",
      "\u001b[1m\u001b[22mScale for \u001b[32my\u001b[39m is already present.\n",
      "Adding another scale for \u001b[32my\u001b[39m, which will replace the existing scale.\n",
      "Warning message:\n",
      "“\u001b[1m\u001b[22mRemoved 1583 rows containing non-finite values (`stat_bin2d()`).”\n",
      "Warning message:\n",
      "“\u001b[1m\u001b[22mRemoved 2 rows containing missing values (`geom_tile()`).”\n",
      "\u001b[1m\u001b[22mScale for \u001b[32mfill\u001b[39m is already present.\n",
      "Adding another scale for \u001b[32mfill\u001b[39m, which will replace the existing scale.\n",
      "\u001b[1m\u001b[22mScale for \u001b[32mx\u001b[39m is already present.\n",
      "Adding another scale for \u001b[32mx\u001b[39m, which will replace the existing scale.\n",
      "\u001b[1m\u001b[22mScale for \u001b[32my\u001b[39m is already present.\n",
      "Adding another scale for \u001b[32my\u001b[39m, which will replace the existing scale.\n",
      "Warning message:\n",
      "“\u001b[1m\u001b[22mRemoved 4699 rows containing non-finite values (`stat_bin2d()`).”\n",
      "Warning message:\n",
      "“\u001b[1m\u001b[22mRemoved 7 rows containing missing values (`geom_tile()`).”\n",
      "\u001b[1m\u001b[22mScale for \u001b[32mfill\u001b[39m is already present.\n",
      "Adding another scale for \u001b[32mfill\u001b[39m, which will replace the existing scale.\n",
      "\u001b[1m\u001b[22mScale for \u001b[32mx\u001b[39m is already present.\n",
      "Adding another scale for \u001b[32mx\u001b[39m, which will replace the existing scale.\n",
      "\u001b[1m\u001b[22mScale for \u001b[32my\u001b[39m is already present.\n",
      "Adding another scale for \u001b[32my\u001b[39m, which will replace the existing scale.\n",
      "Warning message:\n",
      "“\u001b[1m\u001b[22mRemoved 4824 rows containing non-finite values (`stat_bin2d()`).”\n",
      "Warning message:\n",
      "“\u001b[1m\u001b[22mRemoved 6 rows containing missing values (`geom_tile()`).”\n",
      "\u001b[1m\u001b[22mScale for \u001b[32mfill\u001b[39m is already present.\n",
      "Adding another scale for \u001b[32mfill\u001b[39m, which will replace the existing scale.\n",
      "\u001b[1m\u001b[22mScale for \u001b[32mx\u001b[39m is already present.\n",
      "Adding another scale for \u001b[32mx\u001b[39m, which will replace the existing scale.\n",
      "\u001b[1m\u001b[22mScale for \u001b[32my\u001b[39m is already present.\n",
      "Adding another scale for \u001b[32my\u001b[39m, which will replace the existing scale.\n",
      "Warning message:\n",
      "“\u001b[1m\u001b[22mRemoved 1874 rows containing non-finite values (`stat_bin2d()`).”\n",
      "Warning message:\n",
      "“\u001b[1m\u001b[22mRemoved 2 rows containing missing values (`geom_tile()`).”\n",
      "\u001b[1m\u001b[22mScale for \u001b[32mfill\u001b[39m is already present.\n",
      "Adding another scale for \u001b[32mfill\u001b[39m, which will replace the existing scale.\n",
      "\u001b[1m\u001b[22mScale for \u001b[32mx\u001b[39m is already present.\n",
      "Adding another scale for \u001b[32mx\u001b[39m, which will replace the existing scale.\n",
      "\u001b[1m\u001b[22mScale for \u001b[32my\u001b[39m is already present.\n",
      "Adding another scale for \u001b[32my\u001b[39m, which will replace the existing scale.\n",
      "Warning message:\n",
      "“\u001b[1m\u001b[22mRemoved 10237 rows containing non-finite values (`stat_bin2d()`).”\n",
      "Warning message:\n",
      "“\u001b[1m\u001b[22mRemoved 17 rows containing missing values (`geom_tile()`).”\n",
      "\u001b[1m\u001b[22mScale for \u001b[32mfill\u001b[39m is already present.\n",
      "Adding another scale for \u001b[32mfill\u001b[39m, which will replace the existing scale.\n",
      "\u001b[1m\u001b[22mScale for \u001b[32mx\u001b[39m is already present.\n",
      "Adding another scale for \u001b[32mx\u001b[39m, which will replace the existing scale.\n",
      "\u001b[1m\u001b[22mScale for \u001b[32my\u001b[39m is already present.\n",
      "Adding another scale for \u001b[32my\u001b[39m, which will replace the existing scale.\n",
      "Warning message:\n",
      "“\u001b[1m\u001b[22mRemoved 9376 rows containing non-finite values (`stat_bin2d()`).”\n",
      "Warning message:\n",
      "“\u001b[1m\u001b[22mRemoved 13 rows containing missing values (`geom_tile()`).”\n",
      "\u001b[1m\u001b[22mScale for \u001b[32mfill\u001b[39m is already present.\n",
      "Adding another scale for \u001b[32mfill\u001b[39m, which will replace the existing scale.\n",
      "\u001b[1m\u001b[22mScale for \u001b[32mx\u001b[39m is already present.\n",
      "Adding another scale for \u001b[32mx\u001b[39m, which will replace the existing scale.\n",
      "\u001b[1m\u001b[22mScale for \u001b[32my\u001b[39m is already present.\n",
      "Adding another scale for \u001b[32my\u001b[39m, which will replace the existing scale.\n",
      "Warning message:\n",
      "“\u001b[1m\u001b[22mRemoved 656 rows containing non-finite values (`stat_bin2d()`).”\n",
      "Warning message:\n",
      "“\u001b[1m\u001b[22mRemoved 1 rows containing missing values (`geom_tile()`).”\n",
      "\u001b[1m\u001b[22mScale for \u001b[32mfill\u001b[39m is already present.\n",
      "Adding another scale for \u001b[32mfill\u001b[39m, which will replace the existing scale.\n",
      "\u001b[1m\u001b[22mScale for \u001b[32mx\u001b[39m is already present.\n",
      "Adding another scale for \u001b[32mx\u001b[39m, which will replace the existing scale.\n",
      "\u001b[1m\u001b[22mScale for \u001b[32my\u001b[39m is already present.\n",
      "Adding another scale for \u001b[32my\u001b[39m, which will replace the existing scale.\n",
      "Warning message:\n",
      "“\u001b[1m\u001b[22mRemoved 995 rows containing non-finite values (`stat_bin2d()`).”\n",
      "Warning message:\n",
      "“\u001b[1m\u001b[22mRemoved 1 rows containing missing values (`geom_tile()`).”\n",
      "\u001b[1m\u001b[22mScale for \u001b[32mfill\u001b[39m is already present.\n",
      "Adding another scale for \u001b[32mfill\u001b[39m, which will replace the existing scale.\n",
      "\u001b[1m\u001b[22mScale for \u001b[32mx\u001b[39m is already present.\n",
      "Adding another scale for \u001b[32mx\u001b[39m, which will replace the existing scale.\n",
      "\u001b[1m\u001b[22mScale for \u001b[32my\u001b[39m is already present.\n",
      "Adding another scale for \u001b[32my\u001b[39m, which will replace the existing scale.\n",
      "Warning message:\n",
      "“\u001b[1m\u001b[22mRemoved 3124 rows containing non-finite values (`stat_bin2d()`).”\n",
      "Warning message:\n",
      "“\u001b[1m\u001b[22mRemoved 2 rows containing missing values (`geom_tile()`).”\n",
      "\u001b[1m\u001b[22mScale for \u001b[32mfill\u001b[39m is already present.\n",
      "Adding another scale for \u001b[32mfill\u001b[39m, which will replace the existing scale.\n",
      "\u001b[1m\u001b[22mScale for \u001b[32mx\u001b[39m is already present.\n",
      "Adding another scale for \u001b[32mx\u001b[39m, which will replace the existing scale.\n",
      "\u001b[1m\u001b[22mScale for \u001b[32my\u001b[39m is already present.\n",
      "Adding another scale for \u001b[32my\u001b[39m, which will replace the existing scale.\n",
      "Warning message:\n",
      "“\u001b[1m\u001b[22mRemoved 110 rows containing non-finite values (`stat_bin2d()`).”\n",
      "Warning message:\n",
      "“\u001b[1m\u001b[22mRemoved 1 rows containing missing values (`geom_tile()`).”\n",
      "\u001b[1m\u001b[22mScale for \u001b[32mfill\u001b[39m is already present.\n",
      "Adding another scale for \u001b[32mfill\u001b[39m, which will replace the existing scale.\n",
      "\u001b[1m\u001b[22mScale for \u001b[32mx\u001b[39m is already present.\n",
      "Adding another scale for \u001b[32mx\u001b[39m, which will replace the existing scale.\n",
      "\u001b[1m\u001b[22mScale for \u001b[32my\u001b[39m is already present.\n",
      "Adding another scale for \u001b[32my\u001b[39m, which will replace the existing scale.\n",
      "Warning message:\n",
      "“\u001b[1m\u001b[22mRemoved 22464 rows containing non-finite values (`stat_bin2d()`).”\n",
      "Warning message:\n",
      "“\u001b[1m\u001b[22mRemoved 28 rows containing missing values (`geom_tile()`).”\n",
      "\u001b[1m\u001b[22mScale for \u001b[32mfill\u001b[39m is already present.\n",
      "Adding another scale for \u001b[32mfill\u001b[39m, which will replace the existing scale.\n",
      "\u001b[1m\u001b[22mScale for \u001b[32mx\u001b[39m is already present.\n",
      "Adding another scale for \u001b[32mx\u001b[39m, which will replace the existing scale.\n",
      "\u001b[1m\u001b[22mScale for \u001b[32my\u001b[39m is already present.\n",
      "Adding another scale for \u001b[32my\u001b[39m, which will replace the existing scale.\n",
      "Warning message:\n",
      "“\u001b[1m\u001b[22mRemoved 21816 rows containing non-finite values (`stat_bin2d()`).”\n",
      "Warning message:\n",
      "“\u001b[1m\u001b[22mRemoved 21 rows containing missing values (`geom_tile()`).”\n",
      "\u001b[1m\u001b[22mScale for \u001b[32mfill\u001b[39m is already present.\n",
      "Adding another scale for \u001b[32mfill\u001b[39m, which will replace the existing scale.\n",
      "\u001b[1m\u001b[22mScale for \u001b[32mx\u001b[39m is already present.\n",
      "Adding another scale for \u001b[32mx\u001b[39m, which will replace the existing scale.\n",
      "\u001b[1m\u001b[22mScale for \u001b[32my\u001b[39m is already present.\n",
      "Adding another scale for \u001b[32my\u001b[39m, which will replace the existing scale.\n",
      "Warning message:\n",
      "“\u001b[1m\u001b[22mRemoved 2948 rows containing non-finite values (`stat_bin2d()`).”\n",
      "Warning message:\n",
      "“\u001b[1m\u001b[22mRemoved 7 rows containing missing values (`geom_tile()`).”\n",
      "\u001b[1m\u001b[22mScale for \u001b[32mfill\u001b[39m is already present.\n",
      "Adding another scale for \u001b[32mfill\u001b[39m, which will replace the existing scale.\n",
      "\u001b[1m\u001b[22mScale for \u001b[32mx\u001b[39m is already present.\n",
      "Adding another scale for \u001b[32mx\u001b[39m, which will replace the existing scale.\n",
      "\u001b[1m\u001b[22mScale for \u001b[32my\u001b[39m is already present.\n",
      "Adding another scale for \u001b[32my\u001b[39m, which will replace the existing scale.\n",
      "Warning message:\n",
      "“\u001b[1m\u001b[22mRemoved 3917 rows containing non-finite values (`stat_bin2d()`).”\n",
      "Warning message:\n",
      "“\u001b[1m\u001b[22mRemoved 3 rows containing missing values (`geom_tile()`).”\n",
      "\u001b[1m\u001b[22mScale for \u001b[32mfill\u001b[39m is already present.\n",
      "Adding another scale for \u001b[32mfill\u001b[39m, which will replace the existing scale.\n",
      "\u001b[1m\u001b[22mScale for \u001b[32mx\u001b[39m is already present.\n",
      "Adding another scale for \u001b[32mx\u001b[39m, which will replace the existing scale.\n",
      "\u001b[1m\u001b[22mScale for \u001b[32my\u001b[39m is already present.\n",
      "Adding another scale for \u001b[32my\u001b[39m, which will replace the existing scale.\n",
      "Warning message:\n",
      "“\u001b[1m\u001b[22mRemoved 4358 rows containing non-finite values (`stat_bin2d()`).”\n",
      "Warning message:\n",
      "“\u001b[1m\u001b[22mRemoved 2 rows containing missing values (`geom_tile()`).”\n",
      "\u001b[1m\u001b[22mScale for \u001b[32mfill\u001b[39m is already present.\n",
      "Adding another scale for \u001b[32mfill\u001b[39m, which will replace the existing scale.\n",
      "\u001b[1m\u001b[22mScale for \u001b[32mx\u001b[39m is already present.\n",
      "Adding another scale for \u001b[32mx\u001b[39m, which will replace the existing scale.\n",
      "\u001b[1m\u001b[22mScale for \u001b[32my\u001b[39m is already present.\n",
      "Adding another scale for \u001b[32my\u001b[39m, which will replace the existing scale.\n",
      "Warning message:\n",
      "“\u001b[1m\u001b[22mRemoved 2244 rows containing non-finite values (`stat_bin2d()`).”\n",
      "Warning message:\n",
      "“\u001b[1m\u001b[22mRemoved 4 rows containing missing values (`geom_tile()`).”\n"
     ]
    },
    {
     "data": {
      "text/html": [
       "<strong>png:</strong> 2"
      ],
      "text/latex": [
       "\\textbf{png:} 2"
      ],
      "text/markdown": [
       "**png:** 2"
      ],
      "text/plain": [
       "png \n",
       "  2 "
      ]
     },
     "metadata": {},
     "output_type": "display_data"
    }
   ],
   "source": [
    "library(Cairo)\n",
    "library(egg)\n",
    "library(grid)\n",
    "CairoPDF(\"illustrations/Histone-L2FC-Heatmap.pdf\", w=8.5, h=17)\n",
    "format_nozero <- \\(v) v %>% str_replace(\"0\", \"\") %>% replace(. == \"\", \"0\")\n",
    "ggfull <- gg +\n",
    "  facet_wrap(vars(mark), scales = \"free\") +\n",
    "  theme(\n",
    "    strip.text = element_text(size = unit(10, \"pt\"), margin = margin(2, 2, 2, 2)),,\n",
    "    plot.margin = margin(2, 2, 2, 2),\n",
    "  )\n",
    "ggfull$data <- bind_rows(\n",
    "  setNames(data, c(\"H3K4me3\", \"H3K27me3\", \"H3K9me3\")),\n",
    "  .id = \"mark\"\n",
    ") %>%\n",
    "  mutate(mark = mark %>% factor(c(\"H3K4me3\", \"H3K27me3\", \"H3K9me3\"))) %>%\n",
    "  subset(\n",
    "    between(abs(GSC), 1e-6, 9.9) &\n",
    "      between(abs(CySC), 1e-6, 9.9)\n",
    "  )\n",
    "plot_region_gg <- function(n, m, title = F, legend = F) {\n",
    "  gg <- ggfull\n",
    "  gg$data <- gg$data %>% subset(region == n & mark == m)\n",
    "  correction_factor <- with(\n",
    "    gg$data,\n",
    "    1 / mean(between(GSC, -plot_limits, plot_limits) & between(CySC, -plot_limits, plot_limits))\n",
    "  )\n",
    "  gg <- gg +\n",
    "    scale_fill_viridis_c(\n",
    "      \"Density (Mode Normalized)\",\n",
    "      breaks = \\(limits) seq(min(limits), max(limits), length.out = 3),\n",
    "      labels = if (legend != \"hide\") c(\"0%\", \"50%\", \"100%\") else rep(\"\", 3),\n",
    "    ) +\n",
    "    scale_x_continuous(\n",
    "      limits = c(-plot_limits, plot_limits), expand=c(0, 0),\n",
    "      minor_breaks = seq(-1.4, 1.4, by=0.2),\n",
    "      labels = format_nozero,\n",
    "    ) +\n",
    "    (\n",
    "      if (!isFALSE(legend)) scale_y_continuous(\n",
    "        limits = c(-plot_limits, plot_limits), expand=c(0, 0),\n",
    "        minor_breaks = seq(-1.4, 1.4, by=0.2),\n",
    "        labels = format_nozero,\n",
    "        sec.axis = sec_axis(identity, \"CySC L2FC\", breaks=NULL),\n",
    "      )\n",
    "      else scale_y_continuous(\n",
    "        limits = c(-plot_limits, plot_limits), expand=c(0, 0),\n",
    "        minor_breaks = seq(-1.4, 1.4, by=0.2),\n",
    "        labels = format_nozero,\n",
    "      )\n",
    "    ) +\n",
    "    labs(\n",
    "      y = n\n",
    "    ) +\n",
    "    (\n",
    "      if (legend == \"hide\") guides(\n",
    "        fill = guide_colorbar(\n",
    "          \"\",\n",
    "          barheight = 0,\n",
    "          barwidth = 0\n",
    "        )\n",
    "      )\n",
    "      else guides()\n",
    "    ) +\n",
    "    theme(\n",
    "      axis.title.y.left = if (title)\n",
    "        element_text(angle = 0, vjust = 0.5, face = \"bold\")\n",
    "      else element_blank(),\n",
    "      legend.position = if (!isFALSE(legend))\n",
    "        \"right\"\n",
    "      else \"none\",\n",
    "    )\n",
    "}\n",
    "panel_size <- unit(1, \"in\")\n",
    "grid.draw(\n",
    "  rbind(\n",
    "    cbind(\n",
    "      plot_region_gg(\"2L\", \"H3K4me3\", title=T) %>% set_panel_size(w = panel_size, h = panel_size),\n",
    "      plot_region_gg(\"2L\", \"H3K27me3\") %>% set_panel_size(w = panel_size, h = panel_size),\n",
    "      plot_region_gg(\"2L\", \"H3K9me3\", legend=\"hide\") %>% set_panel_size(w = panel_size, h = panel_size)\n",
    "    ),\n",
    "    cbind(\n",
    "      plot_region_gg(\"2LC\", \"H3K4me3\", title=T) %>% set_panel_size(w = panel_size, h = panel_size),\n",
    "      plot_region_gg(\"2LC\", \"H3K27me3\") %>% set_panel_size(w = panel_size, h = panel_size),\n",
    "      plot_region_gg(\"2LC\", \"H3K9me3\", legend=\"hide\") %>% set_panel_size(w = panel_size, h = panel_size)\n",
    "    ),\n",
    "    cbind(\n",
    "      plot_region_gg(\"2RC\", \"H3K4me3\", title=T) %>% set_panel_size(w = panel_size, h = panel_size),\n",
    "      plot_region_gg(\"2RC\", \"H3K27me3\") %>% set_panel_size(w = panel_size, h = panel_size),\n",
    "      plot_region_gg(\"2RC\", \"H3K9me3\", legend=\"hide\") %>% set_panel_size(w = panel_size, h = panel_size)\n",
    "    ),\n",
    "    cbind(\n",
    "      plot_region_gg(\"2R\", \"H3K4me3\", title=T) %>% set_panel_size(w = panel_size, h = panel_size),\n",
    "      plot_region_gg(\"2R\", \"H3K27me3\") %>% set_panel_size(w = panel_size, h = panel_size),\n",
    "      plot_region_gg(\"2R\", \"H3K9me3\", legend=\"hide\") %>% set_panel_size(w = panel_size, h = panel_size)\n",
    "    ),\n",
    "    cbind(\n",
    "      plot_region_gg(\"3L\", \"H3K4me3\", title=T) %>% set_panel_size(w = panel_size, h = panel_size),\n",
    "      plot_region_gg(\"3L\", \"H3K27me3\") %>% set_panel_size(w = panel_size, h = panel_size),\n",
    "      plot_region_gg(\"3L\", \"H3K9me3\", legend=\"hide\") %>% set_panel_size(w = panel_size, h = panel_size)\n",
    "    ),\n",
    "    cbind(\n",
    "      plot_region_gg(\"3LC\", \"H3K4me3\", title=T) %>% set_panel_size(w = panel_size, h = panel_size),\n",
    "      plot_region_gg(\"3LC\", \"H3K27me3\") %>% set_panel_size(w = panel_size, h = panel_size),\n",
    "      plot_region_gg(\"3LC\", \"H3K9me3\", legend=T) %>% set_panel_size(w = panel_size, h = panel_size)\n",
    "    ),\n",
    "    cbind(\n",
    "      plot_region_gg(\"3RC\", \"H3K4me3\", title=T) %>% set_panel_size(w = panel_size, h = panel_size),\n",
    "      plot_region_gg(\"3RC\", \"H3K27me3\") %>% set_panel_size(w = panel_size, h = panel_size),\n",
    "      plot_region_gg(\"3RC\", \"H3K9me3\", legend=\"hide\") %>% set_panel_size(w = panel_size, h = panel_size)\n",
    "    ),\n",
    "    cbind(\n",
    "      plot_region_gg(\"3R\", \"H3K4me3\", title=T) %>% set_panel_size(w = panel_size, h = panel_size),\n",
    "      plot_region_gg(\"3R\", \"H3K27me3\") %>% set_panel_size(w = panel_size, h = panel_size),\n",
    "      plot_region_gg(\"3R\", \"H3K9me3\", legend=\"hide\") %>% set_panel_size(w = panel_size, h = panel_size)\n",
    "    ),\n",
    "    cbind(\n",
    "      plot_region_gg(\"4\", \"H3K4me3\", title=T) %>% set_panel_size(w = panel_size, h = panel_size),\n",
    "      plot_region_gg(\"4\", \"H3K27me3\") %>% set_panel_size(w = panel_size, h = panel_size),\n",
    "      plot_region_gg(\"4\", \"H3K9me3\", legend=\"hide\") %>% set_panel_size(w = panel_size, h = panel_size)\n",
    "    ),\n",
    "    cbind(\n",
    "      plot_region_gg(\"X\", \"H3K4me3\", title=T) %>% set_panel_size(w = panel_size, h = panel_size),\n",
    "      plot_region_gg(\"X\", \"H3K27me3\") %>% set_panel_size(w = panel_size, h = panel_size),\n",
    "      plot_region_gg(\"X\", \"H3K9me3\", legend=\"hide\") %>% set_panel_size(w = panel_size, h = panel_size)\n",
    "    ),\n",
    "    cbind(\n",
    "      plot_region_gg(\"Y\", \"H3K4me3\", title=T) %>% set_panel_size(w = panel_size, h = panel_size),\n",
    "      plot_region_gg(\"Y\", \"H3K27me3\") %>%\n",
    "        `+`(labs(x = \"GSC L2FC\")) %>%\n",
    "        set_panel_size(w = panel_size, h = panel_size),\n",
    "      plot_region_gg(\"Y\", \"H3K9me3\", legend=\"hide\") %>% set_panel_size(w = panel_size, h = panel_size)\n",
    "    )\n",
    "  )\n",
    ")\n",
    "dev.off()"
   ]
  },
  {
   "cell_type": "code",
   "execution_count": 18,
   "metadata": {
    "vscode": {
     "languageId": "r"
    }
   },
   "outputs": [
    {
     "name": "stderr",
     "output_type": "stream",
     "text": [
      "Warning message:\n",
      "“\u001b[1m\u001b[22mRemoved 8951 rows containing non-finite values (`stat_bin2d()`).”\n",
      "Warning message:\n",
      "“\u001b[1m\u001b[22mRemoved 20 rows containing missing values (`geom_tile()`).”\n"
     ]
    },
    {
     "data": {
      "image/png": "[encoded data removed]",
      "text/plain": [
       "plot without title"
      ]
     },
     "metadata": {
      "image/png": {
       "height": 420,
       "width": 420
      }
     },
     "output_type": "display_data"
    }
   ],
   "source": [
    "library(egg)\n",
    "library(grid)\n",
    "library(gtable)\n",
    "grob <- set_panel_size(gg, w=unit(1.5, \"in\"), h=unit(1.5, \"in\"))\n",
    "grob$heights[c(1, 13)] <- unit(24, \"pt\")\n",
    "grob <- grob %>%\n",
    "  gtable_add_grob(\n",
    "    list(\n",
    "      textGrob(\"CySC Enriched\", 0, unit(22, \"pt\"), gp = gpar(fontfamily = \"Helvetica\"), hjust = 0, vjust = 1),\n",
    "      textGrob(\"GSC Enriched\", 1, unit(22, \"pt\"), gp = gpar(fontfamily = \"Helvetica\"), hjust = 1, vjust = 1)\n",
    "    ),\n",
    "    t = c(1, 13),\n",
    "    l = 4,\n",
    "    r = 7\n",
    "  )\n",
    "plot(grob)"
   ]
  },
  {
   "cell_type": "code",
   "execution_count": 19,
   "metadata": {
    "vscode": {
     "languageId": "r"
    }
   },
   "outputs": [
    {
     "name": "stdout",
     "output_type": "stream",
     "text": [
      "[1] 1.114876\n"
     ]
    },
    {
     "name": "stderr",
     "output_type": "stream",
     "text": [
      "Warning message:\n",
      "“\u001b[1m\u001b[22mRemoved 23459 rows containing non-finite values (`stat_bin2d()`).”\n",
      "Warning message:\n",
      "“\u001b[1m\u001b[22mRemoved 29 rows containing missing values (`geom_tile()`).”\n",
      "Warning message:\n",
      "“\u001b[1m\u001b[22mRemoved 23459 rows containing non-finite values (`stat_bin2d()`).”\n",
      "Warning message:\n",
      "“\u001b[1m\u001b[22mRemoved 29 rows containing missing values (`geom_tile()`).”\n"
     ]
    },
    {
     "data": {
      "image/png": "[encoded data removed]",
      "text/plain": [
       "plot without title"
      ]
     },
     "metadata": {
      "image/png": {
       "height": 420,
       "width": 420
      }
     },
     "output_type": "display_data"
    }
   ],
   "source": [
    "data_H3K4 <- subset(\n",
    "  data$H3K4,\n",
    "  region %in% c(\"4\", \"X\") &\n",
    "    between(abs(GSC), 1e-6, 9.9) &\n",
    "    between(abs(CySC), 1e-6, 9.9)\n",
    ")\n",
    "plot_limits <- 1.401\n",
    "annotate_polygon <- 1.38\n",
    "correction_factor <- with(\n",
    "  data_H3K4,\n",
    "  1 / mean(between(GSC, -plot_limits, plot_limits) & between(CySC, -plot_limits, plot_limits))\n",
    ")\n",
    "print(correction_factor)\n",
    "gg4 <- ggplot(data_H3K4, aes(GSC, CySC, fill = after_stat(density))) +\n",
    "  geom_bin2d(binwidth = 0.2) +\n",
    "  facet_wrap(vars(region), scales = \"free\") +\n",
    "  scale_fill_viridis_c(\n",
    "    \"% of Chromatin\",\n",
    "    breaks = c(0.02, 0.04) / correction_factor,\n",
    "    labels = \\(v) scales::percent(round(v * correction_factor, 2))\n",
    "  ) +\n",
    "  annotate(\n",
    "    \"polygon\",\n",
    "    c(-annotate_polygon, -0.2, -0.2, -annotate_polygon),\n",
    "    c(annotate_polygon, annotate_polygon, 0.2, 0.2),\n",
    "    fill = \"transparent\",\n",
    "    color = \"#c41212\",\n",
    "    linewidth = 2 * 25.4 / 72,\n",
    "  ) +\n",
    "  annotate(\n",
    "    \"polygon\",\n",
    "    c(annotate_polygon, 0.2, 0.2, annotate_polygon),\n",
    "    c(-annotate_polygon, -annotate_polygon, -0.2, -0.2),\n",
    "    fill = \"transparent\",\n",
    "    color = \"#c41212\",\n",
    "    linewidth = 2 * 25.4 / 72,\n",
    "  ) +\n",
    "  scale_x_continuous(\n",
    "    limits = c(-plot_limits, plot_limits), expand=c(0, 0),\n",
    "    minor_breaks = seq(-1.4, 1.4, by=0.2)\n",
    "  ) +\n",
    "  scale_y_continuous(\n",
    "    limits = c(-plot_limits, plot_limits), expand=c(0, 0),\n",
    "    minor_breaks = seq(-1.4, 1.4, by=0.2)\n",
    "  ) +\n",
    "  coord_cartesian(c(-1.4,1.4), c(-1.4,1.4), clip=\"off\") +\n",
    "  labs(x = NULL) +\n",
    "  theme(\n",
    "    aspect.ratio = 1,\n",
    "    panel.background = element_rect(fill = \"#575757\"),\n",
    "    panel.grid = element_line(color = \"black\", linewidth = 0.5 * 25.4 / 72),\n",
    "    panel.grid.minor = element_line(color = \"black\", linewidth = 0.5 * 25.4 / 72),\n",
    "    panel.border = element_blank(),\n",
    "  )\n",
    "grob4 <- set_panel_size(gg4, w = unit(1.5, \"in\"), h = unit(1.5, \"in\"))\n",
    "gg4"
   ]
  },
  {
   "cell_type": "code",
   "execution_count": 20,
   "metadata": {
    "vscode": {
     "languageId": "r"
    }
   },
   "outputs": [
    {
     "name": "stdout",
     "output_type": "stream",
     "text": [
      "\u001b[90m# A tibble: 22 × 3\u001b[39m\n",
      "   region celltype  value\n",
      "   \u001b[3m\u001b[90m<fct>\u001b[39m\u001b[23m  \u001b[3m\u001b[90m<chr>\u001b[39m\u001b[23m     \u001b[3m\u001b[90m<dbl>\u001b[39m\u001b[23m\n",
      "\u001b[90m 1\u001b[39m 2L     GSC      0.034\u001b[4m6\u001b[24m\n",
      "\u001b[90m 2\u001b[39m 2L     CySC     0.041\u001b[4m3\u001b[24m\n",
      "\u001b[90m 3\u001b[39m 2LC    GSC      0.074\u001b[4m2\u001b[24m\n",
      "\u001b[90m 4\u001b[39m 2LC    CySC     0.031\u001b[4m6\u001b[24m\n",
      "\u001b[90m 5\u001b[39m 2RC    GSC      0.053\u001b[4m9\u001b[24m\n",
      "\u001b[90m 6\u001b[39m 2RC    CySC     0.033\u001b[4m2\u001b[24m\n",
      "\u001b[90m 7\u001b[39m 2R     GSC      0.036\u001b[4m9\u001b[24m\n",
      "\u001b[90m 8\u001b[39m 2R     CySC     0.034\u001b[4m6\u001b[24m\n",
      "\u001b[90m 9\u001b[39m 3L     GSC      0.031\u001b[4m5\u001b[24m\n",
      "\u001b[90m10\u001b[39m 3L     CySC     0.044\u001b[4m3\u001b[24m\n",
      "\u001b[90m# ℹ 12 more rows\u001b[39m\n"
     ]
    }
   ],
   "source": [
    "contingency_data <- data$H3K4 %>%\n",
    "  group_by(region) %>%\n",
    "  reframe(\n",
    "    tribble(\n",
    "      ~celltype, ~value,\n",
    "      \"GSC\", mean(GSC >= 0.2 & CySC <= -0.2),\n",
    "      \"CySC\", mean(GSC <= -0.2 & CySC >= 0.2),\n",
    "    )\n",
    "  )\n",
    "print(contingency_data)"
   ]
  },
  {
   "cell_type": "code",
   "execution_count": 21,
   "metadata": {
    "vscode": {
     "languageId": "r"
    }
   },
   "outputs": [],
   "source": [
    "contingency_data_K27 <- data$H3K27 %>%\n",
    "  group_by(region) %>%\n",
    "  reframe(\n",
    "    tribble(\n",
    "      ~celltype, ~value,\n",
    "      \"GSC\", mean(GSC >= 0.2 & CySC <= -0.2),\n",
    "      \"CySC\", mean(GSC <= -0.2 & CySC >= 0.2),\n",
    "    )\n",
    "  )"
   ]
  },
  {
   "cell_type": "code",
   "execution_count": 27,
   "metadata": {
    "vscode": {
     "languageId": "r"
    }
   },
   "outputs": [
    {
     "name": "stdout",
     "output_type": "stream",
     "text": [
      "\u001b[90m# A tibble: 11 × 2\u001b[39m\n",
      "   region    L2FC\n",
      "   \u001b[3m\u001b[90m<fct>\u001b[39m\u001b[23m    \u001b[3m\u001b[90m<dbl>\u001b[39m\u001b[23m\n",
      "\u001b[90m 1\u001b[39m 2L     -\u001b[31m0\u001b[39m\u001b[31m.\u001b[39m\u001b[31m253\u001b[39m \n",
      "\u001b[90m 2\u001b[39m 2LC     1.23  \n",
      "\u001b[90m 3\u001b[39m 2RC     0.698 \n",
      "\u001b[90m 4\u001b[39m 2R      0.090\u001b[4m2\u001b[24m\n",
      "\u001b[90m 5\u001b[39m 3L     -\u001b[31m0\u001b[39m\u001b[31m.\u001b[39m\u001b[31m490\u001b[39m \n",
      "\u001b[90m 6\u001b[39m 3LC     0.564 \n",
      "\u001b[90m 7\u001b[39m 3RC    -\u001b[31m0\u001b[39m\u001b[31m.\u001b[39m\u001b[31m600\u001b[39m \n",
      "\u001b[90m 8\u001b[39m 3R      0.195 \n",
      "\u001b[90m 9\u001b[39m 4      -\u001b[31m2\u001b[39m\u001b[31m.\u001b[39m\u001b[31m79\u001b[39m  \n",
      "\u001b[90m10\u001b[39m X      -\u001b[31m1\u001b[39m\u001b[31m.\u001b[39m\u001b[31m17\u001b[39m  \n",
      "\u001b[90m11\u001b[39m Y      -\u001b[31m0\u001b[39m\u001b[31m.\u001b[39m\u001b[31m933\u001b[39m \n"
     ]
    }
   ],
   "source": [
    "print(\n",
    "  chromatin_L2FC_K4 <-\n",
    "    contingency_data %>% group_by(region) %>% summarise(L2FC = log(value[1] / value[2]) / log(2))\n",
    ")"
   ]
  },
  {
   "cell_type": "code",
   "execution_count": 28,
   "metadata": {
    "vscode": {
     "languageId": "r"
    }
   },
   "outputs": [
    {
     "name": "stdout",
     "output_type": "stream",
     "text": [
      "\u001b[90m# A tibble: 11 × 2\u001b[39m\n",
      "   region   L2FC\n",
      "   \u001b[3m\u001b[90m<fct>\u001b[39m\u001b[23m   \u001b[3m\u001b[90m<dbl>\u001b[39m\u001b[23m\n",
      "\u001b[90m 1\u001b[39m 2L      0.442\n",
      "\u001b[90m 2\u001b[39m 2LC     1.20 \n",
      "\u001b[90m 3\u001b[39m 2RC     1.21 \n",
      "\u001b[90m 4\u001b[39m 2R      1.21 \n",
      "\u001b[90m 5\u001b[39m 3L      0.383\n",
      "\u001b[90m 6\u001b[39m 3LC     0.970\n",
      "\u001b[90m 7\u001b[39m 3RC     0.415\n",
      "\u001b[90m 8\u001b[39m 3R      1.17 \n",
      "\u001b[90m 9\u001b[39m 4      -\u001b[31m3\u001b[39m\u001b[31m.\u001b[39m\u001b[31m25\u001b[39m \n",
      "\u001b[90m10\u001b[39m X      -\u001b[31m0\u001b[39m\u001b[31m.\u001b[39m\u001b[31m750\u001b[39m\n",
      "\u001b[90m11\u001b[39m Y      -\u001b[31m0\u001b[39m\u001b[31m.\u001b[39m\u001b[31m410\u001b[39m\n"
     ]
    }
   ],
   "source": [
    "print(\n",
    "  chromatin_L2FC_K27 <-\n",
    "    contingency_data_K27 %>% group_by(region) %>% summarise(L2FC = log(value[1] / value[2]) / log(2))\n",
    ")"
   ]
  },
  {
   "cell_type": "code",
   "execution_count": 23,
   "metadata": {
    "vscode": {
     "languageId": "r"
    }
   },
   "outputs": [
    {
     "data": {
      "text/html": [
       "0.584962500721156"
      ],
      "text/latex": [
       "0.584962500721156"
      ],
      "text/markdown": [
       "0.584962500721156"
      ],
      "text/plain": [
       "[1] 0.5849625"
      ]
     },
     "metadata": {},
     "output_type": "display_data"
    }
   ],
   "source": [
    "log(1.5) / log(2)"
   ]
  },
  {
   "cell_type": "code",
   "execution_count": 24,
   "metadata": {
    "vscode": {
     "languageId": "r"
    }
   },
   "outputs": [
    {
     "data": {
      "image/png": "[encoded data removed]",
      "text/plain": [
       "plot without title"
      ]
     },
     "metadata": {
      "image/png": {
       "height": 420,
       "width": 420
      }
     },
     "output_type": "display_data"
    }
   ],
   "source": [
    "gg_contingency_H3K4 <- ggplot(\n",
    "  contingency_data %>% subset(region != \"rDNA\"),\n",
    "  aes(region, celltype, fill=value)\n",
    ") +\n",
    "  geom_tile() +\n",
    "  # scale_fill_viridis_c(option = \"magma\", direction = -1, begin = 0.4, limits = c(0, NA))\n",
    "  scale_fill_viridis_c(\"% of Chromatin\", limits = c(0, NA), labels = scales::percent) +\n",
    "  scale_x_discrete(position = \"top\") +\n",
    "  scale_y_discrete(labels = \\(v) paste0(v, \" Enriched\")) +\n",
    "  coord_cartesian(expand = F) +\n",
    "  labs(x = NULL, y = NULL) +\n",
    "  theme(\n",
    "    aspect.ratio = 2/11,\n",
    "    axis.text = element_text(size = unit(12, \"pt\")),\n",
    "    legend.title = element_text(size = unit(12, \"pt\")),\n",
    "    legend.text = element_text(size = unit(10, \"pt\")),\n",
    "  )\n",
    "gg_contingency_H3K4 "
   ]
  },
  {
   "cell_type": "markdown",
   "metadata": {},
   "source": [
    "# Recapitulate Fig6 Repliseq Z-Score Analysis"
   ]
  },
  {
   "cell_type": "code",
   "execution_count": 60,
   "metadata": {
    "vscode": {
     "languageId": "r"
    }
   },
   "outputs": [
    {
     "data": {
      "text/html": [
       "<table class=\"dataframe\">\n",
       "<caption>A matrix: 12 × 4 of type dbl</caption>\n",
       "<thead>\n",
       "\t<tr><th></th><th scope=col>Germline_LOESS</th><th scope=col>Somatic_LOESS</th><th scope=col>Kc167_LOESS</th><th scope=col>S2_LOESS</th></tr>\n",
       "</thead>\n",
       "<tbody>\n",
       "\t<tr><th scope=row>2L</th><td> 0.06064009</td><td>-0.048755956</td><td>-0.02429616</td><td> 0.01241202</td></tr>\n",
       "\t<tr><th scope=row>2LC</th><td> 0.68826892</td><td>-0.748531322</td><td> 0.70889380</td><td>-0.64863139</td></tr>\n",
       "\t<tr><th scope=row>2RC</th><td> 0.01494543</td><td> 0.003644133</td><td> 0.36928399</td><td>-0.38787356</td></tr>\n",
       "\t<tr><th scope=row>2R</th><td>-0.01383416</td><td>-0.058838867</td><td> 0.16222834</td><td>-0.08955531</td></tr>\n",
       "\t<tr><th scope=row>3L</th><td>-0.01269308</td><td> 0.038936053</td><td> 0.11889386</td><td>-0.14513683</td></tr>\n",
       "\t<tr><th scope=row>3LC</th><td> 0.10516248</td><td>-0.200182011</td><td> 0.25967498</td><td>-0.16465545</td></tr>\n",
       "\t<tr><th scope=row>3RC</th><td>-0.16506561</td><td> 0.975838625</td><td>-0.01689792</td><td>-0.79387510</td></tr>\n",
       "\t<tr><th scope=row>3R</th><td> 0.23270209</td><td>-0.296318326</td><td> 0.01765095</td><td> 0.04596528</td></tr>\n",
       "\t<tr><th scope=row>4</th><td> 0.59402918</td><td>-0.273144815</td><td> 0.44473418</td><td>-0.76561854</td></tr>\n",
       "\t<tr><th scope=row>X</th><td>-0.21762039</td><td> 0.327020066</td><td>-0.49483134</td><td> 0.38543166</td></tr>\n",
       "\t<tr><th scope=row>Y</th><td>-0.52822982</td><td> 0.625646612</td><td> 0.00000000</td><td>-0.09741679</td></tr>\n",
       "\t<tr><th scope=row>rDNA</th><td>        NaN</td><td>         NaN</td><td>        NaN</td><td>        NaN</td></tr>\n",
       "</tbody>\n",
       "</table>\n"
      ],
      "text/latex": [
       "A matrix: 12 × 4 of type dbl\n",
       "\\begin{tabular}{r|llll}\n",
       "  & Germline\\_LOESS & Somatic\\_LOESS & Kc167\\_LOESS & S2\\_LOESS\\\\\n",
       "\\hline\n",
       "\t2L &  0.06064009 & -0.048755956 & -0.02429616 &  0.01241202\\\\\n",
       "\t2LC &  0.68826892 & -0.748531322 &  0.70889380 & -0.64863139\\\\\n",
       "\t2RC &  0.01494543 &  0.003644133 &  0.36928399 & -0.38787356\\\\\n",
       "\t2R & -0.01383416 & -0.058838867 &  0.16222834 & -0.08955531\\\\\n",
       "\t3L & -0.01269308 &  0.038936053 &  0.11889386 & -0.14513683\\\\\n",
       "\t3LC &  0.10516248 & -0.200182011 &  0.25967498 & -0.16465545\\\\\n",
       "\t3RC & -0.16506561 &  0.975838625 & -0.01689792 & -0.79387510\\\\\n",
       "\t3R &  0.23270209 & -0.296318326 &  0.01765095 &  0.04596528\\\\\n",
       "\t4 &  0.59402918 & -0.273144815 &  0.44473418 & -0.76561854\\\\\n",
       "\tX & -0.21762039 &  0.327020066 & -0.49483134 &  0.38543166\\\\\n",
       "\tY & -0.52822982 &  0.625646612 &  0.00000000 & -0.09741679\\\\\n",
       "\trDNA &         NaN &          NaN &         NaN &         NaN\\\\\n",
       "\\end{tabular}\n"
      ],
      "text/markdown": [
       "\n",
       "A matrix: 12 × 4 of type dbl\n",
       "\n",
       "| <!--/--> | Germline_LOESS | Somatic_LOESS | Kc167_LOESS | S2_LOESS |\n",
       "|---|---|---|---|---|\n",
       "| 2L |  0.06064009 | -0.048755956 | -0.02429616 |  0.01241202 |\n",
       "| 2LC |  0.68826892 | -0.748531322 |  0.70889380 | -0.64863139 |\n",
       "| 2RC |  0.01494543 |  0.003644133 |  0.36928399 | -0.38787356 |\n",
       "| 2R | -0.01383416 | -0.058838867 |  0.16222834 | -0.08955531 |\n",
       "| 3L | -0.01269308 |  0.038936053 |  0.11889386 | -0.14513683 |\n",
       "| 3LC |  0.10516248 | -0.200182011 |  0.25967498 | -0.16465545 |\n",
       "| 3RC | -0.16506561 |  0.975838625 | -0.01689792 | -0.79387510 |\n",
       "| 3R |  0.23270209 | -0.296318326 |  0.01765095 |  0.04596528 |\n",
       "| 4 |  0.59402918 | -0.273144815 |  0.44473418 | -0.76561854 |\n",
       "| X | -0.21762039 |  0.327020066 | -0.49483134 |  0.38543166 |\n",
       "| Y | -0.52822982 |  0.625646612 |  0.00000000 | -0.09741679 |\n",
       "| rDNA |         NaN |          NaN |         NaN |         NaN |\n",
       "\n"
      ],
      "text/plain": [
       "     Germline_LOESS Somatic_LOESS Kc167_LOESS S2_LOESS   \n",
       "2L    0.06064009    -0.048755956  -0.02429616  0.01241202\n",
       "2LC   0.68826892    -0.748531322   0.70889380 -0.64863139\n",
       "2RC   0.01494543     0.003644133   0.36928399 -0.38787356\n",
       "2R   -0.01383416    -0.058838867   0.16222834 -0.08955531\n",
       "3L   -0.01269308     0.038936053   0.11889386 -0.14513683\n",
       "3LC   0.10516248    -0.200182011   0.25967498 -0.16465545\n",
       "3RC  -0.16506561     0.975838625  -0.01689792 -0.79387510\n",
       "3R    0.23270209    -0.296318326   0.01765095  0.04596528\n",
       "4     0.59402918    -0.273144815   0.44473418 -0.76561854\n",
       "X    -0.21762039     0.327020066  -0.49483134  0.38543166\n",
       "Y    -0.52822982     0.625646612   0.00000000 -0.09741679\n",
       "rDNA         NaN             NaN          NaN         NaN"
      ]
     },
     "metadata": {},
     "output_type": "display_data"
    }
   ],
   "source": [
    "tar_load(chic.tile.diameter_1000_chr)\n",
    "tar_load(matches(\"repli.timing_.*chr$\"))\n",
    "tar_load(chromosome_pericetromere_label)\n",
    "\n",
    "Y <- tibble(\n",
    "  chr = names(chr.lengths),\n",
    "  xmin = 2500,\n",
    "  xmax = floor((chr.lengths - 2500) / 5000) * 5000,\n",
    "  Germline = list(repli.timing_Germline_chr),\n",
    "  Somatic = list(repli.timing_Somatic_chr),\n",
    "  Kc167 = list(repli.timing_Kc167_chr),\n",
    "  S2 = list(repli.timing_S2_chr),\n",
    ") %>%\n",
    "  group_by(chr, xmin, xmax) %>%\n",
    "  reframe(\n",
    "    x = seq(xmin, xmax, by = 5000),\n",
    "    region = (\n",
    "      as.character(chr) %>%\n",
    "        paste0(\n",
    "          replace(\n",
    "            rep(\"\", length(x)),\n",
    "            chromosome_pericetromere_label %>%\n",
    "              findOverlaps(\n",
    "                GRanges(\n",
    "                  chr,\n",
    "                  IRanges(x, width=1),\n",
    "                  seqlengths = seqlengths(repli.timing_Germline_chr)\n",
    "                )\n",
    "              ) %>%\n",
    "              to(),\n",
    "            \"C\"\n",
    "          )\n",
    "        ) %>%\n",
    "      factor(\n",
    "        c(\"2L\", \"2LC\", \"2RC\", \"2R\", \"3L\", \"3LC\", \"3RC\", \"3R\", \"4\", \"X\", \"Y\", \"rDNA\")\n",
    "      )\n",
    "    ),\n",
    "    across(\n",
    "      !matches(\"^(x|region)$\"),\n",
    "      list(\n",
    "        LOESS = ~ (\n",
    "          loess(\n",
    "            y.track ~ x.track,\n",
    "            tibble(\n",
    "              x.track = .x[[1]][seqnames(.x[[1]]) == chr] %>% mid(),\n",
    "              y.track = .x[[1]][seqnames(.x[[1]]) == chr]$score,\n",
    "            ),\n",
    "            span = 0.025\n",
    "          ) %>%\n",
    "          predict(tibble(x.track = x))\n",
    "        )\n",
    "      )\n",
    "    )\n",
    "  ) %>%\n",
    "  subset(select = -c(xmin, xmax))\n",
    "YMEAN <- Y %>%\n",
    "  group_by(region) %>%\n",
    "  summarise(across(matches(\"LOESS\"), mean))\n",
    "\n",
    "YS <- Y[\n",
    "  c(\"Germline_LOESS\", \"Somatic_LOESS\", \"Kc167_LOESS\", \"S2_LOESS\")\n",
    "] %>%\n",
    "  as.matrix() %>%\n",
    "  scale() %>%\n",
    "  t() %>%\n",
    "  scale() %>%\n",
    "  t()\n",
    "YS[Y$chr == \"Y\", ] <- (\n",
    "  YS[Y$chr == \"Y\", c(1, 2, 4)] %>%\n",
    "    t() %>%\n",
    "    scale() %>%\n",
    "    t() %>%\n",
    "    `%*%`(\n",
    "      matrix(\n",
    "        c(\n",
    "          1, 0, 0,\n",
    "          0, 1, 0,\n",
    "          0, 0, 0,\n",
    "          0, 0, 1\n",
    "        ),\n",
    "        nrow = 3,\n",
    "        dimnames = list(\n",
    "          NULL,\n",
    "          colnames(Y)[4:7]\n",
    "        )\n",
    "      )\n",
    "    )\n",
    ")\n",
    "\n",
    "FEATURES <- YS %>%\n",
    "  apply(\n",
    "    2,\n",
    "    \\(v) v %>% split(Y$region) %>% sapply(mean)\n",
    "  )\n",
    "FEATURES"
   ]
  },
  {
   "cell_type": "code",
   "execution_count": 61,
   "metadata": {
    "vscode": {
     "languageId": "r"
    }
   },
   "outputs": [
    {
     "data": {
      "text/html": [
       "<table class=\"dataframe\">\n",
       "<caption>A tibble: 11 × 5</caption>\n",
       "<thead>\n",
       "\t<tr><th scope=col>region</th><th scope=col>Germline_LOESS</th><th scope=col>Somatic_LOESS</th><th scope=col>Kc167_LOESS</th><th scope=col>S2_LOESS</th></tr>\n",
       "\t<tr><th scope=col>&lt;fct&gt;</th><th scope=col>&lt;dbl&gt;</th><th scope=col>&lt;dbl&gt;</th><th scope=col>&lt;dbl&gt;</th><th scope=col>&lt;dbl&gt;</th></tr>\n",
       "</thead>\n",
       "<tbody>\n",
       "\t<tr><td>2L </td><td> 0.10129805</td><td> 0.003183193</td><td> 0.03130882</td><td> 0.05056826</td></tr>\n",
       "\t<tr><td>2LC</td><td>-0.05306182</td><td>-0.514065315</td><td>-0.15777982</td><td>-0.36052541</td></tr>\n",
       "\t<tr><td>2RC</td><td>-0.29591804</td><td>-0.458241403</td><td>-0.40011716</td><td>-0.38930299</td></tr>\n",
       "\t<tr><td>2R </td><td> 0.23967219</td><td> 0.152886800</td><td> 0.24794941</td><td> 0.15574979</td></tr>\n",
       "\t<tr><td>3L </td><td> 0.14439838</td><td> 0.098151426</td><td> 0.14218525</td><td> 0.08043393</td></tr>\n",
       "\t<tr><td>3LC</td><td>-0.34338030</td><td>-0.563059510</td><td>-0.57080127</td><td>-0.40825779</td></tr>\n",
       "\t<tr><td>3RC</td><td>-0.53923712</td><td>-0.405392822</td><td>-0.83280778</td><td>-0.66587353</td></tr>\n",
       "\t<tr><td>3R </td><td> 0.16859559</td><td> 0.012230081</td><td> 0.08402932</td><td> 0.07357443</td></tr>\n",
       "\t<tr><td>4  </td><td> 0.58647428</td><td> 0.304579073</td><td> 0.53772555</td><td> 0.15757925</td></tr>\n",
       "\t<tr><td>X  </td><td> 0.21177327</td><td> 0.210308857</td><td> 0.10986489</td><td> 0.21446745</td></tr>\n",
       "\t<tr><td>Y  </td><td>-0.36366180</td><td>-0.261651220</td><td>-0.53189918</td><td>-0.29860981</td></tr>\n",
       "</tbody>\n",
       "</table>\n"
      ],
      "text/latex": [
       "A tibble: 11 × 5\n",
       "\\begin{tabular}{lllll}\n",
       " region & Germline\\_LOESS & Somatic\\_LOESS & Kc167\\_LOESS & S2\\_LOESS\\\\\n",
       " <fct> & <dbl> & <dbl> & <dbl> & <dbl>\\\\\n",
       "\\hline\n",
       "\t 2L  &  0.10129805 &  0.003183193 &  0.03130882 &  0.05056826\\\\\n",
       "\t 2LC & -0.05306182 & -0.514065315 & -0.15777982 & -0.36052541\\\\\n",
       "\t 2RC & -0.29591804 & -0.458241403 & -0.40011716 & -0.38930299\\\\\n",
       "\t 2R  &  0.23967219 &  0.152886800 &  0.24794941 &  0.15574979\\\\\n",
       "\t 3L  &  0.14439838 &  0.098151426 &  0.14218525 &  0.08043393\\\\\n",
       "\t 3LC & -0.34338030 & -0.563059510 & -0.57080127 & -0.40825779\\\\\n",
       "\t 3RC & -0.53923712 & -0.405392822 & -0.83280778 & -0.66587353\\\\\n",
       "\t 3R  &  0.16859559 &  0.012230081 &  0.08402932 &  0.07357443\\\\\n",
       "\t 4   &  0.58647428 &  0.304579073 &  0.53772555 &  0.15757925\\\\\n",
       "\t X   &  0.21177327 &  0.210308857 &  0.10986489 &  0.21446745\\\\\n",
       "\t Y   & -0.36366180 & -0.261651220 & -0.53189918 & -0.29860981\\\\\n",
       "\\end{tabular}\n"
      ],
      "text/markdown": [
       "\n",
       "A tibble: 11 × 5\n",
       "\n",
       "| region &lt;fct&gt; | Germline_LOESS &lt;dbl&gt; | Somatic_LOESS &lt;dbl&gt; | Kc167_LOESS &lt;dbl&gt; | S2_LOESS &lt;dbl&gt; |\n",
       "|---|---|---|---|---|\n",
       "| 2L  |  0.10129805 |  0.003183193 |  0.03130882 |  0.05056826 |\n",
       "| 2LC | -0.05306182 | -0.514065315 | -0.15777982 | -0.36052541 |\n",
       "| 2RC | -0.29591804 | -0.458241403 | -0.40011716 | -0.38930299 |\n",
       "| 2R  |  0.23967219 |  0.152886800 |  0.24794941 |  0.15574979 |\n",
       "| 3L  |  0.14439838 |  0.098151426 |  0.14218525 |  0.08043393 |\n",
       "| 3LC | -0.34338030 | -0.563059510 | -0.57080127 | -0.40825779 |\n",
       "| 3RC | -0.53923712 | -0.405392822 | -0.83280778 | -0.66587353 |\n",
       "| 3R  |  0.16859559 |  0.012230081 |  0.08402932 |  0.07357443 |\n",
       "| 4   |  0.58647428 |  0.304579073 |  0.53772555 |  0.15757925 |\n",
       "| X   |  0.21177327 |  0.210308857 |  0.10986489 |  0.21446745 |\n",
       "| Y   | -0.36366180 | -0.261651220 | -0.53189918 | -0.29860981 |\n",
       "\n"
      ],
      "text/plain": [
       "   region Germline_LOESS Somatic_LOESS Kc167_LOESS S2_LOESS   \n",
       "1  2L      0.10129805     0.003183193   0.03130882  0.05056826\n",
       "2  2LC    -0.05306182    -0.514065315  -0.15777982 -0.36052541\n",
       "3  2RC    -0.29591804    -0.458241403  -0.40011716 -0.38930299\n",
       "4  2R      0.23967219     0.152886800   0.24794941  0.15574979\n",
       "5  3L      0.14439838     0.098151426   0.14218525  0.08043393\n",
       "6  3LC    -0.34338030    -0.563059510  -0.57080127 -0.40825779\n",
       "7  3RC    -0.53923712    -0.405392822  -0.83280778 -0.66587353\n",
       "8  3R      0.16859559     0.012230081   0.08402932  0.07357443\n",
       "9  4       0.58647428     0.304579073   0.53772555  0.15757925\n",
       "10 X       0.21177327     0.210308857   0.10986489  0.21446745\n",
       "11 Y      -0.36366180    -0.261651220  -0.53189918 -0.29860981"
      ]
     },
     "metadata": {},
     "output_type": "display_data"
    }
   ],
   "source": [
    "YMEAN"
   ]
  },
  {
   "cell_type": "markdown",
   "metadata": {},
   "source": [
    "# Analyze Repliseq & Chromatin Mark Classification"
   ]
  },
  {
   "cell_type": "code",
   "execution_count": 84,
   "metadata": {
    "vscode": {
     "languageId": "r"
    }
   },
   "outputs": [
    {
     "data": {
      "image/png": "[encoded data removed]",
      "text/plain": [
       "plot without title"
      ]
     },
     "metadata": {
      "image/png": {
       "height": 420,
       "width": 420
      }
     },
     "output_type": "display_data"
    }
   ],
   "source": [
    "gg_association_H3K4 <- ggplot(\n",
    "  tibble(chromatin_L2FC_K4, plot_as_zscore = TRUE),\n",
    "  aes(Germline_LOESS, Somatic_LOESS, color=Classification)\n",
    ") +\n",
    "  annotate(\n",
    "    \"segment\",\n",
    "    c(-Inf, 0),\n",
    "    c(0, -Inf),\n",
    "    xend = c(Inf, 0),\n",
    "    yend = c(0, Inf),\n",
    "    linewidth = 0.5 * 25.4 / 72,\n",
    "  ) +\n",
    "  geom_point(\n",
    "    data = \\(data) tibble(\n",
    "      data,\n",
    "      Classification = structure(\n",
    "        as.numeric(cut(L2FC, c(-Inf, -log(1.5) / log(2), log(1.5) / log(2), Inf))),\n",
    "        levels = c(\"CySC Enriched\", \"N/A\", \"GSC Enriched\"),\n",
    "        class = \"factor\"\n",
    "      ) %>%\n",
    "        relevel(\"GSC Enriched\"),\n",
    "      as_tibble(\n",
    "        if (plot_as_zscore[1]) FEATURES[1:11, 1:2] else YMEAN[1:11, 2:3]\n",
    "      )\n",
    "    )\n",
    "  ) +\n",
    "  geom_label(\n",
    "    aes(\n",
    "      Germline_LOESS + 0.075,\n",
    "      Somatic_LOESS - 0.075,\n",
    "      label = region, color = NULL\n",
    "    ),\n",
    "    data = \\(data) tibble(\n",
    "      data,\n",
    "      as_tibble(\n",
    "        if (plot_as_zscore[1]) FEATURES[1:11, 1:2] else YMEAN[1:11, 2:3]\n",
    "      )\n",
    "    ) %>%\n",
    "      subset(abs(L2FC) >= log(1.5) / log(2)),\n",
    "    size = 6 * 25.4 / 72,\n",
    "    color = \"black\"\n",
    "  ) +\n",
    "  scale_color_manual(\n",
    "    values = c(\n",
    "      \"GSC Enriched\" = chic_line_track_colors$germline,\n",
    "      \"CySC Enriched\" = chic_line_track_colors$somatic,\n",
    "      \"N/A\" = \"#cccccc\"\n",
    "    )\n",
    "  ) +\n",
    "  labs(\n",
    "    x = \"GSC Z-Score (4 Cell Types)\",\n",
    "    y = \"CySC Z-Score (4 Cell Types)\"\n",
    "  ) +\n",
    "  coord_cartesian(c(1, -1), c(-1, 1), ex=F) +\n",
    "  guides(color = guide_legend(\"Cell-Specific H3K4me3\")) +\n",
    "  theme(\n",
    "    aspect.ratio = 1,\n",
    "    panel.border = element_rect(color = \"transparent\"),\n",
    "  )\n",
    "print(gg_association_H3K4)"
   ]
  },
  {
   "cell_type": "code",
   "execution_count": 78,
   "metadata": {
    "vscode": {
     "languageId": "r"
    }
   },
   "outputs": [
    {
     "data": {
      "image/png": "[encoded data removed]",
      "text/plain": [
       "plot without title"
      ]
     },
     "metadata": {
      "image/png": {
       "height": 420,
       "width": 420
      }
     },
     "output_type": "display_data"
    }
   ],
   "source": [
    "gg_contingency_H3K27 <- ggplot(\n",
    "  contingency_data_K27 %>% subset(region != \"rDNA\"),\n",
    "  aes(region, celltype, fill=value)\n",
    ") +\n",
    "  geom_tile() +\n",
    "  # scale_fill_viridis_c(option = \"magma\", direction = -1, begin = 0.4, limits = c(0, NA))\n",
    "  scale_fill_viridis_c(\"% of Chromatin\", limits = c(0, NA), labels = scales::percent) +\n",
    "  scale_x_discrete(position = \"top\") +\n",
    "  scale_y_discrete(labels = \\(v) paste0(v, \" Enriched\")) +\n",
    "  coord_cartesian(expand = F) +\n",
    "  labs(x = NULL, y = NULL) +\n",
    "  theme(\n",
    "    aspect.ratio = 2/11,\n",
    "    axis.text = element_text(size = unit(12, \"pt\")),\n",
    "    legend.title = element_text(size = unit(12, \"pt\")),\n",
    "    legend.text = element_text(size = unit(10, \"pt\")),\n",
    "  )\n",
    "gg_contingency_H3K27"
   ]
  },
  {
   "cell_type": "code",
   "execution_count": 91,
   "metadata": {
    "vscode": {
     "languageId": "r"
    }
   },
   "outputs": [
    {
     "data": {
      "image/png": "[encoded data removed]",
      "text/plain": [
       "plot without title"
      ]
     },
     "metadata": {
      "image/png": {
       "height": 420,
       "width": 420
      }
     },
     "output_type": "display_data"
    }
   ],
   "source": [
    "gg_association_H3K27 <- gg_association_H3K4 + guides(color = guide_legend(\"Cell-Specific H3K27me3\"))\n",
    "gg_association_H3K27$data <- tibble(chromatin_L2FC_K27, plot_as_zscore = TRUE)\n",
    "print(gg_association_H3K27)"
   ]
  },
  {
   "cell_type": "markdown",
   "metadata": {},
   "source": [
    "# Paneled Gene Profile - Gene Body Heatmap"
   ]
  },
  {
   "cell_type": "code",
   "execution_count": 97,
   "metadata": {
    "vscode": {
     "languageId": "r"
    }
   },
   "outputs": [
    {
     "data": {
      "text/html": [
       "<style>\n",
       ".list-inline {list-style: none; margin:0; padding: 0}\n",
       ".list-inline>li {display: inline-block}\n",
       ".list-inline>li:not(:last-child)::after {content: \"\\00b7\"; padding: 0 .5ex}\n",
       "</style>\n",
       "<ol class=list-inline><li>'81%'</li><li>'82%'</li><li>'83%'</li><li>'84%'</li><li>'85%'</li><li>'86%'</li><li>'87%'</li><li>'88%'</li><li>'89%'</li><li>'90%'</li><li>'91%'</li><li>'92%'</li><li>'93%'</li><li>'94%'</li><li>'95%'</li><li>'96%'</li><li>'97%'</li><li>'98%'</li><li>'99%'</li><li>'TES'</li></ol>\n"
      ],
      "text/latex": [
       "\\begin{enumerate*}\n",
       "\\item '81\\%'\n",
       "\\item '82\\%'\n",
       "\\item '83\\%'\n",
       "\\item '84\\%'\n",
       "\\item '85\\%'\n",
       "\\item '86\\%'\n",
       "\\item '87\\%'\n",
       "\\item '88\\%'\n",
       "\\item '89\\%'\n",
       "\\item '90\\%'\n",
       "\\item '91\\%'\n",
       "\\item '92\\%'\n",
       "\\item '93\\%'\n",
       "\\item '94\\%'\n",
       "\\item '95\\%'\n",
       "\\item '96\\%'\n",
       "\\item '97\\%'\n",
       "\\item '98\\%'\n",
       "\\item '99\\%'\n",
       "\\item 'TES'\n",
       "\\end{enumerate*}\n"
      ],
      "text/markdown": [
       "1. '81%'\n",
       "2. '82%'\n",
       "3. '83%'\n",
       "4. '84%'\n",
       "5. '85%'\n",
       "6. '86%'\n",
       "7. '87%'\n",
       "8. '88%'\n",
       "9. '89%'\n",
       "10. '90%'\n",
       "11. '91%'\n",
       "12. '92%'\n",
       "13. '93%'\n",
       "14. '94%'\n",
       "15. '95%'\n",
       "16. '96%'\n",
       "17. '97%'\n",
       "18. '98%'\n",
       "19. '99%'\n",
       "20. 'TES'\n",
       "\n",
       "\n"
      ],
      "text/plain": [
       " [1] \"81%\" \"82%\" \"83%\" \"84%\" \"85%\" \"86%\" \"87%\" \"88%\" \"89%\" \"90%\" \"91%\" \"92%\"\n",
       "[13] \"93%\" \"94%\" \"95%\" \"96%\" \"97%\" \"98%\" \"99%\" \"TES\""
      ]
     },
     "metadata": {},
     "output_type": "display_data"
    }
   ],
   "source": [
    "tar_load(sc_active_data_Somatic_Paneled)\n",
    "tail(unique(sc_active_data_Somatic_Paneled$pos))"
   ]
  },
  {
   "cell_type": "code",
   "execution_count": 135,
   "metadata": {
    "vscode": {
     "languageId": "r"
    }
   },
   "outputs": [
    {
     "data": {
      "text/html": [
       "<style>\n",
       ".list-inline {list-style: none; margin:0; padding: 0}\n",
       ".list-inline>li {display: inline-block}\n",
       ".list-inline>li:not(:last-child)::after {content: \"\\00b7\"; padding: 0 .5ex}\n",
       "</style>\n",
       "<ol class=list-inline><li>12606</li><li>6</li></ol>\n"
      ],
      "text/latex": [
       "\\begin{enumerate*}\n",
       "\\item 12606\n",
       "\\item 6\n",
       "\\end{enumerate*}\n"
      ],
      "text/markdown": [
       "1. 12606\n",
       "2. 6\n",
       "\n",
       "\n"
      ],
      "text/plain": [
       "[1] 12606     6"
      ]
     },
     "metadata": {},
     "output_type": "display_data"
    }
   ],
   "source": [
    "dim(sc_active_data_Somatic_Paneled)"
   ]
  },
  {
   "cell_type": "code",
   "execution_count": 106,
   "metadata": {
    "vscode": {
     "languageId": "r"
    }
   },
   "outputs": [
    {
     "name": "stdout",
     "output_type": "stream",
     "text": [
      "[1] \"H3K4me3\"  \"H3K27me3\" \"H3K9me3\" \n"
     ]
    },
    {
     "data": {
      "text/html": [
       "<table class=\"dataframe\">\n",
       "<caption>A tibble: 6 × 6</caption>\n",
       "<thead>\n",
       "\t<tr><th scope=col>facet</th><th scope=col>quant</th><th scope=col>activity</th><th scope=col>repli</th><th scope=col>repli.active</th><th scope=col>gene</th></tr>\n",
       "\t<tr><th scope=col>&lt;fct&gt;</th><th scope=col>&lt;fct&gt;</th><th scope=col>&lt;fct&gt;</th><th scope=col>&lt;fct&gt;</th><th scope=col>&lt;fct&gt;</th><th scope=col>&lt;chr&gt;</th></tr>\n",
       "</thead>\n",
       "<tbody>\n",
       "\t<tr><td>X</td><td>low</td><td>active</td><td>EM</td><td>MLA</td><td>lncRNA:CR40469</td></tr>\n",
       "\t<tr><td>X</td><td>off</td><td>off   </td><td>EM</td><td>NA </td><td>CG17636       </td></tr>\n",
       "\t<tr><td>X</td><td>med</td><td>active</td><td>EM</td><td>MLA</td><td>RhoGAP1A      </td></tr>\n",
       "\t<tr><td>X</td><td>off</td><td>off   </td><td>E </td><td>NA </td><td>mir-4915      </td></tr>\n",
       "\t<tr><td>X</td><td>low</td><td>active</td><td>E </td><td>EA </td><td>tyn           </td></tr>\n",
       "\t<tr><td>X</td><td>med</td><td>active</td><td>EM</td><td>MLA</td><td>lncRNA:CR45473</td></tr>\n",
       "</tbody>\n",
       "</table>\n"
      ],
      "text/latex": [
       "A tibble: 6 × 6\n",
       "\\begin{tabular}{llllll}\n",
       " facet & quant & activity & repli & repli.active & gene\\\\\n",
       " <fct> & <fct> & <fct> & <fct> & <fct> & <chr>\\\\\n",
       "\\hline\n",
       "\t X & low & active & EM & MLA & lncRNA:CR40469\\\\\n",
       "\t X & off & off    & EM & NA  & CG17636       \\\\\n",
       "\t X & med & active & EM & MLA & RhoGAP1A      \\\\\n",
       "\t X & off & off    & E  & NA  & mir-4915      \\\\\n",
       "\t X & low & active & E  & EA  & tyn           \\\\\n",
       "\t X & med & active & EM & MLA & lncRNA:CR45473\\\\\n",
       "\\end{tabular}\n"
      ],
      "text/markdown": [
       "\n",
       "A tibble: 6 × 6\n",
       "\n",
       "| facet &lt;fct&gt; | quant &lt;fct&gt; | activity &lt;fct&gt; | repli &lt;fct&gt; | repli.active &lt;fct&gt; | gene &lt;chr&gt; |\n",
       "|---|---|---|---|---|---|\n",
       "| X | low | active | EM | MLA | lncRNA:CR40469 |\n",
       "| X | off | off    | EM | NA  | CG17636        |\n",
       "| X | med | active | EM | MLA | RhoGAP1A       |\n",
       "| X | off | off    | E  | NA  | mir-4915       |\n",
       "| X | low | active | E  | EA  | tyn            |\n",
       "| X | med | active | EM | MLA | lncRNA:CR45473 |\n",
       "\n"
      ],
      "text/plain": [
       "               facet quant activity repli repli.active gene          \n",
       "lncRNA:CR40469 X     low   active   EM    MLA          lncRNA:CR40469\n",
       "CG17636        X     off   off      EM    NA           CG17636       \n",
       "RhoGAP1A       X     med   active   EM    MLA          RhoGAP1A      \n",
       "mir-4915       X     off   off      E     NA           mir-4915      \n",
       "tyn            X     low   active   E     EA           tyn           \n",
       "lncRNA:CR45473 X     med   active   EM    MLA          lncRNA:CR45473"
      ]
     },
     "metadata": {},
     "output_type": "display_data"
    }
   ],
   "source": [
    "tar_load(chic.experiment.tss.heatmaps_Somatic_Paneled)\n",
    "tar_load(facet_genes_Somatic_Paneled)\n",
    "print(names(chic.experiment.tss.heatmaps_Somatic_Paneled))\n",
    "head(facet_genes_Somatic_Paneled)"
   ]
  },
  {
   "cell_type": "code",
   "execution_count": 105,
   "metadata": {
    "vscode": {
     "languageId": "r"
    }
   },
   "outputs": [
    {
     "data": {
      "text/html": [
       "<style>\n",
       ".list-inline {list-style: none; margin:0; padding: 0}\n",
       ".list-inline>li {display: inline-block}\n",
       ".list-inline>li:not(:last-child)::after {content: \"\\00b7\"; padding: 0 .5ex}\n",
       "</style>\n",
       "<ol class=list-inline><li>'-104'</li><li>'-107'</li><li>'-12'</li><li>'-132'</li><li>'-138'</li><li>'-146'</li><li>'-164'</li><li>'-175'</li><li>'-177'</li><li>'-212'</li><li>'-221'</li><li>'-229'</li><li>'-238'</li><li>'-240'</li><li>'-249'</li><li>'-250'</li><li>'-253'</li><li>'-260'</li><li>'-263'</li><li>'-270'</li><li>'-272'</li><li>'-289'</li><li>'-292'</li><li>'-304'</li><li>'-322'</li><li>'-325'</li><li>'-333'</li><li>'-337'</li><li>'-347'</li><li>'-35'</li><li>'-363'</li><li>'-37'</li><li>'-388'</li><li>'-421'</li><li>'-445'</li><li>'-449'</li><li>'-452'</li><li>'-455'</li><li>'-485'</li><li>'-487'</li><li>'-488'</li><li>'-492'</li><li>'-56'</li><li>'-57'</li><li>'-67'</li><li>'-73'</li><li>'-9'</li><li>'1'</li><li>'105'</li><li>'121'</li><li>'130'</li><li>'143'</li><li>'166'</li><li>'17%'</li><li>'18'</li><li>'192'</li><li>'2%'</li><li>'219'</li><li>'22%'</li><li>'224'</li><li>'224'</li><li>'227'</li><li>'252'</li><li>'255'</li><li>'258'</li><li>'267'</li><li>'268'</li><li>'276'</li><li>'28'</li><li>'301'</li><li>'326'</li><li>'351'</li><li>'355'</li><li>'367'</li><li>'374'</li><li>'379'</li><li>'388'</li><li>'392'</li><li>'396'</li><li>'399'</li><li>'412'</li><li>'444'</li><li>'463'</li><li>'472'</li><li>'479'</li><li>'482'</li><li>'499'</li><li>'499'</li><li>'50'</li><li>'55'</li><li>'63'</li><li>'68'</li><li>'7%'</li><li>'70'</li><li>'74'</li><li>'81'</li><li>'81%'</li><li>'92'</li><li>'92%'</li><li>'95%'</li></ol>\n"
      ],
      "text/latex": [
       "\\begin{enumerate*}\n",
       "\\item '-104'\n",
       "\\item '-107'\n",
       "\\item '-12'\n",
       "\\item '-132'\n",
       "\\item '-138'\n",
       "\\item '-146'\n",
       "\\item '-164'\n",
       "\\item '-175'\n",
       "\\item '-177'\n",
       "\\item '-212'\n",
       "\\item '-221'\n",
       "\\item '-229'\n",
       "\\item '-238'\n",
       "\\item '-240'\n",
       "\\item '-249'\n",
       "\\item '-250'\n",
       "\\item '-253'\n",
       "\\item '-260'\n",
       "\\item '-263'\n",
       "\\item '-270'\n",
       "\\item '-272'\n",
       "\\item '-289'\n",
       "\\item '-292'\n",
       "\\item '-304'\n",
       "\\item '-322'\n",
       "\\item '-325'\n",
       "\\item '-333'\n",
       "\\item '-337'\n",
       "\\item '-347'\n",
       "\\item '-35'\n",
       "\\item '-363'\n",
       "\\item '-37'\n",
       "\\item '-388'\n",
       "\\item '-421'\n",
       "\\item '-445'\n",
       "\\item '-449'\n",
       "\\item '-452'\n",
       "\\item '-455'\n",
       "\\item '-485'\n",
       "\\item '-487'\n",
       "\\item '-488'\n",
       "\\item '-492'\n",
       "\\item '-56'\n",
       "\\item '-57'\n",
       "\\item '-67'\n",
       "\\item '-73'\n",
       "\\item '-9'\n",
       "\\item '1'\n",
       "\\item '105'\n",
       "\\item '121'\n",
       "\\item '130'\n",
       "\\item '143'\n",
       "\\item '166'\n",
       "\\item '17\\%'\n",
       "\\item '18'\n",
       "\\item '192'\n",
       "\\item '2\\%'\n",
       "\\item '219'\n",
       "\\item '22\\%'\n",
       "\\item '224'\n",
       "\\item '224'\n",
       "\\item '227'\n",
       "\\item '252'\n",
       "\\item '255'\n",
       "\\item '258'\n",
       "\\item '267'\n",
       "\\item '268'\n",
       "\\item '276'\n",
       "\\item '28'\n",
       "\\item '301'\n",
       "\\item '326'\n",
       "\\item '351'\n",
       "\\item '355'\n",
       "\\item '367'\n",
       "\\item '374'\n",
       "\\item '379'\n",
       "\\item '388'\n",
       "\\item '392'\n",
       "\\item '396'\n",
       "\\item '399'\n",
       "\\item '412'\n",
       "\\item '444'\n",
       "\\item '463'\n",
       "\\item '472'\n",
       "\\item '479'\n",
       "\\item '482'\n",
       "\\item '499'\n",
       "\\item '499'\n",
       "\\item '50'\n",
       "\\item '55'\n",
       "\\item '63'\n",
       "\\item '68'\n",
       "\\item '7\\%'\n",
       "\\item '70'\n",
       "\\item '74'\n",
       "\\item '81'\n",
       "\\item '81\\%'\n",
       "\\item '92'\n",
       "\\item '92\\%'\n",
       "\\item '95\\%'\n",
       "\\end{enumerate*}\n"
      ],
      "text/markdown": [
       "1. '-104'\n",
       "2. '-107'\n",
       "3. '-12'\n",
       "4. '-132'\n",
       "5. '-138'\n",
       "6. '-146'\n",
       "7. '-164'\n",
       "8. '-175'\n",
       "9. '-177'\n",
       "10. '-212'\n",
       "11. '-221'\n",
       "12. '-229'\n",
       "13. '-238'\n",
       "14. '-240'\n",
       "15. '-249'\n",
       "16. '-250'\n",
       "17. '-253'\n",
       "18. '-260'\n",
       "19. '-263'\n",
       "20. '-270'\n",
       "21. '-272'\n",
       "22. '-289'\n",
       "23. '-292'\n",
       "24. '-304'\n",
       "25. '-322'\n",
       "26. '-325'\n",
       "27. '-333'\n",
       "28. '-337'\n",
       "29. '-347'\n",
       "30. '-35'\n",
       "31. '-363'\n",
       "32. '-37'\n",
       "33. '-388'\n",
       "34. '-421'\n",
       "35. '-445'\n",
       "36. '-449'\n",
       "37. '-452'\n",
       "38. '-455'\n",
       "39. '-485'\n",
       "40. '-487'\n",
       "41. '-488'\n",
       "42. '-492'\n",
       "43. '-56'\n",
       "44. '-57'\n",
       "45. '-67'\n",
       "46. '-73'\n",
       "47. '-9'\n",
       "48. '1'\n",
       "49. '105'\n",
       "50. '121'\n",
       "51. '130'\n",
       "52. '143'\n",
       "53. '166'\n",
       "54. '17%'\n",
       "55. '18'\n",
       "56. '192'\n",
       "57. '2%'\n",
       "58. '219'\n",
       "59. '22%'\n",
       "60. '224'\n",
       "61. '224'\n",
       "62. '227'\n",
       "63. '252'\n",
       "64. '255'\n",
       "65. '258'\n",
       "66. '267'\n",
       "67. '268'\n",
       "68. '276'\n",
       "69. '28'\n",
       "70. '301'\n",
       "71. '326'\n",
       "72. '351'\n",
       "73. '355'\n",
       "74. '367'\n",
       "75. '374'\n",
       "76. '379'\n",
       "77. '388'\n",
       "78. '392'\n",
       "79. '396'\n",
       "80. '399'\n",
       "81. '412'\n",
       "82. '444'\n",
       "83. '463'\n",
       "84. '472'\n",
       "85. '479'\n",
       "86. '482'\n",
       "87. '499'\n",
       "88. '499'\n",
       "89. '50'\n",
       "90. '55'\n",
       "91. '63'\n",
       "92. '68'\n",
       "93. '7%'\n",
       "94. '70'\n",
       "95. '74'\n",
       "96. '81'\n",
       "97. '81%'\n",
       "98. '92'\n",
       "99. '92%'\n",
       "100. '95%'\n",
       "\n",
       "\n"
      ],
      "text/plain": [
       "  [1] \"-104\" \"-107\" \"-12\"  \"-132\" \"-138\" \"-146\" \"-164\" \"-175\" \"-177\" \"-212\"\n",
       " [11] \"-221\" \"-229\" \"-238\" \"-240\" \"-249\" \"-250\" \"-253\" \"-260\" \"-263\" \"-270\"\n",
       " [21] \"-272\" \"-289\" \"-292\" \"-304\" \"-322\" \"-325\" \"-333\" \"-337\" \"-347\" \"-35\" \n",
       " [31] \"-363\" \"-37\"  \"-388\" \"-421\" \"-445\" \"-449\" \"-452\" \"-455\" \"-485\" \"-487\"\n",
       " [41] \"-488\" \"-492\" \"-56\"  \"-57\"  \"-67\"  \"-73\"  \"-9\"   \"1\"    \"105\"  \"121\" \n",
       " [51] \"130\"  \"143\"  \"166\"  \"17%\"  \"18\"   \"192\"  \"2%\"   \"219\"  \"22%\"  \"224\" \n",
       " [61] \"224\"  \"227\"  \"252\"  \"255\"  \"258\"  \"267\"  \"268\"  \"276\"  \"28\"   \"301\" \n",
       " [71] \"326\"  \"351\"  \"355\"  \"367\"  \"374\"  \"379\"  \"388\"  \"392\"  \"396\"  \"399\" \n",
       " [81] \"412\"  \"444\"  \"463\"  \"472\"  \"479\"  \"482\"  \"499\"  \"499\"  \"50\"   \"55\"  \n",
       " [91] \"63\"   \"68\"   \"7%\"   \"70\"   \"74\"   \"81\"   \"81%\"  \"92\"   \"92%\"  \"95%\" "
      ]
     },
     "metadata": {},
     "output_type": "display_data"
    },
    {
     "data": {
      "text/plain": [
       "     Min.   1st Qu.    Median      Mean   3rd Qu.      Max.      NA's \n",
       "   0.0010    0.4108    1.3089    2.4034    3.0089 1024.0000        78 "
      ]
     },
     "metadata": {},
     "output_type": "display_data"
    }
   ],
   "source": [
    "sort(sample(colnames(chic.experiment.tss.heatmaps_Somatic_Paneled$H3K27me3), 100))\n",
    "summary(chic.experiment.tss.heatmaps_Somatic_Paneled$H3K27me3[, \"50%\"])"
   ]
  },
  {
   "cell_type": "code",
   "execution_count": 147,
   "metadata": {
    "vscode": {
     "languageId": "r"
    }
   },
   "outputs": [
    {
     "data": {
      "text/html": [
       "<table class=\"dataframe\">\n",
       "<caption>A tibble: 2 × 10</caption>\n",
       "<thead>\n",
       "\t<tr><th scope=col>Classification</th><th scope=col>-500</th><th scope=col>-499</th><th scope=col>-498</th><th scope=col>-497</th><th scope=col>-496</th><th scope=col>-495</th><th scope=col>-494</th><th scope=col>-493</th><th scope=col>-492</th></tr>\n",
       "\t<tr><th scope=col>&lt;chr&gt;</th><th scope=col>&lt;dbl&gt;</th><th scope=col>&lt;dbl&gt;</th><th scope=col>&lt;dbl&gt;</th><th scope=col>&lt;dbl&gt;</th><th scope=col>&lt;dbl&gt;</th><th scope=col>&lt;dbl&gt;</th><th scope=col>&lt;dbl&gt;</th><th scope=col>&lt;dbl&gt;</th><th scope=col>&lt;dbl&gt;</th></tr>\n",
       "</thead>\n",
       "<tbody>\n",
       "\t<tr><td>K27Rich</td><td>1.677299</td><td>1.661515</td><td>1.646271</td><td>1.630323</td><td>1.615647</td><td>1.602145</td><td>1.58992</td><td>1.577787</td><td>1.565700</td></tr>\n",
       "\t<tr><td>Others </td><td>1.619462</td><td>1.608392</td><td>1.596877</td><td>1.586287</td><td>1.577482</td><td>1.567935</td><td>1.55825</td><td>1.549239</td><td>1.539397</td></tr>\n",
       "</tbody>\n",
       "</table>\n"
      ],
      "text/latex": [
       "A tibble: 2 × 10\n",
       "\\begin{tabular}{llllllllll}\n",
       " Classification & -500 & -499 & -498 & -497 & -496 & -495 & -494 & -493 & -492\\\\\n",
       " <chr> & <dbl> & <dbl> & <dbl> & <dbl> & <dbl> & <dbl> & <dbl> & <dbl> & <dbl>\\\\\n",
       "\\hline\n",
       "\t K27Rich & 1.677299 & 1.661515 & 1.646271 & 1.630323 & 1.615647 & 1.602145 & 1.58992 & 1.577787 & 1.565700\\\\\n",
       "\t Others  & 1.619462 & 1.608392 & 1.596877 & 1.586287 & 1.577482 & 1.567935 & 1.55825 & 1.549239 & 1.539397\\\\\n",
       "\\end{tabular}\n"
      ],
      "text/markdown": [
       "\n",
       "A tibble: 2 × 10\n",
       "\n",
       "| Classification &lt;chr&gt; | -500 &lt;dbl&gt; | -499 &lt;dbl&gt; | -498 &lt;dbl&gt; | -497 &lt;dbl&gt; | -496 &lt;dbl&gt; | -495 &lt;dbl&gt; | -494 &lt;dbl&gt; | -493 &lt;dbl&gt; | -492 &lt;dbl&gt; |\n",
       "|---|---|---|---|---|---|---|---|---|---|\n",
       "| K27Rich | 1.677299 | 1.661515 | 1.646271 | 1.630323 | 1.615647 | 1.602145 | 1.58992 | 1.577787 | 1.565700 |\n",
       "| Others  | 1.619462 | 1.608392 | 1.596877 | 1.586287 | 1.577482 | 1.567935 | 1.55825 | 1.549239 | 1.539397 |\n",
       "\n"
      ],
      "text/plain": [
       "  Classification -500     -499     -498     -497     -496     -495     -494   \n",
       "1 K27Rich        1.677299 1.661515 1.646271 1.630323 1.615647 1.602145 1.58992\n",
       "2 Others         1.619462 1.608392 1.596877 1.586287 1.577482 1.567935 1.55825\n",
       "  -493     -492    \n",
       "1 1.577787 1.565700\n",
       "2 1.549239 1.539397"
      ]
     },
     "metadata": {},
     "output_type": "display_data"
    }
   ],
   "source": [
    "profiles <- cbind(\n",
    "  facet_genes_Somatic_Paneled[3],\n",
    "  as.data.frame(chic.experiment.tss.heatmaps_Somatic_Paneled$H3K27me3[facet_genes_Somatic_Paneled$gene, ]),\n",
    "  Classification = ifelse(chic.experiment.tss.heatmaps_Somatic_Paneled$H3K27me3[facet_genes_Somatic_Paneled$gene, \"50%\"] >= 2, \"K27Rich\", \"Others\")\n",
    ") %>%\n",
    "  subset(activity == \"active\", select = -activity) %>%\n",
    "  group_by(Classification) %>%\n",
    "  summarise_all(mean)\n",
    "profiles[, 1:10] %>% head()\n",
    "profile_plot <- melt(as.matrix(column_to_rownames(profiles, \"Classification\")))\n",
    "colnames(profile_plot) <- c(\"Classification\", \"pos\", \"value\")\n",
    "profile_plot <- tibble(\n",
    "  profile_plot %>% subset(select = -pos),\n",
    "  pos = subset(\n",
    "    sc_active_data_Somatic_Paneled,\n",
    "    mark == \"H3K4me3\"\n",
    "  )$pos,\n",
    "  x = subset(\n",
    "    sc_active_data_Somatic_Paneled,\n",
    "    mark == \"H3K4me3\"\n",
    "  )$x\n",
    ")"
   ]
  },
  {
   "cell_type": "code",
   "execution_count": 155,
   "metadata": {
    "vscode": {
     "languageId": "r"
    }
   },
   "outputs": [
    {
     "data": {
      "text/html": [
       "<table class=\"dataframe\">\n",
       "<caption>A tibble: 6 × 6</caption>\n",
       "<thead>\n",
       "\t<tr><th scope=col>facet</th><th scope=col>quant</th><th scope=col>activity</th><th scope=col>repli</th><th scope=col>repli.active</th><th scope=col>gene</th></tr>\n",
       "\t<tr><th scope=col>&lt;fct&gt;</th><th scope=col>&lt;fct&gt;</th><th scope=col>&lt;fct&gt;</th><th scope=col>&lt;fct&gt;</th><th scope=col>&lt;fct&gt;</th><th scope=col>&lt;chr&gt;</th></tr>\n",
       "</thead>\n",
       "<tbody>\n",
       "\t<tr><td>X</td><td>low</td><td>active</td><td>EM</td><td>MLA</td><td>lncRNA:CR40469</td></tr>\n",
       "\t<tr><td>X</td><td>off</td><td>off   </td><td>EM</td><td>NA </td><td>CG17636       </td></tr>\n",
       "\t<tr><td>X</td><td>med</td><td>active</td><td>EM</td><td>MLA</td><td>RhoGAP1A      </td></tr>\n",
       "\t<tr><td>X</td><td>off</td><td>off   </td><td>E </td><td>NA </td><td>mir-4915      </td></tr>\n",
       "\t<tr><td>X</td><td>low</td><td>active</td><td>E </td><td>EA </td><td>tyn           </td></tr>\n",
       "\t<tr><td>X</td><td>med</td><td>active</td><td>EM</td><td>MLA</td><td>lncRNA:CR45473</td></tr>\n",
       "</tbody>\n",
       "</table>\n"
      ],
      "text/latex": [
       "A tibble: 6 × 6\n",
       "\\begin{tabular}{llllll}\n",
       " facet & quant & activity & repli & repli.active & gene\\\\\n",
       " <fct> & <fct> & <fct> & <fct> & <fct> & <chr>\\\\\n",
       "\\hline\n",
       "\t X & low & active & EM & MLA & lncRNA:CR40469\\\\\n",
       "\t X & off & off    & EM & NA  & CG17636       \\\\\n",
       "\t X & med & active & EM & MLA & RhoGAP1A      \\\\\n",
       "\t X & off & off    & E  & NA  & mir-4915      \\\\\n",
       "\t X & low & active & E  & EA  & tyn           \\\\\n",
       "\t X & med & active & EM & MLA & lncRNA:CR45473\\\\\n",
       "\\end{tabular}\n"
      ],
      "text/markdown": [
       "\n",
       "A tibble: 6 × 6\n",
       "\n",
       "| facet &lt;fct&gt; | quant &lt;fct&gt; | activity &lt;fct&gt; | repli &lt;fct&gt; | repli.active &lt;fct&gt; | gene &lt;chr&gt; |\n",
       "|---|---|---|---|---|---|\n",
       "| X | low | active | EM | MLA | lncRNA:CR40469 |\n",
       "| X | off | off    | EM | NA  | CG17636        |\n",
       "| X | med | active | EM | MLA | RhoGAP1A       |\n",
       "| X | off | off    | E  | NA  | mir-4915       |\n",
       "| X | low | active | E  | EA  | tyn            |\n",
       "| X | med | active | EM | MLA | lncRNA:CR45473 |\n",
       "\n"
      ],
      "text/plain": [
       "               facet quant activity repli repli.active gene          \n",
       "lncRNA:CR40469 X     low   active   EM    MLA          lncRNA:CR40469\n",
       "CG17636        X     off   off      EM    NA           CG17636       \n",
       "RhoGAP1A       X     med   active   EM    MLA          RhoGAP1A      \n",
       "mir-4915       X     off   off      E     NA           mir-4915      \n",
       "tyn            X     low   active   E     EA           tyn           \n",
       "lncRNA:CR45473 X     med   active   EM    MLA          lncRNA:CR45473"
      ]
     },
     "metadata": {},
     "output_type": "display_data"
    }
   ],
   "source": [
    "head(facet_genes_Somatic_Paneled)"
   ]
  },
  {
   "cell_type": "code",
   "execution_count": 157,
   "metadata": {
    "vscode": {
     "languageId": "r"
    }
   },
   "outputs": [
    {
     "ename": "ERROR",
     "evalue": "Error: object 'genes' not found\n",
     "output_type": "error",
     "traceback": [
      "Error: object 'genes' not found\nTraceback:\n",
      "1. tibble(facet_genes_Somatic_Paneled, Classification = ifelse(chic.experiment.tss.heatmaps_Somatic_Paneled$H3K27me3[genes, \n .     \"50%\"] >= 2, \"K27Rich\", \"Others\"), genes = gene)",
      "2. tibble_quos(xs, .rows, .name_repair)",
      "3. eval_tidy(xs[[j]], mask)",
      "4. ifelse(chic.experiment.tss.heatmaps_Somatic_Paneled$H3K27me3[genes, \n .     \"50%\"] >= 2, \"K27Rich\", \"Others\")"
     ]
    }
   ],
   "source": [
    "tibble(\n",
    "    facet_genes_Somatic_Paneled,\n",
    "    Classification = ifelse(chic.experiment.tss.heatmaps_Somatic_Paneled$H3K27me3[genes, \"50%\"] >= 2, \"K27Rich\", \"Others\"),\n",
    "    genes = gene\n",
    "  )"
   ]
  },
  {
   "cell_type": "code",
   "execution_count": 168,
   "metadata": {
    "vscode": {
     "languageId": "r"
    }
   },
   "outputs": [
    {
     "data": {
      "text/html": [
       "<style>\n",
       ".list-inline {list-style: none; margin:0; padding: 0}\n",
       ".list-inline>li {display: inline-block}\n",
       ".list-inline>li:not(:last-child)::after {content: \"\\00b7\"; padding: 0 .5ex}\n",
       "</style>\n",
       "<ol class=list-inline><li>-500</li><li>-499</li><li>-498</li><li>-497</li><li>-496</li><li>-495</li><li>-494</li><li>-493</li><li>-492</li><li>-491</li><li>-490</li><li>-489</li><li>-488</li><li>-487</li><li>-486</li><li>-485</li><li>-484</li><li>-483</li><li>-482</li><li>-481</li><li>-480</li><li>-479</li><li>-478</li><li>-477</li><li>-476</li><li>-475</li><li>-474</li><li>-473</li><li>-472</li><li>-471</li><li>-470</li><li>-469</li><li>-468</li><li>-467</li><li>-466</li><li>-465</li><li>-464</li><li>-463</li><li>-462</li><li>-461</li><li>-460</li><li>-459</li><li>-458</li><li>-457</li><li>-456</li><li>-455</li><li>-454</li><li>-453</li><li>-452</li><li>-451</li><li>-450</li><li>-449</li><li>-448</li><li>-447</li><li>-446</li><li>-445</li><li>-444</li><li>-443</li><li>-442</li><li>-441</li><li>-440</li><li>-439</li><li>-438</li><li>-437</li><li>-436</li><li>-435</li><li>-434</li><li>-433</li><li>-432</li><li>-431</li><li>-430</li><li>-429</li><li>-428</li><li>-427</li><li>-426</li><li>-425</li><li>-424</li><li>-423</li><li>-422</li><li>-421</li><li>-420</li><li>-419</li><li>-418</li><li>-417</li><li>-416</li><li>-415</li><li>-414</li><li>-413</li><li>-412</li><li>-411</li><li>-410</li><li>-409</li><li>-408</li><li>-407</li><li>-406</li><li>-405</li><li>-404</li><li>-403</li><li>-402</li><li>-401</li><li>-400</li><li>-399</li><li>-398</li><li>-397</li><li>-396</li><li>-395</li><li>-394</li><li>-393</li><li>-392</li><li>-391</li><li>-390</li><li>-389</li><li>-388</li><li>-387</li><li>-386</li><li>-385</li><li>-384</li><li>-383</li><li>-382</li><li>-381</li><li>-380</li><li>-379</li><li>-378</li><li>-377</li><li>-376</li><li>-375</li><li>-374</li><li>-373</li><li>-372</li><li>-371</li><li>-370</li><li>-369</li><li>-368</li><li>-367</li><li>-366</li><li>-365</li><li>-364</li><li>-363</li><li>-362</li><li>-361</li><li>-360</li><li>-359</li><li>-358</li><li>-357</li><li>-356</li><li>-355</li><li>-354</li><li>-353</li><li>-352</li><li>-351</li><li>-350</li><li>-349</li><li>-348</li><li>-347</li><li>-346</li><li>-345</li><li>-344</li><li>-343</li><li>-342</li><li>-341</li><li>-340</li><li>-339</li><li>-338</li><li>-337</li><li>-336</li><li>-335</li><li>-334</li><li>-333</li><li>-332</li><li>-331</li><li>-330</li><li>-329</li><li>-328</li><li>-327</li><li>-326</li><li>-325</li><li>-324</li><li>-323</li><li>-322</li><li>-321</li><li>-320</li><li>-319</li><li>-318</li><li>-317</li><li>-316</li><li>-315</li><li>-314</li><li>-313</li><li>-312</li><li>-311</li><li>-310</li><li>-309</li><li>-308</li><li>-307</li><li>-306</li><li>-305</li><li>-304</li><li>-303</li><li>-302</li><li>-301</li><li>⋯</li><li>3301</li><li>3302</li><li>3303</li><li>3304</li><li>3305</li><li>3306</li><li>3307</li><li>3308</li><li>3309</li><li>3310</li><li>3311</li><li>3312</li><li>3313</li><li>3314</li><li>3315</li><li>3316</li><li>3317</li><li>3318</li><li>3319</li><li>3320</li><li>3321</li><li>3322</li><li>3323</li><li>3324</li><li>3325</li><li>3326</li><li>3327</li><li>3328</li><li>3329</li><li>3330</li><li>3331</li><li>3332</li><li>3333</li><li>3334</li><li>3335</li><li>3336</li><li>3337</li><li>3338</li><li>3339</li><li>3340</li><li>3341</li><li>3342</li><li>3343</li><li>3344</li><li>3345</li><li>3346</li><li>3347</li><li>3348</li><li>3349</li><li>3350</li><li>3351</li><li>3352</li><li>3353</li><li>3354</li><li>3355</li><li>3356</li><li>3357</li><li>3358</li><li>3359</li><li>3360</li><li>3361</li><li>3362</li><li>3363</li><li>3364</li><li>3365</li><li>3366</li><li>3367</li><li>3368</li><li>3369</li><li>3370</li><li>3371</li><li>3372</li><li>3373</li><li>3374</li><li>3375</li><li>3376</li><li>3377</li><li>3378</li><li>3379</li><li>3380</li><li>3381</li><li>3382</li><li>3383</li><li>3384</li><li>3385</li><li>3386</li><li>3387</li><li>3388</li><li>3389</li><li>3390</li><li>3391</li><li>3392</li><li>3393</li><li>3394</li><li>3395</li><li>3396</li><li>3397</li><li>3398</li><li>3399</li><li>3400</li><li>3401</li><li>3402</li><li>3403</li><li>3404</li><li>3405</li><li>3406</li><li>3407</li><li>3408</li><li>3409</li><li>3410</li><li>3411</li><li>3412</li><li>3413</li><li>3414</li><li>3415</li><li>3416</li><li>3417</li><li>3418</li><li>3419</li><li>3420</li><li>3421</li><li>3422</li><li>3423</li><li>3424</li><li>3425</li><li>3426</li><li>3427</li><li>3428</li><li>3429</li><li>3430</li><li>3431</li><li>3432</li><li>3433</li><li>3434</li><li>3435</li><li>3436</li><li>3437</li><li>3438</li><li>3439</li><li>3440</li><li>3441</li><li>3442</li><li>3443</li><li>3444</li><li>3445</li><li>3446</li><li>3447</li><li>3448</li><li>3449</li><li>3450</li><li>3451</li><li>3452</li><li>3453</li><li>3454</li><li>3455</li><li>3456</li><li>3457</li><li>3458</li><li>3459</li><li>3460</li><li>3461</li><li>3462</li><li>3463</li><li>3464</li><li>3465</li><li>3466</li><li>3467</li><li>3468</li><li>3469</li><li>3470</li><li>3471</li><li>3472</li><li>3473</li><li>3474</li><li>3475</li><li>3476</li><li>3477</li><li>3478</li><li>3479</li><li>3480</li><li>3481</li><li>3482</li><li>3483</li><li>3484</li><li>3485</li><li>3486</li><li>3487</li><li>3488</li><li>3489</li><li>3490</li><li>3491</li><li>3492</li><li>3493</li><li>3494</li><li>3495</li><li>3496</li><li>3497</li><li>3498</li><li>3499</li><li>3500</li></ol>\n"
      ],
      "text/latex": [
       "\\begin{enumerate*}\n",
       "\\item -500\n",
       "\\item -499\n",
       "\\item -498\n",
       "\\item -497\n",
       "\\item -496\n",
       "\\item -495\n",
       "\\item -494\n",
       "\\item -493\n",
       "\\item -492\n",
       "\\item -491\n",
       "\\item -490\n",
       "\\item -489\n",
       "\\item -488\n",
       "\\item -487\n",
       "\\item -486\n",
       "\\item -485\n",
       "\\item -484\n",
       "\\item -483\n",
       "\\item -482\n",
       "\\item -481\n",
       "\\item -480\n",
       "\\item -479\n",
       "\\item -478\n",
       "\\item -477\n",
       "\\item -476\n",
       "\\item -475\n",
       "\\item -474\n",
       "\\item -473\n",
       "\\item -472\n",
       "\\item -471\n",
       "\\item -470\n",
       "\\item -469\n",
       "\\item -468\n",
       "\\item -467\n",
       "\\item -466\n",
       "\\item -465\n",
       "\\item -464\n",
       "\\item -463\n",
       "\\item -462\n",
       "\\item -461\n",
       "\\item -460\n",
       "\\item -459\n",
       "\\item -458\n",
       "\\item -457\n",
       "\\item -456\n",
       "\\item -455\n",
       "\\item -454\n",
       "\\item -453\n",
       "\\item -452\n",
       "\\item -451\n",
       "\\item -450\n",
       "\\item -449\n",
       "\\item -448\n",
       "\\item -447\n",
       "\\item -446\n",
       "\\item -445\n",
       "\\item -444\n",
       "\\item -443\n",
       "\\item -442\n",
       "\\item -441\n",
       "\\item -440\n",
       "\\item -439\n",
       "\\item -438\n",
       "\\item -437\n",
       "\\item -436\n",
       "\\item -435\n",
       "\\item -434\n",
       "\\item -433\n",
       "\\item -432\n",
       "\\item -431\n",
       "\\item -430\n",
       "\\item -429\n",
       "\\item -428\n",
       "\\item -427\n",
       "\\item -426\n",
       "\\item -425\n",
       "\\item -424\n",
       "\\item -423\n",
       "\\item -422\n",
       "\\item -421\n",
       "\\item -420\n",
       "\\item -419\n",
       "\\item -418\n",
       "\\item -417\n",
       "\\item -416\n",
       "\\item -415\n",
       "\\item -414\n",
       "\\item -413\n",
       "\\item -412\n",
       "\\item -411\n",
       "\\item -410\n",
       "\\item -409\n",
       "\\item -408\n",
       "\\item -407\n",
       "\\item -406\n",
       "\\item -405\n",
       "\\item -404\n",
       "\\item -403\n",
       "\\item -402\n",
       "\\item -401\n",
       "\\item -400\n",
       "\\item -399\n",
       "\\item -398\n",
       "\\item -397\n",
       "\\item -396\n",
       "\\item -395\n",
       "\\item -394\n",
       "\\item -393\n",
       "\\item -392\n",
       "\\item -391\n",
       "\\item -390\n",
       "\\item -389\n",
       "\\item -388\n",
       "\\item -387\n",
       "\\item -386\n",
       "\\item -385\n",
       "\\item -384\n",
       "\\item -383\n",
       "\\item -382\n",
       "\\item -381\n",
       "\\item -380\n",
       "\\item -379\n",
       "\\item -378\n",
       "\\item -377\n",
       "\\item -376\n",
       "\\item -375\n",
       "\\item -374\n",
       "\\item -373\n",
       "\\item -372\n",
       "\\item -371\n",
       "\\item -370\n",
       "\\item -369\n",
       "\\item -368\n",
       "\\item -367\n",
       "\\item -366\n",
       "\\item -365\n",
       "\\item -364\n",
       "\\item -363\n",
       "\\item -362\n",
       "\\item -361\n",
       "\\item -360\n",
       "\\item -359\n",
       "\\item -358\n",
       "\\item -357\n",
       "\\item -356\n",
       "\\item -355\n",
       "\\item -354\n",
       "\\item -353\n",
       "\\item -352\n",
       "\\item -351\n",
       "\\item -350\n",
       "\\item -349\n",
       "\\item -348\n",
       "\\item -347\n",
       "\\item -346\n",
       "\\item -345\n",
       "\\item -344\n",
       "\\item -343\n",
       "\\item -342\n",
       "\\item -341\n",
       "\\item -340\n",
       "\\item -339\n",
       "\\item -338\n",
       "\\item -337\n",
       "\\item -336\n",
       "\\item -335\n",
       "\\item -334\n",
       "\\item -333\n",
       "\\item -332\n",
       "\\item -331\n",
       "\\item -330\n",
       "\\item -329\n",
       "\\item -328\n",
       "\\item -327\n",
       "\\item -326\n",
       "\\item -325\n",
       "\\item -324\n",
       "\\item -323\n",
       "\\item -322\n",
       "\\item -321\n",
       "\\item -320\n",
       "\\item -319\n",
       "\\item -318\n",
       "\\item -317\n",
       "\\item -316\n",
       "\\item -315\n",
       "\\item -314\n",
       "\\item -313\n",
       "\\item -312\n",
       "\\item -311\n",
       "\\item -310\n",
       "\\item -309\n",
       "\\item -308\n",
       "\\item -307\n",
       "\\item -306\n",
       "\\item -305\n",
       "\\item -304\n",
       "\\item -303\n",
       "\\item -302\n",
       "\\item -301\n",
       "\\item ⋯\n",
       "\\item 3301\n",
       "\\item 3302\n",
       "\\item 3303\n",
       "\\item 3304\n",
       "\\item 3305\n",
       "\\item 3306\n",
       "\\item 3307\n",
       "\\item 3308\n",
       "\\item 3309\n",
       "\\item 3310\n",
       "\\item 3311\n",
       "\\item 3312\n",
       "\\item 3313\n",
       "\\item 3314\n",
       "\\item 3315\n",
       "\\item 3316\n",
       "\\item 3317\n",
       "\\item 3318\n",
       "\\item 3319\n",
       "\\item 3320\n",
       "\\item 3321\n",
       "\\item 3322\n",
       "\\item 3323\n",
       "\\item 3324\n",
       "\\item 3325\n",
       "\\item 3326\n",
       "\\item 3327\n",
       "\\item 3328\n",
       "\\item 3329\n",
       "\\item 3330\n",
       "\\item 3331\n",
       "\\item 3332\n",
       "\\item 3333\n",
       "\\item 3334\n",
       "\\item 3335\n",
       "\\item 3336\n",
       "\\item 3337\n",
       "\\item 3338\n",
       "\\item 3339\n",
       "\\item 3340\n",
       "\\item 3341\n",
       "\\item 3342\n",
       "\\item 3343\n",
       "\\item 3344\n",
       "\\item 3345\n",
       "\\item 3346\n",
       "\\item 3347\n",
       "\\item 3348\n",
       "\\item 3349\n",
       "\\item 3350\n",
       "\\item 3351\n",
       "\\item 3352\n",
       "\\item 3353\n",
       "\\item 3354\n",
       "\\item 3355\n",
       "\\item 3356\n",
       "\\item 3357\n",
       "\\item 3358\n",
       "\\item 3359\n",
       "\\item 3360\n",
       "\\item 3361\n",
       "\\item 3362\n",
       "\\item 3363\n",
       "\\item 3364\n",
       "\\item 3365\n",
       "\\item 3366\n",
       "\\item 3367\n",
       "\\item 3368\n",
       "\\item 3369\n",
       "\\item 3370\n",
       "\\item 3371\n",
       "\\item 3372\n",
       "\\item 3373\n",
       "\\item 3374\n",
       "\\item 3375\n",
       "\\item 3376\n",
       "\\item 3377\n",
       "\\item 3378\n",
       "\\item 3379\n",
       "\\item 3380\n",
       "\\item 3381\n",
       "\\item 3382\n",
       "\\item 3383\n",
       "\\item 3384\n",
       "\\item 3385\n",
       "\\item 3386\n",
       "\\item 3387\n",
       "\\item 3388\n",
       "\\item 3389\n",
       "\\item 3390\n",
       "\\item 3391\n",
       "\\item 3392\n",
       "\\item 3393\n",
       "\\item 3394\n",
       "\\item 3395\n",
       "\\item 3396\n",
       "\\item 3397\n",
       "\\item 3398\n",
       "\\item 3399\n",
       "\\item 3400\n",
       "\\item 3401\n",
       "\\item 3402\n",
       "\\item 3403\n",
       "\\item 3404\n",
       "\\item 3405\n",
       "\\item 3406\n",
       "\\item 3407\n",
       "\\item 3408\n",
       "\\item 3409\n",
       "\\item 3410\n",
       "\\item 3411\n",
       "\\item 3412\n",
       "\\item 3413\n",
       "\\item 3414\n",
       "\\item 3415\n",
       "\\item 3416\n",
       "\\item 3417\n",
       "\\item 3418\n",
       "\\item 3419\n",
       "\\item 3420\n",
       "\\item 3421\n",
       "\\item 3422\n",
       "\\item 3423\n",
       "\\item 3424\n",
       "\\item 3425\n",
       "\\item 3426\n",
       "\\item 3427\n",
       "\\item 3428\n",
       "\\item 3429\n",
       "\\item 3430\n",
       "\\item 3431\n",
       "\\item 3432\n",
       "\\item 3433\n",
       "\\item 3434\n",
       "\\item 3435\n",
       "\\item 3436\n",
       "\\item 3437\n",
       "\\item 3438\n",
       "\\item 3439\n",
       "\\item 3440\n",
       "\\item 3441\n",
       "\\item 3442\n",
       "\\item 3443\n",
       "\\item 3444\n",
       "\\item 3445\n",
       "\\item 3446\n",
       "\\item 3447\n",
       "\\item 3448\n",
       "\\item 3449\n",
       "\\item 3450\n",
       "\\item 3451\n",
       "\\item 3452\n",
       "\\item 3453\n",
       "\\item 3454\n",
       "\\item 3455\n",
       "\\item 3456\n",
       "\\item 3457\n",
       "\\item 3458\n",
       "\\item 3459\n",
       "\\item 3460\n",
       "\\item 3461\n",
       "\\item 3462\n",
       "\\item 3463\n",
       "\\item 3464\n",
       "\\item 3465\n",
       "\\item 3466\n",
       "\\item 3467\n",
       "\\item 3468\n",
       "\\item 3469\n",
       "\\item 3470\n",
       "\\item 3471\n",
       "\\item 3472\n",
       "\\item 3473\n",
       "\\item 3474\n",
       "\\item 3475\n",
       "\\item 3476\n",
       "\\item 3477\n",
       "\\item 3478\n",
       "\\item 3479\n",
       "\\item 3480\n",
       "\\item 3481\n",
       "\\item 3482\n",
       "\\item 3483\n",
       "\\item 3484\n",
       "\\item 3485\n",
       "\\item 3486\n",
       "\\item 3487\n",
       "\\item 3488\n",
       "\\item 3489\n",
       "\\item 3490\n",
       "\\item 3491\n",
       "\\item 3492\n",
       "\\item 3493\n",
       "\\item 3494\n",
       "\\item 3495\n",
       "\\item 3496\n",
       "\\item 3497\n",
       "\\item 3498\n",
       "\\item 3499\n",
       "\\item 3500\n",
       "\\end{enumerate*}\n"
      ],
      "text/markdown": [
       "1. -500\n",
       "2. -499\n",
       "3. -498\n",
       "4. -497\n",
       "5. -496\n",
       "6. -495\n",
       "7. -494\n",
       "8. -493\n",
       "9. -492\n",
       "10. -491\n",
       "11. -490\n",
       "12. -489\n",
       "13. -488\n",
       "14. -487\n",
       "15. -486\n",
       "16. -485\n",
       "17. -484\n",
       "18. -483\n",
       "19. -482\n",
       "20. -481\n",
       "21. -480\n",
       "22. -479\n",
       "23. -478\n",
       "24. -477\n",
       "25. -476\n",
       "26. -475\n",
       "27. -474\n",
       "28. -473\n",
       "29. -472\n",
       "30. -471\n",
       "31. -470\n",
       "32. -469\n",
       "33. -468\n",
       "34. -467\n",
       "35. -466\n",
       "36. -465\n",
       "37. -464\n",
       "38. -463\n",
       "39. -462\n",
       "40. -461\n",
       "41. -460\n",
       "42. -459\n",
       "43. -458\n",
       "44. -457\n",
       "45. -456\n",
       "46. -455\n",
       "47. -454\n",
       "48. -453\n",
       "49. -452\n",
       "50. -451\n",
       "51. -450\n",
       "52. -449\n",
       "53. -448\n",
       "54. -447\n",
       "55. -446\n",
       "56. -445\n",
       "57. -444\n",
       "58. -443\n",
       "59. -442\n",
       "60. -441\n",
       "61. -440\n",
       "62. -439\n",
       "63. -438\n",
       "64. -437\n",
       "65. -436\n",
       "66. -435\n",
       "67. -434\n",
       "68. -433\n",
       "69. -432\n",
       "70. -431\n",
       "71. -430\n",
       "72. -429\n",
       "73. -428\n",
       "74. -427\n",
       "75. -426\n",
       "76. -425\n",
       "77. -424\n",
       "78. -423\n",
       "79. -422\n",
       "80. -421\n",
       "81. -420\n",
       "82. -419\n",
       "83. -418\n",
       "84. -417\n",
       "85. -416\n",
       "86. -415\n",
       "87. -414\n",
       "88. -413\n",
       "89. -412\n",
       "90. -411\n",
       "91. -410\n",
       "92. -409\n",
       "93. -408\n",
       "94. -407\n",
       "95. -406\n",
       "96. -405\n",
       "97. -404\n",
       "98. -403\n",
       "99. -402\n",
       "100. -401\n",
       "101. -400\n",
       "102. -399\n",
       "103. -398\n",
       "104. -397\n",
       "105. -396\n",
       "106. -395\n",
       "107. -394\n",
       "108. -393\n",
       "109. -392\n",
       "110. -391\n",
       "111. -390\n",
       "112. -389\n",
       "113. -388\n",
       "114. -387\n",
       "115. -386\n",
       "116. -385\n",
       "117. -384\n",
       "118. -383\n",
       "119. -382\n",
       "120. -381\n",
       "121. -380\n",
       "122. -379\n",
       "123. -378\n",
       "124. -377\n",
       "125. -376\n",
       "126. -375\n",
       "127. -374\n",
       "128. -373\n",
       "129. -372\n",
       "130. -371\n",
       "131. -370\n",
       "132. -369\n",
       "133. -368\n",
       "134. -367\n",
       "135. -366\n",
       "136. -365\n",
       "137. -364\n",
       "138. -363\n",
       "139. -362\n",
       "140. -361\n",
       "141. -360\n",
       "142. -359\n",
       "143. -358\n",
       "144. -357\n",
       "145. -356\n",
       "146. -355\n",
       "147. -354\n",
       "148. -353\n",
       "149. -352\n",
       "150. -351\n",
       "151. -350\n",
       "152. -349\n",
       "153. -348\n",
       "154. -347\n",
       "155. -346\n",
       "156. -345\n",
       "157. -344\n",
       "158. -343\n",
       "159. -342\n",
       "160. -341\n",
       "161. -340\n",
       "162. -339\n",
       "163. -338\n",
       "164. -337\n",
       "165. -336\n",
       "166. -335\n",
       "167. -334\n",
       "168. -333\n",
       "169. -332\n",
       "170. -331\n",
       "171. -330\n",
       "172. -329\n",
       "173. -328\n",
       "174. -327\n",
       "175. -326\n",
       "176. -325\n",
       "177. -324\n",
       "178. -323\n",
       "179. -322\n",
       "180. -321\n",
       "181. -320\n",
       "182. -319\n",
       "183. -318\n",
       "184. -317\n",
       "185. -316\n",
       "186. -315\n",
       "187. -314\n",
       "188. -313\n",
       "189. -312\n",
       "190. -311\n",
       "191. -310\n",
       "192. -309\n",
       "193. -308\n",
       "194. -307\n",
       "195. -306\n",
       "196. -305\n",
       "197. -304\n",
       "198. -303\n",
       "199. -302\n",
       "200. -301\n",
       "201. ⋯\n",
       "202. 3301\n",
       "203. 3302\n",
       "204. 3303\n",
       "205. 3304\n",
       "206. 3305\n",
       "207. 3306\n",
       "208. 3307\n",
       "209. 3308\n",
       "210. 3309\n",
       "211. 3310\n",
       "212. 3311\n",
       "213. 3312\n",
       "214. 3313\n",
       "215. 3314\n",
       "216. 3315\n",
       "217. 3316\n",
       "218. 3317\n",
       "219. 3318\n",
       "220. 3319\n",
       "221. 3320\n",
       "222. 3321\n",
       "223. 3322\n",
       "224. 3323\n",
       "225. 3324\n",
       "226. 3325\n",
       "227. 3326\n",
       "228. 3327\n",
       "229. 3328\n",
       "230. 3329\n",
       "231. 3330\n",
       "232. 3331\n",
       "233. 3332\n",
       "234. 3333\n",
       "235. 3334\n",
       "236. 3335\n",
       "237. 3336\n",
       "238. 3337\n",
       "239. 3338\n",
       "240. 3339\n",
       "241. 3340\n",
       "242. 3341\n",
       "243. 3342\n",
       "244. 3343\n",
       "245. 3344\n",
       "246. 3345\n",
       "247. 3346\n",
       "248. 3347\n",
       "249. 3348\n",
       "250. 3349\n",
       "251. 3350\n",
       "252. 3351\n",
       "253. 3352\n",
       "254. 3353\n",
       "255. 3354\n",
       "256. 3355\n",
       "257. 3356\n",
       "258. 3357\n",
       "259. 3358\n",
       "260. 3359\n",
       "261. 3360\n",
       "262. 3361\n",
       "263. 3362\n",
       "264. 3363\n",
       "265. 3364\n",
       "266. 3365\n",
       "267. 3366\n",
       "268. 3367\n",
       "269. 3368\n",
       "270. 3369\n",
       "271. 3370\n",
       "272. 3371\n",
       "273. 3372\n",
       "274. 3373\n",
       "275. 3374\n",
       "276. 3375\n",
       "277. 3376\n",
       "278. 3377\n",
       "279. 3378\n",
       "280. 3379\n",
       "281. 3380\n",
       "282. 3381\n",
       "283. 3382\n",
       "284. 3383\n",
       "285. 3384\n",
       "286. 3385\n",
       "287. 3386\n",
       "288. 3387\n",
       "289. 3388\n",
       "290. 3389\n",
       "291. 3390\n",
       "292. 3391\n",
       "293. 3392\n",
       "294. 3393\n",
       "295. 3394\n",
       "296. 3395\n",
       "297. 3396\n",
       "298. 3397\n",
       "299. 3398\n",
       "300. 3399\n",
       "301. 3400\n",
       "302. 3401\n",
       "303. 3402\n",
       "304. 3403\n",
       "305. 3404\n",
       "306. 3405\n",
       "307. 3406\n",
       "308. 3407\n",
       "309. 3408\n",
       "310. 3409\n",
       "311. 3410\n",
       "312. 3411\n",
       "313. 3412\n",
       "314. 3413\n",
       "315. 3414\n",
       "316. 3415\n",
       "317. 3416\n",
       "318. 3417\n",
       "319. 3418\n",
       "320. 3419\n",
       "321. 3420\n",
       "322. 3421\n",
       "323. 3422\n",
       "324. 3423\n",
       "325. 3424\n",
       "326. 3425\n",
       "327. 3426\n",
       "328. 3427\n",
       "329. 3428\n",
       "330. 3429\n",
       "331. 3430\n",
       "332. 3431\n",
       "333. 3432\n",
       "334. 3433\n",
       "335. 3434\n",
       "336. 3435\n",
       "337. 3436\n",
       "338. 3437\n",
       "339. 3438\n",
       "340. 3439\n",
       "341. 3440\n",
       "342. 3441\n",
       "343. 3442\n",
       "344. 3443\n",
       "345. 3444\n",
       "346. 3445\n",
       "347. 3446\n",
       "348. 3447\n",
       "349. 3448\n",
       "350. 3449\n",
       "351. 3450\n",
       "352. 3451\n",
       "353. 3452\n",
       "354. 3453\n",
       "355. 3454\n",
       "356. 3455\n",
       "357. 3456\n",
       "358. 3457\n",
       "359. 3458\n",
       "360. 3459\n",
       "361. 3460\n",
       "362. 3461\n",
       "363. 3462\n",
       "364. 3463\n",
       "365. 3464\n",
       "366. 3465\n",
       "367. 3466\n",
       "368. 3467\n",
       "369. 3468\n",
       "370. 3469\n",
       "371. 3470\n",
       "372. 3471\n",
       "373. 3472\n",
       "374. 3473\n",
       "375. 3474\n",
       "376. 3475\n",
       "377. 3476\n",
       "378. 3477\n",
       "379. 3478\n",
       "380. 3479\n",
       "381. 3480\n",
       "382. 3481\n",
       "383. 3482\n",
       "384. 3483\n",
       "385. 3484\n",
       "386. 3485\n",
       "387. 3486\n",
       "388. 3487\n",
       "389. 3488\n",
       "390. 3489\n",
       "391. 3490\n",
       "392. 3491\n",
       "393. 3492\n",
       "394. 3493\n",
       "395. 3494\n",
       "396. 3495\n",
       "397. 3496\n",
       "398. 3497\n",
       "399. 3498\n",
       "400. 3499\n",
       "401. 3500\n",
       "\n",
       "\n"
      ],
      "text/plain": [
       "   [1] -500 -499 -498 -497 -496 -495 -494 -493 -492 -491 -490 -489 -488 -487\n",
       "  [15] -486 -485 -484 -483 -482 -481 -480 -479 -478 -477 -476 -475 -474 -473\n",
       "  [29] -472 -471 -470 -469 -468 -467 -466 -465 -464 -463 -462 -461 -460 -459\n",
       "  [43] -458 -457 -456 -455 -454 -453 -452 -451 -450 -449 -448 -447 -446 -445\n",
       "  [57] -444 -443 -442 -441 -440 -439 -438 -437 -436 -435 -434 -433 -432 -431\n",
       "  [71] -430 -429 -428 -427 -426 -425 -424 -423 -422 -421 -420 -419 -418 -417\n",
       "  [85] -416 -415 -414 -413 -412 -411 -410 -409 -408 -407 -406 -405 -404 -403\n",
       "  [99] -402 -401 -400 -399 -398 -397 -396 -395 -394 -393 -392 -391 -390 -389\n",
       " [113] -388 -387 -386 -385 -384 -383 -382 -381 -380 -379 -378 -377 -376 -375\n",
       " [127] -374 -373 -372 -371 -370 -369 -368 -367 -366 -365 -364 -363 -362 -361\n",
       " [141] -360 -359 -358 -357 -356 -355 -354 -353 -352 -351 -350 -349 -348 -347\n",
       " [155] -346 -345 -344 -343 -342 -341 -340 -339 -338 -337 -336 -335 -334 -333\n",
       " [169] -332 -331 -330 -329 -328 -327 -326 -325 -324 -323 -322 -321 -320 -319\n",
       " [183] -318 -317 -316 -315 -314 -313 -312 -311 -310 -309 -308 -307 -306 -305\n",
       " [197] -304 -303 -302 -301 -300 -299 -298 -297 -296 -295 -294 -293 -292 -291\n",
       " [211] -290 -289 -288 -287 -286 -285 -284 -283 -282 -281 -280 -279 -278 -277\n",
       " [225] -276 -275 -274 -273 -272 -271 -270 -269 -268 -267 -266 -265 -264 -263\n",
       " [239] -262 -261 -260 -259 -258 -257 -256 -255 -254 -253 -252 -251 -250 -249\n",
       " [253] -248 -247 -246 -245 -244 -243 -242 -241 -240 -239 -238 -237 -236 -235\n",
       " [267] -234 -233 -232 -231 -230 -229 -228 -227 -226 -225 -224 -223 -222 -221\n",
       " [281] -220 -219 -218 -217 -216 -215 -214 -213 -212 -211 -210 -209 -208 -207\n",
       " [295] -206 -205 -204 -203 -202 -201 -200 -199 -198 -197 -196 -195 -194 -193\n",
       " [309] -192 -191 -190 -189 -188 -187 -186 -185 -184 -183 -182 -181 -180 -179\n",
       " [323] -178 -177 -176 -175 -174 -173 -172 -171 -170 -169 -168 -167 -166 -165\n",
       " [337] -164 -163 -162 -161 -160 -159 -158 -157 -156 -155 -154 -153 -152 -151\n",
       " [351] -150 -149 -148 -147 -146 -145 -144 -143 -142 -141 -140 -139 -138 -137\n",
       " [365] -136 -135 -134 -133 -132 -131 -130 -129 -128 -127 -126 -125 -124 -123\n",
       " [379] -122 -121 -120 -119 -118 -117 -116 -115 -114 -113 -112 -111 -110 -109\n",
       " [393] -108 -107 -106 -105 -104 -103 -102 -101 -100  -99  -98  -97  -96  -95\n",
       " [407]  -94  -93  -92  -91  -90  -89  -88  -87  -86  -85  -84  -83  -82  -81\n",
       " [421]  -80  -79  -78  -77  -76  -75  -74  -73  -72  -71  -70  -69  -68  -67\n",
       " [435]  -66  -65  -64  -63  -62  -61  -60  -59  -58  -57  -56  -55  -54  -53\n",
       " [449]  -52  -51  -50  -49  -48  -47  -46  -45  -44  -43  -42  -41  -40  -39\n",
       " [463]  -38  -37  -36  -35  -34  -33  -32  -31  -30  -29  -28  -27  -26  -25\n",
       " [477]  -24  -23  -22  -21  -20  -19  -18  -17  -16  -15  -14  -13  -12  -11\n",
       " [491]  -10   -9   -8   -7   -6   -5   -4   -3   -2   -1    0    1    2    3\n",
       " [505]    4    5    6    7    8    9   10   11   12   13   14   15   16   17\n",
       " [519]   18   19   20   21   22   23   24   25   26   27   28   29   30   31\n",
       " [533]   32   33   34   35   36   37   38   39   40   41   42   43   44   45\n",
       " [547]   46   47   48   49   50   51   52   53   54   55   56   57   58   59\n",
       " [561]   60   61   62   63   64   65   66   67   68   69   70   71   72   73\n",
       " [575]   74   75   76   77   78   79   80   81   82   83   84   85   86   87\n",
       " [589]   88   89   90   91   92   93   94   95   96   97   98   99  100  101\n",
       " [603]  102  103  104  105  106  107  108  109  110  111  112  113  114  115\n",
       " [617]  116  117  118  119  120  121  122  123  124  125  126  127  128  129\n",
       " [631]  130  131  132  133  134  135  136  137  138  139  140  141  142  143\n",
       " [645]  144  145  146  147  148  149  150  151  152  153  154  155  156  157\n",
       " [659]  158  159  160  161  162  163  164  165  166  167  168  169  170  171\n",
       " [673]  172  173  174  175  176  177  178  179  180  181  182  183  184  185\n",
       " [687]  186  187  188  189  190  191  192  193  194  195  196  197  198  199\n",
       " [701]  200  201  202  203  204  205  206  207  208  209  210  211  212  213\n",
       " [715]  214  215  216  217  218  219  220  221  222  223  224  225  226  227\n",
       " [729]  228  229  230  231  232  233  234  235  236  237  238  239  240  241\n",
       " [743]  242  243  244  245  246  247  248  249  250  251  252  253  254  255\n",
       " [757]  256  257  258  259  260  261  262  263  264  265  266  267  268  269\n",
       " [771]  270  271  272  273  274  275  276  277  278  279  280  281  282  283\n",
       " [785]  284  285  286  287  288  289  290  291  292  293  294  295  296  297\n",
       " [799]  298  299  300  301  302  303  304  305  306  307  308  309  310  311\n",
       " [813]  312  313  314  315  316  317  318  319  320  321  322  323  324  325\n",
       " [827]  326  327  328  329  330  331  332  333  334  335  336  337  338  339\n",
       " [841]  340  341  342  343  344  345  346  347  348  349  350  351  352  353\n",
       " [855]  354  355  356  357  358  359  360  361  362  363  364  365  366  367\n",
       " [869]  368  369  370  371  372  373  374  375  376  377  378  379  380  381\n",
       " [883]  382  383  384  385  386  387  388  389  390  391  392  393  394  395\n",
       " [897]  396  397  398  399  400  401  402  403  404  405  406  407  408  409\n",
       " [911]  410  411  412  413  414  415  416  417  418  419  420  421  422  423\n",
       " [925]  424  425  426  427  428  429  430  431  432  433  434  435  436  437\n",
       " [939]  438  439  440  441  442  443  444  445  446  447  448  449  450  451\n",
       " [953]  452  453  454  455  456  457  458  459  460  461  462  463  464  465\n",
       " [967]  466  467  468  469  470  471  472  473  474  475  476  477  478  479\n",
       " [981]  480  481  482  483  484  485  486  487  488  489  490  491  492  493\n",
       " [995]  494  495  496  497  498  499  500  520  540  560  580  600  620  640\n",
       "[1009]  660  680  700  720  740  760  780  800  820  840  860  880  900  920\n",
       "[1023]  940  960  980 1000 1020 1040 1060 1080 1100 1120 1140 1160 1180 1200\n",
       "[1037] 1220 1240 1260 1280 1300 1320 1340 1360 1380 1400 1420 1440 1460 1480\n",
       "[1051] 1500 1520 1540 1560 1580 1600 1620 1640 1660 1680 1700 1720 1740 1760\n",
       "[1065] 1780 1800 1820 1840 1860 1880 1900 1920 1940 1960 1980 2000 2020 2040\n",
       "[1079] 2060 2080 2100 2120 2140 2160 2180 2200 2220 2240 2260 2280 2300 2320\n",
       "[1093] 2340 2360 2380 2400 2420 2440 2460 2480 2500 2501 2502 2503 2504 2505\n",
       "[1107] 2506 2507 2508 2509 2510 2511 2512 2513 2514 2515 2516 2517 2518 2519\n",
       "[1121] 2520 2521 2522 2523 2524 2525 2526 2527 2528 2529 2530 2531 2532 2533\n",
       "[1135] 2534 2535 2536 2537 2538 2539 2540 2541 2542 2543 2544 2545 2546 2547\n",
       "[1149] 2548 2549 2550 2551 2552 2553 2554 2555 2556 2557 2558 2559 2560 2561\n",
       "[1163] 2562 2563 2564 2565 2566 2567 2568 2569 2570 2571 2572 2573 2574 2575\n",
       "[1177] 2576 2577 2578 2579 2580 2581 2582 2583 2584 2585 2586 2587 2588 2589\n",
       "[1191] 2590 2591 2592 2593 2594 2595 2596 2597 2598 2599 2600 2601 2602 2603\n",
       "[1205] 2604 2605 2606 2607 2608 2609 2610 2611 2612 2613 2614 2615 2616 2617\n",
       "[1219] 2618 2619 2620 2621 2622 2623 2624 2625 2626 2627 2628 2629 2630 2631\n",
       "[1233] 2632 2633 2634 2635 2636 2637 2638 2639 2640 2641 2642 2643 2644 2645\n",
       "[1247] 2646 2647 2648 2649 2650 2651 2652 2653 2654 2655 2656 2657 2658 2659\n",
       "[1261] 2660 2661 2662 2663 2664 2665 2666 2667 2668 2669 2670 2671 2672 2673\n",
       "[1275] 2674 2675 2676 2677 2678 2679 2680 2681 2682 2683 2684 2685 2686 2687\n",
       "[1289] 2688 2689 2690 2691 2692 2693 2694 2695 2696 2697 2698 2699 2700 2701\n",
       "[1303] 2702 2703 2704 2705 2706 2707 2708 2709 2710 2711 2712 2713 2714 2715\n",
       "[1317] 2716 2717 2718 2719 2720 2721 2722 2723 2724 2725 2726 2727 2728 2729\n",
       "[1331] 2730 2731 2732 2733 2734 2735 2736 2737 2738 2739 2740 2741 2742 2743\n",
       "[1345] 2744 2745 2746 2747 2748 2749 2750 2751 2752 2753 2754 2755 2756 2757\n",
       "[1359] 2758 2759 2760 2761 2762 2763 2764 2765 2766 2767 2768 2769 2770 2771\n",
       "[1373] 2772 2773 2774 2775 2776 2777 2778 2779 2780 2781 2782 2783 2784 2785\n",
       "[1387] 2786 2787 2788 2789 2790 2791 2792 2793 2794 2795 2796 2797 2798 2799\n",
       "[1401] 2800 2801 2802 2803 2804 2805 2806 2807 2808 2809 2810 2811 2812 2813\n",
       "[1415] 2814 2815 2816 2817 2818 2819 2820 2821 2822 2823 2824 2825 2826 2827\n",
       "[1429] 2828 2829 2830 2831 2832 2833 2834 2835 2836 2837 2838 2839 2840 2841\n",
       "[1443] 2842 2843 2844 2845 2846 2847 2848 2849 2850 2851 2852 2853 2854 2855\n",
       "[1457] 2856 2857 2858 2859 2860 2861 2862 2863 2864 2865 2866 2867 2868 2869\n",
       "[1471] 2870 2871 2872 2873 2874 2875 2876 2877 2878 2879 2880 2881 2882 2883\n",
       "[1485] 2884 2885 2886 2887 2888 2889 2890 2891 2892 2893 2894 2895 2896 2897\n",
       "[1499] 2898 2899 2900 2901 2902 2903 2904 2905 2906 2907 2908 2909 2910 2911\n",
       "[1513] 2912 2913 2914 2915 2916 2917 2918 2919 2920 2921 2922 2923 2924 2925\n",
       "[1527] 2926 2927 2928 2929 2930 2931 2932 2933 2934 2935 2936 2937 2938 2939\n",
       "[1541] 2940 2941 2942 2943 2944 2945 2946 2947 2948 2949 2950 2951 2952 2953\n",
       "[1555] 2954 2955 2956 2957 2958 2959 2960 2961 2962 2963 2964 2965 2966 2967\n",
       "[1569] 2968 2969 2970 2971 2972 2973 2974 2975 2976 2977 2978 2979 2980 2981\n",
       "[1583] 2982 2983 2984 2985 2986 2987 2988 2989 2990 2991 2992 2993 2994 2995\n",
       "[1597] 2996 2997 2998 2999 3000 3001 3002 3003 3004 3005 3006 3007 3008 3009\n",
       "[1611] 3010 3011 3012 3013 3014 3015 3016 3017 3018 3019 3020 3021 3022 3023\n",
       "[1625] 3024 3025 3026 3027 3028 3029 3030 3031 3032 3033 3034 3035 3036 3037\n",
       "[1639] 3038 3039 3040 3041 3042 3043 3044 3045 3046 3047 3048 3049 3050 3051\n",
       "[1653] 3052 3053 3054 3055 3056 3057 3058 3059 3060 3061 3062 3063 3064 3065\n",
       "[1667] 3066 3067 3068 3069 3070 3071 3072 3073 3074 3075 3076 3077 3078 3079\n",
       "[1681] 3080 3081 3082 3083 3084 3085 3086 3087 3088 3089 3090 3091 3092 3093\n",
       "[1695] 3094 3095 3096 3097 3098 3099 3100 3101 3102 3103 3104 3105 3106 3107\n",
       "[1709] 3108 3109 3110 3111 3112 3113 3114 3115 3116 3117 3118 3119 3120 3121\n",
       "[1723] 3122 3123 3124 3125 3126 3127 3128 3129 3130 3131 3132 3133 3134 3135\n",
       "[1737] 3136 3137 3138 3139 3140 3141 3142 3143 3144 3145 3146 3147 3148 3149\n",
       "[1751] 3150 3151 3152 3153 3154 3155 3156 3157 3158 3159 3160 3161 3162 3163\n",
       "[1765] 3164 3165 3166 3167 3168 3169 3170 3171 3172 3173 3174 3175 3176 3177\n",
       "[1779] 3178 3179 3180 3181 3182 3183 3184 3185 3186 3187 3188 3189 3190 3191\n",
       "[1793] 3192 3193 3194 3195 3196 3197 3198 3199 3200 3201 3202 3203 3204 3205\n",
       "[1807] 3206 3207 3208 3209 3210 3211 3212 3213 3214 3215 3216 3217 3218 3219\n",
       "[1821] 3220 3221 3222 3223 3224 3225 3226 3227 3228 3229 3230 3231 3232 3233\n",
       "[1835] 3234 3235 3236 3237 3238 3239 3240 3241 3242 3243 3244 3245 3246 3247\n",
       "[1849] 3248 3249 3250 3251 3252 3253 3254 3255 3256 3257 3258 3259 3260 3261\n",
       "[1863] 3262 3263 3264 3265 3266 3267 3268 3269 3270 3271 3272 3273 3274 3275\n",
       "[1877] 3276 3277 3278 3279 3280 3281 3282 3283 3284 3285 3286 3287 3288 3289\n",
       "[1891] 3290 3291 3292 3293 3294 3295 3296 3297 3298 3299 3300 3301 3302 3303\n",
       "[1905] 3304 3305 3306 3307 3308 3309 3310 3311 3312 3313 3314 3315 3316 3317\n",
       "[1919] 3318 3319 3320 3321 3322 3323 3324 3325 3326 3327 3328 3329 3330 3331\n",
       "[1933] 3332 3333 3334 3335 3336 3337 3338 3339 3340 3341 3342 3343 3344 3345\n",
       "[1947] 3346 3347 3348 3349 3350 3351 3352 3353 3354 3355 3356 3357 3358 3359\n",
       "[1961] 3360 3361 3362 3363 3364 3365 3366 3367 3368 3369 3370 3371 3372 3373\n",
       "[1975] 3374 3375 3376 3377 3378 3379 3380 3381 3382 3383 3384 3385 3386 3387\n",
       "[1989] 3388 3389 3390 3391 3392 3393 3394 3395 3396 3397 3398 3399 3400 3401\n",
       "[2003] 3402 3403 3404 3405 3406 3407 3408 3409 3410 3411 3412 3413 3414 3415\n",
       "[2017] 3416 3417 3418 3419 3420 3421 3422 3423 3424 3425 3426 3427 3428 3429\n",
       "[2031] 3430 3431 3432 3433 3434 3435 3436 3437 3438 3439 3440 3441 3442 3443\n",
       "[2045] 3444 3445 3446 3447 3448 3449 3450 3451 3452 3453 3454 3455 3456 3457\n",
       "[2059] 3458 3459 3460 3461 3462 3463 3464 3465 3466 3467 3468 3469 3470 3471\n",
       "[2073] 3472 3473 3474 3475 3476 3477 3478 3479 3480 3481 3482 3483 3484 3485\n",
       "[2087] 3486 3487 3488 3489 3490 3491 3492 3493 3494 3495 3496 3497 3498 3499\n",
       "[2101] 3500"
      ]
     },
     "metadata": {},
     "output_type": "display_data"
    }
   ],
   "source": [
    "Z <- chic.experiment.tss.heatmaps_Somatic_Paneled$H3K27me3 %>%\n",
    "    `attr<-`(\n",
    "      \"x\",\n",
    "      value = subset(\n",
    "        sc_active_data_Somatic_Paneled,\n",
    "        mark == \"H3K4me3\" & activity == \"active\"\n",
    "      )$x\n",
    "    )\n",
    "attr(Z, \"x\")"
   ]
  },
  {
   "cell_type": "code",
   "execution_count": 230,
   "metadata": {
    "vscode": {
     "languageId": "r"
    }
   },
   "outputs": [],
   "source": [
    "library(matrixStats)\n",
    "K27_Classification <- tibble(\n",
    "  facet_genes_Somatic_Paneled,\n",
    "  Classification = ifelse(\n",
    "    rowQuantiles(\n",
    "      chic.experiment.tss.heatmaps_Somatic_Paneled$H3K27me3[gene, paste0(1:99, \"%\")],\n",
    "      probs = 0.25\n",
    "    ) >=\n",
    "      1.1,\n",
    "    \"K27Rich\", \"Others\"\n",
    "  ),\n",
    ") %>%\n",
    "  subset(activity == \"active\")\n",
    "profiles <- chic_heatmap_facet_genes(\n",
    "  chic.experiment.tss.heatmaps_Somatic_Paneled$H3K27me3,\n",
    "  tibble(\n",
    "    genes = K27_Classification$Classification,\n",
    "    gene = K27_Classification$gene\n",
    "  )\n",
    ")"
   ]
  },
  {
   "cell_type": "code",
   "execution_count": 231,
   "metadata": {
    "vscode": {
     "languageId": "r"
    }
   },
   "outputs": [
    {
     "data": {
      "text/html": [
       "<table class=\"dataframe\">\n",
       "<caption>A tibble: 2 × 5</caption>\n",
       "<thead>\n",
       "\t<tr><th scope=col>genes</th><th scope=col>n</th><th scope=col>pos</th><th scope=col>value</th><th scope=col>x</th></tr>\n",
       "\t<tr><th scope=col>&lt;chr&gt;</th><th scope=col>&lt;int&gt;</th><th scope=col>&lt;chr&gt;</th><th scope=col>&lt;dbl&gt;</th><th scope=col>&lt;dbl&gt;</th></tr>\n",
       "</thead>\n",
       "<tbody>\n",
       "\t<tr><td>K27Rich</td><td> 282</td><td>50%</td><td>3.182439</td><td>1500</td></tr>\n",
       "\t<tr><td>Others </td><td>6476</td><td>50%</td><td>2.429544</td><td>1500</td></tr>\n",
       "</tbody>\n",
       "</table>\n"
      ],
      "text/latex": [
       "A tibble: 2 × 5\n",
       "\\begin{tabular}{lllll}\n",
       " genes & n & pos & value & x\\\\\n",
       " <chr> & <int> & <chr> & <dbl> & <dbl>\\\\\n",
       "\\hline\n",
       "\t K27Rich &  282 & 50\\% & 3.182439 & 1500\\\\\n",
       "\t Others  & 6476 & 50\\% & 2.429544 & 1500\\\\\n",
       "\\end{tabular}\n"
      ],
      "text/markdown": [
       "\n",
       "A tibble: 2 × 5\n",
       "\n",
       "| genes &lt;chr&gt; | n &lt;int&gt; | pos &lt;chr&gt; | value &lt;dbl&gt; | x &lt;dbl&gt; |\n",
       "|---|---|---|---|---|\n",
       "| K27Rich |  282 | 50% | 3.182439 | 1500 |\n",
       "| Others  | 6476 | 50% | 2.429544 | 1500 |\n",
       "\n"
      ],
      "text/plain": [
       "  genes   n    pos value    x   \n",
       "1 K27Rich  282 50% 3.182439 1500\n",
       "2 Others  6476 50% 2.429544 1500"
      ]
     },
     "metadata": {},
     "output_type": "display_data"
    }
   ],
   "source": [
    "subset(profiles, pos == \"50%\")"
   ]
  },
  {
   "cell_type": "code",
   "execution_count": 248,
   "metadata": {
    "vscode": {
     "languageId": "r"
    }
   },
   "outputs": [],
   "source": [
    "library(forcats)\n",
    "profiles <- profiles %>%\n",
    "  mutate(\n",
    "    genes = genes %>%\n",
    "      factor() %>%\n",
    "      fct_relabel(\n",
    "        \\(n) n %>%\n",
    "          sapply(\n",
    "            \\(n) paste0(\n",
    "              n,\n",
    "              \" (n = \",\n",
    "              profiles$n[profiles$genes == n & profiles$pos == \"TSS\"],\n",
    "              \")\"\n",
    "            )\n",
    "          )\n",
    "      )\n",
    "  )"
   ]
  },
  {
   "cell_type": "code",
   "execution_count": 249,
   "metadata": {
    "vscode": {
     "languageId": "r"
    }
   },
   "outputs": [
    {
     "data": {
      "image/png": "[encoded data removed]",
      "text/plain": [
       "plot without title"
      ]
     },
     "metadata": {
      "image/png": {
       "height": 420,
       "width": 420
      }
     },
     "output_type": "display_data"
    }
   ],
   "source": [
    "ggk27genes <- chic_plot_paneled_profiles_facet_grid(\n",
    "  profiles, \"\", c(\"red\", \"blue\"), linewidth = rep(1, 2) * 25.4 / 72, faceter=theme(), chic_average_profile_limits = c(0.25, 6)\n",
    ") %>%\n",
    "  print()"
   ]
  },
  {
   "cell_type": "code",
   "execution_count": 197,
   "metadata": {
    "vscode": {
     "languageId": "r"
    }
   },
   "outputs": [],
   "source": [
    "assay.data.sc <- as_tibble(read.csv(\"scRNA-seq-Assay-Metadata.csv\"))"
   ]
  },
  {
   "cell_type": "code",
   "execution_count": 251,
   "metadata": {
    "vscode": {
     "languageId": "r"
    }
   },
   "outputs": [],
   "source": [
    "genes <- list(\n",
    "  K27Rich = with(\n",
    "    subset(assay.data.sc, X %in% K27_Classification$gene[grepl(\"K27Rich\", K27_Classification$Classification)] & (end - start) >= 1000),\n",
    "    GRanges(\n",
    "      chr,\n",
    "      IRanges(start + 500, end - 500)\n",
    "    )\n",
    "  ),\n",
    "  Others = with(\n",
    "    subset(assay.data.sc, X %in% K27_Classification$gene[grepl(\"Others\", K27_Classification$Classification)] & (end - start) >= 1000),\n",
    "    GRanges(\n",
    "      chr,\n",
    "      IRanges(start + 500, end - 500)\n",
    "    )\n",
    "  )\n",
    ")"
   ]
  },
  {
   "cell_type": "code",
   "execution_count": 252,
   "metadata": {
    "vscode": {
     "languageId": "r"
    }
   },
   "outputs": [
    {
     "data": {
      "text/html": [
       "<style>\n",
       ".list-inline {list-style: none; margin:0; padding: 0}\n",
       ".list-inline>li {display: inline-block}\n",
       ".list-inline>li:not(:last-child)::after {content: \"\\00b7\"; padding: 0 .5ex}\n",
       "</style>\n",
       "<ol class=list-inline><li>1375484</li><li>3</li></ol>\n"
      ],
      "text/latex": [
       "\\begin{enumerate*}\n",
       "\\item 1375484\n",
       "\\item 3\n",
       "\\end{enumerate*}\n"
      ],
      "text/markdown": [
       "1. 1375484\n",
       "2. 3\n",
       "\n",
       "\n"
      ],
      "text/plain": [
       "[1] 1375484       3"
      ]
     },
     "metadata": {},
     "output_type": "display_data"
    },
    {
     "data": {
      "text/html": [
       "1375484"
      ],
      "text/latex": [
       "1375484"
      ],
      "text/markdown": [
       "1375484"
      ],
      "text/plain": [
       "[1] 1375484"
      ]
     },
     "metadata": {},
     "output_type": "display_data"
    }
   ],
   "source": [
    "dim(data$H3K27)\n",
    "length(gr)"
   ]
  },
  {
   "cell_type": "code",
   "execution_count": 253,
   "metadata": {
    "vscode": {
     "languageId": "r"
    }
   },
   "outputs": [
    {
     "data": {
      "text/html": [
       "<dl>\n",
       "\t<dt>$K27Rich</dt>\n",
       "\t\t<dd><style>\n",
       ".list-inline {list-style: none; margin:0; padding: 0}\n",
       ".list-inline>li {display: inline-block}\n",
       ".list-inline>li:not(:last-child)::after {content: \"\\00b7\"; padding: 0 .5ex}\n",
       "</style>\n",
       "<ol class=list-inline><li>8953</li><li>3</li></ol>\n",
       "</dd>\n",
       "\t<dt>$Others</dt>\n",
       "\t\t<dd><style>\n",
       ".list-inline {list-style: none; margin:0; padding: 0}\n",
       ".list-inline>li {display: inline-block}\n",
       ".list-inline>li:not(:last-child)::after {content: \"\\00b7\"; padding: 0 .5ex}\n",
       "</style>\n",
       "<ol class=list-inline><li>470342</li><li>3</li></ol>\n",
       "</dd>\n",
       "</dl>\n"
      ],
      "text/latex": [
       "\\begin{description}\n",
       "\\item[\\$K27Rich] \\begin{enumerate*}\n",
       "\\item 8953\n",
       "\\item 3\n",
       "\\end{enumerate*}\n",
       "\n",
       "\\item[\\$Others] \\begin{enumerate*}\n",
       "\\item 470342\n",
       "\\item 3\n",
       "\\end{enumerate*}\n",
       "\n",
       "\\end{description}\n"
      ],
      "text/markdown": [
       "$K27Rich\n",
       ":   1. 8953\n",
       "2. 3\n",
       "\n",
       "\n",
       "\n",
       "$Others\n",
       ":   1. 470342\n",
       "2. 3\n",
       "\n",
       "\n",
       "\n",
       "\n",
       "\n"
      ],
      "text/plain": [
       "$K27Rich\n",
       "[1] 8953    3\n",
       "\n",
       "$Others\n",
       "[1] 470342      3\n"
      ]
     },
     "metadata": {},
     "output_type": "display_data"
    }
   ],
   "source": [
    "K27_Classification_Data <- sapply(\n",
    "  genes,\n",
    "  \\(genes) dplyr::slice(\n",
    "    data$H3K27,\n",
    "    to(\n",
    "      findOverlaps(\n",
    "        genes,\n",
    "        gr\n",
    "      )\n",
    "    )\n",
    "  ),\n",
    "  simplify=FALSE\n",
    ")\n",
    "sapply(K27_Classification_Data, dim, simplify=F)"
   ]
  },
  {
   "cell_type": "code",
   "execution_count": 259,
   "metadata": {
    "vscode": {
     "languageId": "r"
    }
   },
   "outputs": [
    {
     "name": "stderr",
     "output_type": "stream",
     "text": [
      "Warning message:\n",
      "“\u001b[1m\u001b[22mRemoved 33186 rows containing non-finite values (`stat_bin2d()`).”\n",
      "Warning message:\n",
      "“\u001b[1m\u001b[22mRemoved 23 rows containing missing values (`geom_tile()`).”\n"
     ]
    },
    {
     "data": {
      "image/png": "[encoded data removed]",
      "text/plain": [
       "plot without title"
      ]
     },
     "metadata": {
      "image/png": {
       "height": 420,
       "width": 420
      }
     },
     "output_type": "display_data"
    }
   ],
   "source": [
    "gggeneschromatin <- ggplot(bind_rows(K27_Classification_Data, .id = \"CDS\"), aes(GSC, CySC, fill = after_stat(density))) +\n",
    "  geom_bin2d(binwidth = 0.2) +\n",
    "  facet_wrap(vars(CDS), scales = \"free\") +\n",
    "  scale_fill_viridis_c(\n",
    "    \"% of Chromatin\",\n",
    "    breaks = c(0.02, 0.04, 0.06, 0.08) / correction_factor,\n",
    "    labels = \\(v) scales::percent(round(v * correction_factor, 2))\n",
    "  ) +\n",
    "  annotate(\n",
    "    \"polygon\",\n",
    "    c(-annotate_polygon, -0.2, -0.2, -annotate_polygon),\n",
    "    c(annotate_polygon, annotate_polygon, 0.2, 0.2),\n",
    "    fill = \"transparent\",\n",
    "    color = \"#c41212\",\n",
    "    linewidth = 2 * 25.4 / 72,\n",
    "  ) +\n",
    "  annotate(\n",
    "    \"polygon\",\n",
    "    c(annotate_polygon, 0.2, 0.2, annotate_polygon),\n",
    "    c(-annotate_polygon, -annotate_polygon, -0.2, -0.2),\n",
    "    fill = \"transparent\",\n",
    "    color = \"#c41212\",\n",
    "    linewidth = 2 * 25.4 / 72,\n",
    "  ) +\n",
    "  scale_x_continuous(\n",
    "    limits = c(-plot_limits, plot_limits), expand=c(0, 0),\n",
    "    minor_breaks = seq(-1.4, 1.4, by=0.2)\n",
    "  ) +\n",
    "  scale_y_continuous(\n",
    "    limits = c(-plot_limits, plot_limits), expand=c(0, 0),\n",
    "    minor_breaks = seq(-1.4, 1.4, by=0.2)\n",
    "  ) +\n",
    "  coord_cartesian(c(-1.4,1.4), c(-1.4,1.4), clip=\"off\") +\n",
    "  labs(x = NULL) +\n",
    "  theme(\n",
    "    aspect.ratio = 1,\n",
    "    panel.background = element_rect(fill = \"#575757\"),\n",
    "    panel.grid = element_line(color = \"black\", linewidth = 0.5 * 25.4 / 72),\n",
    "    panel.grid.minor = element_line(color = \"black\", linewidth = 0.5 * 25.4 / 72),\n",
    "    panel.border = element_blank(),\n",
    "  )\n",
    "gggeneschromatin "
   ]
  },
  {
   "cell_type": "markdown",
   "metadata": {},
   "source": [
    "# Export GG Objects"
   ]
  },
  {
   "cell_type": "code",
   "execution_count": 268,
   "metadata": {
    "vscode": {
     "languageId": "r"
    }
   },
   "outputs": [
    {
     "name": "stderr",
     "output_type": "stream",
     "text": [
      "Warning message:\n",
      "“\u001b[1m\u001b[22mRemoved 33186 rows containing non-finite values (`stat_bin2d()`).”\n",
      "Warning message:\n",
      "“\u001b[1m\u001b[22mRemoved 23 rows containing missing values (`geom_tile()`).”\n"
     ]
    },
    {
     "data": {
      "text/html": [
       "<strong>png:</strong> 2"
      ],
      "text/latex": [
       "\\textbf{png:} 2"
      ],
      "text/markdown": [
       "**png:** 2"
      ],
      "text/plain": [
       "png \n",
       "  2 "
      ]
     },
     "metadata": {},
     "output_type": "display_data"
    }
   ],
   "source": [
    "pdf(\"illustrations/Histone-Cell-Type-Percentage.pdf\", 11, 8.5)\n",
    "gtable(\n",
    "  unit(11, \"in\"),\n",
    "  unit(c(2.5, 2.5, 2.5), \"in\")\n",
    ") %>%\n",
    "  gtable_add_grob(\n",
    "    list(\n",
    "      grob,\n",
    "      set_panel_size(gg_contingency_H3K4, w = unit(4, \"in\"), h = unit(4*2/11, \"in\")),\n",
    "      cbind(\n",
    "        set_panel_size(\n",
    "          gg_association_H3K4,\n",
    "          w = unit(2, \"in\"),\n",
    "          h = unit(2, \"in\")\n",
    "        ),\n",
    "        set_panel_size(\n",
    "          {\n",
    "            gg <- gg_association_H3K4\n",
    "            gg$data <- mutate(gg$data, plot_as_zscore = FALSE)\n",
    "            gg + labs(x = \"GSC Timing Value\", y = \"CySC Timing Value\")\n",
    "          },\n",
    "          w = unit(2, \"in\"),\n",
    "          h = unit(2, \"in\")\n",
    "        )\n",
    "      )\n",
    "    ),\n",
    "    t = 1:3,\n",
    "    l = 1\n",
    "  ) %>%\n",
    "  grid.draw()\n",
    "grid.draw(\n",
    "  textGrob(\n",
    "    \"H3K4me3 Enrichment\",\n",
    "    unit(5.5, \"pt\"),\n",
    "    unit(8.5 * 72 - 5.5, \"pt\"),\n",
    "    hjust = 0,\n",
    "    vjust = 1,\n",
    "    gp = gpar(fontfamily = \"Helvetica\", fontsize = 24)\n",
    "  )\n",
    ")\n",
    "grid.newpage()\n",
    "\n",
    "gtable(\n",
    "  unit(11, \"in\"),\n",
    "  unit(c(2.5, 2.5, 2.5), \"in\")\n",
    ") %>%\n",
    "  gtable_add_grob(\n",
    "    list(\n",
    "      grobK27,\n",
    "      set_panel_size(gg_contingency_H3K27, w = unit(4, \"in\"), h = unit(4*2/11, \"in\")),\n",
    "      cbind(\n",
    "        set_panel_size(\n",
    "          gg_association_H3K27,\n",
    "          w = unit(2, \"in\"),\n",
    "          h = unit(2, \"in\")\n",
    "        ),\n",
    "        set_panel_size(\n",
    "          {\n",
    "            gg <- gg_association_H3K27\n",
    "            gg$data <- mutate(gg$data, plot_as_zscore = FALSE)\n",
    "            gg + labs(x = \"GSC Timing Value\", y = \"CySC Timing Value\")\n",
    "          },\n",
    "          w = unit(2, \"in\"),\n",
    "          h = unit(2, \"in\")\n",
    "        )\n",
    "      )\n",
    "    ),\n",
    "    t = 1:3,\n",
    "    l = 1\n",
    "  ) %>%\n",
    "  grid.draw()\n",
    "grid.draw(\n",
    "  textGrob(\n",
    "    \"H3K27me3 Enrichment\",\n",
    "    unit(5.5, \"pt\"),\n",
    "    unit(8.5 * 72 - 5.5, \"pt\"),\n",
    "    hjust = 0,\n",
    "    vjust = 1,\n",
    "    gp = gpar(fontfamily = \"Helvetica\", fontsize = 24)\n",
    "  )\n",
    ")\n",
    "grid.newpage()\n",
    "grid.draw(grob4)\n",
    "grid.draw(\n",
    "  textGrob(\n",
    "    \"H3K4me3 Enrichment\",\n",
    "    unit(5.5, \"pt\"),\n",
    "    unit(8.5 * 72 - 5.5, \"pt\"),\n",
    "    hjust = 0,\n",
    "    vjust = 1,\n",
    "    gp = gpar(fontfamily = \"Helvetica\", fontsize = 24)\n",
    "  )\n",
    ")\n",
    "\n",
    "grid.newpage()\n",
    "grid.draw(\n",
    "  gtable(unit(c(4, 6), \"in\"), unit(8, \"in\")) %>%\n",
    "    gtable_add_grob(\n",
    "      list(\n",
    "        set_panel_size(\n",
    "          ggk27genes + theme(plot.margin = margin(5.5, 35, 5.5, 5.5)),\n",
    "          w = unit(2, \"in\"),\n",
    "          h = unit(2, \"in\")\n",
    "        ),\n",
    "        set_panel_size(\n",
    "          gggeneschromatin,\n",
    "          w = unit(2, \"in\"),\n",
    "          h = unit(2, \"in\")\n",
    "        )\n",
    "      ),\n",
    "      t = 1,\n",
    "      l = 1:2\n",
    "    )\n",
    ")\n",
    "grid.draw(\n",
    "  textGrob(\n",
    "    \"CySC H3K27me3 Gene Body Enrichment\",\n",
    "    unit(5.5, \"pt\"),\n",
    "    unit(8.5 * 72 - 5.5, \"pt\"),\n",
    "    hjust = 0,\n",
    "    vjust = 1,\n",
    "    gp = gpar(fontfamily = \"Helvetica\", fontsize = 24)\n",
    "  )\n",
    ")\n",
    "dev.off()"
   ]
  },
  {
   "cell_type": "code",
   "execution_count": null,
   "metadata": {
    "vscode": {
     "languageId": "r"
    }
   },
   "outputs": [],
   "source": []
  }
 ],
 "metadata": {
  "kernelspec": {
   "display_name": "R",
   "language": "R",
   "name": "ir"
  },
  "language_info": {
   "codemirror_mode": "r",
   "file_extension": ".r",
   "mimetype": "text/x-r-source",
   "name": "R",
   "pygments_lexer": "r",
   "version": "4.3.3"
  }
 },
 "nbformat": 4,
 "nbformat_minor": 2
}
