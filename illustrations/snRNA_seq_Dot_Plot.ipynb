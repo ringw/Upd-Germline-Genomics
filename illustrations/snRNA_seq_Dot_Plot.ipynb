{
 "cells": [
  {
   "cell_type": "code",
   "execution_count": 20,
   "id": "a258fd09",
   "metadata": {
    "vscode": {
     "languageId": "r"
    }
   },
   "outputs": [],
   "source": [
    "library(celda)\n",
    "library(dplyr)\n",
    "library(forcats)\n",
    "library(glmGamPoi)\n",
    "library(limma)\n",
    "library(SingleCellExperiment)\n",
    "library(stringr)"
   ]
  },
  {
   "cell_type": "code",
   "execution_count": 21,
   "id": "375d824b",
   "metadata": {
    "vscode": {
     "languageId": "r"
    }
   },
   "outputs": [],
   "source": [
    "setwd(\"~/Upd-Germline-Genomics\")"
   ]
  },
  {
   "cell_type": "code",
   "execution_count": 22,
   "id": "336f97fa",
   "metadata": {
    "vscode": {
     "languageId": "r"
    }
   },
   "outputs": [
    {
     "name": "stderr",
     "output_type": "stream",
     "text": [
      "Loading required package: SeuratObject\n",
      "\n",
      "Loading required package: sp\n",
      "\n",
      "\n",
      "Attaching package: ‘sp’\n",
      "\n",
      "\n",
      "The following object is masked from ‘package:IRanges’:\n",
      "\n",
      "    %over%\n",
      "\n",
      "\n",
      "‘SeuratObject’ was built under R 4.3.2 but the current version is\n",
      "4.3.3; it is recomended that you reinstall ‘SeuratObject’ as the ABI\n",
      "for R may have changed\n",
      "\n",
      "\n",
      "Attaching package: ‘SeuratObject’\n",
      "\n",
      "\n",
      "The following object is masked from ‘package:SummarizedExperiment’:\n",
      "\n",
      "    Assays\n",
      "\n",
      "\n",
      "The following object is masked from ‘package:GenomicRanges’:\n",
      "\n",
      "    intersect\n",
      "\n",
      "\n",
      "The following object is masked from ‘package:GenomeInfoDb’:\n",
      "\n",
      "    intersect\n",
      "\n",
      "\n",
      "The following object is masked from ‘package:IRanges’:\n",
      "\n",
      "    intersect\n",
      "\n",
      "\n",
      "The following object is masked from ‘package:S4Vectors’:\n",
      "\n",
      "    intersect\n",
      "\n",
      "\n",
      "The following object is masked from ‘package:BiocGenerics’:\n",
      "\n",
      "    intersect\n",
      "\n",
      "\n",
      "The following object is masked from ‘package:base’:\n",
      "\n",
      "    intersect\n",
      "\n",
      "\n",
      "\n",
      "Attaching package: ‘Seurat’\n",
      "\n",
      "\n",
      "The following object is masked from ‘package:SummarizedExperiment’:\n",
      "\n",
      "    Assays\n",
      "\n",
      "\n"
     ]
    }
   ],
   "source": [
    "library(Matrix) # for t(ann$X)\n",
    "library(MatrixGenerics)\n",
    "library(reticulate)\n",
    "library(Seurat)\n",
    "\n",
    "use_virtualenv(\"r-reticulate\")\n",
    "anndata <- import(\"anndata\")\n",
    "\n",
    "ann <- anndata$read_h5ad(\"testis.h5ad\")\n",
    "wt.counts <- t(ann$X)\n",
    "dimnames(wt.counts) <- list(rownames(ann$var), rownames(ann$obs))"
   ]
  },
  {
   "cell_type": "code",
   "execution_count": 23,
   "id": "dd7b044e",
   "metadata": {
    "vscode": {
     "languageId": "r"
    }
   },
   "outputs": [
    {
     "name": "stdout",
     "output_type": "stream",
     "text": [
      " [1] \"adult fat body\"                               \n",
      " [2] \"adult tracheal cell\"                          \n",
      " [3] \"cyst cell branch a\"                           \n",
      " [4] \"cyst cell branch b\"                           \n",
      " [5] \"cyst cell intermediate\"                       \n",
      " [6] \"cyst stem cell\"                               \n",
      " [7] \"early cyst cell 1\"                            \n",
      " [8] \"early cyst cell 2\"                            \n",
      " [9] \"early elongation stage spermatid\"             \n",
      "[10] \"early-mid elongation-stage spermatid\"         \n",
      "[11] \"head cyst cell\"                               \n",
      "[12] \"hemocyte\"                                     \n",
      "[13] \"late cyst cell branch a\"                      \n",
      "[14] \"late cyst cell branch b\"                      \n",
      "[15] \"late primary spermatocyte\"                    \n",
      "[16] \"male gonad associated epithelium\"             \n",
      "[17] \"mid-late elongation-stage spermatid\"          \n",
      "[18] \"mid-late proliferating spermatogonia\"         \n",
      "[19] \"muscle cell\"                                  \n",
      "[20] \"pigment cell\"                                 \n",
      "[21] \"secretory cell of the male reproductive tract\"\n",
      "[22] \"spermatid\"                                    \n",
      "[23] \"spermatocyte\"                                 \n",
      "[24] \"spermatocyte 0\"                               \n",
      "[25] \"spermatocyte 1\"                               \n",
      "[26] \"spermatocyte 2\"                               \n",
      "[27] \"spermatocyte 3\"                               \n",
      "[28] \"spermatocyte 4\"                               \n",
      "[29] \"spermatocyte 5\"                               \n",
      "[30] \"spermatocyte 6\"                               \n",
      "[31] \"spermatocyte 7a\"                              \n",
      "[32] \"spermatocyte cyst cell branch a\"              \n",
      "[33] \"spermatocyte cyst cell branch b\"              \n",
      "[34] \"spermatogonium\"                               \n",
      "[35] \"spermatogonium-spermatocyte transition\"       \n",
      "[36] \"unknown\"                                      \n"
     ]
    }
   ],
   "source": [
    "print(levels(ann$obs$annotation))\n",
    "annotation <- ann$obs$annotation"
   ]
  },
  {
   "cell_type": "code",
   "execution_count": 24,
   "id": "6d6e4d24",
   "metadata": {
    "vscode": {
     "languageId": "r"
    }
   },
   "outputs": [
    {
     "data": {
      "text/html": [
       "<style>\n",
       ".dl-inline {width: auto; margin:0; padding: 0}\n",
       ".dl-inline>dt, .dl-inline>dd {float: none; width: auto; display: inline-block}\n",
       ".dl-inline>dt::after {content: \":\\0020\"; padding-right: .5ex}\n",
       ".dl-inline>dt:not(:first-of-type) {padding-left: .5ex}\n",
       "</style><dl class=dl-inline><dt>sample1</dt><dd>14827</dd><dt>sample2</dt><dd>13931</dd><dt>sample3</dt><dd>14696</dd><dt>FCA_P</dt><dd>374</dd></dl>\n"
      ],
      "text/latex": [
       "\\begin{description*}\n",
       "\\item[sample1] 14827\n",
       "\\item[sample2] 13931\n",
       "\\item[sample3] 14696\n",
       "\\item[FCA\\textbackslash{}\\_P] 374\n",
       "\\end{description*}\n"
      ],
      "text/markdown": [
       "sample1\n",
       ":   14827sample2\n",
       ":   13931sample3\n",
       ":   14696FCA_P\n",
       ":   374\n",
       "\n"
      ],
      "text/plain": [
       "sample1 sample2 sample3   FCA_P \n",
       "  14827   13931   14696     374 "
      ]
     },
     "metadata": {},
     "output_type": "display_data"
    },
    {
     "data": {
      "text/plain": [
       "class: SingleCellExperiment \n",
       "dim: 15523 43828 \n",
       "metadata(0):\n",
       "assays(1): counts\n",
       "rownames(15523): 128up 14-3-3epsilon ... zyd zye\n",
       "rowData names(0):\n",
       "colnames(43828):\n",
       "  AAACCCACACGGCGTT-6e669170__FCA59_Male_testis_adult_1dWT_Fuller_sample1\n",
       "  AAACCCACATTACTCT-6e669170__FCA59_Male_testis_adult_1dWT_Fuller_sample1\n",
       "  ... FCA_P51_male_testis_P8 FCA_P51_male_testis_P9\n",
       "colData names(1): batch\n",
       "reducedDimNames(0):\n",
       "mainExpName: NULL\n",
       "altExpNames(0):"
      ]
     },
     "metadata": {},
     "output_type": "display_data"
    },
    {
     "name": "stderr",
     "output_type": "stream",
     "text": [
      "--------------------------------------------------\n",
      "\n",
      "Starting DecontX\n",
      "\n",
      "--------------------------------------------------\n",
      "\n",
      "Wed Jul 23 11:36:31 2025 .. Analyzing cells in batch 'sample1'\n",
      "\n",
      "Wed Jul 23 11:36:31 2025 .... Converting to sparse matrix\n",
      "\n",
      "Wed Jul 23 11:36:31 2025 .... Generating UMAP and estimating cell types\n",
      "\n",
      "Found more than one class \"dist\" in cache; using the first, from namespace 'BiocGenerics'\n",
      "\n",
      "Also defined by ‘spam’\n",
      "\n",
      "Found more than one class \"dist\" in cache; using the first, from namespace 'BiocGenerics'\n",
      "\n",
      "Also defined by ‘spam’\n",
      "\n",
      "Found more than one class \"dist\" in cache; using the first, from namespace 'BiocGenerics'\n",
      "\n",
      "Also defined by ‘spam’\n",
      "\n",
      "Wed Jul 23 11:37:00 2025 .... Estimating contamination\n",
      "\n",
      "Wed Jul 23 11:37:02 2025 ...... Completed iteration: 10 | converge: 0.02655\n",
      "\n",
      "Wed Jul 23 11:37:03 2025 ...... Completed iteration: 20 | converge: 0.01059\n",
      "\n",
      "Wed Jul 23 11:37:05 2025 ...... Completed iteration: 30 | converge: 0.006595\n",
      "\n",
      "Wed Jul 23 11:37:06 2025 ...... Completed iteration: 40 | converge: 0.00473\n",
      "\n",
      "Wed Jul 23 11:37:07 2025 ...... Completed iteration: 50 | converge: 0.003698\n",
      "\n",
      "Wed Jul 23 11:37:09 2025 ...... Completed iteration: 60 | converge: 0.002894\n",
      "\n",
      "Wed Jul 23 11:37:10 2025 ...... Completed iteration: 70 | converge: 0.002284\n",
      "\n",
      "Wed Jul 23 11:37:11 2025 ...... Completed iteration: 80 | converge: 0.001827\n",
      "\n",
      "Wed Jul 23 11:37:13 2025 ...... Completed iteration: 90 | converge: 0.002119\n",
      "\n",
      "Wed Jul 23 11:37:14 2025 ...... Completed iteration: 100 | converge: 0.001226\n",
      "\n",
      "Wed Jul 23 11:37:16 2025 ...... Completed iteration: 110 | converge: 0.001201\n",
      "\n",
      "Wed Jul 23 11:37:17 2025 ...... Completed iteration: 120 | converge: 0.001176\n",
      "\n",
      "Wed Jul 23 11:37:17 2025 ...... Completed iteration: 123 | converge: 0.0009887\n",
      "\n",
      "Wed Jul 23 11:37:17 2025 .. Calculating final decontaminated matrix\n",
      "\n",
      "Wed Jul 23 11:37:19 2025 .. Analyzing cells in batch 'sample2'\n",
      "\n",
      "Wed Jul 23 11:37:19 2025 .... Converting to sparse matrix\n",
      "\n",
      "Wed Jul 23 11:37:20 2025 .... Generating UMAP and estimating cell types\n",
      "\n",
      "Found more than one class \"dist\" in cache; using the first, from namespace 'BiocGenerics'\n",
      "\n",
      "Also defined by ‘spam’\n",
      "\n",
      "Found more than one class \"dist\" in cache; using the first, from namespace 'BiocGenerics'\n",
      "\n",
      "Also defined by ‘spam’\n",
      "\n",
      "Found more than one class \"dist\" in cache; using the first, from namespace 'BiocGenerics'\n",
      "\n",
      "Also defined by ‘spam’\n",
      "\n",
      "Wed Jul 23 11:37:48 2025 .... Estimating contamination\n",
      "\n",
      "Wed Jul 23 11:37:50 2025 ...... Completed iteration: 10 | converge: 0.025\n",
      "\n",
      "Wed Jul 23 11:37:51 2025 ...... Completed iteration: 20 | converge: 0.01082\n",
      "\n",
      "Wed Jul 23 11:37:52 2025 ...... Completed iteration: 30 | converge: 0.006567\n",
      "\n",
      "Wed Jul 23 11:37:54 2025 ...... Completed iteration: 40 | converge: 0.004677\n",
      "\n",
      "Wed Jul 23 11:37:55 2025 ...... Completed iteration: 50 | converge: 0.003611\n",
      "\n",
      "Wed Jul 23 11:37:56 2025 ...... Completed iteration: 60 | converge: 0.002915\n",
      "\n",
      "Wed Jul 23 11:37:58 2025 ...... Completed iteration: 70 | converge: 0.002369\n",
      "\n",
      "Wed Jul 23 11:37:59 2025 ...... Completed iteration: 80 | converge: 0.001936\n",
      "\n",
      "Wed Jul 23 11:38:00 2025 ...... Completed iteration: 90 | converge: 0.001591\n",
      "\n",
      "Wed Jul 23 11:38:01 2025 ...... Completed iteration: 100 | converge: 0.00132\n",
      "\n",
      "Wed Jul 23 11:38:03 2025 ...... Completed iteration: 110 | converge: 0.001152\n",
      "\n",
      "Wed Jul 23 11:38:04 2025 ...... Completed iteration: 117 | converge: 0.0009898\n",
      "\n",
      "Wed Jul 23 11:38:04 2025 .. Calculating final decontaminated matrix\n",
      "\n",
      "Wed Jul 23 11:38:06 2025 .. Analyzing cells in batch 'sample3'\n",
      "\n",
      "Wed Jul 23 11:38:06 2025 .... Converting to sparse matrix\n",
      "\n",
      "Wed Jul 23 11:38:06 2025 .... Generating UMAP and estimating cell types\n",
      "\n",
      "Found more than one class \"dist\" in cache; using the first, from namespace 'BiocGenerics'\n",
      "\n",
      "Also defined by ‘spam’\n",
      "\n",
      "Found more than one class \"dist\" in cache; using the first, from namespace 'BiocGenerics'\n",
      "\n",
      "Also defined by ‘spam’\n",
      "\n",
      "Found more than one class \"dist\" in cache; using the first, from namespace 'BiocGenerics'\n",
      "\n",
      "Also defined by ‘spam’\n",
      "\n",
      "Wed Jul 23 11:38:33 2025 .... Estimating contamination\n",
      "\n",
      "Wed Jul 23 11:38:35 2025 ...... Completed iteration: 10 | converge: 0.02306\n",
      "\n",
      "Wed Jul 23 11:38:36 2025 ...... Completed iteration: 20 | converge: 0.01069\n",
      "\n",
      "Wed Jul 23 11:38:38 2025 ...... Completed iteration: 30 | converge: 0.00698\n",
      "\n",
      "Wed Jul 23 11:38:39 2025 ...... Completed iteration: 40 | converge: 0.004816\n",
      "\n",
      "Wed Jul 23 11:38:40 2025 ...... Completed iteration: 50 | converge: 0.003676\n",
      "\n",
      "Wed Jul 23 11:38:42 2025 ...... Completed iteration: 60 | converge: 0.002858\n",
      "\n",
      "Wed Jul 23 11:38:43 2025 ...... Completed iteration: 70 | converge: 0.002277\n",
      "\n",
      "Wed Jul 23 11:38:44 2025 ...... Completed iteration: 80 | converge: 0.001865\n",
      "\n",
      "Wed Jul 23 11:38:46 2025 ...... Completed iteration: 90 | converge: 0.001513\n",
      "\n",
      "Wed Jul 23 11:38:47 2025 ...... Completed iteration: 100 | converge: 0.001245\n",
      "\n",
      "Wed Jul 23 11:38:48 2025 ...... Completed iteration: 110 | converge: 0.001034\n",
      "\n",
      "Wed Jul 23 11:38:49 2025 ...... Completed iteration: 112 | converge: 0.0009969\n",
      "\n",
      "Wed Jul 23 11:38:49 2025 .. Calculating final decontaminated matrix\n",
      "\n",
      "Wed Jul 23 11:38:51 2025 .. Analyzing cells in batch 'FCA_P'\n",
      "\n",
      "Wed Jul 23 11:38:51 2025 .... Converting to sparse matrix\n",
      "\n",
      "Wed Jul 23 11:38:51 2025 .... Generating UMAP and estimating cell types\n",
      "\n",
      "Found more than one class \"dist\" in cache; using the first, from namespace 'BiocGenerics'\n",
      "\n",
      "Also defined by ‘spam’\n",
      "\n",
      "Found more than one class \"dist\" in cache; using the first, from namespace 'BiocGenerics'\n",
      "\n",
      "Also defined by ‘spam’\n",
      "\n",
      "Found more than one class \"dist\" in cache; using the first, from namespace 'BiocGenerics'\n",
      "\n",
      "Also defined by ‘spam’\n",
      "\n",
      "Wed Jul 23 11:38:55 2025 .... Estimating contamination\n",
      "\n",
      "Wed Jul 23 11:38:55 2025 ...... Completed iteration: 10 | converge: 0.01823\n",
      "\n",
      "Wed Jul 23 11:38:55 2025 ...... Completed iteration: 20 | converge: 0.00719\n",
      "\n",
      "Wed Jul 23 11:38:55 2025 ...... Completed iteration: 30 | converge: 0.004458\n",
      "\n",
      "Wed Jul 23 11:38:55 2025 ...... Completed iteration: 40 | converge: 0.002783\n",
      "\n",
      "Wed Jul 23 11:38:55 2025 ...... Completed iteration: 50 | converge: 0.001703\n",
      "\n",
      "Wed Jul 23 11:38:55 2025 ...... Completed iteration: 60 | converge: 0.00143\n",
      "\n",
      "Wed Jul 23 11:38:55 2025 ...... Completed iteration: 64 | converge: 0.0009031\n",
      "\n",
      "Wed Jul 23 11:38:55 2025 .. Calculating final decontaminated matrix\n",
      "\n",
      "--------------------------------------------------\n",
      "\n",
      "Completed DecontX. Total time: 2.408804 mins\n",
      "\n",
      "--------------------------------------------------\n",
      "\n"
     ]
    }
   ],
   "source": [
    "batch <- factor(\n",
    "  str_extract(colnames(wt.counts), \"Fuller.*(sample[123])\", group=1) %>%\n",
    "    replace(\n",
    "      is.na(.),\n",
    "      str_extract(colnames(wt.counts)[is.na(.)], \"FCA_P\")\n",
    "    ),\n",
    "  c(\"sample1\", \"sample2\", \"sample3\", \"FCA_P\")\n",
    ")\n",
    "summary(batch)\n",
    "(sce <- SingleCellExperiment(list(counts = wt.counts), colData = data.frame(batch=batch)))\n",
    "sce <- decontX(sce, batch = sce$batch)"
   ]
  },
  {
   "cell_type": "code",
   "execution_count": 25,
   "id": "7fb615b1",
   "metadata": {
    "vscode": {
     "languageId": "r"
    }
   },
   "outputs": [
    {
     "name": "stderr",
     "output_type": "stream",
     "text": [
      "Warning message:\n",
      "“Key ‘UMAP_’ taken, using ‘decontxsample2umap_’ instead”\n",
      "Warning message:\n",
      "“Key ‘UMAP_’ taken, using ‘decontxsample3umap_’ instead”\n",
      "Warning message:\n",
      "“Key ‘UMAP_’ taken, using ‘decontxfcapumap_’ instead”\n"
     ]
    }
   ],
   "source": [
    "wt <- as.Seurat(sce, counts = \"decontXcounts\", data = NULL)"
   ]
  },
  {
   "cell_type": "code",
   "execution_count": 26,
   "id": "2eefc284",
   "metadata": {
    "vscode": {
     "languageId": "r"
    }
   },
   "outputs": [],
   "source": [
    "Idents(wt) <- annotation\n",
    "saveRDS(wt, \"testis1d.rds\")"
   ]
  },
  {
   "cell_type": "code",
   "execution_count": 27,
   "id": "9f4f51d5",
   "metadata": {
    "vscode": {
     "languageId": "r"
    }
   },
   "outputs": [
    {
     "name": "stdout",
     "output_type": "stream",
     "text": [
      "\u001b[90m# A tibble: 36 × 2\u001b[39m\n",
      "    name value                                        \n",
      "   \u001b[3m\u001b[90m<int>\u001b[39m\u001b[23m \u001b[3m\u001b[90m<chr>\u001b[39m\u001b[23m                                        \n",
      "\u001b[90m 1\u001b[39m     1 adult fat body                               \n",
      "\u001b[90m 2\u001b[39m     2 adult tracheal cell                          \n",
      "\u001b[90m 3\u001b[39m     3 cyst cell branch a                           \n",
      "\u001b[90m 4\u001b[39m     4 cyst cell branch b                           \n",
      "\u001b[90m 5\u001b[39m     5 cyst cell intermediate                       \n",
      "\u001b[90m 6\u001b[39m     6 cyst stem cell                               \n",
      "\u001b[90m 7\u001b[39m     7 early cyst cell 1                            \n",
      "\u001b[90m 8\u001b[39m     8 early cyst cell 2                            \n",
      "\u001b[90m 9\u001b[39m     9 early elongation stage spermatid             \n",
      "\u001b[90m10\u001b[39m    10 early-mid elongation-stage spermatid         \n",
      "\u001b[90m11\u001b[39m    11 head cyst cell                               \n",
      "\u001b[90m12\u001b[39m    12 hemocyte                                     \n",
      "\u001b[90m13\u001b[39m    13 late cyst cell branch a                      \n",
      "\u001b[90m14\u001b[39m    14 late cyst cell branch b                      \n",
      "\u001b[90m15\u001b[39m    15 late primary spermatocyte                    \n",
      "\u001b[90m16\u001b[39m    16 male gonad associated epithelium             \n",
      "\u001b[90m17\u001b[39m    17 mid-late elongation-stage spermatid          \n",
      "\u001b[90m18\u001b[39m    18 mid-late proliferating spermatogonia         \n",
      "\u001b[90m19\u001b[39m    19 muscle cell                                  \n",
      "\u001b[90m20\u001b[39m    20 pigment cell                                 \n",
      "\u001b[90m21\u001b[39m    21 secretory cell of the male reproductive tract\n",
      "\u001b[90m22\u001b[39m    22 spermatid                                    \n",
      "\u001b[90m23\u001b[39m    23 spermatocyte                                 \n",
      "\u001b[90m24\u001b[39m    24 spermatocyte 0                               \n",
      "\u001b[90m25\u001b[39m    25 spermatocyte 1                               \n",
      "\u001b[90m26\u001b[39m    26 spermatocyte 2                               \n",
      "\u001b[90m27\u001b[39m    27 spermatocyte 3                               \n",
      "\u001b[90m28\u001b[39m    28 spermatocyte 4                               \n",
      "\u001b[90m29\u001b[39m    29 spermatocyte 5                               \n",
      "\u001b[90m30\u001b[39m    30 spermatocyte 6                               \n",
      "\u001b[90m31\u001b[39m    31 spermatocyte 7a                              \n",
      "\u001b[90m32\u001b[39m    32 spermatocyte cyst cell branch a              \n",
      "\u001b[90m33\u001b[39m    33 spermatocyte cyst cell branch b              \n",
      "\u001b[90m34\u001b[39m    34 spermatogonium                               \n",
      "\u001b[90m35\u001b[39m    35 spermatogonium-spermatocyte transition       \n",
      "\u001b[90m36\u001b[39m    36 unknown                                      \n"
     ]
    }
   ],
   "source": [
    "print(tibble::enframe(levels(annotation)), n=100)"
   ]
  },
  {
   "cell_type": "code",
   "execution_count": 28,
   "id": "857ac239",
   "metadata": {
    "vscode": {
     "languageId": "r"
    }
   },
   "outputs": [
    {
     "name": "stdout",
     "output_type": "stream",
     "text": [
      "c(\"spermatogonium\", \"mid-late proliferating spermatogonia\", \"spermatogonium-spermatocyte transition\", \n",
      "\"spermatocyte 0\", \"spermatocyte 1\", \"spermatocyte 2\", \"spermatocyte 3\", \n",
      "\"spermatocyte 4\", \"spermatocyte 5\", \"spermatocyte 6\", \"spermatocyte 7a\", \n",
      "\"early elongation stage spermatid\", \"early-mid elongation-stage spermatid\", \n",
      "\"mid-late elongation-stage spermatid\")\n"
     ]
    }
   ],
   "source": [
    "write(deparse(levels(annotation)[c(34,18,35,24:31,9:10,17)]), stdout())"
   ]
  },
  {
   "cell_type": "code",
   "execution_count": 29,
   "id": "d3a13a11",
   "metadata": {
    "vscode": {
     "languageId": "r"
    }
   },
   "outputs": [
    {
     "data": {
      "text/plain": [
       "                                               batch\n",
       "annotation                                      sample1 sample2 sample3 FCA_P\n",
       "  adult fat body                                     31      48      30     0\n",
       "  adult tracheal cell                               228     189     202     5\n",
       "  cyst cell branch a                                 91      93     115     3\n",
       "  cyst cell branch b                                115     102      94     1\n",
       "  cyst cell intermediate                            598     509     690    17\n",
       "  cyst stem cell                                    112     104     128     3\n",
       "  early cyst cell 1                                 229     219     209     6\n",
       "  early cyst cell 2                                 122     117     114     0\n",
       "  early elongation stage spermatid                 2306    2128    2247    74\n",
       "  early-mid elongation-stage spermatid              319     298     328     4\n",
       "  head cyst cell                                    462     439     464    11\n",
       "  hemocyte                                          271     267     262     6\n",
       "  late cyst cell branch a                            65      45      46     2\n",
       "  late cyst cell branch b                           106     120      90     6\n",
       "  late primary spermatocyte                          91     110     100     2\n",
       "  male gonad associated epithelium                 3788    3513    3762    85\n",
       "  mid-late elongation-stage spermatid               738     728     762    12\n",
       "  mid-late proliferating spermatogonia              159     122     120     5\n",
       "  muscle cell                                      1133    1141    1239    34\n",
       "  pigment cell                                      148     156     171     3\n",
       "  secretory cell of the male reproductive tract      30      34      53     1\n",
       "  spermatid                                         207     221     215     3\n",
       "  spermatocyte                                     1168    1239    1270    30\n",
       "  spermatocyte 0                                    370     288     330    11\n",
       "  spermatocyte 1                                    195     191     196     4\n",
       "  spermatocyte 2                                    207     169     165     3\n",
       "  spermatocyte 3                                    108     113     119     4\n",
       "  spermatocyte 4                                     76      43      27     1\n",
       "  spermatocyte 5                                     75      81      25     6\n",
       "  spermatocyte 6                                     90      79      33     3\n",
       "  spermatocyte 7a                                   202     191     200     2\n",
       "  spermatocyte cyst cell branch a                   179     151     161     2\n",
       "  spermatocyte cyst cell branch b                    70      65      80     3\n",
       "  spermatogonium                                    254     202     253     8\n",
       "  spermatogonium-spermatocyte transition             81      67      54     2\n",
       "  unknown                                           403     349     342    12"
      ]
     },
     "metadata": {},
     "output_type": "display_data"
    }
   ],
   "source": [
    "table(annotation, batch)"
   ]
  },
  {
   "cell_type": "code",
   "execution_count": 30,
   "id": "b44a2fb3",
   "metadata": {
    "vscode": {
     "languageId": "r"
    }
   },
   "outputs": [
    {
     "name": "stderr",
     "output_type": "stream",
     "text": [
      "Aggregating assay 'counts' using 'custom function'.\n",
      "\n"
     ]
    },
    {
     "name": "stderr",
     "output_type": "stream",
     "text": [
      "Aggregating assay 'decontXcounts' using 'custom function'.\n",
      "\n",
      "Aggregating reducedDim 'decontX_sample1_UMAP' using 'rowMeans'.\n",
      "\n",
      "Aggregating reducedDim 'decontX_sample2_UMAP' using 'rowMeans'.\n",
      "\n",
      "Aggregating reducedDim 'decontX_sample3_UMAP' using 'rowMeans'.\n",
      "\n",
      "Aggregating reducedDim 'decontX_FCA_P_UMAP' using 'rowMeans'.\n",
      "\n"
     ]
    },
    {
     "data": {
      "text/plain": [
       "class: SingleCellExperiment \n",
       "dim: 15523 142 \n",
       "metadata(0):\n",
       "assays(2): counts decontXcounts\n",
       "rownames(15523): 128up 14-3-3epsilon ... zyd zye\n",
       "rowData names(0):\n",
       "colnames(142): sample1.male gonad associated epithelium\n",
       "  sample1.mid-late elongation-stage spermatid ... FCA_P.spermatocyte 4\n",
       "  FCA_P.secretory cell of the male reproductive tract\n",
       "colData names(2): batch annotation\n",
       "reducedDimNames(4): decontX_sample1_UMAP decontX_sample2_UMAP\n",
       "  decontX_sample3_UMAP decontX_FCA_P_UMAP\n",
       "mainExpName: NULL\n",
       "altExpNames(0):"
      ]
     },
     "metadata": {},
     "output_type": "display_data"
    }
   ],
   "source": [
    "library(MatrixGenerics)\n",
    "(summarized <- pseudobulk(sce, vars(batch, annotation), aggregation_functions = list(counts = rowSums2, decontXcounts = rowSums2)))"
   ]
  },
  {
   "cell_type": "code",
   "execution_count": 38,
   "id": "82f686f7",
   "metadata": {
    "vscode": {
     "languageId": "r"
    }
   },
   "outputs": [
    {
     "name": "stderr",
     "output_type": "stream",
     "text": [
      "Aggregating assay 'counts' using 'custom function'.\n",
      "\n",
      "Aggregating assay 'decontXcounts' using 'custom function'.\n",
      "\n",
      "Aggregating reducedDim 'decontX_sample1_UMAP' using 'rowMeans'.\n",
      "\n",
      "Aggregating reducedDim 'decontX_sample2_UMAP' using 'rowMeans'.\n",
      "\n",
      "Aggregating reducedDim 'decontX_sample3_UMAP' using 'rowMeans'.\n",
      "\n",
      "Aggregating reducedDim 'decontX_FCA_P_UMAP' using 'rowMeans'.\n",
      "\n"
     ]
    },
    {
     "data": {
      "text/plain": [
       "class: SingleCellExperiment \n",
       "dim: 15523 36 \n",
       "metadata(0):\n",
       "assays(2): counts decontXcounts\n",
       "rownames(15523): 128up 14-3-3epsilon ... zyd zye\n",
       "rowData names(0):\n",
       "colnames(36): male gonad associated epithelium mid-late\n",
       "  elongation-stage spermatid ... late cyst cell branch a adult fat body\n",
       "colData names(1): annotation\n",
       "reducedDimNames(4): decontX_sample1_UMAP decontX_sample2_UMAP\n",
       "  decontX_sample3_UMAP decontX_FCA_P_UMAP\n",
       "mainExpName: NULL\n",
       "altExpNames(0):"
      ]
     },
     "metadata": {},
     "output_type": "display_data"
    },
    {
     "data": {
      "text/html": [
       "<style>\n",
       ".list-inline {list-style: none; margin:0; padding: 0}\n",
       ".list-inline>li {display: inline-block}\n",
       ".list-inline>li:not(:last-child)::after {content: \"\\00b7\"; padding: 0 .5ex}\n",
       "</style>\n",
       "<ol class=list-inline><li>'male gonad associated epithelium'</li><li>'mid-late elongation-stage spermatid'</li><li>'spermatid'</li><li>'unknown'</li><li>'early elongation stage spermatid'</li><li>'cyst cell intermediate'</li><li>'pigment cell'</li><li>'spermatocyte'</li><li>'adult tracheal cell'</li><li>'head cyst cell'</li><li>'muscle cell'</li><li>'spermatocyte 2'</li><li>'spermatogonium'</li><li>'secretory cell of the male reproductive tract'</li><li>'early cyst cell 1'</li><li>'late primary spermatocyte'</li><li>'spermatocyte 7a'</li><li>'spermatocyte cyst cell branch b'</li><li>'spermatocyte cyst cell branch a'</li><li>'early-mid elongation-stage spermatid'</li><li>'hemocyte'</li><li>'spermatocyte 0'</li><li>'early cyst cell 2'</li><li>'cyst stem cell'</li><li>'spermatocyte 1'</li><li>'spermatocyte 6'</li><li>'mid-late proliferating spermatogonia'</li><li>'spermatogonium-spermatocyte transition'</li><li>'cyst cell branch b'</li><li>'cyst cell branch a'</li><li>'late cyst cell branch b'</li><li>'spermatocyte 3'</li><li>'spermatocyte 5'</li><li>'spermatocyte 4'</li><li>'late cyst cell branch a'</li><li>'adult fat body'</li></ol>\n"
      ],
      "text/latex": [
       "\\begin{enumerate*}\n",
       "\\item 'male gonad associated epithelium'\n",
       "\\item 'mid-late elongation-stage spermatid'\n",
       "\\item 'spermatid'\n",
       "\\item 'unknown'\n",
       "\\item 'early elongation stage spermatid'\n",
       "\\item 'cyst cell intermediate'\n",
       "\\item 'pigment cell'\n",
       "\\item 'spermatocyte'\n",
       "\\item 'adult tracheal cell'\n",
       "\\item 'head cyst cell'\n",
       "\\item 'muscle cell'\n",
       "\\item 'spermatocyte 2'\n",
       "\\item 'spermatogonium'\n",
       "\\item 'secretory cell of the male reproductive tract'\n",
       "\\item 'early cyst cell 1'\n",
       "\\item 'late primary spermatocyte'\n",
       "\\item 'spermatocyte 7a'\n",
       "\\item 'spermatocyte cyst cell branch b'\n",
       "\\item 'spermatocyte cyst cell branch a'\n",
       "\\item 'early-mid elongation-stage spermatid'\n",
       "\\item 'hemocyte'\n",
       "\\item 'spermatocyte 0'\n",
       "\\item 'early cyst cell 2'\n",
       "\\item 'cyst stem cell'\n",
       "\\item 'spermatocyte 1'\n",
       "\\item 'spermatocyte 6'\n",
       "\\item 'mid-late proliferating spermatogonia'\n",
       "\\item 'spermatogonium-spermatocyte transition'\n",
       "\\item 'cyst cell branch b'\n",
       "\\item 'cyst cell branch a'\n",
       "\\item 'late cyst cell branch b'\n",
       "\\item 'spermatocyte 3'\n",
       "\\item 'spermatocyte 5'\n",
       "\\item 'spermatocyte 4'\n",
       "\\item 'late cyst cell branch a'\n",
       "\\item 'adult fat body'\n",
       "\\end{enumerate*}\n"
      ],
      "text/markdown": [
       "1. 'male gonad associated epithelium'\n",
       "2. 'mid-late elongation-stage spermatid'\n",
       "3. 'spermatid'\n",
       "4. 'unknown'\n",
       "5. 'early elongation stage spermatid'\n",
       "6. 'cyst cell intermediate'\n",
       "7. 'pigment cell'\n",
       "8. 'spermatocyte'\n",
       "9. 'adult tracheal cell'\n",
       "10. 'head cyst cell'\n",
       "11. 'muscle cell'\n",
       "12. 'spermatocyte 2'\n",
       "13. 'spermatogonium'\n",
       "14. 'secretory cell of the male reproductive tract'\n",
       "15. 'early cyst cell 1'\n",
       "16. 'late primary spermatocyte'\n",
       "17. 'spermatocyte 7a'\n",
       "18. 'spermatocyte cyst cell branch b'\n",
       "19. 'spermatocyte cyst cell branch a'\n",
       "20. 'early-mid elongation-stage spermatid'\n",
       "21. 'hemocyte'\n",
       "22. 'spermatocyte 0'\n",
       "23. 'early cyst cell 2'\n",
       "24. 'cyst stem cell'\n",
       "25. 'spermatocyte 1'\n",
       "26. 'spermatocyte 6'\n",
       "27. 'mid-late proliferating spermatogonia'\n",
       "28. 'spermatogonium-spermatocyte transition'\n",
       "29. 'cyst cell branch b'\n",
       "30. 'cyst cell branch a'\n",
       "31. 'late cyst cell branch b'\n",
       "32. 'spermatocyte 3'\n",
       "33. 'spermatocyte 5'\n",
       "34. 'spermatocyte 4'\n",
       "35. 'late cyst cell branch a'\n",
       "36. 'adult fat body'\n",
       "\n",
       "\n"
      ],
      "text/plain": [
       " [1] \"male gonad associated epithelium\"             \n",
       " [2] \"mid-late elongation-stage spermatid\"          \n",
       " [3] \"spermatid\"                                    \n",
       " [4] \"unknown\"                                      \n",
       " [5] \"early elongation stage spermatid\"             \n",
       " [6] \"cyst cell intermediate\"                       \n",
       " [7] \"pigment cell\"                                 \n",
       " [8] \"spermatocyte\"                                 \n",
       " [9] \"adult tracheal cell\"                          \n",
       "[10] \"head cyst cell\"                               \n",
       "[11] \"muscle cell\"                                  \n",
       "[12] \"spermatocyte 2\"                               \n",
       "[13] \"spermatogonium\"                               \n",
       "[14] \"secretory cell of the male reproductive tract\"\n",
       "[15] \"early cyst cell 1\"                            \n",
       "[16] \"late primary spermatocyte\"                    \n",
       "[17] \"spermatocyte 7a\"                              \n",
       "[18] \"spermatocyte cyst cell branch b\"              \n",
       "[19] \"spermatocyte cyst cell branch a\"              \n",
       "[20] \"early-mid elongation-stage spermatid\"         \n",
       "[21] \"hemocyte\"                                     \n",
       "[22] \"spermatocyte 0\"                               \n",
       "[23] \"early cyst cell 2\"                            \n",
       "[24] \"cyst stem cell\"                               \n",
       "[25] \"spermatocyte 1\"                               \n",
       "[26] \"spermatocyte 6\"                               \n",
       "[27] \"mid-late proliferating spermatogonia\"         \n",
       "[28] \"spermatogonium-spermatocyte transition\"       \n",
       "[29] \"cyst cell branch b\"                           \n",
       "[30] \"cyst cell branch a\"                           \n",
       "[31] \"late cyst cell branch b\"                      \n",
       "[32] \"spermatocyte 3\"                               \n",
       "[33] \"spermatocyte 5\"                               \n",
       "[34] \"spermatocyte 4\"                               \n",
       "[35] \"late cyst cell branch a\"                      \n",
       "[36] \"adult fat body\"                               "
      ]
     },
     "metadata": {},
     "output_type": "display_data"
    }
   ],
   "source": [
    "(summarized_gross_total <- pseudobulk(sce, vars(annotation), aggregation_functions = list(counts = rowSums2, decontXcounts = rowSums2)))\n",
    "colnames(summarized_gross_total)"
   ]
  },
  {
   "cell_type": "code",
   "execution_count": 31,
   "id": "f705dbea",
   "metadata": {
    "vscode": {
     "languageId": "r"
    }
   },
   "outputs": [
    {
     "name": "stderr",
     "output_type": "stream",
     "text": [
      "Warning message:\n",
      "“Partial NA coefficients for 10866 probe(s)”\n"
     ]
    },
    {
     "data": {
      "text/html": [
       "<table class=\"dataframe\">\n",
       "<caption>A matrix: 6 × 38 of type dbl</caption>\n",
       "<thead>\n",
       "\t<tr><th></th><th scope=col>annotationadult fat body</th><th scope=col>annotationadult tracheal cell</th><th scope=col>annotationcyst cell branch a</th><th scope=col>annotationcyst cell branch b</th><th scope=col>annotationcyst cell intermediate</th><th scope=col>annotationcyst stem cell</th><th scope=col>annotationearly cyst cell 1</th><th scope=col>annotationearly cyst cell 2</th><th scope=col>annotationearly elongation stage spermatid</th><th scope=col>annotationearly-mid elongation-stage spermatid</th><th scope=col>⋯</th><th scope=col>annotationspermatocyte 5</th><th scope=col>annotationspermatocyte 6</th><th scope=col>annotationspermatocyte 7a</th><th scope=col>annotationspermatocyte cyst cell branch a</th><th scope=col>annotationspermatocyte cyst cell branch b</th><th scope=col>annotationspermatogonium</th><th scope=col>annotationspermatogonium-spermatocyte transition</th><th scope=col>annotationunknown</th><th scope=col>batchsample2</th><th scope=col>batchsample3</th></tr>\n",
       "</thead>\n",
       "<tbody>\n",
       "\t<tr><th scope=row>128up</th><td> 1.8142640</td><td>3.213685</td><td>0.1819429</td><td>0.4011659</td><td>-3.098416</td><td>      NA</td><td>0.6239389</td><td>1.394888</td><td>6.897048</td><td>4.7769297</td><td>⋯</td><td>  3.664591</td><td>3.0040417</td><td> 3.890769</td><td>1.305295</td><td>0.8189943</td><td>4.712853</td><td>3.344560</td><td>4.477729</td><td> 0.81888229</td><td> 0.51283134</td></tr>\n",
       "\t<tr><th scope=row>14-3-3epsilon</th><td> 5.3140243</td><td>7.014569</td><td>6.6917422</td><td>6.6565718</td><td> 8.284844</td><td>7.289364</td><td>7.7232764</td><td>6.998530</td><td>9.647816</td><td>7.6756998</td><td>⋯</td><td>  5.771149</td><td>5.6820313</td><td> 6.842769</td><td>7.121466</td><td>6.3183522</td><td>8.087183</td><td>6.773634</td><td>7.774854</td><td>-0.04905309</td><td>-0.09753202</td></tr>\n",
       "\t<tr><th scope=row>14-3-3zeta</th><td> 4.5192487</td><td>7.349443</td><td>5.9405198</td><td>6.2417913</td><td> 7.979904</td><td>7.178544</td><td>7.6406941</td><td>6.719419</td><td>8.743334</td><td>6.7290416</td><td>⋯</td><td>  4.333515</td><td>3.7900083</td><td> 5.611439</td><td>6.653233</td><td>5.8773662</td><td>7.293505</td><td>6.088321</td><td>7.457410</td><td>-0.04462355</td><td>-0.05746834</td></tr>\n",
       "\t<tr><th scope=row>140up</th><td> 0.9978578</td><td>2.132364</td><td>0.9604994</td><td>2.1598812</td><td>-3.073873</td><td>1.987501</td><td>2.8724565</td><td>2.918550</td><td>6.028683</td><td>4.0727656</td><td>⋯</td><td>  3.216895</td><td>2.7157506</td><td> 2.954382</td><td>2.714089</td><td>1.5386151</td><td>4.347409</td><td>2.982496</td><td>3.637699</td><td> 0.02160886</td><td> 0.21469935</td></tr>\n",
       "\t<tr><th scope=row>18SrRNA-Psi:CR41602</th><td> 2.2453512</td><td>2.358935</td><td>2.2102081</td><td>2.2579855</td><td> 4.639362</td><td>2.181282</td><td>3.5436357</td><td>2.961712</td><td>5.731590</td><td>3.1331852</td><td>⋯</td><td>  1.951838</td><td>2.1089436</td><td> 5.117632</td><td>2.678344</td><td>2.2240076</td><td>3.872893</td><td>3.154543</td><td>3.670325</td><td> 0.07077730</td><td>-0.19685543</td></tr>\n",
       "\t<tr><th scope=row>18w</th><td>-0.7591833</td><td>7.103690</td><td>2.4907003</td><td>3.1365304</td><td> 6.846097</td><td>6.526905</td><td>8.0759052</td><td>6.725990</td><td>2.096979</td><td>0.3530108</td><td>⋯</td><td>-14.603437</td><td>0.1807476</td><td>-8.712533</td><td>4.512785</td><td>4.1972073</td><td>      NA</td><td>      NA</td><td>2.613817</td><td> 0.31069088</td><td>-5.26773825</td></tr>\n",
       "</tbody>\n",
       "</table>\n"
      ],
      "text/latex": [
       "A matrix: 6 × 38 of type dbl\n",
       "\\begin{tabular}{r|lllllllllllllllllllll}\n",
       "  & annotationadult fat body & annotationadult tracheal cell & annotationcyst cell branch a & annotationcyst cell branch b & annotationcyst cell intermediate & annotationcyst stem cell & annotationearly cyst cell 1 & annotationearly cyst cell 2 & annotationearly elongation stage spermatid & annotationearly-mid elongation-stage spermatid & ⋯ & annotationspermatocyte 5 & annotationspermatocyte 6 & annotationspermatocyte 7a & annotationspermatocyte cyst cell branch a & annotationspermatocyte cyst cell branch b & annotationspermatogonium & annotationspermatogonium-spermatocyte transition & annotationunknown & batchsample2 & batchsample3\\\\\n",
       "\\hline\n",
       "\t128up &  1.8142640 & 3.213685 & 0.1819429 & 0.4011659 & -3.098416 &       NA & 0.6239389 & 1.394888 & 6.897048 & 4.7769297 & ⋯ &   3.664591 & 3.0040417 &  3.890769 & 1.305295 & 0.8189943 & 4.712853 & 3.344560 & 4.477729 &  0.81888229 &  0.51283134\\\\\n",
       "\t14-3-3epsilon &  5.3140243 & 7.014569 & 6.6917422 & 6.6565718 &  8.284844 & 7.289364 & 7.7232764 & 6.998530 & 9.647816 & 7.6756998 & ⋯ &   5.771149 & 5.6820313 &  6.842769 & 7.121466 & 6.3183522 & 8.087183 & 6.773634 & 7.774854 & -0.04905309 & -0.09753202\\\\\n",
       "\t14-3-3zeta &  4.5192487 & 7.349443 & 5.9405198 & 6.2417913 &  7.979904 & 7.178544 & 7.6406941 & 6.719419 & 8.743334 & 6.7290416 & ⋯ &   4.333515 & 3.7900083 &  5.611439 & 6.653233 & 5.8773662 & 7.293505 & 6.088321 & 7.457410 & -0.04462355 & -0.05746834\\\\\n",
       "\t140up &  0.9978578 & 2.132364 & 0.9604994 & 2.1598812 & -3.073873 & 1.987501 & 2.8724565 & 2.918550 & 6.028683 & 4.0727656 & ⋯ &   3.216895 & 2.7157506 &  2.954382 & 2.714089 & 1.5386151 & 4.347409 & 2.982496 & 3.637699 &  0.02160886 &  0.21469935\\\\\n",
       "\t18SrRNA-Psi:CR41602 &  2.2453512 & 2.358935 & 2.2102081 & 2.2579855 &  4.639362 & 2.181282 & 3.5436357 & 2.961712 & 5.731590 & 3.1331852 & ⋯ &   1.951838 & 2.1089436 &  5.117632 & 2.678344 & 2.2240076 & 3.872893 & 3.154543 & 3.670325 &  0.07077730 & -0.19685543\\\\\n",
       "\t18w & -0.7591833 & 7.103690 & 2.4907003 & 3.1365304 &  6.846097 & 6.526905 & 8.0759052 & 6.725990 & 2.096979 & 0.3530108 & ⋯ & -14.603437 & 0.1807476 & -8.712533 & 4.512785 & 4.1972073 &       NA &       NA & 2.613817 &  0.31069088 & -5.26773825\\\\\n",
       "\\end{tabular}\n"
      ],
      "text/markdown": [
       "\n",
       "A matrix: 6 × 38 of type dbl\n",
       "\n",
       "| <!--/--> | annotationadult fat body | annotationadult tracheal cell | annotationcyst cell branch a | annotationcyst cell branch b | annotationcyst cell intermediate | annotationcyst stem cell | annotationearly cyst cell 1 | annotationearly cyst cell 2 | annotationearly elongation stage spermatid | annotationearly-mid elongation-stage spermatid | ⋯ | annotationspermatocyte 5 | annotationspermatocyte 6 | annotationspermatocyte 7a | annotationspermatocyte cyst cell branch a | annotationspermatocyte cyst cell branch b | annotationspermatogonium | annotationspermatogonium-spermatocyte transition | annotationunknown | batchsample2 | batchsample3 |\n",
       "|---|---|---|---|---|---|---|---|---|---|---|---|---|---|---|---|---|---|---|---|---|---|\n",
       "| 128up |  1.8142640 | 3.213685 | 0.1819429 | 0.4011659 | -3.098416 |       NA | 0.6239389 | 1.394888 | 6.897048 | 4.7769297 | ⋯ |   3.664591 | 3.0040417 |  3.890769 | 1.305295 | 0.8189943 | 4.712853 | 3.344560 | 4.477729 |  0.81888229 |  0.51283134 |\n",
       "| 14-3-3epsilon |  5.3140243 | 7.014569 | 6.6917422 | 6.6565718 |  8.284844 | 7.289364 | 7.7232764 | 6.998530 | 9.647816 | 7.6756998 | ⋯ |   5.771149 | 5.6820313 |  6.842769 | 7.121466 | 6.3183522 | 8.087183 | 6.773634 | 7.774854 | -0.04905309 | -0.09753202 |\n",
       "| 14-3-3zeta |  4.5192487 | 7.349443 | 5.9405198 | 6.2417913 |  7.979904 | 7.178544 | 7.6406941 | 6.719419 | 8.743334 | 6.7290416 | ⋯ |   4.333515 | 3.7900083 |  5.611439 | 6.653233 | 5.8773662 | 7.293505 | 6.088321 | 7.457410 | -0.04462355 | -0.05746834 |\n",
       "| 140up |  0.9978578 | 2.132364 | 0.9604994 | 2.1598812 | -3.073873 | 1.987501 | 2.8724565 | 2.918550 | 6.028683 | 4.0727656 | ⋯ |   3.216895 | 2.7157506 |  2.954382 | 2.714089 | 1.5386151 | 4.347409 | 2.982496 | 3.637699 |  0.02160886 |  0.21469935 |\n",
       "| 18SrRNA-Psi:CR41602 |  2.2453512 | 2.358935 | 2.2102081 | 2.2579855 |  4.639362 | 2.181282 | 3.5436357 | 2.961712 | 5.731590 | 3.1331852 | ⋯ |   1.951838 | 2.1089436 |  5.117632 | 2.678344 | 2.2240076 | 3.872893 | 3.154543 | 3.670325 |  0.07077730 | -0.19685543 |\n",
       "| 18w | -0.7591833 | 7.103690 | 2.4907003 | 3.1365304 |  6.846097 | 6.526905 | 8.0759052 | 6.725990 | 2.096979 | 0.3530108 | ⋯ | -14.603437 | 0.1807476 | -8.712533 | 4.512785 | 4.1972073 |       NA |       NA | 2.613817 |  0.31069088 | -5.26773825 |\n",
       "\n"
      ],
      "text/plain": [
       "                    annotationadult fat body annotationadult tracheal cell\n",
       "128up                1.8142640               3.213685                     \n",
       "14-3-3epsilon        5.3140243               7.014569                     \n",
       "14-3-3zeta           4.5192487               7.349443                     \n",
       "140up                0.9978578               2.132364                     \n",
       "18SrRNA-Psi:CR41602  2.2453512               2.358935                     \n",
       "18w                 -0.7591833               7.103690                     \n",
       "                    annotationcyst cell branch a annotationcyst cell branch b\n",
       "128up               0.1819429                    0.4011659                   \n",
       "14-3-3epsilon       6.6917422                    6.6565718                   \n",
       "14-3-3zeta          5.9405198                    6.2417913                   \n",
       "140up               0.9604994                    2.1598812                   \n",
       "18SrRNA-Psi:CR41602 2.2102081                    2.2579855                   \n",
       "18w                 2.4907003                    3.1365304                   \n",
       "                    annotationcyst cell intermediate annotationcyst stem cell\n",
       "128up               -3.098416                              NA                \n",
       "14-3-3epsilon        8.284844                        7.289364                \n",
       "14-3-3zeta           7.979904                        7.178544                \n",
       "140up               -3.073873                        1.987501                \n",
       "18SrRNA-Psi:CR41602  4.639362                        2.181282                \n",
       "18w                  6.846097                        6.526905                \n",
       "                    annotationearly cyst cell 1 annotationearly cyst cell 2\n",
       "128up               0.6239389                   1.394888                   \n",
       "14-3-3epsilon       7.7232764                   6.998530                   \n",
       "14-3-3zeta          7.6406941                   6.719419                   \n",
       "140up               2.8724565                   2.918550                   \n",
       "18SrRNA-Psi:CR41602 3.5436357                   2.961712                   \n",
       "18w                 8.0759052                   6.725990                   \n",
       "                    annotationearly elongation stage spermatid\n",
       "128up               6.897048                                  \n",
       "14-3-3epsilon       9.647816                                  \n",
       "14-3-3zeta          8.743334                                  \n",
       "140up               6.028683                                  \n",
       "18SrRNA-Psi:CR41602 5.731590                                  \n",
       "18w                 2.096979                                  \n",
       "                    annotationearly-mid elongation-stage spermatid ⋯\n",
       "128up               4.7769297                                      ⋯\n",
       "14-3-3epsilon       7.6756998                                      ⋯\n",
       "14-3-3zeta          6.7290416                                      ⋯\n",
       "140up               4.0727656                                      ⋯\n",
       "18SrRNA-Psi:CR41602 3.1331852                                      ⋯\n",
       "18w                 0.3530108                                      ⋯\n",
       "                    annotationspermatocyte 5 annotationspermatocyte 6\n",
       "128up                 3.664591               3.0040417               \n",
       "14-3-3epsilon         5.771149               5.6820313               \n",
       "14-3-3zeta            4.333515               3.7900083               \n",
       "140up                 3.216895               2.7157506               \n",
       "18SrRNA-Psi:CR41602   1.951838               2.1089436               \n",
       "18w                 -14.603437               0.1807476               \n",
       "                    annotationspermatocyte 7a\n",
       "128up                3.890769                \n",
       "14-3-3epsilon        6.842769                \n",
       "14-3-3zeta           5.611439                \n",
       "140up                2.954382                \n",
       "18SrRNA-Psi:CR41602  5.117632                \n",
       "18w                 -8.712533                \n",
       "                    annotationspermatocyte cyst cell branch a\n",
       "128up               1.305295                                 \n",
       "14-3-3epsilon       7.121466                                 \n",
       "14-3-3zeta          6.653233                                 \n",
       "140up               2.714089                                 \n",
       "18SrRNA-Psi:CR41602 2.678344                                 \n",
       "18w                 4.512785                                 \n",
       "                    annotationspermatocyte cyst cell branch b\n",
       "128up               0.8189943                                \n",
       "14-3-3epsilon       6.3183522                                \n",
       "14-3-3zeta          5.8773662                                \n",
       "140up               1.5386151                                \n",
       "18SrRNA-Psi:CR41602 2.2240076                                \n",
       "18w                 4.1972073                                \n",
       "                    annotationspermatogonium\n",
       "128up               4.712853                \n",
       "14-3-3epsilon       8.087183                \n",
       "14-3-3zeta          7.293505                \n",
       "140up               4.347409                \n",
       "18SrRNA-Psi:CR41602 3.872893                \n",
       "18w                       NA                \n",
       "                    annotationspermatogonium-spermatocyte transition\n",
       "128up               3.344560                                        \n",
       "14-3-3epsilon       6.773634                                        \n",
       "14-3-3zeta          6.088321                                        \n",
       "140up               2.982496                                        \n",
       "18SrRNA-Psi:CR41602 3.154543                                        \n",
       "18w                       NA                                        \n",
       "                    annotationunknown batchsample2 batchsample3\n",
       "128up               4.477729           0.81888229   0.51283134 \n",
       "14-3-3epsilon       7.774854          -0.04905309  -0.09753202 \n",
       "14-3-3zeta          7.457410          -0.04462355  -0.05746834 \n",
       "140up               3.637699           0.02160886   0.21469935 \n",
       "18SrRNA-Psi:CR41602 3.670325           0.07077730  -0.19685543 \n",
       "18w                 2.613817           0.31069088  -5.26773825 "
      ]
     },
     "metadata": {},
     "output_type": "display_data"
    }
   ],
   "source": [
    "library(limma)\n",
    "head(\n",
    "  (\n",
    "    lm <- lmFit(\n",
    "      log(assay(summarized, \"decontXcounts\"))[, summarized$batch != \"FCA_P\"],\n",
    "      subset(\n",
    "        model.matrix(~ 0 + annotation + batch, colData(summarized)),\n",
    "        summarized$batch != \"FCA_P\",\n",
    "        select = -batchFCA_P\n",
    "      )\n",
    "    )\n",
    "  )$coefficients\n",
    ")"
   ]
  },
  {
   "cell_type": "code",
   "execution_count": 32,
   "id": "3a7e6695",
   "metadata": {
    "vscode": {
     "languageId": "r"
    }
   },
   "outputs": [
    {
     "data": {
      "text/html": [
       "<table class=\"dataframe\">\n",
       "<caption>A matrix: 6 × 36 of type dbl</caption>\n",
       "<thead>\n",
       "\t<tr><th></th><th scope=col>annotationadult fat body</th><th scope=col>annotationadult tracheal cell</th><th scope=col>annotationcyst cell branch a</th><th scope=col>annotationcyst cell branch b</th><th scope=col>annotationcyst cell intermediate</th><th scope=col>annotationcyst stem cell</th><th scope=col>annotationearly cyst cell 1</th><th scope=col>annotationearly cyst cell 2</th><th scope=col>annotationearly elongation stage spermatid</th><th scope=col>annotationearly-mid elongation-stage spermatid</th><th scope=col>⋯</th><th scope=col>annotationspermatocyte 3</th><th scope=col>annotationspermatocyte 4</th><th scope=col>annotationspermatocyte 5</th><th scope=col>annotationspermatocyte 6</th><th scope=col>annotationspermatocyte 7a</th><th scope=col>annotationspermatocyte cyst cell branch a</th><th scope=col>annotationspermatocyte cyst cell branch b</th><th scope=col>annotationspermatogonium</th><th scope=col>annotationspermatogonium-spermatocyte transition</th><th scope=col>annotationunknown</th></tr>\n",
       "</thead>\n",
       "<tbody>\n",
       "\t<tr><th scope=row>nos</th><td>1.05129142</td><td> -3.828690</td><td>        NA</td><td>         NA</td><td>-21.615434</td><td>       NA</td><td>      NA</td><td>        NA</td><td> 0.5546188</td><td>-0.1526972</td><td>⋯</td><td> 1.2185538</td><td> 1.0838066</td><td>0.7602310</td><td>0.5893842</td><td> 0.1321814</td><td>         NA</td><td>         NA</td><td> 2.10429221</td><td>2.0314698</td><td>-0.06180928</td></tr>\n",
       "\t<tr><th scope=row>vas</th><td>1.23327233</td><td> -3.649033</td><td>-15.202056</td><td>-15.0120134</td><td>-22.553581</td><td>       NA</td><td>      NA</td><td>-14.899424</td><td> 1.1053748</td><td> 0.5719519</td><td>⋯</td><td> 1.8450760</td><td> 1.5067083</td><td>1.1669143</td><td>0.6882314</td><td> 0.3408969</td><td>-14.4158660</td><td>-14.5053686</td><td> 2.28155241</td><td>2.1152012</td><td> 0.44820301</td></tr>\n",
       "\t<tr><th scope=row>bam</th><td>0.03630704</td><td> -3.666490</td><td>-14.387043</td><td>         NA</td><td>-21.549844</td><td>       NA</td><td>      NA</td><td>        NA</td><td> 0.7732530</td><td> 0.2390060</td><td>⋯</td><td> 1.6011356</td><td> 1.4422754</td><td>1.2786015</td><td>0.5669074</td><td> 0.2016980</td><td>-14.8261321</td><td>-14.3213060</td><td> 1.73365742</td><td>2.0625399</td><td> 0.12615505</td></tr>\n",
       "\t<tr><th scope=row>can</th><td>0.73286063</td><td> -3.561896</td><td>-14.780328</td><td>-14.7056814</td><td>-22.199541</td><td>       NA</td><td>      NA</td><td>        NA</td><td> 1.2268296</td><td> 0.6957109</td><td>⋯</td><td> 2.0893359</td><td> 1.9484268</td><td>1.8798357</td><td>1.7990985</td><td> 1.1915335</td><td>-14.4985479</td><td>-14.8216266</td><td> 0.37965395</td><td>0.7505699</td><td> 0.19545909</td></tr>\n",
       "\t<tr><th scope=row>tj</th><td>0.54991986</td><td> -3.697388</td><td>        NA</td><td> -0.4725438</td><td>-14.870889</td><td>1.7070011</td><td>1.790769</td><td>  1.431358</td><td>-0.3609002</td><td>-0.1933458</td><td>⋯</td><td>-0.6749898</td><td>-0.3028155</td><td>0.2699549</td><td>0.3891375</td><td>-0.1402265</td><td>  0.4075519</td><td>  0.6281225</td><td>-0.03902323</td><td>0.3366850</td><td>-1.42110383</td></tr>\n",
       "\t<tr><th scope=row>eya</th><td>0.84851105</td><td>-15.769075</td><td>  1.892543</td><td>  2.2048974</td><td> -4.704896</td><td>0.6110829</td><td>1.518505</td><td>  1.906757</td><td> 1.1663967</td><td> 0.7675010</td><td>⋯</td><td>-0.4643443</td><td> 0.8474252</td><td>1.2606097</td><td>1.4174216</td><td> 1.0486569</td><td>  2.1965936</td><td>  2.1813569</td><td>-0.61873136</td><td>0.2180170</td><td> 1.05537476</td></tr>\n",
       "</tbody>\n",
       "</table>\n"
      ],
      "text/latex": [
       "A matrix: 6 × 36 of type dbl\n",
       "\\begin{tabular}{r|lllllllllllllllllllll}\n",
       "  & annotationadult fat body & annotationadult tracheal cell & annotationcyst cell branch a & annotationcyst cell branch b & annotationcyst cell intermediate & annotationcyst stem cell & annotationearly cyst cell 1 & annotationearly cyst cell 2 & annotationearly elongation stage spermatid & annotationearly-mid elongation-stage spermatid & ⋯ & annotationspermatocyte 3 & annotationspermatocyte 4 & annotationspermatocyte 5 & annotationspermatocyte 6 & annotationspermatocyte 7a & annotationspermatocyte cyst cell branch a & annotationspermatocyte cyst cell branch b & annotationspermatogonium & annotationspermatogonium-spermatocyte transition & annotationunknown\\\\\n",
       "\\hline\n",
       "\tnos & 1.05129142 &  -3.828690 &         NA &          NA & -21.615434 &        NA &       NA &         NA &  0.5546188 & -0.1526972 & ⋯ &  1.2185538 &  1.0838066 & 0.7602310 & 0.5893842 &  0.1321814 &          NA &          NA &  2.10429221 & 2.0314698 & -0.06180928\\\\\n",
       "\tvas & 1.23327233 &  -3.649033 & -15.202056 & -15.0120134 & -22.553581 &        NA &       NA & -14.899424 &  1.1053748 &  0.5719519 & ⋯ &  1.8450760 &  1.5067083 & 1.1669143 & 0.6882314 &  0.3408969 & -14.4158660 & -14.5053686 &  2.28155241 & 2.1152012 &  0.44820301\\\\\n",
       "\tbam & 0.03630704 &  -3.666490 & -14.387043 &          NA & -21.549844 &        NA &       NA &         NA &  0.7732530 &  0.2390060 & ⋯ &  1.6011356 &  1.4422754 & 1.2786015 & 0.5669074 &  0.2016980 & -14.8261321 & -14.3213060 &  1.73365742 & 2.0625399 &  0.12615505\\\\\n",
       "\tcan & 0.73286063 &  -3.561896 & -14.780328 & -14.7056814 & -22.199541 &        NA &       NA &         NA &  1.2268296 &  0.6957109 & ⋯ &  2.0893359 &  1.9484268 & 1.8798357 & 1.7990985 &  1.1915335 & -14.4985479 & -14.8216266 &  0.37965395 & 0.7505699 &  0.19545909\\\\\n",
       "\ttj & 0.54991986 &  -3.697388 &         NA &  -0.4725438 & -14.870889 & 1.7070011 & 1.790769 &   1.431358 & -0.3609002 & -0.1933458 & ⋯ & -0.6749898 & -0.3028155 & 0.2699549 & 0.3891375 & -0.1402265 &   0.4075519 &   0.6281225 & -0.03902323 & 0.3366850 & -1.42110383\\\\\n",
       "\teya & 0.84851105 & -15.769075 &   1.892543 &   2.2048974 &  -4.704896 & 0.6110829 & 1.518505 &   1.906757 &  1.1663967 &  0.7675010 & ⋯ & -0.4643443 &  0.8474252 & 1.2606097 & 1.4174216 &  1.0486569 &   2.1965936 &   2.1813569 & -0.61873136 & 0.2180170 &  1.05537476\\\\\n",
       "\\end{tabular}\n"
      ],
      "text/markdown": [
       "\n",
       "A matrix: 6 × 36 of type dbl\n",
       "\n",
       "| <!--/--> | annotationadult fat body | annotationadult tracheal cell | annotationcyst cell branch a | annotationcyst cell branch b | annotationcyst cell intermediate | annotationcyst stem cell | annotationearly cyst cell 1 | annotationearly cyst cell 2 | annotationearly elongation stage spermatid | annotationearly-mid elongation-stage spermatid | ⋯ | annotationspermatocyte 3 | annotationspermatocyte 4 | annotationspermatocyte 5 | annotationspermatocyte 6 | annotationspermatocyte 7a | annotationspermatocyte cyst cell branch a | annotationspermatocyte cyst cell branch b | annotationspermatogonium | annotationspermatogonium-spermatocyte transition | annotationunknown |\n",
       "|---|---|---|---|---|---|---|---|---|---|---|---|---|---|---|---|---|---|---|---|---|---|\n",
       "| nos | 1.05129142 |  -3.828690 |         NA |          NA | -21.615434 |        NA |       NA |         NA |  0.5546188 | -0.1526972 | ⋯ |  1.2185538 |  1.0838066 | 0.7602310 | 0.5893842 |  0.1321814 |          NA |          NA |  2.10429221 | 2.0314698 | -0.06180928 |\n",
       "| vas | 1.23327233 |  -3.649033 | -15.202056 | -15.0120134 | -22.553581 |        NA |       NA | -14.899424 |  1.1053748 |  0.5719519 | ⋯ |  1.8450760 |  1.5067083 | 1.1669143 | 0.6882314 |  0.3408969 | -14.4158660 | -14.5053686 |  2.28155241 | 2.1152012 |  0.44820301 |\n",
       "| bam | 0.03630704 |  -3.666490 | -14.387043 |          NA | -21.549844 |        NA |       NA |         NA |  0.7732530 |  0.2390060 | ⋯ |  1.6011356 |  1.4422754 | 1.2786015 | 0.5669074 |  0.2016980 | -14.8261321 | -14.3213060 |  1.73365742 | 2.0625399 |  0.12615505 |\n",
       "| can | 0.73286063 |  -3.561896 | -14.780328 | -14.7056814 | -22.199541 |        NA |       NA |         NA |  1.2268296 |  0.6957109 | ⋯ |  2.0893359 |  1.9484268 | 1.8798357 | 1.7990985 |  1.1915335 | -14.4985479 | -14.8216266 |  0.37965395 | 0.7505699 |  0.19545909 |\n",
       "| tj | 0.54991986 |  -3.697388 |         NA |  -0.4725438 | -14.870889 | 1.7070011 | 1.790769 |   1.431358 | -0.3609002 | -0.1933458 | ⋯ | -0.6749898 | -0.3028155 | 0.2699549 | 0.3891375 | -0.1402265 |   0.4075519 |   0.6281225 | -0.03902323 | 0.3366850 | -1.42110383 |\n",
       "| eya | 0.84851105 | -15.769075 |   1.892543 |   2.2048974 |  -4.704896 | 0.6110829 | 1.518505 |   1.906757 |  1.1663967 |  0.7675010 | ⋯ | -0.4643443 |  0.8474252 | 1.2606097 | 1.4174216 |  1.0486569 |   2.1965936 |   2.1813569 | -0.61873136 | 0.2180170 |  1.05537476 |\n",
       "\n"
      ],
      "text/plain": [
       "    annotationadult fat body annotationadult tracheal cell\n",
       "nos 1.05129142                -3.828690                   \n",
       "vas 1.23327233                -3.649033                   \n",
       "bam 0.03630704                -3.666490                   \n",
       "can 0.73286063                -3.561896                   \n",
       "tj  0.54991986                -3.697388                   \n",
       "eya 0.84851105               -15.769075                   \n",
       "    annotationcyst cell branch a annotationcyst cell branch b\n",
       "nos         NA                            NA                 \n",
       "vas -15.202056                   -15.0120134                 \n",
       "bam -14.387043                            NA                 \n",
       "can -14.780328                   -14.7056814                 \n",
       "tj          NA                    -0.4725438                 \n",
       "eya   1.892543                     2.2048974                 \n",
       "    annotationcyst cell intermediate annotationcyst stem cell\n",
       "nos -21.615434                              NA               \n",
       "vas -22.553581                              NA               \n",
       "bam -21.549844                              NA               \n",
       "can -22.199541                              NA               \n",
       "tj  -14.870889                       1.7070011               \n",
       "eya  -4.704896                       0.6110829               \n",
       "    annotationearly cyst cell 1 annotationearly cyst cell 2\n",
       "nos       NA                            NA                 \n",
       "vas       NA                    -14.899424                 \n",
       "bam       NA                            NA                 \n",
       "can       NA                            NA                 \n",
       "tj  1.790769                      1.431358                 \n",
       "eya 1.518505                      1.906757                 \n",
       "    annotationearly elongation stage spermatid\n",
       "nos  0.5546188                                \n",
       "vas  1.1053748                                \n",
       "bam  0.7732530                                \n",
       "can  1.2268296                                \n",
       "tj  -0.3609002                                \n",
       "eya  1.1663967                                \n",
       "    annotationearly-mid elongation-stage spermatid ⋯ annotationspermatocyte 3\n",
       "nos -0.1526972                                     ⋯  1.2185538              \n",
       "vas  0.5719519                                     ⋯  1.8450760              \n",
       "bam  0.2390060                                     ⋯  1.6011356              \n",
       "can  0.6957109                                     ⋯  2.0893359              \n",
       "tj  -0.1933458                                     ⋯ -0.6749898              \n",
       "eya  0.7675010                                     ⋯ -0.4643443              \n",
       "    annotationspermatocyte 4 annotationspermatocyte 5 annotationspermatocyte 6\n",
       "nos  1.0838066               0.7602310                0.5893842               \n",
       "vas  1.5067083               1.1669143                0.6882314               \n",
       "bam  1.4422754               1.2786015                0.5669074               \n",
       "can  1.9484268               1.8798357                1.7990985               \n",
       "tj  -0.3028155               0.2699549                0.3891375               \n",
       "eya  0.8474252               1.2606097                1.4174216               \n",
       "    annotationspermatocyte 7a annotationspermatocyte cyst cell branch a\n",
       "nos  0.1321814                         NA                              \n",
       "vas  0.3408969                -14.4158660                              \n",
       "bam  0.2016980                -14.8261321                              \n",
       "can  1.1915335                -14.4985479                              \n",
       "tj  -0.1402265                  0.4075519                              \n",
       "eya  1.0486569                  2.1965936                              \n",
       "    annotationspermatocyte cyst cell branch b annotationspermatogonium\n",
       "nos          NA                                2.10429221             \n",
       "vas -14.5053686                                2.28155241             \n",
       "bam -14.3213060                                1.73365742             \n",
       "can -14.8216266                                0.37965395             \n",
       "tj    0.6281225                               -0.03902323             \n",
       "eya   2.1813569                               -0.61873136             \n",
       "    annotationspermatogonium-spermatocyte transition annotationunknown\n",
       "nos 2.0314698                                        -0.06180928      \n",
       "vas 2.1152012                                         0.44820301      \n",
       "bam 2.0625399                                         0.12615505      \n",
       "can 0.7505699                                         0.19545909      \n",
       "tj  0.3366850                                        -1.42110383      \n",
       "eya 0.2180170                                         1.05537476      "
      ]
     },
     "metadata": {},
     "output_type": "display_data"
    }
   ],
   "source": [
    "logCPM <- subset(lm$coefficients, select = -c(batchsample2, batchsample3))\n",
    "logCPM <- logCPM + 2*log(1000) - rep(colLogSumExps(logCPM, na.rm=T), each = nrow(logCPM))\n",
    "logCPM <- logCPM / log(10)\n",
    "logCPM[c(\"nos\", \"vas\", \"bam\", \"can\", \"tj\", \"eya\"), ]"
   ]
  },
  {
   "cell_type": "code",
   "execution_count": 39,
   "id": "8622aff7",
   "metadata": {
    "vscode": {
     "languageId": "r"
    }
   },
   "outputs": [
    {
     "data": {
      "text/html": [
       "<table class=\"dataframe\">\n",
       "<caption>A matrix: 6 × 36 of type dbl</caption>\n",
       "<thead>\n",
       "\t<tr><th></th><th scope=col>male gonad associated epithelium</th><th scope=col>mid-late elongation-stage spermatid</th><th scope=col>spermatid</th><th scope=col>unknown</th><th scope=col>early elongation stage spermatid</th><th scope=col>cyst cell intermediate</th><th scope=col>pigment cell</th><th scope=col>spermatocyte</th><th scope=col>adult tracheal cell</th><th scope=col>head cyst cell</th><th scope=col>⋯</th><th scope=col>mid-late proliferating spermatogonia</th><th scope=col>spermatogonium-spermatocyte transition</th><th scope=col>cyst cell branch b</th><th scope=col>cyst cell branch a</th><th scope=col>late cyst cell branch b</th><th scope=col>spermatocyte 3</th><th scope=col>spermatocyte 5</th><th scope=col>spermatocyte 4</th><th scope=col>late cyst cell branch a</th><th scope=col>adult fat body</th></tr>\n",
       "</thead>\n",
       "<tbody>\n",
       "\t<tr><th scope=row>nos</th><td>-1.1128018</td><td> 0.85678990</td><td>0.5078007</td><td> 1.06904390</td><td>0.78310097</td><td>-0.85723432</td><td>-0.1637661</td><td>1.1937376</td><td>-0.30482366</td><td>-1.32993851</td><td>⋯</td><td> 2.1071840</td><td>2.1600889</td><td>      -Inf</td><td>       -Inf</td><td>-0.36946083</td><td> 1.4632469</td><td>1.2054302</td><td>1.3755652</td><td>       -Inf</td><td> 0.5045682</td></tr>\n",
       "\t<tr><th scope=row>vas</th><td> 0.5508188</td><td> 1.17096338</td><td>1.2543064</td><td> 1.51206848</td><td>1.30859296</td><td>-0.71758013</td><td> 0.4664456</td><td>1.4176557</td><td> 0.47579242</td><td> 0.04354923</td><td>⋯</td><td> 2.3640166</td><td>2.2509603</td><td>-0.3082620</td><td> 0.20176936</td><td> 0.41287668</td><td> 2.0591176</td><td>1.5223881</td><td>1.8141976</td><td>-0.04004546</td><td> 1.2975066</td></tr>\n",
       "\t<tr><th scope=row>bam</th><td> 0.1381579</td><td> 0.82123656</td><td>1.1913151</td><td> 1.17460643</td><td>0.96662376</td><td>-0.06277718</td><td> 0.2055182</td><td>1.2030614</td><td> 0.01437364</td><td>-0.26977378</td><td>⋯</td><td> 2.2222370</td><td>2.1757519</td><td>      -Inf</td><td> 0.20661599</td><td>-0.35123950</td><td> 1.8179943</td><td>1.6607421</td><td>1.7401834</td><td>       -Inf</td><td>-0.2325207</td></tr>\n",
       "\t<tr><th scope=row>can</th><td> 0.6124888</td><td> 1.38260246</td><td>1.5783872</td><td> 1.31858832</td><td>1.53166794</td><td>-0.51333694</td><td> 1.1180047</td><td>1.9536476</td><td> 0.04437396</td><td>-0.36921125</td><td>⋯</td><td> 0.8728739</td><td>0.9097616</td><td> 0.5348262</td><td>-0.08180233</td><td> 0.28927970</td><td> 2.3858027</td><td>2.2171311</td><td>2.3593683</td><td>-0.26827960</td><td> 1.1484790</td></tr>\n",
       "\t<tr><th scope=row>tj</th><td>-0.8148982</td><td>-0.04726785</td><td>0.5726636</td><td>-0.07118544</td><td>0.04165853</td><td>-0.19153792</td><td>      -Inf</td><td>0.7164847</td><td> 0.16995017</td><td>-0.21913355</td><td>⋯</td><td>-0.3340239</td><td>0.5138474</td><td> 0.3539308</td><td>       -Inf</td><td>-0.05595518</td><td>-0.3342504</td><td>0.9011081</td><td>0.3488994</td><td>       -Inf</td><td> 0.7732197</td></tr>\n",
       "\t<tr><th scope=row>eya</th><td> 1.2204614</td><td> 1.57120377</td><td>1.6008434</td><td> 2.29444491</td><td>1.62120234</td><td> 2.95635457</td><td> 0.7842072</td><td>1.8255382</td><td> 0.48057458</td><td> 2.48411278</td><td>⋯</td><td> 0.7887508</td><td>0.6487496</td><td> 3.1451193</td><td> 2.91049473</td><td> 2.08213416</td><td> 1.0315616</td><td>1.9233832</td><td>1.5378274</td><td> 2.06400481</td><td> 1.0285278</td></tr>\n",
       "</tbody>\n",
       "</table>\n"
      ],
      "text/latex": [
       "A matrix: 6 × 36 of type dbl\n",
       "\\begin{tabular}{r|lllllllllllllllllllll}\n",
       "  & male gonad associated epithelium & mid-late elongation-stage spermatid & spermatid & unknown & early elongation stage spermatid & cyst cell intermediate & pigment cell & spermatocyte & adult tracheal cell & head cyst cell & ⋯ & mid-late proliferating spermatogonia & spermatogonium-spermatocyte transition & cyst cell branch b & cyst cell branch a & late cyst cell branch b & spermatocyte 3 & spermatocyte 5 & spermatocyte 4 & late cyst cell branch a & adult fat body\\\\\n",
       "\\hline\n",
       "\tnos & -1.1128018 &  0.85678990 & 0.5078007 &  1.06904390 & 0.78310097 & -0.85723432 & -0.1637661 & 1.1937376 & -0.30482366 & -1.32993851 & ⋯ &  2.1071840 & 2.1600889 &       -Inf &        -Inf & -0.36946083 &  1.4632469 & 1.2054302 & 1.3755652 &        -Inf &  0.5045682\\\\\n",
       "\tvas &  0.5508188 &  1.17096338 & 1.2543064 &  1.51206848 & 1.30859296 & -0.71758013 &  0.4664456 & 1.4176557 &  0.47579242 &  0.04354923 & ⋯ &  2.3640166 & 2.2509603 & -0.3082620 &  0.20176936 &  0.41287668 &  2.0591176 & 1.5223881 & 1.8141976 & -0.04004546 &  1.2975066\\\\\n",
       "\tbam &  0.1381579 &  0.82123656 & 1.1913151 &  1.17460643 & 0.96662376 & -0.06277718 &  0.2055182 & 1.2030614 &  0.01437364 & -0.26977378 & ⋯ &  2.2222370 & 2.1757519 &       -Inf &  0.20661599 & -0.35123950 &  1.8179943 & 1.6607421 & 1.7401834 &        -Inf & -0.2325207\\\\\n",
       "\tcan &  0.6124888 &  1.38260246 & 1.5783872 &  1.31858832 & 1.53166794 & -0.51333694 &  1.1180047 & 1.9536476 &  0.04437396 & -0.36921125 & ⋯ &  0.8728739 & 0.9097616 &  0.5348262 & -0.08180233 &  0.28927970 &  2.3858027 & 2.2171311 & 2.3593683 & -0.26827960 &  1.1484790\\\\\n",
       "\ttj & -0.8148982 & -0.04726785 & 0.5726636 & -0.07118544 & 0.04165853 & -0.19153792 &       -Inf & 0.7164847 &  0.16995017 & -0.21913355 & ⋯ & -0.3340239 & 0.5138474 &  0.3539308 &        -Inf & -0.05595518 & -0.3342504 & 0.9011081 & 0.3488994 &        -Inf &  0.7732197\\\\\n",
       "\teya &  1.2204614 &  1.57120377 & 1.6008434 &  2.29444491 & 1.62120234 &  2.95635457 &  0.7842072 & 1.8255382 &  0.48057458 &  2.48411278 & ⋯ &  0.7887508 & 0.6487496 &  3.1451193 &  2.91049473 &  2.08213416 &  1.0315616 & 1.9233832 & 1.5378274 &  2.06400481 &  1.0285278\\\\\n",
       "\\end{tabular}\n"
      ],
      "text/markdown": [
       "\n",
       "A matrix: 6 × 36 of type dbl\n",
       "\n",
       "| <!--/--> | male gonad associated epithelium | mid-late elongation-stage spermatid | spermatid | unknown | early elongation stage spermatid | cyst cell intermediate | pigment cell | spermatocyte | adult tracheal cell | head cyst cell | ⋯ | mid-late proliferating spermatogonia | spermatogonium-spermatocyte transition | cyst cell branch b | cyst cell branch a | late cyst cell branch b | spermatocyte 3 | spermatocyte 5 | spermatocyte 4 | late cyst cell branch a | adult fat body |\n",
       "|---|---|---|---|---|---|---|---|---|---|---|---|---|---|---|---|---|---|---|---|---|---|\n",
       "| nos | -1.1128018 |  0.85678990 | 0.5078007 |  1.06904390 | 0.78310097 | -0.85723432 | -0.1637661 | 1.1937376 | -0.30482366 | -1.32993851 | ⋯ |  2.1071840 | 2.1600889 |       -Inf |        -Inf | -0.36946083 |  1.4632469 | 1.2054302 | 1.3755652 |        -Inf |  0.5045682 |\n",
       "| vas |  0.5508188 |  1.17096338 | 1.2543064 |  1.51206848 | 1.30859296 | -0.71758013 |  0.4664456 | 1.4176557 |  0.47579242 |  0.04354923 | ⋯ |  2.3640166 | 2.2509603 | -0.3082620 |  0.20176936 |  0.41287668 |  2.0591176 | 1.5223881 | 1.8141976 | -0.04004546 |  1.2975066 |\n",
       "| bam |  0.1381579 |  0.82123656 | 1.1913151 |  1.17460643 | 0.96662376 | -0.06277718 |  0.2055182 | 1.2030614 |  0.01437364 | -0.26977378 | ⋯ |  2.2222370 | 2.1757519 |       -Inf |  0.20661599 | -0.35123950 |  1.8179943 | 1.6607421 | 1.7401834 |        -Inf | -0.2325207 |\n",
       "| can |  0.6124888 |  1.38260246 | 1.5783872 |  1.31858832 | 1.53166794 | -0.51333694 |  1.1180047 | 1.9536476 |  0.04437396 | -0.36921125 | ⋯ |  0.8728739 | 0.9097616 |  0.5348262 | -0.08180233 |  0.28927970 |  2.3858027 | 2.2171311 | 2.3593683 | -0.26827960 |  1.1484790 |\n",
       "| tj | -0.8148982 | -0.04726785 | 0.5726636 | -0.07118544 | 0.04165853 | -0.19153792 |       -Inf | 0.7164847 |  0.16995017 | -0.21913355 | ⋯ | -0.3340239 | 0.5138474 |  0.3539308 |        -Inf | -0.05595518 | -0.3342504 | 0.9011081 | 0.3488994 |        -Inf |  0.7732197 |\n",
       "| eya |  1.2204614 |  1.57120377 | 1.6008434 |  2.29444491 | 1.62120234 |  2.95635457 |  0.7842072 | 1.8255382 |  0.48057458 |  2.48411278 | ⋯ |  0.7887508 | 0.6487496 |  3.1451193 |  2.91049473 |  2.08213416 |  1.0315616 | 1.9233832 | 1.5378274 |  2.06400481 |  1.0285278 |\n",
       "\n"
      ],
      "text/plain": [
       "    male gonad associated epithelium mid-late elongation-stage spermatid\n",
       "nos -1.1128018                        0.85678990                        \n",
       "vas  0.5508188                        1.17096338                        \n",
       "bam  0.1381579                        0.82123656                        \n",
       "can  0.6124888                        1.38260246                        \n",
       "tj  -0.8148982                       -0.04726785                        \n",
       "eya  1.2204614                        1.57120377                        \n",
       "    spermatid unknown     early elongation stage spermatid\n",
       "nos 0.5078007  1.06904390 0.78310097                      \n",
       "vas 1.2543064  1.51206848 1.30859296                      \n",
       "bam 1.1913151  1.17460643 0.96662376                      \n",
       "can 1.5783872  1.31858832 1.53166794                      \n",
       "tj  0.5726636 -0.07118544 0.04165853                      \n",
       "eya 1.6008434  2.29444491 1.62120234                      \n",
       "    cyst cell intermediate pigment cell spermatocyte adult tracheal cell\n",
       "nos -0.85723432            -0.1637661   1.1937376    -0.30482366        \n",
       "vas -0.71758013             0.4664456   1.4176557     0.47579242        \n",
       "bam -0.06277718             0.2055182   1.2030614     0.01437364        \n",
       "can -0.51333694             1.1180047   1.9536476     0.04437396        \n",
       "tj  -0.19153792                  -Inf   0.7164847     0.16995017        \n",
       "eya  2.95635457             0.7842072   1.8255382     0.48057458        \n",
       "    head cyst cell ⋯ mid-late proliferating spermatogonia\n",
       "nos -1.32993851    ⋯  2.1071840                          \n",
       "vas  0.04354923    ⋯  2.3640166                          \n",
       "bam -0.26977378    ⋯  2.2222370                          \n",
       "can -0.36921125    ⋯  0.8728739                          \n",
       "tj  -0.21913355    ⋯ -0.3340239                          \n",
       "eya  2.48411278    ⋯  0.7887508                          \n",
       "    spermatogonium-spermatocyte transition cyst cell branch b\n",
       "nos 2.1600889                                    -Inf        \n",
       "vas 2.2509603                              -0.3082620        \n",
       "bam 2.1757519                                    -Inf        \n",
       "can 0.9097616                               0.5348262        \n",
       "tj  0.5138474                               0.3539308        \n",
       "eya 0.6487496                               3.1451193        \n",
       "    cyst cell branch a late cyst cell branch b spermatocyte 3 spermatocyte 5\n",
       "nos        -Inf        -0.36946083              1.4632469     1.2054302     \n",
       "vas  0.20176936         0.41287668              2.0591176     1.5223881     \n",
       "bam  0.20661599        -0.35123950              1.8179943     1.6607421     \n",
       "can -0.08180233         0.28927970              2.3858027     2.2171311     \n",
       "tj         -Inf        -0.05595518             -0.3342504     0.9011081     \n",
       "eya  2.91049473         2.08213416              1.0315616     1.9233832     \n",
       "    spermatocyte 4 late cyst cell branch a adult fat body\n",
       "nos 1.3755652             -Inf              0.5045682    \n",
       "vas 1.8141976      -0.04004546              1.2975066    \n",
       "bam 1.7401834             -Inf             -0.2325207    \n",
       "can 2.3593683      -0.26827960              1.1484790    \n",
       "tj  0.3488994             -Inf              0.7732197    \n",
       "eya 1.5378274       2.06400481              1.0285278    "
      ]
     },
     "metadata": {},
     "output_type": "display_data"
    }
   ],
   "source": [
    "logCPM <- assay(summarized_gross_total)\n",
    "logCPM <- logCPM * rep(1000^2 / colSums2(logCPM, na.rm=T), each = nrow(logCPM))\n",
    "logCPM <- log10(logCPM)\n",
    "logCPM[c(\"nos\", \"vas\", \"bam\", \"can\", \"tj\", \"eya\"), ]"
   ]
  },
  {
   "cell_type": "code",
   "execution_count": 33,
   "id": "c6a56b9b",
   "metadata": {
    "vscode": {
     "languageId": "r"
    }
   },
   "outputs": [
    {
     "data": {
      "text/html": [
       "<table class=\"dataframe\">\n",
       "<caption>A matrix: 10 × 10 of type dbl</caption>\n",
       "<thead>\n",
       "\t<tr><th></th><th scope=col>adult fat body</th><th scope=col>adult tracheal cell</th><th scope=col>cyst cell branch a</th><th scope=col>cyst cell branch b</th><th scope=col>cyst cell intermediate</th><th scope=col>cyst stem cell</th><th scope=col>early cyst cell 1</th><th scope=col>early cyst cell 2</th><th scope=col>early elongation stage spermatid</th><th scope=col>early-mid elongation-stage spermatid</th></tr>\n",
       "</thead>\n",
       "<tbody>\n",
       "\t<tr><th scope=row>128up</th><td>0.06422018</td><td>0.054487179</td><td>0.066225166</td><td>0.060897436</td><td>0.045755237</td><td>0.002881844</td><td>0.016591252</td><td>0.093484419</td><td>0.1002220577</td><td>0.165437302</td></tr>\n",
       "\t<tr><th scope=row>14-3-3epsilon</th><td>0.60550459</td><td>0.741987179</td><td>0.980132450</td><td>0.977564103</td><td>0.859977949</td><td>0.804034582</td><td>0.900452489</td><td>0.983002833</td><td>0.6085862324</td><td>0.718651212</td></tr>\n",
       "\t<tr><th scope=row>14-3-3zeta</th><td>0.39449541</td><td>0.799679487</td><td>0.850993377</td><td>0.958333333</td><td>0.806504961</td><td>0.763688761</td><td>0.891402715</td><td>0.946175637</td><td>0.3179866765</td><td>0.443624868</td></tr>\n",
       "\t<tr><th scope=row>140up</th><td>0.01834862</td><td>0.020833333</td><td>0.056291391</td><td>0.073717949</td><td>0.025909592</td><td>0.008645533</td><td>0.034690799</td><td>0.099150142</td><td>0.0293116210</td><td>0.062170706</td></tr>\n",
       "\t<tr><th scope=row>18SrRNA-Psi:CR41602</th><td>0.07339450</td><td>0.028846154</td><td>0.082781457</td><td>0.099358974</td><td>0.098125689</td><td>0.017291066</td><td>0.060331825</td><td>0.099150142</td><td>0.0223538120</td><td>0.022128556</td></tr>\n",
       "\t<tr><th scope=row>18w</th><td>0.01834862</td><td>0.240384615</td><td>0.023178808</td><td>0.035256410</td><td>0.167034179</td><td>0.141210375</td><td>0.466063348</td><td>0.470254958</td><td>0.0007401925</td><td>0.004214963</td></tr>\n",
       "\t<tr><th scope=row>26-29-p</th><td>0.33027523</td><td>0.198717949</td><td>0.423841060</td><td>0.448717949</td><td>0.551267916</td><td>0.146974063</td><td>0.289592760</td><td>0.382436261</td><td>0.2182087343</td><td>0.341412013</td></tr>\n",
       "\t<tr><th scope=row>28SrRNA-Psi:CR40596</th><td>0.23853211</td><td>0.081730769</td><td>0.086092715</td><td>0.060897436</td><td>0.121278942</td><td>0.008645533</td><td>0.009049774</td><td>0.033994334</td><td>0.1028867506</td><td>0.120126449</td></tr>\n",
       "\t<tr><th scope=row>28SrRNA-Psi:CR40741</th><td>0.01834862</td><td>0.004807692</td><td>0.006622517</td><td>0.006410256</td><td>0.005512679</td><td>0.000000000</td><td>0.006033183</td><td>0.005665722</td><td>0.0062176166</td><td>0.009483667</td></tr>\n",
       "\t<tr><th scope=row>28SrRNA-Psi:CR41609</th><td>0.00000000</td><td>0.000000000</td><td>0.000000000</td><td>0.003205128</td><td>0.001102536</td><td>0.000000000</td><td>0.001508296</td><td>0.000000000</td><td>0.0004441155</td><td>0.002107482</td></tr>\n",
       "</tbody>\n",
       "</table>\n"
      ],
      "text/latex": [
       "A matrix: 10 × 10 of type dbl\n",
       "\\begin{tabular}{r|llllllllll}\n",
       "  & adult fat body & adult tracheal cell & cyst cell branch a & cyst cell branch b & cyst cell intermediate & cyst stem cell & early cyst cell 1 & early cyst cell 2 & early elongation stage spermatid & early-mid elongation-stage spermatid\\\\\n",
       "\\hline\n",
       "\t128up & 0.06422018 & 0.054487179 & 0.066225166 & 0.060897436 & 0.045755237 & 0.002881844 & 0.016591252 & 0.093484419 & 0.1002220577 & 0.165437302\\\\\n",
       "\t14-3-3epsilon & 0.60550459 & 0.741987179 & 0.980132450 & 0.977564103 & 0.859977949 & 0.804034582 & 0.900452489 & 0.983002833 & 0.6085862324 & 0.718651212\\\\\n",
       "\t14-3-3zeta & 0.39449541 & 0.799679487 & 0.850993377 & 0.958333333 & 0.806504961 & 0.763688761 & 0.891402715 & 0.946175637 & 0.3179866765 & 0.443624868\\\\\n",
       "\t140up & 0.01834862 & 0.020833333 & 0.056291391 & 0.073717949 & 0.025909592 & 0.008645533 & 0.034690799 & 0.099150142 & 0.0293116210 & 0.062170706\\\\\n",
       "\t18SrRNA-Psi:CR41602 & 0.07339450 & 0.028846154 & 0.082781457 & 0.099358974 & 0.098125689 & 0.017291066 & 0.060331825 & 0.099150142 & 0.0223538120 & 0.022128556\\\\\n",
       "\t18w & 0.01834862 & 0.240384615 & 0.023178808 & 0.035256410 & 0.167034179 & 0.141210375 & 0.466063348 & 0.470254958 & 0.0007401925 & 0.004214963\\\\\n",
       "\t26-29-p & 0.33027523 & 0.198717949 & 0.423841060 & 0.448717949 & 0.551267916 & 0.146974063 & 0.289592760 & 0.382436261 & 0.2182087343 & 0.341412013\\\\\n",
       "\t28SrRNA-Psi:CR40596 & 0.23853211 & 0.081730769 & 0.086092715 & 0.060897436 & 0.121278942 & 0.008645533 & 0.009049774 & 0.033994334 & 0.1028867506 & 0.120126449\\\\\n",
       "\t28SrRNA-Psi:CR40741 & 0.01834862 & 0.004807692 & 0.006622517 & 0.006410256 & 0.005512679 & 0.000000000 & 0.006033183 & 0.005665722 & 0.0062176166 & 0.009483667\\\\\n",
       "\t28SrRNA-Psi:CR41609 & 0.00000000 & 0.000000000 & 0.000000000 & 0.003205128 & 0.001102536 & 0.000000000 & 0.001508296 & 0.000000000 & 0.0004441155 & 0.002107482\\\\\n",
       "\\end{tabular}\n"
      ],
      "text/markdown": [
       "\n",
       "A matrix: 10 × 10 of type dbl\n",
       "\n",
       "| <!--/--> | adult fat body | adult tracheal cell | cyst cell branch a | cyst cell branch b | cyst cell intermediate | cyst stem cell | early cyst cell 1 | early cyst cell 2 | early elongation stage spermatid | early-mid elongation-stage spermatid |\n",
       "|---|---|---|---|---|---|---|---|---|---|---|\n",
       "| 128up | 0.06422018 | 0.054487179 | 0.066225166 | 0.060897436 | 0.045755237 | 0.002881844 | 0.016591252 | 0.093484419 | 0.1002220577 | 0.165437302 |\n",
       "| 14-3-3epsilon | 0.60550459 | 0.741987179 | 0.980132450 | 0.977564103 | 0.859977949 | 0.804034582 | 0.900452489 | 0.983002833 | 0.6085862324 | 0.718651212 |\n",
       "| 14-3-3zeta | 0.39449541 | 0.799679487 | 0.850993377 | 0.958333333 | 0.806504961 | 0.763688761 | 0.891402715 | 0.946175637 | 0.3179866765 | 0.443624868 |\n",
       "| 140up | 0.01834862 | 0.020833333 | 0.056291391 | 0.073717949 | 0.025909592 | 0.008645533 | 0.034690799 | 0.099150142 | 0.0293116210 | 0.062170706 |\n",
       "| 18SrRNA-Psi:CR41602 | 0.07339450 | 0.028846154 | 0.082781457 | 0.099358974 | 0.098125689 | 0.017291066 | 0.060331825 | 0.099150142 | 0.0223538120 | 0.022128556 |\n",
       "| 18w | 0.01834862 | 0.240384615 | 0.023178808 | 0.035256410 | 0.167034179 | 0.141210375 | 0.466063348 | 0.470254958 | 0.0007401925 | 0.004214963 |\n",
       "| 26-29-p | 0.33027523 | 0.198717949 | 0.423841060 | 0.448717949 | 0.551267916 | 0.146974063 | 0.289592760 | 0.382436261 | 0.2182087343 | 0.341412013 |\n",
       "| 28SrRNA-Psi:CR40596 | 0.23853211 | 0.081730769 | 0.086092715 | 0.060897436 | 0.121278942 | 0.008645533 | 0.009049774 | 0.033994334 | 0.1028867506 | 0.120126449 |\n",
       "| 28SrRNA-Psi:CR40741 | 0.01834862 | 0.004807692 | 0.006622517 | 0.006410256 | 0.005512679 | 0.000000000 | 0.006033183 | 0.005665722 | 0.0062176166 | 0.009483667 |\n",
       "| 28SrRNA-Psi:CR41609 | 0.00000000 | 0.000000000 | 0.000000000 | 0.003205128 | 0.001102536 | 0.000000000 | 0.001508296 | 0.000000000 | 0.0004441155 | 0.002107482 |\n",
       "\n"
      ],
      "text/plain": [
       "                    adult fat body adult tracheal cell cyst cell branch a\n",
       "128up               0.06422018     0.054487179         0.066225166       \n",
       "14-3-3epsilon       0.60550459     0.741987179         0.980132450       \n",
       "14-3-3zeta          0.39449541     0.799679487         0.850993377       \n",
       "140up               0.01834862     0.020833333         0.056291391       \n",
       "18SrRNA-Psi:CR41602 0.07339450     0.028846154         0.082781457       \n",
       "18w                 0.01834862     0.240384615         0.023178808       \n",
       "26-29-p             0.33027523     0.198717949         0.423841060       \n",
       "28SrRNA-Psi:CR40596 0.23853211     0.081730769         0.086092715       \n",
       "28SrRNA-Psi:CR40741 0.01834862     0.004807692         0.006622517       \n",
       "28SrRNA-Psi:CR41609 0.00000000     0.000000000         0.000000000       \n",
       "                    cyst cell branch b cyst cell intermediate cyst stem cell\n",
       "128up               0.060897436        0.045755237            0.002881844   \n",
       "14-3-3epsilon       0.977564103        0.859977949            0.804034582   \n",
       "14-3-3zeta          0.958333333        0.806504961            0.763688761   \n",
       "140up               0.073717949        0.025909592            0.008645533   \n",
       "18SrRNA-Psi:CR41602 0.099358974        0.098125689            0.017291066   \n",
       "18w                 0.035256410        0.167034179            0.141210375   \n",
       "26-29-p             0.448717949        0.551267916            0.146974063   \n",
       "28SrRNA-Psi:CR40596 0.060897436        0.121278942            0.008645533   \n",
       "28SrRNA-Psi:CR40741 0.006410256        0.005512679            0.000000000   \n",
       "28SrRNA-Psi:CR41609 0.003205128        0.001102536            0.000000000   \n",
       "                    early cyst cell 1 early cyst cell 2\n",
       "128up               0.016591252       0.093484419      \n",
       "14-3-3epsilon       0.900452489       0.983002833      \n",
       "14-3-3zeta          0.891402715       0.946175637      \n",
       "140up               0.034690799       0.099150142      \n",
       "18SrRNA-Psi:CR41602 0.060331825       0.099150142      \n",
       "18w                 0.466063348       0.470254958      \n",
       "26-29-p             0.289592760       0.382436261      \n",
       "28SrRNA-Psi:CR40596 0.009049774       0.033994334      \n",
       "28SrRNA-Psi:CR40741 0.006033183       0.005665722      \n",
       "28SrRNA-Psi:CR41609 0.001508296       0.000000000      \n",
       "                    early elongation stage spermatid\n",
       "128up               0.1002220577                    \n",
       "14-3-3epsilon       0.6085862324                    \n",
       "14-3-3zeta          0.3179866765                    \n",
       "140up               0.0293116210                    \n",
       "18SrRNA-Psi:CR41602 0.0223538120                    \n",
       "18w                 0.0007401925                    \n",
       "26-29-p             0.2182087343                    \n",
       "28SrRNA-Psi:CR40596 0.1028867506                    \n",
       "28SrRNA-Psi:CR40741 0.0062176166                    \n",
       "28SrRNA-Psi:CR41609 0.0004441155                    \n",
       "                    early-mid elongation-stage spermatid\n",
       "128up               0.165437302                         \n",
       "14-3-3epsilon       0.718651212                         \n",
       "14-3-3zeta          0.443624868                         \n",
       "140up               0.062170706                         \n",
       "18SrRNA-Psi:CR41602 0.022128556                         \n",
       "18w                 0.004214963                         \n",
       "26-29-p             0.341412013                         \n",
       "28SrRNA-Psi:CR40596 0.120126449                         \n",
       "28SrRNA-Psi:CR40741 0.009483667                         \n",
       "28SrRNA-Psi:CR41609 0.002107482                         "
      ]
     },
     "metadata": {},
     "output_type": "display_data"
    }
   ],
   "source": [
    "percentExpression <- do.call(\n",
    "  cbind,\n",
    "  sapply(\n",
    "    levels(annotation),\n",
    "    \\(n) rowMeans2(assay(sce, \"decontXcounts\")[, annotation == n] != 0),\n",
    "    simplify = FALSE\n",
    "  )\n",
    ")\n",
    "percentExpression[1:10, 1:10]"
   ]
  },
  {
   "cell_type": "code",
   "execution_count": 34,
   "id": "c8c638c6",
   "metadata": {
    "vscode": {
     "languageId": "r"
    }
   },
   "outputs": [],
   "source": [
    "targets::tar_load(c(Upd_cpm, Upd_decontX))"
   ]
  },
  {
   "cell_type": "code",
   "execution_count": 35,
   "id": "37d1f8ae",
   "metadata": {
    "vscode": {
     "languageId": "r"
    }
   },
   "outputs": [],
   "source": [
    "upd_tumor <- CreateSeuratObject(\n",
    "  Upd_decontX,\n",
    "  \"DECONTX\",\n",
    "  meta.data = read.csv(\"scRNA-seq-Metadata.csv\", row.names=1)\n",
    ")"
   ]
  },
  {
   "cell_type": "code",
   "execution_count": 36,
   "id": "a256c270",
   "metadata": {
    "vscode": {
     "languageId": "r"
    }
   },
   "outputs": [
    {
     "data": {
      "text/html": [
       "<table class=\"dataframe\">\n",
       "<caption>A matrix: 6 × 2 of type dbl</caption>\n",
       "<thead>\n",
       "\t<tr><th></th><th scope=col>germline</th><th scope=col>somatic</th></tr>\n",
       "</thead>\n",
       "<tbody>\n",
       "\t<tr><th scope=row>H3-GFP</th><td>0.172375792</td><td>0.111729815</td></tr>\n",
       "\t<tr><th scope=row>lncRNA:CR40469</th><td>0.058315731</td><td>0.093088004</td></tr>\n",
       "\t<tr><th scope=row>CG17636</th><td>0.001561209</td><td>0.001089456</td></tr>\n",
       "\t<tr><th scope=row>RhoGAP1A</th><td>0.127651759</td><td>0.153855465</td></tr>\n",
       "\t<tr><th scope=row>tyn</th><td>0.166314629</td><td>0.105677279</td></tr>\n",
       "\t<tr><th scope=row>lncRNA:CR45473</th><td>0.012489668</td><td>0.049993947</td></tr>\n",
       "</tbody>\n",
       "</table>\n"
      ],
      "text/latex": [
       "A matrix: 6 × 2 of type dbl\n",
       "\\begin{tabular}{r|ll}\n",
       "  & germline & somatic\\\\\n",
       "\\hline\n",
       "\tH3-GFP & 0.172375792 & 0.111729815\\\\\n",
       "\tlncRNA:CR40469 & 0.058315731 & 0.093088004\\\\\n",
       "\tCG17636 & 0.001561209 & 0.001089456\\\\\n",
       "\tRhoGAP1A & 0.127651759 & 0.153855465\\\\\n",
       "\ttyn & 0.166314629 & 0.105677279\\\\\n",
       "\tlncRNA:CR45473 & 0.012489668 & 0.049993947\\\\\n",
       "\\end{tabular}\n"
      ],
      "text/markdown": [
       "\n",
       "A matrix: 6 × 2 of type dbl\n",
       "\n",
       "| <!--/--> | germline | somatic |\n",
       "|---|---|---|\n",
       "| H3-GFP | 0.172375792 | 0.111729815 |\n",
       "| lncRNA:CR40469 | 0.058315731 | 0.093088004 |\n",
       "| CG17636 | 0.001561209 | 0.001089456 |\n",
       "| RhoGAP1A | 0.127651759 | 0.153855465 |\n",
       "| tyn | 0.166314629 | 0.105677279 |\n",
       "| lncRNA:CR45473 | 0.012489668 | 0.049993947 |\n",
       "\n"
      ],
      "text/plain": [
       "               germline    somatic    \n",
       "H3-GFP         0.172375792 0.111729815\n",
       "lncRNA:CR40469 0.058315731 0.093088004\n",
       "CG17636        0.001561209 0.001089456\n",
       "RhoGAP1A       0.127651759 0.153855465\n",
       "tyn            0.166314629 0.105677279\n",
       "lncRNA:CR45473 0.012489668 0.049993947"
      ]
     },
     "metadata": {},
     "output_type": "display_data"
    }
   ],
   "source": [
    "head(\n",
    "  percent_upd_tumor <- sapply(\n",
    "    c(\"germline\", \"somatic\"),\n",
    "    \\(n) rowMeans2(\n",
    "      GetAssayData(upd_tumor, layer = \"counts\")[, upd_tumor$ident == n] != 0\n",
    "    )\n",
    "  )\n",
    ")"
   ]
  },
  {
   "cell_type": "code",
   "execution_count": 43,
   "id": "848cab5a",
   "metadata": {
    "vscode": {
     "languageId": "r"
    }
   },
   "outputs": [],
   "source": [
    "load(\"illustrations/snRNA_seq_Dot_Plot_Data.rda\")"
   ]
  },
  {
   "cell_type": "code",
   "execution_count": 44,
   "id": "2f1094f1",
   "metadata": {
    "vscode": {
     "languageId": "r"
    }
   },
   "outputs": [
    {
     "name": "stdout",
     "output_type": "stream",
     "text": [
      "\u001b[90m# A tibble: 100 × 5\u001b[39m\n",
      "   name  fullname                               gene    logCPM percent\n",
      "   \u001b[3m\u001b[90m<fct>\u001b[39m\u001b[23m \u001b[3m\u001b[90m<chr>\u001b[39m\u001b[23m                                  \u001b[3m\u001b[90m<chr>\u001b[39m\u001b[23m    \u001b[3m\u001b[90m<dbl>\u001b[39m\u001b[23m   \u001b[3m\u001b[90m<dbl>\u001b[39m\u001b[23m\n",
      "\u001b[90m 1\u001b[39m sg    spermatogonium                         nos     2.10   0.462  \n",
      "\u001b[90m 2\u001b[39m st    spermatogonium-spermatocyte transition nos     2.03   0.333  \n",
      "\u001b[90m 3\u001b[39m s1    spermatocyte 1                         nos     1.89   0.503  \n",
      "\u001b[90m 4\u001b[39m s3    spermatocyte 3                         nos     1.22   0.387  \n",
      "\u001b[90m 5\u001b[39m es    early elongation stage spermatid       nos     0.555  0.008\u001b[4m7\u001b[24m\u001b[4m3\u001b[24m\n",
      "\u001b[90m 6\u001b[39m cs    cyst stem cell                         nos    \u001b[31mNA\u001b[39m      0      \n",
      "\u001b[90m 7\u001b[39m c1    early cyst cell 1                      nos    \u001b[31mNA\u001b[39m      0      \n",
      "\u001b[90m 8\u001b[39m c2    early cyst cell 2                      nos    \u001b[31mNA\u001b[39m      0      \n",
      "\u001b[90m 9\u001b[39m G*    GSC-like                               nos     2.34   0.517  \n",
      "\u001b[90m10\u001b[39m C*    CySC-like                              nos    -\u001b[31m0\u001b[39m\u001b[31m.\u001b[39m\u001b[31m273\u001b[39m  0.066\u001b[4m2\u001b[24m \n",
      "\u001b[90m11\u001b[39m sg    spermatogonium                         vas     2.28   0.636  \n",
      "\u001b[90m12\u001b[39m st    spermatogonium-spermatocyte transition vas     2.12   0.392  \n",
      "\u001b[90m13\u001b[39m s1    spermatocyte 1                         vas     2.26   0.776  \n",
      "\u001b[90m14\u001b[39m s3    spermatocyte 3                         vas     1.85   0.831  \n",
      "\u001b[90m15\u001b[39m es    early elongation stage spermatid       vas     1.11   0.029\u001b[4m0\u001b[24m \n",
      "\u001b[90m16\u001b[39m cs    cyst stem cell                         vas    \u001b[31mNA\u001b[39m      0      \n",
      "\u001b[90m17\u001b[39m c1    early cyst cell 1                      vas    \u001b[31mNA\u001b[39m      0      \n",
      "\u001b[90m18\u001b[39m c2    early cyst cell 2                      vas   -\u001b[31m14\u001b[39m\u001b[31m.\u001b[39m\u001b[31m9\u001b[39m    0.014\u001b[4m2\u001b[24m \n",
      "\u001b[90m19\u001b[39m G*    GSC-like                               vas     2.48   0.622  \n",
      "\u001b[90m20\u001b[39m C*    CySC-like                              vas    -\u001b[31m2\u001b[39m\u001b[31m.\u001b[39m\u001b[31m92\u001b[39m   0.109  \n",
      "\u001b[90m21\u001b[39m sg    spermatogonium                         esg     1.96   0.188  \n",
      "\u001b[90m22\u001b[39m st    spermatogonium-spermatocyte transition esg     0.897  0.009\u001b[4m8\u001b[24m\u001b[4m0\u001b[24m\n",
      "\u001b[90m23\u001b[39m s1    spermatocyte 1                         esg     0.077\u001b[4m3\u001b[24m 0.006\u001b[4m8\u001b[24m\u001b[4m3\u001b[24m\n",
      "\u001b[90m24\u001b[39m s3    spermatocyte 3                         esg     0.308  0.046\u001b[4m5\u001b[24m \n",
      "\u001b[90m25\u001b[39m es    early elongation stage spermatid       esg     0.575  0.008\u001b[4m2\u001b[24m\u001b[4m9\u001b[24m\n",
      "\u001b[90m26\u001b[39m cs    cyst stem cell                         esg     0.334  0.037\u001b[4m5\u001b[24m \n",
      "\u001b[90m27\u001b[39m c1    early cyst cell 1                      esg     0.125  0.018\u001b[4m1\u001b[24m \n",
      "\u001b[90m28\u001b[39m c2    early cyst cell 2                      esg    -\u001b[31m0\u001b[39m\u001b[31m.\u001b[39m\u001b[31m393\u001b[39m  0.002\u001b[4m8\u001b[24m\u001b[4m3\u001b[24m\n",
      "\u001b[90m29\u001b[39m G*    GSC-like                               esg     2.26   0.389  \n",
      "\u001b[90m30\u001b[39m C*    CySC-like                              esg    -\u001b[31m6\u001b[39m\u001b[31m.\u001b[39m\u001b[31m11\u001b[39m   0.076\u001b[4m9\u001b[24m \n",
      "\u001b[90m31\u001b[39m sg    spermatogonium                         stg     2.34   0.682  \n",
      "\u001b[90m32\u001b[39m st    spermatogonium-spermatocyte transition stg     1.85   0.270  \n",
      "\u001b[90m33\u001b[39m s1    spermatocyte 1                         stg     0.340  0.030\u001b[4m7\u001b[24m \n",
      "\u001b[90m34\u001b[39m s3    spermatocyte 3                         stg    -\u001b[31m0\u001b[39m\u001b[31m.\u001b[39m\u001b[31m150\u001b[39m  0.032\u001b[4m0\u001b[24m \n",
      "\u001b[90m35\u001b[39m es    early elongation stage spermatid       stg     0.156  0.004\u001b[4m8\u001b[24m\u001b[4m9\u001b[24m\n",
      "\u001b[90m36\u001b[39m cs    cyst stem cell                         stg     1.59   0.352  \n",
      "\u001b[90m37\u001b[39m c1    early cyst cell 1                      stg     0.167  0.027\u001b[4m1\u001b[24m \n",
      "\u001b[90m38\u001b[39m c2    early cyst cell 2                      stg    -\u001b[31m0\u001b[39m\u001b[31m.\u001b[39m\u001b[31m145\u001b[39m  0.036\u001b[4m8\u001b[24m \n",
      "\u001b[90m39\u001b[39m G*    GSC-like                               stg     2.45   0.506  \n",
      "\u001b[90m40\u001b[39m C*    CySC-like                              stg     0.666  0.165  \n",
      "\u001b[90m41\u001b[39m sg    spermatogonium                         dany    1.05   0.062\u001b[4m8\u001b[24m \n",
      "\u001b[90m42\u001b[39m st    spermatogonium-spermatocyte transition dany    0.610  0.034\u001b[4m3\u001b[24m \n",
      "\u001b[90m43\u001b[39m s1    spermatocyte 1                         dany    1.92   0.510  \n",
      "\u001b[90m44\u001b[39m s3    spermatocyte 3                         dany    1.81   0.791  \n",
      "\u001b[90m45\u001b[39m es    early elongation stage spermatid       dany    1.28   0.042\u001b[4m9\u001b[24m \n",
      "\u001b[90m46\u001b[39m cs    cyst stem cell                         dany   \u001b[31mNA\u001b[39m      0      \n",
      "\u001b[90m47\u001b[39m c1    early cyst cell 1                      dany   \u001b[31mNA\u001b[39m      0      \n",
      "\u001b[90m48\u001b[39m c2    early cyst cell 2                      dany   \u001b[31mNA\u001b[39m      0      \n",
      "\u001b[90m49\u001b[39m G*    GSC-like                               dany    0.843  0.026\u001b[4m5\u001b[24m \n",
      "\u001b[90m50\u001b[39m C*    CySC-like                              dany  -\u001b[31m11\u001b[39m\u001b[31m.\u001b[39m\u001b[31m4\u001b[39m    0.002\u001b[4m7\u001b[24m\u001b[4m8\u001b[24m\n",
      "\u001b[90m# ℹ 50 more rows\u001b[39m\n"
     ]
    }
   ],
   "source": [
    "annotations_take <- c(\n",
    "  sg = \"spermatogonium\",\n",
    "  st = \"spermatogonium-spermatocyte transition\",\n",
    "  s1 = \"spermatocyte 1\",\n",
    "  s3 = \"spermatocyte 3\",\n",
    "  es = \"early elongation stage spermatid\",\n",
    "  cs = \"cyst stem cell\",\n",
    "  c1 = \"early cyst cell 1\",\n",
    "  c2 = \"early cyst cell 2\"\n",
    ")\n",
    "targets::tar_load(Upd_cpm)\n",
    "print(\n",
    "  data <- bind_rows(\n",
    "    sapply(\n",
    "      genelist <- c(\"nos\", \"vas\", \"esg\", \"stg\", \"dany\", \"can\", \"comr\", \"zfh1\", \"tj\", \"eya\"),\n",
    "      \\(gene) rbind(\n",
    "        tibble(\n",
    "          name = names(annotations_take),\n",
    "          fullname = c(annotations_take),\n",
    "          gene,\n",
    "          logCPM = logCPM[gene[1], paste0(\"annotation\", fullname)],\n",
    "          percent = percentExpression[gene[1], fullname],\n",
    "        ),\n",
    "        tibble(\n",
    "          name = c(\"G*\", \"C*\"),\n",
    "          fullname = c(\"GSC-like\", \"CySC-like\"),\n",
    "          gene,\n",
    "          logCPM = log10(Upd_cpm[gene[1], 1:2]),\n",
    "          percent = percent_upd_tumor[gene[1], 1:2],\n",
    "        )\n",
    "      ),\n",
    "      simplify = FALSE\n",
    "    )\n",
    "  ) %>%\n",
    "    mutate(\n",
    "      name = name %>% factor(c(\"G*\", \"C*\", names(annotations_take))) %>% fct_relevel(\"C*\", after = 6L),\n",
    "    ),\n",
    "  n = 50\n",
    ")"
   ]
  },
  {
   "cell_type": "code",
   "execution_count": 63,
   "id": "a597934f",
   "metadata": {
    "vscode": {
     "languageId": "r"
    }
   },
   "outputs": [
    {
     "data": {
      "image/png": "[encoded data removed]",
      "text/plain": [
       "plot without title"
      ]
     },
     "metadata": {
      "image/png": {
       "height": 420,
       "width": 420
      }
     },
     "output_type": "display_data"
    }
   ],
   "source": [
    "library(cowplot)\n",
    "library(ggnewscale)\n",
    "library(ggplot2)\n",
    "ggplot(\n",
    "  data %>% group_by(gene) %>% mutate(Z = c(scale(logCPM)), gene = factor(gene, genelist)),\n",
    "  aes(name, gene, fill=Z, size=percent, color=ifelse(as.numeric(percent == 0), \"zero\", \"nonzero\"))\n",
    ") +\n",
    "  geom_point(shape=21) +\n",
    "  scale_fill_viridis_c(\"Z-score of logCPM\", na.value = \"#999999\") +\n",
    "  scale_size_continuous(\"Percent Expression\", limits = c(0, 1), labels = scales::percent, guide = guide_legend(override.aes = list(shape = 19))) +\n",
    "  scale_color_manual(values = c(nonzero = \"black\", zero = \"#999999\"), guide = guide_none()) +\n",
    "  # new_scale_fill() +\n",
    "  # geom_point(aes(fill = Class), data.frame(name=\"es\", gene=\"eya\", percent=0.5))\n",
    "  scale_y_discrete(\"Gene\", limits = rev) +\n",
    "  scale_x_discrete(\"Cell Type\") +\n",
    "  # annotate(\"segment\", 1.5, -Inf, xend=1.5, yend=Inf, linetype=\"dashed\", linewidth = 0.5 * 25.4 / 72) +\n",
    "  annotate(\"segment\", 6.5, -Inf, xend=6.5, yend=Inf, linetype=\"dashed\", linewidth = 0.5 * 25.4 / 72) +\n",
    "  annotate(\"segment\", -Inf, 3.5, xend=Inf, yend=3.5, linetype=\"dashed\", linewidth = 0.5 * 25.4 / 72) +\n",
    "  theme_cowplot() +\n",
    "  theme(aspect.ratio = 1)"
   ]
  },
  {
   "cell_type": "code",
   "execution_count": 64,
   "id": "8ebcaf54",
   "metadata": {
    "vscode": {
     "languageId": "r"
    }
   },
   "outputs": [
    {
     "data": {
      "text/html": [
       "<strong>png:</strong> 2"
      ],
      "text/latex": [
       "\\textbf{png:} 2"
      ],
      "text/markdown": [
       "**png:** 2"
      ],
      "text/plain": [
       "png \n",
       "  2 "
      ]
     },
     "metadata": {},
     "output_type": "display_data"
    }
   ],
   "source": [
    "library(Cairo)\n",
    "library(grid)\n",
    "CairoPDF(\"figure/snRNA_seq_Dot_Plot.pdf\", w=6, h=4.5)\n",
    "grid.draw(last_plot())\n",
    "dev.off()"
   ]
  },
  {
   "cell_type": "code",
   "execution_count": 22,
   "id": "54ca37c6",
   "metadata": {
    "vscode": {
     "languageId": "r"
    }
   },
   "outputs": [
    {
     "data": {
      "text/html": [
       "<style>\n",
       ".list-inline {list-style: none; margin:0; padding: 0}\n",
       ".list-inline>li {display: inline-block}\n",
       ".list-inline>li:not(:last-child)::after {content: \"\\00b7\"; padding: 0 .5ex}\n",
       "</style>\n",
       "<ol class=list-inline><li>'ann'</li><li>'anndata'</li><li>'annotation'</li><li>'annotations_take'</li><li>'batch'</li><li>'data'</li><li>'genelist'</li><li>'lm'</li><li>'logCPM'</li><li>'percent_upd_tumor'</li><li>'percentExpression'</li><li>'sce'</li><li>'summarized'</li><li>'Upd_cpm'</li><li>'Upd_decontX'</li><li>'upd_tumor'</li><li>'wt.counts'</li></ol>\n"
      ],
      "text/latex": [
       "\\begin{enumerate*}\n",
       "\\item 'ann'\n",
       "\\item 'anndata'\n",
       "\\item 'annotation'\n",
       "\\item 'annotations\\_take'\n",
       "\\item 'batch'\n",
       "\\item 'data'\n",
       "\\item 'genelist'\n",
       "\\item 'lm'\n",
       "\\item 'logCPM'\n",
       "\\item 'percent\\_upd\\_tumor'\n",
       "\\item 'percentExpression'\n",
       "\\item 'sce'\n",
       "\\item 'summarized'\n",
       "\\item 'Upd\\_cpm'\n",
       "\\item 'Upd\\_decontX'\n",
       "\\item 'upd\\_tumor'\n",
       "\\item 'wt.counts'\n",
       "\\end{enumerate*}\n"
      ],
      "text/markdown": [
       "1. 'ann'\n",
       "2. 'anndata'\n",
       "3. 'annotation'\n",
       "4. 'annotations_take'\n",
       "5. 'batch'\n",
       "6. 'data'\n",
       "7. 'genelist'\n",
       "8. 'lm'\n",
       "9. 'logCPM'\n",
       "10. 'percent_upd_tumor'\n",
       "11. 'percentExpression'\n",
       "12. 'sce'\n",
       "13. 'summarized'\n",
       "14. 'Upd_cpm'\n",
       "15. 'Upd_decontX'\n",
       "16. 'upd_tumor'\n",
       "17. 'wt.counts'\n",
       "\n",
       "\n"
      ],
      "text/plain": [
       " [1] \"ann\"               \"anndata\"           \"annotation\"       \n",
       " [4] \"annotations_take\"  \"batch\"             \"data\"             \n",
       " [7] \"genelist\"          \"lm\"                \"logCPM\"           \n",
       "[10] \"percent_upd_tumor\" \"percentExpression\" \"sce\"              \n",
       "[13] \"summarized\"        \"Upd_cpm\"           \"Upd_decontX\"      \n",
       "[16] \"upd_tumor\"         \"wt.counts\"        "
      ]
     },
     "metadata": {},
     "output_type": "display_data"
    }
   ],
   "source": [
    "ls()"
   ]
  },
  {
   "cell_type": "code",
   "execution_count": 20,
   "id": "54959598",
   "metadata": {
    "vscode": {
     "languageId": "r"
    }
   },
   "outputs": [
    {
     "data": {
      "text/html": [
       "<pre class=language-r><code>function (..., list = character(), file = stop(\"'file' must be specified\"), \n",
       "<span style=white-space:pre-wrap>    ascii = FALSE, version = NULL, envir = parent.frame(), compress = isTRUE(!ascii), </span>\n",
       "<span style=white-space:pre-wrap>    compression_level, eval.promises = TRUE, precheck = TRUE) </span>\n",
       "NULL</code></pre>"
      ],
      "text/latex": [
       "\\begin{minted}{r}\n",
       "function (..., list = character(), file = stop(\"'file' must be specified\"), \n",
       "    ascii = FALSE, version = NULL, envir = parent.frame(), compress = isTRUE(!ascii), \n",
       "    compression\\_level, eval.promises = TRUE, precheck = TRUE) \n",
       "NULL\n",
       "\\end{minted}"
      ],
      "text/markdown": [
       "```r\n",
       "function (..., list = character(), file = stop(\"'file' must be specified\"), \n",
       "    ascii = FALSE, version = NULL, envir = parent.frame(), compress = isTRUE(!ascii), \n",
       "    compression_level, eval.promises = TRUE, precheck = TRUE) \n",
       "NULL\n",
       "```"
      ],
      "text/plain": [
       "function (..., list = character(), file = stop(\"'file' must be specified\"), \n",
       "    ascii = FALSE, version = NULL, envir = parent.frame(), compress = isTRUE(!ascii), \n",
       "    compression_level, eval.promises = TRUE, precheck = TRUE) \n",
       "NULL"
      ]
     },
     "metadata": {},
     "output_type": "display_data"
    }
   ],
   "source": [
    "args(save)"
   ]
  },
  {
   "cell_type": "code",
   "execution_count": 21,
   "id": "0b1260c9",
   "metadata": {
    "vscode": {
     "languageId": "r"
    }
   },
   "outputs": [],
   "source": [
    "save(logCPM, percentExpression, Upd_cpm, percent_upd_tumor, file = \"illustrations/snRNA_seq_Dot_Plot_Data.rda\")"
   ]
  }
 ],
 "metadata": {
  "kernelspec": {
   "display_name": "R",
   "language": "R",
   "name": "ir"
  },
  "language_info": {
   "codemirror_mode": "r",
   "file_extension": ".r",
   "mimetype": "text/x-r-source",
   "name": "R",
   "pygments_lexer": "r",
   "version": "4.3.3"
  }
 },
 "nbformat": 4,
 "nbformat_minor": 5
}
