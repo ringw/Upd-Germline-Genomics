{
 "cells": [
  {
   "cell_type": "code",
   "execution_count": 28,
   "metadata": {
    "vscode": {
     "languageId": "r"
    }
   },
   "outputs": [],
   "source": [
    "library(dplyr)\n",
    "library(forcats)\n",
    "library(ggplot2)\n",
    "library(reshape2)"
   ]
  },
  {
   "cell_type": "code",
   "execution_count": 15,
   "metadata": {
    "vscode": {
     "languageId": "r"
    }
   },
   "outputs": [],
   "source": [
    "read_idx_mapped_reads_per_kb <- \\(filename) {\n",
    "  results <- processx::run(\n",
    "    \"samtools\", c(\"idxstats\", filename)\n",
    "  )\n",
    "  tbl <- read.table(textConnection(results$stdout))\n",
    "  tbl %>%\n",
    "    mutate(\n",
    "      group = V1 %>%\n",
    "        fct_relabel(\\(n) n %>% replace(!grepl(\"^(2L|2R|3L|3R|4|X|Y)$\", n), \"scaffolds\")) %>%\n",
    "        fct_relevel(\"scaffolds\", after = 7L)\n",
    "    ) %>%\n",
    "    group_by(group) %>%\n",
    "    summarise(reads_per_kb = sum(V3) / sum(V2) * 1000) %>%\n",
    "    pull(reads_per_kb, group)\n",
    "}"
   ]
  },
  {
   "cell_type": "code",
   "execution_count": 21,
   "metadata": {
    "vscode": {
     "languageId": "r"
    }
   },
   "outputs": [
    {
     "data": {
      "text/html": [
       "<table class=\"dataframe\">\n",
       "<caption>A matrix: 8 × 4 of type dbl</caption>\n",
       "<thead>\n",
       "\t<tr><th></th><th scope=col>E</th><th scope=col>EM</th><th scope=col>ML</th><th scope=col>L</th></tr>\n",
       "</thead>\n",
       "<tbody>\n",
       "\t<tr><th scope=row>2L</th><td>39.964596</td><td>19.146913</td><td>7.4060829</td><td>8.904528</td></tr>\n",
       "\t<tr><th scope=row>2R</th><td>40.675213</td><td>18.236848</td><td>6.5376841</td><td>8.054475</td></tr>\n",
       "\t<tr><th scope=row>3L</th><td>38.190282</td><td>18.602322</td><td>7.0703627</td><td>8.454930</td></tr>\n",
       "\t<tr><th scope=row>3R</th><td>40.079483</td><td>18.949709</td><td>7.2747153</td><td>8.890101</td></tr>\n",
       "\t<tr><th scope=row>4</th><td>75.313898</td><td>14.638043</td><td>4.6690566</td><td>6.497885</td></tr>\n",
       "\t<tr><th scope=row>X</th><td>26.470046</td><td> 9.766963</td><td>3.6036243</td><td>4.714711</td></tr>\n",
       "\t<tr><th scope=row>Y</th><td> 2.325656</td><td> 1.713225</td><td>0.9877699</td><td>1.724269</td></tr>\n",
       "\t<tr><th scope=row>scaffolds</th><td> 6.083805</td><td> 3.401239</td><td>1.8920234</td><td>4.004100</td></tr>\n",
       "</tbody>\n",
       "</table>\n"
      ],
      "text/latex": [
       "A matrix: 8 × 4 of type dbl\n",
       "\\begin{tabular}{r|llll}\n",
       "  & E & EM & ML & L\\\\\n",
       "\\hline\n",
       "\t2L & 39.964596 & 19.146913 & 7.4060829 & 8.904528\\\\\n",
       "\t2R & 40.675213 & 18.236848 & 6.5376841 & 8.054475\\\\\n",
       "\t3L & 38.190282 & 18.602322 & 7.0703627 & 8.454930\\\\\n",
       "\t3R & 40.079483 & 18.949709 & 7.2747153 & 8.890101\\\\\n",
       "\t4 & 75.313898 & 14.638043 & 4.6690566 & 6.497885\\\\\n",
       "\tX & 26.470046 &  9.766963 & 3.6036243 & 4.714711\\\\\n",
       "\tY &  2.325656 &  1.713225 & 0.9877699 & 1.724269\\\\\n",
       "\tscaffolds &  6.083805 &  3.401239 & 1.8920234 & 4.004100\\\\\n",
       "\\end{tabular}\n"
      ],
      "text/markdown": [
       "\n",
       "A matrix: 8 × 4 of type dbl\n",
       "\n",
       "| <!--/--> | E | EM | ML | L |\n",
       "|---|---|---|---|---|\n",
       "| 2L | 39.964596 | 19.146913 | 7.4060829 | 8.904528 |\n",
       "| 2R | 40.675213 | 18.236848 | 6.5376841 | 8.054475 |\n",
       "| 3L | 38.190282 | 18.602322 | 7.0703627 | 8.454930 |\n",
       "| 3R | 40.079483 | 18.949709 | 7.2747153 | 8.890101 |\n",
       "| 4 | 75.313898 | 14.638043 | 4.6690566 | 6.497885 |\n",
       "| X | 26.470046 |  9.766963 | 3.6036243 | 4.714711 |\n",
       "| Y |  2.325656 |  1.713225 | 0.9877699 | 1.724269 |\n",
       "| scaffolds |  6.083805 |  3.401239 | 1.8920234 | 4.004100 |\n",
       "\n"
      ],
      "text/plain": [
       "          E         EM        ML        L       \n",
       "2L        39.964596 19.146913 7.4060829 8.904528\n",
       "2R        40.675213 18.236848 6.5376841 8.054475\n",
       "3L        38.190282 18.602322 7.0703627 8.454930\n",
       "3R        40.079483 18.949709 7.2747153 8.890101\n",
       "4         75.313898 14.638043 4.6690566 6.497885\n",
       "X         26.470046  9.766963 3.6036243 4.714711\n",
       "Y          2.325656  1.713225 0.9877699 1.724269\n",
       "scaffolds  6.083805  3.401239 1.8920234 4.004100"
      ]
     },
     "metadata": {},
     "output_type": "display_data"
    }
   ],
   "source": [
    "nos_stats <- cbind(\n",
    "  E = rowMeans(\n",
    "    cbind(\n",
    "      read_idx_mapped_reads_per_kb(\"bam/nos_E2.bam\"),\n",
    "      read_idx_mapped_reads_per_kb(\"bam/nos_E4.bam\")\n",
    "    )\n",
    "  ),\n",
    "  EM = rowMeans(\n",
    "    cbind(\n",
    "      read_idx_mapped_reads_per_kb(\"bam/nos_G2.bam\"),\n",
    "      read_idx_mapped_reads_per_kb(\"bam/nos_G4.bam\")\n",
    "    )\n",
    "  ),\n",
    "  ML = rowMeans(\n",
    "    cbind(\n",
    "      read_idx_mapped_reads_per_kb(\"bam/nos_J2.bam\"),\n",
    "      read_idx_mapped_reads_per_kb(\"bam/nos_J4.bam\")\n",
    "    )\n",
    "  ),\n",
    "  L = rowMeans(\n",
    "    cbind(\n",
    "      read_idx_mapped_reads_per_kb(\"bam/nos_L2.bam\"),\n",
    "      read_idx_mapped_reads_per_kb(\"bam/nos_L4.bam\")\n",
    "    )\n",
    "  )\n",
    ")\n",
    "nos_stats"
   ]
  },
  {
   "cell_type": "code",
   "execution_count": 20,
   "metadata": {
    "vscode": {
     "languageId": "r"
    }
   },
   "outputs": [
    {
     "data": {
      "text/html": [
       "<table class=\"dataframe\">\n",
       "<caption>A matrix: 8 × 4 of type dbl</caption>\n",
       "<thead>\n",
       "\t<tr><th></th><th scope=col>E</th><th scope=col>EM</th><th scope=col>ML</th><th scope=col>L</th></tr>\n",
       "</thead>\n",
       "<tbody>\n",
       "\t<tr><th scope=row>2L</th><td>25.643739</td><td>15.649635</td><td>41.788681</td><td>46.500761</td></tr>\n",
       "\t<tr><th scope=row>2R</th><td>24.969929</td><td>14.302563</td><td>39.635802</td><td>40.221026</td></tr>\n",
       "\t<tr><th scope=row>3L</th><td>24.826000</td><td>15.041963</td><td>37.356546</td><td>41.826948</td></tr>\n",
       "\t<tr><th scope=row>3R</th><td>24.928824</td><td>15.601822</td><td>39.794814</td><td>45.526401</td></tr>\n",
       "\t<tr><th scope=row>4</th><td>29.547574</td><td>13.546161</td><td>47.445686</td><td>37.852405</td></tr>\n",
       "\t<tr><th scope=row>X</th><td>15.297122</td><td> 8.490812</td><td>19.498459</td><td>20.047662</td></tr>\n",
       "\t<tr><th scope=row>Y</th><td> 1.541848</td><td> 1.933002</td><td> 1.451729</td><td> 2.664729</td></tr>\n",
       "\t<tr><th scope=row>scaffolds</th><td> 3.228126</td><td> 3.880679</td><td> 2.980394</td><td> 5.827008</td></tr>\n",
       "</tbody>\n",
       "</table>\n"
      ],
      "text/latex": [
       "A matrix: 8 × 4 of type dbl\n",
       "\\begin{tabular}{r|llll}\n",
       "  & E & EM & ML & L\\\\\n",
       "\\hline\n",
       "\t2L & 25.643739 & 15.649635 & 41.788681 & 46.500761\\\\\n",
       "\t2R & 24.969929 & 14.302563 & 39.635802 & 40.221026\\\\\n",
       "\t3L & 24.826000 & 15.041963 & 37.356546 & 41.826948\\\\\n",
       "\t3R & 24.928824 & 15.601822 & 39.794814 & 45.526401\\\\\n",
       "\t4 & 29.547574 & 13.546161 & 47.445686 & 37.852405\\\\\n",
       "\tX & 15.297122 &  8.490812 & 19.498459 & 20.047662\\\\\n",
       "\tY &  1.541848 &  1.933002 &  1.451729 &  2.664729\\\\\n",
       "\tscaffolds &  3.228126 &  3.880679 &  2.980394 &  5.827008\\\\\n",
       "\\end{tabular}\n"
      ],
      "text/markdown": [
       "\n",
       "A matrix: 8 × 4 of type dbl\n",
       "\n",
       "| <!--/--> | E | EM | ML | L |\n",
       "|---|---|---|---|---|\n",
       "| 2L | 25.643739 | 15.649635 | 41.788681 | 46.500761 |\n",
       "| 2R | 24.969929 | 14.302563 | 39.635802 | 40.221026 |\n",
       "| 3L | 24.826000 | 15.041963 | 37.356546 | 41.826948 |\n",
       "| 3R | 24.928824 | 15.601822 | 39.794814 | 45.526401 |\n",
       "| 4 | 29.547574 | 13.546161 | 47.445686 | 37.852405 |\n",
       "| X | 15.297122 |  8.490812 | 19.498459 | 20.047662 |\n",
       "| Y |  1.541848 |  1.933002 |  1.451729 |  2.664729 |\n",
       "| scaffolds |  3.228126 |  3.880679 |  2.980394 |  5.827008 |\n",
       "\n"
      ],
      "text/plain": [
       "          E         EM        ML        L        \n",
       "2L        25.643739 15.649635 41.788681 46.500761\n",
       "2R        24.969929 14.302563 39.635802 40.221026\n",
       "3L        24.826000 15.041963 37.356546 41.826948\n",
       "3R        24.928824 15.601822 39.794814 45.526401\n",
       "4         29.547574 13.546161 47.445686 37.852405\n",
       "X         15.297122  8.490812 19.498459 20.047662\n",
       "Y          1.541848  1.933002  1.451729  2.664729\n",
       "scaffolds  3.228126  3.880679  2.980394  5.827008"
      ]
     },
     "metadata": {},
     "output_type": "display_data"
    }
   ],
   "source": [
    "tj_stats <- cbind(\n",
    "  E = rowMeans(\n",
    "    cbind(\n",
    "      read_idx_mapped_reads_per_kb(\"bam/tj_E1.bam\"),\n",
    "      read_idx_mapped_reads_per_kb(\"bam/tj_E2.bam\")\n",
    "    )\n",
    "  ),\n",
    "  EM = read_idx_mapped_reads_per_kb(\"bam/tj_G2.bam\"),\n",
    "  ML = read_idx_mapped_reads_per_kb(\"bam/tj_J2.bam\"),\n",
    "  L = rowMeans(\n",
    "    cbind(\n",
    "      read_idx_mapped_reads_per_kb(\"bam/tj_L1.bam\"),\n",
    "      read_idx_mapped_reads_per_kb(\"bam/tj_L2.bam\")\n",
    "    )\n",
    "  )\n",
    ")\n",
    "tj_stats"
   ]
  },
  {
   "cell_type": "code",
   "execution_count": 31,
   "metadata": {
    "vscode": {
     "languageId": "r"
    }
   },
   "outputs": [
    {
     "data": {
      "image/png": "[encoded data removed]",
      "text/plain": [
       "plot without title"
      ]
     },
     "metadata": {
      "image/png": {
       "height": 420,
       "width": 420
      }
     },
     "output_type": "display_data"
    }
   ],
   "source": [
    "melt(nos_stats, varnames = c(\"chr\", \"timing\")) %>%\n",
    "  mutate(chr = chr %>% fct_rev()) %>%\n",
    "  ggplot(aes(timing, value, fill=chr)) +\n",
    "          geom_bar(position=\"fill\", stat=\"identity\") +\n",
    "          scale_y_reverse(labels = scales::percent) +\n",
    "          scale_fill_manual(\n",
    "            values = c(hcl(seq(0, 330, length.out=8)[-8] + 100, 100, 65), \"#cccccc\") %>%\n",
    "              rev(),\n",
    "            breaks = rev\n",
    "          ) +\n",
    "          coord_cartesian(expand=F) +\n",
    "          theme(\n",
    "            aspect.ratio = 1,\n",
    "            panel.grid.major.y = element_blank(),\n",
    "            panel.grid.minor.y = element_blank()\n",
    "          )"
   ]
  },
  {
   "cell_type": "code",
   "execution_count": 32,
   "metadata": {
    "vscode": {
     "languageId": "r"
    }
   },
   "outputs": [
    {
     "data": {
      "image/png": "[encoded data removed]",
      "text/plain": [
       "plot without title"
      ]
     },
     "metadata": {
      "image/png": {
       "height": 420,
       "width": 420
      }
     },
     "output_type": "display_data"
    }
   ],
   "source": [
    "melt(tj_stats, varnames = c(\"chr\", \"timing\")) %>%\n",
    "  mutate(chr = chr %>% fct_rev()) %>%\n",
    "  ggplot(aes(timing, value, fill=chr)) +\n",
    "          geom_bar(position=\"fill\", stat=\"identity\") +\n",
    "          scale_y_reverse(labels = scales::percent) +\n",
    "          scale_fill_manual(\n",
    "            values = c(hcl(seq(0, 330, length.out=8)[-8] + 100, 100, 65), \"#cccccc\") %>%\n",
    "              rev(),\n",
    "            breaks = rev\n",
    "          ) +\n",
    "          coord_cartesian(expand=F) +\n",
    "          theme(\n",
    "            aspect.ratio = 1,\n",
    "            panel.grid.major.y = element_blank(),\n",
    "            panel.grid.minor.y = element_blank()\n",
    "          )"
   ]
  },
  {
   "cell_type": "code",
   "execution_count": null,
   "metadata": {
    "vscode": {
     "languageId": "r"
    }
   },
   "outputs": [],
   "source": []
  }
 ],
 "metadata": {
  "kernelspec": {
   "display_name": "R",
   "language": "R",
   "name": "ir"
  },
  "language_info": {
   "codemirror_mode": "r",
   "file_extension": ".r",
   "mimetype": "text/x-r-source",
   "name": "R",
   "pygments_lexer": "r",
   "version": "4.3.3"
  }
 },
 "nbformat": 4,
 "nbformat_minor": 2
}
